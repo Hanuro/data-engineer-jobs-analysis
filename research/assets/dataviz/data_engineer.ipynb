{
 "cells": [
  {
   "cell_type": "markdown",
   "metadata": {},
   "source": [
    "# Imports"
   ]
  },
  {
   "cell_type": "code",
   "execution_count": 206,
   "metadata": {},
   "outputs": [],
   "source": [
    "import pandas as pd\n",
    "import numpy as np\n",
    "import plotly.express as px\n",
    "import seaborn as sns\n",
    "import matplotlib.pyplot as plt\n",
    "import missingno\n",
    "from sklearn.impute import KNNImputer\n",
    "from scripts import loctocord"
   ]
  },
  {
   "cell_type": "markdown",
   "metadata": {},
   "source": [
    "# Pre-processing"
   ]
  },
  {
   "cell_type": "code",
   "execution_count": 207,
   "outputs": [],
   "source": [
    "loc_generator_df = pd.read_csv('dataset/world_country_and_usa_states_latitude_and_longitude_values.csv')"
   ],
   "metadata": {
    "collapsed": false
   }
  },
  {
   "cell_type": "code",
   "execution_count": 208,
   "outputs": [
    {
     "data": {
      "text/plain": "    country_code   latitude  longitude               country usa_state_code  \\\n0             AD  42.546245   1.601554               Andorra             AK   \n1             AE  23.424076  53.847818  United Arab Emirates             AL   \n2             AF  33.939110  67.709953           Afghanistan             AR   \n3             AG  17.060816 -61.796428   Antigua and Barbuda             AZ   \n4             AI  18.220554 -63.068615              Anguilla             CA   \n..           ...        ...        ...                   ...            ...   \n240           YE  15.552727  48.516388                 Yemen            NaN   \n241           YT -12.827500  45.166244               Mayotte            NaN   \n242           ZA -30.559482  22.937506          South Africa            NaN   \n243           ZM -13.133897  27.849332                Zambia            NaN   \n244           ZW -19.015438  29.154857              Zimbabwe            NaN   \n\n     usa_state_latitude  usa_state_longitude   usa_state  \n0             63.588753          -154.493062      Alaska  \n1             32.318231           -86.902298     Alabama  \n2             35.201050           -91.831833    Arkansas  \n3             34.048928          -111.093731     Arizona  \n4             36.778261          -119.417932  California  \n..                  ...                  ...         ...  \n240                 NaN                  NaN         NaN  \n241                 NaN                  NaN         NaN  \n242                 NaN                  NaN         NaN  \n243                 NaN                  NaN         NaN  \n244                 NaN                  NaN         NaN  \n\n[245 rows x 8 columns]",
      "text/html": "<div>\n<style scoped>\n    .dataframe tbody tr th:only-of-type {\n        vertical-align: middle;\n    }\n\n    .dataframe tbody tr th {\n        vertical-align: top;\n    }\n\n    .dataframe thead th {\n        text-align: right;\n    }\n</style>\n<table border=\"1\" class=\"dataframe\">\n  <thead>\n    <tr style=\"text-align: right;\">\n      <th></th>\n      <th>country_code</th>\n      <th>latitude</th>\n      <th>longitude</th>\n      <th>country</th>\n      <th>usa_state_code</th>\n      <th>usa_state_latitude</th>\n      <th>usa_state_longitude</th>\n      <th>usa_state</th>\n    </tr>\n  </thead>\n  <tbody>\n    <tr>\n      <th>0</th>\n      <td>AD</td>\n      <td>42.546245</td>\n      <td>1.601554</td>\n      <td>Andorra</td>\n      <td>AK</td>\n      <td>63.588753</td>\n      <td>-154.493062</td>\n      <td>Alaska</td>\n    </tr>\n    <tr>\n      <th>1</th>\n      <td>AE</td>\n      <td>23.424076</td>\n      <td>53.847818</td>\n      <td>United Arab Emirates</td>\n      <td>AL</td>\n      <td>32.318231</td>\n      <td>-86.902298</td>\n      <td>Alabama</td>\n    </tr>\n    <tr>\n      <th>2</th>\n      <td>AF</td>\n      <td>33.939110</td>\n      <td>67.709953</td>\n      <td>Afghanistan</td>\n      <td>AR</td>\n      <td>35.201050</td>\n      <td>-91.831833</td>\n      <td>Arkansas</td>\n    </tr>\n    <tr>\n      <th>3</th>\n      <td>AG</td>\n      <td>17.060816</td>\n      <td>-61.796428</td>\n      <td>Antigua and Barbuda</td>\n      <td>AZ</td>\n      <td>34.048928</td>\n      <td>-111.093731</td>\n      <td>Arizona</td>\n    </tr>\n    <tr>\n      <th>4</th>\n      <td>AI</td>\n      <td>18.220554</td>\n      <td>-63.068615</td>\n      <td>Anguilla</td>\n      <td>CA</td>\n      <td>36.778261</td>\n      <td>-119.417932</td>\n      <td>California</td>\n    </tr>\n    <tr>\n      <th>...</th>\n      <td>...</td>\n      <td>...</td>\n      <td>...</td>\n      <td>...</td>\n      <td>...</td>\n      <td>...</td>\n      <td>...</td>\n      <td>...</td>\n    </tr>\n    <tr>\n      <th>240</th>\n      <td>YE</td>\n      <td>15.552727</td>\n      <td>48.516388</td>\n      <td>Yemen</td>\n      <td>NaN</td>\n      <td>NaN</td>\n      <td>NaN</td>\n      <td>NaN</td>\n    </tr>\n    <tr>\n      <th>241</th>\n      <td>YT</td>\n      <td>-12.827500</td>\n      <td>45.166244</td>\n      <td>Mayotte</td>\n      <td>NaN</td>\n      <td>NaN</td>\n      <td>NaN</td>\n      <td>NaN</td>\n    </tr>\n    <tr>\n      <th>242</th>\n      <td>ZA</td>\n      <td>-30.559482</td>\n      <td>22.937506</td>\n      <td>South Africa</td>\n      <td>NaN</td>\n      <td>NaN</td>\n      <td>NaN</td>\n      <td>NaN</td>\n    </tr>\n    <tr>\n      <th>243</th>\n      <td>ZM</td>\n      <td>-13.133897</td>\n      <td>27.849332</td>\n      <td>Zambia</td>\n      <td>NaN</td>\n      <td>NaN</td>\n      <td>NaN</td>\n      <td>NaN</td>\n    </tr>\n    <tr>\n      <th>244</th>\n      <td>ZW</td>\n      <td>-19.015438</td>\n      <td>29.154857</td>\n      <td>Zimbabwe</td>\n      <td>NaN</td>\n      <td>NaN</td>\n      <td>NaN</td>\n      <td>NaN</td>\n    </tr>\n  </tbody>\n</table>\n<p>245 rows × 8 columns</p>\n</div>"
     },
     "execution_count": 208,
     "metadata": {},
     "output_type": "execute_result"
    }
   ],
   "source": [
    "loc_generator_df"
   ],
   "metadata": {
    "collapsed": false
   }
  },
  {
   "cell_type": "code",
   "execution_count": 209,
   "outputs": [],
   "source": [
    "loc_generator_df = loc_generator_df.drop(columns = [\"country_code\",\"usa_state\",\"country\",\"latitude\",\"longitude\"])"
   ],
   "metadata": {
    "collapsed": false
   }
  },
  {
   "cell_type": "code",
   "execution_count": 210,
   "metadata": {},
   "outputs": [
    {
     "data": {
      "text/plain": "                                           Job Title  \\\n0                                      Data Engineer   \n1  Senior Data Engineer (Healthcare Domain experi...   \n2                                     Data Engineers   \n3                      Client Trade Support Engineer   \n4                                      Data Engineer   \n\n               Salary Estimate  \\\n0  $80K-$150K (Glassdoor est.)   \n1  $80K-$150K (Glassdoor est.)   \n2  $80K-$150K (Glassdoor est.)   \n3  $80K-$150K (Glassdoor est.)   \n4  $80K-$150K (Glassdoor est.)   \n\n                                     Job Description  Rating  \\\n0  Company Description\\r\\nSagence is a management...     4.5   \n1  Key Responsibilities\\r\\n\\r\\n- Architect, build...     3.4   \n2  Overview\\r\\n\\r\\nJob description\\r\\n\\r\\nPositio...     5.0   \n3  About the Position\\r\\n\\r\\n\\r\\nThis position wi...     4.8   \n4  Data Engineer\\r\\n\\r\\nJob Details\\r\\nLevel\\r\\nE...     3.7   \n\n                     Company Name      Location      Headquarters  \\\n0                  Sagence\\r\\n4.5  New York, NY       Chicago, IL   \n1   Enterprise Integration\\r\\n3.4  New York, NY  Jacksonville, FL   \n2     Maestro Technologies\\r\\n5.0  New York, NY       Trenton, NJ   \n3              Jane Street\\r\\n4.8  New York, NY      New York, NY   \n4  GNY Insurance Companies\\r\\n3.7  New York, NY      New York, NY   \n\n                    Size  Founded  Type of ownership  \\\n0      1 to 50 employees     2009  Company - Private   \n1    51 to 200 employees     1998  Company - Private   \n2    51 to 200 employees     2003  Company - Private   \n3  501 to 1000 employees     2000  Company - Private   \n4   201 to 500 employees     1914  Company - Private   \n\n                                Industry                  Sector  \\\n0                             Consulting       Business Services   \n1                            IT Services  Information Technology   \n2                            IT Services  Information Technology   \n3  Investment Banking & Asset Management                 Finance   \n4                     Insurance Carriers               Insurance   \n\n                      Revenue                       Competitors Easy Apply  \n0    $10 to $25 million (USD)               WCI Consulting, PwC         -1  \n1    $25 to $50 million (USD)                                -1         -1  \n2     $5 to $10 million (USD)                                -1         -1  \n3    Unknown / Non-Applicable                                -1         -1  \n4  $100 to $500 million (USD)  Travelers, Chubb, Crum & Forster       True  ",
      "text/html": "<div>\n<style scoped>\n    .dataframe tbody tr th:only-of-type {\n        vertical-align: middle;\n    }\n\n    .dataframe tbody tr th {\n        vertical-align: top;\n    }\n\n    .dataframe thead th {\n        text-align: right;\n    }\n</style>\n<table border=\"1\" class=\"dataframe\">\n  <thead>\n    <tr style=\"text-align: right;\">\n      <th></th>\n      <th>Job Title</th>\n      <th>Salary Estimate</th>\n      <th>Job Description</th>\n      <th>Rating</th>\n      <th>Company Name</th>\n      <th>Location</th>\n      <th>Headquarters</th>\n      <th>Size</th>\n      <th>Founded</th>\n      <th>Type of ownership</th>\n      <th>Industry</th>\n      <th>Sector</th>\n      <th>Revenue</th>\n      <th>Competitors</th>\n      <th>Easy Apply</th>\n    </tr>\n  </thead>\n  <tbody>\n    <tr>\n      <th>0</th>\n      <td>Data Engineer</td>\n      <td>$80K-$150K (Glassdoor est.)</td>\n      <td>Company Description\\r\\nSagence is a management...</td>\n      <td>4.5</td>\n      <td>Sagence\\r\\n4.5</td>\n      <td>New York, NY</td>\n      <td>Chicago, IL</td>\n      <td>1 to 50 employees</td>\n      <td>2009</td>\n      <td>Company - Private</td>\n      <td>Consulting</td>\n      <td>Business Services</td>\n      <td>$10 to $25 million (USD)</td>\n      <td>WCI Consulting, PwC</td>\n      <td>-1</td>\n    </tr>\n    <tr>\n      <th>1</th>\n      <td>Senior Data Engineer (Healthcare Domain experi...</td>\n      <td>$80K-$150K (Glassdoor est.)</td>\n      <td>Key Responsibilities\\r\\n\\r\\n- Architect, build...</td>\n      <td>3.4</td>\n      <td>Enterprise Integration\\r\\n3.4</td>\n      <td>New York, NY</td>\n      <td>Jacksonville, FL</td>\n      <td>51 to 200 employees</td>\n      <td>1998</td>\n      <td>Company - Private</td>\n      <td>IT Services</td>\n      <td>Information Technology</td>\n      <td>$25 to $50 million (USD)</td>\n      <td>-1</td>\n      <td>-1</td>\n    </tr>\n    <tr>\n      <th>2</th>\n      <td>Data Engineers</td>\n      <td>$80K-$150K (Glassdoor est.)</td>\n      <td>Overview\\r\\n\\r\\nJob description\\r\\n\\r\\nPositio...</td>\n      <td>5.0</td>\n      <td>Maestro Technologies\\r\\n5.0</td>\n      <td>New York, NY</td>\n      <td>Trenton, NJ</td>\n      <td>51 to 200 employees</td>\n      <td>2003</td>\n      <td>Company - Private</td>\n      <td>IT Services</td>\n      <td>Information Technology</td>\n      <td>$5 to $10 million (USD)</td>\n      <td>-1</td>\n      <td>-1</td>\n    </tr>\n    <tr>\n      <th>3</th>\n      <td>Client Trade Support Engineer</td>\n      <td>$80K-$150K (Glassdoor est.)</td>\n      <td>About the Position\\r\\n\\r\\n\\r\\nThis position wi...</td>\n      <td>4.8</td>\n      <td>Jane Street\\r\\n4.8</td>\n      <td>New York, NY</td>\n      <td>New York, NY</td>\n      <td>501 to 1000 employees</td>\n      <td>2000</td>\n      <td>Company - Private</td>\n      <td>Investment Banking &amp; Asset Management</td>\n      <td>Finance</td>\n      <td>Unknown / Non-Applicable</td>\n      <td>-1</td>\n      <td>-1</td>\n    </tr>\n    <tr>\n      <th>4</th>\n      <td>Data Engineer</td>\n      <td>$80K-$150K (Glassdoor est.)</td>\n      <td>Data Engineer\\r\\n\\r\\nJob Details\\r\\nLevel\\r\\nE...</td>\n      <td>3.7</td>\n      <td>GNY Insurance Companies\\r\\n3.7</td>\n      <td>New York, NY</td>\n      <td>New York, NY</td>\n      <td>201 to 500 employees</td>\n      <td>1914</td>\n      <td>Company - Private</td>\n      <td>Insurance Carriers</td>\n      <td>Insurance</td>\n      <td>$100 to $500 million (USD)</td>\n      <td>Travelers, Chubb, Crum &amp; Forster</td>\n      <td>True</td>\n    </tr>\n  </tbody>\n</table>\n</div>"
     },
     "execution_count": 210,
     "metadata": {},
     "output_type": "execute_result"
    }
   ],
   "source": [
    "df = pd.read_csv(\"dataset/DataEngineer.csv\")\n",
    "df.head()"
   ]
  },
  {
   "cell_type": "code",
   "execution_count": 211,
   "outputs": [],
   "source": [
    "df[['City','State']] = df[\"Location\"].str.split(\",\",expand=True)\n",
    "df = df[~df[\"State\"].str.contains(\"United Kingdom\")] # Removing United Kingdom from state!"
   ],
   "metadata": {
    "collapsed": false
   }
  },
  {
   "cell_type": "code",
   "execution_count": 212,
   "metadata": {},
   "outputs": [
    {
     "data": {
      "text/plain": "Index(['Job Title', 'Salary Estimate', 'Job Description', 'Rating',\n       'Company Name', 'Location', 'Headquarters', 'Size', 'Founded',\n       'Type of ownership', 'Industry', 'Sector', 'Revenue', 'Competitors',\n       'Easy Apply', 'City', 'State'],\n      dtype='object')"
     },
     "execution_count": 212,
     "metadata": {},
     "output_type": "execute_result"
    }
   ],
   "source": [
    "df.columns"
   ]
  },
  {
   "cell_type": "code",
   "execution_count": 213,
   "metadata": {},
   "outputs": [],
   "source": [
    "df.replace('-1', np.nan, inplace=True)\n",
    "df.replace(-1, np.nan, inplace=True)\n",
    "df.replace('Unknown', np.nan, inplace=True)"
   ]
  },
  {
   "cell_type": "code",
   "execution_count": 214,
   "metadata": {},
   "outputs": [
    {
     "data": {
      "text/plain": "Job Title            0.000000\nSalary Estimate      0.000000\nJob Description      0.000000\nRating               0.092563\nCompany Name         0.000000\nLocation             0.000000\nHeadquarters         0.049051\nSize                 0.071994\nFounded              0.225870\nType of ownership    0.058940\nIndustry             0.149525\nSector               0.148339\nRevenue              0.047073\nCompetitors          0.691851\nEasy Apply           0.942247\nCity                 0.000000\nState                0.000000\ndtype: float64"
     },
     "execution_count": 214,
     "metadata": {},
     "output_type": "execute_result"
    }
   ],
   "source": [
    "df.isnull().mean()"
   ]
  },
  {
   "cell_type": "code",
   "execution_count": 215,
   "metadata": {},
   "outputs": [
    {
     "data": {
      "text/plain": "                                              Job Title  \\\n0                                         Data Engineer   \n1     Senior Data Engineer (Healthcare Domain experi...   \n2                                        Data Engineers   \n3                         Client Trade Support Engineer   \n4                                         Data Engineer   \n...                                                 ...   \n2523                                     Cloud Engineer   \n2524                                Electrical Engineer   \n2525                              Sr. Big Data Engineer   \n2526                     Senior Big Data / ETL Engineer   \n2527                                     Cloud Engineer   \n\n                  Salary Estimate  \\\n0     $80K-$150K (Glassdoor est.)   \n1     $80K-$150K (Glassdoor est.)   \n2     $80K-$150K (Glassdoor est.)   \n3     $80K-$150K (Glassdoor est.)   \n4     $80K-$150K (Glassdoor est.)   \n...                           ...   \n2523  $76K-$128K (Glassdoor est.)   \n2524  $76K-$128K (Glassdoor est.)   \n2525  $76K-$128K (Glassdoor est.)   \n2526  $76K-$128K (Glassdoor est.)   \n2527  $76K-$128K (Glassdoor est.)   \n\n                                        Job Description  Rating  \\\n0     Company Description Sagence is a management ad...     4.5   \n1     Key Responsibilities  - Architect, build, and ...     3.4   \n2     Overview  Job description  Position Overview: ...     5.0   \n3     About the Position   This position will suppor...     4.8   \n4     Data Engineer  Job Details Level Experienced J...     3.7   \n...                                                 ...     ...   \n2523  The Expertise You Have Proven expertise in dev...     4.5   \n2524  Lockheed Martin is seeking a Circuit and FPGA ...     2.9   \n2525  Posting Title Principal Data Engineer (Contrac...     3.7   \n2526  Your Opportunity  Charles Schwab & Co., Inc is...     3.5   \n2527  Cloud Engineer Westlake, TX 6+ months Descript...     3.6   \n\n                                  Company Name        Location  \\\n0                                  Sagence 4.5    New York, NY   \n1                   Enterprise Integration 3.4    New York, NY   \n2                     Maestro Technologies 5.0    New York, NY   \n3                              Jane Street 4.8    New York, NY   \n4                  GNY Insurance Companies 3.7    New York, NY   \n...                                        ...             ...   \n2523                            PMG Global 4.5    Westlake, TX   \n2524            Albin Engineering Services 2.9  Fort Worth, TX   \n2525  Cincinnati Bell Technology Solutions 3.7      Irving, TX   \n2526                                Schwab 3.5    Westlake, TX   \n2527        SPECTRAFORCE TECHNOLOGIES Inc. 3.6    Westlake, TX   \n\n             Headquarters                   Size  Founded Type of ownership  \\\n0             Chicago, IL      1 to 50 employees   2009.0           Private   \n1        Jacksonville, FL    51 to 200 employees   1998.0           Private   \n2             Trenton, NJ    51 to 200 employees   2003.0           Private   \n3            New York, NY  501 to 1000 employees   2000.0           Private   \n4            New York, NY   201 to 500 employees   1914.0           Private   \n...                   ...                    ...      ...               ...   \n2523          Herndon, VA      1 to 50 employees      NaN           Private   \n2524      Santa Clara, CA    51 to 200 employees   1993.0           Private   \n2525       Cincinnati, OH  501 to 1000 employees      NaN           Private   \n2526  Dettenheim, Germany                    NaN      NaN            Public   \n2527          Raleigh, NC  501 to 1000 employees   2000.0           Private   \n\n                                   Industry                  Sector  \\\n0                                Consulting       Business Services   \n1                               IT Services  Information Technology   \n2                               IT Services  Information Technology   \n3     Investment Banking & Asset Management                 Finance   \n4                        Insurance Carriers               Insurance   \n...                                     ...                     ...   \n2523           Computer Hardware & Software  Information Technology   \n2524                 Staffing & Outsourcing       Business Services   \n2525                            IT Services  Information Technology   \n2526                                    NaN                     NaN   \n2527                 Staffing & Outsourcing       Business Services   \n\n                         Revenue                       Competitors Easy Apply  \\\n0       $10 to $25 million (USD)               WCI Consulting, PwC        NaN   \n1       $25 to $50 million (USD)                               NaN        NaN   \n2        $5 to $10 million (USD)                               NaN        NaN   \n3       Unknown / Non-Applicable                               NaN        NaN   \n4     $100 to $500 million (USD)  Travelers, Chubb, Crum & Forster       True   \n...                          ...                               ...        ...   \n2523      $1 to $5 million (USD)                               NaN        NaN   \n2524     $5 to $10 million (USD)                               NaN        NaN   \n2525  $100 to $500 million (USD)                               NaN        NaN   \n2526    Unknown / Non-Applicable                               NaN        NaN   \n2527    $25 to $50 million (USD)                               NaN        NaN   \n\n            City State  \n0       New York    NY  \n1       New York    NY  \n2       New York    NY  \n3       New York    NY  \n4       New York    NY  \n...          ...   ...  \n2523    Westlake    TX  \n2524  Fort Worth    TX  \n2525      Irving    TX  \n2526    Westlake    TX  \n2527    Westlake    TX  \n\n[2528 rows x 17 columns]",
      "text/html": "<div>\n<style scoped>\n    .dataframe tbody tr th:only-of-type {\n        vertical-align: middle;\n    }\n\n    .dataframe tbody tr th {\n        vertical-align: top;\n    }\n\n    .dataframe thead th {\n        text-align: right;\n    }\n</style>\n<table border=\"1\" class=\"dataframe\">\n  <thead>\n    <tr style=\"text-align: right;\">\n      <th></th>\n      <th>Job Title</th>\n      <th>Salary Estimate</th>\n      <th>Job Description</th>\n      <th>Rating</th>\n      <th>Company Name</th>\n      <th>Location</th>\n      <th>Headquarters</th>\n      <th>Size</th>\n      <th>Founded</th>\n      <th>Type of ownership</th>\n      <th>Industry</th>\n      <th>Sector</th>\n      <th>Revenue</th>\n      <th>Competitors</th>\n      <th>Easy Apply</th>\n      <th>City</th>\n      <th>State</th>\n    </tr>\n  </thead>\n  <tbody>\n    <tr>\n      <th>0</th>\n      <td>Data Engineer</td>\n      <td>$80K-$150K (Glassdoor est.)</td>\n      <td>Company Description Sagence is a management ad...</td>\n      <td>4.5</td>\n      <td>Sagence 4.5</td>\n      <td>New York, NY</td>\n      <td>Chicago, IL</td>\n      <td>1 to 50 employees</td>\n      <td>2009.0</td>\n      <td>Private</td>\n      <td>Consulting</td>\n      <td>Business Services</td>\n      <td>$10 to $25 million (USD)</td>\n      <td>WCI Consulting, PwC</td>\n      <td>NaN</td>\n      <td>New York</td>\n      <td>NY</td>\n    </tr>\n    <tr>\n      <th>1</th>\n      <td>Senior Data Engineer (Healthcare Domain experi...</td>\n      <td>$80K-$150K (Glassdoor est.)</td>\n      <td>Key Responsibilities  - Architect, build, and ...</td>\n      <td>3.4</td>\n      <td>Enterprise Integration 3.4</td>\n      <td>New York, NY</td>\n      <td>Jacksonville, FL</td>\n      <td>51 to 200 employees</td>\n      <td>1998.0</td>\n      <td>Private</td>\n      <td>IT Services</td>\n      <td>Information Technology</td>\n      <td>$25 to $50 million (USD)</td>\n      <td>NaN</td>\n      <td>NaN</td>\n      <td>New York</td>\n      <td>NY</td>\n    </tr>\n    <tr>\n      <th>2</th>\n      <td>Data Engineers</td>\n      <td>$80K-$150K (Glassdoor est.)</td>\n      <td>Overview  Job description  Position Overview: ...</td>\n      <td>5.0</td>\n      <td>Maestro Technologies 5.0</td>\n      <td>New York, NY</td>\n      <td>Trenton, NJ</td>\n      <td>51 to 200 employees</td>\n      <td>2003.0</td>\n      <td>Private</td>\n      <td>IT Services</td>\n      <td>Information Technology</td>\n      <td>$5 to $10 million (USD)</td>\n      <td>NaN</td>\n      <td>NaN</td>\n      <td>New York</td>\n      <td>NY</td>\n    </tr>\n    <tr>\n      <th>3</th>\n      <td>Client Trade Support Engineer</td>\n      <td>$80K-$150K (Glassdoor est.)</td>\n      <td>About the Position   This position will suppor...</td>\n      <td>4.8</td>\n      <td>Jane Street 4.8</td>\n      <td>New York, NY</td>\n      <td>New York, NY</td>\n      <td>501 to 1000 employees</td>\n      <td>2000.0</td>\n      <td>Private</td>\n      <td>Investment Banking &amp; Asset Management</td>\n      <td>Finance</td>\n      <td>Unknown / Non-Applicable</td>\n      <td>NaN</td>\n      <td>NaN</td>\n      <td>New York</td>\n      <td>NY</td>\n    </tr>\n    <tr>\n      <th>4</th>\n      <td>Data Engineer</td>\n      <td>$80K-$150K (Glassdoor est.)</td>\n      <td>Data Engineer  Job Details Level Experienced J...</td>\n      <td>3.7</td>\n      <td>GNY Insurance Companies 3.7</td>\n      <td>New York, NY</td>\n      <td>New York, NY</td>\n      <td>201 to 500 employees</td>\n      <td>1914.0</td>\n      <td>Private</td>\n      <td>Insurance Carriers</td>\n      <td>Insurance</td>\n      <td>$100 to $500 million (USD)</td>\n      <td>Travelers, Chubb, Crum &amp; Forster</td>\n      <td>True</td>\n      <td>New York</td>\n      <td>NY</td>\n    </tr>\n    <tr>\n      <th>...</th>\n      <td>...</td>\n      <td>...</td>\n      <td>...</td>\n      <td>...</td>\n      <td>...</td>\n      <td>...</td>\n      <td>...</td>\n      <td>...</td>\n      <td>...</td>\n      <td>...</td>\n      <td>...</td>\n      <td>...</td>\n      <td>...</td>\n      <td>...</td>\n      <td>...</td>\n      <td>...</td>\n      <td>...</td>\n    </tr>\n    <tr>\n      <th>2523</th>\n      <td>Cloud Engineer</td>\n      <td>$76K-$128K (Glassdoor est.)</td>\n      <td>The Expertise You Have Proven expertise in dev...</td>\n      <td>4.5</td>\n      <td>PMG Global 4.5</td>\n      <td>Westlake, TX</td>\n      <td>Herndon, VA</td>\n      <td>1 to 50 employees</td>\n      <td>NaN</td>\n      <td>Private</td>\n      <td>Computer Hardware &amp; Software</td>\n      <td>Information Technology</td>\n      <td>$1 to $5 million (USD)</td>\n      <td>NaN</td>\n      <td>NaN</td>\n      <td>Westlake</td>\n      <td>TX</td>\n    </tr>\n    <tr>\n      <th>2524</th>\n      <td>Electrical Engineer</td>\n      <td>$76K-$128K (Glassdoor est.)</td>\n      <td>Lockheed Martin is seeking a Circuit and FPGA ...</td>\n      <td>2.9</td>\n      <td>Albin Engineering Services 2.9</td>\n      <td>Fort Worth, TX</td>\n      <td>Santa Clara, CA</td>\n      <td>51 to 200 employees</td>\n      <td>1993.0</td>\n      <td>Private</td>\n      <td>Staffing &amp; Outsourcing</td>\n      <td>Business Services</td>\n      <td>$5 to $10 million (USD)</td>\n      <td>NaN</td>\n      <td>NaN</td>\n      <td>Fort Worth</td>\n      <td>TX</td>\n    </tr>\n    <tr>\n      <th>2525</th>\n      <td>Sr. Big Data Engineer</td>\n      <td>$76K-$128K (Glassdoor est.)</td>\n      <td>Posting Title Principal Data Engineer (Contrac...</td>\n      <td>3.7</td>\n      <td>Cincinnati Bell Technology Solutions 3.7</td>\n      <td>Irving, TX</td>\n      <td>Cincinnati, OH</td>\n      <td>501 to 1000 employees</td>\n      <td>NaN</td>\n      <td>Private</td>\n      <td>IT Services</td>\n      <td>Information Technology</td>\n      <td>$100 to $500 million (USD)</td>\n      <td>NaN</td>\n      <td>NaN</td>\n      <td>Irving</td>\n      <td>TX</td>\n    </tr>\n    <tr>\n      <th>2526</th>\n      <td>Senior Big Data / ETL Engineer</td>\n      <td>$76K-$128K (Glassdoor est.)</td>\n      <td>Your Opportunity  Charles Schwab &amp; Co., Inc is...</td>\n      <td>3.5</td>\n      <td>Schwab 3.5</td>\n      <td>Westlake, TX</td>\n      <td>Dettenheim, Germany</td>\n      <td>NaN</td>\n      <td>NaN</td>\n      <td>Public</td>\n      <td>NaN</td>\n      <td>NaN</td>\n      <td>Unknown / Non-Applicable</td>\n      <td>NaN</td>\n      <td>NaN</td>\n      <td>Westlake</td>\n      <td>TX</td>\n    </tr>\n    <tr>\n      <th>2527</th>\n      <td>Cloud Engineer</td>\n      <td>$76K-$128K (Glassdoor est.)</td>\n      <td>Cloud Engineer Westlake, TX 6+ months Descript...</td>\n      <td>3.6</td>\n      <td>SPECTRAFORCE TECHNOLOGIES Inc. 3.6</td>\n      <td>Westlake, TX</td>\n      <td>Raleigh, NC</td>\n      <td>501 to 1000 employees</td>\n      <td>2000.0</td>\n      <td>Private</td>\n      <td>Staffing &amp; Outsourcing</td>\n      <td>Business Services</td>\n      <td>$25 to $50 million (USD)</td>\n      <td>NaN</td>\n      <td>NaN</td>\n      <td>Westlake</td>\n      <td>TX</td>\n    </tr>\n  </tbody>\n</table>\n<p>2528 rows × 17 columns</p>\n</div>"
     },
     "execution_count": 215,
     "metadata": {},
     "output_type": "execute_result"
    }
   ],
   "source": [
    "df['Type of ownership'].replace(regex='Company -', value='', inplace=True)\n",
    "df.replace(regex='\\\\r', value='', inplace=True)\n",
    "df.replace(regex='\\\\n', value=' ', inplace=True)\n",
    "df"
   ]
  },
  {
   "cell_type": "code",
   "execution_count": 216,
   "metadata": {},
   "outputs": [],
   "source": [
    "df['Salary Estimate mean'] = df['Salary Estimate']\n",
    "df['Salary Estimate mean'].replace(regex='\\(Glassdoor est.\\)', value='', inplace=True)\n",
    "df['Salary Estimate mean'].replace(regex='\\(Employer est.\\)', value='', inplace=True)\n",
    "df['Salary Estimate mean'].replace(regex='K', value='000', inplace=True)\n",
    "df['Salary Estimate mean'].replace(regex='\\$', value='', inplace=True)\n",
    "df['Salary Estimate mean'] = df['Salary Estimate mean'].str.split('-', expand=True).astype(int).mean(axis=1)\n",
    "\n",
    "\n"
   ]
  },
  {
   "cell_type": "code",
   "execution_count": 217,
   "metadata": {},
   "outputs": [],
   "source": [
    "list_str_obj_cols = df.columns[df.dtypes == \"object\"].tolist()\n",
    "for str_obj_col in list_str_obj_cols:\n",
    "    df[str_obj_col] = df[str_obj_col].astype(\"category\")"
   ]
  },
  {
   "cell_type": "code",
   "execution_count": 218,
   "metadata": {},
   "outputs": [
    {
     "data": {
      "text/plain": "Job Title               category\nSalary Estimate         category\nJob Description         category\nRating                   float64\nCompany Name            category\nLocation                category\nHeadquarters            category\nSize                    category\nFounded                  float64\nType of ownership       category\nIndustry                category\nSector                  category\nRevenue                 category\nCompetitors             category\nEasy Apply              category\nCity                    category\nState                   category\nSalary Estimate mean     float64\ndtype: object"
     },
     "execution_count": 218,
     "metadata": {},
     "output_type": "execute_result"
    }
   ],
   "source": [
    "df.dtypes"
   ]
  },
  {
   "cell_type": "code",
   "execution_count": 219,
   "metadata": {},
   "outputs": [
    {
     "data": {
      "text/plain": "24"
     },
     "execution_count": 219,
     "metadata": {},
     "output_type": "execute_result"
    }
   ],
   "source": [
    "df.duplicated(keep=False).sum()\n"
   ]
  },
  {
   "cell_type": "code",
   "execution_count": 220,
   "metadata": {},
   "outputs": [
    {
     "data": {
      "text/plain": "Text(0.5, 1.0, 'Non nan values')"
     },
     "execution_count": 220,
     "metadata": {},
     "output_type": "execute_result"
    },
    {
     "data": {
      "text/plain": "<Figure size 1000x500 with 3 Axes>",
      "image/png": "[encoded data removed]"
     },
     "metadata": {},
     "output_type": "display_data"
    }
   ],
   "source": [
    "missingno.bar(df.iloc[:, :], color=\"green\", figsize=(10, 5), fontsize=12)\n",
    "plt.title('Non nan values')\n"
   ]
  },
  {
   "cell_type": "code",
   "execution_count": 221,
   "metadata": {},
   "outputs": [
    {
     "data": {
      "text/plain": "Text(0.5, 1.0, 'Nan matrix')"
     },
     "execution_count": 221,
     "metadata": {},
     "output_type": "execute_result"
    },
    {
     "data": {
      "text/plain": "<Figure size 1000x500 with 1 Axes>",
      "image/png": "[encoded data removed]"
     },
     "metadata": {},
     "output_type": "display_data"
    }
   ],
   "source": [
    "missingno.matrix(df.iloc[:, :], figsize=(\n",
    "    10, 5), fontsize=12, sparkline=False)\n",
    "\n",
    "plt.title('Nan matrix')"
   ]
  },
  {
   "cell_type": "code",
   "execution_count": 222,
   "metadata": {},
   "outputs": [],
   "source": [
    "df.drop(columns=['Easy Apply', 'Competitors'],inplace=True)"
   ]
  },
  {
   "cell_type": "code",
   "execution_count": 223,
   "metadata": {},
   "outputs": [
    {
     "data": {
      "text/plain": "Text(0.5, 1.0, 'Nan values')"
     },
     "execution_count": 223,
     "metadata": {},
     "output_type": "execute_result"
    },
    {
     "data": {
      "text/plain": "<Figure size 1000x500 with 3 Axes>",
      "image/png": "[encoded data removed]"
     },
     "metadata": {},
     "output_type": "display_data"
    }
   ],
   "source": [
    "missingno.bar(df.iloc[:, :], color=\"green\", figsize=(10, 5), fontsize=12)\n",
    "plt.title('Nan values')\n"
   ]
  },
  {
   "cell_type": "code",
   "execution_count": 224,
   "metadata": {},
   "outputs": [],
   "source": [
    "df['Revenue'].fillna(df['Revenue'].value_counts().idxmax(), inplace=True)\n",
    "df['Headquarters'].fillna(df['Headquarters'].value_counts().idxmax(), inplace=True)\n",
    "df['Size'].fillna(df['Size'].value_counts().idxmax(), inplace=True)\n",
    "df['Industry'].fillna(df['Industry'].value_counts().idxmax(), inplace=True)\n",
    "df['Sector'].fillna(df['Sector'].value_counts().idxmax(), inplace=True)\n",
    "df['Type of ownership'].fillna(df['Type of ownership'].value_counts().idxmax(), inplace=True)\n",
    "\n"
   ]
  },
  {
   "cell_type": "code",
   "execution_count": 225,
   "metadata": {},
   "outputs": [],
   "source": [
    "knn_imp = KNNImputer(n_neighbors=3)\n",
    "# fit and transform the imputer on the dataset\n",
    "df_knn = pd.DataFrame(knn_imp.fit_transform(df[['Rating', 'Founded', 'Salary Estimate mean']]), columns=['Rating', 'Founded', 'Salary Estimate mean'])\n"
   ]
  },
  {
   "cell_type": "code",
   "execution_count": 226,
   "metadata": {},
   "outputs": [
    {
     "data": {
      "text/plain": "Rating                  0\nFounded                 0\nSalary Estimate mean    0\ndtype: int64"
     },
     "execution_count": 226,
     "metadata": {},
     "output_type": "execute_result"
    }
   ],
   "source": [
    "df_knn.isnull().sum()"
   ]
  },
  {
   "cell_type": "code",
   "execution_count": 227,
   "metadata": {},
   "outputs": [
    {
     "data": {
      "text/plain": "<matplotlib.legend.Legend at 0x1fe48b67c90>"
     },
     "execution_count": 227,
     "metadata": {},
     "output_type": "execute_result"
    },
    {
     "data": {
      "text/plain": "<Figure size 640x480 with 1 Axes>",
      "image/png": "[encoded data removed]"
     },
     "metadata": {},
     "output_type": "display_data"
    }
   ],
   "source": [
    "df['Rating'].plot.kde(color='r', label='Before')\n",
    "df_knn[\"Rating\"].plot.kde(color='y', label='After')\n",
    "plt.title('Rating imputation')\n",
    "plt.legend()\n"
   ]
  },
  {
   "cell_type": "code",
   "execution_count": 228,
   "metadata": {},
   "outputs": [
    {
     "data": {
      "text/plain": "<matplotlib.legend.Legend at 0x1fe51d70650>"
     },
     "execution_count": 228,
     "metadata": {},
     "output_type": "execute_result"
    },
    {
     "data": {
      "text/plain": "<Figure size 640x480 with 1 Axes>",
      "image/png": "[encoded data removed]"
     },
     "metadata": {},
     "output_type": "display_data"
    }
   ],
   "source": [
    "df['Founded'].plot.kde(color='r', label='Before')\n",
    "df_knn[\"Founded\"].plot.kde(color='y', label='After')\n",
    "plt.title('Founded imputation')\n",
    "plt.legend()"
   ]
  },
  {
   "cell_type": "code",
   "execution_count": 229,
   "metadata": {},
   "outputs": [],
   "source": [
    "df[['Rating', 'Founded']] = df_knn[['Rating', 'Founded']]"
   ]
  },
  {
   "cell_type": "code",
   "execution_count": 230,
   "metadata": {},
   "outputs": [
    {
     "data": {
      "text/plain": "Text(0.5, 1.0, 'Nan matrix')"
     },
     "execution_count": 230,
     "metadata": {},
     "output_type": "execute_result"
    },
    {
     "data": {
      "text/plain": "<Figure size 1000x500 with 1 Axes>",
      "image/png": "[encoded data removed]"
     },
     "metadata": {},
     "output_type": "display_data"
    }
   ],
   "source": [
    "missingno.matrix(df.iloc[:, :], figsize=(\n",
    "    10, 5), fontsize=12, sparkline=False)\n",
    "\n",
    "plt.title('Nan matrix')"
   ]
  },
  {
   "cell_type": "code",
   "execution_count": 231,
   "metadata": {},
   "outputs": [],
   "source": [
    "df['Founded'] = df['Founded'].astype('int')"
   ]
  },
  {
   "cell_type": "code",
   "execution_count": 232,
   "metadata": {},
   "outputs": [],
   "source": [
    "#Dropping the outlier rows with Percentiles\n",
    "upper_lim = df['Founded'].quantile(.95)\n",
    "lower_lim = df['Founded'].quantile(.05)\n",
    "\n",
    "#Drop outliers\n",
    "df = df[(df['Founded'] < upper_lim) & (df['Founded'] > lower_lim)] "
   ]
  },
  {
   "cell_type": "code",
   "execution_count": 233,
   "metadata": {},
   "outputs": [
    {
     "data": {
      "text/plain": "                                              Job Title  \\\n0                                         Data Engineer   \n1     Senior Data Engineer (Healthcare Domain experi...   \n2                                        Data Engineers   \n3                         Client Trade Support Engineer   \n4                                         Data Engineer   \n...                                                 ...   \n2523                                     Cloud Engineer   \n2524                                Electrical Engineer   \n2525                              Sr. Big Data Engineer   \n2526                     Senior Big Data / ETL Engineer   \n2527                                     Cloud Engineer   \n\n                  Salary Estimate  \\\n0     $80K-$150K (Glassdoor est.)   \n1     $80K-$150K (Glassdoor est.)   \n2     $80K-$150K (Glassdoor est.)   \n3     $80K-$150K (Glassdoor est.)   \n4     $80K-$150K (Glassdoor est.)   \n...                           ...   \n2523  $76K-$128K (Glassdoor est.)   \n2524  $76K-$128K (Glassdoor est.)   \n2525  $76K-$128K (Glassdoor est.)   \n2526  $76K-$128K (Glassdoor est.)   \n2527  $76K-$128K (Glassdoor est.)   \n\n                                        Job Description  Rating  \\\n0     Company Description Sagence is a management ad...     4.5   \n1     Key Responsibilities  - Architect, build, and ...     3.4   \n2     Overview  Job description  Position Overview: ...     5.0   \n3     About the Position   This position will suppor...     4.8   \n4     Data Engineer  Job Details Level Experienced J...     3.7   \n...                                                 ...     ...   \n2523  The Expertise You Have Proven expertise in dev...     4.5   \n2524  Lockheed Martin is seeking a Circuit and FPGA ...     2.9   \n2525  Posting Title Principal Data Engineer (Contrac...     3.7   \n2526  Your Opportunity  Charles Schwab & Co., Inc is...     3.5   \n2527  Cloud Engineer Westlake, TX 6+ months Descript...     3.6   \n\n                                  Company Name        Location  \\\n0                                  Sagence 4.5    New York, NY   \n1                   Enterprise Integration 3.4    New York, NY   \n2                     Maestro Technologies 5.0    New York, NY   \n3                              Jane Street 4.8    New York, NY   \n4                  GNY Insurance Companies 3.7    New York, NY   \n...                                        ...             ...   \n2523                            PMG Global 4.5    Westlake, TX   \n2524            Albin Engineering Services 2.9  Fort Worth, TX   \n2525  Cincinnati Bell Technology Solutions 3.7      Irving, TX   \n2526                                Schwab 3.5    Westlake, TX   \n2527        SPECTRAFORCE TECHNOLOGIES Inc. 3.6    Westlake, TX   \n\n             Headquarters                   Size  Founded Type of ownership  \\\n0             Chicago, IL      1 to 50 employees     2009           Private   \n1        Jacksonville, FL    51 to 200 employees     1998           Private   \n2             Trenton, NJ    51 to 200 employees     2003           Private   \n3            New York, NY  501 to 1000 employees     2000           Private   \n4            New York, NY   201 to 500 employees     1914           Private   \n...                   ...                    ...      ...               ...   \n2523          Herndon, VA      1 to 50 employees     2007           Private   \n2524      Santa Clara, CA    51 to 200 employees     1993           Private   \n2525       Cincinnati, OH  501 to 1000 employees     1950           Private   \n2526  Dettenheim, Germany       10000+ employees     1950            Public   \n2527          Raleigh, NC  501 to 1000 employees     2000           Private   \n\n                                   Industry                  Sector  \\\n0                                Consulting       Business Services   \n1                               IT Services  Information Technology   \n2                               IT Services  Information Technology   \n3     Investment Banking & Asset Management                 Finance   \n4                        Insurance Carriers               Insurance   \n...                                     ...                     ...   \n2523           Computer Hardware & Software  Information Technology   \n2524                 Staffing & Outsourcing       Business Services   \n2525                            IT Services  Information Technology   \n2526                            IT Services  Information Technology   \n2527                 Staffing & Outsourcing       Business Services   \n\n                         Revenue        City State  Salary Estimate mean  \n0       $10 to $25 million (USD)    New York    NY              115000.0  \n1       $25 to $50 million (USD)    New York    NY              115000.0  \n2        $5 to $10 million (USD)    New York    NY              115000.0  \n3       Unknown / Non-Applicable    New York    NY              115000.0  \n4     $100 to $500 million (USD)    New York    NY              115000.0  \n...                          ...         ...   ...                   ...  \n2523      $1 to $5 million (USD)    Westlake    TX              102000.0  \n2524     $5 to $10 million (USD)  Fort Worth    TX              102000.0  \n2525  $100 to $500 million (USD)      Irving    TX              102000.0  \n2526    Unknown / Non-Applicable    Westlake    TX              102000.0  \n2527    $25 to $50 million (USD)    Westlake    TX              102000.0  \n\n[2247 rows x 16 columns]",
      "text/html": "<div>\n<style scoped>\n    .dataframe tbody tr th:only-of-type {\n        vertical-align: middle;\n    }\n\n    .dataframe tbody tr th {\n        vertical-align: top;\n    }\n\n    .dataframe thead th {\n        text-align: right;\n    }\n</style>\n<table border=\"1\" class=\"dataframe\">\n  <thead>\n    <tr style=\"text-align: right;\">\n      <th></th>\n      <th>Job Title</th>\n      <th>Salary Estimate</th>\n      <th>Job Description</th>\n      <th>Rating</th>\n      <th>Company Name</th>\n      <th>Location</th>\n      <th>Headquarters</th>\n      <th>Size</th>\n      <th>Founded</th>\n      <th>Type of ownership</th>\n      <th>Industry</th>\n      <th>Sector</th>\n      <th>Revenue</th>\n      <th>City</th>\n      <th>State</th>\n      <th>Salary Estimate mean</th>\n    </tr>\n  </thead>\n  <tbody>\n    <tr>\n      <th>0</th>\n      <td>Data Engineer</td>\n      <td>$80K-$150K (Glassdoor est.)</td>\n      <td>Company Description Sagence is a management ad...</td>\n      <td>4.5</td>\n      <td>Sagence 4.5</td>\n      <td>New York, NY</td>\n      <td>Chicago, IL</td>\n      <td>1 to 50 employees</td>\n      <td>2009</td>\n      <td>Private</td>\n      <td>Consulting</td>\n      <td>Business Services</td>\n      <td>$10 to $25 million (USD)</td>\n      <td>New York</td>\n      <td>NY</td>\n      <td>115000.0</td>\n    </tr>\n    <tr>\n      <th>1</th>\n      <td>Senior Data Engineer (Healthcare Domain experi...</td>\n      <td>$80K-$150K (Glassdoor est.)</td>\n      <td>Key Responsibilities  - Architect, build, and ...</td>\n      <td>3.4</td>\n      <td>Enterprise Integration 3.4</td>\n      <td>New York, NY</td>\n      <td>Jacksonville, FL</td>\n      <td>51 to 200 employees</td>\n      <td>1998</td>\n      <td>Private</td>\n      <td>IT Services</td>\n      <td>Information Technology</td>\n      <td>$25 to $50 million (USD)</td>\n      <td>New York</td>\n      <td>NY</td>\n      <td>115000.0</td>\n    </tr>\n    <tr>\n      <th>2</th>\n      <td>Data Engineers</td>\n      <td>$80K-$150K (Glassdoor est.)</td>\n      <td>Overview  Job description  Position Overview: ...</td>\n      <td>5.0</td>\n      <td>Maestro Technologies 5.0</td>\n      <td>New York, NY</td>\n      <td>Trenton, NJ</td>\n      <td>51 to 200 employees</td>\n      <td>2003</td>\n      <td>Private</td>\n      <td>IT Services</td>\n      <td>Information Technology</td>\n      <td>$5 to $10 million (USD)</td>\n      <td>New York</td>\n      <td>NY</td>\n      <td>115000.0</td>\n    </tr>\n    <tr>\n      <th>3</th>\n      <td>Client Trade Support Engineer</td>\n      <td>$80K-$150K (Glassdoor est.)</td>\n      <td>About the Position   This position will suppor...</td>\n      <td>4.8</td>\n      <td>Jane Street 4.8</td>\n      <td>New York, NY</td>\n      <td>New York, NY</td>\n      <td>501 to 1000 employees</td>\n      <td>2000</td>\n      <td>Private</td>\n      <td>Investment Banking &amp; Asset Management</td>\n      <td>Finance</td>\n      <td>Unknown / Non-Applicable</td>\n      <td>New York</td>\n      <td>NY</td>\n      <td>115000.0</td>\n    </tr>\n    <tr>\n      <th>4</th>\n      <td>Data Engineer</td>\n      <td>$80K-$150K (Glassdoor est.)</td>\n      <td>Data Engineer  Job Details Level Experienced J...</td>\n      <td>3.7</td>\n      <td>GNY Insurance Companies 3.7</td>\n      <td>New York, NY</td>\n      <td>New York, NY</td>\n      <td>201 to 500 employees</td>\n      <td>1914</td>\n      <td>Private</td>\n      <td>Insurance Carriers</td>\n      <td>Insurance</td>\n      <td>$100 to $500 million (USD)</td>\n      <td>New York</td>\n      <td>NY</td>\n      <td>115000.0</td>\n    </tr>\n    <tr>\n      <th>...</th>\n      <td>...</td>\n      <td>...</td>\n      <td>...</td>\n      <td>...</td>\n      <td>...</td>\n      <td>...</td>\n      <td>...</td>\n      <td>...</td>\n      <td>...</td>\n      <td>...</td>\n      <td>...</td>\n      <td>...</td>\n      <td>...</td>\n      <td>...</td>\n      <td>...</td>\n      <td>...</td>\n    </tr>\n    <tr>\n      <th>2523</th>\n      <td>Cloud Engineer</td>\n      <td>$76K-$128K (Glassdoor est.)</td>\n      <td>The Expertise You Have Proven expertise in dev...</td>\n      <td>4.5</td>\n      <td>PMG Global 4.5</td>\n      <td>Westlake, TX</td>\n      <td>Herndon, VA</td>\n      <td>1 to 50 employees</td>\n      <td>2007</td>\n      <td>Private</td>\n      <td>Computer Hardware &amp; Software</td>\n      <td>Information Technology</td>\n      <td>$1 to $5 million (USD)</td>\n      <td>Westlake</td>\n      <td>TX</td>\n      <td>102000.0</td>\n    </tr>\n    <tr>\n      <th>2524</th>\n      <td>Electrical Engineer</td>\n      <td>$76K-$128K (Glassdoor est.)</td>\n      <td>Lockheed Martin is seeking a Circuit and FPGA ...</td>\n      <td>2.9</td>\n      <td>Albin Engineering Services 2.9</td>\n      <td>Fort Worth, TX</td>\n      <td>Santa Clara, CA</td>\n      <td>51 to 200 employees</td>\n      <td>1993</td>\n      <td>Private</td>\n      <td>Staffing &amp; Outsourcing</td>\n      <td>Business Services</td>\n      <td>$5 to $10 million (USD)</td>\n      <td>Fort Worth</td>\n      <td>TX</td>\n      <td>102000.0</td>\n    </tr>\n    <tr>\n      <th>2525</th>\n      <td>Sr. Big Data Engineer</td>\n      <td>$76K-$128K (Glassdoor est.)</td>\n      <td>Posting Title Principal Data Engineer (Contrac...</td>\n      <td>3.7</td>\n      <td>Cincinnati Bell Technology Solutions 3.7</td>\n      <td>Irving, TX</td>\n      <td>Cincinnati, OH</td>\n      <td>501 to 1000 employees</td>\n      <td>1950</td>\n      <td>Private</td>\n      <td>IT Services</td>\n      <td>Information Technology</td>\n      <td>$100 to $500 million (USD)</td>\n      <td>Irving</td>\n      <td>TX</td>\n      <td>102000.0</td>\n    </tr>\n    <tr>\n      <th>2526</th>\n      <td>Senior Big Data / ETL Engineer</td>\n      <td>$76K-$128K (Glassdoor est.)</td>\n      <td>Your Opportunity  Charles Schwab &amp; Co., Inc is...</td>\n      <td>3.5</td>\n      <td>Schwab 3.5</td>\n      <td>Westlake, TX</td>\n      <td>Dettenheim, Germany</td>\n      <td>10000+ employees</td>\n      <td>1950</td>\n      <td>Public</td>\n      <td>IT Services</td>\n      <td>Information Technology</td>\n      <td>Unknown / Non-Applicable</td>\n      <td>Westlake</td>\n      <td>TX</td>\n      <td>102000.0</td>\n    </tr>\n    <tr>\n      <th>2527</th>\n      <td>Cloud Engineer</td>\n      <td>$76K-$128K (Glassdoor est.)</td>\n      <td>Cloud Engineer Westlake, TX 6+ months Descript...</td>\n      <td>3.6</td>\n      <td>SPECTRAFORCE TECHNOLOGIES Inc. 3.6</td>\n      <td>Westlake, TX</td>\n      <td>Raleigh, NC</td>\n      <td>501 to 1000 employees</td>\n      <td>2000</td>\n      <td>Private</td>\n      <td>Staffing &amp; Outsourcing</td>\n      <td>Business Services</td>\n      <td>$25 to $50 million (USD)</td>\n      <td>Westlake</td>\n      <td>TX</td>\n      <td>102000.0</td>\n    </tr>\n  </tbody>\n</table>\n<p>2247 rows × 16 columns</p>\n</div>"
     },
     "execution_count": 233,
     "metadata": {},
     "output_type": "execute_result"
    }
   ],
   "source": [
    "df"
   ]
  },
  {
   "cell_type": "code",
   "execution_count": 234,
   "outputs": [
    {
     "name": "stderr",
     "output_type": "stream",
     "text": [
      "C:\\Users\\Oleg Lastocichin\\AppData\\Local\\Temp\\ipykernel_11120\\3310840708.py:1: SettingWithCopyWarning:\n",
      "\n",
      "\n",
      "A value is trying to be set on a copy of a slice from a DataFrame.\n",
      "Try using .loc[row_indexer,col_indexer] = value instead\n",
      "\n",
      "See the caveats in the documentation: https://pandas.pydata.org/pandas-docs/stable/user_guide/indexing.html#returning-a-view-versus-a-copy\n",
      "\n"
     ]
    }
   ],
   "source": [
    "df['State'] = df['State'].str.lstrip() # Remove the whitespaces from front\n",
    "latitude = loc_generator_df['usa_state_latitude'].to_list() # Make a list of all the states\n",
    "longitude = loc_generator_df['usa_state_longitude'].to_list() # Make a list of all the latitudes of a state\n",
    "states = loc_generator_df['usa_state_code'].to_list() # Make a list of all the longitudes of a state"
   ],
   "metadata": {
    "collapsed": false
   }
  },
  {
   "cell_type": "code",
   "execution_count": 235,
   "outputs": [],
   "source": [
    "def find_latitude(x,states,latitude):\n",
    "    index = states.index(x)\n",
    "    return latitude[index]"
   ],
   "metadata": {
    "collapsed": false
   }
  },
  {
   "cell_type": "code",
   "execution_count": 236,
   "outputs": [],
   "source": [
    "def find_longitude(x,states,longitude):\n",
    "    index = states.index(x)\n",
    "    return longitude[index]"
   ],
   "metadata": {
    "collapsed": false
   }
  },
  {
   "cell_type": "code",
   "execution_count": 237,
   "outputs": [
    {
     "name": "stderr",
     "output_type": "stream",
     "text": [
      "C:\\Users\\Oleg Lastocichin\\AppData\\Local\\Temp\\ipykernel_11120\\160817870.py:1: SettingWithCopyWarning:\n",
      "\n",
      "\n",
      "A value is trying to be set on a copy of a slice from a DataFrame.\n",
      "Try using .loc[row_indexer,col_indexer] = value instead\n",
      "\n",
      "See the caveats in the documentation: https://pandas.pydata.org/pandas-docs/stable/user_guide/indexing.html#returning-a-view-versus-a-copy\n",
      "\n",
      "C:\\Users\\Oleg Lastocichin\\AppData\\Local\\Temp\\ipykernel_11120\\160817870.py:2: SettingWithCopyWarning:\n",
      "\n",
      "\n",
      "A value is trying to be set on a copy of a slice from a DataFrame.\n",
      "Try using .loc[row_indexer,col_indexer] = value instead\n",
      "\n",
      "See the caveats in the documentation: https://pandas.pydata.org/pandas-docs/stable/user_guide/indexing.html#returning-a-view-versus-a-copy\n",
      "\n"
     ]
    }
   ],
   "source": [
    "df['latitude']= df['State'].apply(lambda x: find_latitude(x,states,latitude))\n",
    "df['longitude']= df['State'].apply(lambda x: find_longitude(x,states,longitude))"
   ],
   "metadata": {
    "collapsed": false
   }
  },
  {
   "cell_type": "code",
   "execution_count": 238,
   "outputs": [
    {
     "data": {
      "text/plain": "                                              Job Title  \\\n0                                         Data Engineer   \n1     Senior Data Engineer (Healthcare Domain experi...   \n2                                        Data Engineers   \n3                         Client Trade Support Engineer   \n4                                         Data Engineer   \n...                                                 ...   \n2523                                     Cloud Engineer   \n2524                                Electrical Engineer   \n2525                              Sr. Big Data Engineer   \n2526                     Senior Big Data / ETL Engineer   \n2527                                     Cloud Engineer   \n\n                  Salary Estimate  \\\n0     $80K-$150K (Glassdoor est.)   \n1     $80K-$150K (Glassdoor est.)   \n2     $80K-$150K (Glassdoor est.)   \n3     $80K-$150K (Glassdoor est.)   \n4     $80K-$150K (Glassdoor est.)   \n...                           ...   \n2523  $76K-$128K (Glassdoor est.)   \n2524  $76K-$128K (Glassdoor est.)   \n2525  $76K-$128K (Glassdoor est.)   \n2526  $76K-$128K (Glassdoor est.)   \n2527  $76K-$128K (Glassdoor est.)   \n\n                                        Job Description  Rating  \\\n0     Company Description Sagence is a management ad...     4.5   \n1     Key Responsibilities  - Architect, build, and ...     3.4   \n2     Overview  Job description  Position Overview: ...     5.0   \n3     About the Position   This position will suppor...     4.8   \n4     Data Engineer  Job Details Level Experienced J...     3.7   \n...                                                 ...     ...   \n2523  The Expertise You Have Proven expertise in dev...     4.5   \n2524  Lockheed Martin is seeking a Circuit and FPGA ...     2.9   \n2525  Posting Title Principal Data Engineer (Contrac...     3.7   \n2526  Your Opportunity  Charles Schwab & Co., Inc is...     3.5   \n2527  Cloud Engineer Westlake, TX 6+ months Descript...     3.6   \n\n                                  Company Name        Location  \\\n0                                  Sagence 4.5    New York, NY   \n1                   Enterprise Integration 3.4    New York, NY   \n2                     Maestro Technologies 5.0    New York, NY   \n3                              Jane Street 4.8    New York, NY   \n4                  GNY Insurance Companies 3.7    New York, NY   \n...                                        ...             ...   \n2523                            PMG Global 4.5    Westlake, TX   \n2524            Albin Engineering Services 2.9  Fort Worth, TX   \n2525  Cincinnati Bell Technology Solutions 3.7      Irving, TX   \n2526                                Schwab 3.5    Westlake, TX   \n2527        SPECTRAFORCE TECHNOLOGIES Inc. 3.6    Westlake, TX   \n\n             Headquarters                   Size  Founded Type of ownership  \\\n0             Chicago, IL      1 to 50 employees     2009           Private   \n1        Jacksonville, FL    51 to 200 employees     1998           Private   \n2             Trenton, NJ    51 to 200 employees     2003           Private   \n3            New York, NY  501 to 1000 employees     2000           Private   \n4            New York, NY   201 to 500 employees     1914           Private   \n...                   ...                    ...      ...               ...   \n2523          Herndon, VA      1 to 50 employees     2007           Private   \n2524      Santa Clara, CA    51 to 200 employees     1993           Private   \n2525       Cincinnati, OH  501 to 1000 employees     1950           Private   \n2526  Dettenheim, Germany       10000+ employees     1950            Public   \n2527          Raleigh, NC  501 to 1000 employees     2000           Private   \n\n                                   Industry                  Sector  \\\n0                                Consulting       Business Services   \n1                               IT Services  Information Technology   \n2                               IT Services  Information Technology   \n3     Investment Banking & Asset Management                 Finance   \n4                        Insurance Carriers               Insurance   \n...                                     ...                     ...   \n2523           Computer Hardware & Software  Information Technology   \n2524                 Staffing & Outsourcing       Business Services   \n2525                            IT Services  Information Technology   \n2526                            IT Services  Information Technology   \n2527                 Staffing & Outsourcing       Business Services   \n\n                         Revenue        City State  Salary Estimate mean  \\\n0       $10 to $25 million (USD)    New York    NY              115000.0   \n1       $25 to $50 million (USD)    New York    NY              115000.0   \n2        $5 to $10 million (USD)    New York    NY              115000.0   \n3       Unknown / Non-Applicable    New York    NY              115000.0   \n4     $100 to $500 million (USD)    New York    NY              115000.0   \n...                          ...         ...   ...                   ...   \n2523      $1 to $5 million (USD)    Westlake    TX              102000.0   \n2524     $5 to $10 million (USD)  Fort Worth    TX              102000.0   \n2525  $100 to $500 million (USD)      Irving    TX              102000.0   \n2526    Unknown / Non-Applicable    Westlake    TX              102000.0   \n2527    $25 to $50 million (USD)    Westlake    TX              102000.0   \n\n       latitude  longitude  \n0     43.299428 -74.217933  \n1     43.299428 -74.217933  \n2     43.299428 -74.217933  \n3     43.299428 -74.217933  \n4     43.299428 -74.217933  \n...         ...        ...  \n2523  31.968599 -99.901813  \n2524  31.968599 -99.901813  \n2525  31.968599 -99.901813  \n2526  31.968599 -99.901813  \n2527  31.968599 -99.901813  \n\n[2247 rows x 18 columns]",
      "text/html": "<div>\n<style scoped>\n    .dataframe tbody tr th:only-of-type {\n        vertical-align: middle;\n    }\n\n    .dataframe tbody tr th {\n        vertical-align: top;\n    }\n\n    .dataframe thead th {\n        text-align: right;\n    }\n</style>\n<table border=\"1\" class=\"dataframe\">\n  <thead>\n    <tr style=\"text-align: right;\">\n      <th></th>\n      <th>Job Title</th>\n      <th>Salary Estimate</th>\n      <th>Job Description</th>\n      <th>Rating</th>\n      <th>Company Name</th>\n      <th>Location</th>\n      <th>Headquarters</th>\n      <th>Size</th>\n      <th>Founded</th>\n      <th>Type of ownership</th>\n      <th>Industry</th>\n      <th>Sector</th>\n      <th>Revenue</th>\n      <th>City</th>\n      <th>State</th>\n      <th>Salary Estimate mean</th>\n      <th>latitude</th>\n      <th>longitude</th>\n    </tr>\n  </thead>\n  <tbody>\n    <tr>\n      <th>0</th>\n      <td>Data Engineer</td>\n      <td>$80K-$150K (Glassdoor est.)</td>\n      <td>Company Description Sagence is a management ad...</td>\n      <td>4.5</td>\n      <td>Sagence 4.5</td>\n      <td>New York, NY</td>\n      <td>Chicago, IL</td>\n      <td>1 to 50 employees</td>\n      <td>2009</td>\n      <td>Private</td>\n      <td>Consulting</td>\n      <td>Business Services</td>\n      <td>$10 to $25 million (USD)</td>\n      <td>New York</td>\n      <td>NY</td>\n      <td>115000.0</td>\n      <td>43.299428</td>\n      <td>-74.217933</td>\n    </tr>\n    <tr>\n      <th>1</th>\n      <td>Senior Data Engineer (Healthcare Domain experi...</td>\n      <td>$80K-$150K (Glassdoor est.)</td>\n      <td>Key Responsibilities  - Architect, build, and ...</td>\n      <td>3.4</td>\n      <td>Enterprise Integration 3.4</td>\n      <td>New York, NY</td>\n      <td>Jacksonville, FL</td>\n      <td>51 to 200 employees</td>\n      <td>1998</td>\n      <td>Private</td>\n      <td>IT Services</td>\n      <td>Information Technology</td>\n      <td>$25 to $50 million (USD)</td>\n      <td>New York</td>\n      <td>NY</td>\n      <td>115000.0</td>\n      <td>43.299428</td>\n      <td>-74.217933</td>\n    </tr>\n    <tr>\n      <th>2</th>\n      <td>Data Engineers</td>\n      <td>$80K-$150K (Glassdoor est.)</td>\n      <td>Overview  Job description  Position Overview: ...</td>\n      <td>5.0</td>\n      <td>Maestro Technologies 5.0</td>\n      <td>New York, NY</td>\n      <td>Trenton, NJ</td>\n      <td>51 to 200 employees</td>\n      <td>2003</td>\n      <td>Private</td>\n      <td>IT Services</td>\n      <td>Information Technology</td>\n      <td>$5 to $10 million (USD)</td>\n      <td>New York</td>\n      <td>NY</td>\n      <td>115000.0</td>\n      <td>43.299428</td>\n      <td>-74.217933</td>\n    </tr>\n    <tr>\n      <th>3</th>\n      <td>Client Trade Support Engineer</td>\n      <td>$80K-$150K (Glassdoor est.)</td>\n      <td>About the Position   This position will suppor...</td>\n      <td>4.8</td>\n      <td>Jane Street 4.8</td>\n      <td>New York, NY</td>\n      <td>New York, NY</td>\n      <td>501 to 1000 employees</td>\n      <td>2000</td>\n      <td>Private</td>\n      <td>Investment Banking &amp; Asset Management</td>\n      <td>Finance</td>\n      <td>Unknown / Non-Applicable</td>\n      <td>New York</td>\n      <td>NY</td>\n      <td>115000.0</td>\n      <td>43.299428</td>\n      <td>-74.217933</td>\n    </tr>\n    <tr>\n      <th>4</th>\n      <td>Data Engineer</td>\n      <td>$80K-$150K (Glassdoor est.)</td>\n      <td>Data Engineer  Job Details Level Experienced J...</td>\n      <td>3.7</td>\n      <td>GNY Insurance Companies 3.7</td>\n      <td>New York, NY</td>\n      <td>New York, NY</td>\n      <td>201 to 500 employees</td>\n      <td>1914</td>\n      <td>Private</td>\n      <td>Insurance Carriers</td>\n      <td>Insurance</td>\n      <td>$100 to $500 million (USD)</td>\n      <td>New York</td>\n      <td>NY</td>\n      <td>115000.0</td>\n      <td>43.299428</td>\n      <td>-74.217933</td>\n    </tr>\n    <tr>\n      <th>...</th>\n      <td>...</td>\n      <td>...</td>\n      <td>...</td>\n      <td>...</td>\n      <td>...</td>\n      <td>...</td>\n      <td>...</td>\n      <td>...</td>\n      <td>...</td>\n      <td>...</td>\n      <td>...</td>\n      <td>...</td>\n      <td>...</td>\n      <td>...</td>\n      <td>...</td>\n      <td>...</td>\n      <td>...</td>\n      <td>...</td>\n    </tr>\n    <tr>\n      <th>2523</th>\n      <td>Cloud Engineer</td>\n      <td>$76K-$128K (Glassdoor est.)</td>\n      <td>The Expertise You Have Proven expertise in dev...</td>\n      <td>4.5</td>\n      <td>PMG Global 4.5</td>\n      <td>Westlake, TX</td>\n      <td>Herndon, VA</td>\n      <td>1 to 50 employees</td>\n      <td>2007</td>\n      <td>Private</td>\n      <td>Computer Hardware &amp; Software</td>\n      <td>Information Technology</td>\n      <td>$1 to $5 million (USD)</td>\n      <td>Westlake</td>\n      <td>TX</td>\n      <td>102000.0</td>\n      <td>31.968599</td>\n      <td>-99.901813</td>\n    </tr>\n    <tr>\n      <th>2524</th>\n      <td>Electrical Engineer</td>\n      <td>$76K-$128K (Glassdoor est.)</td>\n      <td>Lockheed Martin is seeking a Circuit and FPGA ...</td>\n      <td>2.9</td>\n      <td>Albin Engineering Services 2.9</td>\n      <td>Fort Worth, TX</td>\n      <td>Santa Clara, CA</td>\n      <td>51 to 200 employees</td>\n      <td>1993</td>\n      <td>Private</td>\n      <td>Staffing &amp; Outsourcing</td>\n      <td>Business Services</td>\n      <td>$5 to $10 million (USD)</td>\n      <td>Fort Worth</td>\n      <td>TX</td>\n      <td>102000.0</td>\n      <td>31.968599</td>\n      <td>-99.901813</td>\n    </tr>\n    <tr>\n      <th>2525</th>\n      <td>Sr. Big Data Engineer</td>\n      <td>$76K-$128K (Glassdoor est.)</td>\n      <td>Posting Title Principal Data Engineer (Contrac...</td>\n      <td>3.7</td>\n      <td>Cincinnati Bell Technology Solutions 3.7</td>\n      <td>Irving, TX</td>\n      <td>Cincinnati, OH</td>\n      <td>501 to 1000 employees</td>\n      <td>1950</td>\n      <td>Private</td>\n      <td>IT Services</td>\n      <td>Information Technology</td>\n      <td>$100 to $500 million (USD)</td>\n      <td>Irving</td>\n      <td>TX</td>\n      <td>102000.0</td>\n      <td>31.968599</td>\n      <td>-99.901813</td>\n    </tr>\n    <tr>\n      <th>2526</th>\n      <td>Senior Big Data / ETL Engineer</td>\n      <td>$76K-$128K (Glassdoor est.)</td>\n      <td>Your Opportunity  Charles Schwab &amp; Co., Inc is...</td>\n      <td>3.5</td>\n      <td>Schwab 3.5</td>\n      <td>Westlake, TX</td>\n      <td>Dettenheim, Germany</td>\n      <td>10000+ employees</td>\n      <td>1950</td>\n      <td>Public</td>\n      <td>IT Services</td>\n      <td>Information Technology</td>\n      <td>Unknown / Non-Applicable</td>\n      <td>Westlake</td>\n      <td>TX</td>\n      <td>102000.0</td>\n      <td>31.968599</td>\n      <td>-99.901813</td>\n    </tr>\n    <tr>\n      <th>2527</th>\n      <td>Cloud Engineer</td>\n      <td>$76K-$128K (Glassdoor est.)</td>\n      <td>Cloud Engineer Westlake, TX 6+ months Descript...</td>\n      <td>3.6</td>\n      <td>SPECTRAFORCE TECHNOLOGIES Inc. 3.6</td>\n      <td>Westlake, TX</td>\n      <td>Raleigh, NC</td>\n      <td>501 to 1000 employees</td>\n      <td>2000</td>\n      <td>Private</td>\n      <td>Staffing &amp; Outsourcing</td>\n      <td>Business Services</td>\n      <td>$25 to $50 million (USD)</td>\n      <td>Westlake</td>\n      <td>TX</td>\n      <td>102000.0</td>\n      <td>31.968599</td>\n      <td>-99.901813</td>\n    </tr>\n  </tbody>\n</table>\n<p>2247 rows × 18 columns</p>\n</div>"
     },
     "execution_count": 238,
     "metadata": {},
     "output_type": "execute_result"
    }
   ],
   "source": [
    "df"
   ],
   "metadata": {
    "collapsed": false
   }
  },
  {
   "cell_type": "markdown",
   "metadata": {},
   "source": [
    "# Visualizations"
   ]
  },
  {
   "cell_type": "code",
   "execution_count": 239,
   "metadata": {},
   "outputs": [
    {
     "data": {
      "application/vnd.plotly.v1+json": {
       "data": [
        {
         "alignmentgroup": "True",
         "hovertemplate": "Count=%{x}<br>Industry=%{y}<extra></extra>",
         "legendgroup": "",
         "marker": {
          "color": "#636efa",
          "pattern": {
           "shape": ""
          }
         },
         "name": "",
         "offsetgroup": "",
         "orientation": "h",
         "showlegend": false,
         "textposition": "auto",
         "x": [
          696,
          217,
          192,
          133,
          124,
          91,
          89,
          52,
          48,
          43
         ],
         "xaxis": "x",
         "y": [
          "IT Services",
          "Computer Hardware & Software",
          "Staffing & Outsourcing",
          "Internet",
          "Enterprise Software & Network Solutions",
          "Consulting",
          "Aerospace & Defense",
          "Advertising & Marketing",
          "Investment Banking & Asset Management",
          "Insurance Carriers"
         ],
         "yaxis": "y",
         "type": "bar"
        }
       ],
       "layout": {
        "template": {
         "data": {
          "histogram2dcontour": [
           {
            "type": "histogram2dcontour",
            "colorbar": {
             "outlinewidth": 0,
             "ticks": ""
            },
            "colorscale": [
             [
              0.0,
              "#0d0887"
             ],
             [
              0.1111111111111111,
              "#46039f"
             ],
             [
              0.2222222222222222,
              "#7201a8"
             ],
             [
              0.3333333333333333,
              "#9c179e"
             ],
             [
              0.4444444444444444,
              "#bd3786"
             ],
             [
              0.5555555555555556,
              "#d8576b"
             ],
             [
              0.6666666666666666,
              "#ed7953"
             ],
             [
              0.7777777777777778,
              "#fb9f3a"
             ],
             [
              0.8888888888888888,
              "#fdca26"
             ],
             [
              1.0,
              "#f0f921"
             ]
            ]
           }
          ],
          "choropleth": [
           {
            "type": "choropleth",
            "colorbar": {
             "outlinewidth": 0,
             "ticks": ""
            }
           }
          ],
          "histogram2d": [
           {
            "type": "histogram2d",
            "colorbar": {
             "outlinewidth": 0,
             "ticks": ""
            },
            "colorscale": [
             [
              0.0,
              "#0d0887"
             ],
             [
              0.1111111111111111,
              "#46039f"
             ],
             [
              0.2222222222222222,
              "#7201a8"
             ],
             [
              0.3333333333333333,
              "#9c179e"
             ],
             [
              0.4444444444444444,
              "#bd3786"
             ],
             [
              0.5555555555555556,
              "#d8576b"
             ],
             [
              0.6666666666666666,
              "#ed7953"
             ],
             [
              0.7777777777777778,
              "#fb9f3a"
             ],
             [
              0.8888888888888888,
              "#fdca26"
             ],
             [
              1.0,
              "#f0f921"
             ]
            ]
           }
          ],
          "heatmap": [
           {
            "type": "heatmap",
            "colorbar": {
             "outlinewidth": 0,
             "ticks": ""
            },
            "colorscale": [
             [
              0.0,
              "#0d0887"
             ],
             [
              0.1111111111111111,
              "#46039f"
             ],
             [
              0.2222222222222222,
              "#7201a8"
             ],
             [
              0.3333333333333333,
              "#9c179e"
             ],
             [
              0.4444444444444444,
              "#bd3786"
             ],
             [
              0.5555555555555556,
              "#d8576b"
             ],
             [
              0.6666666666666666,
              "#ed7953"
             ],
             [
              0.7777777777777778,
              "#fb9f3a"
             ],
             [
              0.8888888888888888,
              "#fdca26"
             ],
             [
              1.0,
              "#f0f921"
             ]
            ]
           }
          ],
          "heatmapgl": [
           {
            "type": "heatmapgl",
            "colorbar": {
             "outlinewidth": 0,
             "ticks": ""
            },
            "colorscale": [
             [
              0.0,
              "#0d0887"
             ],
             [
              0.1111111111111111,
              "#46039f"
             ],
             [
              0.2222222222222222,
              "#7201a8"
             ],
             [
              0.3333333333333333,
              "#9c179e"
             ],
             [
              0.4444444444444444,
              "#bd3786"
             ],
             [
              0.5555555555555556,
              "#d8576b"
             ],
             [
              0.6666666666666666,
              "#ed7953"
             ],
             [
              0.7777777777777778,
              "#fb9f3a"
             ],
             [
              0.8888888888888888,
              "#fdca26"
             ],
             [
              1.0,
              "#f0f921"
             ]
            ]
           }
          ],
          "contourcarpet": [
           {
            "type": "contourcarpet",
            "colorbar": {
             "outlinewidth": 0,
             "ticks": ""
            }
           }
          ],
          "contour": [
           {
            "type": "contour",
            "colorbar": {
             "outlinewidth": 0,
             "ticks": ""
            },
            "colorscale": [
             [
              0.0,
              "#0d0887"
             ],
             [
              0.1111111111111111,
              "#46039f"
             ],
             [
              0.2222222222222222,
              "#7201a8"
             ],
             [
              0.3333333333333333,
              "#9c179e"
             ],
             [
              0.4444444444444444,
              "#bd3786"
             ],
             [
              0.5555555555555556,
              "#d8576b"
             ],
             [
              0.6666666666666666,
              "#ed7953"
             ],
             [
              0.7777777777777778,
              "#fb9f3a"
             ],
             [
              0.8888888888888888,
              "#fdca26"
             ],
             [
              1.0,
              "#f0f921"
             ]
            ]
           }
          ],
          "surface": [
           {
            "type": "surface",
            "colorbar": {
             "outlinewidth": 0,
             "ticks": ""
            },
            "colorscale": [
             [
              0.0,
              "#0d0887"
             ],
             [
              0.1111111111111111,
              "#46039f"
             ],
             [
              0.2222222222222222,
              "#7201a8"
             ],
             [
              0.3333333333333333,
              "#9c179e"
             ],
             [
              0.4444444444444444,
              "#bd3786"
             ],
             [
              0.5555555555555556,
              "#d8576b"
             ],
             [
              0.6666666666666666,
              "#ed7953"
             ],
             [
              0.7777777777777778,
              "#fb9f3a"
             ],
             [
              0.8888888888888888,
              "#fdca26"
             ],
             [
              1.0,
              "#f0f921"
             ]
            ]
           }
          ],
          "mesh3d": [
           {
            "type": "mesh3d",
            "colorbar": {
             "outlinewidth": 0,
             "ticks": ""
            }
           }
          ],
          "scatter": [
           {
            "marker": {
             "line": {
              "color": "#283442"
             }
            },
            "type": "scatter"
           }
          ],
          "parcoords": [
           {
            "type": "parcoords",
            "line": {
             "colorbar": {
              "outlinewidth": 0,
              "ticks": ""
             }
            }
           }
          ],
          "scatterpolargl": [
           {
            "type": "scatterpolargl",
            "marker": {
             "colorbar": {
              "outlinewidth": 0,
              "ticks": ""
             }
            }
           }
          ],
          "bar": [
           {
            "error_x": {
             "color": "#f2f5fa"
            },
            "error_y": {
             "color": "#f2f5fa"
            },
            "marker": {
             "line": {
              "color": "rgb(17,17,17)",
              "width": 0.5
             },
             "pattern": {
              "fillmode": "overlay",
              "size": 10,
              "solidity": 0.2
             }
            },
            "type": "bar"
           }
          ],
          "scattergeo": [
           {
            "type": "scattergeo",
            "marker": {
             "colorbar": {
              "outlinewidth": 0,
              "ticks": ""
             }
            }
           }
          ],
          "scatterpolar": [
           {
            "type": "scatterpolar",
            "marker": {
             "colorbar": {
              "outlinewidth": 0,
              "ticks": ""
             }
            }
           }
          ],
          "histogram": [
           {
            "marker": {
             "pattern": {
              "fillmode": "overlay",
              "size": 10,
              "solidity": 0.2
             }
            },
            "type": "histogram"
           }
          ],
          "scattergl": [
           {
            "marker": {
             "line": {
              "color": "#283442"
             }
            },
            "type": "scattergl"
           }
          ],
          "scatter3d": [
           {
            "type": "scatter3d",
            "line": {
             "colorbar": {
              "outlinewidth": 0,
              "ticks": ""
             }
            },
            "marker": {
             "colorbar": {
              "outlinewidth": 0,
              "ticks": ""
             }
            }
           }
          ],
          "scattermapbox": [
           {
            "type": "scattermapbox",
            "marker": {
             "colorbar": {
              "outlinewidth": 0,
              "ticks": ""
             }
            }
           }
          ],
          "scatterternary": [
           {
            "type": "scatterternary",
            "marker": {
             "colorbar": {
              "outlinewidth": 0,
              "ticks": ""
             }
            }
           }
          ],
          "scattercarpet": [
           {
            "type": "scattercarpet",
            "marker": {
             "colorbar": {
              "outlinewidth": 0,
              "ticks": ""
             }
            }
           }
          ],
          "carpet": [
           {
            "aaxis": {
             "endlinecolor": "#A2B1C6",
             "gridcolor": "#506784",
             "linecolor": "#506784",
             "minorgridcolor": "#506784",
             "startlinecolor": "#A2B1C6"
            },
            "baxis": {
             "endlinecolor": "#A2B1C6",
             "gridcolor": "#506784",
             "linecolor": "#506784",
             "minorgridcolor": "#506784",
             "startlinecolor": "#A2B1C6"
            },
            "type": "carpet"
           }
          ],
          "table": [
           {
            "cells": {
             "fill": {
              "color": "#506784"
             },
             "line": {
              "color": "rgb(17,17,17)"
             }
            },
            "header": {
             "fill": {
              "color": "#2a3f5f"
             },
             "line": {
              "color": "rgb(17,17,17)"
             }
            },
            "type": "table"
           }
          ],
          "barpolar": [
           {
            "marker": {
             "line": {
              "color": "rgb(17,17,17)",
              "width": 0.5
             },
             "pattern": {
              "fillmode": "overlay",
              "size": 10,
              "solidity": 0.2
             }
            },
            "type": "barpolar"
           }
          ],
          "pie": [
           {
            "automargin": true,
            "type": "pie"
           }
          ]
         },
         "layout": {
          "autotypenumbers": "strict",
          "colorway": [
           "#636efa",
           "#EF553B",
           "#00cc96",
           "#ab63fa",
           "#FFA15A",
           "#19d3f3",
           "#FF6692",
           "#B6E880",
           "#FF97FF",
           "#FECB52"
          ],
          "font": {
           "color": "#f2f5fa"
          },
          "hovermode": "closest",
          "hoverlabel": {
           "align": "left"
          },
          "paper_bgcolor": "rgb(17,17,17)",
          "plot_bgcolor": "rgb(17,17,17)",
          "polar": {
           "bgcolor": "rgb(17,17,17)",
           "angularaxis": {
            "gridcolor": "#506784",
            "linecolor": "#506784",
            "ticks": ""
           },
           "radialaxis": {
            "gridcolor": "#506784",
            "linecolor": "#506784",
            "ticks": ""
           }
          },
          "ternary": {
           "bgcolor": "rgb(17,17,17)",
           "aaxis": {
            "gridcolor": "#506784",
            "linecolor": "#506784",
            "ticks": ""
           },
           "baxis": {
            "gridcolor": "#506784",
            "linecolor": "#506784",
            "ticks": ""
           },
           "caxis": {
            "gridcolor": "#506784",
            "linecolor": "#506784",
            "ticks": ""
           }
          },
          "coloraxis": {
           "colorbar": {
            "outlinewidth": 0,
            "ticks": ""
           }
          },
          "colorscale": {
           "sequential": [
            [
             0.0,
             "#0d0887"
            ],
            [
             0.1111111111111111,
             "#46039f"
            ],
            [
             0.2222222222222222,
             "#7201a8"
            ],
            [
             0.3333333333333333,
             "#9c179e"
            ],
            [
             0.4444444444444444,
             "#bd3786"
            ],
            [
             0.5555555555555556,
             "#d8576b"
            ],
            [
             0.6666666666666666,
             "#ed7953"
            ],
            [
             0.7777777777777778,
             "#fb9f3a"
            ],
            [
             0.8888888888888888,
             "#fdca26"
            ],
            [
             1.0,
             "#f0f921"
            ]
           ],
           "sequentialminus": [
            [
             0.0,
             "#0d0887"
            ],
            [
             0.1111111111111111,
             "#46039f"
            ],
            [
             0.2222222222222222,
             "#7201a8"
            ],
            [
             0.3333333333333333,
             "#9c179e"
            ],
            [
             0.4444444444444444,
             "#bd3786"
            ],
            [
             0.5555555555555556,
             "#d8576b"
            ],
            [
             0.6666666666666666,
             "#ed7953"
            ],
            [
             0.7777777777777778,
             "#fb9f3a"
            ],
            [
             0.8888888888888888,
             "#fdca26"
            ],
            [
             1.0,
             "#f0f921"
            ]
           ],
           "diverging": [
            [
             0,
             "#8e0152"
            ],
            [
             0.1,
             "#c51b7d"
            ],
            [
             0.2,
             "#de77ae"
            ],
            [
             0.3,
             "#f1b6da"
            ],
            [
             0.4,
             "#fde0ef"
            ],
            [
             0.5,
             "#f7f7f7"
            ],
            [
             0.6,
             "#e6f5d0"
            ],
            [
             0.7,
             "#b8e186"
            ],
            [
             0.8,
             "#7fbc41"
            ],
            [
             0.9,
             "#4d9221"
            ],
            [
             1,
             "#276419"
            ]
           ]
          },
          "xaxis": {
           "gridcolor": "#283442",
           "linecolor": "#506784",
           "ticks": "",
           "title": {
            "standoff": 15
           },
           "zerolinecolor": "#283442",
           "automargin": true,
           "zerolinewidth": 2
          },
          "yaxis": {
           "gridcolor": "#283442",
           "linecolor": "#506784",
           "ticks": "",
           "title": {
            "standoff": 15
           },
           "zerolinecolor": "#283442",
           "automargin": true,
           "zerolinewidth": 2
          },
          "scene": {
           "xaxis": {
            "backgroundcolor": "rgb(17,17,17)",
            "gridcolor": "#506784",
            "linecolor": "#506784",
            "showbackground": true,
            "ticks": "",
            "zerolinecolor": "#C8D4E3",
            "gridwidth": 2
           },
           "yaxis": {
            "backgroundcolor": "rgb(17,17,17)",
            "gridcolor": "#506784",
            "linecolor": "#506784",
            "showbackground": true,
            "ticks": "",
            "zerolinecolor": "#C8D4E3",
            "gridwidth": 2
           },
           "zaxis": {
            "backgroundcolor": "rgb(17,17,17)",
            "gridcolor": "#506784",
            "linecolor": "#506784",
            "showbackground": true,
            "ticks": "",
            "zerolinecolor": "#C8D4E3",
            "gridwidth": 2
           }
          },
          "shapedefaults": {
           "line": {
            "color": "#f2f5fa"
           }
          },
          "annotationdefaults": {
           "arrowcolor": "#f2f5fa",
           "arrowhead": 0,
           "arrowwidth": 1
          },
          "geo": {
           "bgcolor": "rgb(17,17,17)",
           "landcolor": "rgb(17,17,17)",
           "subunitcolor": "#506784",
           "showland": true,
           "showlakes": true,
           "lakecolor": "rgb(17,17,17)"
          },
          "title": {
           "x": 0.05
          },
          "updatemenudefaults": {
           "bgcolor": "#506784",
           "borderwidth": 0
          },
          "sliderdefaults": {
           "bgcolor": "#C8D4E3",
           "borderwidth": 1,
           "bordercolor": "rgb(17,17,17)",
           "tickwidth": 0
          },
          "mapbox": {
           "style": "dark"
          }
         }
        },
        "xaxis": {
         "anchor": "y",
         "domain": [
          0.0,
          1.0
         ],
         "title": {
          "text": "Count"
         }
        },
        "yaxis": {
         "anchor": "x",
         "domain": [
          0.0,
          1.0
         ],
         "title": {
          "text": "Industry"
         }
        },
        "legend": {
         "tracegroupgap": 0
        },
        "margin": {
         "t": 60
        },
        "barmode": "relative"
       },
       "config": {
        "plotlyServerURL": "https://plot.ly"
       }
      },
      "text/html": "<div>                            <div id=\"30654dbc-87f8-497c-ba80-74737534368d\" class=\"plotly-graph-div\" style=\"height:525px; width:100%;\"></div>            <script type=\"text/javascript\">                require([\"plotly\"], function(Plotly) {                    window.PLOTLYENV=window.PLOTLYENV || {};                                    if (document.getElementById(\"30654dbc-87f8-497c-ba80-74737534368d\")) {                    Plotly.newPlot(                        \"30654dbc-87f8-497c-ba80-74737534368d\",                        [{\"alignmentgroup\":\"True\",\"hovertemplate\":\"Count=%{x}<br>Industry=%{y}<extra></extra>\",\"legendgroup\":\"\",\"marker\":{\"color\":\"#636efa\",\"pattern\":{\"shape\":\"\"}},\"name\":\"\",\"offsetgroup\":\"\",\"orientation\":\"h\",\"showlegend\":false,\"textposition\":\"auto\",\"x\":[696,217,192,133,124,91,89,52,48,43],\"xaxis\":\"x\",\"y\":[\"IT Services\",\"Computer Hardware & Software\",\"Staffing & Outsourcing\",\"Internet\",\"Enterprise Software & Network Solutions\",\"Consulting\",\"Aerospace & Defense\",\"Advertising & Marketing\",\"Investment Banking & Asset Management\",\"Insurance Carriers\"],\"yaxis\":\"y\",\"type\":\"bar\"}],                        {\"template\":{\"data\":{\"histogram2dcontour\":[{\"type\":\"histogram2dcontour\",\"colorbar\":{\"outlinewidth\":0,\"ticks\":\"\"},\"colorscale\":[[0.0,\"#0d0887\"],[0.1111111111111111,\"#46039f\"],[0.2222222222222222,\"#7201a8\"],[0.3333333333333333,\"#9c179e\"],[0.4444444444444444,\"#bd3786\"],[0.5555555555555556,\"#d8576b\"],[0.6666666666666666,\"#ed7953\"],[0.7777777777777778,\"#fb9f3a\"],[0.8888888888888888,\"#fdca26\"],[1.0,\"#f0f921\"]]}],\"choropleth\":[{\"type\":\"choropleth\",\"colorbar\":{\"outlinewidth\":0,\"ticks\":\"\"}}],\"histogram2d\":[{\"type\":\"histogram2d\",\"colorbar\":{\"outlinewidth\":0,\"ticks\":\"\"},\"colorscale\":[[0.0,\"#0d0887\"],[0.1111111111111111,\"#46039f\"],[0.2222222222222222,\"#7201a8\"],[0.3333333333333333,\"#9c179e\"],[0.4444444444444444,\"#bd3786\"],[0.5555555555555556,\"#d8576b\"],[0.6666666666666666,\"#ed7953\"],[0.7777777777777778,\"#fb9f3a\"],[0.8888888888888888,\"#fdca26\"],[1.0,\"#f0f921\"]]}],\"heatmap\":[{\"type\":\"heatmap\",\"colorbar\":{\"outlinewidth\":0,\"ticks\":\"\"},\"colorscale\":[[0.0,\"#0d0887\"],[0.1111111111111111,\"#46039f\"],[0.2222222222222222,\"#7201a8\"],[0.3333333333333333,\"#9c179e\"],[0.4444444444444444,\"#bd3786\"],[0.5555555555555556,\"#d8576b\"],[0.6666666666666666,\"#ed7953\"],[0.7777777777777778,\"#fb9f3a\"],[0.8888888888888888,\"#fdca26\"],[1.0,\"#f0f921\"]]}],\"heatmapgl\":[{\"type\":\"heatmapgl\",\"colorbar\":{\"outlinewidth\":0,\"ticks\":\"\"},\"colorscale\":[[0.0,\"#0d0887\"],[0.1111111111111111,\"#46039f\"],[0.2222222222222222,\"#7201a8\"],[0.3333333333333333,\"#9c179e\"],[0.4444444444444444,\"#bd3786\"],[0.5555555555555556,\"#d8576b\"],[0.6666666666666666,\"#ed7953\"],[0.7777777777777778,\"#fb9f3a\"],[0.8888888888888888,\"#fdca26\"],[1.0,\"#f0f921\"]]}],\"contourcarpet\":[{\"type\":\"contourcarpet\",\"colorbar\":{\"outlinewidth\":0,\"ticks\":\"\"}}],\"contour\":[{\"type\":\"contour\",\"colorbar\":{\"outlinewidth\":0,\"ticks\":\"\"},\"colorscale\":[[0.0,\"#0d0887\"],[0.1111111111111111,\"#46039f\"],[0.2222222222222222,\"#7201a8\"],[0.3333333333333333,\"#9c179e\"],[0.4444444444444444,\"#bd3786\"],[0.5555555555555556,\"#d8576b\"],[0.6666666666666666,\"#ed7953\"],[0.7777777777777778,\"#fb9f3a\"],[0.8888888888888888,\"#fdca26\"],[1.0,\"#f0f921\"]]}],\"surface\":[{\"type\":\"surface\",\"colorbar\":{\"outlinewidth\":0,\"ticks\":\"\"},\"colorscale\":[[0.0,\"#0d0887\"],[0.1111111111111111,\"#46039f\"],[0.2222222222222222,\"#7201a8\"],[0.3333333333333333,\"#9c179e\"],[0.4444444444444444,\"#bd3786\"],[0.5555555555555556,\"#d8576b\"],[0.6666666666666666,\"#ed7953\"],[0.7777777777777778,\"#fb9f3a\"],[0.8888888888888888,\"#fdca26\"],[1.0,\"#f0f921\"]]}],\"mesh3d\":[{\"type\":\"mesh3d\",\"colorbar\":{\"outlinewidth\":0,\"ticks\":\"\"}}],\"scatter\":[{\"marker\":{\"line\":{\"color\":\"#283442\"}},\"type\":\"scatter\"}],\"parcoords\":[{\"type\":\"parcoords\",\"line\":{\"colorbar\":{\"outlinewidth\":0,\"ticks\":\"\"}}}],\"scatterpolargl\":[{\"type\":\"scatterpolargl\",\"marker\":{\"colorbar\":{\"outlinewidth\":0,\"ticks\":\"\"}}}],\"bar\":[{\"error_x\":{\"color\":\"#f2f5fa\"},\"error_y\":{\"color\":\"#f2f5fa\"},\"marker\":{\"line\":{\"color\":\"rgb(17,17,17)\",\"width\":0.5},\"pattern\":{\"fillmode\":\"overlay\",\"size\":10,\"solidity\":0.2}},\"type\":\"bar\"}],\"scattergeo\":[{\"type\":\"scattergeo\",\"marker\":{\"colorbar\":{\"outlinewidth\":0,\"ticks\":\"\"}}}],\"scatterpolar\":[{\"type\":\"scatterpolar\",\"marker\":{\"colorbar\":{\"outlinewidth\":0,\"ticks\":\"\"}}}],\"histogram\":[{\"marker\":{\"pattern\":{\"fillmode\":\"overlay\",\"size\":10,\"solidity\":0.2}},\"type\":\"histogram\"}],\"scattergl\":[{\"marker\":{\"line\":{\"color\":\"#283442\"}},\"type\":\"scattergl\"}],\"scatter3d\":[{\"type\":\"scatter3d\",\"line\":{\"colorbar\":{\"outlinewidth\":0,\"ticks\":\"\"}},\"marker\":{\"colorbar\":{\"outlinewidth\":0,\"ticks\":\"\"}}}],\"scattermapbox\":[{\"type\":\"scattermapbox\",\"marker\":{\"colorbar\":{\"outlinewidth\":0,\"ticks\":\"\"}}}],\"scatterternary\":[{\"type\":\"scatterternary\",\"marker\":{\"colorbar\":{\"outlinewidth\":0,\"ticks\":\"\"}}}],\"scattercarpet\":[{\"type\":\"scattercarpet\",\"marker\":{\"colorbar\":{\"outlinewidth\":0,\"ticks\":\"\"}}}],\"carpet\":[{\"aaxis\":{\"endlinecolor\":\"#A2B1C6\",\"gridcolor\":\"#506784\",\"linecolor\":\"#506784\",\"minorgridcolor\":\"#506784\",\"startlinecolor\":\"#A2B1C6\"},\"baxis\":{\"endlinecolor\":\"#A2B1C6\",\"gridcolor\":\"#506784\",\"linecolor\":\"#506784\",\"minorgridcolor\":\"#506784\",\"startlinecolor\":\"#A2B1C6\"},\"type\":\"carpet\"}],\"table\":[{\"cells\":{\"fill\":{\"color\":\"#506784\"},\"line\":{\"color\":\"rgb(17,17,17)\"}},\"header\":{\"fill\":{\"color\":\"#2a3f5f\"},\"line\":{\"color\":\"rgb(17,17,17)\"}},\"type\":\"table\"}],\"barpolar\":[{\"marker\":{\"line\":{\"color\":\"rgb(17,17,17)\",\"width\":0.5},\"pattern\":{\"fillmode\":\"overlay\",\"size\":10,\"solidity\":0.2}},\"type\":\"barpolar\"}],\"pie\":[{\"automargin\":true,\"type\":\"pie\"}]},\"layout\":{\"autotypenumbers\":\"strict\",\"colorway\":[\"#636efa\",\"#EF553B\",\"#00cc96\",\"#ab63fa\",\"#FFA15A\",\"#19d3f3\",\"#FF6692\",\"#B6E880\",\"#FF97FF\",\"#FECB52\"],\"font\":{\"color\":\"#f2f5fa\"},\"hovermode\":\"closest\",\"hoverlabel\":{\"align\":\"left\"},\"paper_bgcolor\":\"rgb(17,17,17)\",\"plot_bgcolor\":\"rgb(17,17,17)\",\"polar\":{\"bgcolor\":\"rgb(17,17,17)\",\"angularaxis\":{\"gridcolor\":\"#506784\",\"linecolor\":\"#506784\",\"ticks\":\"\"},\"radialaxis\":{\"gridcolor\":\"#506784\",\"linecolor\":\"#506784\",\"ticks\":\"\"}},\"ternary\":{\"bgcolor\":\"rgb(17,17,17)\",\"aaxis\":{\"gridcolor\":\"#506784\",\"linecolor\":\"#506784\",\"ticks\":\"\"},\"baxis\":{\"gridcolor\":\"#506784\",\"linecolor\":\"#506784\",\"ticks\":\"\"},\"caxis\":{\"gridcolor\":\"#506784\",\"linecolor\":\"#506784\",\"ticks\":\"\"}},\"coloraxis\":{\"colorbar\":{\"outlinewidth\":0,\"ticks\":\"\"}},\"colorscale\":{\"sequential\":[[0.0,\"#0d0887\"],[0.1111111111111111,\"#46039f\"],[0.2222222222222222,\"#7201a8\"],[0.3333333333333333,\"#9c179e\"],[0.4444444444444444,\"#bd3786\"],[0.5555555555555556,\"#d8576b\"],[0.6666666666666666,\"#ed7953\"],[0.7777777777777778,\"#fb9f3a\"],[0.8888888888888888,\"#fdca26\"],[1.0,\"#f0f921\"]],\"sequentialminus\":[[0.0,\"#0d0887\"],[0.1111111111111111,\"#46039f\"],[0.2222222222222222,\"#7201a8\"],[0.3333333333333333,\"#9c179e\"],[0.4444444444444444,\"#bd3786\"],[0.5555555555555556,\"#d8576b\"],[0.6666666666666666,\"#ed7953\"],[0.7777777777777778,\"#fb9f3a\"],[0.8888888888888888,\"#fdca26\"],[1.0,\"#f0f921\"]],\"diverging\":[[0,\"#8e0152\"],[0.1,\"#c51b7d\"],[0.2,\"#de77ae\"],[0.3,\"#f1b6da\"],[0.4,\"#fde0ef\"],[0.5,\"#f7f7f7\"],[0.6,\"#e6f5d0\"],[0.7,\"#b8e186\"],[0.8,\"#7fbc41\"],[0.9,\"#4d9221\"],[1,\"#276419\"]]},\"xaxis\":{\"gridcolor\":\"#283442\",\"linecolor\":\"#506784\",\"ticks\":\"\",\"title\":{\"standoff\":15},\"zerolinecolor\":\"#283442\",\"automargin\":true,\"zerolinewidth\":2},\"yaxis\":{\"gridcolor\":\"#283442\",\"linecolor\":\"#506784\",\"ticks\":\"\",\"title\":{\"standoff\":15},\"zerolinecolor\":\"#283442\",\"automargin\":true,\"zerolinewidth\":2},\"scene\":{\"xaxis\":{\"backgroundcolor\":\"rgb(17,17,17)\",\"gridcolor\":\"#506784\",\"linecolor\":\"#506784\",\"showbackground\":true,\"ticks\":\"\",\"zerolinecolor\":\"#C8D4E3\",\"gridwidth\":2},\"yaxis\":{\"backgroundcolor\":\"rgb(17,17,17)\",\"gridcolor\":\"#506784\",\"linecolor\":\"#506784\",\"showbackground\":true,\"ticks\":\"\",\"zerolinecolor\":\"#C8D4E3\",\"gridwidth\":2},\"zaxis\":{\"backgroundcolor\":\"rgb(17,17,17)\",\"gridcolor\":\"#506784\",\"linecolor\":\"#506784\",\"showbackground\":true,\"ticks\":\"\",\"zerolinecolor\":\"#C8D4E3\",\"gridwidth\":2}},\"shapedefaults\":{\"line\":{\"color\":\"#f2f5fa\"}},\"annotationdefaults\":{\"arrowcolor\":\"#f2f5fa\",\"arrowhead\":0,\"arrowwidth\":1},\"geo\":{\"bgcolor\":\"rgb(17,17,17)\",\"landcolor\":\"rgb(17,17,17)\",\"subunitcolor\":\"#506784\",\"showland\":true,\"showlakes\":true,\"lakecolor\":\"rgb(17,17,17)\"},\"title\":{\"x\":0.05},\"updatemenudefaults\":{\"bgcolor\":\"#506784\",\"borderwidth\":0},\"sliderdefaults\":{\"bgcolor\":\"#C8D4E3\",\"borderwidth\":1,\"bordercolor\":\"rgb(17,17,17)\",\"tickwidth\":0},\"mapbox\":{\"style\":\"dark\"}}},\"xaxis\":{\"anchor\":\"y\",\"domain\":[0.0,1.0],\"title\":{\"text\":\"Count\"}},\"yaxis\":{\"anchor\":\"x\",\"domain\":[0.0,1.0],\"title\":{\"text\":\"Industry\"}},\"legend\":{\"tracegroupgap\":0},\"margin\":{\"t\":60},\"barmode\":\"relative\"},                        {\"responsive\": true}                    ).then(function(){\n                            \nvar gd = document.getElementById('30654dbc-87f8-497c-ba80-74737534368d');\nvar x = new MutationObserver(function (mutations, observer) {{\n        var display = window.getComputedStyle(gd).display;\n        if (!display || display === 'none') {{\n            console.log([gd, 'removed!']);\n            Plotly.purge(gd);\n            observer.disconnect();\n        }}\n}});\n\n// Listen for the removal of the full notebook cells\nvar notebookContainer = gd.closest('#notebook-container');\nif (notebookContainer) {{\n    x.observe(notebookContainer, {childList: true});\n}}\n\n// Listen for the clearing of the current output cell\nvar outputEl = gd.closest('.output');\nif (outputEl) {{\n    x.observe(outputEl, {childList: true});\n}}\n\n                        })                };                });            </script>        </div>"
     },
     "metadata": {},
     "output_type": "display_data"
    }
   ],
   "source": [
    "industry = df.groupby(['Industry']).size().reset_index(name = 'Count').sort_values('Count', ascending=False)\n",
    "\n",
    "px.bar(industry[:10], y='Industry', x='Count')\n"
   ]
  },
  {
   "cell_type": "code",
   "execution_count": 240,
   "metadata": {},
   "outputs": [
    {
     "data": {
      "application/vnd.plotly.v1+json": {
       "data": [
        {
         "alignmentgroup": "True",
         "hovertemplate": "Count=%{x}<br>Sector=%{y}<extra></extra>",
         "legendgroup": "",
         "marker": {
          "color": "#636efa",
          "pattern": {
           "shape": ""
          }
         },
         "name": "",
         "offsetgroup": "",
         "orientation": "h",
         "showlegend": false,
         "textposition": "auto",
         "x": [
          1,
          2,
          4,
          5,
          7,
          7,
          12,
          15,
          21,
          22,
          24,
          24,
          25,
          28,
          28,
          34,
          36,
          44,
          62,
          84,
          89,
          117,
          386,
          1170
         ],
         "xaxis": "x",
         "y": [
          "Agriculture & Forestry",
          "Non-Profit",
          "Travel & Tourism",
          "Arts, Entertainment & Recreation",
          "Restaurants, Bars & Food Services",
          "Construction, Repair & Maintenance",
          "Consumer Services",
          "Real Estate",
          "Transportation & Logistics",
          "Government",
          "Biotech & Pharmaceuticals",
          "Education",
          "Accounting & Legal",
          "Oil, Gas, Energy & Utilities",
          "Telecommunications",
          "Retail",
          "Health Care",
          "Media",
          "Insurance",
          "Manufacturing",
          "Aerospace & Defense",
          "Finance",
          "Business Services",
          "Information Technology"
         ],
         "yaxis": "y",
         "type": "bar"
        }
       ],
       "layout": {
        "template": {
         "data": {
          "histogram2dcontour": [
           {
            "type": "histogram2dcontour",
            "colorbar": {
             "outlinewidth": 0,
             "ticks": ""
            },
            "colorscale": [
             [
              0.0,
              "#0d0887"
             ],
             [
              0.1111111111111111,
              "#46039f"
             ],
             [
              0.2222222222222222,
              "#7201a8"
             ],
             [
              0.3333333333333333,
              "#9c179e"
             ],
             [
              0.4444444444444444,
              "#bd3786"
             ],
             [
              0.5555555555555556,
              "#d8576b"
             ],
             [
              0.6666666666666666,
              "#ed7953"
             ],
             [
              0.7777777777777778,
              "#fb9f3a"
             ],
             [
              0.8888888888888888,
              "#fdca26"
             ],
             [
              1.0,
              "#f0f921"
             ]
            ]
           }
          ],
          "choropleth": [
           {
            "type": "choropleth",
            "colorbar": {
             "outlinewidth": 0,
             "ticks": ""
            }
           }
          ],
          "histogram2d": [
           {
            "type": "histogram2d",
            "colorbar": {
             "outlinewidth": 0,
             "ticks": ""
            },
            "colorscale": [
             [
              0.0,
              "#0d0887"
             ],
             [
              0.1111111111111111,
              "#46039f"
             ],
             [
              0.2222222222222222,
              "#7201a8"
             ],
             [
              0.3333333333333333,
              "#9c179e"
             ],
             [
              0.4444444444444444,
              "#bd3786"
             ],
             [
              0.5555555555555556,
              "#d8576b"
             ],
             [
              0.6666666666666666,
              "#ed7953"
             ],
             [
              0.7777777777777778,
              "#fb9f3a"
             ],
             [
              0.8888888888888888,
              "#fdca26"
             ],
             [
              1.0,
              "#f0f921"
             ]
            ]
           }
          ],
          "heatmap": [
           {
            "type": "heatmap",
            "colorbar": {
             "outlinewidth": 0,
             "ticks": ""
            },
            "colorscale": [
             [
              0.0,
              "#0d0887"
             ],
             [
              0.1111111111111111,
              "#46039f"
             ],
             [
              0.2222222222222222,
              "#7201a8"
             ],
             [
              0.3333333333333333,
              "#9c179e"
             ],
             [
              0.4444444444444444,
              "#bd3786"
             ],
             [
              0.5555555555555556,
              "#d8576b"
             ],
             [
              0.6666666666666666,
              "#ed7953"
             ],
             [
              0.7777777777777778,
              "#fb9f3a"
             ],
             [
              0.8888888888888888,
              "#fdca26"
             ],
             [
              1.0,
              "#f0f921"
             ]
            ]
           }
          ],
          "heatmapgl": [
           {
            "type": "heatmapgl",
            "colorbar": {
             "outlinewidth": 0,
             "ticks": ""
            },
            "colorscale": [
             [
              0.0,
              "#0d0887"
             ],
             [
              0.1111111111111111,
              "#46039f"
             ],
             [
              0.2222222222222222,
              "#7201a8"
             ],
             [
              0.3333333333333333,
              "#9c179e"
             ],
             [
              0.4444444444444444,
              "#bd3786"
             ],
             [
              0.5555555555555556,
              "#d8576b"
             ],
             [
              0.6666666666666666,
              "#ed7953"
             ],
             [
              0.7777777777777778,
              "#fb9f3a"
             ],
             [
              0.8888888888888888,
              "#fdca26"
             ],
             [
              1.0,
              "#f0f921"
             ]
            ]
           }
          ],
          "contourcarpet": [
           {
            "type": "contourcarpet",
            "colorbar": {
             "outlinewidth": 0,
             "ticks": ""
            }
           }
          ],
          "contour": [
           {
            "type": "contour",
            "colorbar": {
             "outlinewidth": 0,
             "ticks": ""
            },
            "colorscale": [
             [
              0.0,
              "#0d0887"
             ],
             [
              0.1111111111111111,
              "#46039f"
             ],
             [
              0.2222222222222222,
              "#7201a8"
             ],
             [
              0.3333333333333333,
              "#9c179e"
             ],
             [
              0.4444444444444444,
              "#bd3786"
             ],
             [
              0.5555555555555556,
              "#d8576b"
             ],
             [
              0.6666666666666666,
              "#ed7953"
             ],
             [
              0.7777777777777778,
              "#fb9f3a"
             ],
             [
              0.8888888888888888,
              "#fdca26"
             ],
             [
              1.0,
              "#f0f921"
             ]
            ]
           }
          ],
          "surface": [
           {
            "type": "surface",
            "colorbar": {
             "outlinewidth": 0,
             "ticks": ""
            },
            "colorscale": [
             [
              0.0,
              "#0d0887"
             ],
             [
              0.1111111111111111,
              "#46039f"
             ],
             [
              0.2222222222222222,
              "#7201a8"
             ],
             [
              0.3333333333333333,
              "#9c179e"
             ],
             [
              0.4444444444444444,
              "#bd3786"
             ],
             [
              0.5555555555555556,
              "#d8576b"
             ],
             [
              0.6666666666666666,
              "#ed7953"
             ],
             [
              0.7777777777777778,
              "#fb9f3a"
             ],
             [
              0.8888888888888888,
              "#fdca26"
             ],
             [
              1.0,
              "#f0f921"
             ]
            ]
           }
          ],
          "mesh3d": [
           {
            "type": "mesh3d",
            "colorbar": {
             "outlinewidth": 0,
             "ticks": ""
            }
           }
          ],
          "scatter": [
           {
            "marker": {
             "line": {
              "color": "#283442"
             }
            },
            "type": "scatter"
           }
          ],
          "parcoords": [
           {
            "type": "parcoords",
            "line": {
             "colorbar": {
              "outlinewidth": 0,
              "ticks": ""
             }
            }
           }
          ],
          "scatterpolargl": [
           {
            "type": "scatterpolargl",
            "marker": {
             "colorbar": {
              "outlinewidth": 0,
              "ticks": ""
             }
            }
           }
          ],
          "bar": [
           {
            "error_x": {
             "color": "#f2f5fa"
            },
            "error_y": {
             "color": "#f2f5fa"
            },
            "marker": {
             "line": {
              "color": "rgb(17,17,17)",
              "width": 0.5
             },
             "pattern": {
              "fillmode": "overlay",
              "size": 10,
              "solidity": 0.2
             }
            },
            "type": "bar"
           }
          ],
          "scattergeo": [
           {
            "type": "scattergeo",
            "marker": {
             "colorbar": {
              "outlinewidth": 0,
              "ticks": ""
             }
            }
           }
          ],
          "scatterpolar": [
           {
            "type": "scatterpolar",
            "marker": {
             "colorbar": {
              "outlinewidth": 0,
              "ticks": ""
             }
            }
           }
          ],
          "histogram": [
           {
            "marker": {
             "pattern": {
              "fillmode": "overlay",
              "size": 10,
              "solidity": 0.2
             }
            },
            "type": "histogram"
           }
          ],
          "scattergl": [
           {
            "marker": {
             "line": {
              "color": "#283442"
             }
            },
            "type": "scattergl"
           }
          ],
          "scatter3d": [
           {
            "type": "scatter3d",
            "line": {
             "colorbar": {
              "outlinewidth": 0,
              "ticks": ""
             }
            },
            "marker": {
             "colorbar": {
              "outlinewidth": 0,
              "ticks": ""
             }
            }
           }
          ],
          "scattermapbox": [
           {
            "type": "scattermapbox",
            "marker": {
             "colorbar": {
              "outlinewidth": 0,
              "ticks": ""
             }
            }
           }
          ],
          "scatterternary": [
           {
            "type": "scatterternary",
            "marker": {
             "colorbar": {
              "outlinewidth": 0,
              "ticks": ""
             }
            }
           }
          ],
          "scattercarpet": [
           {
            "type": "scattercarpet",
            "marker": {
             "colorbar": {
              "outlinewidth": 0,
              "ticks": ""
             }
            }
           }
          ],
          "carpet": [
           {
            "aaxis": {
             "endlinecolor": "#A2B1C6",
             "gridcolor": "#506784",
             "linecolor": "#506784",
             "minorgridcolor": "#506784",
             "startlinecolor": "#A2B1C6"
            },
            "baxis": {
             "endlinecolor": "#A2B1C6",
             "gridcolor": "#506784",
             "linecolor": "#506784",
             "minorgridcolor": "#506784",
             "startlinecolor": "#A2B1C6"
            },
            "type": "carpet"
           }
          ],
          "table": [
           {
            "cells": {
             "fill": {
              "color": "#506784"
             },
             "line": {
              "color": "rgb(17,17,17)"
             }
            },
            "header": {
             "fill": {
              "color": "#2a3f5f"
             },
             "line": {
              "color": "rgb(17,17,17)"
             }
            },
            "type": "table"
           }
          ],
          "barpolar": [
           {
            "marker": {
             "line": {
              "color": "rgb(17,17,17)",
              "width": 0.5
             },
             "pattern": {
              "fillmode": "overlay",
              "size": 10,
              "solidity": 0.2
             }
            },
            "type": "barpolar"
           }
          ],
          "pie": [
           {
            "automargin": true,
            "type": "pie"
           }
          ]
         },
         "layout": {
          "autotypenumbers": "strict",
          "colorway": [
           "#636efa",
           "#EF553B",
           "#00cc96",
           "#ab63fa",
           "#FFA15A",
           "#19d3f3",
           "#FF6692",
           "#B6E880",
           "#FF97FF",
           "#FECB52"
          ],
          "font": {
           "color": "#f2f5fa"
          },
          "hovermode": "closest",
          "hoverlabel": {
           "align": "left"
          },
          "paper_bgcolor": "rgb(17,17,17)",
          "plot_bgcolor": "rgb(17,17,17)",
          "polar": {
           "bgcolor": "rgb(17,17,17)",
           "angularaxis": {
            "gridcolor": "#506784",
            "linecolor": "#506784",
            "ticks": ""
           },
           "radialaxis": {
            "gridcolor": "#506784",
            "linecolor": "#506784",
            "ticks": ""
           }
          },
          "ternary": {
           "bgcolor": "rgb(17,17,17)",
           "aaxis": {
            "gridcolor": "#506784",
            "linecolor": "#506784",
            "ticks": ""
           },
           "baxis": {
            "gridcolor": "#506784",
            "linecolor": "#506784",
            "ticks": ""
           },
           "caxis": {
            "gridcolor": "#506784",
            "linecolor": "#506784",
            "ticks": ""
           }
          },
          "coloraxis": {
           "colorbar": {
            "outlinewidth": 0,
            "ticks": ""
           }
          },
          "colorscale": {
           "sequential": [
            [
             0.0,
             "#0d0887"
            ],
            [
             0.1111111111111111,
             "#46039f"
            ],
            [
             0.2222222222222222,
             "#7201a8"
            ],
            [
             0.3333333333333333,
             "#9c179e"
            ],
            [
             0.4444444444444444,
             "#bd3786"
            ],
            [
             0.5555555555555556,
             "#d8576b"
            ],
            [
             0.6666666666666666,
             "#ed7953"
            ],
            [
             0.7777777777777778,
             "#fb9f3a"
            ],
            [
             0.8888888888888888,
             "#fdca26"
            ],
            [
             1.0,
             "#f0f921"
            ]
           ],
           "sequentialminus": [
            [
             0.0,
             "#0d0887"
            ],
            [
             0.1111111111111111,
             "#46039f"
            ],
            [
             0.2222222222222222,
             "#7201a8"
            ],
            [
             0.3333333333333333,
             "#9c179e"
            ],
            [
             0.4444444444444444,
             "#bd3786"
            ],
            [
             0.5555555555555556,
             "#d8576b"
            ],
            [
             0.6666666666666666,
             "#ed7953"
            ],
            [
             0.7777777777777778,
             "#fb9f3a"
            ],
            [
             0.8888888888888888,
             "#fdca26"
            ],
            [
             1.0,
             "#f0f921"
            ]
           ],
           "diverging": [
            [
             0,
             "#8e0152"
            ],
            [
             0.1,
             "#c51b7d"
            ],
            [
             0.2,
             "#de77ae"
            ],
            [
             0.3,
             "#f1b6da"
            ],
            [
             0.4,
             "#fde0ef"
            ],
            [
             0.5,
             "#f7f7f7"
            ],
            [
             0.6,
             "#e6f5d0"
            ],
            [
             0.7,
             "#b8e186"
            ],
            [
             0.8,
             "#7fbc41"
            ],
            [
             0.9,
             "#4d9221"
            ],
            [
             1,
             "#276419"
            ]
           ]
          },
          "xaxis": {
           "gridcolor": "#283442",
           "linecolor": "#506784",
           "ticks": "",
           "title": {
            "standoff": 15
           },
           "zerolinecolor": "#283442",
           "automargin": true,
           "zerolinewidth": 2
          },
          "yaxis": {
           "gridcolor": "#283442",
           "linecolor": "#506784",
           "ticks": "",
           "title": {
            "standoff": 15
           },
           "zerolinecolor": "#283442",
           "automargin": true,
           "zerolinewidth": 2
          },
          "scene": {
           "xaxis": {
            "backgroundcolor": "rgb(17,17,17)",
            "gridcolor": "#506784",
            "linecolor": "#506784",
            "showbackground": true,
            "ticks": "",
            "zerolinecolor": "#C8D4E3",
            "gridwidth": 2
           },
           "yaxis": {
            "backgroundcolor": "rgb(17,17,17)",
            "gridcolor": "#506784",
            "linecolor": "#506784",
            "showbackground": true,
            "ticks": "",
            "zerolinecolor": "#C8D4E3",
            "gridwidth": 2
           },
           "zaxis": {
            "backgroundcolor": "rgb(17,17,17)",
            "gridcolor": "#506784",
            "linecolor": "#506784",
            "showbackground": true,
            "ticks": "",
            "zerolinecolor": "#C8D4E3",
            "gridwidth": 2
           }
          },
          "shapedefaults": {
           "line": {
            "color": "#f2f5fa"
           }
          },
          "annotationdefaults": {
           "arrowcolor": "#f2f5fa",
           "arrowhead": 0,
           "arrowwidth": 1
          },
          "geo": {
           "bgcolor": "rgb(17,17,17)",
           "landcolor": "rgb(17,17,17)",
           "subunitcolor": "#506784",
           "showland": true,
           "showlakes": true,
           "lakecolor": "rgb(17,17,17)"
          },
          "title": {
           "x": 0.05
          },
          "updatemenudefaults": {
           "bgcolor": "#506784",
           "borderwidth": 0
          },
          "sliderdefaults": {
           "bgcolor": "#C8D4E3",
           "borderwidth": 1,
           "bordercolor": "rgb(17,17,17)",
           "tickwidth": 0
          },
          "mapbox": {
           "style": "dark"
          }
         }
        },
        "xaxis": {
         "anchor": "y",
         "domain": [
          0.0,
          1.0
         ],
         "title": {
          "text": "Count"
         }
        },
        "yaxis": {
         "anchor": "x",
         "domain": [
          0.0,
          1.0
         ],
         "title": {
          "text": "Sector"
         }
        },
        "legend": {
         "tracegroupgap": 0
        },
        "margin": {
         "t": 60
        },
        "barmode": "relative"
       },
       "config": {
        "plotlyServerURL": "https://plot.ly"
       }
      },
      "text/html": "<div>                            <div id=\"fc8ab16b-471e-4c60-8852-ebd2c0255a4d\" class=\"plotly-graph-div\" style=\"height:525px; width:100%;\"></div>            <script type=\"text/javascript\">                require([\"plotly\"], function(Plotly) {                    window.PLOTLYENV=window.PLOTLYENV || {};                                    if (document.getElementById(\"fc8ab16b-471e-4c60-8852-ebd2c0255a4d\")) {                    Plotly.newPlot(                        \"fc8ab16b-471e-4c60-8852-ebd2c0255a4d\",                        [{\"alignmentgroup\":\"True\",\"hovertemplate\":\"Count=%{x}<br>Sector=%{y}<extra></extra>\",\"legendgroup\":\"\",\"marker\":{\"color\":\"#636efa\",\"pattern\":{\"shape\":\"\"}},\"name\":\"\",\"offsetgroup\":\"\",\"orientation\":\"h\",\"showlegend\":false,\"textposition\":\"auto\",\"x\":[1,2,4,5,7,7,12,15,21,22,24,24,25,28,28,34,36,44,62,84,89,117,386,1170],\"xaxis\":\"x\",\"y\":[\"Agriculture & Forestry\",\"Non-Profit\",\"Travel & Tourism\",\"Arts, Entertainment & Recreation\",\"Restaurants, Bars & Food Services\",\"Construction, Repair & Maintenance\",\"Consumer Services\",\"Real Estate\",\"Transportation & Logistics\",\"Government\",\"Biotech & Pharmaceuticals\",\"Education\",\"Accounting & Legal\",\"Oil, Gas, Energy & Utilities\",\"Telecommunications\",\"Retail\",\"Health Care\",\"Media\",\"Insurance\",\"Manufacturing\",\"Aerospace & Defense\",\"Finance\",\"Business Services\",\"Information Technology\"],\"yaxis\":\"y\",\"type\":\"bar\"}],                        {\"template\":{\"data\":{\"histogram2dcontour\":[{\"type\":\"histogram2dcontour\",\"colorbar\":{\"outlinewidth\":0,\"ticks\":\"\"},\"colorscale\":[[0.0,\"#0d0887\"],[0.1111111111111111,\"#46039f\"],[0.2222222222222222,\"#7201a8\"],[0.3333333333333333,\"#9c179e\"],[0.4444444444444444,\"#bd3786\"],[0.5555555555555556,\"#d8576b\"],[0.6666666666666666,\"#ed7953\"],[0.7777777777777778,\"#fb9f3a\"],[0.8888888888888888,\"#fdca26\"],[1.0,\"#f0f921\"]]}],\"choropleth\":[{\"type\":\"choropleth\",\"colorbar\":{\"outlinewidth\":0,\"ticks\":\"\"}}],\"histogram2d\":[{\"type\":\"histogram2d\",\"colorbar\":{\"outlinewidth\":0,\"ticks\":\"\"},\"colorscale\":[[0.0,\"#0d0887\"],[0.1111111111111111,\"#46039f\"],[0.2222222222222222,\"#7201a8\"],[0.3333333333333333,\"#9c179e\"],[0.4444444444444444,\"#bd3786\"],[0.5555555555555556,\"#d8576b\"],[0.6666666666666666,\"#ed7953\"],[0.7777777777777778,\"#fb9f3a\"],[0.8888888888888888,\"#fdca26\"],[1.0,\"#f0f921\"]]}],\"heatmap\":[{\"type\":\"heatmap\",\"colorbar\":{\"outlinewidth\":0,\"ticks\":\"\"},\"colorscale\":[[0.0,\"#0d0887\"],[0.1111111111111111,\"#46039f\"],[0.2222222222222222,\"#7201a8\"],[0.3333333333333333,\"#9c179e\"],[0.4444444444444444,\"#bd3786\"],[0.5555555555555556,\"#d8576b\"],[0.6666666666666666,\"#ed7953\"],[0.7777777777777778,\"#fb9f3a\"],[0.8888888888888888,\"#fdca26\"],[1.0,\"#f0f921\"]]}],\"heatmapgl\":[{\"type\":\"heatmapgl\",\"colorbar\":{\"outlinewidth\":0,\"ticks\":\"\"},\"colorscale\":[[0.0,\"#0d0887\"],[0.1111111111111111,\"#46039f\"],[0.2222222222222222,\"#7201a8\"],[0.3333333333333333,\"#9c179e\"],[0.4444444444444444,\"#bd3786\"],[0.5555555555555556,\"#d8576b\"],[0.6666666666666666,\"#ed7953\"],[0.7777777777777778,\"#fb9f3a\"],[0.8888888888888888,\"#fdca26\"],[1.0,\"#f0f921\"]]}],\"contourcarpet\":[{\"type\":\"contourcarpet\",\"colorbar\":{\"outlinewidth\":0,\"ticks\":\"\"}}],\"contour\":[{\"type\":\"contour\",\"colorbar\":{\"outlinewidth\":0,\"ticks\":\"\"},\"colorscale\":[[0.0,\"#0d0887\"],[0.1111111111111111,\"#46039f\"],[0.2222222222222222,\"#7201a8\"],[0.3333333333333333,\"#9c179e\"],[0.4444444444444444,\"#bd3786\"],[0.5555555555555556,\"#d8576b\"],[0.6666666666666666,\"#ed7953\"],[0.7777777777777778,\"#fb9f3a\"],[0.8888888888888888,\"#fdca26\"],[1.0,\"#f0f921\"]]}],\"surface\":[{\"type\":\"surface\",\"colorbar\":{\"outlinewidth\":0,\"ticks\":\"\"},\"colorscale\":[[0.0,\"#0d0887\"],[0.1111111111111111,\"#46039f\"],[0.2222222222222222,\"#7201a8\"],[0.3333333333333333,\"#9c179e\"],[0.4444444444444444,\"#bd3786\"],[0.5555555555555556,\"#d8576b\"],[0.6666666666666666,\"#ed7953\"],[0.7777777777777778,\"#fb9f3a\"],[0.8888888888888888,\"#fdca26\"],[1.0,\"#f0f921\"]]}],\"mesh3d\":[{\"type\":\"mesh3d\",\"colorbar\":{\"outlinewidth\":0,\"ticks\":\"\"}}],\"scatter\":[{\"marker\":{\"line\":{\"color\":\"#283442\"}},\"type\":\"scatter\"}],\"parcoords\":[{\"type\":\"parcoords\",\"line\":{\"colorbar\":{\"outlinewidth\":0,\"ticks\":\"\"}}}],\"scatterpolargl\":[{\"type\":\"scatterpolargl\",\"marker\":{\"colorbar\":{\"outlinewidth\":0,\"ticks\":\"\"}}}],\"bar\":[{\"error_x\":{\"color\":\"#f2f5fa\"},\"error_y\":{\"color\":\"#f2f5fa\"},\"marker\":{\"line\":{\"color\":\"rgb(17,17,17)\",\"width\":0.5},\"pattern\":{\"fillmode\":\"overlay\",\"size\":10,\"solidity\":0.2}},\"type\":\"bar\"}],\"scattergeo\":[{\"type\":\"scattergeo\",\"marker\":{\"colorbar\":{\"outlinewidth\":0,\"ticks\":\"\"}}}],\"scatterpolar\":[{\"type\":\"scatterpolar\",\"marker\":{\"colorbar\":{\"outlinewidth\":0,\"ticks\":\"\"}}}],\"histogram\":[{\"marker\":{\"pattern\":{\"fillmode\":\"overlay\",\"size\":10,\"solidity\":0.2}},\"type\":\"histogram\"}],\"scattergl\":[{\"marker\":{\"line\":{\"color\":\"#283442\"}},\"type\":\"scattergl\"}],\"scatter3d\":[{\"type\":\"scatter3d\",\"line\":{\"colorbar\":{\"outlinewidth\":0,\"ticks\":\"\"}},\"marker\":{\"colorbar\":{\"outlinewidth\":0,\"ticks\":\"\"}}}],\"scattermapbox\":[{\"type\":\"scattermapbox\",\"marker\":{\"colorbar\":{\"outlinewidth\":0,\"ticks\":\"\"}}}],\"scatterternary\":[{\"type\":\"scatterternary\",\"marker\":{\"colorbar\":{\"outlinewidth\":0,\"ticks\":\"\"}}}],\"scattercarpet\":[{\"type\":\"scattercarpet\",\"marker\":{\"colorbar\":{\"outlinewidth\":0,\"ticks\":\"\"}}}],\"carpet\":[{\"aaxis\":{\"endlinecolor\":\"#A2B1C6\",\"gridcolor\":\"#506784\",\"linecolor\":\"#506784\",\"minorgridcolor\":\"#506784\",\"startlinecolor\":\"#A2B1C6\"},\"baxis\":{\"endlinecolor\":\"#A2B1C6\",\"gridcolor\":\"#506784\",\"linecolor\":\"#506784\",\"minorgridcolor\":\"#506784\",\"startlinecolor\":\"#A2B1C6\"},\"type\":\"carpet\"}],\"table\":[{\"cells\":{\"fill\":{\"color\":\"#506784\"},\"line\":{\"color\":\"rgb(17,17,17)\"}},\"header\":{\"fill\":{\"color\":\"#2a3f5f\"},\"line\":{\"color\":\"rgb(17,17,17)\"}},\"type\":\"table\"}],\"barpolar\":[{\"marker\":{\"line\":{\"color\":\"rgb(17,17,17)\",\"width\":0.5},\"pattern\":{\"fillmode\":\"overlay\",\"size\":10,\"solidity\":0.2}},\"type\":\"barpolar\"}],\"pie\":[{\"automargin\":true,\"type\":\"pie\"}]},\"layout\":{\"autotypenumbers\":\"strict\",\"colorway\":[\"#636efa\",\"#EF553B\",\"#00cc96\",\"#ab63fa\",\"#FFA15A\",\"#19d3f3\",\"#FF6692\",\"#B6E880\",\"#FF97FF\",\"#FECB52\"],\"font\":{\"color\":\"#f2f5fa\"},\"hovermode\":\"closest\",\"hoverlabel\":{\"align\":\"left\"},\"paper_bgcolor\":\"rgb(17,17,17)\",\"plot_bgcolor\":\"rgb(17,17,17)\",\"polar\":{\"bgcolor\":\"rgb(17,17,17)\",\"angularaxis\":{\"gridcolor\":\"#506784\",\"linecolor\":\"#506784\",\"ticks\":\"\"},\"radialaxis\":{\"gridcolor\":\"#506784\",\"linecolor\":\"#506784\",\"ticks\":\"\"}},\"ternary\":{\"bgcolor\":\"rgb(17,17,17)\",\"aaxis\":{\"gridcolor\":\"#506784\",\"linecolor\":\"#506784\",\"ticks\":\"\"},\"baxis\":{\"gridcolor\":\"#506784\",\"linecolor\":\"#506784\",\"ticks\":\"\"},\"caxis\":{\"gridcolor\":\"#506784\",\"linecolor\":\"#506784\",\"ticks\":\"\"}},\"coloraxis\":{\"colorbar\":{\"outlinewidth\":0,\"ticks\":\"\"}},\"colorscale\":{\"sequential\":[[0.0,\"#0d0887\"],[0.1111111111111111,\"#46039f\"],[0.2222222222222222,\"#7201a8\"],[0.3333333333333333,\"#9c179e\"],[0.4444444444444444,\"#bd3786\"],[0.5555555555555556,\"#d8576b\"],[0.6666666666666666,\"#ed7953\"],[0.7777777777777778,\"#fb9f3a\"],[0.8888888888888888,\"#fdca26\"],[1.0,\"#f0f921\"]],\"sequentialminus\":[[0.0,\"#0d0887\"],[0.1111111111111111,\"#46039f\"],[0.2222222222222222,\"#7201a8\"],[0.3333333333333333,\"#9c179e\"],[0.4444444444444444,\"#bd3786\"],[0.5555555555555556,\"#d8576b\"],[0.6666666666666666,\"#ed7953\"],[0.7777777777777778,\"#fb9f3a\"],[0.8888888888888888,\"#fdca26\"],[1.0,\"#f0f921\"]],\"diverging\":[[0,\"#8e0152\"],[0.1,\"#c51b7d\"],[0.2,\"#de77ae\"],[0.3,\"#f1b6da\"],[0.4,\"#fde0ef\"],[0.5,\"#f7f7f7\"],[0.6,\"#e6f5d0\"],[0.7,\"#b8e186\"],[0.8,\"#7fbc41\"],[0.9,\"#4d9221\"],[1,\"#276419\"]]},\"xaxis\":{\"gridcolor\":\"#283442\",\"linecolor\":\"#506784\",\"ticks\":\"\",\"title\":{\"standoff\":15},\"zerolinecolor\":\"#283442\",\"automargin\":true,\"zerolinewidth\":2},\"yaxis\":{\"gridcolor\":\"#283442\",\"linecolor\":\"#506784\",\"ticks\":\"\",\"title\":{\"standoff\":15},\"zerolinecolor\":\"#283442\",\"automargin\":true,\"zerolinewidth\":2},\"scene\":{\"xaxis\":{\"backgroundcolor\":\"rgb(17,17,17)\",\"gridcolor\":\"#506784\",\"linecolor\":\"#506784\",\"showbackground\":true,\"ticks\":\"\",\"zerolinecolor\":\"#C8D4E3\",\"gridwidth\":2},\"yaxis\":{\"backgroundcolor\":\"rgb(17,17,17)\",\"gridcolor\":\"#506784\",\"linecolor\":\"#506784\",\"showbackground\":true,\"ticks\":\"\",\"zerolinecolor\":\"#C8D4E3\",\"gridwidth\":2},\"zaxis\":{\"backgroundcolor\":\"rgb(17,17,17)\",\"gridcolor\":\"#506784\",\"linecolor\":\"#506784\",\"showbackground\":true,\"ticks\":\"\",\"zerolinecolor\":\"#C8D4E3\",\"gridwidth\":2}},\"shapedefaults\":{\"line\":{\"color\":\"#f2f5fa\"}},\"annotationdefaults\":{\"arrowcolor\":\"#f2f5fa\",\"arrowhead\":0,\"arrowwidth\":1},\"geo\":{\"bgcolor\":\"rgb(17,17,17)\",\"landcolor\":\"rgb(17,17,17)\",\"subunitcolor\":\"#506784\",\"showland\":true,\"showlakes\":true,\"lakecolor\":\"rgb(17,17,17)\"},\"title\":{\"x\":0.05},\"updatemenudefaults\":{\"bgcolor\":\"#506784\",\"borderwidth\":0},\"sliderdefaults\":{\"bgcolor\":\"#C8D4E3\",\"borderwidth\":1,\"bordercolor\":\"rgb(17,17,17)\",\"tickwidth\":0},\"mapbox\":{\"style\":\"dark\"}}},\"xaxis\":{\"anchor\":\"y\",\"domain\":[0.0,1.0],\"title\":{\"text\":\"Count\"}},\"yaxis\":{\"anchor\":\"x\",\"domain\":[0.0,1.0],\"title\":{\"text\":\"Sector\"}},\"legend\":{\"tracegroupgap\":0},\"margin\":{\"t\":60},\"barmode\":\"relative\"},                        {\"responsive\": true}                    ).then(function(){\n                            \nvar gd = document.getElementById('fc8ab16b-471e-4c60-8852-ebd2c0255a4d');\nvar x = new MutationObserver(function (mutations, observer) {{\n        var display = window.getComputedStyle(gd).display;\n        if (!display || display === 'none') {{\n            console.log([gd, 'removed!']);\n            Plotly.purge(gd);\n            observer.disconnect();\n        }}\n}});\n\n// Listen for the removal of the full notebook cells\nvar notebookContainer = gd.closest('#notebook-container');\nif (notebookContainer) {{\n    x.observe(notebookContainer, {childList: true});\n}}\n\n// Listen for the clearing of the current output cell\nvar outputEl = gd.closest('.output');\nif (outputEl) {{\n    x.observe(outputEl, {childList: true});\n}}\n\n                        })                };                });            </script>        </div>"
     },
     "metadata": {},
     "output_type": "display_data"
    }
   ],
   "source": [
    "Sector = df.groupby(['Sector']).size().reset_index(name = 'Count').sort_values('Count', ascending=True)\n",
    "\n",
    "px.bar(Sector, y='Sector', x='Count')\n"
   ]
  },
  {
   "cell_type": "code",
   "execution_count": 241,
   "metadata": {},
   "outputs": [
    {
     "data": {
      "application/vnd.plotly.v1+json": {
       "data": [
        {
         "alignmentgroup": "True",
         "hovertemplate": "Salary Estimate mean=%{x}<extra></extra>",
         "legendgroup": "",
         "marker": {
          "color": "#636efa"
         },
         "name": "",
         "notched": false,
         "offsetgroup": "",
         "orientation": "h",
         "showlegend": false,
         "x": [
          115000.0,
          115000.0,
          115000.0,
          115000.0,
          115000.0,
          115000.0,
          115000.0,
          115000.0,
          115000.0,
          115000.0,
          115000.0,
          115000.0,
          115000.0,
          115000.0,
          115000.0,
          115000.0,
          115000.0,
          115000.0,
          115000.0,
          115000.0,
          115000.0,
          115000.0,
          115000.0,
          115000.0,
          115000.0,
          115000.0,
          83500.0,
          83500.0,
          83500.0,
          83500.0,
          83500.0,
          83500.0,
          83500.0,
          83500.0,
          83500.0,
          83500.0,
          83500.0,
          83500.0,
          83500.0,
          83500.0,
          83500.0,
          83500.0,
          83500.0,
          83500.0,
          83500.0,
          83500.0,
          83500.0,
          83500.0,
          83500.0,
          83500.0,
          83500.0,
          119500.0,
          119500.0,
          119500.0,
          119500.0,
          119500.0,
          119500.0,
          119500.0,
          119500.0,
          119500.0,
          119500.0,
          119500.0,
          119500.0,
          119500.0,
          119500.0,
          119500.0,
          119500.0,
          119500.0,
          119500.0,
          119500.0,
          119500.0,
          119500.0,
          119500.0,
          119500.0,
          119500.0,
          119500.0,
          119500.0,
          119500.0,
          119500.0,
          119500.0,
          98500.0,
          98500.0,
          98500.0,
          98500.0,
          98500.0,
          98500.0,
          98500.0,
          98500.0,
          98500.0,
          98500.0,
          98500.0,
          98500.0,
          98500.0,
          98500.0,
          98500.0,
          98500.0,
          98500.0,
          98500.0,
          98500.0,
          98500.0,
          98500.0,
          98500.0,
          98500.0,
          98500.0,
          98500.0,
          98500.0,
          98500.0,
          98500.0,
          98500.0,
          66000.0,
          66000.0,
          66000.0,
          66000.0,
          66000.0,
          66000.0,
          66000.0,
          66000.0,
          66000.0,
          66000.0,
          66000.0,
          66000.0,
          66000.0,
          66000.0,
          66000.0,
          66000.0,
          66000.0,
          66000.0,
          66000.0,
          66000.0,
          66000.0,
          66000.0,
          66000.0,
          66000.0,
          66000.0,
          66000.0,
          66000.0,
          113000.0,
          113000.0,
          113000.0,
          113000.0,
          113000.0,
          113000.0,
          113000.0,
          113000.0,
          113000.0,
          113000.0,
          113000.0,
          113000.0,
          113000.0,
          113000.0,
          113000.0,
          113000.0,
          113000.0,
          113000.0,
          113000.0,
          113000.0,
          113000.0,
          113000.0,
          113000.0,
          113000.0,
          113000.0,
          113000.0,
          113000.0,
          113000.0,
          113000.0,
          104500.0,
          104500.0,
          104500.0,
          104500.0,
          104500.0,
          104500.0,
          104500.0,
          112000.0,
          112000.0,
          112000.0,
          112000.0,
          112000.0,
          112000.0,
          112000.0,
          112000.0,
          112000.0,
          112000.0,
          112000.0,
          112000.0,
          112000.0,
          112000.0,
          112000.0,
          112000.0,
          112000.0,
          112000.0,
          112000.0,
          112000.0,
          112000.0,
          112000.0,
          112000.0,
          112000.0,
          112000.0,
          112000.0,
          131000.0,
          131000.0,
          131000.0,
          131000.0,
          131000.0,
          131000.0,
          131000.0,
          131000.0,
          131000.0,
          131000.0,
          131000.0,
          131000.0,
          131000.0,
          131000.0,
          131000.0,
          131000.0,
          131000.0,
          131000.0,
          131000.0,
          131000.0,
          131000.0,
          131000.0,
          131000.0,
          131000.0,
          131000.0,
          131000.0,
          131000.0,
          131000.0,
          112500.0,
          112500.0,
          112500.0,
          112500.0,
          112500.0,
          112500.0,
          112500.0,
          112500.0,
          112500.0,
          112500.0,
          112500.0,
          112500.0,
          112500.0,
          112500.0,
          112500.0,
          112500.0,
          112500.0,
          112500.0,
          112500.0,
          112500.0,
          112500.0,
          112500.0,
          112500.0,
          112500.0,
          112500.0,
          112500.0,
          112500.0,
          112500.0,
          99500.0,
          99500.0,
          99500.0,
          99500.0,
          99500.0,
          99500.0,
          99500.0,
          99500.0,
          99500.0,
          99500.0,
          99500.0,
          99500.0,
          99500.0,
          99500.0,
          99500.0,
          99500.0,
          99500.0,
          99500.0,
          99500.0,
          99500.0,
          99500.0,
          99500.0,
          99500.0,
          99500.0,
          99500.0,
          99500.0,
          99500.0,
          99500.0,
          99500.0,
          158000.0,
          158000.0,
          158000.0,
          158000.0,
          158000.0,
          158000.0,
          158000.0,
          158000.0,
          158000.0,
          158000.0,
          158000.0,
          158000.0,
          158000.0,
          158000.0,
          158000.0,
          158000.0,
          158000.0,
          158000.0,
          158000.0,
          158000.0,
          158000.0,
          158000.0,
          158000.0,
          158000.0,
          158000.0,
          158000.0,
          158000.0,
          129000.0,
          129000.0,
          129000.0,
          129000.0,
          129000.0,
          129000.0,
          129000.0,
          129000.0,
          129000.0,
          129000.0,
          129000.0,
          129000.0,
          129000.0,
          129000.0,
          129000.0,
          129000.0,
          129000.0,
          129000.0,
          129000.0,
          129000.0,
          129000.0,
          129000.0,
          129000.0,
          129000.0,
          129000.0,
          129000.0,
          129000.0,
          73500.0,
          73500.0,
          73500.0,
          73500.0,
          73500.0,
          73500.0,
          73500.0,
          73500.0,
          73500.0,
          73500.0,
          82000.0,
          82000.0,
          82000.0,
          82000.0,
          82000.0,
          82000.0,
          82000.0,
          82000.0,
          82000.0,
          82000.0,
          82000.0,
          82000.0,
          82000.0,
          82000.0,
          82000.0,
          82000.0,
          82000.0,
          82000.0,
          82000.0,
          82000.0,
          82000.0,
          82000.0,
          82000.0,
          82000.0,
          82000.0,
          82000.0,
          82000.0,
          82000.0,
          82000.0,
          82000.0,
          121500.0,
          121500.0,
          121500.0,
          121500.0,
          121500.0,
          121500.0,
          121500.0,
          121500.0,
          121500.0,
          121500.0,
          121500.0,
          121500.0,
          121500.0,
          121500.0,
          121500.0,
          121500.0,
          121500.0,
          121500.0,
          121500.0,
          121500.0,
          121500.0,
          121500.0,
          121500.0,
          121500.0,
          121500.0,
          121500.0,
          121500.0,
          121500.0,
          121500.0,
          171500.0,
          171500.0,
          171500.0,
          171500.0,
          171500.0,
          171500.0,
          171500.0,
          171500.0,
          171500.0,
          171500.0,
          171500.0,
          171500.0,
          171500.0,
          171500.0,
          171500.0,
          171500.0,
          171500.0,
          171500.0,
          171500.0,
          171500.0,
          171500.0,
          171500.0,
          171500.0,
          171500.0,
          171500.0,
          171500.0,
          171500.0,
          171500.0,
          97000.0,
          97000.0,
          97000.0,
          97000.0,
          97000.0,
          97000.0,
          97000.0,
          97000.0,
          97000.0,
          97000.0,
          97000.0,
          97000.0,
          97000.0,
          97000.0,
          97000.0,
          97000.0,
          97000.0,
          97000.0,
          97000.0,
          97000.0,
          97000.0,
          97000.0,
          97000.0,
          97000.0,
          97000.0,
          97000.0,
          97000.0,
          97000.0,
          69500.0,
          69500.0,
          69500.0,
          69500.0,
          69500.0,
          69500.0,
          69500.0,
          69500.0,
          69500.0,
          69500.0,
          69500.0,
          69500.0,
          69500.0,
          69500.0,
          69500.0,
          69500.0,
          69500.0,
          69500.0,
          69500.0,
          69500.0,
          69500.0,
          69500.0,
          69500.0,
          69500.0,
          69500.0,
          69500.0,
          69500.0,
          69500.0,
          69500.0,
          69500.0,
          76500.0,
          76500.0,
          76500.0,
          76500.0,
          76500.0,
          76500.0,
          76500.0,
          76500.0,
          76500.0,
          76500.0,
          76500.0,
          76500.0,
          76500.0,
          76500.0,
          76500.0,
          76500.0,
          76500.0,
          76500.0,
          76500.0,
          76500.0,
          76500.0,
          76500.0,
          76500.0,
          76500.0,
          76500.0,
          76500.0,
          76500.0,
          76500.0,
          90500.0,
          90500.0,
          90500.0,
          90500.0,
          90500.0,
          90500.0,
          90500.0,
          90500.0,
          90500.0,
          100500.0,
          100500.0,
          100500.0,
          100500.0,
          100500.0,
          100500.0,
          100500.0,
          100500.0,
          100500.0,
          100500.0,
          100500.0,
          100500.0,
          100500.0,
          100500.0,
          100500.0,
          100500.0,
          100500.0,
          100500.0,
          100500.0,
          100500.0,
          100500.0,
          100500.0,
          100500.0,
          100500.0,
          100500.0,
          100500.0,
          100500.0,
          100500.0,
          63500.0,
          63500.0,
          63500.0,
          63500.0,
          63500.0,
          63500.0,
          63500.0,
          63500.0,
          63500.0,
          63500.0,
          63500.0,
          63500.0,
          63500.0,
          63500.0,
          63500.0,
          63500.0,
          63500.0,
          63500.0,
          63500.0,
          63500.0,
          63500.0,
          63500.0,
          63500.0,
          63500.0,
          63500.0,
          63500.0,
          63500.0,
          63500.0,
          63500.0,
          63500.0,
          77000.0,
          77000.0,
          77000.0,
          77000.0,
          77000.0,
          77000.0,
          77000.0,
          77000.0,
          77000.0,
          77000.0,
          77000.0,
          77000.0,
          77000.0,
          77000.0,
          77000.0,
          77000.0,
          77000.0,
          77000.0,
          77000.0,
          77000.0,
          77000.0,
          77000.0,
          77000.0,
          77000.0,
          77000.0,
          80500.0,
          80500.0,
          80500.0,
          80500.0,
          80500.0,
          80500.0,
          80500.0,
          80500.0,
          80500.0,
          80500.0,
          80500.0,
          80500.0,
          80500.0,
          80500.0,
          80500.0,
          80500.0,
          80500.0,
          80500.0,
          80500.0,
          80500.0,
          80500.0,
          80500.0,
          80500.0,
          80500.0,
          80500.0,
          80500.0,
          86000.0,
          86000.0,
          86000.0,
          86000.0,
          86000.0,
          86000.0,
          86000.0,
          86000.0,
          86000.0,
          86000.0,
          86000.0,
          86000.0,
          86000.0,
          86000.0,
          86000.0,
          86000.0,
          86000.0,
          86000.0,
          86000.0,
          86000.0,
          86000.0,
          86000.0,
          86000.0,
          86000.0,
          86000.0,
          86000.0,
          86000.0,
          86000.0,
          86000.0,
          86000.0,
          83500.0,
          83500.0,
          83500.0,
          83500.0,
          83500.0,
          83500.0,
          83500.0,
          83500.0,
          83500.0,
          83500.0,
          83500.0,
          83500.0,
          83500.0,
          83500.0,
          83500.0,
          83500.0,
          83500.0,
          83500.0,
          83500.0,
          83500.0,
          83500.0,
          83500.0,
          98500.0,
          98500.0,
          98500.0,
          98500.0,
          98500.0,
          98500.0,
          98500.0,
          98500.0,
          98500.0,
          98500.0,
          98500.0,
          98500.0,
          98500.0,
          98500.0,
          98500.0,
          98500.0,
          95500.0,
          95500.0,
          95500.0,
          95500.0,
          95500.0,
          95500.0,
          95500.0,
          95500.0,
          95500.0,
          95500.0,
          95500.0,
          95500.0,
          95500.0,
          95500.0,
          95500.0,
          95500.0,
          95500.0,
          95500.0,
          95500.0,
          95500.0,
          95500.0,
          95500.0,
          95500.0,
          95500.0,
          95500.0,
          91500.0,
          91500.0,
          91500.0,
          91500.0,
          91500.0,
          91500.0,
          91500.0,
          91500.0,
          91500.0,
          91500.0,
          91500.0,
          91500.0,
          91500.0,
          91500.0,
          91500.0,
          91500.0,
          91500.0,
          91500.0,
          91500.0,
          91500.0,
          91500.0,
          91500.0,
          91500.0,
          91500.0,
          111000.0,
          111000.0,
          111000.0,
          111000.0,
          111000.0,
          111000.0,
          111000.0,
          111000.0,
          111000.0,
          111000.0,
          111000.0,
          111000.0,
          111000.0,
          111000.0,
          111000.0,
          111000.0,
          111000.0,
          111000.0,
          111000.0,
          111000.0,
          111000.0,
          111000.0,
          111000.0,
          111000.0,
          111000.0,
          111000.0,
          111000.0,
          95500.0,
          95500.0,
          95500.0,
          95500.0,
          95500.0,
          95500.0,
          95500.0,
          95500.0,
          95500.0,
          95500.0,
          95500.0,
          95500.0,
          95500.0,
          95500.0,
          95500.0,
          95500.0,
          95500.0,
          95500.0,
          95500.0,
          95500.0,
          95500.0,
          95500.0,
          95500.0,
          95500.0,
          95500.0,
          95500.0,
          95500.0,
          95500.0,
          95500.0,
          99500.0,
          99500.0,
          99500.0,
          99500.0,
          99500.0,
          99500.0,
          99500.0,
          99500.0,
          99500.0,
          99500.0,
          99500.0,
          99500.0,
          99500.0,
          99500.0,
          76000.0,
          76000.0,
          76000.0,
          76000.0,
          109500.0,
          109500.0,
          109500.0,
          109500.0,
          109500.0,
          109500.0,
          109500.0,
          109500.0,
          94000.0,
          94000.0,
          94000.0,
          94000.0,
          94000.0,
          94000.0,
          94000.0,
          152500.0,
          152500.0,
          152500.0,
          152500.0,
          152500.0,
          152500.0,
          104000.0,
          104000.0,
          104000.0,
          104000.0,
          104000.0,
          104000.0,
          104000.0,
          104000.0,
          74500.0,
          74500.0,
          74500.0,
          74500.0,
          74500.0,
          74500.0,
          77000.0,
          77000.0,
          77000.0,
          77000.0,
          77000.0,
          83000.0,
          83000.0,
          83000.0,
          83000.0,
          83000.0,
          83000.0,
          83000.0,
          83000.0,
          83000.0,
          83000.0,
          83000.0,
          83000.0,
          83000.0,
          83000.0,
          83000.0,
          83000.0,
          83000.0,
          83000.0,
          83000.0,
          83000.0,
          83000.0,
          83000.0,
          83000.0,
          83000.0,
          83000.0,
          83000.0,
          83000.0,
          130000.0,
          130000.0,
          130000.0,
          130000.0,
          130000.0,
          130000.0,
          130000.0,
          130000.0,
          130000.0,
          130000.0,
          130000.0,
          130000.0,
          130000.0,
          130000.0,
          130000.0,
          130000.0,
          130000.0,
          130000.0,
          130000.0,
          130000.0,
          130000.0,
          130000.0,
          130000.0,
          130000.0,
          130000.0,
          130000.0,
          130000.0,
          130000.0,
          130000.0,
          130000.0,
          82500.0,
          82500.0,
          82500.0,
          82500.0,
          82500.0,
          82500.0,
          82500.0,
          82500.0,
          82500.0,
          82500.0,
          82500.0,
          82500.0,
          82500.0,
          82500.0,
          82500.0,
          82500.0,
          82500.0,
          82500.0,
          82500.0,
          82500.0,
          82500.0,
          82500.0,
          82500.0,
          82500.0,
          82500.0,
          82500.0,
          82500.0,
          82500.0,
          79000.0,
          79000.0,
          79000.0,
          79000.0,
          79000.0,
          79000.0,
          79000.0,
          79000.0,
          79000.0,
          79000.0,
          79000.0,
          79000.0,
          79000.0,
          79000.0,
          79000.0,
          79000.0,
          79000.0,
          79000.0,
          79000.0,
          79000.0,
          79000.0,
          79000.0,
          79000.0,
          79000.0,
          79000.0,
          79000.0,
          79000.0,
          79000.0,
          79000.0,
          79000.0,
          79000.0,
          79000.0,
          80000.0,
          80000.0,
          80000.0,
          80000.0,
          80000.0,
          80000.0,
          80000.0,
          80000.0,
          80000.0,
          80000.0,
          80000.0,
          80000.0,
          80000.0,
          80000.0,
          80000.0,
          80000.0,
          80000.0,
          80000.0,
          80000.0,
          80000.0,
          80000.0,
          80000.0,
          80000.0,
          80000.0,
          80000.0,
          80000.0,
          80000.0,
          80000.0,
          100500.0,
          100500.0,
          100500.0,
          100500.0,
          100500.0,
          100500.0,
          100500.0,
          100500.0,
          100500.0,
          100500.0,
          100500.0,
          100500.0,
          100500.0,
          100500.0,
          100500.0,
          100500.0,
          100500.0,
          100500.0,
          100500.0,
          100500.0,
          100500.0,
          100500.0,
          100500.0,
          100500.0,
          100500.0,
          100500.0,
          100500.0,
          100500.0,
          100500.0,
          217500.0,
          217500.0,
          217500.0,
          217500.0,
          217500.0,
          217500.0,
          217500.0,
          83500.0,
          83500.0,
          83500.0,
          83500.0,
          83500.0,
          83500.0,
          83500.0,
          83500.0,
          83500.0,
          83500.0,
          83500.0,
          83500.0,
          83500.0,
          83500.0,
          83500.0,
          83500.0,
          83500.0,
          83500.0,
          83500.0,
          83500.0,
          83500.0,
          83500.0,
          83500.0,
          83500.0,
          83500.0,
          83500.0,
          105000.0,
          105000.0,
          105000.0,
          105000.0,
          105000.0,
          105000.0,
          105000.0,
          105000.0,
          105000.0,
          105000.0,
          105000.0,
          105000.0,
          105000.0,
          105000.0,
          105000.0,
          105000.0,
          105000.0,
          105000.0,
          105000.0,
          105000.0,
          105000.0,
          105000.0,
          105000.0,
          105000.0,
          105000.0,
          105000.0,
          105000.0,
          105000.0,
          62000.0,
          62000.0,
          62000.0,
          62000.0,
          62000.0,
          62000.0,
          62000.0,
          62000.0,
          62000.0,
          62000.0,
          62000.0,
          62000.0,
          62000.0,
          62000.0,
          62000.0,
          62000.0,
          62000.0,
          62000.0,
          62000.0,
          62000.0,
          62000.0,
          62000.0,
          62000.0,
          62000.0,
          62000.0,
          62000.0,
          62000.0,
          40500.0,
          40500.0,
          40500.0,
          40500.0,
          40500.0,
          40500.0,
          40500.0,
          40500.0,
          40500.0,
          40500.0,
          40500.0,
          40500.0,
          40500.0,
          40500.0,
          40500.0,
          40500.0,
          40500.0,
          40500.0,
          40500.0,
          40500.0,
          40500.0,
          40500.0,
          40500.0,
          40500.0,
          40500.0,
          40500.0,
          40500.0,
          40500.0,
          87000.0,
          87000.0,
          87000.0,
          87000.0,
          87000.0,
          87000.0,
          87000.0,
          87000.0,
          87000.0,
          87000.0,
          87000.0,
          87000.0,
          87000.0,
          87000.0,
          87000.0,
          87000.0,
          87000.0,
          87000.0,
          87000.0,
          87000.0,
          87000.0,
          87000.0,
          87000.0,
          87000.0,
          87000.0,
          87000.0,
          87000.0,
          87000.0,
          87000.0,
          57500.0,
          57500.0,
          57500.0,
          57500.0,
          57500.0,
          57500.0,
          57500.0,
          57500.0,
          57500.0,
          57500.0,
          57500.0,
          57500.0,
          57500.0,
          57500.0,
          57500.0,
          57500.0,
          57500.0,
          57500.0,
          57500.0,
          57500.0,
          57500.0,
          57500.0,
          57500.0,
          57500.0,
          57500.0,
          57500.0,
          57500.0,
          57500.0,
          57500.0,
          57500.0,
          97000.0,
          97000.0,
          97000.0,
          97000.0,
          97000.0,
          97000.0,
          97000.0,
          97000.0,
          97000.0,
          97000.0,
          97000.0,
          97000.0,
          97000.0,
          97000.0,
          97000.0,
          97000.0,
          97000.0,
          97000.0,
          97000.0,
          97000.0,
          129000.0,
          129000.0,
          129000.0,
          129000.0,
          129000.0,
          129000.0,
          129000.0,
          129000.0,
          129000.0,
          129000.0,
          129000.0,
          129000.0,
          129000.0,
          129000.0,
          129000.0,
          129000.0,
          129000.0,
          129000.0,
          129000.0,
          129000.0,
          129000.0,
          129000.0,
          129000.0,
          129000.0,
          129000.0,
          129000.0,
          129000.0,
          155500.0,
          155500.0,
          155500.0,
          155500.0,
          155500.0,
          155500.0,
          155500.0,
          155500.0,
          155500.0,
          155500.0,
          155500.0,
          155500.0,
          155500.0,
          155500.0,
          155500.0,
          155500.0,
          155500.0,
          155500.0,
          155500.0,
          155500.0,
          155500.0,
          155500.0,
          155500.0,
          155500.0,
          155500.0,
          155500.0,
          155500.0,
          155500.0,
          155500.0,
          69000.0,
          69000.0,
          69000.0,
          69000.0,
          69000.0,
          69000.0,
          69000.0,
          69000.0,
          69000.0,
          69000.0,
          69000.0,
          69000.0,
          69000.0,
          69000.0,
          69000.0,
          69000.0,
          69000.0,
          69000.0,
          69000.0,
          69000.0,
          69000.0,
          69000.0,
          69000.0,
          69000.0,
          69000.0,
          69000.0,
          69000.0,
          105500.0,
          105500.0,
          105500.0,
          105500.0,
          105500.0,
          105500.0,
          105500.0,
          105500.0,
          105500.0,
          105500.0,
          105500.0,
          105500.0,
          105500.0,
          105500.0,
          105500.0,
          105500.0,
          105500.0,
          105500.0,
          105500.0,
          105500.0,
          105500.0,
          105500.0,
          105500.0,
          105500.0,
          105500.0,
          105500.0,
          204000.0,
          204000.0,
          204000.0,
          204000.0,
          204000.0,
          204000.0,
          204000.0,
          204000.0,
          204000.0,
          204000.0,
          204000.0,
          204000.0,
          204000.0,
          204000.0,
          204000.0,
          204000.0,
          204000.0,
          204000.0,
          204000.0,
          204000.0,
          204000.0,
          204000.0,
          204000.0,
          204000.0,
          204000.0,
          204000.0,
          145500.0,
          145500.0,
          145500.0,
          145500.0,
          145500.0,
          145500.0,
          145500.0,
          145500.0,
          145500.0,
          145500.0,
          145500.0,
          145500.0,
          145500.0,
          145500.0,
          145500.0,
          145500.0,
          145500.0,
          145500.0,
          145500.0,
          145500.0,
          145500.0,
          145500.0,
          145500.0,
          145500.0,
          145500.0,
          145500.0,
          145500.0,
          145500.0,
          116500.0,
          116500.0,
          116500.0,
          116500.0,
          116500.0,
          116500.0,
          116500.0,
          116500.0,
          116500.0,
          116500.0,
          116500.0,
          116500.0,
          116500.0,
          116500.0,
          116500.0,
          116500.0,
          94000.0,
          94000.0,
          94000.0,
          94000.0,
          94000.0,
          94000.0,
          94000.0,
          94000.0,
          94000.0,
          94000.0,
          94000.0,
          94000.0,
          94000.0,
          94000.0,
          94000.0,
          94000.0,
          94000.0,
          94000.0,
          94000.0,
          94000.0,
          94000.0,
          94000.0,
          94000.0,
          94000.0,
          94000.0,
          94000.0,
          94000.0,
          94000.0,
          89500.0,
          89500.0,
          89500.0,
          89500.0,
          89500.0,
          89500.0,
          89500.0,
          89500.0,
          89500.0,
          89500.0,
          89500.0,
          89500.0,
          89500.0,
          89500.0,
          89500.0,
          89500.0,
          89500.0,
          89500.0,
          89500.0,
          89500.0,
          89500.0,
          89500.0,
          89500.0,
          89500.0,
          89500.0,
          89500.0,
          89500.0,
          107500.0,
          107500.0,
          107500.0,
          107500.0,
          107500.0,
          107500.0,
          107500.0,
          107500.0,
          107500.0,
          107500.0,
          107500.0,
          107500.0,
          107500.0,
          107500.0,
          107500.0,
          107500.0,
          107500.0,
          107500.0,
          107500.0,
          107500.0,
          107500.0,
          107500.0,
          107500.0,
          107500.0,
          107500.0,
          107500.0,
          107500.0,
          107500.0,
          107500.0,
          107500.0,
          84500.0,
          84500.0,
          84500.0,
          84500.0,
          84500.0,
          84500.0,
          84500.0,
          84500.0,
          84500.0,
          84500.0,
          84500.0,
          84500.0,
          84500.0,
          84500.0,
          84500.0,
          84500.0,
          84500.0,
          84500.0,
          84500.0,
          84500.0,
          84500.0,
          84500.0,
          84500.0,
          84500.0,
          84500.0,
          104000.0,
          104000.0,
          104000.0,
          104000.0,
          104000.0,
          104000.0,
          104000.0,
          104000.0,
          104000.0,
          104000.0,
          104000.0,
          104000.0,
          104000.0,
          104000.0,
          104000.0,
          104000.0,
          104000.0,
          104000.0,
          104000.0,
          104000.0,
          104000.0,
          104000.0,
          104000.0,
          104000.0,
          104000.0,
          104000.0,
          104000.0,
          104000.0,
          149000.0,
          149000.0,
          149000.0,
          149000.0,
          149000.0,
          149000.0,
          149000.0,
          149000.0,
          149000.0,
          149000.0,
          149000.0,
          149000.0,
          149000.0,
          149000.0,
          149000.0,
          149000.0,
          149000.0,
          149000.0,
          149000.0,
          149000.0,
          149000.0,
          149000.0,
          149000.0,
          149000.0,
          149000.0,
          149000.0,
          149000.0,
          149000.0,
          105000.0,
          105000.0,
          105000.0,
          105000.0,
          105000.0,
          105000.0,
          105000.0,
          105000.0,
          105000.0,
          105000.0,
          105000.0,
          105000.0,
          128500.0,
          128500.0,
          128500.0,
          128500.0,
          128500.0,
          128500.0,
          128500.0,
          128500.0,
          128500.0,
          128500.0,
          128500.0,
          128500.0,
          128500.0,
          128500.0,
          128500.0,
          128500.0,
          128500.0,
          128500.0,
          128500.0,
          128500.0,
          128500.0,
          128500.0,
          128500.0,
          128500.0,
          128500.0,
          178000.0,
          178000.0,
          178000.0,
          178000.0,
          178000.0,
          178000.0,
          178000.0,
          178000.0,
          178000.0,
          178000.0,
          178000.0,
          178000.0,
          178000.0,
          178000.0,
          178000.0,
          178000.0,
          178000.0,
          178000.0,
          178000.0,
          178000.0,
          178000.0,
          178000.0,
          178000.0,
          178000.0,
          178000.0,
          178000.0,
          178000.0,
          178000.0,
          178000.0,
          153500.0,
          153500.0,
          153500.0,
          153500.0,
          153500.0,
          153500.0,
          153500.0,
          153500.0,
          153500.0,
          153500.0,
          153500.0,
          153500.0,
          153500.0,
          153500.0,
          153500.0,
          153500.0,
          153500.0,
          153500.0,
          153500.0,
          153500.0,
          153500.0,
          153500.0,
          153500.0,
          153500.0,
          153500.0,
          153500.0,
          153500.0,
          111000.0,
          111000.0,
          111000.0,
          111000.0,
          111000.0,
          111000.0,
          111000.0,
          111000.0,
          111000.0,
          111000.0,
          111000.0,
          111000.0,
          111000.0,
          111000.0,
          111000.0,
          111000.0,
          111000.0,
          111000.0,
          111000.0,
          111000.0,
          111000.0,
          111000.0,
          111000.0,
          111000.0,
          111000.0,
          111000.0,
          111000.0,
          111000.0,
          111000.0,
          78500.0,
          78500.0,
          78500.0,
          78500.0,
          78500.0,
          78500.0,
          78500.0,
          78500.0,
          78500.0,
          78500.0,
          78500.0,
          78500.0,
          78500.0,
          78500.0,
          78500.0,
          78500.0,
          78500.0,
          78500.0,
          78500.0,
          78500.0,
          78500.0,
          78500.0,
          78500.0,
          78500.0,
          78500.0,
          78500.0,
          78500.0,
          78500.0,
          78500.0,
          78500.0,
          117500.0,
          117500.0,
          117500.0,
          117500.0,
          117500.0,
          117500.0,
          117500.0,
          117500.0,
          117500.0,
          117500.0,
          117500.0,
          117500.0,
          117500.0,
          117500.0,
          117500.0,
          117500.0,
          117500.0,
          117500.0,
          117500.0,
          117500.0,
          117500.0,
          117500.0,
          117500.0,
          117500.0,
          117500.0,
          117500.0,
          140500.0,
          140500.0,
          140500.0,
          140500.0,
          140500.0,
          140500.0,
          140500.0,
          140500.0,
          140500.0,
          140500.0,
          125500.0,
          125500.0,
          125500.0,
          125500.0,
          125500.0,
          125500.0,
          125500.0,
          125500.0,
          125500.0,
          125500.0,
          125500.0,
          125500.0,
          125500.0,
          125500.0,
          125500.0,
          125500.0,
          125500.0,
          125500.0,
          125500.0,
          125500.0,
          125500.0,
          125500.0,
          125500.0,
          125500.0,
          125500.0,
          125500.0,
          125500.0,
          125500.0,
          87500.0,
          87500.0,
          87500.0,
          87500.0,
          87500.0,
          87500.0,
          87500.0,
          87500.0,
          87500.0,
          87500.0,
          87500.0,
          87500.0,
          87500.0,
          87500.0,
          87500.0,
          87500.0,
          87500.0,
          87500.0,
          87500.0,
          87500.0,
          87500.0,
          87500.0,
          87500.0,
          87500.0,
          87500.0,
          87500.0,
          87500.0,
          138000.0,
          138000.0,
          138000.0,
          138000.0,
          138000.0,
          138000.0,
          138000.0,
          138000.0,
          138000.0,
          138000.0,
          138000.0,
          138000.0,
          138000.0,
          138000.0,
          138000.0,
          138000.0,
          138000.0,
          138000.0,
          138000.0,
          138000.0,
          138000.0,
          138000.0,
          138000.0,
          138000.0,
          138000.0,
          138000.0,
          138000.0,
          138000.0,
          68500.0,
          68500.0,
          68500.0,
          68500.0,
          68500.0,
          68500.0,
          68500.0,
          68500.0,
          68500.0,
          68500.0,
          68500.0,
          68500.0,
          68500.0,
          68500.0,
          68500.0,
          68500.0,
          68500.0,
          68500.0,
          68500.0,
          68500.0,
          68500.0,
          68500.0,
          68500.0,
          68500.0,
          68500.0,
          68500.0,
          68500.0,
          68500.0,
          68500.0,
          96500.0,
          96500.0,
          96500.0,
          96500.0,
          96500.0,
          96500.0,
          96500.0,
          96500.0,
          96500.0,
          96500.0,
          96500.0,
          96500.0,
          96500.0,
          96500.0,
          96500.0,
          96500.0,
          96500.0,
          96500.0,
          96500.0,
          96500.0,
          96500.0,
          96500.0,
          96500.0,
          96500.0,
          96500.0,
          96500.0,
          96500.0,
          96500.0,
          106000.0,
          106000.0,
          106000.0,
          106000.0,
          106000.0,
          106000.0,
          106000.0,
          106000.0,
          106000.0,
          106000.0,
          106000.0,
          106000.0,
          106000.0,
          106000.0,
          106000.0,
          106000.0,
          106000.0,
          106000.0,
          106000.0,
          106000.0,
          106000.0,
          106000.0,
          106000.0,
          106000.0,
          106000.0,
          106000.0,
          106000.0,
          106000.0,
          106000.0,
          106000.0,
          106000.0,
          106000.0,
          106000.0,
          106000.0,
          38500.0,
          38500.0,
          38500.0,
          38500.0,
          38500.0,
          38500.0,
          38500.0,
          38500.0,
          38500.0,
          38500.0,
          38500.0,
          38500.0,
          38500.0,
          38500.0,
          38500.0,
          38500.0,
          38500.0,
          38500.0,
          38500.0,
          38500.0,
          38500.0,
          38500.0,
          38500.0,
          38500.0,
          38500.0,
          92500.0,
          92500.0,
          92500.0,
          92500.0,
          92500.0,
          92500.0,
          92500.0,
          92500.0,
          92500.0,
          92500.0,
          92500.0,
          92500.0,
          92500.0,
          92500.0,
          92500.0,
          92500.0,
          92500.0,
          92500.0,
          92500.0,
          92500.0,
          92500.0,
          92500.0,
          92500.0,
          92500.0,
          92500.0,
          92500.0,
          92500.0,
          58000.0,
          58000.0,
          58000.0,
          58000.0,
          58000.0,
          58000.0,
          58000.0,
          58000.0,
          58000.0,
          58000.0,
          58000.0,
          58000.0,
          58000.0,
          58000.0,
          58000.0,
          58000.0,
          58000.0,
          58000.0,
          58000.0,
          58000.0,
          58000.0,
          58000.0,
          58000.0,
          58000.0,
          58000.0,
          58000.0,
          58000.0,
          58000.0,
          58000.0,
          60500.0,
          60500.0,
          60500.0,
          60500.0,
          60500.0,
          60500.0,
          60500.0,
          60500.0,
          60500.0,
          60500.0,
          60500.0,
          60500.0,
          60500.0,
          60500.0,
          60500.0,
          60500.0,
          60500.0,
          60500.0,
          60500.0,
          60500.0,
          60500.0,
          60500.0,
          60500.0,
          60500.0,
          60500.0,
          60500.0,
          60500.0,
          60500.0,
          60500.0,
          60500.0,
          56000.0,
          56000.0,
          56000.0,
          56000.0,
          56000.0,
          56000.0,
          56000.0,
          92500.0,
          92500.0,
          92500.0,
          92500.0,
          92500.0,
          92500.0,
          92500.0,
          92500.0,
          92500.0,
          92500.0,
          92500.0,
          92500.0,
          92500.0,
          92500.0,
          92500.0,
          92500.0,
          92500.0,
          92500.0,
          92500.0,
          92500.0,
          92500.0,
          92500.0,
          92500.0,
          92500.0,
          92500.0,
          92500.0,
          84500.0,
          84500.0,
          84500.0,
          84500.0,
          84500.0,
          84500.0,
          84500.0,
          84500.0,
          84500.0,
          84500.0,
          84500.0,
          84500.0,
          84500.0,
          84500.0,
          84500.0,
          84500.0,
          84500.0,
          84500.0,
          84500.0,
          84500.0,
          84500.0,
          84500.0,
          84500.0,
          84500.0,
          84500.0,
          84500.0,
          84500.0,
          45000.0,
          45000.0,
          45000.0,
          45000.0,
          45000.0,
          45000.0,
          45000.0,
          45000.0,
          45000.0,
          45000.0,
          45000.0,
          45000.0,
          45000.0,
          45000.0,
          45000.0,
          45000.0,
          45000.0,
          45000.0,
          45000.0,
          45000.0,
          45000.0,
          45000.0,
          45000.0,
          45000.0,
          45000.0,
          45000.0,
          45000.0,
          45000.0,
          45000.0,
          130000.0,
          130000.0,
          130000.0,
          130000.0,
          130000.0,
          130000.0,
          130000.0,
          130000.0,
          130000.0,
          130000.0,
          130000.0,
          130000.0,
          130000.0,
          130000.0,
          130000.0,
          130000.0,
          130000.0,
          130000.0,
          130000.0,
          130000.0,
          130000.0,
          130000.0,
          130000.0,
          130000.0,
          130000.0,
          130000.0,
          130000.0,
          130000.0,
          61000.0,
          61000.0,
          61000.0,
          61000.0,
          61000.0,
          61000.0,
          61000.0,
          61000.0,
          61000.0,
          61000.0,
          61000.0,
          61000.0,
          61000.0,
          61000.0,
          61000.0,
          61000.0,
          61000.0,
          61000.0,
          61000.0,
          61000.0,
          61000.0,
          61000.0,
          61000.0,
          61000.0,
          61000.0,
          61000.0,
          61000.0,
          61000.0,
          72500.0,
          72500.0,
          72500.0,
          72500.0,
          72500.0,
          72500.0,
          72500.0,
          72500.0,
          72500.0,
          72500.0,
          72500.0,
          72500.0,
          72500.0,
          72500.0,
          72500.0,
          72500.0,
          72500.0,
          72500.0,
          72500.0,
          72500.0,
          72500.0,
          72500.0,
          72500.0,
          72500.0,
          72500.0,
          72500.0,
          72500.0,
          72500.0,
          72500.0,
          102000.0,
          102000.0,
          102000.0,
          102000.0,
          102000.0,
          102000.0,
          102000.0,
          102000.0,
          102000.0,
          102000.0,
          102000.0,
          102000.0,
          102000.0,
          102000.0,
          102000.0,
          102000.0,
          102000.0
         ],
         "x0": " ",
         "xaxis": "x",
         "y0": " ",
         "yaxis": "y",
         "type": "box"
        }
       ],
       "layout": {
        "template": {
         "data": {
          "histogram2dcontour": [
           {
            "type": "histogram2dcontour",
            "colorbar": {
             "outlinewidth": 0,
             "ticks": ""
            },
            "colorscale": [
             [
              0.0,
              "#0d0887"
             ],
             [
              0.1111111111111111,
              "#46039f"
             ],
             [
              0.2222222222222222,
              "#7201a8"
             ],
             [
              0.3333333333333333,
              "#9c179e"
             ],
             [
              0.4444444444444444,
              "#bd3786"
             ],
             [
              0.5555555555555556,
              "#d8576b"
             ],
             [
              0.6666666666666666,
              "#ed7953"
             ],
             [
              0.7777777777777778,
              "#fb9f3a"
             ],
             [
              0.8888888888888888,
              "#fdca26"
             ],
             [
              1.0,
              "#f0f921"
             ]
            ]
           }
          ],
          "choropleth": [
           {
            "type": "choropleth",
            "colorbar": {
             "outlinewidth": 0,
             "ticks": ""
            }
           }
          ],
          "histogram2d": [
           {
            "type": "histogram2d",
            "colorbar": {
             "outlinewidth": 0,
             "ticks": ""
            },
            "colorscale": [
             [
              0.0,
              "#0d0887"
             ],
             [
              0.1111111111111111,
              "#46039f"
             ],
             [
              0.2222222222222222,
              "#7201a8"
             ],
             [
              0.3333333333333333,
              "#9c179e"
             ],
             [
              0.4444444444444444,
              "#bd3786"
             ],
             [
              0.5555555555555556,
              "#d8576b"
             ],
             [
              0.6666666666666666,
              "#ed7953"
             ],
             [
              0.7777777777777778,
              "#fb9f3a"
             ],
             [
              0.8888888888888888,
              "#fdca26"
             ],
             [
              1.0,
              "#f0f921"
             ]
            ]
           }
          ],
          "heatmap": [
           {
            "type": "heatmap",
            "colorbar": {
             "outlinewidth": 0,
             "ticks": ""
            },
            "colorscale": [
             [
              0.0,
              "#0d0887"
             ],
             [
              0.1111111111111111,
              "#46039f"
             ],
             [
              0.2222222222222222,
              "#7201a8"
             ],
             [
              0.3333333333333333,
              "#9c179e"
             ],
             [
              0.4444444444444444,
              "#bd3786"
             ],
             [
              0.5555555555555556,
              "#d8576b"
             ],
             [
              0.6666666666666666,
              "#ed7953"
             ],
             [
              0.7777777777777778,
              "#fb9f3a"
             ],
             [
              0.8888888888888888,
              "#fdca26"
             ],
             [
              1.0,
              "#f0f921"
             ]
            ]
           }
          ],
          "heatmapgl": [
           {
            "type": "heatmapgl",
            "colorbar": {
             "outlinewidth": 0,
             "ticks": ""
            },
            "colorscale": [
             [
              0.0,
              "#0d0887"
             ],
             [
              0.1111111111111111,
              "#46039f"
             ],
             [
              0.2222222222222222,
              "#7201a8"
             ],
             [
              0.3333333333333333,
              "#9c179e"
             ],
             [
              0.4444444444444444,
              "#bd3786"
             ],
             [
              0.5555555555555556,
              "#d8576b"
             ],
             [
              0.6666666666666666,
              "#ed7953"
             ],
             [
              0.7777777777777778,
              "#fb9f3a"
             ],
             [
              0.8888888888888888,
              "#fdca26"
             ],
             [
              1.0,
              "#f0f921"
             ]
            ]
           }
          ],
          "contourcarpet": [
           {
            "type": "contourcarpet",
            "colorbar": {
             "outlinewidth": 0,
             "ticks": ""
            }
           }
          ],
          "contour": [
           {
            "type": "contour",
            "colorbar": {
             "outlinewidth": 0,
             "ticks": ""
            },
            "colorscale": [
             [
              0.0,
              "#0d0887"
             ],
             [
              0.1111111111111111,
              "#46039f"
             ],
             [
              0.2222222222222222,
              "#7201a8"
             ],
             [
              0.3333333333333333,
              "#9c179e"
             ],
             [
              0.4444444444444444,
              "#bd3786"
             ],
             [
              0.5555555555555556,
              "#d8576b"
             ],
             [
              0.6666666666666666,
              "#ed7953"
             ],
             [
              0.7777777777777778,
              "#fb9f3a"
             ],
             [
              0.8888888888888888,
              "#fdca26"
             ],
             [
              1.0,
              "#f0f921"
             ]
            ]
           }
          ],
          "surface": [
           {
            "type": "surface",
            "colorbar": {
             "outlinewidth": 0,
             "ticks": ""
            },
            "colorscale": [
             [
              0.0,
              "#0d0887"
             ],
             [
              0.1111111111111111,
              "#46039f"
             ],
             [
              0.2222222222222222,
              "#7201a8"
             ],
             [
              0.3333333333333333,
              "#9c179e"
             ],
             [
              0.4444444444444444,
              "#bd3786"
             ],
             [
              0.5555555555555556,
              "#d8576b"
             ],
             [
              0.6666666666666666,
              "#ed7953"
             ],
             [
              0.7777777777777778,
              "#fb9f3a"
             ],
             [
              0.8888888888888888,
              "#fdca26"
             ],
             [
              1.0,
              "#f0f921"
             ]
            ]
           }
          ],
          "mesh3d": [
           {
            "type": "mesh3d",
            "colorbar": {
             "outlinewidth": 0,
             "ticks": ""
            }
           }
          ],
          "scatter": [
           {
            "marker": {
             "line": {
              "color": "#283442"
             }
            },
            "type": "scatter"
           }
          ],
          "parcoords": [
           {
            "type": "parcoords",
            "line": {
             "colorbar": {
              "outlinewidth": 0,
              "ticks": ""
             }
            }
           }
          ],
          "scatterpolargl": [
           {
            "type": "scatterpolargl",
            "marker": {
             "colorbar": {
              "outlinewidth": 0,
              "ticks": ""
             }
            }
           }
          ],
          "bar": [
           {
            "error_x": {
             "color": "#f2f5fa"
            },
            "error_y": {
             "color": "#f2f5fa"
            },
            "marker": {
             "line": {
              "color": "rgb(17,17,17)",
              "width": 0.5
             },
             "pattern": {
              "fillmode": "overlay",
              "size": 10,
              "solidity": 0.2
             }
            },
            "type": "bar"
           }
          ],
          "scattergeo": [
           {
            "type": "scattergeo",
            "marker": {
             "colorbar": {
              "outlinewidth": 0,
              "ticks": ""
             }
            }
           }
          ],
          "scatterpolar": [
           {
            "type": "scatterpolar",
            "marker": {
             "colorbar": {
              "outlinewidth": 0,
              "ticks": ""
             }
            }
           }
          ],
          "histogram": [
           {
            "marker": {
             "pattern": {
              "fillmode": "overlay",
              "size": 10,
              "solidity": 0.2
             }
            },
            "type": "histogram"
           }
          ],
          "scattergl": [
           {
            "marker": {
             "line": {
              "color": "#283442"
             }
            },
            "type": "scattergl"
           }
          ],
          "scatter3d": [
           {
            "type": "scatter3d",
            "line": {
             "colorbar": {
              "outlinewidth": 0,
              "ticks": ""
             }
            },
            "marker": {
             "colorbar": {
              "outlinewidth": 0,
              "ticks": ""
             }
            }
           }
          ],
          "scattermapbox": [
           {
            "type": "scattermapbox",
            "marker": {
             "colorbar": {
              "outlinewidth": 0,
              "ticks": ""
             }
            }
           }
          ],
          "scatterternary": [
           {
            "type": "scatterternary",
            "marker": {
             "colorbar": {
              "outlinewidth": 0,
              "ticks": ""
             }
            }
           }
          ],
          "scattercarpet": [
           {
            "type": "scattercarpet",
            "marker": {
             "colorbar": {
              "outlinewidth": 0,
              "ticks": ""
             }
            }
           }
          ],
          "carpet": [
           {
            "aaxis": {
             "endlinecolor": "#A2B1C6",
             "gridcolor": "#506784",
             "linecolor": "#506784",
             "minorgridcolor": "#506784",
             "startlinecolor": "#A2B1C6"
            },
            "baxis": {
             "endlinecolor": "#A2B1C6",
             "gridcolor": "#506784",
             "linecolor": "#506784",
             "minorgridcolor": "#506784",
             "startlinecolor": "#A2B1C6"
            },
            "type": "carpet"
           }
          ],
          "table": [
           {
            "cells": {
             "fill": {
              "color": "#506784"
             },
             "line": {
              "color": "rgb(17,17,17)"
             }
            },
            "header": {
             "fill": {
              "color": "#2a3f5f"
             },
             "line": {
              "color": "rgb(17,17,17)"
             }
            },
            "type": "table"
           }
          ],
          "barpolar": [
           {
            "marker": {
             "line": {
              "color": "rgb(17,17,17)",
              "width": 0.5
             },
             "pattern": {
              "fillmode": "overlay",
              "size": 10,
              "solidity": 0.2
             }
            },
            "type": "barpolar"
           }
          ],
          "pie": [
           {
            "automargin": true,
            "type": "pie"
           }
          ]
         },
         "layout": {
          "autotypenumbers": "strict",
          "colorway": [
           "#636efa",
           "#EF553B",
           "#00cc96",
           "#ab63fa",
           "#FFA15A",
           "#19d3f3",
           "#FF6692",
           "#B6E880",
           "#FF97FF",
           "#FECB52"
          ],
          "font": {
           "color": "#f2f5fa"
          },
          "hovermode": "closest",
          "hoverlabel": {
           "align": "left"
          },
          "paper_bgcolor": "rgb(17,17,17)",
          "plot_bgcolor": "rgb(17,17,17)",
          "polar": {
           "bgcolor": "rgb(17,17,17)",
           "angularaxis": {
            "gridcolor": "#506784",
            "linecolor": "#506784",
            "ticks": ""
           },
           "radialaxis": {
            "gridcolor": "#506784",
            "linecolor": "#506784",
            "ticks": ""
           }
          },
          "ternary": {
           "bgcolor": "rgb(17,17,17)",
           "aaxis": {
            "gridcolor": "#506784",
            "linecolor": "#506784",
            "ticks": ""
           },
           "baxis": {
            "gridcolor": "#506784",
            "linecolor": "#506784",
            "ticks": ""
           },
           "caxis": {
            "gridcolor": "#506784",
            "linecolor": "#506784",
            "ticks": ""
           }
          },
          "coloraxis": {
           "colorbar": {
            "outlinewidth": 0,
            "ticks": ""
           }
          },
          "colorscale": {
           "sequential": [
            [
             0.0,
             "#0d0887"
            ],
            [
             0.1111111111111111,
             "#46039f"
            ],
            [
             0.2222222222222222,
             "#7201a8"
            ],
            [
             0.3333333333333333,
             "#9c179e"
            ],
            [
             0.4444444444444444,
             "#bd3786"
            ],
            [
             0.5555555555555556,
             "#d8576b"
            ],
            [
             0.6666666666666666,
             "#ed7953"
            ],
            [
             0.7777777777777778,
             "#fb9f3a"
            ],
            [
             0.8888888888888888,
             "#fdca26"
            ],
            [
             1.0,
             "#f0f921"
            ]
           ],
           "sequentialminus": [
            [
             0.0,
             "#0d0887"
            ],
            [
             0.1111111111111111,
             "#46039f"
            ],
            [
             0.2222222222222222,
             "#7201a8"
            ],
            [
             0.3333333333333333,
             "#9c179e"
            ],
            [
             0.4444444444444444,
             "#bd3786"
            ],
            [
             0.5555555555555556,
             "#d8576b"
            ],
            [
             0.6666666666666666,
             "#ed7953"
            ],
            [
             0.7777777777777778,
             "#fb9f3a"
            ],
            [
             0.8888888888888888,
             "#fdca26"
            ],
            [
             1.0,
             "#f0f921"
            ]
           ],
           "diverging": [
            [
             0,
             "#8e0152"
            ],
            [
             0.1,
             "#c51b7d"
            ],
            [
             0.2,
             "#de77ae"
            ],
            [
             0.3,
             "#f1b6da"
            ],
            [
             0.4,
             "#fde0ef"
            ],
            [
             0.5,
             "#f7f7f7"
            ],
            [
             0.6,
             "#e6f5d0"
            ],
            [
             0.7,
             "#b8e186"
            ],
            [
             0.8,
             "#7fbc41"
            ],
            [
             0.9,
             "#4d9221"
            ],
            [
             1,
             "#276419"
            ]
           ]
          },
          "xaxis": {
           "gridcolor": "#283442",
           "linecolor": "#506784",
           "ticks": "",
           "title": {
            "standoff": 15
           },
           "zerolinecolor": "#283442",
           "automargin": true,
           "zerolinewidth": 2
          },
          "yaxis": {
           "gridcolor": "#283442",
           "linecolor": "#506784",
           "ticks": "",
           "title": {
            "standoff": 15
           },
           "zerolinecolor": "#283442",
           "automargin": true,
           "zerolinewidth": 2
          },
          "scene": {
           "xaxis": {
            "backgroundcolor": "rgb(17,17,17)",
            "gridcolor": "#506784",
            "linecolor": "#506784",
            "showbackground": true,
            "ticks": "",
            "zerolinecolor": "#C8D4E3",
            "gridwidth": 2
           },
           "yaxis": {
            "backgroundcolor": "rgb(17,17,17)",
            "gridcolor": "#506784",
            "linecolor": "#506784",
            "showbackground": true,
            "ticks": "",
            "zerolinecolor": "#C8D4E3",
            "gridwidth": 2
           },
           "zaxis": {
            "backgroundcolor": "rgb(17,17,17)",
            "gridcolor": "#506784",
            "linecolor": "#506784",
            "showbackground": true,
            "ticks": "",
            "zerolinecolor": "#C8D4E3",
            "gridwidth": 2
           }
          },
          "shapedefaults": {
           "line": {
            "color": "#f2f5fa"
           }
          },
          "annotationdefaults": {
           "arrowcolor": "#f2f5fa",
           "arrowhead": 0,
           "arrowwidth": 1
          },
          "geo": {
           "bgcolor": "rgb(17,17,17)",
           "landcolor": "rgb(17,17,17)",
           "subunitcolor": "#506784",
           "showland": true,
           "showlakes": true,
           "lakecolor": "rgb(17,17,17)"
          },
          "title": {
           "x": 0.05
          },
          "updatemenudefaults": {
           "bgcolor": "#506784",
           "borderwidth": 0
          },
          "sliderdefaults": {
           "bgcolor": "#C8D4E3",
           "borderwidth": 1,
           "bordercolor": "rgb(17,17,17)",
           "tickwidth": 0
          },
          "mapbox": {
           "style": "dark"
          }
         }
        },
        "xaxis": {
         "anchor": "y",
         "domain": [
          0.0,
          1.0
         ],
         "title": {
          "text": "Salary Estimate mean"
         }
        },
        "yaxis": {
         "anchor": "x",
         "domain": [
          0.0,
          1.0
         ]
        },
        "legend": {
         "tracegroupgap": 0
        },
        "title": {
         "text": "Boxplot of Salary Estimate's mean"
        },
        "boxmode": "group"
       },
       "config": {
        "plotlyServerURL": "https://plot.ly"
       }
      },
      "text/html": "<div>                            <div id=\"30958ad7-95c2-458a-80dd-75a79b836e64\" class=\"plotly-graph-div\" style=\"height:525px; width:100%;\"></div>            <script type=\"text/javascript\">                require([\"plotly\"], function(Plotly) {                    window.PLOTLYENV=window.PLOTLYENV || {};                                    if (document.getElementById(\"30958ad7-95c2-458a-80dd-75a79b836e64\")) {                    Plotly.newPlot(                        \"30958ad7-95c2-458a-80dd-75a79b836e64\",                        [{\"alignmentgroup\":\"True\",\"hovertemplate\":\"Salary Estimate mean=%{x}<extra></extra>\",\"legendgroup\":\"\",\"marker\":{\"color\":\"#636efa\"},\"name\":\"\",\"notched\":false,\"offsetgroup\":\"\",\"orientation\":\"h\",\"showlegend\":false,\"x\":[115000.0,115000.0,115000.0,115000.0,115000.0,115000.0,115000.0,115000.0,115000.0,115000.0,115000.0,115000.0,115000.0,115000.0,115000.0,115000.0,115000.0,115000.0,115000.0,115000.0,115000.0,115000.0,115000.0,115000.0,115000.0,115000.0,83500.0,83500.0,83500.0,83500.0,83500.0,83500.0,83500.0,83500.0,83500.0,83500.0,83500.0,83500.0,83500.0,83500.0,83500.0,83500.0,83500.0,83500.0,83500.0,83500.0,83500.0,83500.0,83500.0,83500.0,83500.0,119500.0,119500.0,119500.0,119500.0,119500.0,119500.0,119500.0,119500.0,119500.0,119500.0,119500.0,119500.0,119500.0,119500.0,119500.0,119500.0,119500.0,119500.0,119500.0,119500.0,119500.0,119500.0,119500.0,119500.0,119500.0,119500.0,119500.0,119500.0,119500.0,98500.0,98500.0,98500.0,98500.0,98500.0,98500.0,98500.0,98500.0,98500.0,98500.0,98500.0,98500.0,98500.0,98500.0,98500.0,98500.0,98500.0,98500.0,98500.0,98500.0,98500.0,98500.0,98500.0,98500.0,98500.0,98500.0,98500.0,98500.0,98500.0,66000.0,66000.0,66000.0,66000.0,66000.0,66000.0,66000.0,66000.0,66000.0,66000.0,66000.0,66000.0,66000.0,66000.0,66000.0,66000.0,66000.0,66000.0,66000.0,66000.0,66000.0,66000.0,66000.0,66000.0,66000.0,66000.0,66000.0,113000.0,113000.0,113000.0,113000.0,113000.0,113000.0,113000.0,113000.0,113000.0,113000.0,113000.0,113000.0,113000.0,113000.0,113000.0,113000.0,113000.0,113000.0,113000.0,113000.0,113000.0,113000.0,113000.0,113000.0,113000.0,113000.0,113000.0,113000.0,113000.0,104500.0,104500.0,104500.0,104500.0,104500.0,104500.0,104500.0,112000.0,112000.0,112000.0,112000.0,112000.0,112000.0,112000.0,112000.0,112000.0,112000.0,112000.0,112000.0,112000.0,112000.0,112000.0,112000.0,112000.0,112000.0,112000.0,112000.0,112000.0,112000.0,112000.0,112000.0,112000.0,112000.0,131000.0,131000.0,131000.0,131000.0,131000.0,131000.0,131000.0,131000.0,131000.0,131000.0,131000.0,131000.0,131000.0,131000.0,131000.0,131000.0,131000.0,131000.0,131000.0,131000.0,131000.0,131000.0,131000.0,131000.0,131000.0,131000.0,131000.0,131000.0,112500.0,112500.0,112500.0,112500.0,112500.0,112500.0,112500.0,112500.0,112500.0,112500.0,112500.0,112500.0,112500.0,112500.0,112500.0,112500.0,112500.0,112500.0,112500.0,112500.0,112500.0,112500.0,112500.0,112500.0,112500.0,112500.0,112500.0,112500.0,99500.0,99500.0,99500.0,99500.0,99500.0,99500.0,99500.0,99500.0,99500.0,99500.0,99500.0,99500.0,99500.0,99500.0,99500.0,99500.0,99500.0,99500.0,99500.0,99500.0,99500.0,99500.0,99500.0,99500.0,99500.0,99500.0,99500.0,99500.0,99500.0,158000.0,158000.0,158000.0,158000.0,158000.0,158000.0,158000.0,158000.0,158000.0,158000.0,158000.0,158000.0,158000.0,158000.0,158000.0,158000.0,158000.0,158000.0,158000.0,158000.0,158000.0,158000.0,158000.0,158000.0,158000.0,158000.0,158000.0,129000.0,129000.0,129000.0,129000.0,129000.0,129000.0,129000.0,129000.0,129000.0,129000.0,129000.0,129000.0,129000.0,129000.0,129000.0,129000.0,129000.0,129000.0,129000.0,129000.0,129000.0,129000.0,129000.0,129000.0,129000.0,129000.0,129000.0,73500.0,73500.0,73500.0,73500.0,73500.0,73500.0,73500.0,73500.0,73500.0,73500.0,82000.0,82000.0,82000.0,82000.0,82000.0,82000.0,82000.0,82000.0,82000.0,82000.0,82000.0,82000.0,82000.0,82000.0,82000.0,82000.0,82000.0,82000.0,82000.0,82000.0,82000.0,82000.0,82000.0,82000.0,82000.0,82000.0,82000.0,82000.0,82000.0,82000.0,121500.0,121500.0,121500.0,121500.0,121500.0,121500.0,121500.0,121500.0,121500.0,121500.0,121500.0,121500.0,121500.0,121500.0,121500.0,121500.0,121500.0,121500.0,121500.0,121500.0,121500.0,121500.0,121500.0,121500.0,121500.0,121500.0,121500.0,121500.0,121500.0,171500.0,171500.0,171500.0,171500.0,171500.0,171500.0,171500.0,171500.0,171500.0,171500.0,171500.0,171500.0,171500.0,171500.0,171500.0,171500.0,171500.0,171500.0,171500.0,171500.0,171500.0,171500.0,171500.0,171500.0,171500.0,171500.0,171500.0,171500.0,97000.0,97000.0,97000.0,97000.0,97000.0,97000.0,97000.0,97000.0,97000.0,97000.0,97000.0,97000.0,97000.0,97000.0,97000.0,97000.0,97000.0,97000.0,97000.0,97000.0,97000.0,97000.0,97000.0,97000.0,97000.0,97000.0,97000.0,97000.0,69500.0,69500.0,69500.0,69500.0,69500.0,69500.0,69500.0,69500.0,69500.0,69500.0,69500.0,69500.0,69500.0,69500.0,69500.0,69500.0,69500.0,69500.0,69500.0,69500.0,69500.0,69500.0,69500.0,69500.0,69500.0,69500.0,69500.0,69500.0,69500.0,69500.0,76500.0,76500.0,76500.0,76500.0,76500.0,76500.0,76500.0,76500.0,76500.0,76500.0,76500.0,76500.0,76500.0,76500.0,76500.0,76500.0,76500.0,76500.0,76500.0,76500.0,76500.0,76500.0,76500.0,76500.0,76500.0,76500.0,76500.0,76500.0,90500.0,90500.0,90500.0,90500.0,90500.0,90500.0,90500.0,90500.0,90500.0,100500.0,100500.0,100500.0,100500.0,100500.0,100500.0,100500.0,100500.0,100500.0,100500.0,100500.0,100500.0,100500.0,100500.0,100500.0,100500.0,100500.0,100500.0,100500.0,100500.0,100500.0,100500.0,100500.0,100500.0,100500.0,100500.0,100500.0,100500.0,63500.0,63500.0,63500.0,63500.0,63500.0,63500.0,63500.0,63500.0,63500.0,63500.0,63500.0,63500.0,63500.0,63500.0,63500.0,63500.0,63500.0,63500.0,63500.0,63500.0,63500.0,63500.0,63500.0,63500.0,63500.0,63500.0,63500.0,63500.0,63500.0,63500.0,77000.0,77000.0,77000.0,77000.0,77000.0,77000.0,77000.0,77000.0,77000.0,77000.0,77000.0,77000.0,77000.0,77000.0,77000.0,77000.0,77000.0,77000.0,77000.0,77000.0,77000.0,77000.0,77000.0,77000.0,77000.0,80500.0,80500.0,80500.0,80500.0,80500.0,80500.0,80500.0,80500.0,80500.0,80500.0,80500.0,80500.0,80500.0,80500.0,80500.0,80500.0,80500.0,80500.0,80500.0,80500.0,80500.0,80500.0,80500.0,80500.0,80500.0,80500.0,86000.0,86000.0,86000.0,86000.0,86000.0,86000.0,86000.0,86000.0,86000.0,86000.0,86000.0,86000.0,86000.0,86000.0,86000.0,86000.0,86000.0,86000.0,86000.0,86000.0,86000.0,86000.0,86000.0,86000.0,86000.0,86000.0,86000.0,86000.0,86000.0,86000.0,83500.0,83500.0,83500.0,83500.0,83500.0,83500.0,83500.0,83500.0,83500.0,83500.0,83500.0,83500.0,83500.0,83500.0,83500.0,83500.0,83500.0,83500.0,83500.0,83500.0,83500.0,83500.0,98500.0,98500.0,98500.0,98500.0,98500.0,98500.0,98500.0,98500.0,98500.0,98500.0,98500.0,98500.0,98500.0,98500.0,98500.0,98500.0,95500.0,95500.0,95500.0,95500.0,95500.0,95500.0,95500.0,95500.0,95500.0,95500.0,95500.0,95500.0,95500.0,95500.0,95500.0,95500.0,95500.0,95500.0,95500.0,95500.0,95500.0,95500.0,95500.0,95500.0,95500.0,91500.0,91500.0,91500.0,91500.0,91500.0,91500.0,91500.0,91500.0,91500.0,91500.0,91500.0,91500.0,91500.0,91500.0,91500.0,91500.0,91500.0,91500.0,91500.0,91500.0,91500.0,91500.0,91500.0,91500.0,111000.0,111000.0,111000.0,111000.0,111000.0,111000.0,111000.0,111000.0,111000.0,111000.0,111000.0,111000.0,111000.0,111000.0,111000.0,111000.0,111000.0,111000.0,111000.0,111000.0,111000.0,111000.0,111000.0,111000.0,111000.0,111000.0,111000.0,95500.0,95500.0,95500.0,95500.0,95500.0,95500.0,95500.0,95500.0,95500.0,95500.0,95500.0,95500.0,95500.0,95500.0,95500.0,95500.0,95500.0,95500.0,95500.0,95500.0,95500.0,95500.0,95500.0,95500.0,95500.0,95500.0,95500.0,95500.0,95500.0,99500.0,99500.0,99500.0,99500.0,99500.0,99500.0,99500.0,99500.0,99500.0,99500.0,99500.0,99500.0,99500.0,99500.0,76000.0,76000.0,76000.0,76000.0,109500.0,109500.0,109500.0,109500.0,109500.0,109500.0,109500.0,109500.0,94000.0,94000.0,94000.0,94000.0,94000.0,94000.0,94000.0,152500.0,152500.0,152500.0,152500.0,152500.0,152500.0,104000.0,104000.0,104000.0,104000.0,104000.0,104000.0,104000.0,104000.0,74500.0,74500.0,74500.0,74500.0,74500.0,74500.0,77000.0,77000.0,77000.0,77000.0,77000.0,83000.0,83000.0,83000.0,83000.0,83000.0,83000.0,83000.0,83000.0,83000.0,83000.0,83000.0,83000.0,83000.0,83000.0,83000.0,83000.0,83000.0,83000.0,83000.0,83000.0,83000.0,83000.0,83000.0,83000.0,83000.0,83000.0,83000.0,130000.0,130000.0,130000.0,130000.0,130000.0,130000.0,130000.0,130000.0,130000.0,130000.0,130000.0,130000.0,130000.0,130000.0,130000.0,130000.0,130000.0,130000.0,130000.0,130000.0,130000.0,130000.0,130000.0,130000.0,130000.0,130000.0,130000.0,130000.0,130000.0,130000.0,82500.0,82500.0,82500.0,82500.0,82500.0,82500.0,82500.0,82500.0,82500.0,82500.0,82500.0,82500.0,82500.0,82500.0,82500.0,82500.0,82500.0,82500.0,82500.0,82500.0,82500.0,82500.0,82500.0,82500.0,82500.0,82500.0,82500.0,82500.0,79000.0,79000.0,79000.0,79000.0,79000.0,79000.0,79000.0,79000.0,79000.0,79000.0,79000.0,79000.0,79000.0,79000.0,79000.0,79000.0,79000.0,79000.0,79000.0,79000.0,79000.0,79000.0,79000.0,79000.0,79000.0,79000.0,79000.0,79000.0,79000.0,79000.0,79000.0,79000.0,80000.0,80000.0,80000.0,80000.0,80000.0,80000.0,80000.0,80000.0,80000.0,80000.0,80000.0,80000.0,80000.0,80000.0,80000.0,80000.0,80000.0,80000.0,80000.0,80000.0,80000.0,80000.0,80000.0,80000.0,80000.0,80000.0,80000.0,80000.0,100500.0,100500.0,100500.0,100500.0,100500.0,100500.0,100500.0,100500.0,100500.0,100500.0,100500.0,100500.0,100500.0,100500.0,100500.0,100500.0,100500.0,100500.0,100500.0,100500.0,100500.0,100500.0,100500.0,100500.0,100500.0,100500.0,100500.0,100500.0,100500.0,217500.0,217500.0,217500.0,217500.0,217500.0,217500.0,217500.0,83500.0,83500.0,83500.0,83500.0,83500.0,83500.0,83500.0,83500.0,83500.0,83500.0,83500.0,83500.0,83500.0,83500.0,83500.0,83500.0,83500.0,83500.0,83500.0,83500.0,83500.0,83500.0,83500.0,83500.0,83500.0,83500.0,105000.0,105000.0,105000.0,105000.0,105000.0,105000.0,105000.0,105000.0,105000.0,105000.0,105000.0,105000.0,105000.0,105000.0,105000.0,105000.0,105000.0,105000.0,105000.0,105000.0,105000.0,105000.0,105000.0,105000.0,105000.0,105000.0,105000.0,105000.0,62000.0,62000.0,62000.0,62000.0,62000.0,62000.0,62000.0,62000.0,62000.0,62000.0,62000.0,62000.0,62000.0,62000.0,62000.0,62000.0,62000.0,62000.0,62000.0,62000.0,62000.0,62000.0,62000.0,62000.0,62000.0,62000.0,62000.0,40500.0,40500.0,40500.0,40500.0,40500.0,40500.0,40500.0,40500.0,40500.0,40500.0,40500.0,40500.0,40500.0,40500.0,40500.0,40500.0,40500.0,40500.0,40500.0,40500.0,40500.0,40500.0,40500.0,40500.0,40500.0,40500.0,40500.0,40500.0,87000.0,87000.0,87000.0,87000.0,87000.0,87000.0,87000.0,87000.0,87000.0,87000.0,87000.0,87000.0,87000.0,87000.0,87000.0,87000.0,87000.0,87000.0,87000.0,87000.0,87000.0,87000.0,87000.0,87000.0,87000.0,87000.0,87000.0,87000.0,87000.0,57500.0,57500.0,57500.0,57500.0,57500.0,57500.0,57500.0,57500.0,57500.0,57500.0,57500.0,57500.0,57500.0,57500.0,57500.0,57500.0,57500.0,57500.0,57500.0,57500.0,57500.0,57500.0,57500.0,57500.0,57500.0,57500.0,57500.0,57500.0,57500.0,57500.0,97000.0,97000.0,97000.0,97000.0,97000.0,97000.0,97000.0,97000.0,97000.0,97000.0,97000.0,97000.0,97000.0,97000.0,97000.0,97000.0,97000.0,97000.0,97000.0,97000.0,129000.0,129000.0,129000.0,129000.0,129000.0,129000.0,129000.0,129000.0,129000.0,129000.0,129000.0,129000.0,129000.0,129000.0,129000.0,129000.0,129000.0,129000.0,129000.0,129000.0,129000.0,129000.0,129000.0,129000.0,129000.0,129000.0,129000.0,155500.0,155500.0,155500.0,155500.0,155500.0,155500.0,155500.0,155500.0,155500.0,155500.0,155500.0,155500.0,155500.0,155500.0,155500.0,155500.0,155500.0,155500.0,155500.0,155500.0,155500.0,155500.0,155500.0,155500.0,155500.0,155500.0,155500.0,155500.0,155500.0,69000.0,69000.0,69000.0,69000.0,69000.0,69000.0,69000.0,69000.0,69000.0,69000.0,69000.0,69000.0,69000.0,69000.0,69000.0,69000.0,69000.0,69000.0,69000.0,69000.0,69000.0,69000.0,69000.0,69000.0,69000.0,69000.0,69000.0,105500.0,105500.0,105500.0,105500.0,105500.0,105500.0,105500.0,105500.0,105500.0,105500.0,105500.0,105500.0,105500.0,105500.0,105500.0,105500.0,105500.0,105500.0,105500.0,105500.0,105500.0,105500.0,105500.0,105500.0,105500.0,105500.0,204000.0,204000.0,204000.0,204000.0,204000.0,204000.0,204000.0,204000.0,204000.0,204000.0,204000.0,204000.0,204000.0,204000.0,204000.0,204000.0,204000.0,204000.0,204000.0,204000.0,204000.0,204000.0,204000.0,204000.0,204000.0,204000.0,145500.0,145500.0,145500.0,145500.0,145500.0,145500.0,145500.0,145500.0,145500.0,145500.0,145500.0,145500.0,145500.0,145500.0,145500.0,145500.0,145500.0,145500.0,145500.0,145500.0,145500.0,145500.0,145500.0,145500.0,145500.0,145500.0,145500.0,145500.0,116500.0,116500.0,116500.0,116500.0,116500.0,116500.0,116500.0,116500.0,116500.0,116500.0,116500.0,116500.0,116500.0,116500.0,116500.0,116500.0,94000.0,94000.0,94000.0,94000.0,94000.0,94000.0,94000.0,94000.0,94000.0,94000.0,94000.0,94000.0,94000.0,94000.0,94000.0,94000.0,94000.0,94000.0,94000.0,94000.0,94000.0,94000.0,94000.0,94000.0,94000.0,94000.0,94000.0,94000.0,89500.0,89500.0,89500.0,89500.0,89500.0,89500.0,89500.0,89500.0,89500.0,89500.0,89500.0,89500.0,89500.0,89500.0,89500.0,89500.0,89500.0,89500.0,89500.0,89500.0,89500.0,89500.0,89500.0,89500.0,89500.0,89500.0,89500.0,107500.0,107500.0,107500.0,107500.0,107500.0,107500.0,107500.0,107500.0,107500.0,107500.0,107500.0,107500.0,107500.0,107500.0,107500.0,107500.0,107500.0,107500.0,107500.0,107500.0,107500.0,107500.0,107500.0,107500.0,107500.0,107500.0,107500.0,107500.0,107500.0,107500.0,84500.0,84500.0,84500.0,84500.0,84500.0,84500.0,84500.0,84500.0,84500.0,84500.0,84500.0,84500.0,84500.0,84500.0,84500.0,84500.0,84500.0,84500.0,84500.0,84500.0,84500.0,84500.0,84500.0,84500.0,84500.0,104000.0,104000.0,104000.0,104000.0,104000.0,104000.0,104000.0,104000.0,104000.0,104000.0,104000.0,104000.0,104000.0,104000.0,104000.0,104000.0,104000.0,104000.0,104000.0,104000.0,104000.0,104000.0,104000.0,104000.0,104000.0,104000.0,104000.0,104000.0,149000.0,149000.0,149000.0,149000.0,149000.0,149000.0,149000.0,149000.0,149000.0,149000.0,149000.0,149000.0,149000.0,149000.0,149000.0,149000.0,149000.0,149000.0,149000.0,149000.0,149000.0,149000.0,149000.0,149000.0,149000.0,149000.0,149000.0,149000.0,105000.0,105000.0,105000.0,105000.0,105000.0,105000.0,105000.0,105000.0,105000.0,105000.0,105000.0,105000.0,128500.0,128500.0,128500.0,128500.0,128500.0,128500.0,128500.0,128500.0,128500.0,128500.0,128500.0,128500.0,128500.0,128500.0,128500.0,128500.0,128500.0,128500.0,128500.0,128500.0,128500.0,128500.0,128500.0,128500.0,128500.0,178000.0,178000.0,178000.0,178000.0,178000.0,178000.0,178000.0,178000.0,178000.0,178000.0,178000.0,178000.0,178000.0,178000.0,178000.0,178000.0,178000.0,178000.0,178000.0,178000.0,178000.0,178000.0,178000.0,178000.0,178000.0,178000.0,178000.0,178000.0,178000.0,153500.0,153500.0,153500.0,153500.0,153500.0,153500.0,153500.0,153500.0,153500.0,153500.0,153500.0,153500.0,153500.0,153500.0,153500.0,153500.0,153500.0,153500.0,153500.0,153500.0,153500.0,153500.0,153500.0,153500.0,153500.0,153500.0,153500.0,111000.0,111000.0,111000.0,111000.0,111000.0,111000.0,111000.0,111000.0,111000.0,111000.0,111000.0,111000.0,111000.0,111000.0,111000.0,111000.0,111000.0,111000.0,111000.0,111000.0,111000.0,111000.0,111000.0,111000.0,111000.0,111000.0,111000.0,111000.0,111000.0,78500.0,78500.0,78500.0,78500.0,78500.0,78500.0,78500.0,78500.0,78500.0,78500.0,78500.0,78500.0,78500.0,78500.0,78500.0,78500.0,78500.0,78500.0,78500.0,78500.0,78500.0,78500.0,78500.0,78500.0,78500.0,78500.0,78500.0,78500.0,78500.0,78500.0,117500.0,117500.0,117500.0,117500.0,117500.0,117500.0,117500.0,117500.0,117500.0,117500.0,117500.0,117500.0,117500.0,117500.0,117500.0,117500.0,117500.0,117500.0,117500.0,117500.0,117500.0,117500.0,117500.0,117500.0,117500.0,117500.0,140500.0,140500.0,140500.0,140500.0,140500.0,140500.0,140500.0,140500.0,140500.0,140500.0,125500.0,125500.0,125500.0,125500.0,125500.0,125500.0,125500.0,125500.0,125500.0,125500.0,125500.0,125500.0,125500.0,125500.0,125500.0,125500.0,125500.0,125500.0,125500.0,125500.0,125500.0,125500.0,125500.0,125500.0,125500.0,125500.0,125500.0,125500.0,87500.0,87500.0,87500.0,87500.0,87500.0,87500.0,87500.0,87500.0,87500.0,87500.0,87500.0,87500.0,87500.0,87500.0,87500.0,87500.0,87500.0,87500.0,87500.0,87500.0,87500.0,87500.0,87500.0,87500.0,87500.0,87500.0,87500.0,138000.0,138000.0,138000.0,138000.0,138000.0,138000.0,138000.0,138000.0,138000.0,138000.0,138000.0,138000.0,138000.0,138000.0,138000.0,138000.0,138000.0,138000.0,138000.0,138000.0,138000.0,138000.0,138000.0,138000.0,138000.0,138000.0,138000.0,138000.0,68500.0,68500.0,68500.0,68500.0,68500.0,68500.0,68500.0,68500.0,68500.0,68500.0,68500.0,68500.0,68500.0,68500.0,68500.0,68500.0,68500.0,68500.0,68500.0,68500.0,68500.0,68500.0,68500.0,68500.0,68500.0,68500.0,68500.0,68500.0,68500.0,96500.0,96500.0,96500.0,96500.0,96500.0,96500.0,96500.0,96500.0,96500.0,96500.0,96500.0,96500.0,96500.0,96500.0,96500.0,96500.0,96500.0,96500.0,96500.0,96500.0,96500.0,96500.0,96500.0,96500.0,96500.0,96500.0,96500.0,96500.0,106000.0,106000.0,106000.0,106000.0,106000.0,106000.0,106000.0,106000.0,106000.0,106000.0,106000.0,106000.0,106000.0,106000.0,106000.0,106000.0,106000.0,106000.0,106000.0,106000.0,106000.0,106000.0,106000.0,106000.0,106000.0,106000.0,106000.0,106000.0,106000.0,106000.0,106000.0,106000.0,106000.0,106000.0,38500.0,38500.0,38500.0,38500.0,38500.0,38500.0,38500.0,38500.0,38500.0,38500.0,38500.0,38500.0,38500.0,38500.0,38500.0,38500.0,38500.0,38500.0,38500.0,38500.0,38500.0,38500.0,38500.0,38500.0,38500.0,92500.0,92500.0,92500.0,92500.0,92500.0,92500.0,92500.0,92500.0,92500.0,92500.0,92500.0,92500.0,92500.0,92500.0,92500.0,92500.0,92500.0,92500.0,92500.0,92500.0,92500.0,92500.0,92500.0,92500.0,92500.0,92500.0,92500.0,58000.0,58000.0,58000.0,58000.0,58000.0,58000.0,58000.0,58000.0,58000.0,58000.0,58000.0,58000.0,58000.0,58000.0,58000.0,58000.0,58000.0,58000.0,58000.0,58000.0,58000.0,58000.0,58000.0,58000.0,58000.0,58000.0,58000.0,58000.0,58000.0,60500.0,60500.0,60500.0,60500.0,60500.0,60500.0,60500.0,60500.0,60500.0,60500.0,60500.0,60500.0,60500.0,60500.0,60500.0,60500.0,60500.0,60500.0,60500.0,60500.0,60500.0,60500.0,60500.0,60500.0,60500.0,60500.0,60500.0,60500.0,60500.0,60500.0,56000.0,56000.0,56000.0,56000.0,56000.0,56000.0,56000.0,92500.0,92500.0,92500.0,92500.0,92500.0,92500.0,92500.0,92500.0,92500.0,92500.0,92500.0,92500.0,92500.0,92500.0,92500.0,92500.0,92500.0,92500.0,92500.0,92500.0,92500.0,92500.0,92500.0,92500.0,92500.0,92500.0,84500.0,84500.0,84500.0,84500.0,84500.0,84500.0,84500.0,84500.0,84500.0,84500.0,84500.0,84500.0,84500.0,84500.0,84500.0,84500.0,84500.0,84500.0,84500.0,84500.0,84500.0,84500.0,84500.0,84500.0,84500.0,84500.0,84500.0,45000.0,45000.0,45000.0,45000.0,45000.0,45000.0,45000.0,45000.0,45000.0,45000.0,45000.0,45000.0,45000.0,45000.0,45000.0,45000.0,45000.0,45000.0,45000.0,45000.0,45000.0,45000.0,45000.0,45000.0,45000.0,45000.0,45000.0,45000.0,45000.0,130000.0,130000.0,130000.0,130000.0,130000.0,130000.0,130000.0,130000.0,130000.0,130000.0,130000.0,130000.0,130000.0,130000.0,130000.0,130000.0,130000.0,130000.0,130000.0,130000.0,130000.0,130000.0,130000.0,130000.0,130000.0,130000.0,130000.0,130000.0,61000.0,61000.0,61000.0,61000.0,61000.0,61000.0,61000.0,61000.0,61000.0,61000.0,61000.0,61000.0,61000.0,61000.0,61000.0,61000.0,61000.0,61000.0,61000.0,61000.0,61000.0,61000.0,61000.0,61000.0,61000.0,61000.0,61000.0,61000.0,72500.0,72500.0,72500.0,72500.0,72500.0,72500.0,72500.0,72500.0,72500.0,72500.0,72500.0,72500.0,72500.0,72500.0,72500.0,72500.0,72500.0,72500.0,72500.0,72500.0,72500.0,72500.0,72500.0,72500.0,72500.0,72500.0,72500.0,72500.0,72500.0,102000.0,102000.0,102000.0,102000.0,102000.0,102000.0,102000.0,102000.0,102000.0,102000.0,102000.0,102000.0,102000.0,102000.0,102000.0,102000.0,102000.0],\"x0\":\" \",\"xaxis\":\"x\",\"y0\":\" \",\"yaxis\":\"y\",\"type\":\"box\"}],                        {\"template\":{\"data\":{\"histogram2dcontour\":[{\"type\":\"histogram2dcontour\",\"colorbar\":{\"outlinewidth\":0,\"ticks\":\"\"},\"colorscale\":[[0.0,\"#0d0887\"],[0.1111111111111111,\"#46039f\"],[0.2222222222222222,\"#7201a8\"],[0.3333333333333333,\"#9c179e\"],[0.4444444444444444,\"#bd3786\"],[0.5555555555555556,\"#d8576b\"],[0.6666666666666666,\"#ed7953\"],[0.7777777777777778,\"#fb9f3a\"],[0.8888888888888888,\"#fdca26\"],[1.0,\"#f0f921\"]]}],\"choropleth\":[{\"type\":\"choropleth\",\"colorbar\":{\"outlinewidth\":0,\"ticks\":\"\"}}],\"histogram2d\":[{\"type\":\"histogram2d\",\"colorbar\":{\"outlinewidth\":0,\"ticks\":\"\"},\"colorscale\":[[0.0,\"#0d0887\"],[0.1111111111111111,\"#46039f\"],[0.2222222222222222,\"#7201a8\"],[0.3333333333333333,\"#9c179e\"],[0.4444444444444444,\"#bd3786\"],[0.5555555555555556,\"#d8576b\"],[0.6666666666666666,\"#ed7953\"],[0.7777777777777778,\"#fb9f3a\"],[0.8888888888888888,\"#fdca26\"],[1.0,\"#f0f921\"]]}],\"heatmap\":[{\"type\":\"heatmap\",\"colorbar\":{\"outlinewidth\":0,\"ticks\":\"\"},\"colorscale\":[[0.0,\"#0d0887\"],[0.1111111111111111,\"#46039f\"],[0.2222222222222222,\"#7201a8\"],[0.3333333333333333,\"#9c179e\"],[0.4444444444444444,\"#bd3786\"],[0.5555555555555556,\"#d8576b\"],[0.6666666666666666,\"#ed7953\"],[0.7777777777777778,\"#fb9f3a\"],[0.8888888888888888,\"#fdca26\"],[1.0,\"#f0f921\"]]}],\"heatmapgl\":[{\"type\":\"heatmapgl\",\"colorbar\":{\"outlinewidth\":0,\"ticks\":\"\"},\"colorscale\":[[0.0,\"#0d0887\"],[0.1111111111111111,\"#46039f\"],[0.2222222222222222,\"#7201a8\"],[0.3333333333333333,\"#9c179e\"],[0.4444444444444444,\"#bd3786\"],[0.5555555555555556,\"#d8576b\"],[0.6666666666666666,\"#ed7953\"],[0.7777777777777778,\"#fb9f3a\"],[0.8888888888888888,\"#fdca26\"],[1.0,\"#f0f921\"]]}],\"contourcarpet\":[{\"type\":\"contourcarpet\",\"colorbar\":{\"outlinewidth\":0,\"ticks\":\"\"}}],\"contour\":[{\"type\":\"contour\",\"colorbar\":{\"outlinewidth\":0,\"ticks\":\"\"},\"colorscale\":[[0.0,\"#0d0887\"],[0.1111111111111111,\"#46039f\"],[0.2222222222222222,\"#7201a8\"],[0.3333333333333333,\"#9c179e\"],[0.4444444444444444,\"#bd3786\"],[0.5555555555555556,\"#d8576b\"],[0.6666666666666666,\"#ed7953\"],[0.7777777777777778,\"#fb9f3a\"],[0.8888888888888888,\"#fdca26\"],[1.0,\"#f0f921\"]]}],\"surface\":[{\"type\":\"surface\",\"colorbar\":{\"outlinewidth\":0,\"ticks\":\"\"},\"colorscale\":[[0.0,\"#0d0887\"],[0.1111111111111111,\"#46039f\"],[0.2222222222222222,\"#7201a8\"],[0.3333333333333333,\"#9c179e\"],[0.4444444444444444,\"#bd3786\"],[0.5555555555555556,\"#d8576b\"],[0.6666666666666666,\"#ed7953\"],[0.7777777777777778,\"#fb9f3a\"],[0.8888888888888888,\"#fdca26\"],[1.0,\"#f0f921\"]]}],\"mesh3d\":[{\"type\":\"mesh3d\",\"colorbar\":{\"outlinewidth\":0,\"ticks\":\"\"}}],\"scatter\":[{\"marker\":{\"line\":{\"color\":\"#283442\"}},\"type\":\"scatter\"}],\"parcoords\":[{\"type\":\"parcoords\",\"line\":{\"colorbar\":{\"outlinewidth\":0,\"ticks\":\"\"}}}],\"scatterpolargl\":[{\"type\":\"scatterpolargl\",\"marker\":{\"colorbar\":{\"outlinewidth\":0,\"ticks\":\"\"}}}],\"bar\":[{\"error_x\":{\"color\":\"#f2f5fa\"},\"error_y\":{\"color\":\"#f2f5fa\"},\"marker\":{\"line\":{\"color\":\"rgb(17,17,17)\",\"width\":0.5},\"pattern\":{\"fillmode\":\"overlay\",\"size\":10,\"solidity\":0.2}},\"type\":\"bar\"}],\"scattergeo\":[{\"type\":\"scattergeo\",\"marker\":{\"colorbar\":{\"outlinewidth\":0,\"ticks\":\"\"}}}],\"scatterpolar\":[{\"type\":\"scatterpolar\",\"marker\":{\"colorbar\":{\"outlinewidth\":0,\"ticks\":\"\"}}}],\"histogram\":[{\"marker\":{\"pattern\":{\"fillmode\":\"overlay\",\"size\":10,\"solidity\":0.2}},\"type\":\"histogram\"}],\"scattergl\":[{\"marker\":{\"line\":{\"color\":\"#283442\"}},\"type\":\"scattergl\"}],\"scatter3d\":[{\"type\":\"scatter3d\",\"line\":{\"colorbar\":{\"outlinewidth\":0,\"ticks\":\"\"}},\"marker\":{\"colorbar\":{\"outlinewidth\":0,\"ticks\":\"\"}}}],\"scattermapbox\":[{\"type\":\"scattermapbox\",\"marker\":{\"colorbar\":{\"outlinewidth\":0,\"ticks\":\"\"}}}],\"scatterternary\":[{\"type\":\"scatterternary\",\"marker\":{\"colorbar\":{\"outlinewidth\":0,\"ticks\":\"\"}}}],\"scattercarpet\":[{\"type\":\"scattercarpet\",\"marker\":{\"colorbar\":{\"outlinewidth\":0,\"ticks\":\"\"}}}],\"carpet\":[{\"aaxis\":{\"endlinecolor\":\"#A2B1C6\",\"gridcolor\":\"#506784\",\"linecolor\":\"#506784\",\"minorgridcolor\":\"#506784\",\"startlinecolor\":\"#A2B1C6\"},\"baxis\":{\"endlinecolor\":\"#A2B1C6\",\"gridcolor\":\"#506784\",\"linecolor\":\"#506784\",\"minorgridcolor\":\"#506784\",\"startlinecolor\":\"#A2B1C6\"},\"type\":\"carpet\"}],\"table\":[{\"cells\":{\"fill\":{\"color\":\"#506784\"},\"line\":{\"color\":\"rgb(17,17,17)\"}},\"header\":{\"fill\":{\"color\":\"#2a3f5f\"},\"line\":{\"color\":\"rgb(17,17,17)\"}},\"type\":\"table\"}],\"barpolar\":[{\"marker\":{\"line\":{\"color\":\"rgb(17,17,17)\",\"width\":0.5},\"pattern\":{\"fillmode\":\"overlay\",\"size\":10,\"solidity\":0.2}},\"type\":\"barpolar\"}],\"pie\":[{\"automargin\":true,\"type\":\"pie\"}]},\"layout\":{\"autotypenumbers\":\"strict\",\"colorway\":[\"#636efa\",\"#EF553B\",\"#00cc96\",\"#ab63fa\",\"#FFA15A\",\"#19d3f3\",\"#FF6692\",\"#B6E880\",\"#FF97FF\",\"#FECB52\"],\"font\":{\"color\":\"#f2f5fa\"},\"hovermode\":\"closest\",\"hoverlabel\":{\"align\":\"left\"},\"paper_bgcolor\":\"rgb(17,17,17)\",\"plot_bgcolor\":\"rgb(17,17,17)\",\"polar\":{\"bgcolor\":\"rgb(17,17,17)\",\"angularaxis\":{\"gridcolor\":\"#506784\",\"linecolor\":\"#506784\",\"ticks\":\"\"},\"radialaxis\":{\"gridcolor\":\"#506784\",\"linecolor\":\"#506784\",\"ticks\":\"\"}},\"ternary\":{\"bgcolor\":\"rgb(17,17,17)\",\"aaxis\":{\"gridcolor\":\"#506784\",\"linecolor\":\"#506784\",\"ticks\":\"\"},\"baxis\":{\"gridcolor\":\"#506784\",\"linecolor\":\"#506784\",\"ticks\":\"\"},\"caxis\":{\"gridcolor\":\"#506784\",\"linecolor\":\"#506784\",\"ticks\":\"\"}},\"coloraxis\":{\"colorbar\":{\"outlinewidth\":0,\"ticks\":\"\"}},\"colorscale\":{\"sequential\":[[0.0,\"#0d0887\"],[0.1111111111111111,\"#46039f\"],[0.2222222222222222,\"#7201a8\"],[0.3333333333333333,\"#9c179e\"],[0.4444444444444444,\"#bd3786\"],[0.5555555555555556,\"#d8576b\"],[0.6666666666666666,\"#ed7953\"],[0.7777777777777778,\"#fb9f3a\"],[0.8888888888888888,\"#fdca26\"],[1.0,\"#f0f921\"]],\"sequentialminus\":[[0.0,\"#0d0887\"],[0.1111111111111111,\"#46039f\"],[0.2222222222222222,\"#7201a8\"],[0.3333333333333333,\"#9c179e\"],[0.4444444444444444,\"#bd3786\"],[0.5555555555555556,\"#d8576b\"],[0.6666666666666666,\"#ed7953\"],[0.7777777777777778,\"#fb9f3a\"],[0.8888888888888888,\"#fdca26\"],[1.0,\"#f0f921\"]],\"diverging\":[[0,\"#8e0152\"],[0.1,\"#c51b7d\"],[0.2,\"#de77ae\"],[0.3,\"#f1b6da\"],[0.4,\"#fde0ef\"],[0.5,\"#f7f7f7\"],[0.6,\"#e6f5d0\"],[0.7,\"#b8e186\"],[0.8,\"#7fbc41\"],[0.9,\"#4d9221\"],[1,\"#276419\"]]},\"xaxis\":{\"gridcolor\":\"#283442\",\"linecolor\":\"#506784\",\"ticks\":\"\",\"title\":{\"standoff\":15},\"zerolinecolor\":\"#283442\",\"automargin\":true,\"zerolinewidth\":2},\"yaxis\":{\"gridcolor\":\"#283442\",\"linecolor\":\"#506784\",\"ticks\":\"\",\"title\":{\"standoff\":15},\"zerolinecolor\":\"#283442\",\"automargin\":true,\"zerolinewidth\":2},\"scene\":{\"xaxis\":{\"backgroundcolor\":\"rgb(17,17,17)\",\"gridcolor\":\"#506784\",\"linecolor\":\"#506784\",\"showbackground\":true,\"ticks\":\"\",\"zerolinecolor\":\"#C8D4E3\",\"gridwidth\":2},\"yaxis\":{\"backgroundcolor\":\"rgb(17,17,17)\",\"gridcolor\":\"#506784\",\"linecolor\":\"#506784\",\"showbackground\":true,\"ticks\":\"\",\"zerolinecolor\":\"#C8D4E3\",\"gridwidth\":2},\"zaxis\":{\"backgroundcolor\":\"rgb(17,17,17)\",\"gridcolor\":\"#506784\",\"linecolor\":\"#506784\",\"showbackground\":true,\"ticks\":\"\",\"zerolinecolor\":\"#C8D4E3\",\"gridwidth\":2}},\"shapedefaults\":{\"line\":{\"color\":\"#f2f5fa\"}},\"annotationdefaults\":{\"arrowcolor\":\"#f2f5fa\",\"arrowhead\":0,\"arrowwidth\":1},\"geo\":{\"bgcolor\":\"rgb(17,17,17)\",\"landcolor\":\"rgb(17,17,17)\",\"subunitcolor\":\"#506784\",\"showland\":true,\"showlakes\":true,\"lakecolor\":\"rgb(17,17,17)\"},\"title\":{\"x\":0.05},\"updatemenudefaults\":{\"bgcolor\":\"#506784\",\"borderwidth\":0},\"sliderdefaults\":{\"bgcolor\":\"#C8D4E3\",\"borderwidth\":1,\"bordercolor\":\"rgb(17,17,17)\",\"tickwidth\":0},\"mapbox\":{\"style\":\"dark\"}}},\"xaxis\":{\"anchor\":\"y\",\"domain\":[0.0,1.0],\"title\":{\"text\":\"Salary Estimate mean\"}},\"yaxis\":{\"anchor\":\"x\",\"domain\":[0.0,1.0]},\"legend\":{\"tracegroupgap\":0},\"title\":{\"text\":\"Boxplot of Salary Estimate's mean\"},\"boxmode\":\"group\"},                        {\"responsive\": true}                    ).then(function(){\n                            \nvar gd = document.getElementById('30958ad7-95c2-458a-80dd-75a79b836e64');\nvar x = new MutationObserver(function (mutations, observer) {{\n        var display = window.getComputedStyle(gd).display;\n        if (!display || display === 'none') {{\n            console.log([gd, 'removed!']);\n            Plotly.purge(gd);\n            observer.disconnect();\n        }}\n}});\n\n// Listen for the removal of the full notebook cells\nvar notebookContainer = gd.closest('#notebook-container');\nif (notebookContainer) {{\n    x.observe(notebookContainer, {childList: true});\n}}\n\n// Listen for the clearing of the current output cell\nvar outputEl = gd.closest('.output');\nif (outputEl) {{\n    x.observe(outputEl, {childList: true});\n}}\n\n                        })                };                });            </script>        </div>"
     },
     "metadata": {},
     "output_type": "display_data"
    }
   ],
   "source": [
    "px.box(df, x='Salary Estimate mean', title='Boxplot of Salary Estimate\\'s mean')\n"
   ]
  },
  {
   "cell_type": "code",
   "execution_count": 242,
   "metadata": {},
   "outputs": [
    {
     "data": {
      "application/vnd.plotly.v1+json": {
       "data": [
        {
         "alignmentgroup": "True",
         "hovertemplate": "Founded=%{x}<br>Count=%{y}<extra></extra>",
         "legendgroup": "",
         "marker": {
          "color": "#636efa",
          "pattern": {
           "shape": ""
          }
         },
         "name": "",
         "offsetgroup": "",
         "orientation": "v",
         "showlegend": false,
         "textposition": "auto",
         "x": [
          2014,
          2013,
          2012,
          2011,
          2010,
          2009,
          2008,
          2007,
          2006,
          2005,
          2004,
          2003,
          2002,
          2001,
          2000,
          1999,
          1998,
          1997,
          1996,
          1995,
          1994,
          1993,
          1992,
          1991,
          1990,
          1989,
          1988,
          1987,
          1986,
          1985,
          1984,
          1983,
          1982,
          1981,
          1980,
          1979,
          1978,
          1977,
          1976,
          1975,
          1974,
          1973,
          1972,
          1971,
          1970,
          1969,
          1968,
          1967,
          1966,
          1965,
          1963,
          1962,
          1961,
          1960,
          1958,
          1957,
          1956,
          1955,
          1954,
          1952,
          1951,
          1950,
          1949,
          1948,
          1947,
          1946,
          1945,
          1944,
          1943,
          1942,
          1940,
          1939,
          1938,
          1937,
          1936,
          1935,
          1933,
          1932,
          1931,
          1930,
          1929,
          1927,
          1926,
          1925,
          1924,
          1923,
          1922,
          1921,
          1920,
          1919,
          1918,
          1917,
          1916,
          1915,
          1914,
          1913,
          1912,
          1911,
          1908,
          1907,
          1906,
          1905,
          1903
         ],
         "xaxis": "x",
         "y": [
          55,
          70,
          55,
          55,
          47,
          56,
          40,
          62,
          64,
          40,
          63,
          58,
          110,
          94,
          99,
          89,
          62,
          52,
          53,
          45,
          65,
          24,
          16,
          19,
          44,
          38,
          16,
          21,
          10,
          28,
          38,
          22,
          18,
          19,
          7,
          14,
          26,
          17,
          32,
          9,
          10,
          18,
          14,
          5,
          8,
          24,
          18,
          23,
          31,
          6,
          12,
          7,
          25,
          15,
          6,
          2,
          7,
          3,
          3,
          20,
          12,
          7,
          5,
          13,
          12,
          4,
          10,
          6,
          3,
          6,
          4,
          7,
          4,
          3,
          3,
          22,
          2,
          2,
          16,
          2,
          3,
          5,
          3,
          5,
          1,
          17,
          8,
          1,
          1,
          5,
          2,
          1,
          1,
          2,
          12,
          2,
          1,
          6,
          4,
          1,
          4,
          8,
          2
         ],
         "yaxis": "y",
         "type": "bar"
        }
       ],
       "layout": {
        "template": {
         "data": {
          "histogram2dcontour": [
           {
            "type": "histogram2dcontour",
            "colorbar": {
             "outlinewidth": 0,
             "ticks": ""
            },
            "colorscale": [
             [
              0.0,
              "#0d0887"
             ],
             [
              0.1111111111111111,
              "#46039f"
             ],
             [
              0.2222222222222222,
              "#7201a8"
             ],
             [
              0.3333333333333333,
              "#9c179e"
             ],
             [
              0.4444444444444444,
              "#bd3786"
             ],
             [
              0.5555555555555556,
              "#d8576b"
             ],
             [
              0.6666666666666666,
              "#ed7953"
             ],
             [
              0.7777777777777778,
              "#fb9f3a"
             ],
             [
              0.8888888888888888,
              "#fdca26"
             ],
             [
              1.0,
              "#f0f921"
             ]
            ]
           }
          ],
          "choropleth": [
           {
            "type": "choropleth",
            "colorbar": {
             "outlinewidth": 0,
             "ticks": ""
            }
           }
          ],
          "histogram2d": [
           {
            "type": "histogram2d",
            "colorbar": {
             "outlinewidth": 0,
             "ticks": ""
            },
            "colorscale": [
             [
              0.0,
              "#0d0887"
             ],
             [
              0.1111111111111111,
              "#46039f"
             ],
             [
              0.2222222222222222,
              "#7201a8"
             ],
             [
              0.3333333333333333,
              "#9c179e"
             ],
             [
              0.4444444444444444,
              "#bd3786"
             ],
             [
              0.5555555555555556,
              "#d8576b"
             ],
             [
              0.6666666666666666,
              "#ed7953"
             ],
             [
              0.7777777777777778,
              "#fb9f3a"
             ],
             [
              0.8888888888888888,
              "#fdca26"
             ],
             [
              1.0,
              "#f0f921"
             ]
            ]
           }
          ],
          "heatmap": [
           {
            "type": "heatmap",
            "colorbar": {
             "outlinewidth": 0,
             "ticks": ""
            },
            "colorscale": [
             [
              0.0,
              "#0d0887"
             ],
             [
              0.1111111111111111,
              "#46039f"
             ],
             [
              0.2222222222222222,
              "#7201a8"
             ],
             [
              0.3333333333333333,
              "#9c179e"
             ],
             [
              0.4444444444444444,
              "#bd3786"
             ],
             [
              0.5555555555555556,
              "#d8576b"
             ],
             [
              0.6666666666666666,
              "#ed7953"
             ],
             [
              0.7777777777777778,
              "#fb9f3a"
             ],
             [
              0.8888888888888888,
              "#fdca26"
             ],
             [
              1.0,
              "#f0f921"
             ]
            ]
           }
          ],
          "heatmapgl": [
           {
            "type": "heatmapgl",
            "colorbar": {
             "outlinewidth": 0,
             "ticks": ""
            },
            "colorscale": [
             [
              0.0,
              "#0d0887"
             ],
             [
              0.1111111111111111,
              "#46039f"
             ],
             [
              0.2222222222222222,
              "#7201a8"
             ],
             [
              0.3333333333333333,
              "#9c179e"
             ],
             [
              0.4444444444444444,
              "#bd3786"
             ],
             [
              0.5555555555555556,
              "#d8576b"
             ],
             [
              0.6666666666666666,
              "#ed7953"
             ],
             [
              0.7777777777777778,
              "#fb9f3a"
             ],
             [
              0.8888888888888888,
              "#fdca26"
             ],
             [
              1.0,
              "#f0f921"
             ]
            ]
           }
          ],
          "contourcarpet": [
           {
            "type": "contourcarpet",
            "colorbar": {
             "outlinewidth": 0,
             "ticks": ""
            }
           }
          ],
          "contour": [
           {
            "type": "contour",
            "colorbar": {
             "outlinewidth": 0,
             "ticks": ""
            },
            "colorscale": [
             [
              0.0,
              "#0d0887"
             ],
             [
              0.1111111111111111,
              "#46039f"
             ],
             [
              0.2222222222222222,
              "#7201a8"
             ],
             [
              0.3333333333333333,
              "#9c179e"
             ],
             [
              0.4444444444444444,
              "#bd3786"
             ],
             [
              0.5555555555555556,
              "#d8576b"
             ],
             [
              0.6666666666666666,
              "#ed7953"
             ],
             [
              0.7777777777777778,
              "#fb9f3a"
             ],
             [
              0.8888888888888888,
              "#fdca26"
             ],
             [
              1.0,
              "#f0f921"
             ]
            ]
           }
          ],
          "surface": [
           {
            "type": "surface",
            "colorbar": {
             "outlinewidth": 0,
             "ticks": ""
            },
            "colorscale": [
             [
              0.0,
              "#0d0887"
             ],
             [
              0.1111111111111111,
              "#46039f"
             ],
             [
              0.2222222222222222,
              "#7201a8"
             ],
             [
              0.3333333333333333,
              "#9c179e"
             ],
             [
              0.4444444444444444,
              "#bd3786"
             ],
             [
              0.5555555555555556,
              "#d8576b"
             ],
             [
              0.6666666666666666,
              "#ed7953"
             ],
             [
              0.7777777777777778,
              "#fb9f3a"
             ],
             [
              0.8888888888888888,
              "#fdca26"
             ],
             [
              1.0,
              "#f0f921"
             ]
            ]
           }
          ],
          "mesh3d": [
           {
            "type": "mesh3d",
            "colorbar": {
             "outlinewidth": 0,
             "ticks": ""
            }
           }
          ],
          "scatter": [
           {
            "marker": {
             "line": {
              "color": "#283442"
             }
            },
            "type": "scatter"
           }
          ],
          "parcoords": [
           {
            "type": "parcoords",
            "line": {
             "colorbar": {
              "outlinewidth": 0,
              "ticks": ""
             }
            }
           }
          ],
          "scatterpolargl": [
           {
            "type": "scatterpolargl",
            "marker": {
             "colorbar": {
              "outlinewidth": 0,
              "ticks": ""
             }
            }
           }
          ],
          "bar": [
           {
            "error_x": {
             "color": "#f2f5fa"
            },
            "error_y": {
             "color": "#f2f5fa"
            },
            "marker": {
             "line": {
              "color": "rgb(17,17,17)",
              "width": 0.5
             },
             "pattern": {
              "fillmode": "overlay",
              "size": 10,
              "solidity": 0.2
             }
            },
            "type": "bar"
           }
          ],
          "scattergeo": [
           {
            "type": "scattergeo",
            "marker": {
             "colorbar": {
              "outlinewidth": 0,
              "ticks": ""
             }
            }
           }
          ],
          "scatterpolar": [
           {
            "type": "scatterpolar",
            "marker": {
             "colorbar": {
              "outlinewidth": 0,
              "ticks": ""
             }
            }
           }
          ],
          "histogram": [
           {
            "marker": {
             "pattern": {
              "fillmode": "overlay",
              "size": 10,
              "solidity": 0.2
             }
            },
            "type": "histogram"
           }
          ],
          "scattergl": [
           {
            "marker": {
             "line": {
              "color": "#283442"
             }
            },
            "type": "scattergl"
           }
          ],
          "scatter3d": [
           {
            "type": "scatter3d",
            "line": {
             "colorbar": {
              "outlinewidth": 0,
              "ticks": ""
             }
            },
            "marker": {
             "colorbar": {
              "outlinewidth": 0,
              "ticks": ""
             }
            }
           }
          ],
          "scattermapbox": [
           {
            "type": "scattermapbox",
            "marker": {
             "colorbar": {
              "outlinewidth": 0,
              "ticks": ""
             }
            }
           }
          ],
          "scatterternary": [
           {
            "type": "scatterternary",
            "marker": {
             "colorbar": {
              "outlinewidth": 0,
              "ticks": ""
             }
            }
           }
          ],
          "scattercarpet": [
           {
            "type": "scattercarpet",
            "marker": {
             "colorbar": {
              "outlinewidth": 0,
              "ticks": ""
             }
            }
           }
          ],
          "carpet": [
           {
            "aaxis": {
             "endlinecolor": "#A2B1C6",
             "gridcolor": "#506784",
             "linecolor": "#506784",
             "minorgridcolor": "#506784",
             "startlinecolor": "#A2B1C6"
            },
            "baxis": {
             "endlinecolor": "#A2B1C6",
             "gridcolor": "#506784",
             "linecolor": "#506784",
             "minorgridcolor": "#506784",
             "startlinecolor": "#A2B1C6"
            },
            "type": "carpet"
           }
          ],
          "table": [
           {
            "cells": {
             "fill": {
              "color": "#506784"
             },
             "line": {
              "color": "rgb(17,17,17)"
             }
            },
            "header": {
             "fill": {
              "color": "#2a3f5f"
             },
             "line": {
              "color": "rgb(17,17,17)"
             }
            },
            "type": "table"
           }
          ],
          "barpolar": [
           {
            "marker": {
             "line": {
              "color": "rgb(17,17,17)",
              "width": 0.5
             },
             "pattern": {
              "fillmode": "overlay",
              "size": 10,
              "solidity": 0.2
             }
            },
            "type": "barpolar"
           }
          ],
          "pie": [
           {
            "automargin": true,
            "type": "pie"
           }
          ]
         },
         "layout": {
          "autotypenumbers": "strict",
          "colorway": [
           "#636efa",
           "#EF553B",
           "#00cc96",
           "#ab63fa",
           "#FFA15A",
           "#19d3f3",
           "#FF6692",
           "#B6E880",
           "#FF97FF",
           "#FECB52"
          ],
          "font": {
           "color": "#f2f5fa"
          },
          "hovermode": "closest",
          "hoverlabel": {
           "align": "left"
          },
          "paper_bgcolor": "rgb(17,17,17)",
          "plot_bgcolor": "rgb(17,17,17)",
          "polar": {
           "bgcolor": "rgb(17,17,17)",
           "angularaxis": {
            "gridcolor": "#506784",
            "linecolor": "#506784",
            "ticks": ""
           },
           "radialaxis": {
            "gridcolor": "#506784",
            "linecolor": "#506784",
            "ticks": ""
           }
          },
          "ternary": {
           "bgcolor": "rgb(17,17,17)",
           "aaxis": {
            "gridcolor": "#506784",
            "linecolor": "#506784",
            "ticks": ""
           },
           "baxis": {
            "gridcolor": "#506784",
            "linecolor": "#506784",
            "ticks": ""
           },
           "caxis": {
            "gridcolor": "#506784",
            "linecolor": "#506784",
            "ticks": ""
           }
          },
          "coloraxis": {
           "colorbar": {
            "outlinewidth": 0,
            "ticks": ""
           }
          },
          "colorscale": {
           "sequential": [
            [
             0.0,
             "#0d0887"
            ],
            [
             0.1111111111111111,
             "#46039f"
            ],
            [
             0.2222222222222222,
             "#7201a8"
            ],
            [
             0.3333333333333333,
             "#9c179e"
            ],
            [
             0.4444444444444444,
             "#bd3786"
            ],
            [
             0.5555555555555556,
             "#d8576b"
            ],
            [
             0.6666666666666666,
             "#ed7953"
            ],
            [
             0.7777777777777778,
             "#fb9f3a"
            ],
            [
             0.8888888888888888,
             "#fdca26"
            ],
            [
             1.0,
             "#f0f921"
            ]
           ],
           "sequentialminus": [
            [
             0.0,
             "#0d0887"
            ],
            [
             0.1111111111111111,
             "#46039f"
            ],
            [
             0.2222222222222222,
             "#7201a8"
            ],
            [
             0.3333333333333333,
             "#9c179e"
            ],
            [
             0.4444444444444444,
             "#bd3786"
            ],
            [
             0.5555555555555556,
             "#d8576b"
            ],
            [
             0.6666666666666666,
             "#ed7953"
            ],
            [
             0.7777777777777778,
             "#fb9f3a"
            ],
            [
             0.8888888888888888,
             "#fdca26"
            ],
            [
             1.0,
             "#f0f921"
            ]
           ],
           "diverging": [
            [
             0,
             "#8e0152"
            ],
            [
             0.1,
             "#c51b7d"
            ],
            [
             0.2,
             "#de77ae"
            ],
            [
             0.3,
             "#f1b6da"
            ],
            [
             0.4,
             "#fde0ef"
            ],
            [
             0.5,
             "#f7f7f7"
            ],
            [
             0.6,
             "#e6f5d0"
            ],
            [
             0.7,
             "#b8e186"
            ],
            [
             0.8,
             "#7fbc41"
            ],
            [
             0.9,
             "#4d9221"
            ],
            [
             1,
             "#276419"
            ]
           ]
          },
          "xaxis": {
           "gridcolor": "#283442",
           "linecolor": "#506784",
           "ticks": "",
           "title": {
            "standoff": 15
           },
           "zerolinecolor": "#283442",
           "automargin": true,
           "zerolinewidth": 2
          },
          "yaxis": {
           "gridcolor": "#283442",
           "linecolor": "#506784",
           "ticks": "",
           "title": {
            "standoff": 15
           },
           "zerolinecolor": "#283442",
           "automargin": true,
           "zerolinewidth": 2
          },
          "scene": {
           "xaxis": {
            "backgroundcolor": "rgb(17,17,17)",
            "gridcolor": "#506784",
            "linecolor": "#506784",
            "showbackground": true,
            "ticks": "",
            "zerolinecolor": "#C8D4E3",
            "gridwidth": 2
           },
           "yaxis": {
            "backgroundcolor": "rgb(17,17,17)",
            "gridcolor": "#506784",
            "linecolor": "#506784",
            "showbackground": true,
            "ticks": "",
            "zerolinecolor": "#C8D4E3",
            "gridwidth": 2
           },
           "zaxis": {
            "backgroundcolor": "rgb(17,17,17)",
            "gridcolor": "#506784",
            "linecolor": "#506784",
            "showbackground": true,
            "ticks": "",
            "zerolinecolor": "#C8D4E3",
            "gridwidth": 2
           }
          },
          "shapedefaults": {
           "line": {
            "color": "#f2f5fa"
           }
          },
          "annotationdefaults": {
           "arrowcolor": "#f2f5fa",
           "arrowhead": 0,
           "arrowwidth": 1
          },
          "geo": {
           "bgcolor": "rgb(17,17,17)",
           "landcolor": "rgb(17,17,17)",
           "subunitcolor": "#506784",
           "showland": true,
           "showlakes": true,
           "lakecolor": "rgb(17,17,17)"
          },
          "title": {
           "x": 0.05
          },
          "updatemenudefaults": {
           "bgcolor": "#506784",
           "borderwidth": 0
          },
          "sliderdefaults": {
           "bgcolor": "#C8D4E3",
           "borderwidth": 1,
           "bordercolor": "rgb(17,17,17)",
           "tickwidth": 0
          },
          "mapbox": {
           "style": "dark"
          }
         }
        },
        "xaxis": {
         "anchor": "y",
         "domain": [
          0.0,
          1.0
         ],
         "title": {
          "text": "Founded"
         }
        },
        "yaxis": {
         "anchor": "x",
         "domain": [
          0.0,
          1.0
         ],
         "title": {
          "text": "Count"
         }
        },
        "legend": {
         "tracegroupgap": 0
        },
        "margin": {
         "t": 60
        },
        "barmode": "relative"
       },
       "config": {
        "plotlyServerURL": "https://plot.ly"
       }
      },
      "text/html": "<div>                            <div id=\"db782a80-f753-4956-8454-e518006216a7\" class=\"plotly-graph-div\" style=\"height:525px; width:100%;\"></div>            <script type=\"text/javascript\">                require([\"plotly\"], function(Plotly) {                    window.PLOTLYENV=window.PLOTLYENV || {};                                    if (document.getElementById(\"db782a80-f753-4956-8454-e518006216a7\")) {                    Plotly.newPlot(                        \"db782a80-f753-4956-8454-e518006216a7\",                        [{\"alignmentgroup\":\"True\",\"hovertemplate\":\"Founded=%{x}<br>Count=%{y}<extra></extra>\",\"legendgroup\":\"\",\"marker\":{\"color\":\"#636efa\",\"pattern\":{\"shape\":\"\"}},\"name\":\"\",\"offsetgroup\":\"\",\"orientation\":\"v\",\"showlegend\":false,\"textposition\":\"auto\",\"x\":[2014,2013,2012,2011,2010,2009,2008,2007,2006,2005,2004,2003,2002,2001,2000,1999,1998,1997,1996,1995,1994,1993,1992,1991,1990,1989,1988,1987,1986,1985,1984,1983,1982,1981,1980,1979,1978,1977,1976,1975,1974,1973,1972,1971,1970,1969,1968,1967,1966,1965,1963,1962,1961,1960,1958,1957,1956,1955,1954,1952,1951,1950,1949,1948,1947,1946,1945,1944,1943,1942,1940,1939,1938,1937,1936,1935,1933,1932,1931,1930,1929,1927,1926,1925,1924,1923,1922,1921,1920,1919,1918,1917,1916,1915,1914,1913,1912,1911,1908,1907,1906,1905,1903],\"xaxis\":\"x\",\"y\":[55,70,55,55,47,56,40,62,64,40,63,58,110,94,99,89,62,52,53,45,65,24,16,19,44,38,16,21,10,28,38,22,18,19,7,14,26,17,32,9,10,18,14,5,8,24,18,23,31,6,12,7,25,15,6,2,7,3,3,20,12,7,5,13,12,4,10,6,3,6,4,7,4,3,3,22,2,2,16,2,3,5,3,5,1,17,8,1,1,5,2,1,1,2,12,2,1,6,4,1,4,8,2],\"yaxis\":\"y\",\"type\":\"bar\"}],                        {\"template\":{\"data\":{\"histogram2dcontour\":[{\"type\":\"histogram2dcontour\",\"colorbar\":{\"outlinewidth\":0,\"ticks\":\"\"},\"colorscale\":[[0.0,\"#0d0887\"],[0.1111111111111111,\"#46039f\"],[0.2222222222222222,\"#7201a8\"],[0.3333333333333333,\"#9c179e\"],[0.4444444444444444,\"#bd3786\"],[0.5555555555555556,\"#d8576b\"],[0.6666666666666666,\"#ed7953\"],[0.7777777777777778,\"#fb9f3a\"],[0.8888888888888888,\"#fdca26\"],[1.0,\"#f0f921\"]]}],\"choropleth\":[{\"type\":\"choropleth\",\"colorbar\":{\"outlinewidth\":0,\"ticks\":\"\"}}],\"histogram2d\":[{\"type\":\"histogram2d\",\"colorbar\":{\"outlinewidth\":0,\"ticks\":\"\"},\"colorscale\":[[0.0,\"#0d0887\"],[0.1111111111111111,\"#46039f\"],[0.2222222222222222,\"#7201a8\"],[0.3333333333333333,\"#9c179e\"],[0.4444444444444444,\"#bd3786\"],[0.5555555555555556,\"#d8576b\"],[0.6666666666666666,\"#ed7953\"],[0.7777777777777778,\"#fb9f3a\"],[0.8888888888888888,\"#fdca26\"],[1.0,\"#f0f921\"]]}],\"heatmap\":[{\"type\":\"heatmap\",\"colorbar\":{\"outlinewidth\":0,\"ticks\":\"\"},\"colorscale\":[[0.0,\"#0d0887\"],[0.1111111111111111,\"#46039f\"],[0.2222222222222222,\"#7201a8\"],[0.3333333333333333,\"#9c179e\"],[0.4444444444444444,\"#bd3786\"],[0.5555555555555556,\"#d8576b\"],[0.6666666666666666,\"#ed7953\"],[0.7777777777777778,\"#fb9f3a\"],[0.8888888888888888,\"#fdca26\"],[1.0,\"#f0f921\"]]}],\"heatmapgl\":[{\"type\":\"heatmapgl\",\"colorbar\":{\"outlinewidth\":0,\"ticks\":\"\"},\"colorscale\":[[0.0,\"#0d0887\"],[0.1111111111111111,\"#46039f\"],[0.2222222222222222,\"#7201a8\"],[0.3333333333333333,\"#9c179e\"],[0.4444444444444444,\"#bd3786\"],[0.5555555555555556,\"#d8576b\"],[0.6666666666666666,\"#ed7953\"],[0.7777777777777778,\"#fb9f3a\"],[0.8888888888888888,\"#fdca26\"],[1.0,\"#f0f921\"]]}],\"contourcarpet\":[{\"type\":\"contourcarpet\",\"colorbar\":{\"outlinewidth\":0,\"ticks\":\"\"}}],\"contour\":[{\"type\":\"contour\",\"colorbar\":{\"outlinewidth\":0,\"ticks\":\"\"},\"colorscale\":[[0.0,\"#0d0887\"],[0.1111111111111111,\"#46039f\"],[0.2222222222222222,\"#7201a8\"],[0.3333333333333333,\"#9c179e\"],[0.4444444444444444,\"#bd3786\"],[0.5555555555555556,\"#d8576b\"],[0.6666666666666666,\"#ed7953\"],[0.7777777777777778,\"#fb9f3a\"],[0.8888888888888888,\"#fdca26\"],[1.0,\"#f0f921\"]]}],\"surface\":[{\"type\":\"surface\",\"colorbar\":{\"outlinewidth\":0,\"ticks\":\"\"},\"colorscale\":[[0.0,\"#0d0887\"],[0.1111111111111111,\"#46039f\"],[0.2222222222222222,\"#7201a8\"],[0.3333333333333333,\"#9c179e\"],[0.4444444444444444,\"#bd3786\"],[0.5555555555555556,\"#d8576b\"],[0.6666666666666666,\"#ed7953\"],[0.7777777777777778,\"#fb9f3a\"],[0.8888888888888888,\"#fdca26\"],[1.0,\"#f0f921\"]]}],\"mesh3d\":[{\"type\":\"mesh3d\",\"colorbar\":{\"outlinewidth\":0,\"ticks\":\"\"}}],\"scatter\":[{\"marker\":{\"line\":{\"color\":\"#283442\"}},\"type\":\"scatter\"}],\"parcoords\":[{\"type\":\"parcoords\",\"line\":{\"colorbar\":{\"outlinewidth\":0,\"ticks\":\"\"}}}],\"scatterpolargl\":[{\"type\":\"scatterpolargl\",\"marker\":{\"colorbar\":{\"outlinewidth\":0,\"ticks\":\"\"}}}],\"bar\":[{\"error_x\":{\"color\":\"#f2f5fa\"},\"error_y\":{\"color\":\"#f2f5fa\"},\"marker\":{\"line\":{\"color\":\"rgb(17,17,17)\",\"width\":0.5},\"pattern\":{\"fillmode\":\"overlay\",\"size\":10,\"solidity\":0.2}},\"type\":\"bar\"}],\"scattergeo\":[{\"type\":\"scattergeo\",\"marker\":{\"colorbar\":{\"outlinewidth\":0,\"ticks\":\"\"}}}],\"scatterpolar\":[{\"type\":\"scatterpolar\",\"marker\":{\"colorbar\":{\"outlinewidth\":0,\"ticks\":\"\"}}}],\"histogram\":[{\"marker\":{\"pattern\":{\"fillmode\":\"overlay\",\"size\":10,\"solidity\":0.2}},\"type\":\"histogram\"}],\"scattergl\":[{\"marker\":{\"line\":{\"color\":\"#283442\"}},\"type\":\"scattergl\"}],\"scatter3d\":[{\"type\":\"scatter3d\",\"line\":{\"colorbar\":{\"outlinewidth\":0,\"ticks\":\"\"}},\"marker\":{\"colorbar\":{\"outlinewidth\":0,\"ticks\":\"\"}}}],\"scattermapbox\":[{\"type\":\"scattermapbox\",\"marker\":{\"colorbar\":{\"outlinewidth\":0,\"ticks\":\"\"}}}],\"scatterternary\":[{\"type\":\"scatterternary\",\"marker\":{\"colorbar\":{\"outlinewidth\":0,\"ticks\":\"\"}}}],\"scattercarpet\":[{\"type\":\"scattercarpet\",\"marker\":{\"colorbar\":{\"outlinewidth\":0,\"ticks\":\"\"}}}],\"carpet\":[{\"aaxis\":{\"endlinecolor\":\"#A2B1C6\",\"gridcolor\":\"#506784\",\"linecolor\":\"#506784\",\"minorgridcolor\":\"#506784\",\"startlinecolor\":\"#A2B1C6\"},\"baxis\":{\"endlinecolor\":\"#A2B1C6\",\"gridcolor\":\"#506784\",\"linecolor\":\"#506784\",\"minorgridcolor\":\"#506784\",\"startlinecolor\":\"#A2B1C6\"},\"type\":\"carpet\"}],\"table\":[{\"cells\":{\"fill\":{\"color\":\"#506784\"},\"line\":{\"color\":\"rgb(17,17,17)\"}},\"header\":{\"fill\":{\"color\":\"#2a3f5f\"},\"line\":{\"color\":\"rgb(17,17,17)\"}},\"type\":\"table\"}],\"barpolar\":[{\"marker\":{\"line\":{\"color\":\"rgb(17,17,17)\",\"width\":0.5},\"pattern\":{\"fillmode\":\"overlay\",\"size\":10,\"solidity\":0.2}},\"type\":\"barpolar\"}],\"pie\":[{\"automargin\":true,\"type\":\"pie\"}]},\"layout\":{\"autotypenumbers\":\"strict\",\"colorway\":[\"#636efa\",\"#EF553B\",\"#00cc96\",\"#ab63fa\",\"#FFA15A\",\"#19d3f3\",\"#FF6692\",\"#B6E880\",\"#FF97FF\",\"#FECB52\"],\"font\":{\"color\":\"#f2f5fa\"},\"hovermode\":\"closest\",\"hoverlabel\":{\"align\":\"left\"},\"paper_bgcolor\":\"rgb(17,17,17)\",\"plot_bgcolor\":\"rgb(17,17,17)\",\"polar\":{\"bgcolor\":\"rgb(17,17,17)\",\"angularaxis\":{\"gridcolor\":\"#506784\",\"linecolor\":\"#506784\",\"ticks\":\"\"},\"radialaxis\":{\"gridcolor\":\"#506784\",\"linecolor\":\"#506784\",\"ticks\":\"\"}},\"ternary\":{\"bgcolor\":\"rgb(17,17,17)\",\"aaxis\":{\"gridcolor\":\"#506784\",\"linecolor\":\"#506784\",\"ticks\":\"\"},\"baxis\":{\"gridcolor\":\"#506784\",\"linecolor\":\"#506784\",\"ticks\":\"\"},\"caxis\":{\"gridcolor\":\"#506784\",\"linecolor\":\"#506784\",\"ticks\":\"\"}},\"coloraxis\":{\"colorbar\":{\"outlinewidth\":0,\"ticks\":\"\"}},\"colorscale\":{\"sequential\":[[0.0,\"#0d0887\"],[0.1111111111111111,\"#46039f\"],[0.2222222222222222,\"#7201a8\"],[0.3333333333333333,\"#9c179e\"],[0.4444444444444444,\"#bd3786\"],[0.5555555555555556,\"#d8576b\"],[0.6666666666666666,\"#ed7953\"],[0.7777777777777778,\"#fb9f3a\"],[0.8888888888888888,\"#fdca26\"],[1.0,\"#f0f921\"]],\"sequentialminus\":[[0.0,\"#0d0887\"],[0.1111111111111111,\"#46039f\"],[0.2222222222222222,\"#7201a8\"],[0.3333333333333333,\"#9c179e\"],[0.4444444444444444,\"#bd3786\"],[0.5555555555555556,\"#d8576b\"],[0.6666666666666666,\"#ed7953\"],[0.7777777777777778,\"#fb9f3a\"],[0.8888888888888888,\"#fdca26\"],[1.0,\"#f0f921\"]],\"diverging\":[[0,\"#8e0152\"],[0.1,\"#c51b7d\"],[0.2,\"#de77ae\"],[0.3,\"#f1b6da\"],[0.4,\"#fde0ef\"],[0.5,\"#f7f7f7\"],[0.6,\"#e6f5d0\"],[0.7,\"#b8e186\"],[0.8,\"#7fbc41\"],[0.9,\"#4d9221\"],[1,\"#276419\"]]},\"xaxis\":{\"gridcolor\":\"#283442\",\"linecolor\":\"#506784\",\"ticks\":\"\",\"title\":{\"standoff\":15},\"zerolinecolor\":\"#283442\",\"automargin\":true,\"zerolinewidth\":2},\"yaxis\":{\"gridcolor\":\"#283442\",\"linecolor\":\"#506784\",\"ticks\":\"\",\"title\":{\"standoff\":15},\"zerolinecolor\":\"#283442\",\"automargin\":true,\"zerolinewidth\":2},\"scene\":{\"xaxis\":{\"backgroundcolor\":\"rgb(17,17,17)\",\"gridcolor\":\"#506784\",\"linecolor\":\"#506784\",\"showbackground\":true,\"ticks\":\"\",\"zerolinecolor\":\"#C8D4E3\",\"gridwidth\":2},\"yaxis\":{\"backgroundcolor\":\"rgb(17,17,17)\",\"gridcolor\":\"#506784\",\"linecolor\":\"#506784\",\"showbackground\":true,\"ticks\":\"\",\"zerolinecolor\":\"#C8D4E3\",\"gridwidth\":2},\"zaxis\":{\"backgroundcolor\":\"rgb(17,17,17)\",\"gridcolor\":\"#506784\",\"linecolor\":\"#506784\",\"showbackground\":true,\"ticks\":\"\",\"zerolinecolor\":\"#C8D4E3\",\"gridwidth\":2}},\"shapedefaults\":{\"line\":{\"color\":\"#f2f5fa\"}},\"annotationdefaults\":{\"arrowcolor\":\"#f2f5fa\",\"arrowhead\":0,\"arrowwidth\":1},\"geo\":{\"bgcolor\":\"rgb(17,17,17)\",\"landcolor\":\"rgb(17,17,17)\",\"subunitcolor\":\"#506784\",\"showland\":true,\"showlakes\":true,\"lakecolor\":\"rgb(17,17,17)\"},\"title\":{\"x\":0.05},\"updatemenudefaults\":{\"bgcolor\":\"#506784\",\"borderwidth\":0},\"sliderdefaults\":{\"bgcolor\":\"#C8D4E3\",\"borderwidth\":1,\"bordercolor\":\"rgb(17,17,17)\",\"tickwidth\":0},\"mapbox\":{\"style\":\"dark\"}}},\"xaxis\":{\"anchor\":\"y\",\"domain\":[0.0,1.0],\"title\":{\"text\":\"Founded\"}},\"yaxis\":{\"anchor\":\"x\",\"domain\":[0.0,1.0],\"title\":{\"text\":\"Count\"}},\"legend\":{\"tracegroupgap\":0},\"margin\":{\"t\":60},\"barmode\":\"relative\"},                        {\"responsive\": true}                    ).then(function(){\n                            \nvar gd = document.getElementById('db782a80-f753-4956-8454-e518006216a7');\nvar x = new MutationObserver(function (mutations, observer) {{\n        var display = window.getComputedStyle(gd).display;\n        if (!display || display === 'none') {{\n            console.log([gd, 'removed!']);\n            Plotly.purge(gd);\n            observer.disconnect();\n        }}\n}});\n\n// Listen for the removal of the full notebook cells\nvar notebookContainer = gd.closest('#notebook-container');\nif (notebookContainer) {{\n    x.observe(notebookContainer, {childList: true});\n}}\n\n// Listen for the clearing of the current output cell\nvar outputEl = gd.closest('.output');\nif (outputEl) {{\n    x.observe(outputEl, {childList: true});\n}}\n\n                        })                };                });            </script>        </div>"
     },
     "metadata": {},
     "output_type": "display_data"
    }
   ],
   "source": [
    "Founded = df.groupby(['Founded']).size().reset_index(name = 'Count').sort_values('Founded', ascending=False)\n",
    "px.bar(Founded, x='Founded', y='Count')\n"
   ]
  },
  {
   "cell_type": "code",
   "execution_count": 243,
   "outputs": [
    {
     "name": "stderr",
     "output_type": "stream",
     "text": [
      "C:\\Users\\Oleg Lastocichin\\AppData\\Local\\Temp\\ipykernel_11120\\1097944495.py:1: FutureWarning:\n",
      "\n",
      "The default value of numeric_only in DataFrameGroupBy.mean is deprecated. In a future version, numeric_only will default to False. Either specify numeric_only or select only columns which should be valid for the function.\n",
      "\n"
     ]
    }
   ],
   "source": [
    "map_df = df.groupby(['State']).mean().reset_index()"
   ],
   "metadata": {
    "collapsed": false
   }
  },
  {
   "cell_type": "code",
   "execution_count": 244,
   "outputs": [
    {
     "data": {
      "text/plain": "  State    Rating      Founded  Salary Estimate mean   latitude   longitude\n0    AZ  3.904294  1988.147239          99141.104294  34.048928 -111.093731\n1    CA  3.813333  1992.601887         127345.283019  36.778261 -119.417932\n2    DE  3.713889  1993.666667         101041.666667  38.910832  -75.527670\n3    FL  3.808475  1982.584746          62279.661017  27.664827  -81.515754\n4    IL  3.813004  1992.241758         101884.615385  40.633125  -89.398528\n5    NJ  3.881159  1984.782609          97043.478261  40.058324  -74.405661\n6    NY  3.913542  1994.618750         100012.500000  43.299428  -74.217933\n7    PA  3.759705  1993.088608          97465.189873  41.203322  -77.194525\n8    TX  3.802960  1983.162042          89651.498335  31.968599  -99.901813",
      "text/html": "<div>\n<style scoped>\n    .dataframe tbody tr th:only-of-type {\n        vertical-align: middle;\n    }\n\n    .dataframe tbody tr th {\n        vertical-align: top;\n    }\n\n    .dataframe thead th {\n        text-align: right;\n    }\n</style>\n<table border=\"1\" class=\"dataframe\">\n  <thead>\n    <tr style=\"text-align: right;\">\n      <th></th>\n      <th>State</th>\n      <th>Rating</th>\n      <th>Founded</th>\n      <th>Salary Estimate mean</th>\n      <th>latitude</th>\n      <th>longitude</th>\n    </tr>\n  </thead>\n  <tbody>\n    <tr>\n      <th>0</th>\n      <td>AZ</td>\n      <td>3.904294</td>\n      <td>1988.147239</td>\n      <td>99141.104294</td>\n      <td>34.048928</td>\n      <td>-111.093731</td>\n    </tr>\n    <tr>\n      <th>1</th>\n      <td>CA</td>\n      <td>3.813333</td>\n      <td>1992.601887</td>\n      <td>127345.283019</td>\n      <td>36.778261</td>\n      <td>-119.417932</td>\n    </tr>\n    <tr>\n      <th>2</th>\n      <td>DE</td>\n      <td>3.713889</td>\n      <td>1993.666667</td>\n      <td>101041.666667</td>\n      <td>38.910832</td>\n      <td>-75.527670</td>\n    </tr>\n    <tr>\n      <th>3</th>\n      <td>FL</td>\n      <td>3.808475</td>\n      <td>1982.584746</td>\n      <td>62279.661017</td>\n      <td>27.664827</td>\n      <td>-81.515754</td>\n    </tr>\n    <tr>\n      <th>4</th>\n      <td>IL</td>\n      <td>3.813004</td>\n      <td>1992.241758</td>\n      <td>101884.615385</td>\n      <td>40.633125</td>\n      <td>-89.398528</td>\n    </tr>\n    <tr>\n      <th>5</th>\n      <td>NJ</td>\n      <td>3.881159</td>\n      <td>1984.782609</td>\n      <td>97043.478261</td>\n      <td>40.058324</td>\n      <td>-74.405661</td>\n    </tr>\n    <tr>\n      <th>6</th>\n      <td>NY</td>\n      <td>3.913542</td>\n      <td>1994.618750</td>\n      <td>100012.500000</td>\n      <td>43.299428</td>\n      <td>-74.217933</td>\n    </tr>\n    <tr>\n      <th>7</th>\n      <td>PA</td>\n      <td>3.759705</td>\n      <td>1993.088608</td>\n      <td>97465.189873</td>\n      <td>41.203322</td>\n      <td>-77.194525</td>\n    </tr>\n    <tr>\n      <th>8</th>\n      <td>TX</td>\n      <td>3.802960</td>\n      <td>1983.162042</td>\n      <td>89651.498335</td>\n      <td>31.968599</td>\n      <td>-99.901813</td>\n    </tr>\n  </tbody>\n</table>\n</div>"
     },
     "execution_count": 244,
     "metadata": {},
     "output_type": "execute_result"
    }
   ],
   "source": [
    "map_df"
   ],
   "metadata": {
    "collapsed": false
   }
  },
  {
   "cell_type": "code",
   "execution_count": 245,
   "outputs": [
    {
     "data": {
      "application/vnd.plotly.v1+json": {
       "data": [
        {
         "colorbar": {
          "title": {
           "text": "Salary Estimate"
          }
         },
         "colorscale": [
          [
           0.0,
           "rgb(255,245,240)"
          ],
          [
           0.125,
           "rgb(254,224,210)"
          ],
          [
           0.25,
           "rgb(252,187,161)"
          ],
          [
           0.375,
           "rgb(252,146,114)"
          ],
          [
           0.5,
           "rgb(251,106,74)"
          ],
          [
           0.625,
           "rgb(239,59,44)"
          ],
          [
           0.75,
           "rgb(203,24,29)"
          ],
          [
           0.875,
           "rgb(165,15,21)"
          ],
          [
           1.0,
           "rgb(103,0,13)"
          ]
         ],
         "locationmode": "USA-states",
         "locations": [
          "AZ",
          "CA",
          "DE",
          "FL",
          "IL",
          "NJ",
          "NY",
          "PA",
          "TX"
         ],
         "z": [
          99141.10429447853,
          127345.28301886792,
          101041.66666666667,
          62279.661016949154,
          101884.61538461539,
          97043.47826086957,
          100012.5,
          97465.18987341772,
          89651.49833518313
         ],
         "type": "choropleth"
        },
        {
         "lat": [
          34.048928,
          36.778261,
          38.910832,
          27.664827,
          40.633125,
          40.058324,
          43.299428,
          41.203322,
          31.968599
         ],
         "lon": [
          -111.09373099999999,
          -119.417932,
          -75.52767,
          -81.515754,
          -89.398528,
          -74.405661,
          -74.217933,
          -77.194525,
          -99.901813
         ],
         "mode": "text",
         "name": "",
         "text": [
          "AZ",
          "CA",
          "DE",
          "FL",
          "IL",
          "NJ",
          "NY",
          "PA",
          "TX"
         ],
         "textfont": {
          "color": [
           "White",
           "White",
           "White",
           "Black",
           "White",
           "White",
           "White",
           "White",
           "White"
          ],
          "family": [
           "Arial Black"
          ],
          "size": 12
         },
         "type": "scattergeo"
        }
       ],
       "layout": {
        "template": {
         "data": {
          "histogram2dcontour": [
           {
            "type": "histogram2dcontour",
            "colorbar": {
             "outlinewidth": 0,
             "ticks": ""
            },
            "colorscale": [
             [
              0.0,
              "#0d0887"
             ],
             [
              0.1111111111111111,
              "#46039f"
             ],
             [
              0.2222222222222222,
              "#7201a8"
             ],
             [
              0.3333333333333333,
              "#9c179e"
             ],
             [
              0.4444444444444444,
              "#bd3786"
             ],
             [
              0.5555555555555556,
              "#d8576b"
             ],
             [
              0.6666666666666666,
              "#ed7953"
             ],
             [
              0.7777777777777778,
              "#fb9f3a"
             ],
             [
              0.8888888888888888,
              "#fdca26"
             ],
             [
              1.0,
              "#f0f921"
             ]
            ]
           }
          ],
          "choropleth": [
           {
            "type": "choropleth",
            "colorbar": {
             "outlinewidth": 0,
             "ticks": ""
            }
           }
          ],
          "histogram2d": [
           {
            "type": "histogram2d",
            "colorbar": {
             "outlinewidth": 0,
             "ticks": ""
            },
            "colorscale": [
             [
              0.0,
              "#0d0887"
             ],
             [
              0.1111111111111111,
              "#46039f"
             ],
             [
              0.2222222222222222,
              "#7201a8"
             ],
             [
              0.3333333333333333,
              "#9c179e"
             ],
             [
              0.4444444444444444,
              "#bd3786"
             ],
             [
              0.5555555555555556,
              "#d8576b"
             ],
             [
              0.6666666666666666,
              "#ed7953"
             ],
             [
              0.7777777777777778,
              "#fb9f3a"
             ],
             [
              0.8888888888888888,
              "#fdca26"
             ],
             [
              1.0,
              "#f0f921"
             ]
            ]
           }
          ],
          "heatmap": [
           {
            "type": "heatmap",
            "colorbar": {
             "outlinewidth": 0,
             "ticks": ""
            },
            "colorscale": [
             [
              0.0,
              "#0d0887"
             ],
             [
              0.1111111111111111,
              "#46039f"
             ],
             [
              0.2222222222222222,
              "#7201a8"
             ],
             [
              0.3333333333333333,
              "#9c179e"
             ],
             [
              0.4444444444444444,
              "#bd3786"
             ],
             [
              0.5555555555555556,
              "#d8576b"
             ],
             [
              0.6666666666666666,
              "#ed7953"
             ],
             [
              0.7777777777777778,
              "#fb9f3a"
             ],
             [
              0.8888888888888888,
              "#fdca26"
             ],
             [
              1.0,
              "#f0f921"
             ]
            ]
           }
          ],
          "heatmapgl": [
           {
            "type": "heatmapgl",
            "colorbar": {
             "outlinewidth": 0,
             "ticks": ""
            },
            "colorscale": [
             [
              0.0,
              "#0d0887"
             ],
             [
              0.1111111111111111,
              "#46039f"
             ],
             [
              0.2222222222222222,
              "#7201a8"
             ],
             [
              0.3333333333333333,
              "#9c179e"
             ],
             [
              0.4444444444444444,
              "#bd3786"
             ],
             [
              0.5555555555555556,
              "#d8576b"
             ],
             [
              0.6666666666666666,
              "#ed7953"
             ],
             [
              0.7777777777777778,
              "#fb9f3a"
             ],
             [
              0.8888888888888888,
              "#fdca26"
             ],
             [
              1.0,
              "#f0f921"
             ]
            ]
           }
          ],
          "contourcarpet": [
           {
            "type": "contourcarpet",
            "colorbar": {
             "outlinewidth": 0,
             "ticks": ""
            }
           }
          ],
          "contour": [
           {
            "type": "contour",
            "colorbar": {
             "outlinewidth": 0,
             "ticks": ""
            },
            "colorscale": [
             [
              0.0,
              "#0d0887"
             ],
             [
              0.1111111111111111,
              "#46039f"
             ],
             [
              0.2222222222222222,
              "#7201a8"
             ],
             [
              0.3333333333333333,
              "#9c179e"
             ],
             [
              0.4444444444444444,
              "#bd3786"
             ],
             [
              0.5555555555555556,
              "#d8576b"
             ],
             [
              0.6666666666666666,
              "#ed7953"
             ],
             [
              0.7777777777777778,
              "#fb9f3a"
             ],
             [
              0.8888888888888888,
              "#fdca26"
             ],
             [
              1.0,
              "#f0f921"
             ]
            ]
           }
          ],
          "surface": [
           {
            "type": "surface",
            "colorbar": {
             "outlinewidth": 0,
             "ticks": ""
            },
            "colorscale": [
             [
              0.0,
              "#0d0887"
             ],
             [
              0.1111111111111111,
              "#46039f"
             ],
             [
              0.2222222222222222,
              "#7201a8"
             ],
             [
              0.3333333333333333,
              "#9c179e"
             ],
             [
              0.4444444444444444,
              "#bd3786"
             ],
             [
              0.5555555555555556,
              "#d8576b"
             ],
             [
              0.6666666666666666,
              "#ed7953"
             ],
             [
              0.7777777777777778,
              "#fb9f3a"
             ],
             [
              0.8888888888888888,
              "#fdca26"
             ],
             [
              1.0,
              "#f0f921"
             ]
            ]
           }
          ],
          "mesh3d": [
           {
            "type": "mesh3d",
            "colorbar": {
             "outlinewidth": 0,
             "ticks": ""
            }
           }
          ],
          "scatter": [
           {
            "marker": {
             "line": {
              "color": "#283442"
             }
            },
            "type": "scatter"
           }
          ],
          "parcoords": [
           {
            "type": "parcoords",
            "line": {
             "colorbar": {
              "outlinewidth": 0,
              "ticks": ""
             }
            }
           }
          ],
          "scatterpolargl": [
           {
            "type": "scatterpolargl",
            "marker": {
             "colorbar": {
              "outlinewidth": 0,
              "ticks": ""
             }
            }
           }
          ],
          "bar": [
           {
            "error_x": {
             "color": "#f2f5fa"
            },
            "error_y": {
             "color": "#f2f5fa"
            },
            "marker": {
             "line": {
              "color": "rgb(17,17,17)",
              "width": 0.5
             },
             "pattern": {
              "fillmode": "overlay",
              "size": 10,
              "solidity": 0.2
             }
            },
            "type": "bar"
           }
          ],
          "scattergeo": [
           {
            "type": "scattergeo",
            "marker": {
             "colorbar": {
              "outlinewidth": 0,
              "ticks": ""
             }
            }
           }
          ],
          "scatterpolar": [
           {
            "type": "scatterpolar",
            "marker": {
             "colorbar": {
              "outlinewidth": 0,
              "ticks": ""
             }
            }
           }
          ],
          "histogram": [
           {
            "marker": {
             "pattern": {
              "fillmode": "overlay",
              "size": 10,
              "solidity": 0.2
             }
            },
            "type": "histogram"
           }
          ],
          "scattergl": [
           {
            "marker": {
             "line": {
              "color": "#283442"
             }
            },
            "type": "scattergl"
           }
          ],
          "scatter3d": [
           {
            "type": "scatter3d",
            "line": {
             "colorbar": {
              "outlinewidth": 0,
              "ticks": ""
             }
            },
            "marker": {
             "colorbar": {
              "outlinewidth": 0,
              "ticks": ""
             }
            }
           }
          ],
          "scattermapbox": [
           {
            "type": "scattermapbox",
            "marker": {
             "colorbar": {
              "outlinewidth": 0,
              "ticks": ""
             }
            }
           }
          ],
          "scatterternary": [
           {
            "type": "scatterternary",
            "marker": {
             "colorbar": {
              "outlinewidth": 0,
              "ticks": ""
             }
            }
           }
          ],
          "scattercarpet": [
           {
            "type": "scattercarpet",
            "marker": {
             "colorbar": {
              "outlinewidth": 0,
              "ticks": ""
             }
            }
           }
          ],
          "carpet": [
           {
            "aaxis": {
             "endlinecolor": "#A2B1C6",
             "gridcolor": "#506784",
             "linecolor": "#506784",
             "minorgridcolor": "#506784",
             "startlinecolor": "#A2B1C6"
            },
            "baxis": {
             "endlinecolor": "#A2B1C6",
             "gridcolor": "#506784",
             "linecolor": "#506784",
             "minorgridcolor": "#506784",
             "startlinecolor": "#A2B1C6"
            },
            "type": "carpet"
           }
          ],
          "table": [
           {
            "cells": {
             "fill": {
              "color": "#506784"
             },
             "line": {
              "color": "rgb(17,17,17)"
             }
            },
            "header": {
             "fill": {
              "color": "#2a3f5f"
             },
             "line": {
              "color": "rgb(17,17,17)"
             }
            },
            "type": "table"
           }
          ],
          "barpolar": [
           {
            "marker": {
             "line": {
              "color": "rgb(17,17,17)",
              "width": 0.5
             },
             "pattern": {
              "fillmode": "overlay",
              "size": 10,
              "solidity": 0.2
             }
            },
            "type": "barpolar"
           }
          ],
          "pie": [
           {
            "automargin": true,
            "type": "pie"
           }
          ]
         },
         "layout": {
          "autotypenumbers": "strict",
          "colorway": [
           "#636efa",
           "#EF553B",
           "#00cc96",
           "#ab63fa",
           "#FFA15A",
           "#19d3f3",
           "#FF6692",
           "#B6E880",
           "#FF97FF",
           "#FECB52"
          ],
          "font": {
           "color": "#f2f5fa"
          },
          "hovermode": "closest",
          "hoverlabel": {
           "align": "left"
          },
          "paper_bgcolor": "rgb(17,17,17)",
          "plot_bgcolor": "rgb(17,17,17)",
          "polar": {
           "bgcolor": "rgb(17,17,17)",
           "angularaxis": {
            "gridcolor": "#506784",
            "linecolor": "#506784",
            "ticks": ""
           },
           "radialaxis": {
            "gridcolor": "#506784",
            "linecolor": "#506784",
            "ticks": ""
           }
          },
          "ternary": {
           "bgcolor": "rgb(17,17,17)",
           "aaxis": {
            "gridcolor": "#506784",
            "linecolor": "#506784",
            "ticks": ""
           },
           "baxis": {
            "gridcolor": "#506784",
            "linecolor": "#506784",
            "ticks": ""
           },
           "caxis": {
            "gridcolor": "#506784",
            "linecolor": "#506784",
            "ticks": ""
           }
          },
          "coloraxis": {
           "colorbar": {
            "outlinewidth": 0,
            "ticks": ""
           }
          },
          "colorscale": {
           "sequential": [
            [
             0.0,
             "#0d0887"
            ],
            [
             0.1111111111111111,
             "#46039f"
            ],
            [
             0.2222222222222222,
             "#7201a8"
            ],
            [
             0.3333333333333333,
             "#9c179e"
            ],
            [
             0.4444444444444444,
             "#bd3786"
            ],
            [
             0.5555555555555556,
             "#d8576b"
            ],
            [
             0.6666666666666666,
             "#ed7953"
            ],
            [
             0.7777777777777778,
             "#fb9f3a"
            ],
            [
             0.8888888888888888,
             "#fdca26"
            ],
            [
             1.0,
             "#f0f921"
            ]
           ],
           "sequentialminus": [
            [
             0.0,
             "#0d0887"
            ],
            [
             0.1111111111111111,
             "#46039f"
            ],
            [
             0.2222222222222222,
             "#7201a8"
            ],
            [
             0.3333333333333333,
             "#9c179e"
            ],
            [
             0.4444444444444444,
             "#bd3786"
            ],
            [
             0.5555555555555556,
             "#d8576b"
            ],
            [
             0.6666666666666666,
             "#ed7953"
            ],
            [
             0.7777777777777778,
             "#fb9f3a"
            ],
            [
             0.8888888888888888,
             "#fdca26"
            ],
            [
             1.0,
             "#f0f921"
            ]
           ],
           "diverging": [
            [
             0,
             "#8e0152"
            ],
            [
             0.1,
             "#c51b7d"
            ],
            [
             0.2,
             "#de77ae"
            ],
            [
             0.3,
             "#f1b6da"
            ],
            [
             0.4,
             "#fde0ef"
            ],
            [
             0.5,
             "#f7f7f7"
            ],
            [
             0.6,
             "#e6f5d0"
            ],
            [
             0.7,
             "#b8e186"
            ],
            [
             0.8,
             "#7fbc41"
            ],
            [
             0.9,
             "#4d9221"
            ],
            [
             1,
             "#276419"
            ]
           ]
          },
          "xaxis": {
           "gridcolor": "#283442",
           "linecolor": "#506784",
           "ticks": "",
           "title": {
            "standoff": 15
           },
           "zerolinecolor": "#283442",
           "automargin": true,
           "zerolinewidth": 2
          },
          "yaxis": {
           "gridcolor": "#283442",
           "linecolor": "#506784",
           "ticks": "",
           "title": {
            "standoff": 15
           },
           "zerolinecolor": "#283442",
           "automargin": true,
           "zerolinewidth": 2
          },
          "scene": {
           "xaxis": {
            "backgroundcolor": "rgb(17,17,17)",
            "gridcolor": "#506784",
            "linecolor": "#506784",
            "showbackground": true,
            "ticks": "",
            "zerolinecolor": "#C8D4E3",
            "gridwidth": 2
           },
           "yaxis": {
            "backgroundcolor": "rgb(17,17,17)",
            "gridcolor": "#506784",
            "linecolor": "#506784",
            "showbackground": true,
            "ticks": "",
            "zerolinecolor": "#C8D4E3",
            "gridwidth": 2
           },
           "zaxis": {
            "backgroundcolor": "rgb(17,17,17)",
            "gridcolor": "#506784",
            "linecolor": "#506784",
            "showbackground": true,
            "ticks": "",
            "zerolinecolor": "#C8D4E3",
            "gridwidth": 2
           }
          },
          "shapedefaults": {
           "line": {
            "color": "#f2f5fa"
           }
          },
          "annotationdefaults": {
           "arrowcolor": "#f2f5fa",
           "arrowhead": 0,
           "arrowwidth": 1
          },
          "geo": {
           "bgcolor": "rgb(17,17,17)",
           "landcolor": "rgb(17,17,17)",
           "subunitcolor": "#506784",
           "showland": true,
           "showlakes": true,
           "lakecolor": "rgb(17,17,17)"
          },
          "title": {
           "x": 0.05
          },
          "updatemenudefaults": {
           "bgcolor": "#506784",
           "borderwidth": 0
          },
          "sliderdefaults": {
           "bgcolor": "#C8D4E3",
           "borderwidth": 1,
           "bordercolor": "rgb(17,17,17)",
           "tickwidth": 0
          },
          "mapbox": {
           "style": "dark"
          }
         }
        },
        "title": {
         "text": "Salary estimate mean by State"
        },
        "geo": {
         "scope": "usa"
        }
       },
       "config": {
        "plotlyServerURL": "https://plot.ly"
       }
      },
      "text/html": "<div>                            <div id=\"e3020e6d-867d-4fcc-94dd-97127cbce0e7\" class=\"plotly-graph-div\" style=\"height:525px; width:100%;\"></div>            <script type=\"text/javascript\">                require([\"plotly\"], function(Plotly) {                    window.PLOTLYENV=window.PLOTLYENV || {};                                    if (document.getElementById(\"e3020e6d-867d-4fcc-94dd-97127cbce0e7\")) {                    Plotly.newPlot(                        \"e3020e6d-867d-4fcc-94dd-97127cbce0e7\",                        [{\"colorbar\":{\"title\":{\"text\":\"Salary Estimate\"}},\"colorscale\":[[0.0,\"rgb(255,245,240)\"],[0.125,\"rgb(254,224,210)\"],[0.25,\"rgb(252,187,161)\"],[0.375,\"rgb(252,146,114)\"],[0.5,\"rgb(251,106,74)\"],[0.625,\"rgb(239,59,44)\"],[0.75,\"rgb(203,24,29)\"],[0.875,\"rgb(165,15,21)\"],[1.0,\"rgb(103,0,13)\"]],\"locationmode\":\"USA-states\",\"locations\":[\"AZ\",\"CA\",\"DE\",\"FL\",\"IL\",\"NJ\",\"NY\",\"PA\",\"TX\"],\"z\":[99141.10429447853,127345.28301886792,101041.66666666667,62279.661016949154,101884.61538461539,97043.47826086957,100012.5,97465.18987341772,89651.49833518313],\"type\":\"choropleth\"},{\"lat\":[34.048928,36.778261,38.910832,27.664827,40.633125,40.058324,43.299428,41.203322,31.968599],\"lon\":[-111.09373099999999,-119.417932,-75.52767,-81.515754,-89.398528,-74.405661,-74.217933,-77.194525,-99.901813],\"mode\":\"text\",\"name\":\"\",\"text\":[\"AZ\",\"CA\",\"DE\",\"FL\",\"IL\",\"NJ\",\"NY\",\"PA\",\"TX\"],\"textfont\":{\"color\":[\"White\",\"White\",\"White\",\"Black\",\"White\",\"White\",\"White\",\"White\",\"White\"],\"family\":[\"Arial Black\"],\"size\":12},\"type\":\"scattergeo\"}],                        {\"template\":{\"data\":{\"histogram2dcontour\":[{\"type\":\"histogram2dcontour\",\"colorbar\":{\"outlinewidth\":0,\"ticks\":\"\"},\"colorscale\":[[0.0,\"#0d0887\"],[0.1111111111111111,\"#46039f\"],[0.2222222222222222,\"#7201a8\"],[0.3333333333333333,\"#9c179e\"],[0.4444444444444444,\"#bd3786\"],[0.5555555555555556,\"#d8576b\"],[0.6666666666666666,\"#ed7953\"],[0.7777777777777778,\"#fb9f3a\"],[0.8888888888888888,\"#fdca26\"],[1.0,\"#f0f921\"]]}],\"choropleth\":[{\"type\":\"choropleth\",\"colorbar\":{\"outlinewidth\":0,\"ticks\":\"\"}}],\"histogram2d\":[{\"type\":\"histogram2d\",\"colorbar\":{\"outlinewidth\":0,\"ticks\":\"\"},\"colorscale\":[[0.0,\"#0d0887\"],[0.1111111111111111,\"#46039f\"],[0.2222222222222222,\"#7201a8\"],[0.3333333333333333,\"#9c179e\"],[0.4444444444444444,\"#bd3786\"],[0.5555555555555556,\"#d8576b\"],[0.6666666666666666,\"#ed7953\"],[0.7777777777777778,\"#fb9f3a\"],[0.8888888888888888,\"#fdca26\"],[1.0,\"#f0f921\"]]}],\"heatmap\":[{\"type\":\"heatmap\",\"colorbar\":{\"outlinewidth\":0,\"ticks\":\"\"},\"colorscale\":[[0.0,\"#0d0887\"],[0.1111111111111111,\"#46039f\"],[0.2222222222222222,\"#7201a8\"],[0.3333333333333333,\"#9c179e\"],[0.4444444444444444,\"#bd3786\"],[0.5555555555555556,\"#d8576b\"],[0.6666666666666666,\"#ed7953\"],[0.7777777777777778,\"#fb9f3a\"],[0.8888888888888888,\"#fdca26\"],[1.0,\"#f0f921\"]]}],\"heatmapgl\":[{\"type\":\"heatmapgl\",\"colorbar\":{\"outlinewidth\":0,\"ticks\":\"\"},\"colorscale\":[[0.0,\"#0d0887\"],[0.1111111111111111,\"#46039f\"],[0.2222222222222222,\"#7201a8\"],[0.3333333333333333,\"#9c179e\"],[0.4444444444444444,\"#bd3786\"],[0.5555555555555556,\"#d8576b\"],[0.6666666666666666,\"#ed7953\"],[0.7777777777777778,\"#fb9f3a\"],[0.8888888888888888,\"#fdca26\"],[1.0,\"#f0f921\"]]}],\"contourcarpet\":[{\"type\":\"contourcarpet\",\"colorbar\":{\"outlinewidth\":0,\"ticks\":\"\"}}],\"contour\":[{\"type\":\"contour\",\"colorbar\":{\"outlinewidth\":0,\"ticks\":\"\"},\"colorscale\":[[0.0,\"#0d0887\"],[0.1111111111111111,\"#46039f\"],[0.2222222222222222,\"#7201a8\"],[0.3333333333333333,\"#9c179e\"],[0.4444444444444444,\"#bd3786\"],[0.5555555555555556,\"#d8576b\"],[0.6666666666666666,\"#ed7953\"],[0.7777777777777778,\"#fb9f3a\"],[0.8888888888888888,\"#fdca26\"],[1.0,\"#f0f921\"]]}],\"surface\":[{\"type\":\"surface\",\"colorbar\":{\"outlinewidth\":0,\"ticks\":\"\"},\"colorscale\":[[0.0,\"#0d0887\"],[0.1111111111111111,\"#46039f\"],[0.2222222222222222,\"#7201a8\"],[0.3333333333333333,\"#9c179e\"],[0.4444444444444444,\"#bd3786\"],[0.5555555555555556,\"#d8576b\"],[0.6666666666666666,\"#ed7953\"],[0.7777777777777778,\"#fb9f3a\"],[0.8888888888888888,\"#fdca26\"],[1.0,\"#f0f921\"]]}],\"mesh3d\":[{\"type\":\"mesh3d\",\"colorbar\":{\"outlinewidth\":0,\"ticks\":\"\"}}],\"scatter\":[{\"marker\":{\"line\":{\"color\":\"#283442\"}},\"type\":\"scatter\"}],\"parcoords\":[{\"type\":\"parcoords\",\"line\":{\"colorbar\":{\"outlinewidth\":0,\"ticks\":\"\"}}}],\"scatterpolargl\":[{\"type\":\"scatterpolargl\",\"marker\":{\"colorbar\":{\"outlinewidth\":0,\"ticks\":\"\"}}}],\"bar\":[{\"error_x\":{\"color\":\"#f2f5fa\"},\"error_y\":{\"color\":\"#f2f5fa\"},\"marker\":{\"line\":{\"color\":\"rgb(17,17,17)\",\"width\":0.5},\"pattern\":{\"fillmode\":\"overlay\",\"size\":10,\"solidity\":0.2}},\"type\":\"bar\"}],\"scattergeo\":[{\"type\":\"scattergeo\",\"marker\":{\"colorbar\":{\"outlinewidth\":0,\"ticks\":\"\"}}}],\"scatterpolar\":[{\"type\":\"scatterpolar\",\"marker\":{\"colorbar\":{\"outlinewidth\":0,\"ticks\":\"\"}}}],\"histogram\":[{\"marker\":{\"pattern\":{\"fillmode\":\"overlay\",\"size\":10,\"solidity\":0.2}},\"type\":\"histogram\"}],\"scattergl\":[{\"marker\":{\"line\":{\"color\":\"#283442\"}},\"type\":\"scattergl\"}],\"scatter3d\":[{\"type\":\"scatter3d\",\"line\":{\"colorbar\":{\"outlinewidth\":0,\"ticks\":\"\"}},\"marker\":{\"colorbar\":{\"outlinewidth\":0,\"ticks\":\"\"}}}],\"scattermapbox\":[{\"type\":\"scattermapbox\",\"marker\":{\"colorbar\":{\"outlinewidth\":0,\"ticks\":\"\"}}}],\"scatterternary\":[{\"type\":\"scatterternary\",\"marker\":{\"colorbar\":{\"outlinewidth\":0,\"ticks\":\"\"}}}],\"scattercarpet\":[{\"type\":\"scattercarpet\",\"marker\":{\"colorbar\":{\"outlinewidth\":0,\"ticks\":\"\"}}}],\"carpet\":[{\"aaxis\":{\"endlinecolor\":\"#A2B1C6\",\"gridcolor\":\"#506784\",\"linecolor\":\"#506784\",\"minorgridcolor\":\"#506784\",\"startlinecolor\":\"#A2B1C6\"},\"baxis\":{\"endlinecolor\":\"#A2B1C6\",\"gridcolor\":\"#506784\",\"linecolor\":\"#506784\",\"minorgridcolor\":\"#506784\",\"startlinecolor\":\"#A2B1C6\"},\"type\":\"carpet\"}],\"table\":[{\"cells\":{\"fill\":{\"color\":\"#506784\"},\"line\":{\"color\":\"rgb(17,17,17)\"}},\"header\":{\"fill\":{\"color\":\"#2a3f5f\"},\"line\":{\"color\":\"rgb(17,17,17)\"}},\"type\":\"table\"}],\"barpolar\":[{\"marker\":{\"line\":{\"color\":\"rgb(17,17,17)\",\"width\":0.5},\"pattern\":{\"fillmode\":\"overlay\",\"size\":10,\"solidity\":0.2}},\"type\":\"barpolar\"}],\"pie\":[{\"automargin\":true,\"type\":\"pie\"}]},\"layout\":{\"autotypenumbers\":\"strict\",\"colorway\":[\"#636efa\",\"#EF553B\",\"#00cc96\",\"#ab63fa\",\"#FFA15A\",\"#19d3f3\",\"#FF6692\",\"#B6E880\",\"#FF97FF\",\"#FECB52\"],\"font\":{\"color\":\"#f2f5fa\"},\"hovermode\":\"closest\",\"hoverlabel\":{\"align\":\"left\"},\"paper_bgcolor\":\"rgb(17,17,17)\",\"plot_bgcolor\":\"rgb(17,17,17)\",\"polar\":{\"bgcolor\":\"rgb(17,17,17)\",\"angularaxis\":{\"gridcolor\":\"#506784\",\"linecolor\":\"#506784\",\"ticks\":\"\"},\"radialaxis\":{\"gridcolor\":\"#506784\",\"linecolor\":\"#506784\",\"ticks\":\"\"}},\"ternary\":{\"bgcolor\":\"rgb(17,17,17)\",\"aaxis\":{\"gridcolor\":\"#506784\",\"linecolor\":\"#506784\",\"ticks\":\"\"},\"baxis\":{\"gridcolor\":\"#506784\",\"linecolor\":\"#506784\",\"ticks\":\"\"},\"caxis\":{\"gridcolor\":\"#506784\",\"linecolor\":\"#506784\",\"ticks\":\"\"}},\"coloraxis\":{\"colorbar\":{\"outlinewidth\":0,\"ticks\":\"\"}},\"colorscale\":{\"sequential\":[[0.0,\"#0d0887\"],[0.1111111111111111,\"#46039f\"],[0.2222222222222222,\"#7201a8\"],[0.3333333333333333,\"#9c179e\"],[0.4444444444444444,\"#bd3786\"],[0.5555555555555556,\"#d8576b\"],[0.6666666666666666,\"#ed7953\"],[0.7777777777777778,\"#fb9f3a\"],[0.8888888888888888,\"#fdca26\"],[1.0,\"#f0f921\"]],\"sequentialminus\":[[0.0,\"#0d0887\"],[0.1111111111111111,\"#46039f\"],[0.2222222222222222,\"#7201a8\"],[0.3333333333333333,\"#9c179e\"],[0.4444444444444444,\"#bd3786\"],[0.5555555555555556,\"#d8576b\"],[0.6666666666666666,\"#ed7953\"],[0.7777777777777778,\"#fb9f3a\"],[0.8888888888888888,\"#fdca26\"],[1.0,\"#f0f921\"]],\"diverging\":[[0,\"#8e0152\"],[0.1,\"#c51b7d\"],[0.2,\"#de77ae\"],[0.3,\"#f1b6da\"],[0.4,\"#fde0ef\"],[0.5,\"#f7f7f7\"],[0.6,\"#e6f5d0\"],[0.7,\"#b8e186\"],[0.8,\"#7fbc41\"],[0.9,\"#4d9221\"],[1,\"#276419\"]]},\"xaxis\":{\"gridcolor\":\"#283442\",\"linecolor\":\"#506784\",\"ticks\":\"\",\"title\":{\"standoff\":15},\"zerolinecolor\":\"#283442\",\"automargin\":true,\"zerolinewidth\":2},\"yaxis\":{\"gridcolor\":\"#283442\",\"linecolor\":\"#506784\",\"ticks\":\"\",\"title\":{\"standoff\":15},\"zerolinecolor\":\"#283442\",\"automargin\":true,\"zerolinewidth\":2},\"scene\":{\"xaxis\":{\"backgroundcolor\":\"rgb(17,17,17)\",\"gridcolor\":\"#506784\",\"linecolor\":\"#506784\",\"showbackground\":true,\"ticks\":\"\",\"zerolinecolor\":\"#C8D4E3\",\"gridwidth\":2},\"yaxis\":{\"backgroundcolor\":\"rgb(17,17,17)\",\"gridcolor\":\"#506784\",\"linecolor\":\"#506784\",\"showbackground\":true,\"ticks\":\"\",\"zerolinecolor\":\"#C8D4E3\",\"gridwidth\":2},\"zaxis\":{\"backgroundcolor\":\"rgb(17,17,17)\",\"gridcolor\":\"#506784\",\"linecolor\":\"#506784\",\"showbackground\":true,\"ticks\":\"\",\"zerolinecolor\":\"#C8D4E3\",\"gridwidth\":2}},\"shapedefaults\":{\"line\":{\"color\":\"#f2f5fa\"}},\"annotationdefaults\":{\"arrowcolor\":\"#f2f5fa\",\"arrowhead\":0,\"arrowwidth\":1},\"geo\":{\"bgcolor\":\"rgb(17,17,17)\",\"landcolor\":\"rgb(17,17,17)\",\"subunitcolor\":\"#506784\",\"showland\":true,\"showlakes\":true,\"lakecolor\":\"rgb(17,17,17)\"},\"title\":{\"x\":0.05},\"updatemenudefaults\":{\"bgcolor\":\"#506784\",\"borderwidth\":0},\"sliderdefaults\":{\"bgcolor\":\"#C8D4E3\",\"borderwidth\":1,\"bordercolor\":\"rgb(17,17,17)\",\"tickwidth\":0},\"mapbox\":{\"style\":\"dark\"}}},\"title\":{\"text\":\"Salary estimate mean by State\"},\"geo\":{\"scope\":\"usa\"}},                        {\"responsive\": true}                    ).then(function(){\n                            \nvar gd = document.getElementById('e3020e6d-867d-4fcc-94dd-97127cbce0e7');\nvar x = new MutationObserver(function (mutations, observer) {{\n        var display = window.getComputedStyle(gd).display;\n        if (!display || display === 'none') {{\n            console.log([gd, 'removed!']);\n            Plotly.purge(gd);\n            observer.disconnect();\n        }}\n}});\n\n// Listen for the removal of the full notebook cells\nvar notebookContainer = gd.closest('#notebook-container');\nif (notebookContainer) {{\n    x.observe(notebookContainer, {childList: true});\n}}\n\n// Listen for the clearing of the current output cell\nvar outputEl = gd.closest('.output');\nif (outputEl) {{\n    x.observe(outputEl, {childList: true});\n}}\n\n                        })                };                });            </script>        </div>"
     },
     "metadata": {},
     "output_type": "display_data"
    }
   ],
   "source": [
    "import plotly.graph_objects as go\n",
    "\n",
    "fig = go.Figure(data=go.Choropleth(\n",
    "    locations=(map_df['State']), # Spatial coordinates\n",
    "    z = map_df['Salary Estimate mean'].astype(float), # Data to be color-coded\n",
    "    locationmode = 'USA-states', # set of locations match entries in `locations`\n",
    "    colorscale = 'Reds',\n",
    "    colorbar_title = \"Salary Estimate\",\n",
    "\n",
    "))\n",
    "fig.add_trace(go.Scattergeo(\n",
    "    lon=map_df['longitude'],\n",
    "    lat=map_df['latitude'],\n",
    "\n",
    "    mode=\"text\",\n",
    "    name=\"\",\n",
    "    text=map_df['State'],\n",
    "  textfont={\n",
    "        \"color\": [\"White\",\"White\",\"White\",\"Black\",\"White\",\"White\",\"White\",\"White\",\"White\"],\n",
    "        \"family\": [\"Arial Black\"],\n",
    "      \"size\": 12\n",
    "    }\n",
    "))\n",
    "\n",
    "\n",
    "fig.update_layout(\n",
    "    title_text = 'Salary estimate mean by State',\n",
    "    geo_scope='usa', # limite map scope to USA\n",
    ")\n",
    "\n",
    "\n",
    "fig.show()"
   ],
   "metadata": {
    "collapsed": false
   }
  },
  {
   "cell_type": "code",
   "execution_count": 246,
   "outputs": [],
   "source": [
    "State = df.groupby(['State']).size().reset_index(name = 'Count').sort_values('Count', ascending=False)"
   ],
   "metadata": {
    "collapsed": false
   }
  },
  {
   "cell_type": "code",
   "execution_count": 247,
   "outputs": [
    {
     "data": {
      "text/plain": "  State  Count\n8    TX    901\n1    CA    530\n4    IL    182\n0    AZ    163\n6    NY    160\n7    PA    158\n3    FL    118\n5    NJ     23\n2    DE     12",
      "text/html": "<div>\n<style scoped>\n    .dataframe tbody tr th:only-of-type {\n        vertical-align: middle;\n    }\n\n    .dataframe tbody tr th {\n        vertical-align: top;\n    }\n\n    .dataframe thead th {\n        text-align: right;\n    }\n</style>\n<table border=\"1\" class=\"dataframe\">\n  <thead>\n    <tr style=\"text-align: right;\">\n      <th></th>\n      <th>State</th>\n      <th>Count</th>\n    </tr>\n  </thead>\n  <tbody>\n    <tr>\n      <th>8</th>\n      <td>TX</td>\n      <td>901</td>\n    </tr>\n    <tr>\n      <th>1</th>\n      <td>CA</td>\n      <td>530</td>\n    </tr>\n    <tr>\n      <th>4</th>\n      <td>IL</td>\n      <td>182</td>\n    </tr>\n    <tr>\n      <th>0</th>\n      <td>AZ</td>\n      <td>163</td>\n    </tr>\n    <tr>\n      <th>6</th>\n      <td>NY</td>\n      <td>160</td>\n    </tr>\n    <tr>\n      <th>7</th>\n      <td>PA</td>\n      <td>158</td>\n    </tr>\n    <tr>\n      <th>3</th>\n      <td>FL</td>\n      <td>118</td>\n    </tr>\n    <tr>\n      <th>5</th>\n      <td>NJ</td>\n      <td>23</td>\n    </tr>\n    <tr>\n      <th>2</th>\n      <td>DE</td>\n      <td>12</td>\n    </tr>\n  </tbody>\n</table>\n</div>"
     },
     "execution_count": 247,
     "metadata": {},
     "output_type": "execute_result"
    }
   ],
   "source": [
    "State"
   ],
   "metadata": {
    "collapsed": false
   }
  },
  {
   "cell_type": "code",
   "execution_count": 248,
   "outputs": [
    {
     "data": {
      "application/vnd.plotly.v1+json": {
       "data": [
        {
         "colorbar": {
          "title": {
           "text": "Amount"
          }
         },
         "colorscale": [
          [
           0.0,
           "rgb(255,245,240)"
          ],
          [
           0.125,
           "rgb(254,224,210)"
          ],
          [
           0.25,
           "rgb(252,187,161)"
          ],
          [
           0.375,
           "rgb(252,146,114)"
          ],
          [
           0.5,
           "rgb(251,106,74)"
          ],
          [
           0.625,
           "rgb(239,59,44)"
          ],
          [
           0.75,
           "rgb(203,24,29)"
          ],
          [
           0.875,
           "rgb(165,15,21)"
          ],
          [
           1.0,
           "rgb(103,0,13)"
          ]
         ],
         "locationmode": "USA-states",
         "locations": [
          "TX",
          "CA",
          "IL",
          "AZ",
          "NY",
          "PA",
          "FL",
          "NJ",
          "DE"
         ],
         "z": [
          901.0,
          530.0,
          182.0,
          163.0,
          160.0,
          158.0,
          118.0,
          23.0,
          12.0
         ],
         "type": "choropleth"
        },
        {
         "lat": [
          34.048928,
          36.778261,
          38.910832,
          27.664827,
          40.633125,
          40.058324,
          43.299428,
          41.203322,
          31.968599
         ],
         "lon": [
          -111.09373099999999,
          -119.417932,
          -75.52767,
          -81.515754,
          -89.398528,
          -74.405661,
          -74.217933,
          -77.194525,
          -99.901813
         ],
         "mode": "text",
         "name": "",
         "text": [
          "AZ",
          "CA",
          "DE",
          "FL",
          "IL",
          "NJ",
          "NY",
          "PA",
          "TX"
         ],
         "textfont": {
          "color": [
           "Black",
           "Black",
           "Black",
           "Black",
           "Black",
           "Black",
           "Black",
           "Black",
           "White"
          ],
          "family": [
           "Arial Black"
          ],
          "size": 12
         },
         "type": "scattergeo"
        }
       ],
       "layout": {
        "template": {
         "data": {
          "histogram2dcontour": [
           {
            "type": "histogram2dcontour",
            "colorbar": {
             "outlinewidth": 0,
             "ticks": ""
            },
            "colorscale": [
             [
              0.0,
              "#0d0887"
             ],
             [
              0.1111111111111111,
              "#46039f"
             ],
             [
              0.2222222222222222,
              "#7201a8"
             ],
             [
              0.3333333333333333,
              "#9c179e"
             ],
             [
              0.4444444444444444,
              "#bd3786"
             ],
             [
              0.5555555555555556,
              "#d8576b"
             ],
             [
              0.6666666666666666,
              "#ed7953"
             ],
             [
              0.7777777777777778,
              "#fb9f3a"
             ],
             [
              0.8888888888888888,
              "#fdca26"
             ],
             [
              1.0,
              "#f0f921"
             ]
            ]
           }
          ],
          "choropleth": [
           {
            "type": "choropleth",
            "colorbar": {
             "outlinewidth": 0,
             "ticks": ""
            }
           }
          ],
          "histogram2d": [
           {
            "type": "histogram2d",
            "colorbar": {
             "outlinewidth": 0,
             "ticks": ""
            },
            "colorscale": [
             [
              0.0,
              "#0d0887"
             ],
             [
              0.1111111111111111,
              "#46039f"
             ],
             [
              0.2222222222222222,
              "#7201a8"
             ],
             [
              0.3333333333333333,
              "#9c179e"
             ],
             [
              0.4444444444444444,
              "#bd3786"
             ],
             [
              0.5555555555555556,
              "#d8576b"
             ],
             [
              0.6666666666666666,
              "#ed7953"
             ],
             [
              0.7777777777777778,
              "#fb9f3a"
             ],
             [
              0.8888888888888888,
              "#fdca26"
             ],
             [
              1.0,
              "#f0f921"
             ]
            ]
           }
          ],
          "heatmap": [
           {
            "type": "heatmap",
            "colorbar": {
             "outlinewidth": 0,
             "ticks": ""
            },
            "colorscale": [
             [
              0.0,
              "#0d0887"
             ],
             [
              0.1111111111111111,
              "#46039f"
             ],
             [
              0.2222222222222222,
              "#7201a8"
             ],
             [
              0.3333333333333333,
              "#9c179e"
             ],
             [
              0.4444444444444444,
              "#bd3786"
             ],
             [
              0.5555555555555556,
              "#d8576b"
             ],
             [
              0.6666666666666666,
              "#ed7953"
             ],
             [
              0.7777777777777778,
              "#fb9f3a"
             ],
             [
              0.8888888888888888,
              "#fdca26"
             ],
             [
              1.0,
              "#f0f921"
             ]
            ]
           }
          ],
          "heatmapgl": [
           {
            "type": "heatmapgl",
            "colorbar": {
             "outlinewidth": 0,
             "ticks": ""
            },
            "colorscale": [
             [
              0.0,
              "#0d0887"
             ],
             [
              0.1111111111111111,
              "#46039f"
             ],
             [
              0.2222222222222222,
              "#7201a8"
             ],
             [
              0.3333333333333333,
              "#9c179e"
             ],
             [
              0.4444444444444444,
              "#bd3786"
             ],
             [
              0.5555555555555556,
              "#d8576b"
             ],
             [
              0.6666666666666666,
              "#ed7953"
             ],
             [
              0.7777777777777778,
              "#fb9f3a"
             ],
             [
              0.8888888888888888,
              "#fdca26"
             ],
             [
              1.0,
              "#f0f921"
             ]
            ]
           }
          ],
          "contourcarpet": [
           {
            "type": "contourcarpet",
            "colorbar": {
             "outlinewidth": 0,
             "ticks": ""
            }
           }
          ],
          "contour": [
           {
            "type": "contour",
            "colorbar": {
             "outlinewidth": 0,
             "ticks": ""
            },
            "colorscale": [
             [
              0.0,
              "#0d0887"
             ],
             [
              0.1111111111111111,
              "#46039f"
             ],
             [
              0.2222222222222222,
              "#7201a8"
             ],
             [
              0.3333333333333333,
              "#9c179e"
             ],
             [
              0.4444444444444444,
              "#bd3786"
             ],
             [
              0.5555555555555556,
              "#d8576b"
             ],
             [
              0.6666666666666666,
              "#ed7953"
             ],
             [
              0.7777777777777778,
              "#fb9f3a"
             ],
             [
              0.8888888888888888,
              "#fdca26"
             ],
             [
              1.0,
              "#f0f921"
             ]
            ]
           }
          ],
          "surface": [
           {
            "type": "surface",
            "colorbar": {
             "outlinewidth": 0,
             "ticks": ""
            },
            "colorscale": [
             [
              0.0,
              "#0d0887"
             ],
             [
              0.1111111111111111,
              "#46039f"
             ],
             [
              0.2222222222222222,
              "#7201a8"
             ],
             [
              0.3333333333333333,
              "#9c179e"
             ],
             [
              0.4444444444444444,
              "#bd3786"
             ],
             [
              0.5555555555555556,
              "#d8576b"
             ],
             [
              0.6666666666666666,
              "#ed7953"
             ],
             [
              0.7777777777777778,
              "#fb9f3a"
             ],
             [
              0.8888888888888888,
              "#fdca26"
             ],
             [
              1.0,
              "#f0f921"
             ]
            ]
           }
          ],
          "mesh3d": [
           {
            "type": "mesh3d",
            "colorbar": {
             "outlinewidth": 0,
             "ticks": ""
            }
           }
          ],
          "scatter": [
           {
            "marker": {
             "line": {
              "color": "#283442"
             }
            },
            "type": "scatter"
           }
          ],
          "parcoords": [
           {
            "type": "parcoords",
            "line": {
             "colorbar": {
              "outlinewidth": 0,
              "ticks": ""
             }
            }
           }
          ],
          "scatterpolargl": [
           {
            "type": "scatterpolargl",
            "marker": {
             "colorbar": {
              "outlinewidth": 0,
              "ticks": ""
             }
            }
           }
          ],
          "bar": [
           {
            "error_x": {
             "color": "#f2f5fa"
            },
            "error_y": {
             "color": "#f2f5fa"
            },
            "marker": {
             "line": {
              "color": "rgb(17,17,17)",
              "width": 0.5
             },
             "pattern": {
              "fillmode": "overlay",
              "size": 10,
              "solidity": 0.2
             }
            },
            "type": "bar"
           }
          ],
          "scattergeo": [
           {
            "type": "scattergeo",
            "marker": {
             "colorbar": {
              "outlinewidth": 0,
              "ticks": ""
             }
            }
           }
          ],
          "scatterpolar": [
           {
            "type": "scatterpolar",
            "marker": {
             "colorbar": {
              "outlinewidth": 0,
              "ticks": ""
             }
            }
           }
          ],
          "histogram": [
           {
            "marker": {
             "pattern": {
              "fillmode": "overlay",
              "size": 10,
              "solidity": 0.2
             }
            },
            "type": "histogram"
           }
          ],
          "scattergl": [
           {
            "marker": {
             "line": {
              "color": "#283442"
             }
            },
            "type": "scattergl"
           }
          ],
          "scatter3d": [
           {
            "type": "scatter3d",
            "line": {
             "colorbar": {
              "outlinewidth": 0,
              "ticks": ""
             }
            },
            "marker": {
             "colorbar": {
              "outlinewidth": 0,
              "ticks": ""
             }
            }
           }
          ],
          "scattermapbox": [
           {
            "type": "scattermapbox",
            "marker": {
             "colorbar": {
              "outlinewidth": 0,
              "ticks": ""
             }
            }
           }
          ],
          "scatterternary": [
           {
            "type": "scatterternary",
            "marker": {
             "colorbar": {
              "outlinewidth": 0,
              "ticks": ""
             }
            }
           }
          ],
          "scattercarpet": [
           {
            "type": "scattercarpet",
            "marker": {
             "colorbar": {
              "outlinewidth": 0,
              "ticks": ""
             }
            }
           }
          ],
          "carpet": [
           {
            "aaxis": {
             "endlinecolor": "#A2B1C6",
             "gridcolor": "#506784",
             "linecolor": "#506784",
             "minorgridcolor": "#506784",
             "startlinecolor": "#A2B1C6"
            },
            "baxis": {
             "endlinecolor": "#A2B1C6",
             "gridcolor": "#506784",
             "linecolor": "#506784",
             "minorgridcolor": "#506784",
             "startlinecolor": "#A2B1C6"
            },
            "type": "carpet"
           }
          ],
          "table": [
           {
            "cells": {
             "fill": {
              "color": "#506784"
             },
             "line": {
              "color": "rgb(17,17,17)"
             }
            },
            "header": {
             "fill": {
              "color": "#2a3f5f"
             },
             "line": {
              "color": "rgb(17,17,17)"
             }
            },
            "type": "table"
           }
          ],
          "barpolar": [
           {
            "marker": {
             "line": {
              "color": "rgb(17,17,17)",
              "width": 0.5
             },
             "pattern": {
              "fillmode": "overlay",
              "size": 10,
              "solidity": 0.2
             }
            },
            "type": "barpolar"
           }
          ],
          "pie": [
           {
            "automargin": true,
            "type": "pie"
           }
          ]
         },
         "layout": {
          "autotypenumbers": "strict",
          "colorway": [
           "#636efa",
           "#EF553B",
           "#00cc96",
           "#ab63fa",
           "#FFA15A",
           "#19d3f3",
           "#FF6692",
           "#B6E880",
           "#FF97FF",
           "#FECB52"
          ],
          "font": {
           "color": "#f2f5fa"
          },
          "hovermode": "closest",
          "hoverlabel": {
           "align": "left"
          },
          "paper_bgcolor": "rgb(17,17,17)",
          "plot_bgcolor": "rgb(17,17,17)",
          "polar": {
           "bgcolor": "rgb(17,17,17)",
           "angularaxis": {
            "gridcolor": "#506784",
            "linecolor": "#506784",
            "ticks": ""
           },
           "radialaxis": {
            "gridcolor": "#506784",
            "linecolor": "#506784",
            "ticks": ""
           }
          },
          "ternary": {
           "bgcolor": "rgb(17,17,17)",
           "aaxis": {
            "gridcolor": "#506784",
            "linecolor": "#506784",
            "ticks": ""
           },
           "baxis": {
            "gridcolor": "#506784",
            "linecolor": "#506784",
            "ticks": ""
           },
           "caxis": {
            "gridcolor": "#506784",
            "linecolor": "#506784",
            "ticks": ""
           }
          },
          "coloraxis": {
           "colorbar": {
            "outlinewidth": 0,
            "ticks": ""
           }
          },
          "colorscale": {
           "sequential": [
            [
             0.0,
             "#0d0887"
            ],
            [
             0.1111111111111111,
             "#46039f"
            ],
            [
             0.2222222222222222,
             "#7201a8"
            ],
            [
             0.3333333333333333,
             "#9c179e"
            ],
            [
             0.4444444444444444,
             "#bd3786"
            ],
            [
             0.5555555555555556,
             "#d8576b"
            ],
            [
             0.6666666666666666,
             "#ed7953"
            ],
            [
             0.7777777777777778,
             "#fb9f3a"
            ],
            [
             0.8888888888888888,
             "#fdca26"
            ],
            [
             1.0,
             "#f0f921"
            ]
           ],
           "sequentialminus": [
            [
             0.0,
             "#0d0887"
            ],
            [
             0.1111111111111111,
             "#46039f"
            ],
            [
             0.2222222222222222,
             "#7201a8"
            ],
            [
             0.3333333333333333,
             "#9c179e"
            ],
            [
             0.4444444444444444,
             "#bd3786"
            ],
            [
             0.5555555555555556,
             "#d8576b"
            ],
            [
             0.6666666666666666,
             "#ed7953"
            ],
            [
             0.7777777777777778,
             "#fb9f3a"
            ],
            [
             0.8888888888888888,
             "#fdca26"
            ],
            [
             1.0,
             "#f0f921"
            ]
           ],
           "diverging": [
            [
             0,
             "#8e0152"
            ],
            [
             0.1,
             "#c51b7d"
            ],
            [
             0.2,
             "#de77ae"
            ],
            [
             0.3,
             "#f1b6da"
            ],
            [
             0.4,
             "#fde0ef"
            ],
            [
             0.5,
             "#f7f7f7"
            ],
            [
             0.6,
             "#e6f5d0"
            ],
            [
             0.7,
             "#b8e186"
            ],
            [
             0.8,
             "#7fbc41"
            ],
            [
             0.9,
             "#4d9221"
            ],
            [
             1,
             "#276419"
            ]
           ]
          },
          "xaxis": {
           "gridcolor": "#283442",
           "linecolor": "#506784",
           "ticks": "",
           "title": {
            "standoff": 15
           },
           "zerolinecolor": "#283442",
           "automargin": true,
           "zerolinewidth": 2
          },
          "yaxis": {
           "gridcolor": "#283442",
           "linecolor": "#506784",
           "ticks": "",
           "title": {
            "standoff": 15
           },
           "zerolinecolor": "#283442",
           "automargin": true,
           "zerolinewidth": 2
          },
          "scene": {
           "xaxis": {
            "backgroundcolor": "rgb(17,17,17)",
            "gridcolor": "#506784",
            "linecolor": "#506784",
            "showbackground": true,
            "ticks": "",
            "zerolinecolor": "#C8D4E3",
            "gridwidth": 2
           },
           "yaxis": {
            "backgroundcolor": "rgb(17,17,17)",
            "gridcolor": "#506784",
            "linecolor": "#506784",
            "showbackground": true,
            "ticks": "",
            "zerolinecolor": "#C8D4E3",
            "gridwidth": 2
           },
           "zaxis": {
            "backgroundcolor": "rgb(17,17,17)",
            "gridcolor": "#506784",
            "linecolor": "#506784",
            "showbackground": true,
            "ticks": "",
            "zerolinecolor": "#C8D4E3",
            "gridwidth": 2
           }
          },
          "shapedefaults": {
           "line": {
            "color": "#f2f5fa"
           }
          },
          "annotationdefaults": {
           "arrowcolor": "#f2f5fa",
           "arrowhead": 0,
           "arrowwidth": 1
          },
          "geo": {
           "bgcolor": "rgb(17,17,17)",
           "landcolor": "rgb(17,17,17)",
           "subunitcolor": "#506784",
           "showland": true,
           "showlakes": true,
           "lakecolor": "rgb(17,17,17)"
          },
          "title": {
           "x": 0.05
          },
          "updatemenudefaults": {
           "bgcolor": "#506784",
           "borderwidth": 0
          },
          "sliderdefaults": {
           "bgcolor": "#C8D4E3",
           "borderwidth": 1,
           "bordercolor": "rgb(17,17,17)",
           "tickwidth": 0
          },
          "mapbox": {
           "style": "dark"
          }
         }
        },
        "title": {
         "text": "Data amount per State"
        },
        "geo": {
         "scope": "usa"
        }
       },
       "config": {
        "plotlyServerURL": "https://plot.ly"
       }
      },
      "text/html": "<div>                            <div id=\"b651e6ae-e420-463a-9484-16a42c1c52e1\" class=\"plotly-graph-div\" style=\"height:525px; width:100%;\"></div>            <script type=\"text/javascript\">                require([\"plotly\"], function(Plotly) {                    window.PLOTLYENV=window.PLOTLYENV || {};                                    if (document.getElementById(\"b651e6ae-e420-463a-9484-16a42c1c52e1\")) {                    Plotly.newPlot(                        \"b651e6ae-e420-463a-9484-16a42c1c52e1\",                        [{\"colorbar\":{\"title\":{\"text\":\"Amount\"}},\"colorscale\":[[0.0,\"rgb(255,245,240)\"],[0.125,\"rgb(254,224,210)\"],[0.25,\"rgb(252,187,161)\"],[0.375,\"rgb(252,146,114)\"],[0.5,\"rgb(251,106,74)\"],[0.625,\"rgb(239,59,44)\"],[0.75,\"rgb(203,24,29)\"],[0.875,\"rgb(165,15,21)\"],[1.0,\"rgb(103,0,13)\"]],\"locationmode\":\"USA-states\",\"locations\":[\"TX\",\"CA\",\"IL\",\"AZ\",\"NY\",\"PA\",\"FL\",\"NJ\",\"DE\"],\"z\":[901.0,530.0,182.0,163.0,160.0,158.0,118.0,23.0,12.0],\"type\":\"choropleth\"},{\"lat\":[34.048928,36.778261,38.910832,27.664827,40.633125,40.058324,43.299428,41.203322,31.968599],\"lon\":[-111.09373099999999,-119.417932,-75.52767,-81.515754,-89.398528,-74.405661,-74.217933,-77.194525,-99.901813],\"mode\":\"text\",\"name\":\"\",\"text\":[\"AZ\",\"CA\",\"DE\",\"FL\",\"IL\",\"NJ\",\"NY\",\"PA\",\"TX\"],\"textfont\":{\"color\":[\"Black\",\"Black\",\"Black\",\"Black\",\"Black\",\"Black\",\"Black\",\"Black\",\"White\"],\"family\":[\"Arial Black\"],\"size\":12},\"type\":\"scattergeo\"}],                        {\"template\":{\"data\":{\"histogram2dcontour\":[{\"type\":\"histogram2dcontour\",\"colorbar\":{\"outlinewidth\":0,\"ticks\":\"\"},\"colorscale\":[[0.0,\"#0d0887\"],[0.1111111111111111,\"#46039f\"],[0.2222222222222222,\"#7201a8\"],[0.3333333333333333,\"#9c179e\"],[0.4444444444444444,\"#bd3786\"],[0.5555555555555556,\"#d8576b\"],[0.6666666666666666,\"#ed7953\"],[0.7777777777777778,\"#fb9f3a\"],[0.8888888888888888,\"#fdca26\"],[1.0,\"#f0f921\"]]}],\"choropleth\":[{\"type\":\"choropleth\",\"colorbar\":{\"outlinewidth\":0,\"ticks\":\"\"}}],\"histogram2d\":[{\"type\":\"histogram2d\",\"colorbar\":{\"outlinewidth\":0,\"ticks\":\"\"},\"colorscale\":[[0.0,\"#0d0887\"],[0.1111111111111111,\"#46039f\"],[0.2222222222222222,\"#7201a8\"],[0.3333333333333333,\"#9c179e\"],[0.4444444444444444,\"#bd3786\"],[0.5555555555555556,\"#d8576b\"],[0.6666666666666666,\"#ed7953\"],[0.7777777777777778,\"#fb9f3a\"],[0.8888888888888888,\"#fdca26\"],[1.0,\"#f0f921\"]]}],\"heatmap\":[{\"type\":\"heatmap\",\"colorbar\":{\"outlinewidth\":0,\"ticks\":\"\"},\"colorscale\":[[0.0,\"#0d0887\"],[0.1111111111111111,\"#46039f\"],[0.2222222222222222,\"#7201a8\"],[0.3333333333333333,\"#9c179e\"],[0.4444444444444444,\"#bd3786\"],[0.5555555555555556,\"#d8576b\"],[0.6666666666666666,\"#ed7953\"],[0.7777777777777778,\"#fb9f3a\"],[0.8888888888888888,\"#fdca26\"],[1.0,\"#f0f921\"]]}],\"heatmapgl\":[{\"type\":\"heatmapgl\",\"colorbar\":{\"outlinewidth\":0,\"ticks\":\"\"},\"colorscale\":[[0.0,\"#0d0887\"],[0.1111111111111111,\"#46039f\"],[0.2222222222222222,\"#7201a8\"],[0.3333333333333333,\"#9c179e\"],[0.4444444444444444,\"#bd3786\"],[0.5555555555555556,\"#d8576b\"],[0.6666666666666666,\"#ed7953\"],[0.7777777777777778,\"#fb9f3a\"],[0.8888888888888888,\"#fdca26\"],[1.0,\"#f0f921\"]]}],\"contourcarpet\":[{\"type\":\"contourcarpet\",\"colorbar\":{\"outlinewidth\":0,\"ticks\":\"\"}}],\"contour\":[{\"type\":\"contour\",\"colorbar\":{\"outlinewidth\":0,\"ticks\":\"\"},\"colorscale\":[[0.0,\"#0d0887\"],[0.1111111111111111,\"#46039f\"],[0.2222222222222222,\"#7201a8\"],[0.3333333333333333,\"#9c179e\"],[0.4444444444444444,\"#bd3786\"],[0.5555555555555556,\"#d8576b\"],[0.6666666666666666,\"#ed7953\"],[0.7777777777777778,\"#fb9f3a\"],[0.8888888888888888,\"#fdca26\"],[1.0,\"#f0f921\"]]}],\"surface\":[{\"type\":\"surface\",\"colorbar\":{\"outlinewidth\":0,\"ticks\":\"\"},\"colorscale\":[[0.0,\"#0d0887\"],[0.1111111111111111,\"#46039f\"],[0.2222222222222222,\"#7201a8\"],[0.3333333333333333,\"#9c179e\"],[0.4444444444444444,\"#bd3786\"],[0.5555555555555556,\"#d8576b\"],[0.6666666666666666,\"#ed7953\"],[0.7777777777777778,\"#fb9f3a\"],[0.8888888888888888,\"#fdca26\"],[1.0,\"#f0f921\"]]}],\"mesh3d\":[{\"type\":\"mesh3d\",\"colorbar\":{\"outlinewidth\":0,\"ticks\":\"\"}}],\"scatter\":[{\"marker\":{\"line\":{\"color\":\"#283442\"}},\"type\":\"scatter\"}],\"parcoords\":[{\"type\":\"parcoords\",\"line\":{\"colorbar\":{\"outlinewidth\":0,\"ticks\":\"\"}}}],\"scatterpolargl\":[{\"type\":\"scatterpolargl\",\"marker\":{\"colorbar\":{\"outlinewidth\":0,\"ticks\":\"\"}}}],\"bar\":[{\"error_x\":{\"color\":\"#f2f5fa\"},\"error_y\":{\"color\":\"#f2f5fa\"},\"marker\":{\"line\":{\"color\":\"rgb(17,17,17)\",\"width\":0.5},\"pattern\":{\"fillmode\":\"overlay\",\"size\":10,\"solidity\":0.2}},\"type\":\"bar\"}],\"scattergeo\":[{\"type\":\"scattergeo\",\"marker\":{\"colorbar\":{\"outlinewidth\":0,\"ticks\":\"\"}}}],\"scatterpolar\":[{\"type\":\"scatterpolar\",\"marker\":{\"colorbar\":{\"outlinewidth\":0,\"ticks\":\"\"}}}],\"histogram\":[{\"marker\":{\"pattern\":{\"fillmode\":\"overlay\",\"size\":10,\"solidity\":0.2}},\"type\":\"histogram\"}],\"scattergl\":[{\"marker\":{\"line\":{\"color\":\"#283442\"}},\"type\":\"scattergl\"}],\"scatter3d\":[{\"type\":\"scatter3d\",\"line\":{\"colorbar\":{\"outlinewidth\":0,\"ticks\":\"\"}},\"marker\":{\"colorbar\":{\"outlinewidth\":0,\"ticks\":\"\"}}}],\"scattermapbox\":[{\"type\":\"scattermapbox\",\"marker\":{\"colorbar\":{\"outlinewidth\":0,\"ticks\":\"\"}}}],\"scatterternary\":[{\"type\":\"scatterternary\",\"marker\":{\"colorbar\":{\"outlinewidth\":0,\"ticks\":\"\"}}}],\"scattercarpet\":[{\"type\":\"scattercarpet\",\"marker\":{\"colorbar\":{\"outlinewidth\":0,\"ticks\":\"\"}}}],\"carpet\":[{\"aaxis\":{\"endlinecolor\":\"#A2B1C6\",\"gridcolor\":\"#506784\",\"linecolor\":\"#506784\",\"minorgridcolor\":\"#506784\",\"startlinecolor\":\"#A2B1C6\"},\"baxis\":{\"endlinecolor\":\"#A2B1C6\",\"gridcolor\":\"#506784\",\"linecolor\":\"#506784\",\"minorgridcolor\":\"#506784\",\"startlinecolor\":\"#A2B1C6\"},\"type\":\"carpet\"}],\"table\":[{\"cells\":{\"fill\":{\"color\":\"#506784\"},\"line\":{\"color\":\"rgb(17,17,17)\"}},\"header\":{\"fill\":{\"color\":\"#2a3f5f\"},\"line\":{\"color\":\"rgb(17,17,17)\"}},\"type\":\"table\"}],\"barpolar\":[{\"marker\":{\"line\":{\"color\":\"rgb(17,17,17)\",\"width\":0.5},\"pattern\":{\"fillmode\":\"overlay\",\"size\":10,\"solidity\":0.2}},\"type\":\"barpolar\"}],\"pie\":[{\"automargin\":true,\"type\":\"pie\"}]},\"layout\":{\"autotypenumbers\":\"strict\",\"colorway\":[\"#636efa\",\"#EF553B\",\"#00cc96\",\"#ab63fa\",\"#FFA15A\",\"#19d3f3\",\"#FF6692\",\"#B6E880\",\"#FF97FF\",\"#FECB52\"],\"font\":{\"color\":\"#f2f5fa\"},\"hovermode\":\"closest\",\"hoverlabel\":{\"align\":\"left\"},\"paper_bgcolor\":\"rgb(17,17,17)\",\"plot_bgcolor\":\"rgb(17,17,17)\",\"polar\":{\"bgcolor\":\"rgb(17,17,17)\",\"angularaxis\":{\"gridcolor\":\"#506784\",\"linecolor\":\"#506784\",\"ticks\":\"\"},\"radialaxis\":{\"gridcolor\":\"#506784\",\"linecolor\":\"#506784\",\"ticks\":\"\"}},\"ternary\":{\"bgcolor\":\"rgb(17,17,17)\",\"aaxis\":{\"gridcolor\":\"#506784\",\"linecolor\":\"#506784\",\"ticks\":\"\"},\"baxis\":{\"gridcolor\":\"#506784\",\"linecolor\":\"#506784\",\"ticks\":\"\"},\"caxis\":{\"gridcolor\":\"#506784\",\"linecolor\":\"#506784\",\"ticks\":\"\"}},\"coloraxis\":{\"colorbar\":{\"outlinewidth\":0,\"ticks\":\"\"}},\"colorscale\":{\"sequential\":[[0.0,\"#0d0887\"],[0.1111111111111111,\"#46039f\"],[0.2222222222222222,\"#7201a8\"],[0.3333333333333333,\"#9c179e\"],[0.4444444444444444,\"#bd3786\"],[0.5555555555555556,\"#d8576b\"],[0.6666666666666666,\"#ed7953\"],[0.7777777777777778,\"#fb9f3a\"],[0.8888888888888888,\"#fdca26\"],[1.0,\"#f0f921\"]],\"sequentialminus\":[[0.0,\"#0d0887\"],[0.1111111111111111,\"#46039f\"],[0.2222222222222222,\"#7201a8\"],[0.3333333333333333,\"#9c179e\"],[0.4444444444444444,\"#bd3786\"],[0.5555555555555556,\"#d8576b\"],[0.6666666666666666,\"#ed7953\"],[0.7777777777777778,\"#fb9f3a\"],[0.8888888888888888,\"#fdca26\"],[1.0,\"#f0f921\"]],\"diverging\":[[0,\"#8e0152\"],[0.1,\"#c51b7d\"],[0.2,\"#de77ae\"],[0.3,\"#f1b6da\"],[0.4,\"#fde0ef\"],[0.5,\"#f7f7f7\"],[0.6,\"#e6f5d0\"],[0.7,\"#b8e186\"],[0.8,\"#7fbc41\"],[0.9,\"#4d9221\"],[1,\"#276419\"]]},\"xaxis\":{\"gridcolor\":\"#283442\",\"linecolor\":\"#506784\",\"ticks\":\"\",\"title\":{\"standoff\":15},\"zerolinecolor\":\"#283442\",\"automargin\":true,\"zerolinewidth\":2},\"yaxis\":{\"gridcolor\":\"#283442\",\"linecolor\":\"#506784\",\"ticks\":\"\",\"title\":{\"standoff\":15},\"zerolinecolor\":\"#283442\",\"automargin\":true,\"zerolinewidth\":2},\"scene\":{\"xaxis\":{\"backgroundcolor\":\"rgb(17,17,17)\",\"gridcolor\":\"#506784\",\"linecolor\":\"#506784\",\"showbackground\":true,\"ticks\":\"\",\"zerolinecolor\":\"#C8D4E3\",\"gridwidth\":2},\"yaxis\":{\"backgroundcolor\":\"rgb(17,17,17)\",\"gridcolor\":\"#506784\",\"linecolor\":\"#506784\",\"showbackground\":true,\"ticks\":\"\",\"zerolinecolor\":\"#C8D4E3\",\"gridwidth\":2},\"zaxis\":{\"backgroundcolor\":\"rgb(17,17,17)\",\"gridcolor\":\"#506784\",\"linecolor\":\"#506784\",\"showbackground\":true,\"ticks\":\"\",\"zerolinecolor\":\"#C8D4E3\",\"gridwidth\":2}},\"shapedefaults\":{\"line\":{\"color\":\"#f2f5fa\"}},\"annotationdefaults\":{\"arrowcolor\":\"#f2f5fa\",\"arrowhead\":0,\"arrowwidth\":1},\"geo\":{\"bgcolor\":\"rgb(17,17,17)\",\"landcolor\":\"rgb(17,17,17)\",\"subunitcolor\":\"#506784\",\"showland\":true,\"showlakes\":true,\"lakecolor\":\"rgb(17,17,17)\"},\"title\":{\"x\":0.05},\"updatemenudefaults\":{\"bgcolor\":\"#506784\",\"borderwidth\":0},\"sliderdefaults\":{\"bgcolor\":\"#C8D4E3\",\"borderwidth\":1,\"bordercolor\":\"rgb(17,17,17)\",\"tickwidth\":0},\"mapbox\":{\"style\":\"dark\"}}},\"title\":{\"text\":\"Data amount per State\"},\"geo\":{\"scope\":\"usa\"}},                        {\"responsive\": true}                    ).then(function(){\n                            \nvar gd = document.getElementById('b651e6ae-e420-463a-9484-16a42c1c52e1');\nvar x = new MutationObserver(function (mutations, observer) {{\n        var display = window.getComputedStyle(gd).display;\n        if (!display || display === 'none') {{\n            console.log([gd, 'removed!']);\n            Plotly.purge(gd);\n            observer.disconnect();\n        }}\n}});\n\n// Listen for the removal of the full notebook cells\nvar notebookContainer = gd.closest('#notebook-container');\nif (notebookContainer) {{\n    x.observe(notebookContainer, {childList: true});\n}}\n\n// Listen for the clearing of the current output cell\nvar outputEl = gd.closest('.output');\nif (outputEl) {{\n    x.observe(outputEl, {childList: true});\n}}\n\n                        })                };                });            </script>        </div>"
     },
     "metadata": {},
     "output_type": "display_data"
    }
   ],
   "source": [
    "import plotly.graph_objects as go\n",
    "\n",
    "fig = go.Figure(data=go.Choropleth(\n",
    "    locations=(State['State']), # Spatial coordinates\n",
    "    z = State['Count'].astype(float), # Data to be color-coded\n",
    "    locationmode = 'USA-states', # set of locations match entries in `locations`\n",
    "    colorscale = 'Reds',\n",
    "\n",
    "    colorbar_title = \"Amount\",\n",
    "))\n",
    "fig.add_trace(go.Scattergeo(\n",
    "    lon=map_df['longitude'],\n",
    "    lat=map_df['latitude'],\n",
    "\n",
    "    mode=\"text\",\n",
    "    name=\"\",\n",
    "    text=map_df['State'],\n",
    "  textfont={\n",
    "        \"color\": [\"Black\",\"Black\",\"Black\",\"Black\",\"Black\",\"Black\",\"Black\",\"Black\",\"White\"],\n",
    "        \"family\": [\"Arial Black\"],\n",
    "      \"size\": 12\n",
    "    }\n",
    "))\n",
    "fig.update_layout(\n",
    "    title_text = 'Data amount per State',\n",
    "    geo_scope='usa', # limite map scope to USA\n",
    ")\n",
    "\n",
    "fig.show()"
   ],
   "metadata": {
    "collapsed": false
   }
  },
  {
   "cell_type": "code",
   "execution_count": 249,
   "outputs": [
    {
     "name": "stderr",
     "output_type": "stream",
     "text": [
      "C:\\Users\\Oleg Lastocichin\\AppData\\Local\\Temp\\ipykernel_11120\\3449056898.py:1: FutureWarning:\n",
      "\n",
      "The default value of numeric_only in DataFrameGroupBy.mean is deprecated. In a future version, numeric_only will default to False. Either specify numeric_only or select only columns which should be valid for the function.\n",
      "\n"
     ]
    }
   ],
   "source": [
    "statedustry = df.groupby(['State', 'Sector']).mean().reset_index()"
   ],
   "metadata": {
    "collapsed": false
   }
  },
  {
   "cell_type": "code",
   "execution_count": 250,
   "outputs": [
    {
     "data": {
      "text/plain": "    State                             Sector    Rating      Founded  \\\n0      AZ                 Accounting & Legal  4.300000  1990.000000   \n1      AZ                Aerospace & Defense       NaN          NaN   \n2      AZ             Agriculture & Forestry       NaN          NaN   \n3      AZ   Arts, Entertainment & Recreation       NaN          NaN   \n4      AZ          Biotech & Pharmaceuticals       NaN          NaN   \n..    ...                                ...       ...          ...   \n211    TX  Restaurants, Bars & Food Services  3.550000  1972.500000   \n212    TX                             Retail  4.036364  1930.727273   \n213    TX                 Telecommunications  3.488889  1990.000000   \n214    TX         Transportation & Logistics  3.660000  1971.000000   \n215    TX                   Travel & Tourism  3.800000  1964.500000   \n\n     Salary Estimate mean   latitude   longitude  \n0            98333.333333  34.048928 -111.093731  \n1                     NaN        NaN         NaN  \n2                     NaN        NaN         NaN  \n3                     NaN        NaN         NaN  \n4                     NaN        NaN         NaN  \n..                    ...        ...         ...  \n211          97500.000000  31.968599  -99.901813  \n212          96500.000000  31.968599  -99.901813  \n213          83083.333333  31.968599  -99.901813  \n214          59100.000000  31.968599  -99.901813  \n215          72750.000000  31.968599  -99.901813  \n\n[216 rows x 7 columns]",
      "text/html": "<div>\n<style scoped>\n    .dataframe tbody tr th:only-of-type {\n        vertical-align: middle;\n    }\n\n    .dataframe tbody tr th {\n        vertical-align: top;\n    }\n\n    .dataframe thead th {\n        text-align: right;\n    }\n</style>\n<table border=\"1\" class=\"dataframe\">\n  <thead>\n    <tr style=\"text-align: right;\">\n      <th></th>\n      <th>State</th>\n      <th>Sector</th>\n      <th>Rating</th>\n      <th>Founded</th>\n      <th>Salary Estimate mean</th>\n      <th>latitude</th>\n      <th>longitude</th>\n    </tr>\n  </thead>\n  <tbody>\n    <tr>\n      <th>0</th>\n      <td>AZ</td>\n      <td>Accounting &amp; Legal</td>\n      <td>4.300000</td>\n      <td>1990.000000</td>\n      <td>98333.333333</td>\n      <td>34.048928</td>\n      <td>-111.093731</td>\n    </tr>\n    <tr>\n      <th>1</th>\n      <td>AZ</td>\n      <td>Aerospace &amp; Defense</td>\n      <td>NaN</td>\n      <td>NaN</td>\n      <td>NaN</td>\n      <td>NaN</td>\n      <td>NaN</td>\n    </tr>\n    <tr>\n      <th>2</th>\n      <td>AZ</td>\n      <td>Agriculture &amp; Forestry</td>\n      <td>NaN</td>\n      <td>NaN</td>\n      <td>NaN</td>\n      <td>NaN</td>\n      <td>NaN</td>\n    </tr>\n    <tr>\n      <th>3</th>\n      <td>AZ</td>\n      <td>Arts, Entertainment &amp; Recreation</td>\n      <td>NaN</td>\n      <td>NaN</td>\n      <td>NaN</td>\n      <td>NaN</td>\n      <td>NaN</td>\n    </tr>\n    <tr>\n      <th>4</th>\n      <td>AZ</td>\n      <td>Biotech &amp; Pharmaceuticals</td>\n      <td>NaN</td>\n      <td>NaN</td>\n      <td>NaN</td>\n      <td>NaN</td>\n      <td>NaN</td>\n    </tr>\n    <tr>\n      <th>...</th>\n      <td>...</td>\n      <td>...</td>\n      <td>...</td>\n      <td>...</td>\n      <td>...</td>\n      <td>...</td>\n      <td>...</td>\n    </tr>\n    <tr>\n      <th>211</th>\n      <td>TX</td>\n      <td>Restaurants, Bars &amp; Food Services</td>\n      <td>3.550000</td>\n      <td>1972.500000</td>\n      <td>97500.000000</td>\n      <td>31.968599</td>\n      <td>-99.901813</td>\n    </tr>\n    <tr>\n      <th>212</th>\n      <td>TX</td>\n      <td>Retail</td>\n      <td>4.036364</td>\n      <td>1930.727273</td>\n      <td>96500.000000</td>\n      <td>31.968599</td>\n      <td>-99.901813</td>\n    </tr>\n    <tr>\n      <th>213</th>\n      <td>TX</td>\n      <td>Telecommunications</td>\n      <td>3.488889</td>\n      <td>1990.000000</td>\n      <td>83083.333333</td>\n      <td>31.968599</td>\n      <td>-99.901813</td>\n    </tr>\n    <tr>\n      <th>214</th>\n      <td>TX</td>\n      <td>Transportation &amp; Logistics</td>\n      <td>3.660000</td>\n      <td>1971.000000</td>\n      <td>59100.000000</td>\n      <td>31.968599</td>\n      <td>-99.901813</td>\n    </tr>\n    <tr>\n      <th>215</th>\n      <td>TX</td>\n      <td>Travel &amp; Tourism</td>\n      <td>3.800000</td>\n      <td>1964.500000</td>\n      <td>72750.000000</td>\n      <td>31.968599</td>\n      <td>-99.901813</td>\n    </tr>\n  </tbody>\n</table>\n<p>216 rows × 7 columns</p>\n</div>"
     },
     "execution_count": 250,
     "metadata": {},
     "output_type": "execute_result"
    }
   ],
   "source": [
    "statedustry"
   ],
   "metadata": {
    "collapsed": false
   }
  },
  {
   "cell_type": "code",
   "execution_count": 251,
   "outputs": [
    {
     "data": {
      "text/plain": "                                              Job Title  \\\n0                                         Data Engineer   \n1     Senior Data Engineer (Healthcare Domain experi...   \n2                                        Data Engineers   \n3                         Client Trade Support Engineer   \n4                                         Data Engineer   \n...                                                 ...   \n2523                                     Cloud Engineer   \n2524                                Electrical Engineer   \n2525                              Sr. Big Data Engineer   \n2526                     Senior Big Data / ETL Engineer   \n2527                                     Cloud Engineer   \n\n                  Salary Estimate  \\\n0     $80K-$150K (Glassdoor est.)   \n1     $80K-$150K (Glassdoor est.)   \n2     $80K-$150K (Glassdoor est.)   \n3     $80K-$150K (Glassdoor est.)   \n4     $80K-$150K (Glassdoor est.)   \n...                           ...   \n2523  $76K-$128K (Glassdoor est.)   \n2524  $76K-$128K (Glassdoor est.)   \n2525  $76K-$128K (Glassdoor est.)   \n2526  $76K-$128K (Glassdoor est.)   \n2527  $76K-$128K (Glassdoor est.)   \n\n                                        Job Description  Rating  \\\n0     Company Description Sagence is a management ad...     4.5   \n1     Key Responsibilities  - Architect, build, and ...     3.4   \n2     Overview  Job description  Position Overview: ...     5.0   \n3     About the Position   This position will suppor...     4.8   \n4     Data Engineer  Job Details Level Experienced J...     3.7   \n...                                                 ...     ...   \n2523  The Expertise You Have Proven expertise in dev...     4.5   \n2524  Lockheed Martin is seeking a Circuit and FPGA ...     2.9   \n2525  Posting Title Principal Data Engineer (Contrac...     3.7   \n2526  Your Opportunity  Charles Schwab & Co., Inc is...     3.5   \n2527  Cloud Engineer Westlake, TX 6+ months Descript...     3.6   \n\n                                  Company Name        Location  \\\n0                                  Sagence 4.5    New York, NY   \n1                   Enterprise Integration 3.4    New York, NY   \n2                     Maestro Technologies 5.0    New York, NY   \n3                              Jane Street 4.8    New York, NY   \n4                  GNY Insurance Companies 3.7    New York, NY   \n...                                        ...             ...   \n2523                            PMG Global 4.5    Westlake, TX   \n2524            Albin Engineering Services 2.9  Fort Worth, TX   \n2525  Cincinnati Bell Technology Solutions 3.7      Irving, TX   \n2526                                Schwab 3.5    Westlake, TX   \n2527        SPECTRAFORCE TECHNOLOGIES Inc. 3.6    Westlake, TX   \n\n             Headquarters                   Size  Founded Type of ownership  \\\n0             Chicago, IL      1 to 50 employees     2009           Private   \n1        Jacksonville, FL    51 to 200 employees     1998           Private   \n2             Trenton, NJ    51 to 200 employees     2003           Private   \n3            New York, NY  501 to 1000 employees     2000           Private   \n4            New York, NY   201 to 500 employees     1914           Private   \n...                   ...                    ...      ...               ...   \n2523          Herndon, VA      1 to 50 employees     2007           Private   \n2524      Santa Clara, CA    51 to 200 employees     1993           Private   \n2525       Cincinnati, OH  501 to 1000 employees     1950           Private   \n2526  Dettenheim, Germany       10000+ employees     1950            Public   \n2527          Raleigh, NC  501 to 1000 employees     2000           Private   \n\n                                   Industry                  Sector  \\\n0                                Consulting       Business Services   \n1                               IT Services  Information Technology   \n2                               IT Services  Information Technology   \n3     Investment Banking & Asset Management                 Finance   \n4                        Insurance Carriers               Insurance   \n...                                     ...                     ...   \n2523           Computer Hardware & Software  Information Technology   \n2524                 Staffing & Outsourcing       Business Services   \n2525                            IT Services  Information Technology   \n2526                            IT Services  Information Technology   \n2527                 Staffing & Outsourcing       Business Services   \n\n                         Revenue        City State  Salary Estimate mean  \\\n0       $10 to $25 million (USD)    New York    NY              115000.0   \n1       $25 to $50 million (USD)    New York    NY              115000.0   \n2        $5 to $10 million (USD)    New York    NY              115000.0   \n3       Unknown / Non-Applicable    New York    NY              115000.0   \n4     $100 to $500 million (USD)    New York    NY              115000.0   \n...                          ...         ...   ...                   ...   \n2523      $1 to $5 million (USD)    Westlake    TX              102000.0   \n2524     $5 to $10 million (USD)  Fort Worth    TX              102000.0   \n2525  $100 to $500 million (USD)      Irving    TX              102000.0   \n2526    Unknown / Non-Applicable    Westlake    TX              102000.0   \n2527    $25 to $50 million (USD)    Westlake    TX              102000.0   \n\n       latitude  longitude  \n0     43.299428 -74.217933  \n1     43.299428 -74.217933  \n2     43.299428 -74.217933  \n3     43.299428 -74.217933  \n4     43.299428 -74.217933  \n...         ...        ...  \n2523  31.968599 -99.901813  \n2524  31.968599 -99.901813  \n2525  31.968599 -99.901813  \n2526  31.968599 -99.901813  \n2527  31.968599 -99.901813  \n\n[2247 rows x 18 columns]",
      "text/html": "<div>\n<style scoped>\n    .dataframe tbody tr th:only-of-type {\n        vertical-align: middle;\n    }\n\n    .dataframe tbody tr th {\n        vertical-align: top;\n    }\n\n    .dataframe thead th {\n        text-align: right;\n    }\n</style>\n<table border=\"1\" class=\"dataframe\">\n  <thead>\n    <tr style=\"text-align: right;\">\n      <th></th>\n      <th>Job Title</th>\n      <th>Salary Estimate</th>\n      <th>Job Description</th>\n      <th>Rating</th>\n      <th>Company Name</th>\n      <th>Location</th>\n      <th>Headquarters</th>\n      <th>Size</th>\n      <th>Founded</th>\n      <th>Type of ownership</th>\n      <th>Industry</th>\n      <th>Sector</th>\n      <th>Revenue</th>\n      <th>City</th>\n      <th>State</th>\n      <th>Salary Estimate mean</th>\n      <th>latitude</th>\n      <th>longitude</th>\n    </tr>\n  </thead>\n  <tbody>\n    <tr>\n      <th>0</th>\n      <td>Data Engineer</td>\n      <td>$80K-$150K (Glassdoor est.)</td>\n      <td>Company Description Sagence is a management ad...</td>\n      <td>4.5</td>\n      <td>Sagence 4.5</td>\n      <td>New York, NY</td>\n      <td>Chicago, IL</td>\n      <td>1 to 50 employees</td>\n      <td>2009</td>\n      <td>Private</td>\n      <td>Consulting</td>\n      <td>Business Services</td>\n      <td>$10 to $25 million (USD)</td>\n      <td>New York</td>\n      <td>NY</td>\n      <td>115000.0</td>\n      <td>43.299428</td>\n      <td>-74.217933</td>\n    </tr>\n    <tr>\n      <th>1</th>\n      <td>Senior Data Engineer (Healthcare Domain experi...</td>\n      <td>$80K-$150K (Glassdoor est.)</td>\n      <td>Key Responsibilities  - Architect, build, and ...</td>\n      <td>3.4</td>\n      <td>Enterprise Integration 3.4</td>\n      <td>New York, NY</td>\n      <td>Jacksonville, FL</td>\n      <td>51 to 200 employees</td>\n      <td>1998</td>\n      <td>Private</td>\n      <td>IT Services</td>\n      <td>Information Technology</td>\n      <td>$25 to $50 million (USD)</td>\n      <td>New York</td>\n      <td>NY</td>\n      <td>115000.0</td>\n      <td>43.299428</td>\n      <td>-74.217933</td>\n    </tr>\n    <tr>\n      <th>2</th>\n      <td>Data Engineers</td>\n      <td>$80K-$150K (Glassdoor est.)</td>\n      <td>Overview  Job description  Position Overview: ...</td>\n      <td>5.0</td>\n      <td>Maestro Technologies 5.0</td>\n      <td>New York, NY</td>\n      <td>Trenton, NJ</td>\n      <td>51 to 200 employees</td>\n      <td>2003</td>\n      <td>Private</td>\n      <td>IT Services</td>\n      <td>Information Technology</td>\n      <td>$5 to $10 million (USD)</td>\n      <td>New York</td>\n      <td>NY</td>\n      <td>115000.0</td>\n      <td>43.299428</td>\n      <td>-74.217933</td>\n    </tr>\n    <tr>\n      <th>3</th>\n      <td>Client Trade Support Engineer</td>\n      <td>$80K-$150K (Glassdoor est.)</td>\n      <td>About the Position   This position will suppor...</td>\n      <td>4.8</td>\n      <td>Jane Street 4.8</td>\n      <td>New York, NY</td>\n      <td>New York, NY</td>\n      <td>501 to 1000 employees</td>\n      <td>2000</td>\n      <td>Private</td>\n      <td>Investment Banking &amp; Asset Management</td>\n      <td>Finance</td>\n      <td>Unknown / Non-Applicable</td>\n      <td>New York</td>\n      <td>NY</td>\n      <td>115000.0</td>\n      <td>43.299428</td>\n      <td>-74.217933</td>\n    </tr>\n    <tr>\n      <th>4</th>\n      <td>Data Engineer</td>\n      <td>$80K-$150K (Glassdoor est.)</td>\n      <td>Data Engineer  Job Details Level Experienced J...</td>\n      <td>3.7</td>\n      <td>GNY Insurance Companies 3.7</td>\n      <td>New York, NY</td>\n      <td>New York, NY</td>\n      <td>201 to 500 employees</td>\n      <td>1914</td>\n      <td>Private</td>\n      <td>Insurance Carriers</td>\n      <td>Insurance</td>\n      <td>$100 to $500 million (USD)</td>\n      <td>New York</td>\n      <td>NY</td>\n      <td>115000.0</td>\n      <td>43.299428</td>\n      <td>-74.217933</td>\n    </tr>\n    <tr>\n      <th>...</th>\n      <td>...</td>\n      <td>...</td>\n      <td>...</td>\n      <td>...</td>\n      <td>...</td>\n      <td>...</td>\n      <td>...</td>\n      <td>...</td>\n      <td>...</td>\n      <td>...</td>\n      <td>...</td>\n      <td>...</td>\n      <td>...</td>\n      <td>...</td>\n      <td>...</td>\n      <td>...</td>\n      <td>...</td>\n      <td>...</td>\n    </tr>\n    <tr>\n      <th>2523</th>\n      <td>Cloud Engineer</td>\n      <td>$76K-$128K (Glassdoor est.)</td>\n      <td>The Expertise You Have Proven expertise in dev...</td>\n      <td>4.5</td>\n      <td>PMG Global 4.5</td>\n      <td>Westlake, TX</td>\n      <td>Herndon, VA</td>\n      <td>1 to 50 employees</td>\n      <td>2007</td>\n      <td>Private</td>\n      <td>Computer Hardware &amp; Software</td>\n      <td>Information Technology</td>\n      <td>$1 to $5 million (USD)</td>\n      <td>Westlake</td>\n      <td>TX</td>\n      <td>102000.0</td>\n      <td>31.968599</td>\n      <td>-99.901813</td>\n    </tr>\n    <tr>\n      <th>2524</th>\n      <td>Electrical Engineer</td>\n      <td>$76K-$128K (Glassdoor est.)</td>\n      <td>Lockheed Martin is seeking a Circuit and FPGA ...</td>\n      <td>2.9</td>\n      <td>Albin Engineering Services 2.9</td>\n      <td>Fort Worth, TX</td>\n      <td>Santa Clara, CA</td>\n      <td>51 to 200 employees</td>\n      <td>1993</td>\n      <td>Private</td>\n      <td>Staffing &amp; Outsourcing</td>\n      <td>Business Services</td>\n      <td>$5 to $10 million (USD)</td>\n      <td>Fort Worth</td>\n      <td>TX</td>\n      <td>102000.0</td>\n      <td>31.968599</td>\n      <td>-99.901813</td>\n    </tr>\n    <tr>\n      <th>2525</th>\n      <td>Sr. Big Data Engineer</td>\n      <td>$76K-$128K (Glassdoor est.)</td>\n      <td>Posting Title Principal Data Engineer (Contrac...</td>\n      <td>3.7</td>\n      <td>Cincinnati Bell Technology Solutions 3.7</td>\n      <td>Irving, TX</td>\n      <td>Cincinnati, OH</td>\n      <td>501 to 1000 employees</td>\n      <td>1950</td>\n      <td>Private</td>\n      <td>IT Services</td>\n      <td>Information Technology</td>\n      <td>$100 to $500 million (USD)</td>\n      <td>Irving</td>\n      <td>TX</td>\n      <td>102000.0</td>\n      <td>31.968599</td>\n      <td>-99.901813</td>\n    </tr>\n    <tr>\n      <th>2526</th>\n      <td>Senior Big Data / ETL Engineer</td>\n      <td>$76K-$128K (Glassdoor est.)</td>\n      <td>Your Opportunity  Charles Schwab &amp; Co., Inc is...</td>\n      <td>3.5</td>\n      <td>Schwab 3.5</td>\n      <td>Westlake, TX</td>\n      <td>Dettenheim, Germany</td>\n      <td>10000+ employees</td>\n      <td>1950</td>\n      <td>Public</td>\n      <td>IT Services</td>\n      <td>Information Technology</td>\n      <td>Unknown / Non-Applicable</td>\n      <td>Westlake</td>\n      <td>TX</td>\n      <td>102000.0</td>\n      <td>31.968599</td>\n      <td>-99.901813</td>\n    </tr>\n    <tr>\n      <th>2527</th>\n      <td>Cloud Engineer</td>\n      <td>$76K-$128K (Glassdoor est.)</td>\n      <td>Cloud Engineer Westlake, TX 6+ months Descript...</td>\n      <td>3.6</td>\n      <td>SPECTRAFORCE TECHNOLOGIES Inc. 3.6</td>\n      <td>Westlake, TX</td>\n      <td>Raleigh, NC</td>\n      <td>501 to 1000 employees</td>\n      <td>2000</td>\n      <td>Private</td>\n      <td>Staffing &amp; Outsourcing</td>\n      <td>Business Services</td>\n      <td>$25 to $50 million (USD)</td>\n      <td>Westlake</td>\n      <td>TX</td>\n      <td>102000.0</td>\n      <td>31.968599</td>\n      <td>-99.901813</td>\n    </tr>\n  </tbody>\n</table>\n<p>2247 rows × 18 columns</p>\n</div>"
     },
     "execution_count": 251,
     "metadata": {},
     "output_type": "execute_result"
    }
   ],
   "source": [
    "df"
   ],
   "metadata": {
    "collapsed": false
   }
  },
  {
   "cell_type": "code",
   "execution_count": 252,
   "outputs": [
    {
     "name": "stderr",
     "output_type": "stream",
     "text": [
      "C:\\Users\\Oleg Lastocichin\\AppData\\Local\\Temp\\ipykernel_11120\\1559585758.py:1: FutureWarning:\n",
      "\n",
      "The default value of regex will change from True to False in a future version.\n",
      "\n",
      "C:\\Users\\Oleg Lastocichin\\AppData\\Local\\Temp\\ipykernel_11120\\1559585758.py:1: SettingWithCopyWarning:\n",
      "\n",
      "\n",
      "A value is trying to be set on a copy of a slice from a DataFrame.\n",
      "Try using .loc[row_indexer,col_indexer] = value instead\n",
      "\n",
      "See the caveats in the documentation: https://pandas.pydata.org/pandas-docs/stable/user_guide/indexing.html#returning-a-view-versus-a-copy\n",
      "\n"
     ]
    }
   ],
   "source": [
    "df[\"Company Name\"] = df[\"Company Name\"].str.replace(\"\\s+\\S+$\", \"\")"
   ],
   "metadata": {
    "collapsed": false
   }
  },
  {
   "cell_type": "code",
   "execution_count": 253,
   "outputs": [
    {
     "data": {
      "text/plain": "                                              Job Title  \\\n0                                         Data Engineer   \n1     Senior Data Engineer (Healthcare Domain experi...   \n2                                        Data Engineers   \n3                         Client Trade Support Engineer   \n4                                         Data Engineer   \n...                                                 ...   \n2523                                     Cloud Engineer   \n2524                                Electrical Engineer   \n2525                              Sr. Big Data Engineer   \n2526                     Senior Big Data / ETL Engineer   \n2527                                     Cloud Engineer   \n\n                  Salary Estimate  \\\n0     $80K-$150K (Glassdoor est.)   \n1     $80K-$150K (Glassdoor est.)   \n2     $80K-$150K (Glassdoor est.)   \n3     $80K-$150K (Glassdoor est.)   \n4     $80K-$150K (Glassdoor est.)   \n...                           ...   \n2523  $76K-$128K (Glassdoor est.)   \n2524  $76K-$128K (Glassdoor est.)   \n2525  $76K-$128K (Glassdoor est.)   \n2526  $76K-$128K (Glassdoor est.)   \n2527  $76K-$128K (Glassdoor est.)   \n\n                                        Job Description  Rating  \\\n0     Company Description Sagence is a management ad...     4.5   \n1     Key Responsibilities  - Architect, build, and ...     3.4   \n2     Overview  Job description  Position Overview: ...     5.0   \n3     About the Position   This position will suppor...     4.8   \n4     Data Engineer  Job Details Level Experienced J...     3.7   \n...                                                 ...     ...   \n2523  The Expertise You Have Proven expertise in dev...     4.5   \n2524  Lockheed Martin is seeking a Circuit and FPGA ...     2.9   \n2525  Posting Title Principal Data Engineer (Contrac...     3.7   \n2526  Your Opportunity  Charles Schwab & Co., Inc is...     3.5   \n2527  Cloud Engineer Westlake, TX 6+ months Descript...     3.6   \n\n                              Company Name        Location  \\\n0                                  Sagence    New York, NY   \n1                   Enterprise Integration    New York, NY   \n2                     Maestro Technologies    New York, NY   \n3                              Jane Street    New York, NY   \n4                  GNY Insurance Companies    New York, NY   \n...                                    ...             ...   \n2523                            PMG Global    Westlake, TX   \n2524            Albin Engineering Services  Fort Worth, TX   \n2525  Cincinnati Bell Technology Solutions      Irving, TX   \n2526                                Schwab    Westlake, TX   \n2527        SPECTRAFORCE TECHNOLOGIES Inc.    Westlake, TX   \n\n             Headquarters                   Size  Founded Type of ownership  \\\n0             Chicago, IL      1 to 50 employees     2009           Private   \n1        Jacksonville, FL    51 to 200 employees     1998           Private   \n2             Trenton, NJ    51 to 200 employees     2003           Private   \n3            New York, NY  501 to 1000 employees     2000           Private   \n4            New York, NY   201 to 500 employees     1914           Private   \n...                   ...                    ...      ...               ...   \n2523          Herndon, VA      1 to 50 employees     2007           Private   \n2524      Santa Clara, CA    51 to 200 employees     1993           Private   \n2525       Cincinnati, OH  501 to 1000 employees     1950           Private   \n2526  Dettenheim, Germany       10000+ employees     1950            Public   \n2527          Raleigh, NC  501 to 1000 employees     2000           Private   \n\n                                   Industry                  Sector  \\\n0                                Consulting       Business Services   \n1                               IT Services  Information Technology   \n2                               IT Services  Information Technology   \n3     Investment Banking & Asset Management                 Finance   \n4                        Insurance Carriers               Insurance   \n...                                     ...                     ...   \n2523           Computer Hardware & Software  Information Technology   \n2524                 Staffing & Outsourcing       Business Services   \n2525                            IT Services  Information Technology   \n2526                            IT Services  Information Technology   \n2527                 Staffing & Outsourcing       Business Services   \n\n                         Revenue        City State  Salary Estimate mean  \\\n0       $10 to $25 million (USD)    New York    NY              115000.0   \n1       $25 to $50 million (USD)    New York    NY              115000.0   \n2        $5 to $10 million (USD)    New York    NY              115000.0   \n3       Unknown / Non-Applicable    New York    NY              115000.0   \n4     $100 to $500 million (USD)    New York    NY              115000.0   \n...                          ...         ...   ...                   ...   \n2523      $1 to $5 million (USD)    Westlake    TX              102000.0   \n2524     $5 to $10 million (USD)  Fort Worth    TX              102000.0   \n2525  $100 to $500 million (USD)      Irving    TX              102000.0   \n2526    Unknown / Non-Applicable    Westlake    TX              102000.0   \n2527    $25 to $50 million (USD)    Westlake    TX              102000.0   \n\n       latitude  longitude  \n0     43.299428 -74.217933  \n1     43.299428 -74.217933  \n2     43.299428 -74.217933  \n3     43.299428 -74.217933  \n4     43.299428 -74.217933  \n...         ...        ...  \n2523  31.968599 -99.901813  \n2524  31.968599 -99.901813  \n2525  31.968599 -99.901813  \n2526  31.968599 -99.901813  \n2527  31.968599 -99.901813  \n\n[2247 rows x 18 columns]",
      "text/html": "<div>\n<style scoped>\n    .dataframe tbody tr th:only-of-type {\n        vertical-align: middle;\n    }\n\n    .dataframe tbody tr th {\n        vertical-align: top;\n    }\n\n    .dataframe thead th {\n        text-align: right;\n    }\n</style>\n<table border=\"1\" class=\"dataframe\">\n  <thead>\n    <tr style=\"text-align: right;\">\n      <th></th>\n      <th>Job Title</th>\n      <th>Salary Estimate</th>\n      <th>Job Description</th>\n      <th>Rating</th>\n      <th>Company Name</th>\n      <th>Location</th>\n      <th>Headquarters</th>\n      <th>Size</th>\n      <th>Founded</th>\n      <th>Type of ownership</th>\n      <th>Industry</th>\n      <th>Sector</th>\n      <th>Revenue</th>\n      <th>City</th>\n      <th>State</th>\n      <th>Salary Estimate mean</th>\n      <th>latitude</th>\n      <th>longitude</th>\n    </tr>\n  </thead>\n  <tbody>\n    <tr>\n      <th>0</th>\n      <td>Data Engineer</td>\n      <td>$80K-$150K (Glassdoor est.)</td>\n      <td>Company Description Sagence is a management ad...</td>\n      <td>4.5</td>\n      <td>Sagence</td>\n      <td>New York, NY</td>\n      <td>Chicago, IL</td>\n      <td>1 to 50 employees</td>\n      <td>2009</td>\n      <td>Private</td>\n      <td>Consulting</td>\n      <td>Business Services</td>\n      <td>$10 to $25 million (USD)</td>\n      <td>New York</td>\n      <td>NY</td>\n      <td>115000.0</td>\n      <td>43.299428</td>\n      <td>-74.217933</td>\n    </tr>\n    <tr>\n      <th>1</th>\n      <td>Senior Data Engineer (Healthcare Domain experi...</td>\n      <td>$80K-$150K (Glassdoor est.)</td>\n      <td>Key Responsibilities  - Architect, build, and ...</td>\n      <td>3.4</td>\n      <td>Enterprise Integration</td>\n      <td>New York, NY</td>\n      <td>Jacksonville, FL</td>\n      <td>51 to 200 employees</td>\n      <td>1998</td>\n      <td>Private</td>\n      <td>IT Services</td>\n      <td>Information Technology</td>\n      <td>$25 to $50 million (USD)</td>\n      <td>New York</td>\n      <td>NY</td>\n      <td>115000.0</td>\n      <td>43.299428</td>\n      <td>-74.217933</td>\n    </tr>\n    <tr>\n      <th>2</th>\n      <td>Data Engineers</td>\n      <td>$80K-$150K (Glassdoor est.)</td>\n      <td>Overview  Job description  Position Overview: ...</td>\n      <td>5.0</td>\n      <td>Maestro Technologies</td>\n      <td>New York, NY</td>\n      <td>Trenton, NJ</td>\n      <td>51 to 200 employees</td>\n      <td>2003</td>\n      <td>Private</td>\n      <td>IT Services</td>\n      <td>Information Technology</td>\n      <td>$5 to $10 million (USD)</td>\n      <td>New York</td>\n      <td>NY</td>\n      <td>115000.0</td>\n      <td>43.299428</td>\n      <td>-74.217933</td>\n    </tr>\n    <tr>\n      <th>3</th>\n      <td>Client Trade Support Engineer</td>\n      <td>$80K-$150K (Glassdoor est.)</td>\n      <td>About the Position   This position will suppor...</td>\n      <td>4.8</td>\n      <td>Jane Street</td>\n      <td>New York, NY</td>\n      <td>New York, NY</td>\n      <td>501 to 1000 employees</td>\n      <td>2000</td>\n      <td>Private</td>\n      <td>Investment Banking &amp; Asset Management</td>\n      <td>Finance</td>\n      <td>Unknown / Non-Applicable</td>\n      <td>New York</td>\n      <td>NY</td>\n      <td>115000.0</td>\n      <td>43.299428</td>\n      <td>-74.217933</td>\n    </tr>\n    <tr>\n      <th>4</th>\n      <td>Data Engineer</td>\n      <td>$80K-$150K (Glassdoor est.)</td>\n      <td>Data Engineer  Job Details Level Experienced J...</td>\n      <td>3.7</td>\n      <td>GNY Insurance Companies</td>\n      <td>New York, NY</td>\n      <td>New York, NY</td>\n      <td>201 to 500 employees</td>\n      <td>1914</td>\n      <td>Private</td>\n      <td>Insurance Carriers</td>\n      <td>Insurance</td>\n      <td>$100 to $500 million (USD)</td>\n      <td>New York</td>\n      <td>NY</td>\n      <td>115000.0</td>\n      <td>43.299428</td>\n      <td>-74.217933</td>\n    </tr>\n    <tr>\n      <th>...</th>\n      <td>...</td>\n      <td>...</td>\n      <td>...</td>\n      <td>...</td>\n      <td>...</td>\n      <td>...</td>\n      <td>...</td>\n      <td>...</td>\n      <td>...</td>\n      <td>...</td>\n      <td>...</td>\n      <td>...</td>\n      <td>...</td>\n      <td>...</td>\n      <td>...</td>\n      <td>...</td>\n      <td>...</td>\n      <td>...</td>\n    </tr>\n    <tr>\n      <th>2523</th>\n      <td>Cloud Engineer</td>\n      <td>$76K-$128K (Glassdoor est.)</td>\n      <td>The Expertise You Have Proven expertise in dev...</td>\n      <td>4.5</td>\n      <td>PMG Global</td>\n      <td>Westlake, TX</td>\n      <td>Herndon, VA</td>\n      <td>1 to 50 employees</td>\n      <td>2007</td>\n      <td>Private</td>\n      <td>Computer Hardware &amp; Software</td>\n      <td>Information Technology</td>\n      <td>$1 to $5 million (USD)</td>\n      <td>Westlake</td>\n      <td>TX</td>\n      <td>102000.0</td>\n      <td>31.968599</td>\n      <td>-99.901813</td>\n    </tr>\n    <tr>\n      <th>2524</th>\n      <td>Electrical Engineer</td>\n      <td>$76K-$128K (Glassdoor est.)</td>\n      <td>Lockheed Martin is seeking a Circuit and FPGA ...</td>\n      <td>2.9</td>\n      <td>Albin Engineering Services</td>\n      <td>Fort Worth, TX</td>\n      <td>Santa Clara, CA</td>\n      <td>51 to 200 employees</td>\n      <td>1993</td>\n      <td>Private</td>\n      <td>Staffing &amp; Outsourcing</td>\n      <td>Business Services</td>\n      <td>$5 to $10 million (USD)</td>\n      <td>Fort Worth</td>\n      <td>TX</td>\n      <td>102000.0</td>\n      <td>31.968599</td>\n      <td>-99.901813</td>\n    </tr>\n    <tr>\n      <th>2525</th>\n      <td>Sr. Big Data Engineer</td>\n      <td>$76K-$128K (Glassdoor est.)</td>\n      <td>Posting Title Principal Data Engineer (Contrac...</td>\n      <td>3.7</td>\n      <td>Cincinnati Bell Technology Solutions</td>\n      <td>Irving, TX</td>\n      <td>Cincinnati, OH</td>\n      <td>501 to 1000 employees</td>\n      <td>1950</td>\n      <td>Private</td>\n      <td>IT Services</td>\n      <td>Information Technology</td>\n      <td>$100 to $500 million (USD)</td>\n      <td>Irving</td>\n      <td>TX</td>\n      <td>102000.0</td>\n      <td>31.968599</td>\n      <td>-99.901813</td>\n    </tr>\n    <tr>\n      <th>2526</th>\n      <td>Senior Big Data / ETL Engineer</td>\n      <td>$76K-$128K (Glassdoor est.)</td>\n      <td>Your Opportunity  Charles Schwab &amp; Co., Inc is...</td>\n      <td>3.5</td>\n      <td>Schwab</td>\n      <td>Westlake, TX</td>\n      <td>Dettenheim, Germany</td>\n      <td>10000+ employees</td>\n      <td>1950</td>\n      <td>Public</td>\n      <td>IT Services</td>\n      <td>Information Technology</td>\n      <td>Unknown / Non-Applicable</td>\n      <td>Westlake</td>\n      <td>TX</td>\n      <td>102000.0</td>\n      <td>31.968599</td>\n      <td>-99.901813</td>\n    </tr>\n    <tr>\n      <th>2527</th>\n      <td>Cloud Engineer</td>\n      <td>$76K-$128K (Glassdoor est.)</td>\n      <td>Cloud Engineer Westlake, TX 6+ months Descript...</td>\n      <td>3.6</td>\n      <td>SPECTRAFORCE TECHNOLOGIES Inc.</td>\n      <td>Westlake, TX</td>\n      <td>Raleigh, NC</td>\n      <td>501 to 1000 employees</td>\n      <td>2000</td>\n      <td>Private</td>\n      <td>Staffing &amp; Outsourcing</td>\n      <td>Business Services</td>\n      <td>$25 to $50 million (USD)</td>\n      <td>Westlake</td>\n      <td>TX</td>\n      <td>102000.0</td>\n      <td>31.968599</td>\n      <td>-99.901813</td>\n    </tr>\n  </tbody>\n</table>\n<p>2247 rows × 18 columns</p>\n</div>"
     },
     "execution_count": 253,
     "metadata": {},
     "output_type": "execute_result"
    }
   ],
   "source": [
    "df"
   ],
   "metadata": {
    "collapsed": false
   }
  },
  {
   "cell_type": "code",
   "execution_count": 254,
   "outputs": [
    {
     "data": {
      "text/plain": "<Figure size 640x480 with 1 Axes>",
      "image/png": "[encoded data removed]"
     },
     "metadata": {},
     "output_type": "display_data"
    }
   ],
   "source": [
    "Rating = df.groupby(['Rating']).size().reset_index(name = 'Count').sort_values('Rating', ascending=False)\n",
    "fig = sns.histplot(df, x='Rating').set(title=\"Rating distribution\")"
   ],
   "metadata": {
    "collapsed": false
   }
  },
  {
   "cell_type": "code",
   "execution_count": 255,
   "outputs": [
    {
     "name": "stderr",
     "output_type": "stream",
     "text": [
      "C:\\Users\\Oleg Lastocichin\\AppData\\Local\\Temp\\ipykernel_11120\\96268996.py:7: FutureWarning:\n",
      "\n",
      "The behavior of `series[i:j]` with an integer-dtype index is deprecated. In a future version, this will be treated as *label-based* indexing, consistent with e.g. `series[i]` lookups. To retain the old behavior, use `series.iloc[i:j]`. To get the future behavior, use `series.loc[i:j]`.\n",
      "\n"
     ]
    }
   ],
   "source": [
    "Ownership = df.groupby(['Type of ownership']).size().reset_index(name = 'Count').sort_values('Count', ascending=False)\n",
    "\n",
    "newOwnership = Ownership[:3].copy()\n",
    "\n",
    "newOwnership_row = pd.DataFrame(data = {\n",
    "    'Type of ownership' : ['Others'],\n",
    "    'Count' : [Ownership['Count'][3:].sum()]\n",
    "})\n",
    "\n",
    "newOwnership = pd.concat([newOwnership, newOwnership_row])"
   ],
   "metadata": {
    "collapsed": false
   }
  },
  {
   "cell_type": "code",
   "execution_count": 256,
   "outputs": [
    {
     "data": {
      "text/plain": "                 Type of ownership  Count\n0                          Private   1403\n1                           Public    639\n11  Subsidiary or Business Segment    119\n0                           Others     86",
      "text/html": "<div>\n<style scoped>\n    .dataframe tbody tr th:only-of-type {\n        vertical-align: middle;\n    }\n\n    .dataframe tbody tr th {\n        vertical-align: top;\n    }\n\n    .dataframe thead th {\n        text-align: right;\n    }\n</style>\n<table border=\"1\" class=\"dataframe\">\n  <thead>\n    <tr style=\"text-align: right;\">\n      <th></th>\n      <th>Type of ownership</th>\n      <th>Count</th>\n    </tr>\n  </thead>\n  <tbody>\n    <tr>\n      <th>0</th>\n      <td>Private</td>\n      <td>1403</td>\n    </tr>\n    <tr>\n      <th>1</th>\n      <td>Public</td>\n      <td>639</td>\n    </tr>\n    <tr>\n      <th>11</th>\n      <td>Subsidiary or Business Segment</td>\n      <td>119</td>\n    </tr>\n    <tr>\n      <th>0</th>\n      <td>Others</td>\n      <td>86</td>\n    </tr>\n  </tbody>\n</table>\n</div>"
     },
     "execution_count": 256,
     "metadata": {},
     "output_type": "execute_result"
    }
   ],
   "source": [
    "newOwnership"
   ],
   "metadata": {
    "collapsed": false
   }
  },
  {
   "cell_type": "code",
   "execution_count": 257,
   "outputs": [
    {
     "data": {
      "application/vnd.plotly.v1+json": {
       "data": [
        {
         "domain": {
          "x": [
           0.0,
           1.0
          ],
          "y": [
           0.0,
           1.0
          ]
         },
         "hovertemplate": "Type of ownership=%{label}<br>Count=%{value}<extra></extra>",
         "labels": [
          " Private",
          " Public",
          "Subsidiary or Business Segment",
          "Others"
         ],
         "legendgroup": "",
         "name": "",
         "showlegend": true,
         "values": [
          1403,
          639,
          119,
          86
         ],
         "type": "pie"
        }
       ],
       "layout": {
        "template": {
         "data": {
          "histogram2dcontour": [
           {
            "type": "histogram2dcontour",
            "colorbar": {
             "outlinewidth": 0,
             "ticks": ""
            },
            "colorscale": [
             [
              0.0,
              "#0d0887"
             ],
             [
              0.1111111111111111,
              "#46039f"
             ],
             [
              0.2222222222222222,
              "#7201a8"
             ],
             [
              0.3333333333333333,
              "#9c179e"
             ],
             [
              0.4444444444444444,
              "#bd3786"
             ],
             [
              0.5555555555555556,
              "#d8576b"
             ],
             [
              0.6666666666666666,
              "#ed7953"
             ],
             [
              0.7777777777777778,
              "#fb9f3a"
             ],
             [
              0.8888888888888888,
              "#fdca26"
             ],
             [
              1.0,
              "#f0f921"
             ]
            ]
           }
          ],
          "choropleth": [
           {
            "type": "choropleth",
            "colorbar": {
             "outlinewidth": 0,
             "ticks": ""
            }
           }
          ],
          "histogram2d": [
           {
            "type": "histogram2d",
            "colorbar": {
             "outlinewidth": 0,
             "ticks": ""
            },
            "colorscale": [
             [
              0.0,
              "#0d0887"
             ],
             [
              0.1111111111111111,
              "#46039f"
             ],
             [
              0.2222222222222222,
              "#7201a8"
             ],
             [
              0.3333333333333333,
              "#9c179e"
             ],
             [
              0.4444444444444444,
              "#bd3786"
             ],
             [
              0.5555555555555556,
              "#d8576b"
             ],
             [
              0.6666666666666666,
              "#ed7953"
             ],
             [
              0.7777777777777778,
              "#fb9f3a"
             ],
             [
              0.8888888888888888,
              "#fdca26"
             ],
             [
              1.0,
              "#f0f921"
             ]
            ]
           }
          ],
          "heatmap": [
           {
            "type": "heatmap",
            "colorbar": {
             "outlinewidth": 0,
             "ticks": ""
            },
            "colorscale": [
             [
              0.0,
              "#0d0887"
             ],
             [
              0.1111111111111111,
              "#46039f"
             ],
             [
              0.2222222222222222,
              "#7201a8"
             ],
             [
              0.3333333333333333,
              "#9c179e"
             ],
             [
              0.4444444444444444,
              "#bd3786"
             ],
             [
              0.5555555555555556,
              "#d8576b"
             ],
             [
              0.6666666666666666,
              "#ed7953"
             ],
             [
              0.7777777777777778,
              "#fb9f3a"
             ],
             [
              0.8888888888888888,
              "#fdca26"
             ],
             [
              1.0,
              "#f0f921"
             ]
            ]
           }
          ],
          "heatmapgl": [
           {
            "type": "heatmapgl",
            "colorbar": {
             "outlinewidth": 0,
             "ticks": ""
            },
            "colorscale": [
             [
              0.0,
              "#0d0887"
             ],
             [
              0.1111111111111111,
              "#46039f"
             ],
             [
              0.2222222222222222,
              "#7201a8"
             ],
             [
              0.3333333333333333,
              "#9c179e"
             ],
             [
              0.4444444444444444,
              "#bd3786"
             ],
             [
              0.5555555555555556,
              "#d8576b"
             ],
             [
              0.6666666666666666,
              "#ed7953"
             ],
             [
              0.7777777777777778,
              "#fb9f3a"
             ],
             [
              0.8888888888888888,
              "#fdca26"
             ],
             [
              1.0,
              "#f0f921"
             ]
            ]
           }
          ],
          "contourcarpet": [
           {
            "type": "contourcarpet",
            "colorbar": {
             "outlinewidth": 0,
             "ticks": ""
            }
           }
          ],
          "contour": [
           {
            "type": "contour",
            "colorbar": {
             "outlinewidth": 0,
             "ticks": ""
            },
            "colorscale": [
             [
              0.0,
              "#0d0887"
             ],
             [
              0.1111111111111111,
              "#46039f"
             ],
             [
              0.2222222222222222,
              "#7201a8"
             ],
             [
              0.3333333333333333,
              "#9c179e"
             ],
             [
              0.4444444444444444,
              "#bd3786"
             ],
             [
              0.5555555555555556,
              "#d8576b"
             ],
             [
              0.6666666666666666,
              "#ed7953"
             ],
             [
              0.7777777777777778,
              "#fb9f3a"
             ],
             [
              0.8888888888888888,
              "#fdca26"
             ],
             [
              1.0,
              "#f0f921"
             ]
            ]
           }
          ],
          "surface": [
           {
            "type": "surface",
            "colorbar": {
             "outlinewidth": 0,
             "ticks": ""
            },
            "colorscale": [
             [
              0.0,
              "#0d0887"
             ],
             [
              0.1111111111111111,
              "#46039f"
             ],
             [
              0.2222222222222222,
              "#7201a8"
             ],
             [
              0.3333333333333333,
              "#9c179e"
             ],
             [
              0.4444444444444444,
              "#bd3786"
             ],
             [
              0.5555555555555556,
              "#d8576b"
             ],
             [
              0.6666666666666666,
              "#ed7953"
             ],
             [
              0.7777777777777778,
              "#fb9f3a"
             ],
             [
              0.8888888888888888,
              "#fdca26"
             ],
             [
              1.0,
              "#f0f921"
             ]
            ]
           }
          ],
          "mesh3d": [
           {
            "type": "mesh3d",
            "colorbar": {
             "outlinewidth": 0,
             "ticks": ""
            }
           }
          ],
          "scatter": [
           {
            "marker": {
             "line": {
              "color": "#283442"
             }
            },
            "type": "scatter"
           }
          ],
          "parcoords": [
           {
            "type": "parcoords",
            "line": {
             "colorbar": {
              "outlinewidth": 0,
              "ticks": ""
             }
            }
           }
          ],
          "scatterpolargl": [
           {
            "type": "scatterpolargl",
            "marker": {
             "colorbar": {
              "outlinewidth": 0,
              "ticks": ""
             }
            }
           }
          ],
          "bar": [
           {
            "error_x": {
             "color": "#f2f5fa"
            },
            "error_y": {
             "color": "#f2f5fa"
            },
            "marker": {
             "line": {
              "color": "rgb(17,17,17)",
              "width": 0.5
             },
             "pattern": {
              "fillmode": "overlay",
              "size": 10,
              "solidity": 0.2
             }
            },
            "type": "bar"
           }
          ],
          "scattergeo": [
           {
            "type": "scattergeo",
            "marker": {
             "colorbar": {
              "outlinewidth": 0,
              "ticks": ""
             }
            }
           }
          ],
          "scatterpolar": [
           {
            "type": "scatterpolar",
            "marker": {
             "colorbar": {
              "outlinewidth": 0,
              "ticks": ""
             }
            }
           }
          ],
          "histogram": [
           {
            "marker": {
             "pattern": {
              "fillmode": "overlay",
              "size": 10,
              "solidity": 0.2
             }
            },
            "type": "histogram"
           }
          ],
          "scattergl": [
           {
            "marker": {
             "line": {
              "color": "#283442"
             }
            },
            "type": "scattergl"
           }
          ],
          "scatter3d": [
           {
            "type": "scatter3d",
            "line": {
             "colorbar": {
              "outlinewidth": 0,
              "ticks": ""
             }
            },
            "marker": {
             "colorbar": {
              "outlinewidth": 0,
              "ticks": ""
             }
            }
           }
          ],
          "scattermapbox": [
           {
            "type": "scattermapbox",
            "marker": {
             "colorbar": {
              "outlinewidth": 0,
              "ticks": ""
             }
            }
           }
          ],
          "scatterternary": [
           {
            "type": "scatterternary",
            "marker": {
             "colorbar": {
              "outlinewidth": 0,
              "ticks": ""
             }
            }
           }
          ],
          "scattercarpet": [
           {
            "type": "scattercarpet",
            "marker": {
             "colorbar": {
              "outlinewidth": 0,
              "ticks": ""
             }
            }
           }
          ],
          "carpet": [
           {
            "aaxis": {
             "endlinecolor": "#A2B1C6",
             "gridcolor": "#506784",
             "linecolor": "#506784",
             "minorgridcolor": "#506784",
             "startlinecolor": "#A2B1C6"
            },
            "baxis": {
             "endlinecolor": "#A2B1C6",
             "gridcolor": "#506784",
             "linecolor": "#506784",
             "minorgridcolor": "#506784",
             "startlinecolor": "#A2B1C6"
            },
            "type": "carpet"
           }
          ],
          "table": [
           {
            "cells": {
             "fill": {
              "color": "#506784"
             },
             "line": {
              "color": "rgb(17,17,17)"
             }
            },
            "header": {
             "fill": {
              "color": "#2a3f5f"
             },
             "line": {
              "color": "rgb(17,17,17)"
             }
            },
            "type": "table"
           }
          ],
          "barpolar": [
           {
            "marker": {
             "line": {
              "color": "rgb(17,17,17)",
              "width": 0.5
             },
             "pattern": {
              "fillmode": "overlay",
              "size": 10,
              "solidity": 0.2
             }
            },
            "type": "barpolar"
           }
          ],
          "pie": [
           {
            "automargin": true,
            "type": "pie"
           }
          ]
         },
         "layout": {
          "autotypenumbers": "strict",
          "colorway": [
           "#636efa",
           "#EF553B",
           "#00cc96",
           "#ab63fa",
           "#FFA15A",
           "#19d3f3",
           "#FF6692",
           "#B6E880",
           "#FF97FF",
           "#FECB52"
          ],
          "font": {
           "color": "#f2f5fa"
          },
          "hovermode": "closest",
          "hoverlabel": {
           "align": "left"
          },
          "paper_bgcolor": "rgb(17,17,17)",
          "plot_bgcolor": "rgb(17,17,17)",
          "polar": {
           "bgcolor": "rgb(17,17,17)",
           "angularaxis": {
            "gridcolor": "#506784",
            "linecolor": "#506784",
            "ticks": ""
           },
           "radialaxis": {
            "gridcolor": "#506784",
            "linecolor": "#506784",
            "ticks": ""
           }
          },
          "ternary": {
           "bgcolor": "rgb(17,17,17)",
           "aaxis": {
            "gridcolor": "#506784",
            "linecolor": "#506784",
            "ticks": ""
           },
           "baxis": {
            "gridcolor": "#506784",
            "linecolor": "#506784",
            "ticks": ""
           },
           "caxis": {
            "gridcolor": "#506784",
            "linecolor": "#506784",
            "ticks": ""
           }
          },
          "coloraxis": {
           "colorbar": {
            "outlinewidth": 0,
            "ticks": ""
           }
          },
          "colorscale": {
           "sequential": [
            [
             0.0,
             "#0d0887"
            ],
            [
             0.1111111111111111,
             "#46039f"
            ],
            [
             0.2222222222222222,
             "#7201a8"
            ],
            [
             0.3333333333333333,
             "#9c179e"
            ],
            [
             0.4444444444444444,
             "#bd3786"
            ],
            [
             0.5555555555555556,
             "#d8576b"
            ],
            [
             0.6666666666666666,
             "#ed7953"
            ],
            [
             0.7777777777777778,
             "#fb9f3a"
            ],
            [
             0.8888888888888888,
             "#fdca26"
            ],
            [
             1.0,
             "#f0f921"
            ]
           ],
           "sequentialminus": [
            [
             0.0,
             "#0d0887"
            ],
            [
             0.1111111111111111,
             "#46039f"
            ],
            [
             0.2222222222222222,
             "#7201a8"
            ],
            [
             0.3333333333333333,
             "#9c179e"
            ],
            [
             0.4444444444444444,
             "#bd3786"
            ],
            [
             0.5555555555555556,
             "#d8576b"
            ],
            [
             0.6666666666666666,
             "#ed7953"
            ],
            [
             0.7777777777777778,
             "#fb9f3a"
            ],
            [
             0.8888888888888888,
             "#fdca26"
            ],
            [
             1.0,
             "#f0f921"
            ]
           ],
           "diverging": [
            [
             0,
             "#8e0152"
            ],
            [
             0.1,
             "#c51b7d"
            ],
            [
             0.2,
             "#de77ae"
            ],
            [
             0.3,
             "#f1b6da"
            ],
            [
             0.4,
             "#fde0ef"
            ],
            [
             0.5,
             "#f7f7f7"
            ],
            [
             0.6,
             "#e6f5d0"
            ],
            [
             0.7,
             "#b8e186"
            ],
            [
             0.8,
             "#7fbc41"
            ],
            [
             0.9,
             "#4d9221"
            ],
            [
             1,
             "#276419"
            ]
           ]
          },
          "xaxis": {
           "gridcolor": "#283442",
           "linecolor": "#506784",
           "ticks": "",
           "title": {
            "standoff": 15
           },
           "zerolinecolor": "#283442",
           "automargin": true,
           "zerolinewidth": 2
          },
          "yaxis": {
           "gridcolor": "#283442",
           "linecolor": "#506784",
           "ticks": "",
           "title": {
            "standoff": 15
           },
           "zerolinecolor": "#283442",
           "automargin": true,
           "zerolinewidth": 2
          },
          "scene": {
           "xaxis": {
            "backgroundcolor": "rgb(17,17,17)",
            "gridcolor": "#506784",
            "linecolor": "#506784",
            "showbackground": true,
            "ticks": "",
            "zerolinecolor": "#C8D4E3",
            "gridwidth": 2
           },
           "yaxis": {
            "backgroundcolor": "rgb(17,17,17)",
            "gridcolor": "#506784",
            "linecolor": "#506784",
            "showbackground": true,
            "ticks": "",
            "zerolinecolor": "#C8D4E3",
            "gridwidth": 2
           },
           "zaxis": {
            "backgroundcolor": "rgb(17,17,17)",
            "gridcolor": "#506784",
            "linecolor": "#506784",
            "showbackground": true,
            "ticks": "",
            "zerolinecolor": "#C8D4E3",
            "gridwidth": 2
           }
          },
          "shapedefaults": {
           "line": {
            "color": "#f2f5fa"
           }
          },
          "annotationdefaults": {
           "arrowcolor": "#f2f5fa",
           "arrowhead": 0,
           "arrowwidth": 1
          },
          "geo": {
           "bgcolor": "rgb(17,17,17)",
           "landcolor": "rgb(17,17,17)",
           "subunitcolor": "#506784",
           "showland": true,
           "showlakes": true,
           "lakecolor": "rgb(17,17,17)"
          },
          "title": {
           "x": 0.05
          },
          "updatemenudefaults": {
           "bgcolor": "#506784",
           "borderwidth": 0
          },
          "sliderdefaults": {
           "bgcolor": "#C8D4E3",
           "borderwidth": 1,
           "bordercolor": "rgb(17,17,17)",
           "tickwidth": 0
          },
          "mapbox": {
           "style": "dark"
          }
         }
        },
        "legend": {
         "tracegroupgap": 0
        },
        "margin": {
         "t": 60
        }
       },
       "config": {
        "plotlyServerURL": "https://plot.ly"
       }
      },
      "text/html": "<div>                            <div id=\"5a857a35-861b-4592-aa34-c04f4f1a6850\" class=\"plotly-graph-div\" style=\"height:525px; width:100%;\"></div>            <script type=\"text/javascript\">                require([\"plotly\"], function(Plotly) {                    window.PLOTLYENV=window.PLOTLYENV || {};                                    if (document.getElementById(\"5a857a35-861b-4592-aa34-c04f4f1a6850\")) {                    Plotly.newPlot(                        \"5a857a35-861b-4592-aa34-c04f4f1a6850\",                        [{\"domain\":{\"x\":[0.0,1.0],\"y\":[0.0,1.0]},\"hovertemplate\":\"Type of ownership=%{label}<br>Count=%{value}<extra></extra>\",\"labels\":[\" Private\",\" Public\",\"Subsidiary or Business Segment\",\"Others\"],\"legendgroup\":\"\",\"name\":\"\",\"showlegend\":true,\"values\":[1403,639,119,86],\"type\":\"pie\"}],                        {\"template\":{\"data\":{\"histogram2dcontour\":[{\"type\":\"histogram2dcontour\",\"colorbar\":{\"outlinewidth\":0,\"ticks\":\"\"},\"colorscale\":[[0.0,\"#0d0887\"],[0.1111111111111111,\"#46039f\"],[0.2222222222222222,\"#7201a8\"],[0.3333333333333333,\"#9c179e\"],[0.4444444444444444,\"#bd3786\"],[0.5555555555555556,\"#d8576b\"],[0.6666666666666666,\"#ed7953\"],[0.7777777777777778,\"#fb9f3a\"],[0.8888888888888888,\"#fdca26\"],[1.0,\"#f0f921\"]]}],\"choropleth\":[{\"type\":\"choropleth\",\"colorbar\":{\"outlinewidth\":0,\"ticks\":\"\"}}],\"histogram2d\":[{\"type\":\"histogram2d\",\"colorbar\":{\"outlinewidth\":0,\"ticks\":\"\"},\"colorscale\":[[0.0,\"#0d0887\"],[0.1111111111111111,\"#46039f\"],[0.2222222222222222,\"#7201a8\"],[0.3333333333333333,\"#9c179e\"],[0.4444444444444444,\"#bd3786\"],[0.5555555555555556,\"#d8576b\"],[0.6666666666666666,\"#ed7953\"],[0.7777777777777778,\"#fb9f3a\"],[0.8888888888888888,\"#fdca26\"],[1.0,\"#f0f921\"]]}],\"heatmap\":[{\"type\":\"heatmap\",\"colorbar\":{\"outlinewidth\":0,\"ticks\":\"\"},\"colorscale\":[[0.0,\"#0d0887\"],[0.1111111111111111,\"#46039f\"],[0.2222222222222222,\"#7201a8\"],[0.3333333333333333,\"#9c179e\"],[0.4444444444444444,\"#bd3786\"],[0.5555555555555556,\"#d8576b\"],[0.6666666666666666,\"#ed7953\"],[0.7777777777777778,\"#fb9f3a\"],[0.8888888888888888,\"#fdca26\"],[1.0,\"#f0f921\"]]}],\"heatmapgl\":[{\"type\":\"heatmapgl\",\"colorbar\":{\"outlinewidth\":0,\"ticks\":\"\"},\"colorscale\":[[0.0,\"#0d0887\"],[0.1111111111111111,\"#46039f\"],[0.2222222222222222,\"#7201a8\"],[0.3333333333333333,\"#9c179e\"],[0.4444444444444444,\"#bd3786\"],[0.5555555555555556,\"#d8576b\"],[0.6666666666666666,\"#ed7953\"],[0.7777777777777778,\"#fb9f3a\"],[0.8888888888888888,\"#fdca26\"],[1.0,\"#f0f921\"]]}],\"contourcarpet\":[{\"type\":\"contourcarpet\",\"colorbar\":{\"outlinewidth\":0,\"ticks\":\"\"}}],\"contour\":[{\"type\":\"contour\",\"colorbar\":{\"outlinewidth\":0,\"ticks\":\"\"},\"colorscale\":[[0.0,\"#0d0887\"],[0.1111111111111111,\"#46039f\"],[0.2222222222222222,\"#7201a8\"],[0.3333333333333333,\"#9c179e\"],[0.4444444444444444,\"#bd3786\"],[0.5555555555555556,\"#d8576b\"],[0.6666666666666666,\"#ed7953\"],[0.7777777777777778,\"#fb9f3a\"],[0.8888888888888888,\"#fdca26\"],[1.0,\"#f0f921\"]]}],\"surface\":[{\"type\":\"surface\",\"colorbar\":{\"outlinewidth\":0,\"ticks\":\"\"},\"colorscale\":[[0.0,\"#0d0887\"],[0.1111111111111111,\"#46039f\"],[0.2222222222222222,\"#7201a8\"],[0.3333333333333333,\"#9c179e\"],[0.4444444444444444,\"#bd3786\"],[0.5555555555555556,\"#d8576b\"],[0.6666666666666666,\"#ed7953\"],[0.7777777777777778,\"#fb9f3a\"],[0.8888888888888888,\"#fdca26\"],[1.0,\"#f0f921\"]]}],\"mesh3d\":[{\"type\":\"mesh3d\",\"colorbar\":{\"outlinewidth\":0,\"ticks\":\"\"}}],\"scatter\":[{\"marker\":{\"line\":{\"color\":\"#283442\"}},\"type\":\"scatter\"}],\"parcoords\":[{\"type\":\"parcoords\",\"line\":{\"colorbar\":{\"outlinewidth\":0,\"ticks\":\"\"}}}],\"scatterpolargl\":[{\"type\":\"scatterpolargl\",\"marker\":{\"colorbar\":{\"outlinewidth\":0,\"ticks\":\"\"}}}],\"bar\":[{\"error_x\":{\"color\":\"#f2f5fa\"},\"error_y\":{\"color\":\"#f2f5fa\"},\"marker\":{\"line\":{\"color\":\"rgb(17,17,17)\",\"width\":0.5},\"pattern\":{\"fillmode\":\"overlay\",\"size\":10,\"solidity\":0.2}},\"type\":\"bar\"}],\"scattergeo\":[{\"type\":\"scattergeo\",\"marker\":{\"colorbar\":{\"outlinewidth\":0,\"ticks\":\"\"}}}],\"scatterpolar\":[{\"type\":\"scatterpolar\",\"marker\":{\"colorbar\":{\"outlinewidth\":0,\"ticks\":\"\"}}}],\"histogram\":[{\"marker\":{\"pattern\":{\"fillmode\":\"overlay\",\"size\":10,\"solidity\":0.2}},\"type\":\"histogram\"}],\"scattergl\":[{\"marker\":{\"line\":{\"color\":\"#283442\"}},\"type\":\"scattergl\"}],\"scatter3d\":[{\"type\":\"scatter3d\",\"line\":{\"colorbar\":{\"outlinewidth\":0,\"ticks\":\"\"}},\"marker\":{\"colorbar\":{\"outlinewidth\":0,\"ticks\":\"\"}}}],\"scattermapbox\":[{\"type\":\"scattermapbox\",\"marker\":{\"colorbar\":{\"outlinewidth\":0,\"ticks\":\"\"}}}],\"scatterternary\":[{\"type\":\"scatterternary\",\"marker\":{\"colorbar\":{\"outlinewidth\":0,\"ticks\":\"\"}}}],\"scattercarpet\":[{\"type\":\"scattercarpet\",\"marker\":{\"colorbar\":{\"outlinewidth\":0,\"ticks\":\"\"}}}],\"carpet\":[{\"aaxis\":{\"endlinecolor\":\"#A2B1C6\",\"gridcolor\":\"#506784\",\"linecolor\":\"#506784\",\"minorgridcolor\":\"#506784\",\"startlinecolor\":\"#A2B1C6\"},\"baxis\":{\"endlinecolor\":\"#A2B1C6\",\"gridcolor\":\"#506784\",\"linecolor\":\"#506784\",\"minorgridcolor\":\"#506784\",\"startlinecolor\":\"#A2B1C6\"},\"type\":\"carpet\"}],\"table\":[{\"cells\":{\"fill\":{\"color\":\"#506784\"},\"line\":{\"color\":\"rgb(17,17,17)\"}},\"header\":{\"fill\":{\"color\":\"#2a3f5f\"},\"line\":{\"color\":\"rgb(17,17,17)\"}},\"type\":\"table\"}],\"barpolar\":[{\"marker\":{\"line\":{\"color\":\"rgb(17,17,17)\",\"width\":0.5},\"pattern\":{\"fillmode\":\"overlay\",\"size\":10,\"solidity\":0.2}},\"type\":\"barpolar\"}],\"pie\":[{\"automargin\":true,\"type\":\"pie\"}]},\"layout\":{\"autotypenumbers\":\"strict\",\"colorway\":[\"#636efa\",\"#EF553B\",\"#00cc96\",\"#ab63fa\",\"#FFA15A\",\"#19d3f3\",\"#FF6692\",\"#B6E880\",\"#FF97FF\",\"#FECB52\"],\"font\":{\"color\":\"#f2f5fa\"},\"hovermode\":\"closest\",\"hoverlabel\":{\"align\":\"left\"},\"paper_bgcolor\":\"rgb(17,17,17)\",\"plot_bgcolor\":\"rgb(17,17,17)\",\"polar\":{\"bgcolor\":\"rgb(17,17,17)\",\"angularaxis\":{\"gridcolor\":\"#506784\",\"linecolor\":\"#506784\",\"ticks\":\"\"},\"radialaxis\":{\"gridcolor\":\"#506784\",\"linecolor\":\"#506784\",\"ticks\":\"\"}},\"ternary\":{\"bgcolor\":\"rgb(17,17,17)\",\"aaxis\":{\"gridcolor\":\"#506784\",\"linecolor\":\"#506784\",\"ticks\":\"\"},\"baxis\":{\"gridcolor\":\"#506784\",\"linecolor\":\"#506784\",\"ticks\":\"\"},\"caxis\":{\"gridcolor\":\"#506784\",\"linecolor\":\"#506784\",\"ticks\":\"\"}},\"coloraxis\":{\"colorbar\":{\"outlinewidth\":0,\"ticks\":\"\"}},\"colorscale\":{\"sequential\":[[0.0,\"#0d0887\"],[0.1111111111111111,\"#46039f\"],[0.2222222222222222,\"#7201a8\"],[0.3333333333333333,\"#9c179e\"],[0.4444444444444444,\"#bd3786\"],[0.5555555555555556,\"#d8576b\"],[0.6666666666666666,\"#ed7953\"],[0.7777777777777778,\"#fb9f3a\"],[0.8888888888888888,\"#fdca26\"],[1.0,\"#f0f921\"]],\"sequentialminus\":[[0.0,\"#0d0887\"],[0.1111111111111111,\"#46039f\"],[0.2222222222222222,\"#7201a8\"],[0.3333333333333333,\"#9c179e\"],[0.4444444444444444,\"#bd3786\"],[0.5555555555555556,\"#d8576b\"],[0.6666666666666666,\"#ed7953\"],[0.7777777777777778,\"#fb9f3a\"],[0.8888888888888888,\"#fdca26\"],[1.0,\"#f0f921\"]],\"diverging\":[[0,\"#8e0152\"],[0.1,\"#c51b7d\"],[0.2,\"#de77ae\"],[0.3,\"#f1b6da\"],[0.4,\"#fde0ef\"],[0.5,\"#f7f7f7\"],[0.6,\"#e6f5d0\"],[0.7,\"#b8e186\"],[0.8,\"#7fbc41\"],[0.9,\"#4d9221\"],[1,\"#276419\"]]},\"xaxis\":{\"gridcolor\":\"#283442\",\"linecolor\":\"#506784\",\"ticks\":\"\",\"title\":{\"standoff\":15},\"zerolinecolor\":\"#283442\",\"automargin\":true,\"zerolinewidth\":2},\"yaxis\":{\"gridcolor\":\"#283442\",\"linecolor\":\"#506784\",\"ticks\":\"\",\"title\":{\"standoff\":15},\"zerolinecolor\":\"#283442\",\"automargin\":true,\"zerolinewidth\":2},\"scene\":{\"xaxis\":{\"backgroundcolor\":\"rgb(17,17,17)\",\"gridcolor\":\"#506784\",\"linecolor\":\"#506784\",\"showbackground\":true,\"ticks\":\"\",\"zerolinecolor\":\"#C8D4E3\",\"gridwidth\":2},\"yaxis\":{\"backgroundcolor\":\"rgb(17,17,17)\",\"gridcolor\":\"#506784\",\"linecolor\":\"#506784\",\"showbackground\":true,\"ticks\":\"\",\"zerolinecolor\":\"#C8D4E3\",\"gridwidth\":2},\"zaxis\":{\"backgroundcolor\":\"rgb(17,17,17)\",\"gridcolor\":\"#506784\",\"linecolor\":\"#506784\",\"showbackground\":true,\"ticks\":\"\",\"zerolinecolor\":\"#C8D4E3\",\"gridwidth\":2}},\"shapedefaults\":{\"line\":{\"color\":\"#f2f5fa\"}},\"annotationdefaults\":{\"arrowcolor\":\"#f2f5fa\",\"arrowhead\":0,\"arrowwidth\":1},\"geo\":{\"bgcolor\":\"rgb(17,17,17)\",\"landcolor\":\"rgb(17,17,17)\",\"subunitcolor\":\"#506784\",\"showland\":true,\"showlakes\":true,\"lakecolor\":\"rgb(17,17,17)\"},\"title\":{\"x\":0.05},\"updatemenudefaults\":{\"bgcolor\":\"#506784\",\"borderwidth\":0},\"sliderdefaults\":{\"bgcolor\":\"#C8D4E3\",\"borderwidth\":1,\"bordercolor\":\"rgb(17,17,17)\",\"tickwidth\":0},\"mapbox\":{\"style\":\"dark\"}}},\"legend\":{\"tracegroupgap\":0},\"margin\":{\"t\":60}},                        {\"responsive\": true}                    ).then(function(){\n                            \nvar gd = document.getElementById('5a857a35-861b-4592-aa34-c04f4f1a6850');\nvar x = new MutationObserver(function (mutations, observer) {{\n        var display = window.getComputedStyle(gd).display;\n        if (!display || display === 'none') {{\n            console.log([gd, 'removed!']);\n            Plotly.purge(gd);\n            observer.disconnect();\n        }}\n}});\n\n// Listen for the removal of the full notebook cells\nvar notebookContainer = gd.closest('#notebook-container');\nif (notebookContainer) {{\n    x.observe(notebookContainer, {childList: true});\n}}\n\n// Listen for the clearing of the current output cell\nvar outputEl = gd.closest('.output');\nif (outputEl) {{\n    x.observe(outputEl, {childList: true});\n}}\n\n                        })                };                });            </script>        </div>"
     },
     "metadata": {},
     "output_type": "display_data"
    }
   ],
   "source": [
    "px.pie(newOwnership, values='Count', names='Type of ownership')"
   ],
   "metadata": {
    "collapsed": false
   }
  },
  {
   "cell_type": "code",
   "execution_count": 258,
   "outputs": [
    {
     "name": "stdout",
     "output_type": "stream",
     "text": [
      "Business Services\n",
      "Information Technology\n",
      "Finance\n",
      "Insurance\n",
      "Transportation & Logistics\n",
      "Media\n",
      "Manufacturing\n",
      "Consumer Services\n",
      "Education\n",
      "Retail\n",
      "Arts, Entertainment & Recreation\n",
      "Health Care\n",
      "Telecommunications\n",
      "Real Estate\n",
      "Agriculture & Forestry\n",
      "Restaurants, Bars & Food Services\n",
      "Accounting & Legal\n",
      "Non-Profit\n",
      "Oil, Gas, Energy & Utilities\n",
      "Aerospace & Defense\n",
      "Government\n",
      "Biotech & Pharmaceuticals\n",
      "Construction, Repair & Maintenance\n",
      "Travel & Tourism\n"
     ]
    }
   ],
   "source": [
    "for i in df['Sector'].unique():\n",
    "    print(i)"
   ],
   "metadata": {
    "collapsed": false
   }
  },
  {
   "cell_type": "code",
   "execution_count": 259,
   "outputs": [
    {
     "name": "stderr",
     "output_type": "stream",
     "text": [
      "C:\\Users\\Oleg Lastocichin\\AppData\\Local\\Temp\\ipykernel_11120\\94185159.py:6: FutureWarning:\n",
      "\n",
      "The behavior of `series[i:j]` with an integer-dtype index is deprecated. In a future version, this will be treated as *label-based* indexing, consistent with e.g. `series[i]` lookups. To retain the old behavior, use `series.iloc[i:j]`. To get the future behavior, use `series.loc[i:j]`.\n",
      "\n"
     ]
    }
   ],
   "source": [
    "Sector = df.groupby(['Sector']).size().reset_index(name='Count').sort_values('Count', ascending=False)\n",
    "newSector = Sector[:8].copy()\n",
    "\n",
    "newSector_row = pd.DataFrame(data={\n",
    "    'Sector': ['Others'],\n",
    "    'Count': [Sector['Count'][8:].sum()]\n",
    "})\n",
    "\n",
    "newSector = pd.concat([newSector, newSector_row])"
   ],
   "metadata": {
    "collapsed": false
   }
  },
  {
   "cell_type": "code",
   "execution_count": 260,
   "outputs": [
    {
     "data": {
      "application/vnd.plotly.v1+json": {
       "data": [
        {
         "domain": {
          "x": [
           0.0,
           1.0
          ],
          "y": [
           0.0,
           1.0
          ]
         },
         "hovertemplate": "Sector=%{label}<br>Count=%{value}<extra></extra>",
         "labels": [
          "Information Technology",
          "Business Services",
          "Finance",
          "Aerospace & Defense",
          "Manufacturing",
          "Insurance",
          "Media",
          "Health Care",
          "Others"
         ],
         "legendgroup": "",
         "name": "",
         "showlegend": true,
         "values": [
          1170,
          386,
          117,
          89,
          84,
          62,
          44,
          36,
          259
         ],
         "type": "pie"
        }
       ],
       "layout": {
        "template": {
         "data": {
          "histogram2dcontour": [
           {
            "type": "histogram2dcontour",
            "colorbar": {
             "outlinewidth": 0,
             "ticks": ""
            },
            "colorscale": [
             [
              0.0,
              "#0d0887"
             ],
             [
              0.1111111111111111,
              "#46039f"
             ],
             [
              0.2222222222222222,
              "#7201a8"
             ],
             [
              0.3333333333333333,
              "#9c179e"
             ],
             [
              0.4444444444444444,
              "#bd3786"
             ],
             [
              0.5555555555555556,
              "#d8576b"
             ],
             [
              0.6666666666666666,
              "#ed7953"
             ],
             [
              0.7777777777777778,
              "#fb9f3a"
             ],
             [
              0.8888888888888888,
              "#fdca26"
             ],
             [
              1.0,
              "#f0f921"
             ]
            ]
           }
          ],
          "choropleth": [
           {
            "type": "choropleth",
            "colorbar": {
             "outlinewidth": 0,
             "ticks": ""
            }
           }
          ],
          "histogram2d": [
           {
            "type": "histogram2d",
            "colorbar": {
             "outlinewidth": 0,
             "ticks": ""
            },
            "colorscale": [
             [
              0.0,
              "#0d0887"
             ],
             [
              0.1111111111111111,
              "#46039f"
             ],
             [
              0.2222222222222222,
              "#7201a8"
             ],
             [
              0.3333333333333333,
              "#9c179e"
             ],
             [
              0.4444444444444444,
              "#bd3786"
             ],
             [
              0.5555555555555556,
              "#d8576b"
             ],
             [
              0.6666666666666666,
              "#ed7953"
             ],
             [
              0.7777777777777778,
              "#fb9f3a"
             ],
             [
              0.8888888888888888,
              "#fdca26"
             ],
             [
              1.0,
              "#f0f921"
             ]
            ]
           }
          ],
          "heatmap": [
           {
            "type": "heatmap",
            "colorbar": {
             "outlinewidth": 0,
             "ticks": ""
            },
            "colorscale": [
             [
              0.0,
              "#0d0887"
             ],
             [
              0.1111111111111111,
              "#46039f"
             ],
             [
              0.2222222222222222,
              "#7201a8"
             ],
             [
              0.3333333333333333,
              "#9c179e"
             ],
             [
              0.4444444444444444,
              "#bd3786"
             ],
             [
              0.5555555555555556,
              "#d8576b"
             ],
             [
              0.6666666666666666,
              "#ed7953"
             ],
             [
              0.7777777777777778,
              "#fb9f3a"
             ],
             [
              0.8888888888888888,
              "#fdca26"
             ],
             [
              1.0,
              "#f0f921"
             ]
            ]
           }
          ],
          "heatmapgl": [
           {
            "type": "heatmapgl",
            "colorbar": {
             "outlinewidth": 0,
             "ticks": ""
            },
            "colorscale": [
             [
              0.0,
              "#0d0887"
             ],
             [
              0.1111111111111111,
              "#46039f"
             ],
             [
              0.2222222222222222,
              "#7201a8"
             ],
             [
              0.3333333333333333,
              "#9c179e"
             ],
             [
              0.4444444444444444,
              "#bd3786"
             ],
             [
              0.5555555555555556,
              "#d8576b"
             ],
             [
              0.6666666666666666,
              "#ed7953"
             ],
             [
              0.7777777777777778,
              "#fb9f3a"
             ],
             [
              0.8888888888888888,
              "#fdca26"
             ],
             [
              1.0,
              "#f0f921"
             ]
            ]
           }
          ],
          "contourcarpet": [
           {
            "type": "contourcarpet",
            "colorbar": {
             "outlinewidth": 0,
             "ticks": ""
            }
           }
          ],
          "contour": [
           {
            "type": "contour",
            "colorbar": {
             "outlinewidth": 0,
             "ticks": ""
            },
            "colorscale": [
             [
              0.0,
              "#0d0887"
             ],
             [
              0.1111111111111111,
              "#46039f"
             ],
             [
              0.2222222222222222,
              "#7201a8"
             ],
             [
              0.3333333333333333,
              "#9c179e"
             ],
             [
              0.4444444444444444,
              "#bd3786"
             ],
             [
              0.5555555555555556,
              "#d8576b"
             ],
             [
              0.6666666666666666,
              "#ed7953"
             ],
             [
              0.7777777777777778,
              "#fb9f3a"
             ],
             [
              0.8888888888888888,
              "#fdca26"
             ],
             [
              1.0,
              "#f0f921"
             ]
            ]
           }
          ],
          "surface": [
           {
            "type": "surface",
            "colorbar": {
             "outlinewidth": 0,
             "ticks": ""
            },
            "colorscale": [
             [
              0.0,
              "#0d0887"
             ],
             [
              0.1111111111111111,
              "#46039f"
             ],
             [
              0.2222222222222222,
              "#7201a8"
             ],
             [
              0.3333333333333333,
              "#9c179e"
             ],
             [
              0.4444444444444444,
              "#bd3786"
             ],
             [
              0.5555555555555556,
              "#d8576b"
             ],
             [
              0.6666666666666666,
              "#ed7953"
             ],
             [
              0.7777777777777778,
              "#fb9f3a"
             ],
             [
              0.8888888888888888,
              "#fdca26"
             ],
             [
              1.0,
              "#f0f921"
             ]
            ]
           }
          ],
          "mesh3d": [
           {
            "type": "mesh3d",
            "colorbar": {
             "outlinewidth": 0,
             "ticks": ""
            }
           }
          ],
          "scatter": [
           {
            "marker": {
             "line": {
              "color": "#283442"
             }
            },
            "type": "scatter"
           }
          ],
          "parcoords": [
           {
            "type": "parcoords",
            "line": {
             "colorbar": {
              "outlinewidth": 0,
              "ticks": ""
             }
            }
           }
          ],
          "scatterpolargl": [
           {
            "type": "scatterpolargl",
            "marker": {
             "colorbar": {
              "outlinewidth": 0,
              "ticks": ""
             }
            }
           }
          ],
          "bar": [
           {
            "error_x": {
             "color": "#f2f5fa"
            },
            "error_y": {
             "color": "#f2f5fa"
            },
            "marker": {
             "line": {
              "color": "rgb(17,17,17)",
              "width": 0.5
             },
             "pattern": {
              "fillmode": "overlay",
              "size": 10,
              "solidity": 0.2
             }
            },
            "type": "bar"
           }
          ],
          "scattergeo": [
           {
            "type": "scattergeo",
            "marker": {
             "colorbar": {
              "outlinewidth": 0,
              "ticks": ""
             }
            }
           }
          ],
          "scatterpolar": [
           {
            "type": "scatterpolar",
            "marker": {
             "colorbar": {
              "outlinewidth": 0,
              "ticks": ""
             }
            }
           }
          ],
          "histogram": [
           {
            "marker": {
             "pattern": {
              "fillmode": "overlay",
              "size": 10,
              "solidity": 0.2
             }
            },
            "type": "histogram"
           }
          ],
          "scattergl": [
           {
            "marker": {
             "line": {
              "color": "#283442"
             }
            },
            "type": "scattergl"
           }
          ],
          "scatter3d": [
           {
            "type": "scatter3d",
            "line": {
             "colorbar": {
              "outlinewidth": 0,
              "ticks": ""
             }
            },
            "marker": {
             "colorbar": {
              "outlinewidth": 0,
              "ticks": ""
             }
            }
           }
          ],
          "scattermapbox": [
           {
            "type": "scattermapbox",
            "marker": {
             "colorbar": {
              "outlinewidth": 0,
              "ticks": ""
             }
            }
           }
          ],
          "scatterternary": [
           {
            "type": "scatterternary",
            "marker": {
             "colorbar": {
              "outlinewidth": 0,
              "ticks": ""
             }
            }
           }
          ],
          "scattercarpet": [
           {
            "type": "scattercarpet",
            "marker": {
             "colorbar": {
              "outlinewidth": 0,
              "ticks": ""
             }
            }
           }
          ],
          "carpet": [
           {
            "aaxis": {
             "endlinecolor": "#A2B1C6",
             "gridcolor": "#506784",
             "linecolor": "#506784",
             "minorgridcolor": "#506784",
             "startlinecolor": "#A2B1C6"
            },
            "baxis": {
             "endlinecolor": "#A2B1C6",
             "gridcolor": "#506784",
             "linecolor": "#506784",
             "minorgridcolor": "#506784",
             "startlinecolor": "#A2B1C6"
            },
            "type": "carpet"
           }
          ],
          "table": [
           {
            "cells": {
             "fill": {
              "color": "#506784"
             },
             "line": {
              "color": "rgb(17,17,17)"
             }
            },
            "header": {
             "fill": {
              "color": "#2a3f5f"
             },
             "line": {
              "color": "rgb(17,17,17)"
             }
            },
            "type": "table"
           }
          ],
          "barpolar": [
           {
            "marker": {
             "line": {
              "color": "rgb(17,17,17)",
              "width": 0.5
             },
             "pattern": {
              "fillmode": "overlay",
              "size": 10,
              "solidity": 0.2
             }
            },
            "type": "barpolar"
           }
          ],
          "pie": [
           {
            "automargin": true,
            "type": "pie"
           }
          ]
         },
         "layout": {
          "autotypenumbers": "strict",
          "colorway": [
           "#636efa",
           "#EF553B",
           "#00cc96",
           "#ab63fa",
           "#FFA15A",
           "#19d3f3",
           "#FF6692",
           "#B6E880",
           "#FF97FF",
           "#FECB52"
          ],
          "font": {
           "color": "#f2f5fa"
          },
          "hovermode": "closest",
          "hoverlabel": {
           "align": "left"
          },
          "paper_bgcolor": "rgb(17,17,17)",
          "plot_bgcolor": "rgb(17,17,17)",
          "polar": {
           "bgcolor": "rgb(17,17,17)",
           "angularaxis": {
            "gridcolor": "#506784",
            "linecolor": "#506784",
            "ticks": ""
           },
           "radialaxis": {
            "gridcolor": "#506784",
            "linecolor": "#506784",
            "ticks": ""
           }
          },
          "ternary": {
           "bgcolor": "rgb(17,17,17)",
           "aaxis": {
            "gridcolor": "#506784",
            "linecolor": "#506784",
            "ticks": ""
           },
           "baxis": {
            "gridcolor": "#506784",
            "linecolor": "#506784",
            "ticks": ""
           },
           "caxis": {
            "gridcolor": "#506784",
            "linecolor": "#506784",
            "ticks": ""
           }
          },
          "coloraxis": {
           "colorbar": {
            "outlinewidth": 0,
            "ticks": ""
           }
          },
          "colorscale": {
           "sequential": [
            [
             0.0,
             "#0d0887"
            ],
            [
             0.1111111111111111,
             "#46039f"
            ],
            [
             0.2222222222222222,
             "#7201a8"
            ],
            [
             0.3333333333333333,
             "#9c179e"
            ],
            [
             0.4444444444444444,
             "#bd3786"
            ],
            [
             0.5555555555555556,
             "#d8576b"
            ],
            [
             0.6666666666666666,
             "#ed7953"
            ],
            [
             0.7777777777777778,
             "#fb9f3a"
            ],
            [
             0.8888888888888888,
             "#fdca26"
            ],
            [
             1.0,
             "#f0f921"
            ]
           ],
           "sequentialminus": [
            [
             0.0,
             "#0d0887"
            ],
            [
             0.1111111111111111,
             "#46039f"
            ],
            [
             0.2222222222222222,
             "#7201a8"
            ],
            [
             0.3333333333333333,
             "#9c179e"
            ],
            [
             0.4444444444444444,
             "#bd3786"
            ],
            [
             0.5555555555555556,
             "#d8576b"
            ],
            [
             0.6666666666666666,
             "#ed7953"
            ],
            [
             0.7777777777777778,
             "#fb9f3a"
            ],
            [
             0.8888888888888888,
             "#fdca26"
            ],
            [
             1.0,
             "#f0f921"
            ]
           ],
           "diverging": [
            [
             0,
             "#8e0152"
            ],
            [
             0.1,
             "#c51b7d"
            ],
            [
             0.2,
             "#de77ae"
            ],
            [
             0.3,
             "#f1b6da"
            ],
            [
             0.4,
             "#fde0ef"
            ],
            [
             0.5,
             "#f7f7f7"
            ],
            [
             0.6,
             "#e6f5d0"
            ],
            [
             0.7,
             "#b8e186"
            ],
            [
             0.8,
             "#7fbc41"
            ],
            [
             0.9,
             "#4d9221"
            ],
            [
             1,
             "#276419"
            ]
           ]
          },
          "xaxis": {
           "gridcolor": "#283442",
           "linecolor": "#506784",
           "ticks": "",
           "title": {
            "standoff": 15
           },
           "zerolinecolor": "#283442",
           "automargin": true,
           "zerolinewidth": 2
          },
          "yaxis": {
           "gridcolor": "#283442",
           "linecolor": "#506784",
           "ticks": "",
           "title": {
            "standoff": 15
           },
           "zerolinecolor": "#283442",
           "automargin": true,
           "zerolinewidth": 2
          },
          "scene": {
           "xaxis": {
            "backgroundcolor": "rgb(17,17,17)",
            "gridcolor": "#506784",
            "linecolor": "#506784",
            "showbackground": true,
            "ticks": "",
            "zerolinecolor": "#C8D4E3",
            "gridwidth": 2
           },
           "yaxis": {
            "backgroundcolor": "rgb(17,17,17)",
            "gridcolor": "#506784",
            "linecolor": "#506784",
            "showbackground": true,
            "ticks": "",
            "zerolinecolor": "#C8D4E3",
            "gridwidth": 2
           },
           "zaxis": {
            "backgroundcolor": "rgb(17,17,17)",
            "gridcolor": "#506784",
            "linecolor": "#506784",
            "showbackground": true,
            "ticks": "",
            "zerolinecolor": "#C8D4E3",
            "gridwidth": 2
           }
          },
          "shapedefaults": {
           "line": {
            "color": "#f2f5fa"
           }
          },
          "annotationdefaults": {
           "arrowcolor": "#f2f5fa",
           "arrowhead": 0,
           "arrowwidth": 1
          },
          "geo": {
           "bgcolor": "rgb(17,17,17)",
           "landcolor": "rgb(17,17,17)",
           "subunitcolor": "#506784",
           "showland": true,
           "showlakes": true,
           "lakecolor": "rgb(17,17,17)"
          },
          "title": {
           "x": 0.05
          },
          "updatemenudefaults": {
           "bgcolor": "#506784",
           "borderwidth": 0
          },
          "sliderdefaults": {
           "bgcolor": "#C8D4E3",
           "borderwidth": 1,
           "bordercolor": "rgb(17,17,17)",
           "tickwidth": 0
          },
          "mapbox": {
           "style": "dark"
          }
         }
        },
        "legend": {
         "tracegroupgap": 0
        },
        "margin": {
         "t": 60
        }
       },
       "config": {
        "plotlyServerURL": "https://plot.ly"
       }
      },
      "text/html": "<div>                            <div id=\"9e093d81-1d2c-4fde-aad4-c6f875346197\" class=\"plotly-graph-div\" style=\"height:525px; width:100%;\"></div>            <script type=\"text/javascript\">                require([\"plotly\"], function(Plotly) {                    window.PLOTLYENV=window.PLOTLYENV || {};                                    if (document.getElementById(\"9e093d81-1d2c-4fde-aad4-c6f875346197\")) {                    Plotly.newPlot(                        \"9e093d81-1d2c-4fde-aad4-c6f875346197\",                        [{\"domain\":{\"x\":[0.0,1.0],\"y\":[0.0,1.0]},\"hovertemplate\":\"Sector=%{label}<br>Count=%{value}<extra></extra>\",\"labels\":[\"Information Technology\",\"Business Services\",\"Finance\",\"Aerospace & Defense\",\"Manufacturing\",\"Insurance\",\"Media\",\"Health Care\",\"Others\"],\"legendgroup\":\"\",\"name\":\"\",\"showlegend\":true,\"values\":[1170,386,117,89,84,62,44,36,259],\"type\":\"pie\"}],                        {\"template\":{\"data\":{\"histogram2dcontour\":[{\"type\":\"histogram2dcontour\",\"colorbar\":{\"outlinewidth\":0,\"ticks\":\"\"},\"colorscale\":[[0.0,\"#0d0887\"],[0.1111111111111111,\"#46039f\"],[0.2222222222222222,\"#7201a8\"],[0.3333333333333333,\"#9c179e\"],[0.4444444444444444,\"#bd3786\"],[0.5555555555555556,\"#d8576b\"],[0.6666666666666666,\"#ed7953\"],[0.7777777777777778,\"#fb9f3a\"],[0.8888888888888888,\"#fdca26\"],[1.0,\"#f0f921\"]]}],\"choropleth\":[{\"type\":\"choropleth\",\"colorbar\":{\"outlinewidth\":0,\"ticks\":\"\"}}],\"histogram2d\":[{\"type\":\"histogram2d\",\"colorbar\":{\"outlinewidth\":0,\"ticks\":\"\"},\"colorscale\":[[0.0,\"#0d0887\"],[0.1111111111111111,\"#46039f\"],[0.2222222222222222,\"#7201a8\"],[0.3333333333333333,\"#9c179e\"],[0.4444444444444444,\"#bd3786\"],[0.5555555555555556,\"#d8576b\"],[0.6666666666666666,\"#ed7953\"],[0.7777777777777778,\"#fb9f3a\"],[0.8888888888888888,\"#fdca26\"],[1.0,\"#f0f921\"]]}],\"heatmap\":[{\"type\":\"heatmap\",\"colorbar\":{\"outlinewidth\":0,\"ticks\":\"\"},\"colorscale\":[[0.0,\"#0d0887\"],[0.1111111111111111,\"#46039f\"],[0.2222222222222222,\"#7201a8\"],[0.3333333333333333,\"#9c179e\"],[0.4444444444444444,\"#bd3786\"],[0.5555555555555556,\"#d8576b\"],[0.6666666666666666,\"#ed7953\"],[0.7777777777777778,\"#fb9f3a\"],[0.8888888888888888,\"#fdca26\"],[1.0,\"#f0f921\"]]}],\"heatmapgl\":[{\"type\":\"heatmapgl\",\"colorbar\":{\"outlinewidth\":0,\"ticks\":\"\"},\"colorscale\":[[0.0,\"#0d0887\"],[0.1111111111111111,\"#46039f\"],[0.2222222222222222,\"#7201a8\"],[0.3333333333333333,\"#9c179e\"],[0.4444444444444444,\"#bd3786\"],[0.5555555555555556,\"#d8576b\"],[0.6666666666666666,\"#ed7953\"],[0.7777777777777778,\"#fb9f3a\"],[0.8888888888888888,\"#fdca26\"],[1.0,\"#f0f921\"]]}],\"contourcarpet\":[{\"type\":\"contourcarpet\",\"colorbar\":{\"outlinewidth\":0,\"ticks\":\"\"}}],\"contour\":[{\"type\":\"contour\",\"colorbar\":{\"outlinewidth\":0,\"ticks\":\"\"},\"colorscale\":[[0.0,\"#0d0887\"],[0.1111111111111111,\"#46039f\"],[0.2222222222222222,\"#7201a8\"],[0.3333333333333333,\"#9c179e\"],[0.4444444444444444,\"#bd3786\"],[0.5555555555555556,\"#d8576b\"],[0.6666666666666666,\"#ed7953\"],[0.7777777777777778,\"#fb9f3a\"],[0.8888888888888888,\"#fdca26\"],[1.0,\"#f0f921\"]]}],\"surface\":[{\"type\":\"surface\",\"colorbar\":{\"outlinewidth\":0,\"ticks\":\"\"},\"colorscale\":[[0.0,\"#0d0887\"],[0.1111111111111111,\"#46039f\"],[0.2222222222222222,\"#7201a8\"],[0.3333333333333333,\"#9c179e\"],[0.4444444444444444,\"#bd3786\"],[0.5555555555555556,\"#d8576b\"],[0.6666666666666666,\"#ed7953\"],[0.7777777777777778,\"#fb9f3a\"],[0.8888888888888888,\"#fdca26\"],[1.0,\"#f0f921\"]]}],\"mesh3d\":[{\"type\":\"mesh3d\",\"colorbar\":{\"outlinewidth\":0,\"ticks\":\"\"}}],\"scatter\":[{\"marker\":{\"line\":{\"color\":\"#283442\"}},\"type\":\"scatter\"}],\"parcoords\":[{\"type\":\"parcoords\",\"line\":{\"colorbar\":{\"outlinewidth\":0,\"ticks\":\"\"}}}],\"scatterpolargl\":[{\"type\":\"scatterpolargl\",\"marker\":{\"colorbar\":{\"outlinewidth\":0,\"ticks\":\"\"}}}],\"bar\":[{\"error_x\":{\"color\":\"#f2f5fa\"},\"error_y\":{\"color\":\"#f2f5fa\"},\"marker\":{\"line\":{\"color\":\"rgb(17,17,17)\",\"width\":0.5},\"pattern\":{\"fillmode\":\"overlay\",\"size\":10,\"solidity\":0.2}},\"type\":\"bar\"}],\"scattergeo\":[{\"type\":\"scattergeo\",\"marker\":{\"colorbar\":{\"outlinewidth\":0,\"ticks\":\"\"}}}],\"scatterpolar\":[{\"type\":\"scatterpolar\",\"marker\":{\"colorbar\":{\"outlinewidth\":0,\"ticks\":\"\"}}}],\"histogram\":[{\"marker\":{\"pattern\":{\"fillmode\":\"overlay\",\"size\":10,\"solidity\":0.2}},\"type\":\"histogram\"}],\"scattergl\":[{\"marker\":{\"line\":{\"color\":\"#283442\"}},\"type\":\"scattergl\"}],\"scatter3d\":[{\"type\":\"scatter3d\",\"line\":{\"colorbar\":{\"outlinewidth\":0,\"ticks\":\"\"}},\"marker\":{\"colorbar\":{\"outlinewidth\":0,\"ticks\":\"\"}}}],\"scattermapbox\":[{\"type\":\"scattermapbox\",\"marker\":{\"colorbar\":{\"outlinewidth\":0,\"ticks\":\"\"}}}],\"scatterternary\":[{\"type\":\"scatterternary\",\"marker\":{\"colorbar\":{\"outlinewidth\":0,\"ticks\":\"\"}}}],\"scattercarpet\":[{\"type\":\"scattercarpet\",\"marker\":{\"colorbar\":{\"outlinewidth\":0,\"ticks\":\"\"}}}],\"carpet\":[{\"aaxis\":{\"endlinecolor\":\"#A2B1C6\",\"gridcolor\":\"#506784\",\"linecolor\":\"#506784\",\"minorgridcolor\":\"#506784\",\"startlinecolor\":\"#A2B1C6\"},\"baxis\":{\"endlinecolor\":\"#A2B1C6\",\"gridcolor\":\"#506784\",\"linecolor\":\"#506784\",\"minorgridcolor\":\"#506784\",\"startlinecolor\":\"#A2B1C6\"},\"type\":\"carpet\"}],\"table\":[{\"cells\":{\"fill\":{\"color\":\"#506784\"},\"line\":{\"color\":\"rgb(17,17,17)\"}},\"header\":{\"fill\":{\"color\":\"#2a3f5f\"},\"line\":{\"color\":\"rgb(17,17,17)\"}},\"type\":\"table\"}],\"barpolar\":[{\"marker\":{\"line\":{\"color\":\"rgb(17,17,17)\",\"width\":0.5},\"pattern\":{\"fillmode\":\"overlay\",\"size\":10,\"solidity\":0.2}},\"type\":\"barpolar\"}],\"pie\":[{\"automargin\":true,\"type\":\"pie\"}]},\"layout\":{\"autotypenumbers\":\"strict\",\"colorway\":[\"#636efa\",\"#EF553B\",\"#00cc96\",\"#ab63fa\",\"#FFA15A\",\"#19d3f3\",\"#FF6692\",\"#B6E880\",\"#FF97FF\",\"#FECB52\"],\"font\":{\"color\":\"#f2f5fa\"},\"hovermode\":\"closest\",\"hoverlabel\":{\"align\":\"left\"},\"paper_bgcolor\":\"rgb(17,17,17)\",\"plot_bgcolor\":\"rgb(17,17,17)\",\"polar\":{\"bgcolor\":\"rgb(17,17,17)\",\"angularaxis\":{\"gridcolor\":\"#506784\",\"linecolor\":\"#506784\",\"ticks\":\"\"},\"radialaxis\":{\"gridcolor\":\"#506784\",\"linecolor\":\"#506784\",\"ticks\":\"\"}},\"ternary\":{\"bgcolor\":\"rgb(17,17,17)\",\"aaxis\":{\"gridcolor\":\"#506784\",\"linecolor\":\"#506784\",\"ticks\":\"\"},\"baxis\":{\"gridcolor\":\"#506784\",\"linecolor\":\"#506784\",\"ticks\":\"\"},\"caxis\":{\"gridcolor\":\"#506784\",\"linecolor\":\"#506784\",\"ticks\":\"\"}},\"coloraxis\":{\"colorbar\":{\"outlinewidth\":0,\"ticks\":\"\"}},\"colorscale\":{\"sequential\":[[0.0,\"#0d0887\"],[0.1111111111111111,\"#46039f\"],[0.2222222222222222,\"#7201a8\"],[0.3333333333333333,\"#9c179e\"],[0.4444444444444444,\"#bd3786\"],[0.5555555555555556,\"#d8576b\"],[0.6666666666666666,\"#ed7953\"],[0.7777777777777778,\"#fb9f3a\"],[0.8888888888888888,\"#fdca26\"],[1.0,\"#f0f921\"]],\"sequentialminus\":[[0.0,\"#0d0887\"],[0.1111111111111111,\"#46039f\"],[0.2222222222222222,\"#7201a8\"],[0.3333333333333333,\"#9c179e\"],[0.4444444444444444,\"#bd3786\"],[0.5555555555555556,\"#d8576b\"],[0.6666666666666666,\"#ed7953\"],[0.7777777777777778,\"#fb9f3a\"],[0.8888888888888888,\"#fdca26\"],[1.0,\"#f0f921\"]],\"diverging\":[[0,\"#8e0152\"],[0.1,\"#c51b7d\"],[0.2,\"#de77ae\"],[0.3,\"#f1b6da\"],[0.4,\"#fde0ef\"],[0.5,\"#f7f7f7\"],[0.6,\"#e6f5d0\"],[0.7,\"#b8e186\"],[0.8,\"#7fbc41\"],[0.9,\"#4d9221\"],[1,\"#276419\"]]},\"xaxis\":{\"gridcolor\":\"#283442\",\"linecolor\":\"#506784\",\"ticks\":\"\",\"title\":{\"standoff\":15},\"zerolinecolor\":\"#283442\",\"automargin\":true,\"zerolinewidth\":2},\"yaxis\":{\"gridcolor\":\"#283442\",\"linecolor\":\"#506784\",\"ticks\":\"\",\"title\":{\"standoff\":15},\"zerolinecolor\":\"#283442\",\"automargin\":true,\"zerolinewidth\":2},\"scene\":{\"xaxis\":{\"backgroundcolor\":\"rgb(17,17,17)\",\"gridcolor\":\"#506784\",\"linecolor\":\"#506784\",\"showbackground\":true,\"ticks\":\"\",\"zerolinecolor\":\"#C8D4E3\",\"gridwidth\":2},\"yaxis\":{\"backgroundcolor\":\"rgb(17,17,17)\",\"gridcolor\":\"#506784\",\"linecolor\":\"#506784\",\"showbackground\":true,\"ticks\":\"\",\"zerolinecolor\":\"#C8D4E3\",\"gridwidth\":2},\"zaxis\":{\"backgroundcolor\":\"rgb(17,17,17)\",\"gridcolor\":\"#506784\",\"linecolor\":\"#506784\",\"showbackground\":true,\"ticks\":\"\",\"zerolinecolor\":\"#C8D4E3\",\"gridwidth\":2}},\"shapedefaults\":{\"line\":{\"color\":\"#f2f5fa\"}},\"annotationdefaults\":{\"arrowcolor\":\"#f2f5fa\",\"arrowhead\":0,\"arrowwidth\":1},\"geo\":{\"bgcolor\":\"rgb(17,17,17)\",\"landcolor\":\"rgb(17,17,17)\",\"subunitcolor\":\"#506784\",\"showland\":true,\"showlakes\":true,\"lakecolor\":\"rgb(17,17,17)\"},\"title\":{\"x\":0.05},\"updatemenudefaults\":{\"bgcolor\":\"#506784\",\"borderwidth\":0},\"sliderdefaults\":{\"bgcolor\":\"#C8D4E3\",\"borderwidth\":1,\"bordercolor\":\"rgb(17,17,17)\",\"tickwidth\":0},\"mapbox\":{\"style\":\"dark\"}}},\"legend\":{\"tracegroupgap\":0},\"margin\":{\"t\":60}},                        {\"responsive\": true}                    ).then(function(){\n                            \nvar gd = document.getElementById('9e093d81-1d2c-4fde-aad4-c6f875346197');\nvar x = new MutationObserver(function (mutations, observer) {{\n        var display = window.getComputedStyle(gd).display;\n        if (!display || display === 'none') {{\n            console.log([gd, 'removed!']);\n            Plotly.purge(gd);\n            observer.disconnect();\n        }}\n}});\n\n// Listen for the removal of the full notebook cells\nvar notebookContainer = gd.closest('#notebook-container');\nif (notebookContainer) {{\n    x.observe(notebookContainer, {childList: true});\n}}\n\n// Listen for the clearing of the current output cell\nvar outputEl = gd.closest('.output');\nif (outputEl) {{\n    x.observe(outputEl, {childList: true});\n}}\n\n                        })                };                });            </script>        </div>"
     },
     "metadata": {},
     "output_type": "display_data"
    }
   ],
   "source": [
    "px.pie(newSector, values='Count', names='Sector')"
   ],
   "metadata": {
    "collapsed": false
   }
  },
  {
   "cell_type": "code",
   "execution_count": 266,
   "outputs": [
    {
     "name": "stderr",
     "output_type": "stream",
     "text": [
      "C:\\Users\\Oleg Lastocichin\\AppData\\Local\\Temp\\ipykernel_11120\\3729328648.py:1: FutureWarning:\n",
      "\n",
      "The default value of numeric_only in DataFrameGroupBy.mean is deprecated. In a future version, numeric_only will default to False. Either specify numeric_only or select only columns which should be valid for the function.\n",
      "\n"
     ]
    }
   ],
   "source": [
    "SectorSalary = df.groupby(['Sector']).mean().reset_index().sort_values('Salary Estimate mean', ascending=True)"
   ],
   "metadata": {
    "collapsed": false
   }
  },
  {
   "cell_type": "code",
   "execution_count": 267,
   "outputs": [
    {
     "data": {
      "text/plain": "                                Sector    Rating      Founded  \\\n2               Agriculture & Forestry  4.900000  2014.000000   \n18                         Real Estate  3.928889  1970.666667   \n10                          Government  3.759091  1950.590909   \n6   Construction, Repair & Maintenance  3.500000  1989.428571   \n1                  Aerospace & Defense  3.675281  1962.932584   \n23                    Travel & Tourism  3.550000  1949.250000   \n13                           Insurance  3.546774  1960.661290   \n22          Transportation & Logistics  3.795238  1987.095238   \n20                              Retail  3.623529  1965.970588   \n5                    Business Services  3.735147  1989.028497   \n9                              Finance  3.704274  1982.760684   \n17        Oil, Gas, Energy & Utilities  3.771429  1979.821429   \n7                    Consumer Services  3.911111  1995.166667   \n21                  Telecommunications  3.659524  1995.571429   \n3     Arts, Entertainment & Recreation  3.340000  1978.400000   \n19   Restaurants, Bars & Food Services  3.500000  1985.000000   \n12              Information Technology  3.905128  1994.113675   \n8                            Education  4.022222  1983.166667   \n14                       Manufacturing  3.732937  1979.130952   \n16                          Non-Profit  3.600000  1954.000000   \n11                         Health Care  3.762037  1988.027778   \n0                   Accounting & Legal  3.776000  1982.520000   \n15                               Media  3.854545  1988.136364   \n4            Biotech & Pharmaceuticals  3.712500  1992.666667   \n\n    Salary Estimate mean   latitude   longitude  \n2           66000.000000  43.299428  -74.217933  \n18          85066.666667  33.849918  -89.772445  \n10          85613.636364  33.484054 -101.156263  \n6           85642.857143  32.673021  -94.031335  \n1           88213.483146  32.777486 -100.448387  \n23          90125.000000  33.008764 -105.497772  \n13          90645.161290  34.773435  -92.558916  \n22          96142.857143  34.883036  -98.024483  \n20          96558.823529  34.654268 -104.491047  \n5           97204.663212  34.915759  -97.039150  \n9           97478.632479  36.291392  -93.888981  \n17          97589.285714  33.487090 -101.764885  \n7           97750.000000  37.225234  -95.607969  \n21          99535.714286  35.778012  -99.690830  \n3           99900.000000  41.812765  -75.446115  \n19         100571.428571  35.112424  -94.350662  \n12         102427.777778  35.608072 -100.688754  \n8          102708.333333  35.364563 -105.921899  \n14         104363.095238  34.774314 -105.789221  \n16         105750.000000  36.778261 -119.417932  \n11         106750.000000  34.863937  -96.092022  \n0          107820.000000  34.718763 -101.883997  \n15         110443.181818  37.246720 -103.184406  \n4          112708.333333  36.187161 -111.927628  ",
      "text/html": "<div>\n<style scoped>\n    .dataframe tbody tr th:only-of-type {\n        vertical-align: middle;\n    }\n\n    .dataframe tbody tr th {\n        vertical-align: top;\n    }\n\n    .dataframe thead th {\n        text-align: right;\n    }\n</style>\n<table border=\"1\" class=\"dataframe\">\n  <thead>\n    <tr style=\"text-align: right;\">\n      <th></th>\n      <th>Sector</th>\n      <th>Rating</th>\n      <th>Founded</th>\n      <th>Salary Estimate mean</th>\n      <th>latitude</th>\n      <th>longitude</th>\n    </tr>\n  </thead>\n  <tbody>\n    <tr>\n      <th>2</th>\n      <td>Agriculture &amp; Forestry</td>\n      <td>4.900000</td>\n      <td>2014.000000</td>\n      <td>66000.000000</td>\n      <td>43.299428</td>\n      <td>-74.217933</td>\n    </tr>\n    <tr>\n      <th>18</th>\n      <td>Real Estate</td>\n      <td>3.928889</td>\n      <td>1970.666667</td>\n      <td>85066.666667</td>\n      <td>33.849918</td>\n      <td>-89.772445</td>\n    </tr>\n    <tr>\n      <th>10</th>\n      <td>Government</td>\n      <td>3.759091</td>\n      <td>1950.590909</td>\n      <td>85613.636364</td>\n      <td>33.484054</td>\n      <td>-101.156263</td>\n    </tr>\n    <tr>\n      <th>6</th>\n      <td>Construction, Repair &amp; Maintenance</td>\n      <td>3.500000</td>\n      <td>1989.428571</td>\n      <td>85642.857143</td>\n      <td>32.673021</td>\n      <td>-94.031335</td>\n    </tr>\n    <tr>\n      <th>1</th>\n      <td>Aerospace &amp; Defense</td>\n      <td>3.675281</td>\n      <td>1962.932584</td>\n      <td>88213.483146</td>\n      <td>32.777486</td>\n      <td>-100.448387</td>\n    </tr>\n    <tr>\n      <th>23</th>\n      <td>Travel &amp; Tourism</td>\n      <td>3.550000</td>\n      <td>1949.250000</td>\n      <td>90125.000000</td>\n      <td>33.008764</td>\n      <td>-105.497772</td>\n    </tr>\n    <tr>\n      <th>13</th>\n      <td>Insurance</td>\n      <td>3.546774</td>\n      <td>1960.661290</td>\n      <td>90645.161290</td>\n      <td>34.773435</td>\n      <td>-92.558916</td>\n    </tr>\n    <tr>\n      <th>22</th>\n      <td>Transportation &amp; Logistics</td>\n      <td>3.795238</td>\n      <td>1987.095238</td>\n      <td>96142.857143</td>\n      <td>34.883036</td>\n      <td>-98.024483</td>\n    </tr>\n    <tr>\n      <th>20</th>\n      <td>Retail</td>\n      <td>3.623529</td>\n      <td>1965.970588</td>\n      <td>96558.823529</td>\n      <td>34.654268</td>\n      <td>-104.491047</td>\n    </tr>\n    <tr>\n      <th>5</th>\n      <td>Business Services</td>\n      <td>3.735147</td>\n      <td>1989.028497</td>\n      <td>97204.663212</td>\n      <td>34.915759</td>\n      <td>-97.039150</td>\n    </tr>\n    <tr>\n      <th>9</th>\n      <td>Finance</td>\n      <td>3.704274</td>\n      <td>1982.760684</td>\n      <td>97478.632479</td>\n      <td>36.291392</td>\n      <td>-93.888981</td>\n    </tr>\n    <tr>\n      <th>17</th>\n      <td>Oil, Gas, Energy &amp; Utilities</td>\n      <td>3.771429</td>\n      <td>1979.821429</td>\n      <td>97589.285714</td>\n      <td>33.487090</td>\n      <td>-101.764885</td>\n    </tr>\n    <tr>\n      <th>7</th>\n      <td>Consumer Services</td>\n      <td>3.911111</td>\n      <td>1995.166667</td>\n      <td>97750.000000</td>\n      <td>37.225234</td>\n      <td>-95.607969</td>\n    </tr>\n    <tr>\n      <th>21</th>\n      <td>Telecommunications</td>\n      <td>3.659524</td>\n      <td>1995.571429</td>\n      <td>99535.714286</td>\n      <td>35.778012</td>\n      <td>-99.690830</td>\n    </tr>\n    <tr>\n      <th>3</th>\n      <td>Arts, Entertainment &amp; Recreation</td>\n      <td>3.340000</td>\n      <td>1978.400000</td>\n      <td>99900.000000</td>\n      <td>41.812765</td>\n      <td>-75.446115</td>\n    </tr>\n    <tr>\n      <th>19</th>\n      <td>Restaurants, Bars &amp; Food Services</td>\n      <td>3.500000</td>\n      <td>1985.000000</td>\n      <td>100571.428571</td>\n      <td>35.112424</td>\n      <td>-94.350662</td>\n    </tr>\n    <tr>\n      <th>12</th>\n      <td>Information Technology</td>\n      <td>3.905128</td>\n      <td>1994.113675</td>\n      <td>102427.777778</td>\n      <td>35.608072</td>\n      <td>-100.688754</td>\n    </tr>\n    <tr>\n      <th>8</th>\n      <td>Education</td>\n      <td>4.022222</td>\n      <td>1983.166667</td>\n      <td>102708.333333</td>\n      <td>35.364563</td>\n      <td>-105.921899</td>\n    </tr>\n    <tr>\n      <th>14</th>\n      <td>Manufacturing</td>\n      <td>3.732937</td>\n      <td>1979.130952</td>\n      <td>104363.095238</td>\n      <td>34.774314</td>\n      <td>-105.789221</td>\n    </tr>\n    <tr>\n      <th>16</th>\n      <td>Non-Profit</td>\n      <td>3.600000</td>\n      <td>1954.000000</td>\n      <td>105750.000000</td>\n      <td>36.778261</td>\n      <td>-119.417932</td>\n    </tr>\n    <tr>\n      <th>11</th>\n      <td>Health Care</td>\n      <td>3.762037</td>\n      <td>1988.027778</td>\n      <td>106750.000000</td>\n      <td>34.863937</td>\n      <td>-96.092022</td>\n    </tr>\n    <tr>\n      <th>0</th>\n      <td>Accounting &amp; Legal</td>\n      <td>3.776000</td>\n      <td>1982.520000</td>\n      <td>107820.000000</td>\n      <td>34.718763</td>\n      <td>-101.883997</td>\n    </tr>\n    <tr>\n      <th>15</th>\n      <td>Media</td>\n      <td>3.854545</td>\n      <td>1988.136364</td>\n      <td>110443.181818</td>\n      <td>37.246720</td>\n      <td>-103.184406</td>\n    </tr>\n    <tr>\n      <th>4</th>\n      <td>Biotech &amp; Pharmaceuticals</td>\n      <td>3.712500</td>\n      <td>1992.666667</td>\n      <td>112708.333333</td>\n      <td>36.187161</td>\n      <td>-111.927628</td>\n    </tr>\n  </tbody>\n</table>\n</div>"
     },
     "execution_count": 267,
     "metadata": {},
     "output_type": "execute_result"
    }
   ],
   "source": [
    "SectorSalary"
   ],
   "metadata": {
    "collapsed": false
   }
  },
  {
   "cell_type": "code",
   "execution_count": 269,
   "outputs": [
    {
     "data": {
      "application/vnd.plotly.v1+json": {
       "data": [
        {
         "hovertemplate": "Sector=%{x}<br>Salary Estimate mean=%{y}<extra></extra>",
         "legendgroup": "",
         "line": {
          "color": "#636efa",
          "dash": "solid"
         },
         "marker": {
          "symbol": "circle"
         },
         "mode": "lines",
         "name": "",
         "orientation": "v",
         "showlegend": false,
         "x": [
          "Agriculture & Forestry",
          "Real Estate",
          "Government",
          "Construction, Repair & Maintenance",
          "Aerospace & Defense",
          "Travel & Tourism"
         ],
         "xaxis": "x",
         "y": [
          66000.0,
          85066.66666666667,
          85613.63636363637,
          85642.85714285714,
          88213.48314606742,
          90125.0
         ],
         "yaxis": "y",
         "type": "scatter"
        }
       ],
       "layout": {
        "template": {
         "data": {
          "histogram2dcontour": [
           {
            "type": "histogram2dcontour",
            "colorbar": {
             "outlinewidth": 0,
             "ticks": ""
            },
            "colorscale": [
             [
              0.0,
              "#0d0887"
             ],
             [
              0.1111111111111111,
              "#46039f"
             ],
             [
              0.2222222222222222,
              "#7201a8"
             ],
             [
              0.3333333333333333,
              "#9c179e"
             ],
             [
              0.4444444444444444,
              "#bd3786"
             ],
             [
              0.5555555555555556,
              "#d8576b"
             ],
             [
              0.6666666666666666,
              "#ed7953"
             ],
             [
              0.7777777777777778,
              "#fb9f3a"
             ],
             [
              0.8888888888888888,
              "#fdca26"
             ],
             [
              1.0,
              "#f0f921"
             ]
            ]
           }
          ],
          "choropleth": [
           {
            "type": "choropleth",
            "colorbar": {
             "outlinewidth": 0,
             "ticks": ""
            }
           }
          ],
          "histogram2d": [
           {
            "type": "histogram2d",
            "colorbar": {
             "outlinewidth": 0,
             "ticks": ""
            },
            "colorscale": [
             [
              0.0,
              "#0d0887"
             ],
             [
              0.1111111111111111,
              "#46039f"
             ],
             [
              0.2222222222222222,
              "#7201a8"
             ],
             [
              0.3333333333333333,
              "#9c179e"
             ],
             [
              0.4444444444444444,
              "#bd3786"
             ],
             [
              0.5555555555555556,
              "#d8576b"
             ],
             [
              0.6666666666666666,
              "#ed7953"
             ],
             [
              0.7777777777777778,
              "#fb9f3a"
             ],
             [
              0.8888888888888888,
              "#fdca26"
             ],
             [
              1.0,
              "#f0f921"
             ]
            ]
           }
          ],
          "heatmap": [
           {
            "type": "heatmap",
            "colorbar": {
             "outlinewidth": 0,
             "ticks": ""
            },
            "colorscale": [
             [
              0.0,
              "#0d0887"
             ],
             [
              0.1111111111111111,
              "#46039f"
             ],
             [
              0.2222222222222222,
              "#7201a8"
             ],
             [
              0.3333333333333333,
              "#9c179e"
             ],
             [
              0.4444444444444444,
              "#bd3786"
             ],
             [
              0.5555555555555556,
              "#d8576b"
             ],
             [
              0.6666666666666666,
              "#ed7953"
             ],
             [
              0.7777777777777778,
              "#fb9f3a"
             ],
             [
              0.8888888888888888,
              "#fdca26"
             ],
             [
              1.0,
              "#f0f921"
             ]
            ]
           }
          ],
          "heatmapgl": [
           {
            "type": "heatmapgl",
            "colorbar": {
             "outlinewidth": 0,
             "ticks": ""
            },
            "colorscale": [
             [
              0.0,
              "#0d0887"
             ],
             [
              0.1111111111111111,
              "#46039f"
             ],
             [
              0.2222222222222222,
              "#7201a8"
             ],
             [
              0.3333333333333333,
              "#9c179e"
             ],
             [
              0.4444444444444444,
              "#bd3786"
             ],
             [
              0.5555555555555556,
              "#d8576b"
             ],
             [
              0.6666666666666666,
              "#ed7953"
             ],
             [
              0.7777777777777778,
              "#fb9f3a"
             ],
             [
              0.8888888888888888,
              "#fdca26"
             ],
             [
              1.0,
              "#f0f921"
             ]
            ]
           }
          ],
          "contourcarpet": [
           {
            "type": "contourcarpet",
            "colorbar": {
             "outlinewidth": 0,
             "ticks": ""
            }
           }
          ],
          "contour": [
           {
            "type": "contour",
            "colorbar": {
             "outlinewidth": 0,
             "ticks": ""
            },
            "colorscale": [
             [
              0.0,
              "#0d0887"
             ],
             [
              0.1111111111111111,
              "#46039f"
             ],
             [
              0.2222222222222222,
              "#7201a8"
             ],
             [
              0.3333333333333333,
              "#9c179e"
             ],
             [
              0.4444444444444444,
              "#bd3786"
             ],
             [
              0.5555555555555556,
              "#d8576b"
             ],
             [
              0.6666666666666666,
              "#ed7953"
             ],
             [
              0.7777777777777778,
              "#fb9f3a"
             ],
             [
              0.8888888888888888,
              "#fdca26"
             ],
             [
              1.0,
              "#f0f921"
             ]
            ]
           }
          ],
          "surface": [
           {
            "type": "surface",
            "colorbar": {
             "outlinewidth": 0,
             "ticks": ""
            },
            "colorscale": [
             [
              0.0,
              "#0d0887"
             ],
             [
              0.1111111111111111,
              "#46039f"
             ],
             [
              0.2222222222222222,
              "#7201a8"
             ],
             [
              0.3333333333333333,
              "#9c179e"
             ],
             [
              0.4444444444444444,
              "#bd3786"
             ],
             [
              0.5555555555555556,
              "#d8576b"
             ],
             [
              0.6666666666666666,
              "#ed7953"
             ],
             [
              0.7777777777777778,
              "#fb9f3a"
             ],
             [
              0.8888888888888888,
              "#fdca26"
             ],
             [
              1.0,
              "#f0f921"
             ]
            ]
           }
          ],
          "mesh3d": [
           {
            "type": "mesh3d",
            "colorbar": {
             "outlinewidth": 0,
             "ticks": ""
            }
           }
          ],
          "scatter": [
           {
            "marker": {
             "line": {
              "color": "#283442"
             }
            },
            "type": "scatter"
           }
          ],
          "parcoords": [
           {
            "type": "parcoords",
            "line": {
             "colorbar": {
              "outlinewidth": 0,
              "ticks": ""
             }
            }
           }
          ],
          "scatterpolargl": [
           {
            "type": "scatterpolargl",
            "marker": {
             "colorbar": {
              "outlinewidth": 0,
              "ticks": ""
             }
            }
           }
          ],
          "bar": [
           {
            "error_x": {
             "color": "#f2f5fa"
            },
            "error_y": {
             "color": "#f2f5fa"
            },
            "marker": {
             "line": {
              "color": "rgb(17,17,17)",
              "width": 0.5
             },
             "pattern": {
              "fillmode": "overlay",
              "size": 10,
              "solidity": 0.2
             }
            },
            "type": "bar"
           }
          ],
          "scattergeo": [
           {
            "type": "scattergeo",
            "marker": {
             "colorbar": {
              "outlinewidth": 0,
              "ticks": ""
             }
            }
           }
          ],
          "scatterpolar": [
           {
            "type": "scatterpolar",
            "marker": {
             "colorbar": {
              "outlinewidth": 0,
              "ticks": ""
             }
            }
           }
          ],
          "histogram": [
           {
            "marker": {
             "pattern": {
              "fillmode": "overlay",
              "size": 10,
              "solidity": 0.2
             }
            },
            "type": "histogram"
           }
          ],
          "scattergl": [
           {
            "marker": {
             "line": {
              "color": "#283442"
             }
            },
            "type": "scattergl"
           }
          ],
          "scatter3d": [
           {
            "type": "scatter3d",
            "line": {
             "colorbar": {
              "outlinewidth": 0,
              "ticks": ""
             }
            },
            "marker": {
             "colorbar": {
              "outlinewidth": 0,
              "ticks": ""
             }
            }
           }
          ],
          "scattermapbox": [
           {
            "type": "scattermapbox",
            "marker": {
             "colorbar": {
              "outlinewidth": 0,
              "ticks": ""
             }
            }
           }
          ],
          "scatterternary": [
           {
            "type": "scatterternary",
            "marker": {
             "colorbar": {
              "outlinewidth": 0,
              "ticks": ""
             }
            }
           }
          ],
          "scattercarpet": [
           {
            "type": "scattercarpet",
            "marker": {
             "colorbar": {
              "outlinewidth": 0,
              "ticks": ""
             }
            }
           }
          ],
          "carpet": [
           {
            "aaxis": {
             "endlinecolor": "#A2B1C6",
             "gridcolor": "#506784",
             "linecolor": "#506784",
             "minorgridcolor": "#506784",
             "startlinecolor": "#A2B1C6"
            },
            "baxis": {
             "endlinecolor": "#A2B1C6",
             "gridcolor": "#506784",
             "linecolor": "#506784",
             "minorgridcolor": "#506784",
             "startlinecolor": "#A2B1C6"
            },
            "type": "carpet"
           }
          ],
          "table": [
           {
            "cells": {
             "fill": {
              "color": "#506784"
             },
             "line": {
              "color": "rgb(17,17,17)"
             }
            },
            "header": {
             "fill": {
              "color": "#2a3f5f"
             },
             "line": {
              "color": "rgb(17,17,17)"
             }
            },
            "type": "table"
           }
          ],
          "barpolar": [
           {
            "marker": {
             "line": {
              "color": "rgb(17,17,17)",
              "width": 0.5
             },
             "pattern": {
              "fillmode": "overlay",
              "size": 10,
              "solidity": 0.2
             }
            },
            "type": "barpolar"
           }
          ],
          "pie": [
           {
            "automargin": true,
            "type": "pie"
           }
          ]
         },
         "layout": {
          "autotypenumbers": "strict",
          "colorway": [
           "#636efa",
           "#EF553B",
           "#00cc96",
           "#ab63fa",
           "#FFA15A",
           "#19d3f3",
           "#FF6692",
           "#B6E880",
           "#FF97FF",
           "#FECB52"
          ],
          "font": {
           "color": "#f2f5fa"
          },
          "hovermode": "closest",
          "hoverlabel": {
           "align": "left"
          },
          "paper_bgcolor": "rgb(17,17,17)",
          "plot_bgcolor": "rgb(17,17,17)",
          "polar": {
           "bgcolor": "rgb(17,17,17)",
           "angularaxis": {
            "gridcolor": "#506784",
            "linecolor": "#506784",
            "ticks": ""
           },
           "radialaxis": {
            "gridcolor": "#506784",
            "linecolor": "#506784",
            "ticks": ""
           }
          },
          "ternary": {
           "bgcolor": "rgb(17,17,17)",
           "aaxis": {
            "gridcolor": "#506784",
            "linecolor": "#506784",
            "ticks": ""
           },
           "baxis": {
            "gridcolor": "#506784",
            "linecolor": "#506784",
            "ticks": ""
           },
           "caxis": {
            "gridcolor": "#506784",
            "linecolor": "#506784",
            "ticks": ""
           }
          },
          "coloraxis": {
           "colorbar": {
            "outlinewidth": 0,
            "ticks": ""
           }
          },
          "colorscale": {
           "sequential": [
            [
             0.0,
             "#0d0887"
            ],
            [
             0.1111111111111111,
             "#46039f"
            ],
            [
             0.2222222222222222,
             "#7201a8"
            ],
            [
             0.3333333333333333,
             "#9c179e"
            ],
            [
             0.4444444444444444,
             "#bd3786"
            ],
            [
             0.5555555555555556,
             "#d8576b"
            ],
            [
             0.6666666666666666,
             "#ed7953"
            ],
            [
             0.7777777777777778,
             "#fb9f3a"
            ],
            [
             0.8888888888888888,
             "#fdca26"
            ],
            [
             1.0,
             "#f0f921"
            ]
           ],
           "sequentialminus": [
            [
             0.0,
             "#0d0887"
            ],
            [
             0.1111111111111111,
             "#46039f"
            ],
            [
             0.2222222222222222,
             "#7201a8"
            ],
            [
             0.3333333333333333,
             "#9c179e"
            ],
            [
             0.4444444444444444,
             "#bd3786"
            ],
            [
             0.5555555555555556,
             "#d8576b"
            ],
            [
             0.6666666666666666,
             "#ed7953"
            ],
            [
             0.7777777777777778,
             "#fb9f3a"
            ],
            [
             0.8888888888888888,
             "#fdca26"
            ],
            [
             1.0,
             "#f0f921"
            ]
           ],
           "diverging": [
            [
             0,
             "#8e0152"
            ],
            [
             0.1,
             "#c51b7d"
            ],
            [
             0.2,
             "#de77ae"
            ],
            [
             0.3,
             "#f1b6da"
            ],
            [
             0.4,
             "#fde0ef"
            ],
            [
             0.5,
             "#f7f7f7"
            ],
            [
             0.6,
             "#e6f5d0"
            ],
            [
             0.7,
             "#b8e186"
            ],
            [
             0.8,
             "#7fbc41"
            ],
            [
             0.9,
             "#4d9221"
            ],
            [
             1,
             "#276419"
            ]
           ]
          },
          "xaxis": {
           "gridcolor": "#283442",
           "linecolor": "#506784",
           "ticks": "",
           "title": {
            "standoff": 15
           },
           "zerolinecolor": "#283442",
           "automargin": true,
           "zerolinewidth": 2
          },
          "yaxis": {
           "gridcolor": "#283442",
           "linecolor": "#506784",
           "ticks": "",
           "title": {
            "standoff": 15
           },
           "zerolinecolor": "#283442",
           "automargin": true,
           "zerolinewidth": 2
          },
          "scene": {
           "xaxis": {
            "backgroundcolor": "rgb(17,17,17)",
            "gridcolor": "#506784",
            "linecolor": "#506784",
            "showbackground": true,
            "ticks": "",
            "zerolinecolor": "#C8D4E3",
            "gridwidth": 2
           },
           "yaxis": {
            "backgroundcolor": "rgb(17,17,17)",
            "gridcolor": "#506784",
            "linecolor": "#506784",
            "showbackground": true,
            "ticks": "",
            "zerolinecolor": "#C8D4E3",
            "gridwidth": 2
           },
           "zaxis": {
            "backgroundcolor": "rgb(17,17,17)",
            "gridcolor": "#506784",
            "linecolor": "#506784",
            "showbackground": true,
            "ticks": "",
            "zerolinecolor": "#C8D4E3",
            "gridwidth": 2
           }
          },
          "shapedefaults": {
           "line": {
            "color": "#f2f5fa"
           }
          },
          "annotationdefaults": {
           "arrowcolor": "#f2f5fa",
           "arrowhead": 0,
           "arrowwidth": 1
          },
          "geo": {
           "bgcolor": "rgb(17,17,17)",
           "landcolor": "rgb(17,17,17)",
           "subunitcolor": "#506784",
           "showland": true,
           "showlakes": true,
           "lakecolor": "rgb(17,17,17)"
          },
          "title": {
           "x": 0.05
          },
          "updatemenudefaults": {
           "bgcolor": "#506784",
           "borderwidth": 0
          },
          "sliderdefaults": {
           "bgcolor": "#C8D4E3",
           "borderwidth": 1,
           "bordercolor": "rgb(17,17,17)",
           "tickwidth": 0
          },
          "mapbox": {
           "style": "dark"
          }
         }
        },
        "xaxis": {
         "anchor": "y",
         "domain": [
          0.0,
          1.0
         ],
         "title": {
          "text": "Sector"
         }
        },
        "yaxis": {
         "anchor": "x",
         "domain": [
          0.0,
          1.0
         ],
         "title": {
          "text": "Salary Estimate mean"
         }
        },
        "legend": {
         "tracegroupgap": 0
        },
        "margin": {
         "t": 60
        }
       },
       "config": {
        "plotlyServerURL": "https://plot.ly"
       }
      },
      "text/html": "<div>                            <div id=\"cf4ff014-3a49-46e2-aa06-d59b4b175b66\" class=\"plotly-graph-div\" style=\"height:525px; width:100%;\"></div>            <script type=\"text/javascript\">                require([\"plotly\"], function(Plotly) {                    window.PLOTLYENV=window.PLOTLYENV || {};                                    if (document.getElementById(\"cf4ff014-3a49-46e2-aa06-d59b4b175b66\")) {                    Plotly.newPlot(                        \"cf4ff014-3a49-46e2-aa06-d59b4b175b66\",                        [{\"hovertemplate\":\"Sector=%{x}<br>Salary Estimate mean=%{y}<extra></extra>\",\"legendgroup\":\"\",\"line\":{\"color\":\"#636efa\",\"dash\":\"solid\"},\"marker\":{\"symbol\":\"circle\"},\"mode\":\"lines\",\"name\":\"\",\"orientation\":\"v\",\"showlegend\":false,\"x\":[\"Agriculture & Forestry\",\"Real Estate\",\"Government\",\"Construction, Repair & Maintenance\",\"Aerospace & Defense\",\"Travel & Tourism\"],\"xaxis\":\"x\",\"y\":[66000.0,85066.66666666667,85613.63636363637,85642.85714285714,88213.48314606742,90125.0],\"yaxis\":\"y\",\"type\":\"scatter\"}],                        {\"template\":{\"data\":{\"histogram2dcontour\":[{\"type\":\"histogram2dcontour\",\"colorbar\":{\"outlinewidth\":0,\"ticks\":\"\"},\"colorscale\":[[0.0,\"#0d0887\"],[0.1111111111111111,\"#46039f\"],[0.2222222222222222,\"#7201a8\"],[0.3333333333333333,\"#9c179e\"],[0.4444444444444444,\"#bd3786\"],[0.5555555555555556,\"#d8576b\"],[0.6666666666666666,\"#ed7953\"],[0.7777777777777778,\"#fb9f3a\"],[0.8888888888888888,\"#fdca26\"],[1.0,\"#f0f921\"]]}],\"choropleth\":[{\"type\":\"choropleth\",\"colorbar\":{\"outlinewidth\":0,\"ticks\":\"\"}}],\"histogram2d\":[{\"type\":\"histogram2d\",\"colorbar\":{\"outlinewidth\":0,\"ticks\":\"\"},\"colorscale\":[[0.0,\"#0d0887\"],[0.1111111111111111,\"#46039f\"],[0.2222222222222222,\"#7201a8\"],[0.3333333333333333,\"#9c179e\"],[0.4444444444444444,\"#bd3786\"],[0.5555555555555556,\"#d8576b\"],[0.6666666666666666,\"#ed7953\"],[0.7777777777777778,\"#fb9f3a\"],[0.8888888888888888,\"#fdca26\"],[1.0,\"#f0f921\"]]}],\"heatmap\":[{\"type\":\"heatmap\",\"colorbar\":{\"outlinewidth\":0,\"ticks\":\"\"},\"colorscale\":[[0.0,\"#0d0887\"],[0.1111111111111111,\"#46039f\"],[0.2222222222222222,\"#7201a8\"],[0.3333333333333333,\"#9c179e\"],[0.4444444444444444,\"#bd3786\"],[0.5555555555555556,\"#d8576b\"],[0.6666666666666666,\"#ed7953\"],[0.7777777777777778,\"#fb9f3a\"],[0.8888888888888888,\"#fdca26\"],[1.0,\"#f0f921\"]]}],\"heatmapgl\":[{\"type\":\"heatmapgl\",\"colorbar\":{\"outlinewidth\":0,\"ticks\":\"\"},\"colorscale\":[[0.0,\"#0d0887\"],[0.1111111111111111,\"#46039f\"],[0.2222222222222222,\"#7201a8\"],[0.3333333333333333,\"#9c179e\"],[0.4444444444444444,\"#bd3786\"],[0.5555555555555556,\"#d8576b\"],[0.6666666666666666,\"#ed7953\"],[0.7777777777777778,\"#fb9f3a\"],[0.8888888888888888,\"#fdca26\"],[1.0,\"#f0f921\"]]}],\"contourcarpet\":[{\"type\":\"contourcarpet\",\"colorbar\":{\"outlinewidth\":0,\"ticks\":\"\"}}],\"contour\":[{\"type\":\"contour\",\"colorbar\":{\"outlinewidth\":0,\"ticks\":\"\"},\"colorscale\":[[0.0,\"#0d0887\"],[0.1111111111111111,\"#46039f\"],[0.2222222222222222,\"#7201a8\"],[0.3333333333333333,\"#9c179e\"],[0.4444444444444444,\"#bd3786\"],[0.5555555555555556,\"#d8576b\"],[0.6666666666666666,\"#ed7953\"],[0.7777777777777778,\"#fb9f3a\"],[0.8888888888888888,\"#fdca26\"],[1.0,\"#f0f921\"]]}],\"surface\":[{\"type\":\"surface\",\"colorbar\":{\"outlinewidth\":0,\"ticks\":\"\"},\"colorscale\":[[0.0,\"#0d0887\"],[0.1111111111111111,\"#46039f\"],[0.2222222222222222,\"#7201a8\"],[0.3333333333333333,\"#9c179e\"],[0.4444444444444444,\"#bd3786\"],[0.5555555555555556,\"#d8576b\"],[0.6666666666666666,\"#ed7953\"],[0.7777777777777778,\"#fb9f3a\"],[0.8888888888888888,\"#fdca26\"],[1.0,\"#f0f921\"]]}],\"mesh3d\":[{\"type\":\"mesh3d\",\"colorbar\":{\"outlinewidth\":0,\"ticks\":\"\"}}],\"scatter\":[{\"marker\":{\"line\":{\"color\":\"#283442\"}},\"type\":\"scatter\"}],\"parcoords\":[{\"type\":\"parcoords\",\"line\":{\"colorbar\":{\"outlinewidth\":0,\"ticks\":\"\"}}}],\"scatterpolargl\":[{\"type\":\"scatterpolargl\",\"marker\":{\"colorbar\":{\"outlinewidth\":0,\"ticks\":\"\"}}}],\"bar\":[{\"error_x\":{\"color\":\"#f2f5fa\"},\"error_y\":{\"color\":\"#f2f5fa\"},\"marker\":{\"line\":{\"color\":\"rgb(17,17,17)\",\"width\":0.5},\"pattern\":{\"fillmode\":\"overlay\",\"size\":10,\"solidity\":0.2}},\"type\":\"bar\"}],\"scattergeo\":[{\"type\":\"scattergeo\",\"marker\":{\"colorbar\":{\"outlinewidth\":0,\"ticks\":\"\"}}}],\"scatterpolar\":[{\"type\":\"scatterpolar\",\"marker\":{\"colorbar\":{\"outlinewidth\":0,\"ticks\":\"\"}}}],\"histogram\":[{\"marker\":{\"pattern\":{\"fillmode\":\"overlay\",\"size\":10,\"solidity\":0.2}},\"type\":\"histogram\"}],\"scattergl\":[{\"marker\":{\"line\":{\"color\":\"#283442\"}},\"type\":\"scattergl\"}],\"scatter3d\":[{\"type\":\"scatter3d\",\"line\":{\"colorbar\":{\"outlinewidth\":0,\"ticks\":\"\"}},\"marker\":{\"colorbar\":{\"outlinewidth\":0,\"ticks\":\"\"}}}],\"scattermapbox\":[{\"type\":\"scattermapbox\",\"marker\":{\"colorbar\":{\"outlinewidth\":0,\"ticks\":\"\"}}}],\"scatterternary\":[{\"type\":\"scatterternary\",\"marker\":{\"colorbar\":{\"outlinewidth\":0,\"ticks\":\"\"}}}],\"scattercarpet\":[{\"type\":\"scattercarpet\",\"marker\":{\"colorbar\":{\"outlinewidth\":0,\"ticks\":\"\"}}}],\"carpet\":[{\"aaxis\":{\"endlinecolor\":\"#A2B1C6\",\"gridcolor\":\"#506784\",\"linecolor\":\"#506784\",\"minorgridcolor\":\"#506784\",\"startlinecolor\":\"#A2B1C6\"},\"baxis\":{\"endlinecolor\":\"#A2B1C6\",\"gridcolor\":\"#506784\",\"linecolor\":\"#506784\",\"minorgridcolor\":\"#506784\",\"startlinecolor\":\"#A2B1C6\"},\"type\":\"carpet\"}],\"table\":[{\"cells\":{\"fill\":{\"color\":\"#506784\"},\"line\":{\"color\":\"rgb(17,17,17)\"}},\"header\":{\"fill\":{\"color\":\"#2a3f5f\"},\"line\":{\"color\":\"rgb(17,17,17)\"}},\"type\":\"table\"}],\"barpolar\":[{\"marker\":{\"line\":{\"color\":\"rgb(17,17,17)\",\"width\":0.5},\"pattern\":{\"fillmode\":\"overlay\",\"size\":10,\"solidity\":0.2}},\"type\":\"barpolar\"}],\"pie\":[{\"automargin\":true,\"type\":\"pie\"}]},\"layout\":{\"autotypenumbers\":\"strict\",\"colorway\":[\"#636efa\",\"#EF553B\",\"#00cc96\",\"#ab63fa\",\"#FFA15A\",\"#19d3f3\",\"#FF6692\",\"#B6E880\",\"#FF97FF\",\"#FECB52\"],\"font\":{\"color\":\"#f2f5fa\"},\"hovermode\":\"closest\",\"hoverlabel\":{\"align\":\"left\"},\"paper_bgcolor\":\"rgb(17,17,17)\",\"plot_bgcolor\":\"rgb(17,17,17)\",\"polar\":{\"bgcolor\":\"rgb(17,17,17)\",\"angularaxis\":{\"gridcolor\":\"#506784\",\"linecolor\":\"#506784\",\"ticks\":\"\"},\"radialaxis\":{\"gridcolor\":\"#506784\",\"linecolor\":\"#506784\",\"ticks\":\"\"}},\"ternary\":{\"bgcolor\":\"rgb(17,17,17)\",\"aaxis\":{\"gridcolor\":\"#506784\",\"linecolor\":\"#506784\",\"ticks\":\"\"},\"baxis\":{\"gridcolor\":\"#506784\",\"linecolor\":\"#506784\",\"ticks\":\"\"},\"caxis\":{\"gridcolor\":\"#506784\",\"linecolor\":\"#506784\",\"ticks\":\"\"}},\"coloraxis\":{\"colorbar\":{\"outlinewidth\":0,\"ticks\":\"\"}},\"colorscale\":{\"sequential\":[[0.0,\"#0d0887\"],[0.1111111111111111,\"#46039f\"],[0.2222222222222222,\"#7201a8\"],[0.3333333333333333,\"#9c179e\"],[0.4444444444444444,\"#bd3786\"],[0.5555555555555556,\"#d8576b\"],[0.6666666666666666,\"#ed7953\"],[0.7777777777777778,\"#fb9f3a\"],[0.8888888888888888,\"#fdca26\"],[1.0,\"#f0f921\"]],\"sequentialminus\":[[0.0,\"#0d0887\"],[0.1111111111111111,\"#46039f\"],[0.2222222222222222,\"#7201a8\"],[0.3333333333333333,\"#9c179e\"],[0.4444444444444444,\"#bd3786\"],[0.5555555555555556,\"#d8576b\"],[0.6666666666666666,\"#ed7953\"],[0.7777777777777778,\"#fb9f3a\"],[0.8888888888888888,\"#fdca26\"],[1.0,\"#f0f921\"]],\"diverging\":[[0,\"#8e0152\"],[0.1,\"#c51b7d\"],[0.2,\"#de77ae\"],[0.3,\"#f1b6da\"],[0.4,\"#fde0ef\"],[0.5,\"#f7f7f7\"],[0.6,\"#e6f5d0\"],[0.7,\"#b8e186\"],[0.8,\"#7fbc41\"],[0.9,\"#4d9221\"],[1,\"#276419\"]]},\"xaxis\":{\"gridcolor\":\"#283442\",\"linecolor\":\"#506784\",\"ticks\":\"\",\"title\":{\"standoff\":15},\"zerolinecolor\":\"#283442\",\"automargin\":true,\"zerolinewidth\":2},\"yaxis\":{\"gridcolor\":\"#283442\",\"linecolor\":\"#506784\",\"ticks\":\"\",\"title\":{\"standoff\":15},\"zerolinecolor\":\"#283442\",\"automargin\":true,\"zerolinewidth\":2},\"scene\":{\"xaxis\":{\"backgroundcolor\":\"rgb(17,17,17)\",\"gridcolor\":\"#506784\",\"linecolor\":\"#506784\",\"showbackground\":true,\"ticks\":\"\",\"zerolinecolor\":\"#C8D4E3\",\"gridwidth\":2},\"yaxis\":{\"backgroundcolor\":\"rgb(17,17,17)\",\"gridcolor\":\"#506784\",\"linecolor\":\"#506784\",\"showbackground\":true,\"ticks\":\"\",\"zerolinecolor\":\"#C8D4E3\",\"gridwidth\":2},\"zaxis\":{\"backgroundcolor\":\"rgb(17,17,17)\",\"gridcolor\":\"#506784\",\"linecolor\":\"#506784\",\"showbackground\":true,\"ticks\":\"\",\"zerolinecolor\":\"#C8D4E3\",\"gridwidth\":2}},\"shapedefaults\":{\"line\":{\"color\":\"#f2f5fa\"}},\"annotationdefaults\":{\"arrowcolor\":\"#f2f5fa\",\"arrowhead\":0,\"arrowwidth\":1},\"geo\":{\"bgcolor\":\"rgb(17,17,17)\",\"landcolor\":\"rgb(17,17,17)\",\"subunitcolor\":\"#506784\",\"showland\":true,\"showlakes\":true,\"lakecolor\":\"rgb(17,17,17)\"},\"title\":{\"x\":0.05},\"updatemenudefaults\":{\"bgcolor\":\"#506784\",\"borderwidth\":0},\"sliderdefaults\":{\"bgcolor\":\"#C8D4E3\",\"borderwidth\":1,\"bordercolor\":\"rgb(17,17,17)\",\"tickwidth\":0},\"mapbox\":{\"style\":\"dark\"}}},\"xaxis\":{\"anchor\":\"y\",\"domain\":[0.0,1.0],\"title\":{\"text\":\"Sector\"}},\"yaxis\":{\"anchor\":\"x\",\"domain\":[0.0,1.0],\"title\":{\"text\":\"Salary Estimate mean\"}},\"legend\":{\"tracegroupgap\":0},\"margin\":{\"t\":60}},                        {\"responsive\": true}                    ).then(function(){\n                            \nvar gd = document.getElementById('cf4ff014-3a49-46e2-aa06-d59b4b175b66');\nvar x = new MutationObserver(function (mutations, observer) {{\n        var display = window.getComputedStyle(gd).display;\n        if (!display || display === 'none') {{\n            console.log([gd, 'removed!']);\n            Plotly.purge(gd);\n            observer.disconnect();\n        }}\n}});\n\n// Listen for the removal of the full notebook cells\nvar notebookContainer = gd.closest('#notebook-container');\nif (notebookContainer) {{\n    x.observe(notebookContainer, {childList: true});\n}}\n\n// Listen for the clearing of the current output cell\nvar outputEl = gd.closest('.output');\nif (outputEl) {{\n    x.observe(outputEl, {childList: true});\n}}\n\n                        })                };                });            </script>        </div>"
     },
     "metadata": {},
     "output_type": "display_data"
    }
   ],
   "source": [
    "px.line(SectorSalary, y='Salary Estimate mean', x='Sector')"
   ],
   "metadata": {
    "collapsed": false
   }
  },
  {
   "cell_type": "code",
   "execution_count": 263,
   "outputs": [],
   "source": [],
   "metadata": {
    "collapsed": false
   }
  }
 ],
 "metadata": {
  "kernelspec": {
   "display_name": "Python 3.10.4 64-bit",
   "language": "python",
   "name": "python3"
  },
  "language_info": {
   "codemirror_mode": {
    "name": "ipython",
    "version": 3
   },
   "file_extension": ".py",
   "mimetype": "text/x-python",
   "name": "python",
   "nbconvert_exporter": "python",
   "pygments_lexer": "ipython3",
   "version": "3.10.4"
  },
  "orig_nbformat": 4,
  "vscode": {
   "interpreter": {
    "hash": "8c3d4d9970fc5c09c50d9318a9c7fbf4d0159e4b28833276f5678ee22bded273"
   }
  }
 },
 "nbformat": 4,
 "nbformat_minor": 2
}
