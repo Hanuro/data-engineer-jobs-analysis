{
 "cells": [
  {
   "cell_type": "markdown",
   "metadata": {
    "pycharm": {
     "name": "#%% md\n"
    }
   },
   "source": [
    "# Imports"
   ]
  },
  {
   "cell_type": "code",
   "execution_count": 177,
   "metadata": {
    "pycharm": {
     "name": "#%%\n"
    }
   },
   "outputs": [],
   "source": [
    "import pandas as pd\n",
    "import numpy as np\n",
    "import plotly.express as px\n",
    "import seaborn as sns\n",
    "import matplotlib.pyplot as plt\n",
    "import missingno\n",
    "from sklearn.impute import KNNImputer\n",
    "from scripts import loctocord"
   ]
  },
  {
   "cell_type": "markdown",
   "metadata": {
    "pycharm": {
     "name": "#%% md\n"
    }
   },
   "source": [
    "# Pre-processing"
   ]
  },
  {
   "cell_type": "code",
   "execution_count": 178,
   "outputs": [],
   "source": [
    "loc_generator_df = pd.read_csv('dataset/world_country_and_usa_states_latitude_and_longitude_values.csv')"
   ],
   "metadata": {
    "collapsed": false,
    "pycharm": {
     "name": "#%%\n"
    }
   }
  },
  {
   "cell_type": "code",
   "execution_count": 179,
   "outputs": [
    {
     "data": {
      "text/plain": "    country_code   latitude  longitude               country usa_state_code  \\\n0             AD  42.546245   1.601554               Andorra             AK   \n1             AE  23.424076  53.847818  United Arab Emirates             AL   \n2             AF  33.939110  67.709953           Afghanistan             AR   \n3             AG  17.060816 -61.796428   Antigua and Barbuda             AZ   \n4             AI  18.220554 -63.068615              Anguilla             CA   \n..           ...        ...        ...                   ...            ...   \n240           YE  15.552727  48.516388                 Yemen            NaN   \n241           YT -12.827500  45.166244               Mayotte            NaN   \n242           ZA -30.559482  22.937506          South Africa            NaN   \n243           ZM -13.133897  27.849332                Zambia            NaN   \n244           ZW -19.015438  29.154857              Zimbabwe            NaN   \n\n     usa_state_latitude  usa_state_longitude   usa_state  \n0             63.588753          -154.493062      Alaska  \n1             32.318231           -86.902298     Alabama  \n2             35.201050           -91.831833    Arkansas  \n3             34.048928          -111.093731     Arizona  \n4             36.778261          -119.417932  California  \n..                  ...                  ...         ...  \n240                 NaN                  NaN         NaN  \n241                 NaN                  NaN         NaN  \n242                 NaN                  NaN         NaN  \n243                 NaN                  NaN         NaN  \n244                 NaN                  NaN         NaN  \n\n[245 rows x 8 columns]",
      "text/html": "<div>\n<style scoped>\n    .dataframe tbody tr th:only-of-type {\n        vertical-align: middle;\n    }\n\n    .dataframe tbody tr th {\n        vertical-align: top;\n    }\n\n    .dataframe thead th {\n        text-align: right;\n    }\n</style>\n<table border=\"1\" class=\"dataframe\">\n  <thead>\n    <tr style=\"text-align: right;\">\n      <th></th>\n      <th>country_code</th>\n      <th>latitude</th>\n      <th>longitude</th>\n      <th>country</th>\n      <th>usa_state_code</th>\n      <th>usa_state_latitude</th>\n      <th>usa_state_longitude</th>\n      <th>usa_state</th>\n    </tr>\n  </thead>\n  <tbody>\n    <tr>\n      <th>0</th>\n      <td>AD</td>\n      <td>42.546245</td>\n      <td>1.601554</td>\n      <td>Andorra</td>\n      <td>AK</td>\n      <td>63.588753</td>\n      <td>-154.493062</td>\n      <td>Alaska</td>\n    </tr>\n    <tr>\n      <th>1</th>\n      <td>AE</td>\n      <td>23.424076</td>\n      <td>53.847818</td>\n      <td>United Arab Emirates</td>\n      <td>AL</td>\n      <td>32.318231</td>\n      <td>-86.902298</td>\n      <td>Alabama</td>\n    </tr>\n    <tr>\n      <th>2</th>\n      <td>AF</td>\n      <td>33.939110</td>\n      <td>67.709953</td>\n      <td>Afghanistan</td>\n      <td>AR</td>\n      <td>35.201050</td>\n      <td>-91.831833</td>\n      <td>Arkansas</td>\n    </tr>\n    <tr>\n      <th>3</th>\n      <td>AG</td>\n      <td>17.060816</td>\n      <td>-61.796428</td>\n      <td>Antigua and Barbuda</td>\n      <td>AZ</td>\n      <td>34.048928</td>\n      <td>-111.093731</td>\n      <td>Arizona</td>\n    </tr>\n    <tr>\n      <th>4</th>\n      <td>AI</td>\n      <td>18.220554</td>\n      <td>-63.068615</td>\n      <td>Anguilla</td>\n      <td>CA</td>\n      <td>36.778261</td>\n      <td>-119.417932</td>\n      <td>California</td>\n    </tr>\n    <tr>\n      <th>...</th>\n      <td>...</td>\n      <td>...</td>\n      <td>...</td>\n      <td>...</td>\n      <td>...</td>\n      <td>...</td>\n      <td>...</td>\n      <td>...</td>\n    </tr>\n    <tr>\n      <th>240</th>\n      <td>YE</td>\n      <td>15.552727</td>\n      <td>48.516388</td>\n      <td>Yemen</td>\n      <td>NaN</td>\n      <td>NaN</td>\n      <td>NaN</td>\n      <td>NaN</td>\n    </tr>\n    <tr>\n      <th>241</th>\n      <td>YT</td>\n      <td>-12.827500</td>\n      <td>45.166244</td>\n      <td>Mayotte</td>\n      <td>NaN</td>\n      <td>NaN</td>\n      <td>NaN</td>\n      <td>NaN</td>\n    </tr>\n    <tr>\n      <th>242</th>\n      <td>ZA</td>\n      <td>-30.559482</td>\n      <td>22.937506</td>\n      <td>South Africa</td>\n      <td>NaN</td>\n      <td>NaN</td>\n      <td>NaN</td>\n      <td>NaN</td>\n    </tr>\n    <tr>\n      <th>243</th>\n      <td>ZM</td>\n      <td>-13.133897</td>\n      <td>27.849332</td>\n      <td>Zambia</td>\n      <td>NaN</td>\n      <td>NaN</td>\n      <td>NaN</td>\n      <td>NaN</td>\n    </tr>\n    <tr>\n      <th>244</th>\n      <td>ZW</td>\n      <td>-19.015438</td>\n      <td>29.154857</td>\n      <td>Zimbabwe</td>\n      <td>NaN</td>\n      <td>NaN</td>\n      <td>NaN</td>\n      <td>NaN</td>\n    </tr>\n  </tbody>\n</table>\n<p>245 rows × 8 columns</p>\n</div>"
     },
     "execution_count": 179,
     "metadata": {},
     "output_type": "execute_result"
    }
   ],
   "source": [
    "loc_generator_df"
   ],
   "metadata": {
    "collapsed": false,
    "pycharm": {
     "name": "#%%\n"
    }
   }
  },
  {
   "cell_type": "code",
   "execution_count": 180,
   "outputs": [],
   "source": [
    "loc_generator_df = loc_generator_df.drop(columns = [\"country_code\",\"usa_state\",\"country\",\"latitude\",\"longitude\"])"
   ],
   "metadata": {
    "collapsed": false,
    "pycharm": {
     "name": "#%%\n"
    }
   }
  },
  {
   "cell_type": "code",
   "execution_count": 181,
   "metadata": {
    "pycharm": {
     "name": "#%%\n"
    }
   },
   "outputs": [
    {
     "data": {
      "text/plain": "                                           Job Title  \\\n0                                      Data Engineer   \n1  Senior Data Engineer (Healthcare Domain experi...   \n2                                     Data Engineers   \n3                      Client Trade Support Engineer   \n4                                      Data Engineer   \n\n               Salary Estimate  \\\n0  $80K-$150K (Glassdoor est.)   \n1  $80K-$150K (Glassdoor est.)   \n2  $80K-$150K (Glassdoor est.)   \n3  $80K-$150K (Glassdoor est.)   \n4  $80K-$150K (Glassdoor est.)   \n\n                                     Job Description  Rating  \\\n0  Company Description\\r\\nSagence is a management...     4.5   \n1  Key Responsibilities\\r\\n\\r\\n- Architect, build...     3.4   \n2  Overview\\r\\n\\r\\nJob description\\r\\n\\r\\nPositio...     5.0   \n3  About the Position\\r\\n\\r\\n\\r\\nThis position wi...     4.8   \n4  Data Engineer\\r\\n\\r\\nJob Details\\r\\nLevel\\r\\nE...     3.7   \n\n                     Company Name      Location      Headquarters  \\\n0                  Sagence\\r\\n4.5  New York, NY       Chicago, IL   \n1   Enterprise Integration\\r\\n3.4  New York, NY  Jacksonville, FL   \n2     Maestro Technologies\\r\\n5.0  New York, NY       Trenton, NJ   \n3              Jane Street\\r\\n4.8  New York, NY      New York, NY   \n4  GNY Insurance Companies\\r\\n3.7  New York, NY      New York, NY   \n\n                    Size  Founded  Type of ownership  \\\n0      1 to 50 employees     2009  Company - Private   \n1    51 to 200 employees     1998  Company - Private   \n2    51 to 200 employees     2003  Company - Private   \n3  501 to 1000 employees     2000  Company - Private   \n4   201 to 500 employees     1914  Company - Private   \n\n                                Industry                  Sector  \\\n0                             Consulting       Business Services   \n1                            IT Services  Information Technology   \n2                            IT Services  Information Technology   \n3  Investment Banking & Asset Management                 Finance   \n4                     Insurance Carriers               Insurance   \n\n                      Revenue                       Competitors Easy Apply  \n0    $10 to $25 million (USD)               WCI Consulting, PwC         -1  \n1    $25 to $50 million (USD)                                -1         -1  \n2     $5 to $10 million (USD)                                -1         -1  \n3    Unknown / Non-Applicable                                -1         -1  \n4  $100 to $500 million (USD)  Travelers, Chubb, Crum & Forster       True  ",
      "text/html": "<div>\n<style scoped>\n    .dataframe tbody tr th:only-of-type {\n        vertical-align: middle;\n    }\n\n    .dataframe tbody tr th {\n        vertical-align: top;\n    }\n\n    .dataframe thead th {\n        text-align: right;\n    }\n</style>\n<table border=\"1\" class=\"dataframe\">\n  <thead>\n    <tr style=\"text-align: right;\">\n      <th></th>\n      <th>Job Title</th>\n      <th>Salary Estimate</th>\n      <th>Job Description</th>\n      <th>Rating</th>\n      <th>Company Name</th>\n      <th>Location</th>\n      <th>Headquarters</th>\n      <th>Size</th>\n      <th>Founded</th>\n      <th>Type of ownership</th>\n      <th>Industry</th>\n      <th>Sector</th>\n      <th>Revenue</th>\n      <th>Competitors</th>\n      <th>Easy Apply</th>\n    </tr>\n  </thead>\n  <tbody>\n    <tr>\n      <th>0</th>\n      <td>Data Engineer</td>\n      <td>$80K-$150K (Glassdoor est.)</td>\n      <td>Company Description\\r\\nSagence is a management...</td>\n      <td>4.5</td>\n      <td>Sagence\\r\\n4.5</td>\n      <td>New York, NY</td>\n      <td>Chicago, IL</td>\n      <td>1 to 50 employees</td>\n      <td>2009</td>\n      <td>Company - Private</td>\n      <td>Consulting</td>\n      <td>Business Services</td>\n      <td>$10 to $25 million (USD)</td>\n      <td>WCI Consulting, PwC</td>\n      <td>-1</td>\n    </tr>\n    <tr>\n      <th>1</th>\n      <td>Senior Data Engineer (Healthcare Domain experi...</td>\n      <td>$80K-$150K (Glassdoor est.)</td>\n      <td>Key Responsibilities\\r\\n\\r\\n- Architect, build...</td>\n      <td>3.4</td>\n      <td>Enterprise Integration\\r\\n3.4</td>\n      <td>New York, NY</td>\n      <td>Jacksonville, FL</td>\n      <td>51 to 200 employees</td>\n      <td>1998</td>\n      <td>Company - Private</td>\n      <td>IT Services</td>\n      <td>Information Technology</td>\n      <td>$25 to $50 million (USD)</td>\n      <td>-1</td>\n      <td>-1</td>\n    </tr>\n    <tr>\n      <th>2</th>\n      <td>Data Engineers</td>\n      <td>$80K-$150K (Glassdoor est.)</td>\n      <td>Overview\\r\\n\\r\\nJob description\\r\\n\\r\\nPositio...</td>\n      <td>5.0</td>\n      <td>Maestro Technologies\\r\\n5.0</td>\n      <td>New York, NY</td>\n      <td>Trenton, NJ</td>\n      <td>51 to 200 employees</td>\n      <td>2003</td>\n      <td>Company - Private</td>\n      <td>IT Services</td>\n      <td>Information Technology</td>\n      <td>$5 to $10 million (USD)</td>\n      <td>-1</td>\n      <td>-1</td>\n    </tr>\n    <tr>\n      <th>3</th>\n      <td>Client Trade Support Engineer</td>\n      <td>$80K-$150K (Glassdoor est.)</td>\n      <td>About the Position\\r\\n\\r\\n\\r\\nThis position wi...</td>\n      <td>4.8</td>\n      <td>Jane Street\\r\\n4.8</td>\n      <td>New York, NY</td>\n      <td>New York, NY</td>\n      <td>501 to 1000 employees</td>\n      <td>2000</td>\n      <td>Company - Private</td>\n      <td>Investment Banking &amp; Asset Management</td>\n      <td>Finance</td>\n      <td>Unknown / Non-Applicable</td>\n      <td>-1</td>\n      <td>-1</td>\n    </tr>\n    <tr>\n      <th>4</th>\n      <td>Data Engineer</td>\n      <td>$80K-$150K (Glassdoor est.)</td>\n      <td>Data Engineer\\r\\n\\r\\nJob Details\\r\\nLevel\\r\\nE...</td>\n      <td>3.7</td>\n      <td>GNY Insurance Companies\\r\\n3.7</td>\n      <td>New York, NY</td>\n      <td>New York, NY</td>\n      <td>201 to 500 employees</td>\n      <td>1914</td>\n      <td>Company - Private</td>\n      <td>Insurance Carriers</td>\n      <td>Insurance</td>\n      <td>$100 to $500 million (USD)</td>\n      <td>Travelers, Chubb, Crum &amp; Forster</td>\n      <td>True</td>\n    </tr>\n  </tbody>\n</table>\n</div>"
     },
     "execution_count": 181,
     "metadata": {},
     "output_type": "execute_result"
    }
   ],
   "source": [
    "df = pd.read_csv(\"dataset/DataEngineer.csv\")\n",
    "df.head()"
   ]
  },
  {
   "cell_type": "code",
   "execution_count": 182,
   "outputs": [],
   "source": [
    "df[['City','State']] = df[\"Location\"].str.split(\",\",expand=True)\n",
    "df = df[~df[\"State\"].str.contains(\"United Kingdom\")] # Removing United Kingdom from state!"
   ],
   "metadata": {
    "collapsed": false,
    "pycharm": {
     "name": "#%%\n"
    }
   }
  },
  {
   "cell_type": "code",
   "execution_count": 183,
   "metadata": {
    "pycharm": {
     "name": "#%%\n"
    }
   },
   "outputs": [
    {
     "data": {
      "text/plain": "Index(['Job Title', 'Salary Estimate', 'Job Description', 'Rating',\n       'Company Name', 'Location', 'Headquarters', 'Size', 'Founded',\n       'Type of ownership', 'Industry', 'Sector', 'Revenue', 'Competitors',\n       'Easy Apply', 'City', 'State'],\n      dtype='object')"
     },
     "execution_count": 183,
     "metadata": {},
     "output_type": "execute_result"
    }
   ],
   "source": [
    "df.columns"
   ]
  },
  {
   "cell_type": "code",
   "execution_count": 184,
   "metadata": {
    "pycharm": {
     "name": "#%%\n"
    }
   },
   "outputs": [],
   "source": [
    "df.replace('-1', np.nan, inplace=True)\n",
    "df.replace(-1, np.nan, inplace=True)\n",
    "df.replace('Unknown', np.nan, inplace=True)"
   ]
  },
  {
   "cell_type": "code",
   "execution_count": 185,
   "metadata": {
    "pycharm": {
     "name": "#%%\n"
    }
   },
   "outputs": [
    {
     "data": {
      "text/plain": "Job Title            0.000000\nSalary Estimate      0.000000\nJob Description      0.000000\nRating               0.092563\nCompany Name         0.000000\nLocation             0.000000\nHeadquarters         0.049051\nSize                 0.071994\nFounded              0.225870\nType of ownership    0.058940\nIndustry             0.149525\nSector               0.148339\nRevenue              0.047073\nCompetitors          0.691851\nEasy Apply           0.942247\nCity                 0.000000\nState                0.000000\ndtype: float64"
     },
     "execution_count": 185,
     "metadata": {},
     "output_type": "execute_result"
    }
   ],
   "source": [
    "df.isnull().mean()"
   ]
  },
  {
   "cell_type": "code",
   "execution_count": 186,
   "metadata": {
    "pycharm": {
     "name": "#%%\n"
    }
   },
   "outputs": [
    {
     "data": {
      "text/plain": "                                              Job Title  \\\n0                                         Data Engineer   \n1     Senior Data Engineer (Healthcare Domain experi...   \n2                                        Data Engineers   \n3                         Client Trade Support Engineer   \n4                                         Data Engineer   \n...                                                 ...   \n2523                                     Cloud Engineer   \n2524                                Electrical Engineer   \n2525                              Sr. Big Data Engineer   \n2526                     Senior Big Data / ETL Engineer   \n2527                                     Cloud Engineer   \n\n                  Salary Estimate  \\\n0     $80K-$150K (Glassdoor est.)   \n1     $80K-$150K (Glassdoor est.)   \n2     $80K-$150K (Glassdoor est.)   \n3     $80K-$150K (Glassdoor est.)   \n4     $80K-$150K (Glassdoor est.)   \n...                           ...   \n2523  $76K-$128K (Glassdoor est.)   \n2524  $76K-$128K (Glassdoor est.)   \n2525  $76K-$128K (Glassdoor est.)   \n2526  $76K-$128K (Glassdoor est.)   \n2527  $76K-$128K (Glassdoor est.)   \n\n                                        Job Description  Rating  \\\n0     Company Description Sagence is a management ad...     4.5   \n1     Key Responsibilities  - Architect, build, and ...     3.4   \n2     Overview  Job description  Position Overview: ...     5.0   \n3     About the Position   This position will suppor...     4.8   \n4     Data Engineer  Job Details Level Experienced J...     3.7   \n...                                                 ...     ...   \n2523  The Expertise You Have Proven expertise in dev...     4.5   \n2524  Lockheed Martin is seeking a Circuit and FPGA ...     2.9   \n2525  Posting Title Principal Data Engineer (Contrac...     3.7   \n2526  Your Opportunity  Charles Schwab & Co., Inc is...     3.5   \n2527  Cloud Engineer Westlake, TX 6+ months Descript...     3.6   \n\n                                  Company Name        Location  \\\n0                                  Sagence 4.5    New York, NY   \n1                   Enterprise Integration 3.4    New York, NY   \n2                     Maestro Technologies 5.0    New York, NY   \n3                              Jane Street 4.8    New York, NY   \n4                  GNY Insurance Companies 3.7    New York, NY   \n...                                        ...             ...   \n2523                            PMG Global 4.5    Westlake, TX   \n2524            Albin Engineering Services 2.9  Fort Worth, TX   \n2525  Cincinnati Bell Technology Solutions 3.7      Irving, TX   \n2526                                Schwab 3.5    Westlake, TX   \n2527        SPECTRAFORCE TECHNOLOGIES Inc. 3.6    Westlake, TX   \n\n             Headquarters                   Size  Founded Type of ownership  \\\n0             Chicago, IL      1 to 50 employees   2009.0           Private   \n1        Jacksonville, FL    51 to 200 employees   1998.0           Private   \n2             Trenton, NJ    51 to 200 employees   2003.0           Private   \n3            New York, NY  501 to 1000 employees   2000.0           Private   \n4            New York, NY   201 to 500 employees   1914.0           Private   \n...                   ...                    ...      ...               ...   \n2523          Herndon, VA      1 to 50 employees      NaN           Private   \n2524      Santa Clara, CA    51 to 200 employees   1993.0           Private   \n2525       Cincinnati, OH  501 to 1000 employees      NaN           Private   \n2526  Dettenheim, Germany                    NaN      NaN            Public   \n2527          Raleigh, NC  501 to 1000 employees   2000.0           Private   \n\n                                   Industry                  Sector  \\\n0                                Consulting       Business Services   \n1                               IT Services  Information Technology   \n2                               IT Services  Information Technology   \n3     Investment Banking & Asset Management                 Finance   \n4                        Insurance Carriers               Insurance   \n...                                     ...                     ...   \n2523           Computer Hardware & Software  Information Technology   \n2524                 Staffing & Outsourcing       Business Services   \n2525                            IT Services  Information Technology   \n2526                                    NaN                     NaN   \n2527                 Staffing & Outsourcing       Business Services   \n\n                         Revenue                       Competitors Easy Apply  \\\n0       $10 to $25 million (USD)               WCI Consulting, PwC        NaN   \n1       $25 to $50 million (USD)                               NaN        NaN   \n2        $5 to $10 million (USD)                               NaN        NaN   \n3       Unknown / Non-Applicable                               NaN        NaN   \n4     $100 to $500 million (USD)  Travelers, Chubb, Crum & Forster       True   \n...                          ...                               ...        ...   \n2523      $1 to $5 million (USD)                               NaN        NaN   \n2524     $5 to $10 million (USD)                               NaN        NaN   \n2525  $100 to $500 million (USD)                               NaN        NaN   \n2526    Unknown / Non-Applicable                               NaN        NaN   \n2527    $25 to $50 million (USD)                               NaN        NaN   \n\n            City State  \n0       New York    NY  \n1       New York    NY  \n2       New York    NY  \n3       New York    NY  \n4       New York    NY  \n...          ...   ...  \n2523    Westlake    TX  \n2524  Fort Worth    TX  \n2525      Irving    TX  \n2526    Westlake    TX  \n2527    Westlake    TX  \n\n[2528 rows x 17 columns]",
      "text/html": "<div>\n<style scoped>\n    .dataframe tbody tr th:only-of-type {\n        vertical-align: middle;\n    }\n\n    .dataframe tbody tr th {\n        vertical-align: top;\n    }\n\n    .dataframe thead th {\n        text-align: right;\n    }\n</style>\n<table border=\"1\" class=\"dataframe\">\n  <thead>\n    <tr style=\"text-align: right;\">\n      <th></th>\n      <th>Job Title</th>\n      <th>Salary Estimate</th>\n      <th>Job Description</th>\n      <th>Rating</th>\n      <th>Company Name</th>\n      <th>Location</th>\n      <th>Headquarters</th>\n      <th>Size</th>\n      <th>Founded</th>\n      <th>Type of ownership</th>\n      <th>Industry</th>\n      <th>Sector</th>\n      <th>Revenue</th>\n      <th>Competitors</th>\n      <th>Easy Apply</th>\n      <th>City</th>\n      <th>State</th>\n    </tr>\n  </thead>\n  <tbody>\n    <tr>\n      <th>0</th>\n      <td>Data Engineer</td>\n      <td>$80K-$150K (Glassdoor est.)</td>\n      <td>Company Description Sagence is a management ad...</td>\n      <td>4.5</td>\n      <td>Sagence 4.5</td>\n      <td>New York, NY</td>\n      <td>Chicago, IL</td>\n      <td>1 to 50 employees</td>\n      <td>2009.0</td>\n      <td>Private</td>\n      <td>Consulting</td>\n      <td>Business Services</td>\n      <td>$10 to $25 million (USD)</td>\n      <td>WCI Consulting, PwC</td>\n      <td>NaN</td>\n      <td>New York</td>\n      <td>NY</td>\n    </tr>\n    <tr>\n      <th>1</th>\n      <td>Senior Data Engineer (Healthcare Domain experi...</td>\n      <td>$80K-$150K (Glassdoor est.)</td>\n      <td>Key Responsibilities  - Architect, build, and ...</td>\n      <td>3.4</td>\n      <td>Enterprise Integration 3.4</td>\n      <td>New York, NY</td>\n      <td>Jacksonville, FL</td>\n      <td>51 to 200 employees</td>\n      <td>1998.0</td>\n      <td>Private</td>\n      <td>IT Services</td>\n      <td>Information Technology</td>\n      <td>$25 to $50 million (USD)</td>\n      <td>NaN</td>\n      <td>NaN</td>\n      <td>New York</td>\n      <td>NY</td>\n    </tr>\n    <tr>\n      <th>2</th>\n      <td>Data Engineers</td>\n      <td>$80K-$150K (Glassdoor est.)</td>\n      <td>Overview  Job description  Position Overview: ...</td>\n      <td>5.0</td>\n      <td>Maestro Technologies 5.0</td>\n      <td>New York, NY</td>\n      <td>Trenton, NJ</td>\n      <td>51 to 200 employees</td>\n      <td>2003.0</td>\n      <td>Private</td>\n      <td>IT Services</td>\n      <td>Information Technology</td>\n      <td>$5 to $10 million (USD)</td>\n      <td>NaN</td>\n      <td>NaN</td>\n      <td>New York</td>\n      <td>NY</td>\n    </tr>\n    <tr>\n      <th>3</th>\n      <td>Client Trade Support Engineer</td>\n      <td>$80K-$150K (Glassdoor est.)</td>\n      <td>About the Position   This position will suppor...</td>\n      <td>4.8</td>\n      <td>Jane Street 4.8</td>\n      <td>New York, NY</td>\n      <td>New York, NY</td>\n      <td>501 to 1000 employees</td>\n      <td>2000.0</td>\n      <td>Private</td>\n      <td>Investment Banking &amp; Asset Management</td>\n      <td>Finance</td>\n      <td>Unknown / Non-Applicable</td>\n      <td>NaN</td>\n      <td>NaN</td>\n      <td>New York</td>\n      <td>NY</td>\n    </tr>\n    <tr>\n      <th>4</th>\n      <td>Data Engineer</td>\n      <td>$80K-$150K (Glassdoor est.)</td>\n      <td>Data Engineer  Job Details Level Experienced J...</td>\n      <td>3.7</td>\n      <td>GNY Insurance Companies 3.7</td>\n      <td>New York, NY</td>\n      <td>New York, NY</td>\n      <td>201 to 500 employees</td>\n      <td>1914.0</td>\n      <td>Private</td>\n      <td>Insurance Carriers</td>\n      <td>Insurance</td>\n      <td>$100 to $500 million (USD)</td>\n      <td>Travelers, Chubb, Crum &amp; Forster</td>\n      <td>True</td>\n      <td>New York</td>\n      <td>NY</td>\n    </tr>\n    <tr>\n      <th>...</th>\n      <td>...</td>\n      <td>...</td>\n      <td>...</td>\n      <td>...</td>\n      <td>...</td>\n      <td>...</td>\n      <td>...</td>\n      <td>...</td>\n      <td>...</td>\n      <td>...</td>\n      <td>...</td>\n      <td>...</td>\n      <td>...</td>\n      <td>...</td>\n      <td>...</td>\n      <td>...</td>\n      <td>...</td>\n    </tr>\n    <tr>\n      <th>2523</th>\n      <td>Cloud Engineer</td>\n      <td>$76K-$128K (Glassdoor est.)</td>\n      <td>The Expertise You Have Proven expertise in dev...</td>\n      <td>4.5</td>\n      <td>PMG Global 4.5</td>\n      <td>Westlake, TX</td>\n      <td>Herndon, VA</td>\n      <td>1 to 50 employees</td>\n      <td>NaN</td>\n      <td>Private</td>\n      <td>Computer Hardware &amp; Software</td>\n      <td>Information Technology</td>\n      <td>$1 to $5 million (USD)</td>\n      <td>NaN</td>\n      <td>NaN</td>\n      <td>Westlake</td>\n      <td>TX</td>\n    </tr>\n    <tr>\n      <th>2524</th>\n      <td>Electrical Engineer</td>\n      <td>$76K-$128K (Glassdoor est.)</td>\n      <td>Lockheed Martin is seeking a Circuit and FPGA ...</td>\n      <td>2.9</td>\n      <td>Albin Engineering Services 2.9</td>\n      <td>Fort Worth, TX</td>\n      <td>Santa Clara, CA</td>\n      <td>51 to 200 employees</td>\n      <td>1993.0</td>\n      <td>Private</td>\n      <td>Staffing &amp; Outsourcing</td>\n      <td>Business Services</td>\n      <td>$5 to $10 million (USD)</td>\n      <td>NaN</td>\n      <td>NaN</td>\n      <td>Fort Worth</td>\n      <td>TX</td>\n    </tr>\n    <tr>\n      <th>2525</th>\n      <td>Sr. Big Data Engineer</td>\n      <td>$76K-$128K (Glassdoor est.)</td>\n      <td>Posting Title Principal Data Engineer (Contrac...</td>\n      <td>3.7</td>\n      <td>Cincinnati Bell Technology Solutions 3.7</td>\n      <td>Irving, TX</td>\n      <td>Cincinnati, OH</td>\n      <td>501 to 1000 employees</td>\n      <td>NaN</td>\n      <td>Private</td>\n      <td>IT Services</td>\n      <td>Information Technology</td>\n      <td>$100 to $500 million (USD)</td>\n      <td>NaN</td>\n      <td>NaN</td>\n      <td>Irving</td>\n      <td>TX</td>\n    </tr>\n    <tr>\n      <th>2526</th>\n      <td>Senior Big Data / ETL Engineer</td>\n      <td>$76K-$128K (Glassdoor est.)</td>\n      <td>Your Opportunity  Charles Schwab &amp; Co., Inc is...</td>\n      <td>3.5</td>\n      <td>Schwab 3.5</td>\n      <td>Westlake, TX</td>\n      <td>Dettenheim, Germany</td>\n      <td>NaN</td>\n      <td>NaN</td>\n      <td>Public</td>\n      <td>NaN</td>\n      <td>NaN</td>\n      <td>Unknown / Non-Applicable</td>\n      <td>NaN</td>\n      <td>NaN</td>\n      <td>Westlake</td>\n      <td>TX</td>\n    </tr>\n    <tr>\n      <th>2527</th>\n      <td>Cloud Engineer</td>\n      <td>$76K-$128K (Glassdoor est.)</td>\n      <td>Cloud Engineer Westlake, TX 6+ months Descript...</td>\n      <td>3.6</td>\n      <td>SPECTRAFORCE TECHNOLOGIES Inc. 3.6</td>\n      <td>Westlake, TX</td>\n      <td>Raleigh, NC</td>\n      <td>501 to 1000 employees</td>\n      <td>2000.0</td>\n      <td>Private</td>\n      <td>Staffing &amp; Outsourcing</td>\n      <td>Business Services</td>\n      <td>$25 to $50 million (USD)</td>\n      <td>NaN</td>\n      <td>NaN</td>\n      <td>Westlake</td>\n      <td>TX</td>\n    </tr>\n  </tbody>\n</table>\n<p>2528 rows × 17 columns</p>\n</div>"
     },
     "execution_count": 186,
     "metadata": {},
     "output_type": "execute_result"
    }
   ],
   "source": [
    "df['Type of ownership'].replace(regex='Company -', value='', inplace=True)\n",
    "df.replace(regex='\\\\r', value='', inplace=True)\n",
    "df.replace(regex='\\\\n', value=' ', inplace=True)\n",
    "df"
   ]
  },
  {
   "cell_type": "code",
   "execution_count": 187,
   "metadata": {
    "pycharm": {
     "name": "#%%\n"
    }
   },
   "outputs": [],
   "source": [
    "df['Salary Estimate mean'] = df['Salary Estimate']\n",
    "df['Salary Estimate mean'].replace(regex='\\(Glassdoor est.\\)', value='', inplace=True)\n",
    "df['Salary Estimate mean'].replace(regex='\\(Employer est.\\)', value='', inplace=True)\n",
    "df['Salary Estimate mean'].replace(regex='K', value='000', inplace=True)\n",
    "df['Salary Estimate mean'].replace(regex='\\$', value='', inplace=True)\n",
    "df['Salary Estimate mean'] = df['Salary Estimate mean'].str.split('-', expand=True).astype(int).mean(axis=1)\n"
   ]
  },
  {
   "cell_type": "code",
   "execution_count": 188,
   "metadata": {
    "pycharm": {
     "name": "#%%\n"
    }
   },
   "outputs": [],
   "source": [
    "list_str_obj_cols = df.columns[df.dtypes == \"object\"].tolist()\n",
    "for str_obj_col in list_str_obj_cols:\n",
    "    df[str_obj_col] = df[str_obj_col].astype(\"category\")"
   ]
  },
  {
   "cell_type": "code",
   "execution_count": 189,
   "metadata": {
    "pycharm": {
     "name": "#%%\n"
    }
   },
   "outputs": [
    {
     "data": {
      "text/plain": "Job Title               category\nSalary Estimate         category\nJob Description         category\nRating                   float64\nCompany Name            category\nLocation                category\nHeadquarters            category\nSize                    category\nFounded                  float64\nType of ownership       category\nIndustry                category\nSector                  category\nRevenue                 category\nCompetitors             category\nEasy Apply              category\nCity                    category\nState                   category\nSalary Estimate mean     float64\ndtype: object"
     },
     "execution_count": 189,
     "metadata": {},
     "output_type": "execute_result"
    }
   ],
   "source": [
    "df.dtypes"
   ]
  },
  {
   "cell_type": "code",
   "execution_count": 190,
   "metadata": {
    "pycharm": {
     "name": "#%%\n"
    }
   },
   "outputs": [
    {
     "data": {
      "text/plain": "24"
     },
     "execution_count": 190,
     "metadata": {},
     "output_type": "execute_result"
    }
   ],
   "source": [
    "df.duplicated(keep=False).sum()\n"
   ]
  },
  {
   "cell_type": "code",
   "execution_count": 191,
   "metadata": {
    "pycharm": {
     "name": "#%%\n"
    }
   },
   "outputs": [
    {
     "data": {
      "text/plain": "Text(0.5, 1.0, 'Non nan values')"
     },
     "execution_count": 191,
     "metadata": {},
     "output_type": "execute_result"
    },
    {
     "data": {
      "text/plain": "<Figure size 720x360 with 3 Axes>",
      "image/png": "[encoded data removed]"
     },
     "metadata": {
      "needs_background": "light"
     },
     "output_type": "display_data"
    }
   ],
   "source": [
    "missingno.bar(df.iloc[:, :], color=\"green\", figsize=(10, 5), fontsize=12)\n",
    "plt.title('Non nan values')\n"
   ]
  },
  {
   "cell_type": "code",
   "execution_count": 192,
   "metadata": {
    "pycharm": {
     "name": "#%%\n"
    }
   },
   "outputs": [
    {
     "data": {
      "text/plain": "Text(0.5, 1.0, 'Nan matrix')"
     },
     "execution_count": 192,
     "metadata": {},
     "output_type": "execute_result"
    },
    {
     "data": {
      "text/plain": "<Figure size 720x360 with 1 Axes>",
      "image/png": "[encoded data removed]"
     },
     "metadata": {
      "needs_background": "light"
     },
     "output_type": "display_data"
    }
   ],
   "source": [
    "missingno.matrix(df.iloc[:, :], figsize=(\n",
    "    10, 5), fontsize=12, sparkline=False)\n",
    "\n",
    "plt.title('Nan matrix')"
   ]
  },
  {
   "cell_type": "code",
   "execution_count": 193,
   "metadata": {
    "pycharm": {
     "name": "#%%\n"
    }
   },
   "outputs": [],
   "source": [
    "df.drop(columns=['Job Description', 'Company Name', 'Competitors', 'Easy Apply', 'Competitors'],inplace=True)"
   ]
  },
  {
   "cell_type": "code",
   "execution_count": 194,
   "metadata": {
    "pycharm": {
     "name": "#%%\n"
    }
   },
   "outputs": [
    {
     "data": {
      "text/plain": "Text(0.5, 1.0, 'Nan values')"
     },
     "execution_count": 194,
     "metadata": {},
     "output_type": "execute_result"
    },
    {
     "data": {
      "text/plain": "<Figure size 720x360 with 3 Axes>",
      "image/png": "[encoded data removed]"
     },
     "metadata": {
      "needs_background": "light"
     },
     "output_type": "display_data"
    }
   ],
   "source": [
    "missingno.bar(df.iloc[:, :], color=\"green\", figsize=(10, 5), fontsize=12)\n",
    "plt.title('Nan values')\n"
   ]
  },
  {
   "cell_type": "code",
   "execution_count": 195,
   "metadata": {
    "pycharm": {
     "name": "#%%\n"
    }
   },
   "outputs": [],
   "source": [
    "df['Revenue'].fillna(df['Revenue'].value_counts().idxmax(), inplace=True)\n",
    "df['Headquarters'].fillna(df['Headquarters'].value_counts().idxmax(), inplace=True)\n",
    "df['Size'].fillna(df['Size'].value_counts().idxmax(), inplace=True)\n",
    "df['Industry'].fillna(df['Industry'].value_counts().idxmax(), inplace=True)\n",
    "df['Sector'].fillna(df['Sector'].value_counts().idxmax(), inplace=True)\n",
    "df['Type of ownership'].fillna(df['Type of ownership'].value_counts().idxmax(), inplace=True)\n",
    "\n"
   ]
  },
  {
   "cell_type": "code",
   "execution_count": 196,
   "metadata": {
    "pycharm": {
     "name": "#%%\n"
    }
   },
   "outputs": [],
   "source": [
    "knn_imp = KNNImputer(n_neighbors=3)\n",
    "# fit and transform the imputer on the dataset\n",
    "df_knn = pd.DataFrame(knn_imp.fit_transform(df[['Rating', 'Founded', 'Salary Estimate mean']]), columns=['Rating', 'Founded', 'Salary Estimate mean'])\n"
   ]
  },
  {
   "cell_type": "code",
   "execution_count": 197,
   "metadata": {
    "pycharm": {
     "name": "#%%\n"
    }
   },
   "outputs": [
    {
     "data": {
      "text/plain": "Rating                  0\nFounded                 0\nSalary Estimate mean    0\ndtype: int64"
     },
     "execution_count": 197,
     "metadata": {},
     "output_type": "execute_result"
    }
   ],
   "source": [
    "df_knn.isnull().sum()"
   ]
  },
  {
   "cell_type": "code",
   "execution_count": 198,
   "metadata": {
    "pycharm": {
     "name": "#%%\n"
    }
   },
   "outputs": [
    {
     "data": {
      "text/plain": "<matplotlib.legend.Legend at 0x162c47dee30>"
     },
     "execution_count": 198,
     "metadata": {},
     "output_type": "execute_result"
    },
    {
     "data": {
      "text/plain": "<Figure size 432x288 with 1 Axes>",
      "image/png": "[encoded data removed]"
     },
     "metadata": {
      "needs_background": "light"
     },
     "output_type": "display_data"
    }
   ],
   "source": [
    "df['Rating'].plot.kde(color='r', label='Before')\n",
    "df_knn[\"Rating\"].plot.kde(color='y', label='After')\n",
    "plt.title('Rating imputation')\n",
    "plt.legend()\n"
   ]
  },
  {
   "cell_type": "code",
   "execution_count": 199,
   "metadata": {
    "pycharm": {
     "name": "#%%\n"
    }
   },
   "outputs": [
    {
     "data": {
      "text/plain": "<matplotlib.legend.Legend at 0x162c48e5600>"
     },
     "execution_count": 199,
     "metadata": {},
     "output_type": "execute_result"
    },
    {
     "data": {
      "text/plain": "<Figure size 432x288 with 1 Axes>",
      "image/png": "[encoded data removed]"
     },
     "metadata": {
      "needs_background": "light"
     },
     "output_type": "display_data"
    }
   ],
   "source": [
    "df['Founded'].plot.kde(color='r', label='Before')\n",
    "df_knn[\"Founded\"].plot.kde(color='y', label='After')\n",
    "plt.title('Founded imputation')\n",
    "plt.legend()"
   ]
  },
  {
   "cell_type": "code",
   "execution_count": 200,
   "metadata": {
    "pycharm": {
     "name": "#%%\n"
    }
   },
   "outputs": [],
   "source": [
    "df[['Rating', 'Founded']] = df_knn[['Rating', 'Founded']]"
   ]
  },
  {
   "cell_type": "code",
   "execution_count": 201,
   "metadata": {
    "pycharm": {
     "name": "#%%\n"
    }
   },
   "outputs": [
    {
     "data": {
      "text/plain": "Text(0.5, 1.0, 'Nan matrix')"
     },
     "execution_count": 201,
     "metadata": {},
     "output_type": "execute_result"
    },
    {
     "data": {
      "text/plain": "<Figure size 720x360 with 1 Axes>",
      "image/png": "[encoded data removed]"
     },
     "metadata": {
      "needs_background": "light"
     },
     "output_type": "display_data"
    }
   ],
   "source": [
    "missingno.matrix(df.iloc[:, :], figsize=(\n",
    "    10, 5), fontsize=12, sparkline=False)\n",
    "\n",
    "plt.title('Nan matrix')"
   ]
  },
  {
   "cell_type": "code",
   "execution_count": 202,
   "metadata": {
    "pycharm": {
     "name": "#%%\n"
    }
   },
   "outputs": [],
   "source": [
    "df['Founded'] = df['Founded'].astype('int')"
   ]
  },
  {
   "cell_type": "code",
   "execution_count": 203,
   "metadata": {
    "pycharm": {
     "name": "#%%\n"
    }
   },
   "outputs": [],
   "source": [
    "#Dropping the outlier rows with Percentiles\n",
    "upper_lim = df['Founded'].quantile(.95)\n",
    "lower_lim = df['Founded'].quantile(.05)\n",
    "\n",
    "#Drop outliers\n",
    "df = df[(df['Founded'] < upper_lim) & (df['Founded'] > lower_lim)] "
   ]
  },
  {
   "cell_type": "code",
   "execution_count": 204,
   "metadata": {
    "pycharm": {
     "name": "#%%\n"
    }
   },
   "outputs": [
    {
     "data": {
      "text/plain": "                                              Job Title  \\\n0                                         Data Engineer   \n1     Senior Data Engineer (Healthcare Domain experi...   \n2                                        Data Engineers   \n3                         Client Trade Support Engineer   \n4                                         Data Engineer   \n...                                                 ...   \n2523                                     Cloud Engineer   \n2524                                Electrical Engineer   \n2525                              Sr. Big Data Engineer   \n2526                     Senior Big Data / ETL Engineer   \n2527                                     Cloud Engineer   \n\n                  Salary Estimate  Rating        Location  \\\n0     $80K-$150K (Glassdoor est.)     4.5    New York, NY   \n1     $80K-$150K (Glassdoor est.)     3.4    New York, NY   \n2     $80K-$150K (Glassdoor est.)     5.0    New York, NY   \n3     $80K-$150K (Glassdoor est.)     4.8    New York, NY   \n4     $80K-$150K (Glassdoor est.)     3.7    New York, NY   \n...                           ...     ...             ...   \n2523  $76K-$128K (Glassdoor est.)     4.5    Westlake, TX   \n2524  $76K-$128K (Glassdoor est.)     2.9  Fort Worth, TX   \n2525  $76K-$128K (Glassdoor est.)     3.7      Irving, TX   \n2526  $76K-$128K (Glassdoor est.)     3.5    Westlake, TX   \n2527  $76K-$128K (Glassdoor est.)     3.6    Westlake, TX   \n\n             Headquarters                   Size  Founded Type of ownership  \\\n0             Chicago, IL      1 to 50 employees     2009           Private   \n1        Jacksonville, FL    51 to 200 employees     1998           Private   \n2             Trenton, NJ    51 to 200 employees     2003           Private   \n3            New York, NY  501 to 1000 employees     2000           Private   \n4            New York, NY   201 to 500 employees     1914           Private   \n...                   ...                    ...      ...               ...   \n2523          Herndon, VA      1 to 50 employees     2007           Private   \n2524      Santa Clara, CA    51 to 200 employees     1993           Private   \n2525       Cincinnati, OH  501 to 1000 employees     1950           Private   \n2526  Dettenheim, Germany       10000+ employees     1950            Public   \n2527          Raleigh, NC  501 to 1000 employees     2000           Private   \n\n                                   Industry                  Sector  \\\n0                                Consulting       Business Services   \n1                               IT Services  Information Technology   \n2                               IT Services  Information Technology   \n3     Investment Banking & Asset Management                 Finance   \n4                        Insurance Carriers               Insurance   \n...                                     ...                     ...   \n2523           Computer Hardware & Software  Information Technology   \n2524                 Staffing & Outsourcing       Business Services   \n2525                            IT Services  Information Technology   \n2526                            IT Services  Information Technology   \n2527                 Staffing & Outsourcing       Business Services   \n\n                         Revenue        City State  Salary Estimate mean  \n0       $10 to $25 million (USD)    New York    NY              115000.0  \n1       $25 to $50 million (USD)    New York    NY              115000.0  \n2        $5 to $10 million (USD)    New York    NY              115000.0  \n3       Unknown / Non-Applicable    New York    NY              115000.0  \n4     $100 to $500 million (USD)    New York    NY              115000.0  \n...                          ...         ...   ...                   ...  \n2523      $1 to $5 million (USD)    Westlake    TX              102000.0  \n2524     $5 to $10 million (USD)  Fort Worth    TX              102000.0  \n2525  $100 to $500 million (USD)      Irving    TX              102000.0  \n2526    Unknown / Non-Applicable    Westlake    TX              102000.0  \n2527    $25 to $50 million (USD)    Westlake    TX              102000.0  \n\n[2247 rows x 14 columns]",
      "text/html": "<div>\n<style scoped>\n    .dataframe tbody tr th:only-of-type {\n        vertical-align: middle;\n    }\n\n    .dataframe tbody tr th {\n        vertical-align: top;\n    }\n\n    .dataframe thead th {\n        text-align: right;\n    }\n</style>\n<table border=\"1\" class=\"dataframe\">\n  <thead>\n    <tr style=\"text-align: right;\">\n      <th></th>\n      <th>Job Title</th>\n      <th>Salary Estimate</th>\n      <th>Rating</th>\n      <th>Location</th>\n      <th>Headquarters</th>\n      <th>Size</th>\n      <th>Founded</th>\n      <th>Type of ownership</th>\n      <th>Industry</th>\n      <th>Sector</th>\n      <th>Revenue</th>\n      <th>City</th>\n      <th>State</th>\n      <th>Salary Estimate mean</th>\n    </tr>\n  </thead>\n  <tbody>\n    <tr>\n      <th>0</th>\n      <td>Data Engineer</td>\n      <td>$80K-$150K (Glassdoor est.)</td>\n      <td>4.5</td>\n      <td>New York, NY</td>\n      <td>Chicago, IL</td>\n      <td>1 to 50 employees</td>\n      <td>2009</td>\n      <td>Private</td>\n      <td>Consulting</td>\n      <td>Business Services</td>\n      <td>$10 to $25 million (USD)</td>\n      <td>New York</td>\n      <td>NY</td>\n      <td>115000.0</td>\n    </tr>\n    <tr>\n      <th>1</th>\n      <td>Senior Data Engineer (Healthcare Domain experi...</td>\n      <td>$80K-$150K (Glassdoor est.)</td>\n      <td>3.4</td>\n      <td>New York, NY</td>\n      <td>Jacksonville, FL</td>\n      <td>51 to 200 employees</td>\n      <td>1998</td>\n      <td>Private</td>\n      <td>IT Services</td>\n      <td>Information Technology</td>\n      <td>$25 to $50 million (USD)</td>\n      <td>New York</td>\n      <td>NY</td>\n      <td>115000.0</td>\n    </tr>\n    <tr>\n      <th>2</th>\n      <td>Data Engineers</td>\n      <td>$80K-$150K (Glassdoor est.)</td>\n      <td>5.0</td>\n      <td>New York, NY</td>\n      <td>Trenton, NJ</td>\n      <td>51 to 200 employees</td>\n      <td>2003</td>\n      <td>Private</td>\n      <td>IT Services</td>\n      <td>Information Technology</td>\n      <td>$5 to $10 million (USD)</td>\n      <td>New York</td>\n      <td>NY</td>\n      <td>115000.0</td>\n    </tr>\n    <tr>\n      <th>3</th>\n      <td>Client Trade Support Engineer</td>\n      <td>$80K-$150K (Glassdoor est.)</td>\n      <td>4.8</td>\n      <td>New York, NY</td>\n      <td>New York, NY</td>\n      <td>501 to 1000 employees</td>\n      <td>2000</td>\n      <td>Private</td>\n      <td>Investment Banking &amp; Asset Management</td>\n      <td>Finance</td>\n      <td>Unknown / Non-Applicable</td>\n      <td>New York</td>\n      <td>NY</td>\n      <td>115000.0</td>\n    </tr>\n    <tr>\n      <th>4</th>\n      <td>Data Engineer</td>\n      <td>$80K-$150K (Glassdoor est.)</td>\n      <td>3.7</td>\n      <td>New York, NY</td>\n      <td>New York, NY</td>\n      <td>201 to 500 employees</td>\n      <td>1914</td>\n      <td>Private</td>\n      <td>Insurance Carriers</td>\n      <td>Insurance</td>\n      <td>$100 to $500 million (USD)</td>\n      <td>New York</td>\n      <td>NY</td>\n      <td>115000.0</td>\n    </tr>\n    <tr>\n      <th>...</th>\n      <td>...</td>\n      <td>...</td>\n      <td>...</td>\n      <td>...</td>\n      <td>...</td>\n      <td>...</td>\n      <td>...</td>\n      <td>...</td>\n      <td>...</td>\n      <td>...</td>\n      <td>...</td>\n      <td>...</td>\n      <td>...</td>\n      <td>...</td>\n    </tr>\n    <tr>\n      <th>2523</th>\n      <td>Cloud Engineer</td>\n      <td>$76K-$128K (Glassdoor est.)</td>\n      <td>4.5</td>\n      <td>Westlake, TX</td>\n      <td>Herndon, VA</td>\n      <td>1 to 50 employees</td>\n      <td>2007</td>\n      <td>Private</td>\n      <td>Computer Hardware &amp; Software</td>\n      <td>Information Technology</td>\n      <td>$1 to $5 million (USD)</td>\n      <td>Westlake</td>\n      <td>TX</td>\n      <td>102000.0</td>\n    </tr>\n    <tr>\n      <th>2524</th>\n      <td>Electrical Engineer</td>\n      <td>$76K-$128K (Glassdoor est.)</td>\n      <td>2.9</td>\n      <td>Fort Worth, TX</td>\n      <td>Santa Clara, CA</td>\n      <td>51 to 200 employees</td>\n      <td>1993</td>\n      <td>Private</td>\n      <td>Staffing &amp; Outsourcing</td>\n      <td>Business Services</td>\n      <td>$5 to $10 million (USD)</td>\n      <td>Fort Worth</td>\n      <td>TX</td>\n      <td>102000.0</td>\n    </tr>\n    <tr>\n      <th>2525</th>\n      <td>Sr. Big Data Engineer</td>\n      <td>$76K-$128K (Glassdoor est.)</td>\n      <td>3.7</td>\n      <td>Irving, TX</td>\n      <td>Cincinnati, OH</td>\n      <td>501 to 1000 employees</td>\n      <td>1950</td>\n      <td>Private</td>\n      <td>IT Services</td>\n      <td>Information Technology</td>\n      <td>$100 to $500 million (USD)</td>\n      <td>Irving</td>\n      <td>TX</td>\n      <td>102000.0</td>\n    </tr>\n    <tr>\n      <th>2526</th>\n      <td>Senior Big Data / ETL Engineer</td>\n      <td>$76K-$128K (Glassdoor est.)</td>\n      <td>3.5</td>\n      <td>Westlake, TX</td>\n      <td>Dettenheim, Germany</td>\n      <td>10000+ employees</td>\n      <td>1950</td>\n      <td>Public</td>\n      <td>IT Services</td>\n      <td>Information Technology</td>\n      <td>Unknown / Non-Applicable</td>\n      <td>Westlake</td>\n      <td>TX</td>\n      <td>102000.0</td>\n    </tr>\n    <tr>\n      <th>2527</th>\n      <td>Cloud Engineer</td>\n      <td>$76K-$128K (Glassdoor est.)</td>\n      <td>3.6</td>\n      <td>Westlake, TX</td>\n      <td>Raleigh, NC</td>\n      <td>501 to 1000 employees</td>\n      <td>2000</td>\n      <td>Private</td>\n      <td>Staffing &amp; Outsourcing</td>\n      <td>Business Services</td>\n      <td>$25 to $50 million (USD)</td>\n      <td>Westlake</td>\n      <td>TX</td>\n      <td>102000.0</td>\n    </tr>\n  </tbody>\n</table>\n<p>2247 rows × 14 columns</p>\n</div>"
     },
     "execution_count": 204,
     "metadata": {},
     "output_type": "execute_result"
    }
   ],
   "source": [
    "df"
   ]
  },
  {
   "cell_type": "code",
   "execution_count": 205,
   "outputs": [
    {
     "name": "stderr",
     "output_type": "stream",
     "text": [
      "C:\\Users\\Lenovo\\AppData\\Local\\Temp\\ipykernel_8228\\3310840708.py:1: SettingWithCopyWarning:\n",
      "\n",
      "\n",
      "A value is trying to be set on a copy of a slice from a DataFrame.\n",
      "Try using .loc[row_indexer,col_indexer] = value instead\n",
      "\n",
      "See the caveats in the documentation: https://pandas.pydata.org/pandas-docs/stable/user_guide/indexing.html#returning-a-view-versus-a-copy\n",
      "\n"
     ]
    }
   ],
   "source": [
    "df['State'] = df['State'].str.lstrip() # Remove the whitespaces from front\n",
    "latitude = loc_generator_df['usa_state_latitude'].to_list() # Make a list of all the states\n",
    "longitude = loc_generator_df['usa_state_longitude'].to_list() # Make a list of all the latitudes of a state\n",
    "states = loc_generator_df['usa_state_code'].to_list() # Make a list of all the longitudes of a state"
   ],
   "metadata": {
    "collapsed": false,
    "pycharm": {
     "name": "#%%\n"
    }
   }
  },
  {
   "cell_type": "code",
   "execution_count": 206,
   "outputs": [],
   "source": [
    "def find_latitude(x,states,latitude):\n",
    "    index = states.index(x)\n",
    "    return latitude[index]"
   ],
   "metadata": {
    "collapsed": false,
    "pycharm": {
     "name": "#%%\n"
    }
   }
  },
  {
   "cell_type": "code",
   "execution_count": 207,
   "outputs": [],
   "source": [
    "def find_longitude(x,states,longitude):\n",
    "    index = states.index(x)\n",
    "    return longitude[index]"
   ],
   "metadata": {
    "collapsed": false,
    "pycharm": {
     "name": "#%%\n"
    }
   }
  },
  {
   "cell_type": "code",
   "execution_count": 208,
   "outputs": [
    {
     "name": "stderr",
     "output_type": "stream",
     "text": [
      "C:\\Users\\Lenovo\\AppData\\Local\\Temp\\ipykernel_8228\\160817870.py:1: SettingWithCopyWarning:\n",
      "\n",
      "\n",
      "A value is trying to be set on a copy of a slice from a DataFrame.\n",
      "Try using .loc[row_indexer,col_indexer] = value instead\n",
      "\n",
      "See the caveats in the documentation: https://pandas.pydata.org/pandas-docs/stable/user_guide/indexing.html#returning-a-view-versus-a-copy\n",
      "\n",
      "C:\\Users\\Lenovo\\AppData\\Local\\Temp\\ipykernel_8228\\160817870.py:2: SettingWithCopyWarning:\n",
      "\n",
      "\n",
      "A value is trying to be set on a copy of a slice from a DataFrame.\n",
      "Try using .loc[row_indexer,col_indexer] = value instead\n",
      "\n",
      "See the caveats in the documentation: https://pandas.pydata.org/pandas-docs/stable/user_guide/indexing.html#returning-a-view-versus-a-copy\n",
      "\n"
     ]
    }
   ],
   "source": [
    "df['latitude']= df['State'].apply(lambda x: find_latitude(x,states,latitude))\n",
    "df['longitude']= df['State'].apply(lambda x: find_longitude(x,states,longitude))"
   ],
   "metadata": {
    "collapsed": false,
    "pycharm": {
     "name": "#%%\n"
    }
   }
  },
  {
   "cell_type": "code",
   "execution_count": 209,
   "outputs": [
    {
     "data": {
      "text/plain": "                                              Job Title  \\\n0                                         Data Engineer   \n1     Senior Data Engineer (Healthcare Domain experi...   \n2                                        Data Engineers   \n3                         Client Trade Support Engineer   \n4                                         Data Engineer   \n...                                                 ...   \n2523                                     Cloud Engineer   \n2524                                Electrical Engineer   \n2525                              Sr. Big Data Engineer   \n2526                     Senior Big Data / ETL Engineer   \n2527                                     Cloud Engineer   \n\n                  Salary Estimate  Rating        Location  \\\n0     $80K-$150K (Glassdoor est.)     4.5    New York, NY   \n1     $80K-$150K (Glassdoor est.)     3.4    New York, NY   \n2     $80K-$150K (Glassdoor est.)     5.0    New York, NY   \n3     $80K-$150K (Glassdoor est.)     4.8    New York, NY   \n4     $80K-$150K (Glassdoor est.)     3.7    New York, NY   \n...                           ...     ...             ...   \n2523  $76K-$128K (Glassdoor est.)     4.5    Westlake, TX   \n2524  $76K-$128K (Glassdoor est.)     2.9  Fort Worth, TX   \n2525  $76K-$128K (Glassdoor est.)     3.7      Irving, TX   \n2526  $76K-$128K (Glassdoor est.)     3.5    Westlake, TX   \n2527  $76K-$128K (Glassdoor est.)     3.6    Westlake, TX   \n\n             Headquarters                   Size  Founded Type of ownership  \\\n0             Chicago, IL      1 to 50 employees     2009           Private   \n1        Jacksonville, FL    51 to 200 employees     1998           Private   \n2             Trenton, NJ    51 to 200 employees     2003           Private   \n3            New York, NY  501 to 1000 employees     2000           Private   \n4            New York, NY   201 to 500 employees     1914           Private   \n...                   ...                    ...      ...               ...   \n2523          Herndon, VA      1 to 50 employees     2007           Private   \n2524      Santa Clara, CA    51 to 200 employees     1993           Private   \n2525       Cincinnati, OH  501 to 1000 employees     1950           Private   \n2526  Dettenheim, Germany       10000+ employees     1950            Public   \n2527          Raleigh, NC  501 to 1000 employees     2000           Private   \n\n                                   Industry                  Sector  \\\n0                                Consulting       Business Services   \n1                               IT Services  Information Technology   \n2                               IT Services  Information Technology   \n3     Investment Banking & Asset Management                 Finance   \n4                        Insurance Carriers               Insurance   \n...                                     ...                     ...   \n2523           Computer Hardware & Software  Information Technology   \n2524                 Staffing & Outsourcing       Business Services   \n2525                            IT Services  Information Technology   \n2526                            IT Services  Information Technology   \n2527                 Staffing & Outsourcing       Business Services   \n\n                         Revenue        City State  Salary Estimate mean  \\\n0       $10 to $25 million (USD)    New York    NY              115000.0   \n1       $25 to $50 million (USD)    New York    NY              115000.0   \n2        $5 to $10 million (USD)    New York    NY              115000.0   \n3       Unknown / Non-Applicable    New York    NY              115000.0   \n4     $100 to $500 million (USD)    New York    NY              115000.0   \n...                          ...         ...   ...                   ...   \n2523      $1 to $5 million (USD)    Westlake    TX              102000.0   \n2524     $5 to $10 million (USD)  Fort Worth    TX              102000.0   \n2525  $100 to $500 million (USD)      Irving    TX              102000.0   \n2526    Unknown / Non-Applicable    Westlake    TX              102000.0   \n2527    $25 to $50 million (USD)    Westlake    TX              102000.0   \n\n       latitude  longitude  \n0     43.299428 -74.217933  \n1     43.299428 -74.217933  \n2     43.299428 -74.217933  \n3     43.299428 -74.217933  \n4     43.299428 -74.217933  \n...         ...        ...  \n2523  31.968599 -99.901813  \n2524  31.968599 -99.901813  \n2525  31.968599 -99.901813  \n2526  31.968599 -99.901813  \n2527  31.968599 -99.901813  \n\n[2247 rows x 16 columns]",
      "text/html": "<div>\n<style scoped>\n    .dataframe tbody tr th:only-of-type {\n        vertical-align: middle;\n    }\n\n    .dataframe tbody tr th {\n        vertical-align: top;\n    }\n\n    .dataframe thead th {\n        text-align: right;\n    }\n</style>\n<table border=\"1\" class=\"dataframe\">\n  <thead>\n    <tr style=\"text-align: right;\">\n      <th></th>\n      <th>Job Title</th>\n      <th>Salary Estimate</th>\n      <th>Rating</th>\n      <th>Location</th>\n      <th>Headquarters</th>\n      <th>Size</th>\n      <th>Founded</th>\n      <th>Type of ownership</th>\n      <th>Industry</th>\n      <th>Sector</th>\n      <th>Revenue</th>\n      <th>City</th>\n      <th>State</th>\n      <th>Salary Estimate mean</th>\n      <th>latitude</th>\n      <th>longitude</th>\n    </tr>\n  </thead>\n  <tbody>\n    <tr>\n      <th>0</th>\n      <td>Data Engineer</td>\n      <td>$80K-$150K (Glassdoor est.)</td>\n      <td>4.5</td>\n      <td>New York, NY</td>\n      <td>Chicago, IL</td>\n      <td>1 to 50 employees</td>\n      <td>2009</td>\n      <td>Private</td>\n      <td>Consulting</td>\n      <td>Business Services</td>\n      <td>$10 to $25 million (USD)</td>\n      <td>New York</td>\n      <td>NY</td>\n      <td>115000.0</td>\n      <td>43.299428</td>\n      <td>-74.217933</td>\n    </tr>\n    <tr>\n      <th>1</th>\n      <td>Senior Data Engineer (Healthcare Domain experi...</td>\n      <td>$80K-$150K (Glassdoor est.)</td>\n      <td>3.4</td>\n      <td>New York, NY</td>\n      <td>Jacksonville, FL</td>\n      <td>51 to 200 employees</td>\n      <td>1998</td>\n      <td>Private</td>\n      <td>IT Services</td>\n      <td>Information Technology</td>\n      <td>$25 to $50 million (USD)</td>\n      <td>New York</td>\n      <td>NY</td>\n      <td>115000.0</td>\n      <td>43.299428</td>\n      <td>-74.217933</td>\n    </tr>\n    <tr>\n      <th>2</th>\n      <td>Data Engineers</td>\n      <td>$80K-$150K (Glassdoor est.)</td>\n      <td>5.0</td>\n      <td>New York, NY</td>\n      <td>Trenton, NJ</td>\n      <td>51 to 200 employees</td>\n      <td>2003</td>\n      <td>Private</td>\n      <td>IT Services</td>\n      <td>Information Technology</td>\n      <td>$5 to $10 million (USD)</td>\n      <td>New York</td>\n      <td>NY</td>\n      <td>115000.0</td>\n      <td>43.299428</td>\n      <td>-74.217933</td>\n    </tr>\n    <tr>\n      <th>3</th>\n      <td>Client Trade Support Engineer</td>\n      <td>$80K-$150K (Glassdoor est.)</td>\n      <td>4.8</td>\n      <td>New York, NY</td>\n      <td>New York, NY</td>\n      <td>501 to 1000 employees</td>\n      <td>2000</td>\n      <td>Private</td>\n      <td>Investment Banking &amp; Asset Management</td>\n      <td>Finance</td>\n      <td>Unknown / Non-Applicable</td>\n      <td>New York</td>\n      <td>NY</td>\n      <td>115000.0</td>\n      <td>43.299428</td>\n      <td>-74.217933</td>\n    </tr>\n    <tr>\n      <th>4</th>\n      <td>Data Engineer</td>\n      <td>$80K-$150K (Glassdoor est.)</td>\n      <td>3.7</td>\n      <td>New York, NY</td>\n      <td>New York, NY</td>\n      <td>201 to 500 employees</td>\n      <td>1914</td>\n      <td>Private</td>\n      <td>Insurance Carriers</td>\n      <td>Insurance</td>\n      <td>$100 to $500 million (USD)</td>\n      <td>New York</td>\n      <td>NY</td>\n      <td>115000.0</td>\n      <td>43.299428</td>\n      <td>-74.217933</td>\n    </tr>\n    <tr>\n      <th>...</th>\n      <td>...</td>\n      <td>...</td>\n      <td>...</td>\n      <td>...</td>\n      <td>...</td>\n      <td>...</td>\n      <td>...</td>\n      <td>...</td>\n      <td>...</td>\n      <td>...</td>\n      <td>...</td>\n      <td>...</td>\n      <td>...</td>\n      <td>...</td>\n      <td>...</td>\n      <td>...</td>\n    </tr>\n    <tr>\n      <th>2523</th>\n      <td>Cloud Engineer</td>\n      <td>$76K-$128K (Glassdoor est.)</td>\n      <td>4.5</td>\n      <td>Westlake, TX</td>\n      <td>Herndon, VA</td>\n      <td>1 to 50 employees</td>\n      <td>2007</td>\n      <td>Private</td>\n      <td>Computer Hardware &amp; Software</td>\n      <td>Information Technology</td>\n      <td>$1 to $5 million (USD)</td>\n      <td>Westlake</td>\n      <td>TX</td>\n      <td>102000.0</td>\n      <td>31.968599</td>\n      <td>-99.901813</td>\n    </tr>\n    <tr>\n      <th>2524</th>\n      <td>Electrical Engineer</td>\n      <td>$76K-$128K (Glassdoor est.)</td>\n      <td>2.9</td>\n      <td>Fort Worth, TX</td>\n      <td>Santa Clara, CA</td>\n      <td>51 to 200 employees</td>\n      <td>1993</td>\n      <td>Private</td>\n      <td>Staffing &amp; Outsourcing</td>\n      <td>Business Services</td>\n      <td>$5 to $10 million (USD)</td>\n      <td>Fort Worth</td>\n      <td>TX</td>\n      <td>102000.0</td>\n      <td>31.968599</td>\n      <td>-99.901813</td>\n    </tr>\n    <tr>\n      <th>2525</th>\n      <td>Sr. Big Data Engineer</td>\n      <td>$76K-$128K (Glassdoor est.)</td>\n      <td>3.7</td>\n      <td>Irving, TX</td>\n      <td>Cincinnati, OH</td>\n      <td>501 to 1000 employees</td>\n      <td>1950</td>\n      <td>Private</td>\n      <td>IT Services</td>\n      <td>Information Technology</td>\n      <td>$100 to $500 million (USD)</td>\n      <td>Irving</td>\n      <td>TX</td>\n      <td>102000.0</td>\n      <td>31.968599</td>\n      <td>-99.901813</td>\n    </tr>\n    <tr>\n      <th>2526</th>\n      <td>Senior Big Data / ETL Engineer</td>\n      <td>$76K-$128K (Glassdoor est.)</td>\n      <td>3.5</td>\n      <td>Westlake, TX</td>\n      <td>Dettenheim, Germany</td>\n      <td>10000+ employees</td>\n      <td>1950</td>\n      <td>Public</td>\n      <td>IT Services</td>\n      <td>Information Technology</td>\n      <td>Unknown / Non-Applicable</td>\n      <td>Westlake</td>\n      <td>TX</td>\n      <td>102000.0</td>\n      <td>31.968599</td>\n      <td>-99.901813</td>\n    </tr>\n    <tr>\n      <th>2527</th>\n      <td>Cloud Engineer</td>\n      <td>$76K-$128K (Glassdoor est.)</td>\n      <td>3.6</td>\n      <td>Westlake, TX</td>\n      <td>Raleigh, NC</td>\n      <td>501 to 1000 employees</td>\n      <td>2000</td>\n      <td>Private</td>\n      <td>Staffing &amp; Outsourcing</td>\n      <td>Business Services</td>\n      <td>$25 to $50 million (USD)</td>\n      <td>Westlake</td>\n      <td>TX</td>\n      <td>102000.0</td>\n      <td>31.968599</td>\n      <td>-99.901813</td>\n    </tr>\n  </tbody>\n</table>\n<p>2247 rows × 16 columns</p>\n</div>"
     },
     "execution_count": 209,
     "metadata": {},
     "output_type": "execute_result"
    }
   ],
   "source": [
    "df"
   ],
   "metadata": {
    "collapsed": false,
    "pycharm": {
     "name": "#%%\n"
    }
   }
  },
  {
   "cell_type": "markdown",
   "metadata": {
    "pycharm": {
     "name": "#%% md\n"
    }
   },
   "source": [
    "# Visualizations"
   ]
  },
  {
   "cell_type": "code",
   "execution_count": 210,
   "metadata": {
    "pycharm": {
     "name": "#%%\n"
    }
   },
   "outputs": [
    {
     "data": {
      "application/vnd.plotly.v1+json": {
       "data": [
        {
         "alignmentgroup": "True",
         "hovertemplate": "Count=%{x}<br>Industry=%{y}<extra></extra>",
         "legendgroup": "",
         "marker": {
          "color": "#636efa",
          "pattern": {
           "shape": ""
          }
         },
         "name": "",
         "offsetgroup": "",
         "orientation": "h",
         "showlegend": false,
         "textposition": "auto",
         "x": [
          696,
          217,
          192,
          133,
          124,
          91,
          89,
          52,
          48,
          43
         ],
         "xaxis": "x",
         "y": [
          "IT Services",
          "Computer Hardware & Software",
          "Staffing & Outsourcing",
          "Internet",
          "Enterprise Software & Network Solutions",
          "Consulting",
          "Aerospace & Defense",
          "Advertising & Marketing",
          "Investment Banking & Asset Management",
          "Insurance Carriers"
         ],
         "yaxis": "y",
         "type": "bar"
        }
       ],
       "layout": {
        "template": {
         "data": {
          "histogram2dcontour": [
           {
            "type": "histogram2dcontour",
            "colorbar": {
             "outlinewidth": 0,
             "ticks": ""
            },
            "colorscale": [
             [
              0.0,
              "#0d0887"
             ],
             [
              0.1111111111111111,
              "#46039f"
             ],
             [
              0.2222222222222222,
              "#7201a8"
             ],
             [
              0.3333333333333333,
              "#9c179e"
             ],
             [
              0.4444444444444444,
              "#bd3786"
             ],
             [
              0.5555555555555556,
              "#d8576b"
             ],
             [
              0.6666666666666666,
              "#ed7953"
             ],
             [
              0.7777777777777778,
              "#fb9f3a"
             ],
             [
              0.8888888888888888,
              "#fdca26"
             ],
             [
              1.0,
              "#f0f921"
             ]
            ]
           }
          ],
          "choropleth": [
           {
            "type": "choropleth",
            "colorbar": {
             "outlinewidth": 0,
             "ticks": ""
            }
           }
          ],
          "histogram2d": [
           {
            "type": "histogram2d",
            "colorbar": {
             "outlinewidth": 0,
             "ticks": ""
            },
            "colorscale": [
             [
              0.0,
              "#0d0887"
             ],
             [
              0.1111111111111111,
              "#46039f"
             ],
             [
              0.2222222222222222,
              "#7201a8"
             ],
             [
              0.3333333333333333,
              "#9c179e"
             ],
             [
              0.4444444444444444,
              "#bd3786"
             ],
             [
              0.5555555555555556,
              "#d8576b"
             ],
             [
              0.6666666666666666,
              "#ed7953"
             ],
             [
              0.7777777777777778,
              "#fb9f3a"
             ],
             [
              0.8888888888888888,
              "#fdca26"
             ],
             [
              1.0,
              "#f0f921"
             ]
            ]
           }
          ],
          "heatmap": [
           {
            "type": "heatmap",
            "colorbar": {
             "outlinewidth": 0,
             "ticks": ""
            },
            "colorscale": [
             [
              0.0,
              "#0d0887"
             ],
             [
              0.1111111111111111,
              "#46039f"
             ],
             [
              0.2222222222222222,
              "#7201a8"
             ],
             [
              0.3333333333333333,
              "#9c179e"
             ],
             [
              0.4444444444444444,
              "#bd3786"
             ],
             [
              0.5555555555555556,
              "#d8576b"
             ],
             [
              0.6666666666666666,
              "#ed7953"
             ],
             [
              0.7777777777777778,
              "#fb9f3a"
             ],
             [
              0.8888888888888888,
              "#fdca26"
             ],
             [
              1.0,
              "#f0f921"
             ]
            ]
           }
          ],
          "heatmapgl": [
           {
            "type": "heatmapgl",
            "colorbar": {
             "outlinewidth": 0,
             "ticks": ""
            },
            "colorscale": [
             [
              0.0,
              "#0d0887"
             ],
             [
              0.1111111111111111,
              "#46039f"
             ],
             [
              0.2222222222222222,
              "#7201a8"
             ],
             [
              0.3333333333333333,
              "#9c179e"
             ],
             [
              0.4444444444444444,
              "#bd3786"
             ],
             [
              0.5555555555555556,
              "#d8576b"
             ],
             [
              0.6666666666666666,
              "#ed7953"
             ],
             [
              0.7777777777777778,
              "#fb9f3a"
             ],
             [
              0.8888888888888888,
              "#fdca26"
             ],
             [
              1.0,
              "#f0f921"
             ]
            ]
           }
          ],
          "contourcarpet": [
           {
            "type": "contourcarpet",
            "colorbar": {
             "outlinewidth": 0,
             "ticks": ""
            }
           }
          ],
          "contour": [
           {
            "type": "contour",
            "colorbar": {
             "outlinewidth": 0,
             "ticks": ""
            },
            "colorscale": [
             [
              0.0,
              "#0d0887"
             ],
             [
              0.1111111111111111,
              "#46039f"
             ],
             [
              0.2222222222222222,
              "#7201a8"
             ],
             [
              0.3333333333333333,
              "#9c179e"
             ],
             [
              0.4444444444444444,
              "#bd3786"
             ],
             [
              0.5555555555555556,
              "#d8576b"
             ],
             [
              0.6666666666666666,
              "#ed7953"
             ],
             [
              0.7777777777777778,
              "#fb9f3a"
             ],
             [
              0.8888888888888888,
              "#fdca26"
             ],
             [
              1.0,
              "#f0f921"
             ]
            ]
           }
          ],
          "surface": [
           {
            "type": "surface",
            "colorbar": {
             "outlinewidth": 0,
             "ticks": ""
            },
            "colorscale": [
             [
              0.0,
              "#0d0887"
             ],
             [
              0.1111111111111111,
              "#46039f"
             ],
             [
              0.2222222222222222,
              "#7201a8"
             ],
             [
              0.3333333333333333,
              "#9c179e"
             ],
             [
              0.4444444444444444,
              "#bd3786"
             ],
             [
              0.5555555555555556,
              "#d8576b"
             ],
             [
              0.6666666666666666,
              "#ed7953"
             ],
             [
              0.7777777777777778,
              "#fb9f3a"
             ],
             [
              0.8888888888888888,
              "#fdca26"
             ],
             [
              1.0,
              "#f0f921"
             ]
            ]
           }
          ],
          "mesh3d": [
           {
            "type": "mesh3d",
            "colorbar": {
             "outlinewidth": 0,
             "ticks": ""
            }
           }
          ],
          "scatter": [
           {
            "marker": {
             "line": {
              "color": "#283442"
             }
            },
            "type": "scatter"
           }
          ],
          "parcoords": [
           {
            "type": "parcoords",
            "line": {
             "colorbar": {
              "outlinewidth": 0,
              "ticks": ""
             }
            }
           }
          ],
          "scatterpolargl": [
           {
            "type": "scatterpolargl",
            "marker": {
             "colorbar": {
              "outlinewidth": 0,
              "ticks": ""
             }
            }
           }
          ],
          "bar": [
           {
            "error_x": {
             "color": "#f2f5fa"
            },
            "error_y": {
             "color": "#f2f5fa"
            },
            "marker": {
             "line": {
              "color": "rgb(17,17,17)",
              "width": 0.5
             },
             "pattern": {
              "fillmode": "overlay",
              "size": 10,
              "solidity": 0.2
             }
            },
            "type": "bar"
           }
          ],
          "scattergeo": [
           {
            "type": "scattergeo",
            "marker": {
             "colorbar": {
              "outlinewidth": 0,
              "ticks": ""
             }
            }
           }
          ],
          "scatterpolar": [
           {
            "type": "scatterpolar",
            "marker": {
             "colorbar": {
              "outlinewidth": 0,
              "ticks": ""
             }
            }
           }
          ],
          "histogram": [
           {
            "marker": {
             "pattern": {
              "fillmode": "overlay",
              "size": 10,
              "solidity": 0.2
             }
            },
            "type": "histogram"
           }
          ],
          "scattergl": [
           {
            "marker": {
             "line": {
              "color": "#283442"
             }
            },
            "type": "scattergl"
           }
          ],
          "scatter3d": [
           {
            "type": "scatter3d",
            "line": {
             "colorbar": {
              "outlinewidth": 0,
              "ticks": ""
             }
            },
            "marker": {
             "colorbar": {
              "outlinewidth": 0,
              "ticks": ""
             }
            }
           }
          ],
          "scattermapbox": [
           {
            "type": "scattermapbox",
            "marker": {
             "colorbar": {
              "outlinewidth": 0,
              "ticks": ""
             }
            }
           }
          ],
          "scatterternary": [
           {
            "type": "scatterternary",
            "marker": {
             "colorbar": {
              "outlinewidth": 0,
              "ticks": ""
             }
            }
           }
          ],
          "scattercarpet": [
           {
            "type": "scattercarpet",
            "marker": {
             "colorbar": {
              "outlinewidth": 0,
              "ticks": ""
             }
            }
           }
          ],
          "carpet": [
           {
            "aaxis": {
             "endlinecolor": "#A2B1C6",
             "gridcolor": "#506784",
             "linecolor": "#506784",
             "minorgridcolor": "#506784",
             "startlinecolor": "#A2B1C6"
            },
            "baxis": {
             "endlinecolor": "#A2B1C6",
             "gridcolor": "#506784",
             "linecolor": "#506784",
             "minorgridcolor": "#506784",
             "startlinecolor": "#A2B1C6"
            },
            "type": "carpet"
           }
          ],
          "table": [
           {
            "cells": {
             "fill": {
              "color": "#506784"
             },
             "line": {
              "color": "rgb(17,17,17)"
             }
            },
            "header": {
             "fill": {
              "color": "#2a3f5f"
             },
             "line": {
              "color": "rgb(17,17,17)"
             }
            },
            "type": "table"
           }
          ],
          "barpolar": [
           {
            "marker": {
             "line": {
              "color": "rgb(17,17,17)",
              "width": 0.5
             },
             "pattern": {
              "fillmode": "overlay",
              "size": 10,
              "solidity": 0.2
             }
            },
            "type": "barpolar"
           }
          ],
          "pie": [
           {
            "automargin": true,
            "type": "pie"
           }
          ]
         },
         "layout": {
          "autotypenumbers": "strict",
          "colorway": [
           "#636efa",
           "#EF553B",
           "#00cc96",
           "#ab63fa",
           "#FFA15A",
           "#19d3f3",
           "#FF6692",
           "#B6E880",
           "#FF97FF",
           "#FECB52"
          ],
          "font": {
           "color": "#f2f5fa"
          },
          "hovermode": "closest",
          "hoverlabel": {
           "align": "left"
          },
          "paper_bgcolor": "rgb(17,17,17)",
          "plot_bgcolor": "rgb(17,17,17)",
          "polar": {
           "bgcolor": "rgb(17,17,17)",
           "angularaxis": {
            "gridcolor": "#506784",
            "linecolor": "#506784",
            "ticks": ""
           },
           "radialaxis": {
            "gridcolor": "#506784",
            "linecolor": "#506784",
            "ticks": ""
           }
          },
          "ternary": {
           "bgcolor": "rgb(17,17,17)",
           "aaxis": {
            "gridcolor": "#506784",
            "linecolor": "#506784",
            "ticks": ""
           },
           "baxis": {
            "gridcolor": "#506784",
            "linecolor": "#506784",
            "ticks": ""
           },
           "caxis": {
            "gridcolor": "#506784",
            "linecolor": "#506784",
            "ticks": ""
           }
          },
          "coloraxis": {
           "colorbar": {
            "outlinewidth": 0,
            "ticks": ""
           }
          },
          "colorscale": {
           "sequential": [
            [
             0.0,
             "#0d0887"
            ],
            [
             0.1111111111111111,
             "#46039f"
            ],
            [
             0.2222222222222222,
             "#7201a8"
            ],
            [
             0.3333333333333333,
             "#9c179e"
            ],
            [
             0.4444444444444444,
             "#bd3786"
            ],
            [
             0.5555555555555556,
             "#d8576b"
            ],
            [
             0.6666666666666666,
             "#ed7953"
            ],
            [
             0.7777777777777778,
             "#fb9f3a"
            ],
            [
             0.8888888888888888,
             "#fdca26"
            ],
            [
             1.0,
             "#f0f921"
            ]
           ],
           "sequentialminus": [
            [
             0.0,
             "#0d0887"
            ],
            [
             0.1111111111111111,
             "#46039f"
            ],
            [
             0.2222222222222222,
             "#7201a8"
            ],
            [
             0.3333333333333333,
             "#9c179e"
            ],
            [
             0.4444444444444444,
             "#bd3786"
            ],
            [
             0.5555555555555556,
             "#d8576b"
            ],
            [
             0.6666666666666666,
             "#ed7953"
            ],
            [
             0.7777777777777778,
             "#fb9f3a"
            ],
            [
             0.8888888888888888,
             "#fdca26"
            ],
            [
             1.0,
             "#f0f921"
            ]
           ],
           "diverging": [
            [
             0,
             "#8e0152"
            ],
            [
             0.1,
             "#c51b7d"
            ],
            [
             0.2,
             "#de77ae"
            ],
            [
             0.3,
             "#f1b6da"
            ],
            [
             0.4,
             "#fde0ef"
            ],
            [
             0.5,
             "#f7f7f7"
            ],
            [
             0.6,
             "#e6f5d0"
            ],
            [
             0.7,
             "#b8e186"
            ],
            [
             0.8,
             "#7fbc41"
            ],
            [
             0.9,
             "#4d9221"
            ],
            [
             1,
             "#276419"
            ]
           ]
          },
          "xaxis": {
           "gridcolor": "#283442",
           "linecolor": "#506784",
           "ticks": "",
           "title": {
            "standoff": 15
           },
           "zerolinecolor": "#283442",
           "automargin": true,
           "zerolinewidth": 2
          },
          "yaxis": {
           "gridcolor": "#283442",
           "linecolor": "#506784",
           "ticks": "",
           "title": {
            "standoff": 15
           },
           "zerolinecolor": "#283442",
           "automargin": true,
           "zerolinewidth": 2
          },
          "scene": {
           "xaxis": {
            "backgroundcolor": "rgb(17,17,17)",
            "gridcolor": "#506784",
            "linecolor": "#506784",
            "showbackground": true,
            "ticks": "",
            "zerolinecolor": "#C8D4E3",
            "gridwidth": 2
           },
           "yaxis": {
            "backgroundcolor": "rgb(17,17,17)",
            "gridcolor": "#506784",
            "linecolor": "#506784",
            "showbackground": true,
            "ticks": "",
            "zerolinecolor": "#C8D4E3",
            "gridwidth": 2
           },
           "zaxis": {
            "backgroundcolor": "rgb(17,17,17)",
            "gridcolor": "#506784",
            "linecolor": "#506784",
            "showbackground": true,
            "ticks": "",
            "zerolinecolor": "#C8D4E3",
            "gridwidth": 2
           }
          },
          "shapedefaults": {
           "line": {
            "color": "#f2f5fa"
           }
          },
          "annotationdefaults": {
           "arrowcolor": "#f2f5fa",
           "arrowhead": 0,
           "arrowwidth": 1
          },
          "geo": {
           "bgcolor": "rgb(17,17,17)",
           "landcolor": "rgb(17,17,17)",
           "subunitcolor": "#506784",
           "showland": true,
           "showlakes": true,
           "lakecolor": "rgb(17,17,17)"
          },
          "title": {
           "x": 0.05
          },
          "updatemenudefaults": {
           "bgcolor": "#506784",
           "borderwidth": 0
          },
          "sliderdefaults": {
           "bgcolor": "#C8D4E3",
           "borderwidth": 1,
           "bordercolor": "rgb(17,17,17)",
           "tickwidth": 0
          },
          "mapbox": {
           "style": "dark"
          }
         }
        },
        "xaxis": {
         "anchor": "y",
         "domain": [
          0.0,
          1.0
         ],
         "title": {
          "text": "Count"
         }
        },
        "yaxis": {
         "anchor": "x",
         "domain": [
          0.0,
          1.0
         ],
         "title": {
          "text": "Industry"
         }
        },
        "legend": {
         "tracegroupgap": 0
        },
        "margin": {
         "t": 60
        },
        "barmode": "relative"
       },
       "config": {
        "plotlyServerURL": "https://plot.ly"
       }
      },
      "text/html": "<div>                            <div id=\"a0b06339-1791-4284-b9f0-55a03631eb38\" class=\"plotly-graph-div\" style=\"height:525px; width:100%;\"></div>            <script type=\"text/javascript\">                require([\"plotly\"], function(Plotly) {                    window.PLOTLYENV=window.PLOTLYENV || {};                                    if (document.getElementById(\"a0b06339-1791-4284-b9f0-55a03631eb38\")) {                    Plotly.newPlot(                        \"a0b06339-1791-4284-b9f0-55a03631eb38\",                        [{\"alignmentgroup\":\"True\",\"hovertemplate\":\"Count=%{x}<br>Industry=%{y}<extra></extra>\",\"legendgroup\":\"\",\"marker\":{\"color\":\"#636efa\",\"pattern\":{\"shape\":\"\"}},\"name\":\"\",\"offsetgroup\":\"\",\"orientation\":\"h\",\"showlegend\":false,\"textposition\":\"auto\",\"x\":[696,217,192,133,124,91,89,52,48,43],\"xaxis\":\"x\",\"y\":[\"IT Services\",\"Computer Hardware & Software\",\"Staffing & Outsourcing\",\"Internet\",\"Enterprise Software & Network Solutions\",\"Consulting\",\"Aerospace & Defense\",\"Advertising & Marketing\",\"Investment Banking & Asset Management\",\"Insurance Carriers\"],\"yaxis\":\"y\",\"type\":\"bar\"}],                        {\"template\":{\"data\":{\"histogram2dcontour\":[{\"type\":\"histogram2dcontour\",\"colorbar\":{\"outlinewidth\":0,\"ticks\":\"\"},\"colorscale\":[[0.0,\"#0d0887\"],[0.1111111111111111,\"#46039f\"],[0.2222222222222222,\"#7201a8\"],[0.3333333333333333,\"#9c179e\"],[0.4444444444444444,\"#bd3786\"],[0.5555555555555556,\"#d8576b\"],[0.6666666666666666,\"#ed7953\"],[0.7777777777777778,\"#fb9f3a\"],[0.8888888888888888,\"#fdca26\"],[1.0,\"#f0f921\"]]}],\"choropleth\":[{\"type\":\"choropleth\",\"colorbar\":{\"outlinewidth\":0,\"ticks\":\"\"}}],\"histogram2d\":[{\"type\":\"histogram2d\",\"colorbar\":{\"outlinewidth\":0,\"ticks\":\"\"},\"colorscale\":[[0.0,\"#0d0887\"],[0.1111111111111111,\"#46039f\"],[0.2222222222222222,\"#7201a8\"],[0.3333333333333333,\"#9c179e\"],[0.4444444444444444,\"#bd3786\"],[0.5555555555555556,\"#d8576b\"],[0.6666666666666666,\"#ed7953\"],[0.7777777777777778,\"#fb9f3a\"],[0.8888888888888888,\"#fdca26\"],[1.0,\"#f0f921\"]]}],\"heatmap\":[{\"type\":\"heatmap\",\"colorbar\":{\"outlinewidth\":0,\"ticks\":\"\"},\"colorscale\":[[0.0,\"#0d0887\"],[0.1111111111111111,\"#46039f\"],[0.2222222222222222,\"#7201a8\"],[0.3333333333333333,\"#9c179e\"],[0.4444444444444444,\"#bd3786\"],[0.5555555555555556,\"#d8576b\"],[0.6666666666666666,\"#ed7953\"],[0.7777777777777778,\"#fb9f3a\"],[0.8888888888888888,\"#fdca26\"],[1.0,\"#f0f921\"]]}],\"heatmapgl\":[{\"type\":\"heatmapgl\",\"colorbar\":{\"outlinewidth\":0,\"ticks\":\"\"},\"colorscale\":[[0.0,\"#0d0887\"],[0.1111111111111111,\"#46039f\"],[0.2222222222222222,\"#7201a8\"],[0.3333333333333333,\"#9c179e\"],[0.4444444444444444,\"#bd3786\"],[0.5555555555555556,\"#d8576b\"],[0.6666666666666666,\"#ed7953\"],[0.7777777777777778,\"#fb9f3a\"],[0.8888888888888888,\"#fdca26\"],[1.0,\"#f0f921\"]]}],\"contourcarpet\":[{\"type\":\"contourcarpet\",\"colorbar\":{\"outlinewidth\":0,\"ticks\":\"\"}}],\"contour\":[{\"type\":\"contour\",\"colorbar\":{\"outlinewidth\":0,\"ticks\":\"\"},\"colorscale\":[[0.0,\"#0d0887\"],[0.1111111111111111,\"#46039f\"],[0.2222222222222222,\"#7201a8\"],[0.3333333333333333,\"#9c179e\"],[0.4444444444444444,\"#bd3786\"],[0.5555555555555556,\"#d8576b\"],[0.6666666666666666,\"#ed7953\"],[0.7777777777777778,\"#fb9f3a\"],[0.8888888888888888,\"#fdca26\"],[1.0,\"#f0f921\"]]}],\"surface\":[{\"type\":\"surface\",\"colorbar\":{\"outlinewidth\":0,\"ticks\":\"\"},\"colorscale\":[[0.0,\"#0d0887\"],[0.1111111111111111,\"#46039f\"],[0.2222222222222222,\"#7201a8\"],[0.3333333333333333,\"#9c179e\"],[0.4444444444444444,\"#bd3786\"],[0.5555555555555556,\"#d8576b\"],[0.6666666666666666,\"#ed7953\"],[0.7777777777777778,\"#fb9f3a\"],[0.8888888888888888,\"#fdca26\"],[1.0,\"#f0f921\"]]}],\"mesh3d\":[{\"type\":\"mesh3d\",\"colorbar\":{\"outlinewidth\":0,\"ticks\":\"\"}}],\"scatter\":[{\"marker\":{\"line\":{\"color\":\"#283442\"}},\"type\":\"scatter\"}],\"parcoords\":[{\"type\":\"parcoords\",\"line\":{\"colorbar\":{\"outlinewidth\":0,\"ticks\":\"\"}}}],\"scatterpolargl\":[{\"type\":\"scatterpolargl\",\"marker\":{\"colorbar\":{\"outlinewidth\":0,\"ticks\":\"\"}}}],\"bar\":[{\"error_x\":{\"color\":\"#f2f5fa\"},\"error_y\":{\"color\":\"#f2f5fa\"},\"marker\":{\"line\":{\"color\":\"rgb(17,17,17)\",\"width\":0.5},\"pattern\":{\"fillmode\":\"overlay\",\"size\":10,\"solidity\":0.2}},\"type\":\"bar\"}],\"scattergeo\":[{\"type\":\"scattergeo\",\"marker\":{\"colorbar\":{\"outlinewidth\":0,\"ticks\":\"\"}}}],\"scatterpolar\":[{\"type\":\"scatterpolar\",\"marker\":{\"colorbar\":{\"outlinewidth\":0,\"ticks\":\"\"}}}],\"histogram\":[{\"marker\":{\"pattern\":{\"fillmode\":\"overlay\",\"size\":10,\"solidity\":0.2}},\"type\":\"histogram\"}],\"scattergl\":[{\"marker\":{\"line\":{\"color\":\"#283442\"}},\"type\":\"scattergl\"}],\"scatter3d\":[{\"type\":\"scatter3d\",\"line\":{\"colorbar\":{\"outlinewidth\":0,\"ticks\":\"\"}},\"marker\":{\"colorbar\":{\"outlinewidth\":0,\"ticks\":\"\"}}}],\"scattermapbox\":[{\"type\":\"scattermapbox\",\"marker\":{\"colorbar\":{\"outlinewidth\":0,\"ticks\":\"\"}}}],\"scatterternary\":[{\"type\":\"scatterternary\",\"marker\":{\"colorbar\":{\"outlinewidth\":0,\"ticks\":\"\"}}}],\"scattercarpet\":[{\"type\":\"scattercarpet\",\"marker\":{\"colorbar\":{\"outlinewidth\":0,\"ticks\":\"\"}}}],\"carpet\":[{\"aaxis\":{\"endlinecolor\":\"#A2B1C6\",\"gridcolor\":\"#506784\",\"linecolor\":\"#506784\",\"minorgridcolor\":\"#506784\",\"startlinecolor\":\"#A2B1C6\"},\"baxis\":{\"endlinecolor\":\"#A2B1C6\",\"gridcolor\":\"#506784\",\"linecolor\":\"#506784\",\"minorgridcolor\":\"#506784\",\"startlinecolor\":\"#A2B1C6\"},\"type\":\"carpet\"}],\"table\":[{\"cells\":{\"fill\":{\"color\":\"#506784\"},\"line\":{\"color\":\"rgb(17,17,17)\"}},\"header\":{\"fill\":{\"color\":\"#2a3f5f\"},\"line\":{\"color\":\"rgb(17,17,17)\"}},\"type\":\"table\"}],\"barpolar\":[{\"marker\":{\"line\":{\"color\":\"rgb(17,17,17)\",\"width\":0.5},\"pattern\":{\"fillmode\":\"overlay\",\"size\":10,\"solidity\":0.2}},\"type\":\"barpolar\"}],\"pie\":[{\"automargin\":true,\"type\":\"pie\"}]},\"layout\":{\"autotypenumbers\":\"strict\",\"colorway\":[\"#636efa\",\"#EF553B\",\"#00cc96\",\"#ab63fa\",\"#FFA15A\",\"#19d3f3\",\"#FF6692\",\"#B6E880\",\"#FF97FF\",\"#FECB52\"],\"font\":{\"color\":\"#f2f5fa\"},\"hovermode\":\"closest\",\"hoverlabel\":{\"align\":\"left\"},\"paper_bgcolor\":\"rgb(17,17,17)\",\"plot_bgcolor\":\"rgb(17,17,17)\",\"polar\":{\"bgcolor\":\"rgb(17,17,17)\",\"angularaxis\":{\"gridcolor\":\"#506784\",\"linecolor\":\"#506784\",\"ticks\":\"\"},\"radialaxis\":{\"gridcolor\":\"#506784\",\"linecolor\":\"#506784\",\"ticks\":\"\"}},\"ternary\":{\"bgcolor\":\"rgb(17,17,17)\",\"aaxis\":{\"gridcolor\":\"#506784\",\"linecolor\":\"#506784\",\"ticks\":\"\"},\"baxis\":{\"gridcolor\":\"#506784\",\"linecolor\":\"#506784\",\"ticks\":\"\"},\"caxis\":{\"gridcolor\":\"#506784\",\"linecolor\":\"#506784\",\"ticks\":\"\"}},\"coloraxis\":{\"colorbar\":{\"outlinewidth\":0,\"ticks\":\"\"}},\"colorscale\":{\"sequential\":[[0.0,\"#0d0887\"],[0.1111111111111111,\"#46039f\"],[0.2222222222222222,\"#7201a8\"],[0.3333333333333333,\"#9c179e\"],[0.4444444444444444,\"#bd3786\"],[0.5555555555555556,\"#d8576b\"],[0.6666666666666666,\"#ed7953\"],[0.7777777777777778,\"#fb9f3a\"],[0.8888888888888888,\"#fdca26\"],[1.0,\"#f0f921\"]],\"sequentialminus\":[[0.0,\"#0d0887\"],[0.1111111111111111,\"#46039f\"],[0.2222222222222222,\"#7201a8\"],[0.3333333333333333,\"#9c179e\"],[0.4444444444444444,\"#bd3786\"],[0.5555555555555556,\"#d8576b\"],[0.6666666666666666,\"#ed7953\"],[0.7777777777777778,\"#fb9f3a\"],[0.8888888888888888,\"#fdca26\"],[1.0,\"#f0f921\"]],\"diverging\":[[0,\"#8e0152\"],[0.1,\"#c51b7d\"],[0.2,\"#de77ae\"],[0.3,\"#f1b6da\"],[0.4,\"#fde0ef\"],[0.5,\"#f7f7f7\"],[0.6,\"#e6f5d0\"],[0.7,\"#b8e186\"],[0.8,\"#7fbc41\"],[0.9,\"#4d9221\"],[1,\"#276419\"]]},\"xaxis\":{\"gridcolor\":\"#283442\",\"linecolor\":\"#506784\",\"ticks\":\"\",\"title\":{\"standoff\":15},\"zerolinecolor\":\"#283442\",\"automargin\":true,\"zerolinewidth\":2},\"yaxis\":{\"gridcolor\":\"#283442\",\"linecolor\":\"#506784\",\"ticks\":\"\",\"title\":{\"standoff\":15},\"zerolinecolor\":\"#283442\",\"automargin\":true,\"zerolinewidth\":2},\"scene\":{\"xaxis\":{\"backgroundcolor\":\"rgb(17,17,17)\",\"gridcolor\":\"#506784\",\"linecolor\":\"#506784\",\"showbackground\":true,\"ticks\":\"\",\"zerolinecolor\":\"#C8D4E3\",\"gridwidth\":2},\"yaxis\":{\"backgroundcolor\":\"rgb(17,17,17)\",\"gridcolor\":\"#506784\",\"linecolor\":\"#506784\",\"showbackground\":true,\"ticks\":\"\",\"zerolinecolor\":\"#C8D4E3\",\"gridwidth\":2},\"zaxis\":{\"backgroundcolor\":\"rgb(17,17,17)\",\"gridcolor\":\"#506784\",\"linecolor\":\"#506784\",\"showbackground\":true,\"ticks\":\"\",\"zerolinecolor\":\"#C8D4E3\",\"gridwidth\":2}},\"shapedefaults\":{\"line\":{\"color\":\"#f2f5fa\"}},\"annotationdefaults\":{\"arrowcolor\":\"#f2f5fa\",\"arrowhead\":0,\"arrowwidth\":1},\"geo\":{\"bgcolor\":\"rgb(17,17,17)\",\"landcolor\":\"rgb(17,17,17)\",\"subunitcolor\":\"#506784\",\"showland\":true,\"showlakes\":true,\"lakecolor\":\"rgb(17,17,17)\"},\"title\":{\"x\":0.05},\"updatemenudefaults\":{\"bgcolor\":\"#506784\",\"borderwidth\":0},\"sliderdefaults\":{\"bgcolor\":\"#C8D4E3\",\"borderwidth\":1,\"bordercolor\":\"rgb(17,17,17)\",\"tickwidth\":0},\"mapbox\":{\"style\":\"dark\"}}},\"xaxis\":{\"anchor\":\"y\",\"domain\":[0.0,1.0],\"title\":{\"text\":\"Count\"}},\"yaxis\":{\"anchor\":\"x\",\"domain\":[0.0,1.0],\"title\":{\"text\":\"Industry\"}},\"legend\":{\"tracegroupgap\":0},\"margin\":{\"t\":60},\"barmode\":\"relative\"},                        {\"responsive\": true}                    ).then(function(){\n                            \nvar gd = document.getElementById('a0b06339-1791-4284-b9f0-55a03631eb38');\nvar x = new MutationObserver(function (mutations, observer) {{\n        var display = window.getComputedStyle(gd).display;\n        if (!display || display === 'none') {{\n            console.log([gd, 'removed!']);\n            Plotly.purge(gd);\n            observer.disconnect();\n        }}\n}});\n\n// Listen for the removal of the full notebook cells\nvar notebookContainer = gd.closest('#notebook-container');\nif (notebookContainer) {{\n    x.observe(notebookContainer, {childList: true});\n}}\n\n// Listen for the clearing of the current output cell\nvar outputEl = gd.closest('.output');\nif (outputEl) {{\n    x.observe(outputEl, {childList: true});\n}}\n\n                        })                };                });            </script>        </div>"
     },
     "metadata": {},
     "output_type": "display_data"
    }
   ],
   "source": [
    "industry = df.groupby(['Industry']).size().reset_index(name = 'Count').sort_values('Count', ascending=False)\n",
    "\n",
    "px.bar(industry[:10], y='Industry', x='Count')\n"
   ]
  },
  {
   "cell_type": "code",
   "execution_count": 211,
   "metadata": {
    "pycharm": {
     "name": "#%%\n"
    }
   },
   "outputs": [
    {
     "data": {
      "application/vnd.plotly.v1+json": {
       "data": [
        {
         "alignmentgroup": "True",
         "hovertemplate": "Count=%{x}<br>Sector=%{y}<extra></extra>",
         "legendgroup": "",
         "marker": {
          "color": "#636efa",
          "pattern": {
           "shape": ""
          }
         },
         "name": "",
         "offsetgroup": "",
         "orientation": "h",
         "showlegend": false,
         "textposition": "auto",
         "x": [
          1,
          2,
          4,
          5,
          7,
          7,
          12,
          15,
          21,
          22,
          24,
          24,
          25,
          28,
          28,
          34,
          36,
          44,
          62,
          84,
          89,
          117,
          386,
          1170
         ],
         "xaxis": "x",
         "y": [
          "Agriculture & Forestry",
          "Non-Profit",
          "Travel & Tourism",
          "Arts, Entertainment & Recreation",
          "Restaurants, Bars & Food Services",
          "Construction, Repair & Maintenance",
          "Consumer Services",
          "Real Estate",
          "Transportation & Logistics",
          "Government",
          "Biotech & Pharmaceuticals",
          "Education",
          "Accounting & Legal",
          "Oil, Gas, Energy & Utilities",
          "Telecommunications",
          "Retail",
          "Health Care",
          "Media",
          "Insurance",
          "Manufacturing",
          "Aerospace & Defense",
          "Finance",
          "Business Services",
          "Information Technology"
         ],
         "yaxis": "y",
         "type": "bar"
        }
       ],
       "layout": {
        "template": {
         "data": {
          "histogram2dcontour": [
           {
            "type": "histogram2dcontour",
            "colorbar": {
             "outlinewidth": 0,
             "ticks": ""
            },
            "colorscale": [
             [
              0.0,
              "#0d0887"
             ],
             [
              0.1111111111111111,
              "#46039f"
             ],
             [
              0.2222222222222222,
              "#7201a8"
             ],
             [
              0.3333333333333333,
              "#9c179e"
             ],
             [
              0.4444444444444444,
              "#bd3786"
             ],
             [
              0.5555555555555556,
              "#d8576b"
             ],
             [
              0.6666666666666666,
              "#ed7953"
             ],
             [
              0.7777777777777778,
              "#fb9f3a"
             ],
             [
              0.8888888888888888,
              "#fdca26"
             ],
             [
              1.0,
              "#f0f921"
             ]
            ]
           }
          ],
          "choropleth": [
           {
            "type": "choropleth",
            "colorbar": {
             "outlinewidth": 0,
             "ticks": ""
            }
           }
          ],
          "histogram2d": [
           {
            "type": "histogram2d",
            "colorbar": {
             "outlinewidth": 0,
             "ticks": ""
            },
            "colorscale": [
             [
              0.0,
              "#0d0887"
             ],
             [
              0.1111111111111111,
              "#46039f"
             ],
             [
              0.2222222222222222,
              "#7201a8"
             ],
             [
              0.3333333333333333,
              "#9c179e"
             ],
             [
              0.4444444444444444,
              "#bd3786"
             ],
             [
              0.5555555555555556,
              "#d8576b"
             ],
             [
              0.6666666666666666,
              "#ed7953"
             ],
             [
              0.7777777777777778,
              "#fb9f3a"
             ],
             [
              0.8888888888888888,
              "#fdca26"
             ],
             [
              1.0,
              "#f0f921"
             ]
            ]
           }
          ],
          "heatmap": [
           {
            "type": "heatmap",
            "colorbar": {
             "outlinewidth": 0,
             "ticks": ""
            },
            "colorscale": [
             [
              0.0,
              "#0d0887"
             ],
             [
              0.1111111111111111,
              "#46039f"
             ],
             [
              0.2222222222222222,
              "#7201a8"
             ],
             [
              0.3333333333333333,
              "#9c179e"
             ],
             [
              0.4444444444444444,
              "#bd3786"
             ],
             [
              0.5555555555555556,
              "#d8576b"
             ],
             [
              0.6666666666666666,
              "#ed7953"
             ],
             [
              0.7777777777777778,
              "#fb9f3a"
             ],
             [
              0.8888888888888888,
              "#fdca26"
             ],
             [
              1.0,
              "#f0f921"
             ]
            ]
           }
          ],
          "heatmapgl": [
           {
            "type": "heatmapgl",
            "colorbar": {
             "outlinewidth": 0,
             "ticks": ""
            },
            "colorscale": [
             [
              0.0,
              "#0d0887"
             ],
             [
              0.1111111111111111,
              "#46039f"
             ],
             [
              0.2222222222222222,
              "#7201a8"
             ],
             [
              0.3333333333333333,
              "#9c179e"
             ],
             [
              0.4444444444444444,
              "#bd3786"
             ],
             [
              0.5555555555555556,
              "#d8576b"
             ],
             [
              0.6666666666666666,
              "#ed7953"
             ],
             [
              0.7777777777777778,
              "#fb9f3a"
             ],
             [
              0.8888888888888888,
              "#fdca26"
             ],
             [
              1.0,
              "#f0f921"
             ]
            ]
           }
          ],
          "contourcarpet": [
           {
            "type": "contourcarpet",
            "colorbar": {
             "outlinewidth": 0,
             "ticks": ""
            }
           }
          ],
          "contour": [
           {
            "type": "contour",
            "colorbar": {
             "outlinewidth": 0,
             "ticks": ""
            },
            "colorscale": [
             [
              0.0,
              "#0d0887"
             ],
             [
              0.1111111111111111,
              "#46039f"
             ],
             [
              0.2222222222222222,
              "#7201a8"
             ],
             [
              0.3333333333333333,
              "#9c179e"
             ],
             [
              0.4444444444444444,
              "#bd3786"
             ],
             [
              0.5555555555555556,
              "#d8576b"
             ],
             [
              0.6666666666666666,
              "#ed7953"
             ],
             [
              0.7777777777777778,
              "#fb9f3a"
             ],
             [
              0.8888888888888888,
              "#fdca26"
             ],
             [
              1.0,
              "#f0f921"
             ]
            ]
           }
          ],
          "surface": [
           {
            "type": "surface",
            "colorbar": {
             "outlinewidth": 0,
             "ticks": ""
            },
            "colorscale": [
             [
              0.0,
              "#0d0887"
             ],
             [
              0.1111111111111111,
              "#46039f"
             ],
             [
              0.2222222222222222,
              "#7201a8"
             ],
             [
              0.3333333333333333,
              "#9c179e"
             ],
             [
              0.4444444444444444,
              "#bd3786"
             ],
             [
              0.5555555555555556,
              "#d8576b"
             ],
             [
              0.6666666666666666,
              "#ed7953"
             ],
             [
              0.7777777777777778,
              "#fb9f3a"
             ],
             [
              0.8888888888888888,
              "#fdca26"
             ],
             [
              1.0,
              "#f0f921"
             ]
            ]
           }
          ],
          "mesh3d": [
           {
            "type": "mesh3d",
            "colorbar": {
             "outlinewidth": 0,
             "ticks": ""
            }
           }
          ],
          "scatter": [
           {
            "marker": {
             "line": {
              "color": "#283442"
             }
            },
            "type": "scatter"
           }
          ],
          "parcoords": [
           {
            "type": "parcoords",
            "line": {
             "colorbar": {
              "outlinewidth": 0,
              "ticks": ""
             }
            }
           }
          ],
          "scatterpolargl": [
           {
            "type": "scatterpolargl",
            "marker": {
             "colorbar": {
              "outlinewidth": 0,
              "ticks": ""
             }
            }
           }
          ],
          "bar": [
           {
            "error_x": {
             "color": "#f2f5fa"
            },
            "error_y": {
             "color": "#f2f5fa"
            },
            "marker": {
             "line": {
              "color": "rgb(17,17,17)",
              "width": 0.5
             },
             "pattern": {
              "fillmode": "overlay",
              "size": 10,
              "solidity": 0.2
             }
            },
            "type": "bar"
           }
          ],
          "scattergeo": [
           {
            "type": "scattergeo",
            "marker": {
             "colorbar": {
              "outlinewidth": 0,
              "ticks": ""
             }
            }
           }
          ],
          "scatterpolar": [
           {
            "type": "scatterpolar",
            "marker": {
             "colorbar": {
              "outlinewidth": 0,
              "ticks": ""
             }
            }
           }
          ],
          "histogram": [
           {
            "marker": {
             "pattern": {
              "fillmode": "overlay",
              "size": 10,
              "solidity": 0.2
             }
            },
            "type": "histogram"
           }
          ],
          "scattergl": [
           {
            "marker": {
             "line": {
              "color": "#283442"
             }
            },
            "type": "scattergl"
           }
          ],
          "scatter3d": [
           {
            "type": "scatter3d",
            "line": {
             "colorbar": {
              "outlinewidth": 0,
              "ticks": ""
             }
            },
            "marker": {
             "colorbar": {
              "outlinewidth": 0,
              "ticks": ""
             }
            }
           }
          ],
          "scattermapbox": [
           {
            "type": "scattermapbox",
            "marker": {
             "colorbar": {
              "outlinewidth": 0,
              "ticks": ""
             }
            }
           }
          ],
          "scatterternary": [
           {
            "type": "scatterternary",
            "marker": {
             "colorbar": {
              "outlinewidth": 0,
              "ticks": ""
             }
            }
           }
          ],
          "scattercarpet": [
           {
            "type": "scattercarpet",
            "marker": {
             "colorbar": {
              "outlinewidth": 0,
              "ticks": ""
             }
            }
           }
          ],
          "carpet": [
           {
            "aaxis": {
             "endlinecolor": "#A2B1C6",
             "gridcolor": "#506784",
             "linecolor": "#506784",
             "minorgridcolor": "#506784",
             "startlinecolor": "#A2B1C6"
            },
            "baxis": {
             "endlinecolor": "#A2B1C6",
             "gridcolor": "#506784",
             "linecolor": "#506784",
             "minorgridcolor": "#506784",
             "startlinecolor": "#A2B1C6"
            },
            "type": "carpet"
           }
          ],
          "table": [
           {
            "cells": {
             "fill": {
              "color": "#506784"
             },
             "line": {
              "color": "rgb(17,17,17)"
             }
            },
            "header": {
             "fill": {
              "color": "#2a3f5f"
             },
             "line": {
              "color": "rgb(17,17,17)"
             }
            },
            "type": "table"
           }
          ],
          "barpolar": [
           {
            "marker": {
             "line": {
              "color": "rgb(17,17,17)",
              "width": 0.5
             },
             "pattern": {
              "fillmode": "overlay",
              "size": 10,
              "solidity": 0.2
             }
            },
            "type": "barpolar"
           }
          ],
          "pie": [
           {
            "automargin": true,
            "type": "pie"
           }
          ]
         },
         "layout": {
          "autotypenumbers": "strict",
          "colorway": [
           "#636efa",
           "#EF553B",
           "#00cc96",
           "#ab63fa",
           "#FFA15A",
           "#19d3f3",
           "#FF6692",
           "#B6E880",
           "#FF97FF",
           "#FECB52"
          ],
          "font": {
           "color": "#f2f5fa"
          },
          "hovermode": "closest",
          "hoverlabel": {
           "align": "left"
          },
          "paper_bgcolor": "rgb(17,17,17)",
          "plot_bgcolor": "rgb(17,17,17)",
          "polar": {
           "bgcolor": "rgb(17,17,17)",
           "angularaxis": {
            "gridcolor": "#506784",
            "linecolor": "#506784",
            "ticks": ""
           },
           "radialaxis": {
            "gridcolor": "#506784",
            "linecolor": "#506784",
            "ticks": ""
           }
          },
          "ternary": {
           "bgcolor": "rgb(17,17,17)",
           "aaxis": {
            "gridcolor": "#506784",
            "linecolor": "#506784",
            "ticks": ""
           },
           "baxis": {
            "gridcolor": "#506784",
            "linecolor": "#506784",
            "ticks": ""
           },
           "caxis": {
            "gridcolor": "#506784",
            "linecolor": "#506784",
            "ticks": ""
           }
          },
          "coloraxis": {
           "colorbar": {
            "outlinewidth": 0,
            "ticks": ""
           }
          },
          "colorscale": {
           "sequential": [
            [
             0.0,
             "#0d0887"
            ],
            [
             0.1111111111111111,
             "#46039f"
            ],
            [
             0.2222222222222222,
             "#7201a8"
            ],
            [
             0.3333333333333333,
             "#9c179e"
            ],
            [
             0.4444444444444444,
             "#bd3786"
            ],
            [
             0.5555555555555556,
             "#d8576b"
            ],
            [
             0.6666666666666666,
             "#ed7953"
            ],
            [
             0.7777777777777778,
             "#fb9f3a"
            ],
            [
             0.8888888888888888,
             "#fdca26"
            ],
            [
             1.0,
             "#f0f921"
            ]
           ],
           "sequentialminus": [
            [
             0.0,
             "#0d0887"
            ],
            [
             0.1111111111111111,
             "#46039f"
            ],
            [
             0.2222222222222222,
             "#7201a8"
            ],
            [
             0.3333333333333333,
             "#9c179e"
            ],
            [
             0.4444444444444444,
             "#bd3786"
            ],
            [
             0.5555555555555556,
             "#d8576b"
            ],
            [
             0.6666666666666666,
             "#ed7953"
            ],
            [
             0.7777777777777778,
             "#fb9f3a"
            ],
            [
             0.8888888888888888,
             "#fdca26"
            ],
            [
             1.0,
             "#f0f921"
            ]
           ],
           "diverging": [
            [
             0,
             "#8e0152"
            ],
            [
             0.1,
             "#c51b7d"
            ],
            [
             0.2,
             "#de77ae"
            ],
            [
             0.3,
             "#f1b6da"
            ],
            [
             0.4,
             "#fde0ef"
            ],
            [
             0.5,
             "#f7f7f7"
            ],
            [
             0.6,
             "#e6f5d0"
            ],
            [
             0.7,
             "#b8e186"
            ],
            [
             0.8,
             "#7fbc41"
            ],
            [
             0.9,
             "#4d9221"
            ],
            [
             1,
             "#276419"
            ]
           ]
          },
          "xaxis": {
           "gridcolor": "#283442",
           "linecolor": "#506784",
           "ticks": "",
           "title": {
            "standoff": 15
           },
           "zerolinecolor": "#283442",
           "automargin": true,
           "zerolinewidth": 2
          },
          "yaxis": {
           "gridcolor": "#283442",
           "linecolor": "#506784",
           "ticks": "",
           "title": {
            "standoff": 15
           },
           "zerolinecolor": "#283442",
           "automargin": true,
           "zerolinewidth": 2
          },
          "scene": {
           "xaxis": {
            "backgroundcolor": "rgb(17,17,17)",
            "gridcolor": "#506784",
            "linecolor": "#506784",
            "showbackground": true,
            "ticks": "",
            "zerolinecolor": "#C8D4E3",
            "gridwidth": 2
           },
           "yaxis": {
            "backgroundcolor": "rgb(17,17,17)",
            "gridcolor": "#506784",
            "linecolor": "#506784",
            "showbackground": true,
            "ticks": "",
            "zerolinecolor": "#C8D4E3",
            "gridwidth": 2
           },
           "zaxis": {
            "backgroundcolor": "rgb(17,17,17)",
            "gridcolor": "#506784",
            "linecolor": "#506784",
            "showbackground": true,
            "ticks": "",
            "zerolinecolor": "#C8D4E3",
            "gridwidth": 2
           }
          },
          "shapedefaults": {
           "line": {
            "color": "#f2f5fa"
           }
          },
          "annotationdefaults": {
           "arrowcolor": "#f2f5fa",
           "arrowhead": 0,
           "arrowwidth": 1
          },
          "geo": {
           "bgcolor": "rgb(17,17,17)",
           "landcolor": "rgb(17,17,17)",
           "subunitcolor": "#506784",
           "showland": true,
           "showlakes": true,
           "lakecolor": "rgb(17,17,17)"
          },
          "title": {
           "x": 0.05
          },
          "updatemenudefaults": {
           "bgcolor": "#506784",
           "borderwidth": 0
          },
          "sliderdefaults": {
           "bgcolor": "#C8D4E3",
           "borderwidth": 1,
           "bordercolor": "rgb(17,17,17)",
           "tickwidth": 0
          },
          "mapbox": {
           "style": "dark"
          }
         }
        },
        "xaxis": {
         "anchor": "y",
         "domain": [
          0.0,
          1.0
         ],
         "title": {
          "text": "Count"
         }
        },
        "yaxis": {
         "anchor": "x",
         "domain": [
          0.0,
          1.0
         ],
         "title": {
          "text": "Sector"
         }
        },
        "legend": {
         "tracegroupgap": 0
        },
        "margin": {
         "t": 60
        },
        "barmode": "relative"
       },
       "config": {
        "plotlyServerURL": "https://plot.ly"
       }
      },
      "text/html": "<div>                            <div id=\"0ef9b00b-4fc3-4b2f-89a5-10d942a6bdd0\" class=\"plotly-graph-div\" style=\"height:525px; width:100%;\"></div>            <script type=\"text/javascript\">                require([\"plotly\"], function(Plotly) {                    window.PLOTLYENV=window.PLOTLYENV || {};                                    if (document.getElementById(\"0ef9b00b-4fc3-4b2f-89a5-10d942a6bdd0\")) {                    Plotly.newPlot(                        \"0ef9b00b-4fc3-4b2f-89a5-10d942a6bdd0\",                        [{\"alignmentgroup\":\"True\",\"hovertemplate\":\"Count=%{x}<br>Sector=%{y}<extra></extra>\",\"legendgroup\":\"\",\"marker\":{\"color\":\"#636efa\",\"pattern\":{\"shape\":\"\"}},\"name\":\"\",\"offsetgroup\":\"\",\"orientation\":\"h\",\"showlegend\":false,\"textposition\":\"auto\",\"x\":[1,2,4,5,7,7,12,15,21,22,24,24,25,28,28,34,36,44,62,84,89,117,386,1170],\"xaxis\":\"x\",\"y\":[\"Agriculture & Forestry\",\"Non-Profit\",\"Travel & Tourism\",\"Arts, Entertainment & Recreation\",\"Restaurants, Bars & Food Services\",\"Construction, Repair & Maintenance\",\"Consumer Services\",\"Real Estate\",\"Transportation & Logistics\",\"Government\",\"Biotech & Pharmaceuticals\",\"Education\",\"Accounting & Legal\",\"Oil, Gas, Energy & Utilities\",\"Telecommunications\",\"Retail\",\"Health Care\",\"Media\",\"Insurance\",\"Manufacturing\",\"Aerospace & Defense\",\"Finance\",\"Business Services\",\"Information Technology\"],\"yaxis\":\"y\",\"type\":\"bar\"}],                        {\"template\":{\"data\":{\"histogram2dcontour\":[{\"type\":\"histogram2dcontour\",\"colorbar\":{\"outlinewidth\":0,\"ticks\":\"\"},\"colorscale\":[[0.0,\"#0d0887\"],[0.1111111111111111,\"#46039f\"],[0.2222222222222222,\"#7201a8\"],[0.3333333333333333,\"#9c179e\"],[0.4444444444444444,\"#bd3786\"],[0.5555555555555556,\"#d8576b\"],[0.6666666666666666,\"#ed7953\"],[0.7777777777777778,\"#fb9f3a\"],[0.8888888888888888,\"#fdca26\"],[1.0,\"#f0f921\"]]}],\"choropleth\":[{\"type\":\"choropleth\",\"colorbar\":{\"outlinewidth\":0,\"ticks\":\"\"}}],\"histogram2d\":[{\"type\":\"histogram2d\",\"colorbar\":{\"outlinewidth\":0,\"ticks\":\"\"},\"colorscale\":[[0.0,\"#0d0887\"],[0.1111111111111111,\"#46039f\"],[0.2222222222222222,\"#7201a8\"],[0.3333333333333333,\"#9c179e\"],[0.4444444444444444,\"#bd3786\"],[0.5555555555555556,\"#d8576b\"],[0.6666666666666666,\"#ed7953\"],[0.7777777777777778,\"#fb9f3a\"],[0.8888888888888888,\"#fdca26\"],[1.0,\"#f0f921\"]]}],\"heatmap\":[{\"type\":\"heatmap\",\"colorbar\":{\"outlinewidth\":0,\"ticks\":\"\"},\"colorscale\":[[0.0,\"#0d0887\"],[0.1111111111111111,\"#46039f\"],[0.2222222222222222,\"#7201a8\"],[0.3333333333333333,\"#9c179e\"],[0.4444444444444444,\"#bd3786\"],[0.5555555555555556,\"#d8576b\"],[0.6666666666666666,\"#ed7953\"],[0.7777777777777778,\"#fb9f3a\"],[0.8888888888888888,\"#fdca26\"],[1.0,\"#f0f921\"]]}],\"heatmapgl\":[{\"type\":\"heatmapgl\",\"colorbar\":{\"outlinewidth\":0,\"ticks\":\"\"},\"colorscale\":[[0.0,\"#0d0887\"],[0.1111111111111111,\"#46039f\"],[0.2222222222222222,\"#7201a8\"],[0.3333333333333333,\"#9c179e\"],[0.4444444444444444,\"#bd3786\"],[0.5555555555555556,\"#d8576b\"],[0.6666666666666666,\"#ed7953\"],[0.7777777777777778,\"#fb9f3a\"],[0.8888888888888888,\"#fdca26\"],[1.0,\"#f0f921\"]]}],\"contourcarpet\":[{\"type\":\"contourcarpet\",\"colorbar\":{\"outlinewidth\":0,\"ticks\":\"\"}}],\"contour\":[{\"type\":\"contour\",\"colorbar\":{\"outlinewidth\":0,\"ticks\":\"\"},\"colorscale\":[[0.0,\"#0d0887\"],[0.1111111111111111,\"#46039f\"],[0.2222222222222222,\"#7201a8\"],[0.3333333333333333,\"#9c179e\"],[0.4444444444444444,\"#bd3786\"],[0.5555555555555556,\"#d8576b\"],[0.6666666666666666,\"#ed7953\"],[0.7777777777777778,\"#fb9f3a\"],[0.8888888888888888,\"#fdca26\"],[1.0,\"#f0f921\"]]}],\"surface\":[{\"type\":\"surface\",\"colorbar\":{\"outlinewidth\":0,\"ticks\":\"\"},\"colorscale\":[[0.0,\"#0d0887\"],[0.1111111111111111,\"#46039f\"],[0.2222222222222222,\"#7201a8\"],[0.3333333333333333,\"#9c179e\"],[0.4444444444444444,\"#bd3786\"],[0.5555555555555556,\"#d8576b\"],[0.6666666666666666,\"#ed7953\"],[0.7777777777777778,\"#fb9f3a\"],[0.8888888888888888,\"#fdca26\"],[1.0,\"#f0f921\"]]}],\"mesh3d\":[{\"type\":\"mesh3d\",\"colorbar\":{\"outlinewidth\":0,\"ticks\":\"\"}}],\"scatter\":[{\"marker\":{\"line\":{\"color\":\"#283442\"}},\"type\":\"scatter\"}],\"parcoords\":[{\"type\":\"parcoords\",\"line\":{\"colorbar\":{\"outlinewidth\":0,\"ticks\":\"\"}}}],\"scatterpolargl\":[{\"type\":\"scatterpolargl\",\"marker\":{\"colorbar\":{\"outlinewidth\":0,\"ticks\":\"\"}}}],\"bar\":[{\"error_x\":{\"color\":\"#f2f5fa\"},\"error_y\":{\"color\":\"#f2f5fa\"},\"marker\":{\"line\":{\"color\":\"rgb(17,17,17)\",\"width\":0.5},\"pattern\":{\"fillmode\":\"overlay\",\"size\":10,\"solidity\":0.2}},\"type\":\"bar\"}],\"scattergeo\":[{\"type\":\"scattergeo\",\"marker\":{\"colorbar\":{\"outlinewidth\":0,\"ticks\":\"\"}}}],\"scatterpolar\":[{\"type\":\"scatterpolar\",\"marker\":{\"colorbar\":{\"outlinewidth\":0,\"ticks\":\"\"}}}],\"histogram\":[{\"marker\":{\"pattern\":{\"fillmode\":\"overlay\",\"size\":10,\"solidity\":0.2}},\"type\":\"histogram\"}],\"scattergl\":[{\"marker\":{\"line\":{\"color\":\"#283442\"}},\"type\":\"scattergl\"}],\"scatter3d\":[{\"type\":\"scatter3d\",\"line\":{\"colorbar\":{\"outlinewidth\":0,\"ticks\":\"\"}},\"marker\":{\"colorbar\":{\"outlinewidth\":0,\"ticks\":\"\"}}}],\"scattermapbox\":[{\"type\":\"scattermapbox\",\"marker\":{\"colorbar\":{\"outlinewidth\":0,\"ticks\":\"\"}}}],\"scatterternary\":[{\"type\":\"scatterternary\",\"marker\":{\"colorbar\":{\"outlinewidth\":0,\"ticks\":\"\"}}}],\"scattercarpet\":[{\"type\":\"scattercarpet\",\"marker\":{\"colorbar\":{\"outlinewidth\":0,\"ticks\":\"\"}}}],\"carpet\":[{\"aaxis\":{\"endlinecolor\":\"#A2B1C6\",\"gridcolor\":\"#506784\",\"linecolor\":\"#506784\",\"minorgridcolor\":\"#506784\",\"startlinecolor\":\"#A2B1C6\"},\"baxis\":{\"endlinecolor\":\"#A2B1C6\",\"gridcolor\":\"#506784\",\"linecolor\":\"#506784\",\"minorgridcolor\":\"#506784\",\"startlinecolor\":\"#A2B1C6\"},\"type\":\"carpet\"}],\"table\":[{\"cells\":{\"fill\":{\"color\":\"#506784\"},\"line\":{\"color\":\"rgb(17,17,17)\"}},\"header\":{\"fill\":{\"color\":\"#2a3f5f\"},\"line\":{\"color\":\"rgb(17,17,17)\"}},\"type\":\"table\"}],\"barpolar\":[{\"marker\":{\"line\":{\"color\":\"rgb(17,17,17)\",\"width\":0.5},\"pattern\":{\"fillmode\":\"overlay\",\"size\":10,\"solidity\":0.2}},\"type\":\"barpolar\"}],\"pie\":[{\"automargin\":true,\"type\":\"pie\"}]},\"layout\":{\"autotypenumbers\":\"strict\",\"colorway\":[\"#636efa\",\"#EF553B\",\"#00cc96\",\"#ab63fa\",\"#FFA15A\",\"#19d3f3\",\"#FF6692\",\"#B6E880\",\"#FF97FF\",\"#FECB52\"],\"font\":{\"color\":\"#f2f5fa\"},\"hovermode\":\"closest\",\"hoverlabel\":{\"align\":\"left\"},\"paper_bgcolor\":\"rgb(17,17,17)\",\"plot_bgcolor\":\"rgb(17,17,17)\",\"polar\":{\"bgcolor\":\"rgb(17,17,17)\",\"angularaxis\":{\"gridcolor\":\"#506784\",\"linecolor\":\"#506784\",\"ticks\":\"\"},\"radialaxis\":{\"gridcolor\":\"#506784\",\"linecolor\":\"#506784\",\"ticks\":\"\"}},\"ternary\":{\"bgcolor\":\"rgb(17,17,17)\",\"aaxis\":{\"gridcolor\":\"#506784\",\"linecolor\":\"#506784\",\"ticks\":\"\"},\"baxis\":{\"gridcolor\":\"#506784\",\"linecolor\":\"#506784\",\"ticks\":\"\"},\"caxis\":{\"gridcolor\":\"#506784\",\"linecolor\":\"#506784\",\"ticks\":\"\"}},\"coloraxis\":{\"colorbar\":{\"outlinewidth\":0,\"ticks\":\"\"}},\"colorscale\":{\"sequential\":[[0.0,\"#0d0887\"],[0.1111111111111111,\"#46039f\"],[0.2222222222222222,\"#7201a8\"],[0.3333333333333333,\"#9c179e\"],[0.4444444444444444,\"#bd3786\"],[0.5555555555555556,\"#d8576b\"],[0.6666666666666666,\"#ed7953\"],[0.7777777777777778,\"#fb9f3a\"],[0.8888888888888888,\"#fdca26\"],[1.0,\"#f0f921\"]],\"sequentialminus\":[[0.0,\"#0d0887\"],[0.1111111111111111,\"#46039f\"],[0.2222222222222222,\"#7201a8\"],[0.3333333333333333,\"#9c179e\"],[0.4444444444444444,\"#bd3786\"],[0.5555555555555556,\"#d8576b\"],[0.6666666666666666,\"#ed7953\"],[0.7777777777777778,\"#fb9f3a\"],[0.8888888888888888,\"#fdca26\"],[1.0,\"#f0f921\"]],\"diverging\":[[0,\"#8e0152\"],[0.1,\"#c51b7d\"],[0.2,\"#de77ae\"],[0.3,\"#f1b6da\"],[0.4,\"#fde0ef\"],[0.5,\"#f7f7f7\"],[0.6,\"#e6f5d0\"],[0.7,\"#b8e186\"],[0.8,\"#7fbc41\"],[0.9,\"#4d9221\"],[1,\"#276419\"]]},\"xaxis\":{\"gridcolor\":\"#283442\",\"linecolor\":\"#506784\",\"ticks\":\"\",\"title\":{\"standoff\":15},\"zerolinecolor\":\"#283442\",\"automargin\":true,\"zerolinewidth\":2},\"yaxis\":{\"gridcolor\":\"#283442\",\"linecolor\":\"#506784\",\"ticks\":\"\",\"title\":{\"standoff\":15},\"zerolinecolor\":\"#283442\",\"automargin\":true,\"zerolinewidth\":2},\"scene\":{\"xaxis\":{\"backgroundcolor\":\"rgb(17,17,17)\",\"gridcolor\":\"#506784\",\"linecolor\":\"#506784\",\"showbackground\":true,\"ticks\":\"\",\"zerolinecolor\":\"#C8D4E3\",\"gridwidth\":2},\"yaxis\":{\"backgroundcolor\":\"rgb(17,17,17)\",\"gridcolor\":\"#506784\",\"linecolor\":\"#506784\",\"showbackground\":true,\"ticks\":\"\",\"zerolinecolor\":\"#C8D4E3\",\"gridwidth\":2},\"zaxis\":{\"backgroundcolor\":\"rgb(17,17,17)\",\"gridcolor\":\"#506784\",\"linecolor\":\"#506784\",\"showbackground\":true,\"ticks\":\"\",\"zerolinecolor\":\"#C8D4E3\",\"gridwidth\":2}},\"shapedefaults\":{\"line\":{\"color\":\"#f2f5fa\"}},\"annotationdefaults\":{\"arrowcolor\":\"#f2f5fa\",\"arrowhead\":0,\"arrowwidth\":1},\"geo\":{\"bgcolor\":\"rgb(17,17,17)\",\"landcolor\":\"rgb(17,17,17)\",\"subunitcolor\":\"#506784\",\"showland\":true,\"showlakes\":true,\"lakecolor\":\"rgb(17,17,17)\"},\"title\":{\"x\":0.05},\"updatemenudefaults\":{\"bgcolor\":\"#506784\",\"borderwidth\":0},\"sliderdefaults\":{\"bgcolor\":\"#C8D4E3\",\"borderwidth\":1,\"bordercolor\":\"rgb(17,17,17)\",\"tickwidth\":0},\"mapbox\":{\"style\":\"dark\"}}},\"xaxis\":{\"anchor\":\"y\",\"domain\":[0.0,1.0],\"title\":{\"text\":\"Count\"}},\"yaxis\":{\"anchor\":\"x\",\"domain\":[0.0,1.0],\"title\":{\"text\":\"Sector\"}},\"legend\":{\"tracegroupgap\":0},\"margin\":{\"t\":60},\"barmode\":\"relative\"},                        {\"responsive\": true}                    ).then(function(){\n                            \nvar gd = document.getElementById('0ef9b00b-4fc3-4b2f-89a5-10d942a6bdd0');\nvar x = new MutationObserver(function (mutations, observer) {{\n        var display = window.getComputedStyle(gd).display;\n        if (!display || display === 'none') {{\n            console.log([gd, 'removed!']);\n            Plotly.purge(gd);\n            observer.disconnect();\n        }}\n}});\n\n// Listen for the removal of the full notebook cells\nvar notebookContainer = gd.closest('#notebook-container');\nif (notebookContainer) {{\n    x.observe(notebookContainer, {childList: true});\n}}\n\n// Listen for the clearing of the current output cell\nvar outputEl = gd.closest('.output');\nif (outputEl) {{\n    x.observe(outputEl, {childList: true});\n}}\n\n                        })                };                });            </script>        </div>"
     },
     "metadata": {},
     "output_type": "display_data"
    }
   ],
   "source": [
    "Sector = df.groupby(['Sector']).size().reset_index(name = 'Count').sort_values('Count', ascending=True)\n",
    "\n",
    "px.bar(Sector, y='Sector', x='Count')\n"
   ]
  },
  {
   "cell_type": "code",
   "execution_count": 212,
   "metadata": {
    "pycharm": {
     "name": "#%%\n"
    }
   },
   "outputs": [
    {
     "data": {
      "application/vnd.plotly.v1+json": {
       "data": [
        {
         "alignmentgroup": "True",
         "hovertemplate": "Salary Estimate mean=%{x}<extra></extra>",
         "legendgroup": "",
         "marker": {
          "color": "#636efa"
         },
         "name": "",
         "notched": false,
         "offsetgroup": "",
         "orientation": "h",
         "showlegend": false,
         "x": [
          115000.0,
          115000.0,
          115000.0,
          115000.0,
          115000.0,
          115000.0,
          115000.0,
          115000.0,
          115000.0,
          115000.0,
          115000.0,
          115000.0,
          115000.0,
          115000.0,
          115000.0,
          115000.0,
          115000.0,
          115000.0,
          115000.0,
          115000.0,
          115000.0,
          115000.0,
          115000.0,
          115000.0,
          115000.0,
          115000.0,
          83500.0,
          83500.0,
          83500.0,
          83500.0,
          83500.0,
          83500.0,
          83500.0,
          83500.0,
          83500.0,
          83500.0,
          83500.0,
          83500.0,
          83500.0,
          83500.0,
          83500.0,
          83500.0,
          83500.0,
          83500.0,
          83500.0,
          83500.0,
          83500.0,
          83500.0,
          83500.0,
          83500.0,
          83500.0,
          119500.0,
          119500.0,
          119500.0,
          119500.0,
          119500.0,
          119500.0,
          119500.0,
          119500.0,
          119500.0,
          119500.0,
          119500.0,
          119500.0,
          119500.0,
          119500.0,
          119500.0,
          119500.0,
          119500.0,
          119500.0,
          119500.0,
          119500.0,
          119500.0,
          119500.0,
          119500.0,
          119500.0,
          119500.0,
          119500.0,
          119500.0,
          119500.0,
          119500.0,
          98500.0,
          98500.0,
          98500.0,
          98500.0,
          98500.0,
          98500.0,
          98500.0,
          98500.0,
          98500.0,
          98500.0,
          98500.0,
          98500.0,
          98500.0,
          98500.0,
          98500.0,
          98500.0,
          98500.0,
          98500.0,
          98500.0,
          98500.0,
          98500.0,
          98500.0,
          98500.0,
          98500.0,
          98500.0,
          98500.0,
          98500.0,
          98500.0,
          98500.0,
          66000.0,
          66000.0,
          66000.0,
          66000.0,
          66000.0,
          66000.0,
          66000.0,
          66000.0,
          66000.0,
          66000.0,
          66000.0,
          66000.0,
          66000.0,
          66000.0,
          66000.0,
          66000.0,
          66000.0,
          66000.0,
          66000.0,
          66000.0,
          66000.0,
          66000.0,
          66000.0,
          66000.0,
          66000.0,
          66000.0,
          66000.0,
          113000.0,
          113000.0,
          113000.0,
          113000.0,
          113000.0,
          113000.0,
          113000.0,
          113000.0,
          113000.0,
          113000.0,
          113000.0,
          113000.0,
          113000.0,
          113000.0,
          113000.0,
          113000.0,
          113000.0,
          113000.0,
          113000.0,
          113000.0,
          113000.0,
          113000.0,
          113000.0,
          113000.0,
          113000.0,
          113000.0,
          113000.0,
          113000.0,
          113000.0,
          104500.0,
          104500.0,
          104500.0,
          104500.0,
          104500.0,
          104500.0,
          104500.0,
          112000.0,
          112000.0,
          112000.0,
          112000.0,
          112000.0,
          112000.0,
          112000.0,
          112000.0,
          112000.0,
          112000.0,
          112000.0,
          112000.0,
          112000.0,
          112000.0,
          112000.0,
          112000.0,
          112000.0,
          112000.0,
          112000.0,
          112000.0,
          112000.0,
          112000.0,
          112000.0,
          112000.0,
          112000.0,
          112000.0,
          131000.0,
          131000.0,
          131000.0,
          131000.0,
          131000.0,
          131000.0,
          131000.0,
          131000.0,
          131000.0,
          131000.0,
          131000.0,
          131000.0,
          131000.0,
          131000.0,
          131000.0,
          131000.0,
          131000.0,
          131000.0,
          131000.0,
          131000.0,
          131000.0,
          131000.0,
          131000.0,
          131000.0,
          131000.0,
          131000.0,
          131000.0,
          131000.0,
          112500.0,
          112500.0,
          112500.0,
          112500.0,
          112500.0,
          112500.0,
          112500.0,
          112500.0,
          112500.0,
          112500.0,
          112500.0,
          112500.0,
          112500.0,
          112500.0,
          112500.0,
          112500.0,
          112500.0,
          112500.0,
          112500.0,
          112500.0,
          112500.0,
          112500.0,
          112500.0,
          112500.0,
          112500.0,
          112500.0,
          112500.0,
          112500.0,
          99500.0,
          99500.0,
          99500.0,
          99500.0,
          99500.0,
          99500.0,
          99500.0,
          99500.0,
          99500.0,
          99500.0,
          99500.0,
          99500.0,
          99500.0,
          99500.0,
          99500.0,
          99500.0,
          99500.0,
          99500.0,
          99500.0,
          99500.0,
          99500.0,
          99500.0,
          99500.0,
          99500.0,
          99500.0,
          99500.0,
          99500.0,
          99500.0,
          99500.0,
          158000.0,
          158000.0,
          158000.0,
          158000.0,
          158000.0,
          158000.0,
          158000.0,
          158000.0,
          158000.0,
          158000.0,
          158000.0,
          158000.0,
          158000.0,
          158000.0,
          158000.0,
          158000.0,
          158000.0,
          158000.0,
          158000.0,
          158000.0,
          158000.0,
          158000.0,
          158000.0,
          158000.0,
          158000.0,
          158000.0,
          158000.0,
          129000.0,
          129000.0,
          129000.0,
          129000.0,
          129000.0,
          129000.0,
          129000.0,
          129000.0,
          129000.0,
          129000.0,
          129000.0,
          129000.0,
          129000.0,
          129000.0,
          129000.0,
          129000.0,
          129000.0,
          129000.0,
          129000.0,
          129000.0,
          129000.0,
          129000.0,
          129000.0,
          129000.0,
          129000.0,
          129000.0,
          129000.0,
          73500.0,
          73500.0,
          73500.0,
          73500.0,
          73500.0,
          73500.0,
          73500.0,
          73500.0,
          73500.0,
          73500.0,
          82000.0,
          82000.0,
          82000.0,
          82000.0,
          82000.0,
          82000.0,
          82000.0,
          82000.0,
          82000.0,
          82000.0,
          82000.0,
          82000.0,
          82000.0,
          82000.0,
          82000.0,
          82000.0,
          82000.0,
          82000.0,
          82000.0,
          82000.0,
          82000.0,
          82000.0,
          82000.0,
          82000.0,
          82000.0,
          82000.0,
          82000.0,
          82000.0,
          82000.0,
          82000.0,
          121500.0,
          121500.0,
          121500.0,
          121500.0,
          121500.0,
          121500.0,
          121500.0,
          121500.0,
          121500.0,
          121500.0,
          121500.0,
          121500.0,
          121500.0,
          121500.0,
          121500.0,
          121500.0,
          121500.0,
          121500.0,
          121500.0,
          121500.0,
          121500.0,
          121500.0,
          121500.0,
          121500.0,
          121500.0,
          121500.0,
          121500.0,
          121500.0,
          121500.0,
          171500.0,
          171500.0,
          171500.0,
          171500.0,
          171500.0,
          171500.0,
          171500.0,
          171500.0,
          171500.0,
          171500.0,
          171500.0,
          171500.0,
          171500.0,
          171500.0,
          171500.0,
          171500.0,
          171500.0,
          171500.0,
          171500.0,
          171500.0,
          171500.0,
          171500.0,
          171500.0,
          171500.0,
          171500.0,
          171500.0,
          171500.0,
          171500.0,
          97000.0,
          97000.0,
          97000.0,
          97000.0,
          97000.0,
          97000.0,
          97000.0,
          97000.0,
          97000.0,
          97000.0,
          97000.0,
          97000.0,
          97000.0,
          97000.0,
          97000.0,
          97000.0,
          97000.0,
          97000.0,
          97000.0,
          97000.0,
          97000.0,
          97000.0,
          97000.0,
          97000.0,
          97000.0,
          97000.0,
          97000.0,
          97000.0,
          69500.0,
          69500.0,
          69500.0,
          69500.0,
          69500.0,
          69500.0,
          69500.0,
          69500.0,
          69500.0,
          69500.0,
          69500.0,
          69500.0,
          69500.0,
          69500.0,
          69500.0,
          69500.0,
          69500.0,
          69500.0,
          69500.0,
          69500.0,
          69500.0,
          69500.0,
          69500.0,
          69500.0,
          69500.0,
          69500.0,
          69500.0,
          69500.0,
          69500.0,
          69500.0,
          76500.0,
          76500.0,
          76500.0,
          76500.0,
          76500.0,
          76500.0,
          76500.0,
          76500.0,
          76500.0,
          76500.0,
          76500.0,
          76500.0,
          76500.0,
          76500.0,
          76500.0,
          76500.0,
          76500.0,
          76500.0,
          76500.0,
          76500.0,
          76500.0,
          76500.0,
          76500.0,
          76500.0,
          76500.0,
          76500.0,
          76500.0,
          76500.0,
          90500.0,
          90500.0,
          90500.0,
          90500.0,
          90500.0,
          90500.0,
          90500.0,
          90500.0,
          90500.0,
          100500.0,
          100500.0,
          100500.0,
          100500.0,
          100500.0,
          100500.0,
          100500.0,
          100500.0,
          100500.0,
          100500.0,
          100500.0,
          100500.0,
          100500.0,
          100500.0,
          100500.0,
          100500.0,
          100500.0,
          100500.0,
          100500.0,
          100500.0,
          100500.0,
          100500.0,
          100500.0,
          100500.0,
          100500.0,
          100500.0,
          100500.0,
          100500.0,
          63500.0,
          63500.0,
          63500.0,
          63500.0,
          63500.0,
          63500.0,
          63500.0,
          63500.0,
          63500.0,
          63500.0,
          63500.0,
          63500.0,
          63500.0,
          63500.0,
          63500.0,
          63500.0,
          63500.0,
          63500.0,
          63500.0,
          63500.0,
          63500.0,
          63500.0,
          63500.0,
          63500.0,
          63500.0,
          63500.0,
          63500.0,
          63500.0,
          63500.0,
          63500.0,
          77000.0,
          77000.0,
          77000.0,
          77000.0,
          77000.0,
          77000.0,
          77000.0,
          77000.0,
          77000.0,
          77000.0,
          77000.0,
          77000.0,
          77000.0,
          77000.0,
          77000.0,
          77000.0,
          77000.0,
          77000.0,
          77000.0,
          77000.0,
          77000.0,
          77000.0,
          77000.0,
          77000.0,
          77000.0,
          80500.0,
          80500.0,
          80500.0,
          80500.0,
          80500.0,
          80500.0,
          80500.0,
          80500.0,
          80500.0,
          80500.0,
          80500.0,
          80500.0,
          80500.0,
          80500.0,
          80500.0,
          80500.0,
          80500.0,
          80500.0,
          80500.0,
          80500.0,
          80500.0,
          80500.0,
          80500.0,
          80500.0,
          80500.0,
          80500.0,
          86000.0,
          86000.0,
          86000.0,
          86000.0,
          86000.0,
          86000.0,
          86000.0,
          86000.0,
          86000.0,
          86000.0,
          86000.0,
          86000.0,
          86000.0,
          86000.0,
          86000.0,
          86000.0,
          86000.0,
          86000.0,
          86000.0,
          86000.0,
          86000.0,
          86000.0,
          86000.0,
          86000.0,
          86000.0,
          86000.0,
          86000.0,
          86000.0,
          86000.0,
          86000.0,
          83500.0,
          83500.0,
          83500.0,
          83500.0,
          83500.0,
          83500.0,
          83500.0,
          83500.0,
          83500.0,
          83500.0,
          83500.0,
          83500.0,
          83500.0,
          83500.0,
          83500.0,
          83500.0,
          83500.0,
          83500.0,
          83500.0,
          83500.0,
          83500.0,
          83500.0,
          98500.0,
          98500.0,
          98500.0,
          98500.0,
          98500.0,
          98500.0,
          98500.0,
          98500.0,
          98500.0,
          98500.0,
          98500.0,
          98500.0,
          98500.0,
          98500.0,
          98500.0,
          98500.0,
          95500.0,
          95500.0,
          95500.0,
          95500.0,
          95500.0,
          95500.0,
          95500.0,
          95500.0,
          95500.0,
          95500.0,
          95500.0,
          95500.0,
          95500.0,
          95500.0,
          95500.0,
          95500.0,
          95500.0,
          95500.0,
          95500.0,
          95500.0,
          95500.0,
          95500.0,
          95500.0,
          95500.0,
          95500.0,
          91500.0,
          91500.0,
          91500.0,
          91500.0,
          91500.0,
          91500.0,
          91500.0,
          91500.0,
          91500.0,
          91500.0,
          91500.0,
          91500.0,
          91500.0,
          91500.0,
          91500.0,
          91500.0,
          91500.0,
          91500.0,
          91500.0,
          91500.0,
          91500.0,
          91500.0,
          91500.0,
          91500.0,
          111000.0,
          111000.0,
          111000.0,
          111000.0,
          111000.0,
          111000.0,
          111000.0,
          111000.0,
          111000.0,
          111000.0,
          111000.0,
          111000.0,
          111000.0,
          111000.0,
          111000.0,
          111000.0,
          111000.0,
          111000.0,
          111000.0,
          111000.0,
          111000.0,
          111000.0,
          111000.0,
          111000.0,
          111000.0,
          111000.0,
          111000.0,
          95500.0,
          95500.0,
          95500.0,
          95500.0,
          95500.0,
          95500.0,
          95500.0,
          95500.0,
          95500.0,
          95500.0,
          95500.0,
          95500.0,
          95500.0,
          95500.0,
          95500.0,
          95500.0,
          95500.0,
          95500.0,
          95500.0,
          95500.0,
          95500.0,
          95500.0,
          95500.0,
          95500.0,
          95500.0,
          95500.0,
          95500.0,
          95500.0,
          95500.0,
          99500.0,
          99500.0,
          99500.0,
          99500.0,
          99500.0,
          99500.0,
          99500.0,
          99500.0,
          99500.0,
          99500.0,
          99500.0,
          99500.0,
          99500.0,
          99500.0,
          76000.0,
          76000.0,
          76000.0,
          76000.0,
          109500.0,
          109500.0,
          109500.0,
          109500.0,
          109500.0,
          109500.0,
          109500.0,
          109500.0,
          94000.0,
          94000.0,
          94000.0,
          94000.0,
          94000.0,
          94000.0,
          94000.0,
          152500.0,
          152500.0,
          152500.0,
          152500.0,
          152500.0,
          152500.0,
          104000.0,
          104000.0,
          104000.0,
          104000.0,
          104000.0,
          104000.0,
          104000.0,
          104000.0,
          74500.0,
          74500.0,
          74500.0,
          74500.0,
          74500.0,
          74500.0,
          77000.0,
          77000.0,
          77000.0,
          77000.0,
          77000.0,
          83000.0,
          83000.0,
          83000.0,
          83000.0,
          83000.0,
          83000.0,
          83000.0,
          83000.0,
          83000.0,
          83000.0,
          83000.0,
          83000.0,
          83000.0,
          83000.0,
          83000.0,
          83000.0,
          83000.0,
          83000.0,
          83000.0,
          83000.0,
          83000.0,
          83000.0,
          83000.0,
          83000.0,
          83000.0,
          83000.0,
          83000.0,
          130000.0,
          130000.0,
          130000.0,
          130000.0,
          130000.0,
          130000.0,
          130000.0,
          130000.0,
          130000.0,
          130000.0,
          130000.0,
          130000.0,
          130000.0,
          130000.0,
          130000.0,
          130000.0,
          130000.0,
          130000.0,
          130000.0,
          130000.0,
          130000.0,
          130000.0,
          130000.0,
          130000.0,
          130000.0,
          130000.0,
          130000.0,
          130000.0,
          130000.0,
          130000.0,
          82500.0,
          82500.0,
          82500.0,
          82500.0,
          82500.0,
          82500.0,
          82500.0,
          82500.0,
          82500.0,
          82500.0,
          82500.0,
          82500.0,
          82500.0,
          82500.0,
          82500.0,
          82500.0,
          82500.0,
          82500.0,
          82500.0,
          82500.0,
          82500.0,
          82500.0,
          82500.0,
          82500.0,
          82500.0,
          82500.0,
          82500.0,
          82500.0,
          79000.0,
          79000.0,
          79000.0,
          79000.0,
          79000.0,
          79000.0,
          79000.0,
          79000.0,
          79000.0,
          79000.0,
          79000.0,
          79000.0,
          79000.0,
          79000.0,
          79000.0,
          79000.0,
          79000.0,
          79000.0,
          79000.0,
          79000.0,
          79000.0,
          79000.0,
          79000.0,
          79000.0,
          79000.0,
          79000.0,
          79000.0,
          79000.0,
          79000.0,
          79000.0,
          79000.0,
          79000.0,
          80000.0,
          80000.0,
          80000.0,
          80000.0,
          80000.0,
          80000.0,
          80000.0,
          80000.0,
          80000.0,
          80000.0,
          80000.0,
          80000.0,
          80000.0,
          80000.0,
          80000.0,
          80000.0,
          80000.0,
          80000.0,
          80000.0,
          80000.0,
          80000.0,
          80000.0,
          80000.0,
          80000.0,
          80000.0,
          80000.0,
          80000.0,
          80000.0,
          100500.0,
          100500.0,
          100500.0,
          100500.0,
          100500.0,
          100500.0,
          100500.0,
          100500.0,
          100500.0,
          100500.0,
          100500.0,
          100500.0,
          100500.0,
          100500.0,
          100500.0,
          100500.0,
          100500.0,
          100500.0,
          100500.0,
          100500.0,
          100500.0,
          100500.0,
          100500.0,
          100500.0,
          100500.0,
          100500.0,
          100500.0,
          100500.0,
          100500.0,
          217500.0,
          217500.0,
          217500.0,
          217500.0,
          217500.0,
          217500.0,
          217500.0,
          83500.0,
          83500.0,
          83500.0,
          83500.0,
          83500.0,
          83500.0,
          83500.0,
          83500.0,
          83500.0,
          83500.0,
          83500.0,
          83500.0,
          83500.0,
          83500.0,
          83500.0,
          83500.0,
          83500.0,
          83500.0,
          83500.0,
          83500.0,
          83500.0,
          83500.0,
          83500.0,
          83500.0,
          83500.0,
          83500.0,
          105000.0,
          105000.0,
          105000.0,
          105000.0,
          105000.0,
          105000.0,
          105000.0,
          105000.0,
          105000.0,
          105000.0,
          105000.0,
          105000.0,
          105000.0,
          105000.0,
          105000.0,
          105000.0,
          105000.0,
          105000.0,
          105000.0,
          105000.0,
          105000.0,
          105000.0,
          105000.0,
          105000.0,
          105000.0,
          105000.0,
          105000.0,
          105000.0,
          62000.0,
          62000.0,
          62000.0,
          62000.0,
          62000.0,
          62000.0,
          62000.0,
          62000.0,
          62000.0,
          62000.0,
          62000.0,
          62000.0,
          62000.0,
          62000.0,
          62000.0,
          62000.0,
          62000.0,
          62000.0,
          62000.0,
          62000.0,
          62000.0,
          62000.0,
          62000.0,
          62000.0,
          62000.0,
          62000.0,
          62000.0,
          40500.0,
          40500.0,
          40500.0,
          40500.0,
          40500.0,
          40500.0,
          40500.0,
          40500.0,
          40500.0,
          40500.0,
          40500.0,
          40500.0,
          40500.0,
          40500.0,
          40500.0,
          40500.0,
          40500.0,
          40500.0,
          40500.0,
          40500.0,
          40500.0,
          40500.0,
          40500.0,
          40500.0,
          40500.0,
          40500.0,
          40500.0,
          40500.0,
          87000.0,
          87000.0,
          87000.0,
          87000.0,
          87000.0,
          87000.0,
          87000.0,
          87000.0,
          87000.0,
          87000.0,
          87000.0,
          87000.0,
          87000.0,
          87000.0,
          87000.0,
          87000.0,
          87000.0,
          87000.0,
          87000.0,
          87000.0,
          87000.0,
          87000.0,
          87000.0,
          87000.0,
          87000.0,
          87000.0,
          87000.0,
          87000.0,
          87000.0,
          57500.0,
          57500.0,
          57500.0,
          57500.0,
          57500.0,
          57500.0,
          57500.0,
          57500.0,
          57500.0,
          57500.0,
          57500.0,
          57500.0,
          57500.0,
          57500.0,
          57500.0,
          57500.0,
          57500.0,
          57500.0,
          57500.0,
          57500.0,
          57500.0,
          57500.0,
          57500.0,
          57500.0,
          57500.0,
          57500.0,
          57500.0,
          57500.0,
          57500.0,
          57500.0,
          97000.0,
          97000.0,
          97000.0,
          97000.0,
          97000.0,
          97000.0,
          97000.0,
          97000.0,
          97000.0,
          97000.0,
          97000.0,
          97000.0,
          97000.0,
          97000.0,
          97000.0,
          97000.0,
          97000.0,
          97000.0,
          97000.0,
          97000.0,
          129000.0,
          129000.0,
          129000.0,
          129000.0,
          129000.0,
          129000.0,
          129000.0,
          129000.0,
          129000.0,
          129000.0,
          129000.0,
          129000.0,
          129000.0,
          129000.0,
          129000.0,
          129000.0,
          129000.0,
          129000.0,
          129000.0,
          129000.0,
          129000.0,
          129000.0,
          129000.0,
          129000.0,
          129000.0,
          129000.0,
          129000.0,
          155500.0,
          155500.0,
          155500.0,
          155500.0,
          155500.0,
          155500.0,
          155500.0,
          155500.0,
          155500.0,
          155500.0,
          155500.0,
          155500.0,
          155500.0,
          155500.0,
          155500.0,
          155500.0,
          155500.0,
          155500.0,
          155500.0,
          155500.0,
          155500.0,
          155500.0,
          155500.0,
          155500.0,
          155500.0,
          155500.0,
          155500.0,
          155500.0,
          155500.0,
          69000.0,
          69000.0,
          69000.0,
          69000.0,
          69000.0,
          69000.0,
          69000.0,
          69000.0,
          69000.0,
          69000.0,
          69000.0,
          69000.0,
          69000.0,
          69000.0,
          69000.0,
          69000.0,
          69000.0,
          69000.0,
          69000.0,
          69000.0,
          69000.0,
          69000.0,
          69000.0,
          69000.0,
          69000.0,
          69000.0,
          69000.0,
          105500.0,
          105500.0,
          105500.0,
          105500.0,
          105500.0,
          105500.0,
          105500.0,
          105500.0,
          105500.0,
          105500.0,
          105500.0,
          105500.0,
          105500.0,
          105500.0,
          105500.0,
          105500.0,
          105500.0,
          105500.0,
          105500.0,
          105500.0,
          105500.0,
          105500.0,
          105500.0,
          105500.0,
          105500.0,
          105500.0,
          204000.0,
          204000.0,
          204000.0,
          204000.0,
          204000.0,
          204000.0,
          204000.0,
          204000.0,
          204000.0,
          204000.0,
          204000.0,
          204000.0,
          204000.0,
          204000.0,
          204000.0,
          204000.0,
          204000.0,
          204000.0,
          204000.0,
          204000.0,
          204000.0,
          204000.0,
          204000.0,
          204000.0,
          204000.0,
          204000.0,
          145500.0,
          145500.0,
          145500.0,
          145500.0,
          145500.0,
          145500.0,
          145500.0,
          145500.0,
          145500.0,
          145500.0,
          145500.0,
          145500.0,
          145500.0,
          145500.0,
          145500.0,
          145500.0,
          145500.0,
          145500.0,
          145500.0,
          145500.0,
          145500.0,
          145500.0,
          145500.0,
          145500.0,
          145500.0,
          145500.0,
          145500.0,
          145500.0,
          116500.0,
          116500.0,
          116500.0,
          116500.0,
          116500.0,
          116500.0,
          116500.0,
          116500.0,
          116500.0,
          116500.0,
          116500.0,
          116500.0,
          116500.0,
          116500.0,
          116500.0,
          116500.0,
          94000.0,
          94000.0,
          94000.0,
          94000.0,
          94000.0,
          94000.0,
          94000.0,
          94000.0,
          94000.0,
          94000.0,
          94000.0,
          94000.0,
          94000.0,
          94000.0,
          94000.0,
          94000.0,
          94000.0,
          94000.0,
          94000.0,
          94000.0,
          94000.0,
          94000.0,
          94000.0,
          94000.0,
          94000.0,
          94000.0,
          94000.0,
          94000.0,
          89500.0,
          89500.0,
          89500.0,
          89500.0,
          89500.0,
          89500.0,
          89500.0,
          89500.0,
          89500.0,
          89500.0,
          89500.0,
          89500.0,
          89500.0,
          89500.0,
          89500.0,
          89500.0,
          89500.0,
          89500.0,
          89500.0,
          89500.0,
          89500.0,
          89500.0,
          89500.0,
          89500.0,
          89500.0,
          89500.0,
          89500.0,
          107500.0,
          107500.0,
          107500.0,
          107500.0,
          107500.0,
          107500.0,
          107500.0,
          107500.0,
          107500.0,
          107500.0,
          107500.0,
          107500.0,
          107500.0,
          107500.0,
          107500.0,
          107500.0,
          107500.0,
          107500.0,
          107500.0,
          107500.0,
          107500.0,
          107500.0,
          107500.0,
          107500.0,
          107500.0,
          107500.0,
          107500.0,
          107500.0,
          107500.0,
          107500.0,
          84500.0,
          84500.0,
          84500.0,
          84500.0,
          84500.0,
          84500.0,
          84500.0,
          84500.0,
          84500.0,
          84500.0,
          84500.0,
          84500.0,
          84500.0,
          84500.0,
          84500.0,
          84500.0,
          84500.0,
          84500.0,
          84500.0,
          84500.0,
          84500.0,
          84500.0,
          84500.0,
          84500.0,
          84500.0,
          104000.0,
          104000.0,
          104000.0,
          104000.0,
          104000.0,
          104000.0,
          104000.0,
          104000.0,
          104000.0,
          104000.0,
          104000.0,
          104000.0,
          104000.0,
          104000.0,
          104000.0,
          104000.0,
          104000.0,
          104000.0,
          104000.0,
          104000.0,
          104000.0,
          104000.0,
          104000.0,
          104000.0,
          104000.0,
          104000.0,
          104000.0,
          104000.0,
          149000.0,
          149000.0,
          149000.0,
          149000.0,
          149000.0,
          149000.0,
          149000.0,
          149000.0,
          149000.0,
          149000.0,
          149000.0,
          149000.0,
          149000.0,
          149000.0,
          149000.0,
          149000.0,
          149000.0,
          149000.0,
          149000.0,
          149000.0,
          149000.0,
          149000.0,
          149000.0,
          149000.0,
          149000.0,
          149000.0,
          149000.0,
          149000.0,
          105000.0,
          105000.0,
          105000.0,
          105000.0,
          105000.0,
          105000.0,
          105000.0,
          105000.0,
          105000.0,
          105000.0,
          105000.0,
          105000.0,
          128500.0,
          128500.0,
          128500.0,
          128500.0,
          128500.0,
          128500.0,
          128500.0,
          128500.0,
          128500.0,
          128500.0,
          128500.0,
          128500.0,
          128500.0,
          128500.0,
          128500.0,
          128500.0,
          128500.0,
          128500.0,
          128500.0,
          128500.0,
          128500.0,
          128500.0,
          128500.0,
          128500.0,
          128500.0,
          178000.0,
          178000.0,
          178000.0,
          178000.0,
          178000.0,
          178000.0,
          178000.0,
          178000.0,
          178000.0,
          178000.0,
          178000.0,
          178000.0,
          178000.0,
          178000.0,
          178000.0,
          178000.0,
          178000.0,
          178000.0,
          178000.0,
          178000.0,
          178000.0,
          178000.0,
          178000.0,
          178000.0,
          178000.0,
          178000.0,
          178000.0,
          178000.0,
          178000.0,
          153500.0,
          153500.0,
          153500.0,
          153500.0,
          153500.0,
          153500.0,
          153500.0,
          153500.0,
          153500.0,
          153500.0,
          153500.0,
          153500.0,
          153500.0,
          153500.0,
          153500.0,
          153500.0,
          153500.0,
          153500.0,
          153500.0,
          153500.0,
          153500.0,
          153500.0,
          153500.0,
          153500.0,
          153500.0,
          153500.0,
          153500.0,
          111000.0,
          111000.0,
          111000.0,
          111000.0,
          111000.0,
          111000.0,
          111000.0,
          111000.0,
          111000.0,
          111000.0,
          111000.0,
          111000.0,
          111000.0,
          111000.0,
          111000.0,
          111000.0,
          111000.0,
          111000.0,
          111000.0,
          111000.0,
          111000.0,
          111000.0,
          111000.0,
          111000.0,
          111000.0,
          111000.0,
          111000.0,
          111000.0,
          111000.0,
          78500.0,
          78500.0,
          78500.0,
          78500.0,
          78500.0,
          78500.0,
          78500.0,
          78500.0,
          78500.0,
          78500.0,
          78500.0,
          78500.0,
          78500.0,
          78500.0,
          78500.0,
          78500.0,
          78500.0,
          78500.0,
          78500.0,
          78500.0,
          78500.0,
          78500.0,
          78500.0,
          78500.0,
          78500.0,
          78500.0,
          78500.0,
          78500.0,
          78500.0,
          78500.0,
          117500.0,
          117500.0,
          117500.0,
          117500.0,
          117500.0,
          117500.0,
          117500.0,
          117500.0,
          117500.0,
          117500.0,
          117500.0,
          117500.0,
          117500.0,
          117500.0,
          117500.0,
          117500.0,
          117500.0,
          117500.0,
          117500.0,
          117500.0,
          117500.0,
          117500.0,
          117500.0,
          117500.0,
          117500.0,
          117500.0,
          140500.0,
          140500.0,
          140500.0,
          140500.0,
          140500.0,
          140500.0,
          140500.0,
          140500.0,
          140500.0,
          140500.0,
          125500.0,
          125500.0,
          125500.0,
          125500.0,
          125500.0,
          125500.0,
          125500.0,
          125500.0,
          125500.0,
          125500.0,
          125500.0,
          125500.0,
          125500.0,
          125500.0,
          125500.0,
          125500.0,
          125500.0,
          125500.0,
          125500.0,
          125500.0,
          125500.0,
          125500.0,
          125500.0,
          125500.0,
          125500.0,
          125500.0,
          125500.0,
          125500.0,
          87500.0,
          87500.0,
          87500.0,
          87500.0,
          87500.0,
          87500.0,
          87500.0,
          87500.0,
          87500.0,
          87500.0,
          87500.0,
          87500.0,
          87500.0,
          87500.0,
          87500.0,
          87500.0,
          87500.0,
          87500.0,
          87500.0,
          87500.0,
          87500.0,
          87500.0,
          87500.0,
          87500.0,
          87500.0,
          87500.0,
          87500.0,
          138000.0,
          138000.0,
          138000.0,
          138000.0,
          138000.0,
          138000.0,
          138000.0,
          138000.0,
          138000.0,
          138000.0,
          138000.0,
          138000.0,
          138000.0,
          138000.0,
          138000.0,
          138000.0,
          138000.0,
          138000.0,
          138000.0,
          138000.0,
          138000.0,
          138000.0,
          138000.0,
          138000.0,
          138000.0,
          138000.0,
          138000.0,
          138000.0,
          68500.0,
          68500.0,
          68500.0,
          68500.0,
          68500.0,
          68500.0,
          68500.0,
          68500.0,
          68500.0,
          68500.0,
          68500.0,
          68500.0,
          68500.0,
          68500.0,
          68500.0,
          68500.0,
          68500.0,
          68500.0,
          68500.0,
          68500.0,
          68500.0,
          68500.0,
          68500.0,
          68500.0,
          68500.0,
          68500.0,
          68500.0,
          68500.0,
          68500.0,
          96500.0,
          96500.0,
          96500.0,
          96500.0,
          96500.0,
          96500.0,
          96500.0,
          96500.0,
          96500.0,
          96500.0,
          96500.0,
          96500.0,
          96500.0,
          96500.0,
          96500.0,
          96500.0,
          96500.0,
          96500.0,
          96500.0,
          96500.0,
          96500.0,
          96500.0,
          96500.0,
          96500.0,
          96500.0,
          96500.0,
          96500.0,
          96500.0,
          106000.0,
          106000.0,
          106000.0,
          106000.0,
          106000.0,
          106000.0,
          106000.0,
          106000.0,
          106000.0,
          106000.0,
          106000.0,
          106000.0,
          106000.0,
          106000.0,
          106000.0,
          106000.0,
          106000.0,
          106000.0,
          106000.0,
          106000.0,
          106000.0,
          106000.0,
          106000.0,
          106000.0,
          106000.0,
          106000.0,
          106000.0,
          106000.0,
          106000.0,
          106000.0,
          106000.0,
          106000.0,
          106000.0,
          106000.0,
          38500.0,
          38500.0,
          38500.0,
          38500.0,
          38500.0,
          38500.0,
          38500.0,
          38500.0,
          38500.0,
          38500.0,
          38500.0,
          38500.0,
          38500.0,
          38500.0,
          38500.0,
          38500.0,
          38500.0,
          38500.0,
          38500.0,
          38500.0,
          38500.0,
          38500.0,
          38500.0,
          38500.0,
          38500.0,
          92500.0,
          92500.0,
          92500.0,
          92500.0,
          92500.0,
          92500.0,
          92500.0,
          92500.0,
          92500.0,
          92500.0,
          92500.0,
          92500.0,
          92500.0,
          92500.0,
          92500.0,
          92500.0,
          92500.0,
          92500.0,
          92500.0,
          92500.0,
          92500.0,
          92500.0,
          92500.0,
          92500.0,
          92500.0,
          92500.0,
          92500.0,
          58000.0,
          58000.0,
          58000.0,
          58000.0,
          58000.0,
          58000.0,
          58000.0,
          58000.0,
          58000.0,
          58000.0,
          58000.0,
          58000.0,
          58000.0,
          58000.0,
          58000.0,
          58000.0,
          58000.0,
          58000.0,
          58000.0,
          58000.0,
          58000.0,
          58000.0,
          58000.0,
          58000.0,
          58000.0,
          58000.0,
          58000.0,
          58000.0,
          58000.0,
          60500.0,
          60500.0,
          60500.0,
          60500.0,
          60500.0,
          60500.0,
          60500.0,
          60500.0,
          60500.0,
          60500.0,
          60500.0,
          60500.0,
          60500.0,
          60500.0,
          60500.0,
          60500.0,
          60500.0,
          60500.0,
          60500.0,
          60500.0,
          60500.0,
          60500.0,
          60500.0,
          60500.0,
          60500.0,
          60500.0,
          60500.0,
          60500.0,
          60500.0,
          60500.0,
          56000.0,
          56000.0,
          56000.0,
          56000.0,
          56000.0,
          56000.0,
          56000.0,
          92500.0,
          92500.0,
          92500.0,
          92500.0,
          92500.0,
          92500.0,
          92500.0,
          92500.0,
          92500.0,
          92500.0,
          92500.0,
          92500.0,
          92500.0,
          92500.0,
          92500.0,
          92500.0,
          92500.0,
          92500.0,
          92500.0,
          92500.0,
          92500.0,
          92500.0,
          92500.0,
          92500.0,
          92500.0,
          92500.0,
          84500.0,
          84500.0,
          84500.0,
          84500.0,
          84500.0,
          84500.0,
          84500.0,
          84500.0,
          84500.0,
          84500.0,
          84500.0,
          84500.0,
          84500.0,
          84500.0,
          84500.0,
          84500.0,
          84500.0,
          84500.0,
          84500.0,
          84500.0,
          84500.0,
          84500.0,
          84500.0,
          84500.0,
          84500.0,
          84500.0,
          84500.0,
          45000.0,
          45000.0,
          45000.0,
          45000.0,
          45000.0,
          45000.0,
          45000.0,
          45000.0,
          45000.0,
          45000.0,
          45000.0,
          45000.0,
          45000.0,
          45000.0,
          45000.0,
          45000.0,
          45000.0,
          45000.0,
          45000.0,
          45000.0,
          45000.0,
          45000.0,
          45000.0,
          45000.0,
          45000.0,
          45000.0,
          45000.0,
          45000.0,
          45000.0,
          130000.0,
          130000.0,
          130000.0,
          130000.0,
          130000.0,
          130000.0,
          130000.0,
          130000.0,
          130000.0,
          130000.0,
          130000.0,
          130000.0,
          130000.0,
          130000.0,
          130000.0,
          130000.0,
          130000.0,
          130000.0,
          130000.0,
          130000.0,
          130000.0,
          130000.0,
          130000.0,
          130000.0,
          130000.0,
          130000.0,
          130000.0,
          130000.0,
          61000.0,
          61000.0,
          61000.0,
          61000.0,
          61000.0,
          61000.0,
          61000.0,
          61000.0,
          61000.0,
          61000.0,
          61000.0,
          61000.0,
          61000.0,
          61000.0,
          61000.0,
          61000.0,
          61000.0,
          61000.0,
          61000.0,
          61000.0,
          61000.0,
          61000.0,
          61000.0,
          61000.0,
          61000.0,
          61000.0,
          61000.0,
          61000.0,
          72500.0,
          72500.0,
          72500.0,
          72500.0,
          72500.0,
          72500.0,
          72500.0,
          72500.0,
          72500.0,
          72500.0,
          72500.0,
          72500.0,
          72500.0,
          72500.0,
          72500.0,
          72500.0,
          72500.0,
          72500.0,
          72500.0,
          72500.0,
          72500.0,
          72500.0,
          72500.0,
          72500.0,
          72500.0,
          72500.0,
          72500.0,
          72500.0,
          72500.0,
          102000.0,
          102000.0,
          102000.0,
          102000.0,
          102000.0,
          102000.0,
          102000.0,
          102000.0,
          102000.0,
          102000.0,
          102000.0,
          102000.0,
          102000.0,
          102000.0,
          102000.0,
          102000.0,
          102000.0
         ],
         "x0": " ",
         "xaxis": "x",
         "y0": " ",
         "yaxis": "y",
         "type": "box"
        }
       ],
       "layout": {
        "template": {
         "data": {
          "histogram2dcontour": [
           {
            "type": "histogram2dcontour",
            "colorbar": {
             "outlinewidth": 0,
             "ticks": ""
            },
            "colorscale": [
             [
              0.0,
              "#0d0887"
             ],
             [
              0.1111111111111111,
              "#46039f"
             ],
             [
              0.2222222222222222,
              "#7201a8"
             ],
             [
              0.3333333333333333,
              "#9c179e"
             ],
             [
              0.4444444444444444,
              "#bd3786"
             ],
             [
              0.5555555555555556,
              "#d8576b"
             ],
             [
              0.6666666666666666,
              "#ed7953"
             ],
             [
              0.7777777777777778,
              "#fb9f3a"
             ],
             [
              0.8888888888888888,
              "#fdca26"
             ],
             [
              1.0,
              "#f0f921"
             ]
            ]
           }
          ],
          "choropleth": [
           {
            "type": "choropleth",
            "colorbar": {
             "outlinewidth": 0,
             "ticks": ""
            }
           }
          ],
          "histogram2d": [
           {
            "type": "histogram2d",
            "colorbar": {
             "outlinewidth": 0,
             "ticks": ""
            },
            "colorscale": [
             [
              0.0,
              "#0d0887"
             ],
             [
              0.1111111111111111,
              "#46039f"
             ],
             [
              0.2222222222222222,
              "#7201a8"
             ],
             [
              0.3333333333333333,
              "#9c179e"
             ],
             [
              0.4444444444444444,
              "#bd3786"
             ],
             [
              0.5555555555555556,
              "#d8576b"
             ],
             [
              0.6666666666666666,
              "#ed7953"
             ],
             [
              0.7777777777777778,
              "#fb9f3a"
             ],
             [
              0.8888888888888888,
              "#fdca26"
             ],
             [
              1.0,
              "#f0f921"
             ]
            ]
           }
          ],
          "heatmap": [
           {
            "type": "heatmap",
            "colorbar": {
             "outlinewidth": 0,
             "ticks": ""
            },
            "colorscale": [
             [
              0.0,
              "#0d0887"
             ],
             [
              0.1111111111111111,
              "#46039f"
             ],
             [
              0.2222222222222222,
              "#7201a8"
             ],
             [
              0.3333333333333333,
              "#9c179e"
             ],
             [
              0.4444444444444444,
              "#bd3786"
             ],
             [
              0.5555555555555556,
              "#d8576b"
             ],
             [
              0.6666666666666666,
              "#ed7953"
             ],
             [
              0.7777777777777778,
              "#fb9f3a"
             ],
             [
              0.8888888888888888,
              "#fdca26"
             ],
             [
              1.0,
              "#f0f921"
             ]
            ]
           }
          ],
          "heatmapgl": [
           {
            "type": "heatmapgl",
            "colorbar": {
             "outlinewidth": 0,
             "ticks": ""
            },
            "colorscale": [
             [
              0.0,
              "#0d0887"
             ],
             [
              0.1111111111111111,
              "#46039f"
             ],
             [
              0.2222222222222222,
              "#7201a8"
             ],
             [
              0.3333333333333333,
              "#9c179e"
             ],
             [
              0.4444444444444444,
              "#bd3786"
             ],
             [
              0.5555555555555556,
              "#d8576b"
             ],
             [
              0.6666666666666666,
              "#ed7953"
             ],
             [
              0.7777777777777778,
              "#fb9f3a"
             ],
             [
              0.8888888888888888,
              "#fdca26"
             ],
             [
              1.0,
              "#f0f921"
             ]
            ]
           }
          ],
          "contourcarpet": [
           {
            "type": "contourcarpet",
            "colorbar": {
             "outlinewidth": 0,
             "ticks": ""
            }
           }
          ],
          "contour": [
           {
            "type": "contour",
            "colorbar": {
             "outlinewidth": 0,
             "ticks": ""
            },
            "colorscale": [
             [
              0.0,
              "#0d0887"
             ],
             [
              0.1111111111111111,
              "#46039f"
             ],
             [
              0.2222222222222222,
              "#7201a8"
             ],
             [
              0.3333333333333333,
              "#9c179e"
             ],
             [
              0.4444444444444444,
              "#bd3786"
             ],
             [
              0.5555555555555556,
              "#d8576b"
             ],
             [
              0.6666666666666666,
              "#ed7953"
             ],
             [
              0.7777777777777778,
              "#fb9f3a"
             ],
             [
              0.8888888888888888,
              "#fdca26"
             ],
             [
              1.0,
              "#f0f921"
             ]
            ]
           }
          ],
          "surface": [
           {
            "type": "surface",
            "colorbar": {
             "outlinewidth": 0,
             "ticks": ""
            },
            "colorscale": [
             [
              0.0,
              "#0d0887"
             ],
             [
              0.1111111111111111,
              "#46039f"
             ],
             [
              0.2222222222222222,
              "#7201a8"
             ],
             [
              0.3333333333333333,
              "#9c179e"
             ],
             [
              0.4444444444444444,
              "#bd3786"
             ],
             [
              0.5555555555555556,
              "#d8576b"
             ],
             [
              0.6666666666666666,
              "#ed7953"
             ],
             [
              0.7777777777777778,
              "#fb9f3a"
             ],
             [
              0.8888888888888888,
              "#fdca26"
             ],
             [
              1.0,
              "#f0f921"
             ]
            ]
           }
          ],
          "mesh3d": [
           {
            "type": "mesh3d",
            "colorbar": {
             "outlinewidth": 0,
             "ticks": ""
            }
           }
          ],
          "scatter": [
           {
            "marker": {
             "line": {
              "color": "#283442"
             }
            },
            "type": "scatter"
           }
          ],
          "parcoords": [
           {
            "type": "parcoords",
            "line": {
             "colorbar": {
              "outlinewidth": 0,
              "ticks": ""
             }
            }
           }
          ],
          "scatterpolargl": [
           {
            "type": "scatterpolargl",
            "marker": {
             "colorbar": {
              "outlinewidth": 0,
              "ticks": ""
             }
            }
           }
          ],
          "bar": [
           {
            "error_x": {
             "color": "#f2f5fa"
            },
            "error_y": {
             "color": "#f2f5fa"
            },
            "marker": {
             "line": {
              "color": "rgb(17,17,17)",
              "width": 0.5
             },
             "pattern": {
              "fillmode": "overlay",
              "size": 10,
              "solidity": 0.2
             }
            },
            "type": "bar"
           }
          ],
          "scattergeo": [
           {
            "type": "scattergeo",
            "marker": {
             "colorbar": {
              "outlinewidth": 0,
              "ticks": ""
             }
            }
           }
          ],
          "scatterpolar": [
           {
            "type": "scatterpolar",
            "marker": {
             "colorbar": {
              "outlinewidth": 0,
              "ticks": ""
             }
            }
           }
          ],
          "histogram": [
           {
            "marker": {
             "pattern": {
              "fillmode": "overlay",
              "size": 10,
              "solidity": 0.2
             }
            },
            "type": "histogram"
           }
          ],
          "scattergl": [
           {
            "marker": {
             "line": {
              "color": "#283442"
             }
            },
            "type": "scattergl"
           }
          ],
          "scatter3d": [
           {
            "type": "scatter3d",
            "line": {
             "colorbar": {
              "outlinewidth": 0,
              "ticks": ""
             }
            },
            "marker": {
             "colorbar": {
              "outlinewidth": 0,
              "ticks": ""
             }
            }
           }
          ],
          "scattermapbox": [
           {
            "type": "scattermapbox",
            "marker": {
             "colorbar": {
              "outlinewidth": 0,
              "ticks": ""
             }
            }
           }
          ],
          "scatterternary": [
           {
            "type": "scatterternary",
            "marker": {
             "colorbar": {
              "outlinewidth": 0,
              "ticks": ""
             }
            }
           }
          ],
          "scattercarpet": [
           {
            "type": "scattercarpet",
            "marker": {
             "colorbar": {
              "outlinewidth": 0,
              "ticks": ""
             }
            }
           }
          ],
          "carpet": [
           {
            "aaxis": {
             "endlinecolor": "#A2B1C6",
             "gridcolor": "#506784",
             "linecolor": "#506784",
             "minorgridcolor": "#506784",
             "startlinecolor": "#A2B1C6"
            },
            "baxis": {
             "endlinecolor": "#A2B1C6",
             "gridcolor": "#506784",
             "linecolor": "#506784",
             "minorgridcolor": "#506784",
             "startlinecolor": "#A2B1C6"
            },
            "type": "carpet"
           }
          ],
          "table": [
           {
            "cells": {
             "fill": {
              "color": "#506784"
             },
             "line": {
              "color": "rgb(17,17,17)"
             }
            },
            "header": {
             "fill": {
              "color": "#2a3f5f"
             },
             "line": {
              "color": "rgb(17,17,17)"
             }
            },
            "type": "table"
           }
          ],
          "barpolar": [
           {
            "marker": {
             "line": {
              "color": "rgb(17,17,17)",
              "width": 0.5
             },
             "pattern": {
              "fillmode": "overlay",
              "size": 10,
              "solidity": 0.2
             }
            },
            "type": "barpolar"
           }
          ],
          "pie": [
           {
            "automargin": true,
            "type": "pie"
           }
          ]
         },
         "layout": {
          "autotypenumbers": "strict",
          "colorway": [
           "#636efa",
           "#EF553B",
           "#00cc96",
           "#ab63fa",
           "#FFA15A",
           "#19d3f3",
           "#FF6692",
           "#B6E880",
           "#FF97FF",
           "#FECB52"
          ],
          "font": {
           "color": "#f2f5fa"
          },
          "hovermode": "closest",
          "hoverlabel": {
           "align": "left"
          },
          "paper_bgcolor": "rgb(17,17,17)",
          "plot_bgcolor": "rgb(17,17,17)",
          "polar": {
           "bgcolor": "rgb(17,17,17)",
           "angularaxis": {
            "gridcolor": "#506784",
            "linecolor": "#506784",
            "ticks": ""
           },
           "radialaxis": {
            "gridcolor": "#506784",
            "linecolor": "#506784",
            "ticks": ""
           }
          },
          "ternary": {
           "bgcolor": "rgb(17,17,17)",
           "aaxis": {
            "gridcolor": "#506784",
            "linecolor": "#506784",
            "ticks": ""
           },
           "baxis": {
            "gridcolor": "#506784",
            "linecolor": "#506784",
            "ticks": ""
           },
           "caxis": {
            "gridcolor": "#506784",
            "linecolor": "#506784",
            "ticks": ""
           }
          },
          "coloraxis": {
           "colorbar": {
            "outlinewidth": 0,
            "ticks": ""
           }
          },
          "colorscale": {
           "sequential": [
            [
             0.0,
             "#0d0887"
            ],
            [
             0.1111111111111111,
             "#46039f"
            ],
            [
             0.2222222222222222,
             "#7201a8"
            ],
            [
             0.3333333333333333,
             "#9c179e"
            ],
            [
             0.4444444444444444,
             "#bd3786"
            ],
            [
             0.5555555555555556,
             "#d8576b"
            ],
            [
             0.6666666666666666,
             "#ed7953"
            ],
            [
             0.7777777777777778,
             "#fb9f3a"
            ],
            [
             0.8888888888888888,
             "#fdca26"
            ],
            [
             1.0,
             "#f0f921"
            ]
           ],
           "sequentialminus": [
            [
             0.0,
             "#0d0887"
            ],
            [
             0.1111111111111111,
             "#46039f"
            ],
            [
             0.2222222222222222,
             "#7201a8"
            ],
            [
             0.3333333333333333,
             "#9c179e"
            ],
            [
             0.4444444444444444,
             "#bd3786"
            ],
            [
             0.5555555555555556,
             "#d8576b"
            ],
            [
             0.6666666666666666,
             "#ed7953"
            ],
            [
             0.7777777777777778,
             "#fb9f3a"
            ],
            [
             0.8888888888888888,
             "#fdca26"
            ],
            [
             1.0,
             "#f0f921"
            ]
           ],
           "diverging": [
            [
             0,
             "#8e0152"
            ],
            [
             0.1,
             "#c51b7d"
            ],
            [
             0.2,
             "#de77ae"
            ],
            [
             0.3,
             "#f1b6da"
            ],
            [
             0.4,
             "#fde0ef"
            ],
            [
             0.5,
             "#f7f7f7"
            ],
            [
             0.6,
             "#e6f5d0"
            ],
            [
             0.7,
             "#b8e186"
            ],
            [
             0.8,
             "#7fbc41"
            ],
            [
             0.9,
             "#4d9221"
            ],
            [
             1,
             "#276419"
            ]
           ]
          },
          "xaxis": {
           "gridcolor": "#283442",
           "linecolor": "#506784",
           "ticks": "",
           "title": {
            "standoff": 15
           },
           "zerolinecolor": "#283442",
           "automargin": true,
           "zerolinewidth": 2
          },
          "yaxis": {
           "gridcolor": "#283442",
           "linecolor": "#506784",
           "ticks": "",
           "title": {
            "standoff": 15
           },
           "zerolinecolor": "#283442",
           "automargin": true,
           "zerolinewidth": 2
          },
          "scene": {
           "xaxis": {
            "backgroundcolor": "rgb(17,17,17)",
            "gridcolor": "#506784",
            "linecolor": "#506784",
            "showbackground": true,
            "ticks": "",
            "zerolinecolor": "#C8D4E3",
            "gridwidth": 2
           },
           "yaxis": {
            "backgroundcolor": "rgb(17,17,17)",
            "gridcolor": "#506784",
            "linecolor": "#506784",
            "showbackground": true,
            "ticks": "",
            "zerolinecolor": "#C8D4E3",
            "gridwidth": 2
           },
           "zaxis": {
            "backgroundcolor": "rgb(17,17,17)",
            "gridcolor": "#506784",
            "linecolor": "#506784",
            "showbackground": true,
            "ticks": "",
            "zerolinecolor": "#C8D4E3",
            "gridwidth": 2
           }
          },
          "shapedefaults": {
           "line": {
            "color": "#f2f5fa"
           }
          },
          "annotationdefaults": {
           "arrowcolor": "#f2f5fa",
           "arrowhead": 0,
           "arrowwidth": 1
          },
          "geo": {
           "bgcolor": "rgb(17,17,17)",
           "landcolor": "rgb(17,17,17)",
           "subunitcolor": "#506784",
           "showland": true,
           "showlakes": true,
           "lakecolor": "rgb(17,17,17)"
          },
          "title": {
           "x": 0.05
          },
          "updatemenudefaults": {
           "bgcolor": "#506784",
           "borderwidth": 0
          },
          "sliderdefaults": {
           "bgcolor": "#C8D4E3",
           "borderwidth": 1,
           "bordercolor": "rgb(17,17,17)",
           "tickwidth": 0
          },
          "mapbox": {
           "style": "dark"
          }
         }
        },
        "xaxis": {
         "anchor": "y",
         "domain": [
          0.0,
          1.0
         ],
         "title": {
          "text": "Salary Estimate mean"
         }
        },
        "yaxis": {
         "anchor": "x",
         "domain": [
          0.0,
          1.0
         ]
        },
        "legend": {
         "tracegroupgap": 0
        },
        "title": {
         "text": "Boxplot of Salary Estimate's mean"
        },
        "boxmode": "group"
       },
       "config": {
        "plotlyServerURL": "https://plot.ly"
       }
      },
      "text/html": "<div>                            <div id=\"39c22795-ff02-4ebb-8832-e7b6eb673132\" class=\"plotly-graph-div\" style=\"height:525px; width:100%;\"></div>            <script type=\"text/javascript\">                require([\"plotly\"], function(Plotly) {                    window.PLOTLYENV=window.PLOTLYENV || {};                                    if (document.getElementById(\"39c22795-ff02-4ebb-8832-e7b6eb673132\")) {                    Plotly.newPlot(                        \"39c22795-ff02-4ebb-8832-e7b6eb673132\",                        [{\"alignmentgroup\":\"True\",\"hovertemplate\":\"Salary Estimate mean=%{x}<extra></extra>\",\"legendgroup\":\"\",\"marker\":{\"color\":\"#636efa\"},\"name\":\"\",\"notched\":false,\"offsetgroup\":\"\",\"orientation\":\"h\",\"showlegend\":false,\"x\":[115000.0,115000.0,115000.0,115000.0,115000.0,115000.0,115000.0,115000.0,115000.0,115000.0,115000.0,115000.0,115000.0,115000.0,115000.0,115000.0,115000.0,115000.0,115000.0,115000.0,115000.0,115000.0,115000.0,115000.0,115000.0,115000.0,83500.0,83500.0,83500.0,83500.0,83500.0,83500.0,83500.0,83500.0,83500.0,83500.0,83500.0,83500.0,83500.0,83500.0,83500.0,83500.0,83500.0,83500.0,83500.0,83500.0,83500.0,83500.0,83500.0,83500.0,83500.0,119500.0,119500.0,119500.0,119500.0,119500.0,119500.0,119500.0,119500.0,119500.0,119500.0,119500.0,119500.0,119500.0,119500.0,119500.0,119500.0,119500.0,119500.0,119500.0,119500.0,119500.0,119500.0,119500.0,119500.0,119500.0,119500.0,119500.0,119500.0,119500.0,98500.0,98500.0,98500.0,98500.0,98500.0,98500.0,98500.0,98500.0,98500.0,98500.0,98500.0,98500.0,98500.0,98500.0,98500.0,98500.0,98500.0,98500.0,98500.0,98500.0,98500.0,98500.0,98500.0,98500.0,98500.0,98500.0,98500.0,98500.0,98500.0,66000.0,66000.0,66000.0,66000.0,66000.0,66000.0,66000.0,66000.0,66000.0,66000.0,66000.0,66000.0,66000.0,66000.0,66000.0,66000.0,66000.0,66000.0,66000.0,66000.0,66000.0,66000.0,66000.0,66000.0,66000.0,66000.0,66000.0,113000.0,113000.0,113000.0,113000.0,113000.0,113000.0,113000.0,113000.0,113000.0,113000.0,113000.0,113000.0,113000.0,113000.0,113000.0,113000.0,113000.0,113000.0,113000.0,113000.0,113000.0,113000.0,113000.0,113000.0,113000.0,113000.0,113000.0,113000.0,113000.0,104500.0,104500.0,104500.0,104500.0,104500.0,104500.0,104500.0,112000.0,112000.0,112000.0,112000.0,112000.0,112000.0,112000.0,112000.0,112000.0,112000.0,112000.0,112000.0,112000.0,112000.0,112000.0,112000.0,112000.0,112000.0,112000.0,112000.0,112000.0,112000.0,112000.0,112000.0,112000.0,112000.0,131000.0,131000.0,131000.0,131000.0,131000.0,131000.0,131000.0,131000.0,131000.0,131000.0,131000.0,131000.0,131000.0,131000.0,131000.0,131000.0,131000.0,131000.0,131000.0,131000.0,131000.0,131000.0,131000.0,131000.0,131000.0,131000.0,131000.0,131000.0,112500.0,112500.0,112500.0,112500.0,112500.0,112500.0,112500.0,112500.0,112500.0,112500.0,112500.0,112500.0,112500.0,112500.0,112500.0,112500.0,112500.0,112500.0,112500.0,112500.0,112500.0,112500.0,112500.0,112500.0,112500.0,112500.0,112500.0,112500.0,99500.0,99500.0,99500.0,99500.0,99500.0,99500.0,99500.0,99500.0,99500.0,99500.0,99500.0,99500.0,99500.0,99500.0,99500.0,99500.0,99500.0,99500.0,99500.0,99500.0,99500.0,99500.0,99500.0,99500.0,99500.0,99500.0,99500.0,99500.0,99500.0,158000.0,158000.0,158000.0,158000.0,158000.0,158000.0,158000.0,158000.0,158000.0,158000.0,158000.0,158000.0,158000.0,158000.0,158000.0,158000.0,158000.0,158000.0,158000.0,158000.0,158000.0,158000.0,158000.0,158000.0,158000.0,158000.0,158000.0,129000.0,129000.0,129000.0,129000.0,129000.0,129000.0,129000.0,129000.0,129000.0,129000.0,129000.0,129000.0,129000.0,129000.0,129000.0,129000.0,129000.0,129000.0,129000.0,129000.0,129000.0,129000.0,129000.0,129000.0,129000.0,129000.0,129000.0,73500.0,73500.0,73500.0,73500.0,73500.0,73500.0,73500.0,73500.0,73500.0,73500.0,82000.0,82000.0,82000.0,82000.0,82000.0,82000.0,82000.0,82000.0,82000.0,82000.0,82000.0,82000.0,82000.0,82000.0,82000.0,82000.0,82000.0,82000.0,82000.0,82000.0,82000.0,82000.0,82000.0,82000.0,82000.0,82000.0,82000.0,82000.0,82000.0,82000.0,121500.0,121500.0,121500.0,121500.0,121500.0,121500.0,121500.0,121500.0,121500.0,121500.0,121500.0,121500.0,121500.0,121500.0,121500.0,121500.0,121500.0,121500.0,121500.0,121500.0,121500.0,121500.0,121500.0,121500.0,121500.0,121500.0,121500.0,121500.0,121500.0,171500.0,171500.0,171500.0,171500.0,171500.0,171500.0,171500.0,171500.0,171500.0,171500.0,171500.0,171500.0,171500.0,171500.0,171500.0,171500.0,171500.0,171500.0,171500.0,171500.0,171500.0,171500.0,171500.0,171500.0,171500.0,171500.0,171500.0,171500.0,97000.0,97000.0,97000.0,97000.0,97000.0,97000.0,97000.0,97000.0,97000.0,97000.0,97000.0,97000.0,97000.0,97000.0,97000.0,97000.0,97000.0,97000.0,97000.0,97000.0,97000.0,97000.0,97000.0,97000.0,97000.0,97000.0,97000.0,97000.0,69500.0,69500.0,69500.0,69500.0,69500.0,69500.0,69500.0,69500.0,69500.0,69500.0,69500.0,69500.0,69500.0,69500.0,69500.0,69500.0,69500.0,69500.0,69500.0,69500.0,69500.0,69500.0,69500.0,69500.0,69500.0,69500.0,69500.0,69500.0,69500.0,69500.0,76500.0,76500.0,76500.0,76500.0,76500.0,76500.0,76500.0,76500.0,76500.0,76500.0,76500.0,76500.0,76500.0,76500.0,76500.0,76500.0,76500.0,76500.0,76500.0,76500.0,76500.0,76500.0,76500.0,76500.0,76500.0,76500.0,76500.0,76500.0,90500.0,90500.0,90500.0,90500.0,90500.0,90500.0,90500.0,90500.0,90500.0,100500.0,100500.0,100500.0,100500.0,100500.0,100500.0,100500.0,100500.0,100500.0,100500.0,100500.0,100500.0,100500.0,100500.0,100500.0,100500.0,100500.0,100500.0,100500.0,100500.0,100500.0,100500.0,100500.0,100500.0,100500.0,100500.0,100500.0,100500.0,63500.0,63500.0,63500.0,63500.0,63500.0,63500.0,63500.0,63500.0,63500.0,63500.0,63500.0,63500.0,63500.0,63500.0,63500.0,63500.0,63500.0,63500.0,63500.0,63500.0,63500.0,63500.0,63500.0,63500.0,63500.0,63500.0,63500.0,63500.0,63500.0,63500.0,77000.0,77000.0,77000.0,77000.0,77000.0,77000.0,77000.0,77000.0,77000.0,77000.0,77000.0,77000.0,77000.0,77000.0,77000.0,77000.0,77000.0,77000.0,77000.0,77000.0,77000.0,77000.0,77000.0,77000.0,77000.0,80500.0,80500.0,80500.0,80500.0,80500.0,80500.0,80500.0,80500.0,80500.0,80500.0,80500.0,80500.0,80500.0,80500.0,80500.0,80500.0,80500.0,80500.0,80500.0,80500.0,80500.0,80500.0,80500.0,80500.0,80500.0,80500.0,86000.0,86000.0,86000.0,86000.0,86000.0,86000.0,86000.0,86000.0,86000.0,86000.0,86000.0,86000.0,86000.0,86000.0,86000.0,86000.0,86000.0,86000.0,86000.0,86000.0,86000.0,86000.0,86000.0,86000.0,86000.0,86000.0,86000.0,86000.0,86000.0,86000.0,83500.0,83500.0,83500.0,83500.0,83500.0,83500.0,83500.0,83500.0,83500.0,83500.0,83500.0,83500.0,83500.0,83500.0,83500.0,83500.0,83500.0,83500.0,83500.0,83500.0,83500.0,83500.0,98500.0,98500.0,98500.0,98500.0,98500.0,98500.0,98500.0,98500.0,98500.0,98500.0,98500.0,98500.0,98500.0,98500.0,98500.0,98500.0,95500.0,95500.0,95500.0,95500.0,95500.0,95500.0,95500.0,95500.0,95500.0,95500.0,95500.0,95500.0,95500.0,95500.0,95500.0,95500.0,95500.0,95500.0,95500.0,95500.0,95500.0,95500.0,95500.0,95500.0,95500.0,91500.0,91500.0,91500.0,91500.0,91500.0,91500.0,91500.0,91500.0,91500.0,91500.0,91500.0,91500.0,91500.0,91500.0,91500.0,91500.0,91500.0,91500.0,91500.0,91500.0,91500.0,91500.0,91500.0,91500.0,111000.0,111000.0,111000.0,111000.0,111000.0,111000.0,111000.0,111000.0,111000.0,111000.0,111000.0,111000.0,111000.0,111000.0,111000.0,111000.0,111000.0,111000.0,111000.0,111000.0,111000.0,111000.0,111000.0,111000.0,111000.0,111000.0,111000.0,95500.0,95500.0,95500.0,95500.0,95500.0,95500.0,95500.0,95500.0,95500.0,95500.0,95500.0,95500.0,95500.0,95500.0,95500.0,95500.0,95500.0,95500.0,95500.0,95500.0,95500.0,95500.0,95500.0,95500.0,95500.0,95500.0,95500.0,95500.0,95500.0,99500.0,99500.0,99500.0,99500.0,99500.0,99500.0,99500.0,99500.0,99500.0,99500.0,99500.0,99500.0,99500.0,99500.0,76000.0,76000.0,76000.0,76000.0,109500.0,109500.0,109500.0,109500.0,109500.0,109500.0,109500.0,109500.0,94000.0,94000.0,94000.0,94000.0,94000.0,94000.0,94000.0,152500.0,152500.0,152500.0,152500.0,152500.0,152500.0,104000.0,104000.0,104000.0,104000.0,104000.0,104000.0,104000.0,104000.0,74500.0,74500.0,74500.0,74500.0,74500.0,74500.0,77000.0,77000.0,77000.0,77000.0,77000.0,83000.0,83000.0,83000.0,83000.0,83000.0,83000.0,83000.0,83000.0,83000.0,83000.0,83000.0,83000.0,83000.0,83000.0,83000.0,83000.0,83000.0,83000.0,83000.0,83000.0,83000.0,83000.0,83000.0,83000.0,83000.0,83000.0,83000.0,130000.0,130000.0,130000.0,130000.0,130000.0,130000.0,130000.0,130000.0,130000.0,130000.0,130000.0,130000.0,130000.0,130000.0,130000.0,130000.0,130000.0,130000.0,130000.0,130000.0,130000.0,130000.0,130000.0,130000.0,130000.0,130000.0,130000.0,130000.0,130000.0,130000.0,82500.0,82500.0,82500.0,82500.0,82500.0,82500.0,82500.0,82500.0,82500.0,82500.0,82500.0,82500.0,82500.0,82500.0,82500.0,82500.0,82500.0,82500.0,82500.0,82500.0,82500.0,82500.0,82500.0,82500.0,82500.0,82500.0,82500.0,82500.0,79000.0,79000.0,79000.0,79000.0,79000.0,79000.0,79000.0,79000.0,79000.0,79000.0,79000.0,79000.0,79000.0,79000.0,79000.0,79000.0,79000.0,79000.0,79000.0,79000.0,79000.0,79000.0,79000.0,79000.0,79000.0,79000.0,79000.0,79000.0,79000.0,79000.0,79000.0,79000.0,80000.0,80000.0,80000.0,80000.0,80000.0,80000.0,80000.0,80000.0,80000.0,80000.0,80000.0,80000.0,80000.0,80000.0,80000.0,80000.0,80000.0,80000.0,80000.0,80000.0,80000.0,80000.0,80000.0,80000.0,80000.0,80000.0,80000.0,80000.0,100500.0,100500.0,100500.0,100500.0,100500.0,100500.0,100500.0,100500.0,100500.0,100500.0,100500.0,100500.0,100500.0,100500.0,100500.0,100500.0,100500.0,100500.0,100500.0,100500.0,100500.0,100500.0,100500.0,100500.0,100500.0,100500.0,100500.0,100500.0,100500.0,217500.0,217500.0,217500.0,217500.0,217500.0,217500.0,217500.0,83500.0,83500.0,83500.0,83500.0,83500.0,83500.0,83500.0,83500.0,83500.0,83500.0,83500.0,83500.0,83500.0,83500.0,83500.0,83500.0,83500.0,83500.0,83500.0,83500.0,83500.0,83500.0,83500.0,83500.0,83500.0,83500.0,105000.0,105000.0,105000.0,105000.0,105000.0,105000.0,105000.0,105000.0,105000.0,105000.0,105000.0,105000.0,105000.0,105000.0,105000.0,105000.0,105000.0,105000.0,105000.0,105000.0,105000.0,105000.0,105000.0,105000.0,105000.0,105000.0,105000.0,105000.0,62000.0,62000.0,62000.0,62000.0,62000.0,62000.0,62000.0,62000.0,62000.0,62000.0,62000.0,62000.0,62000.0,62000.0,62000.0,62000.0,62000.0,62000.0,62000.0,62000.0,62000.0,62000.0,62000.0,62000.0,62000.0,62000.0,62000.0,40500.0,40500.0,40500.0,40500.0,40500.0,40500.0,40500.0,40500.0,40500.0,40500.0,40500.0,40500.0,40500.0,40500.0,40500.0,40500.0,40500.0,40500.0,40500.0,40500.0,40500.0,40500.0,40500.0,40500.0,40500.0,40500.0,40500.0,40500.0,87000.0,87000.0,87000.0,87000.0,87000.0,87000.0,87000.0,87000.0,87000.0,87000.0,87000.0,87000.0,87000.0,87000.0,87000.0,87000.0,87000.0,87000.0,87000.0,87000.0,87000.0,87000.0,87000.0,87000.0,87000.0,87000.0,87000.0,87000.0,87000.0,57500.0,57500.0,57500.0,57500.0,57500.0,57500.0,57500.0,57500.0,57500.0,57500.0,57500.0,57500.0,57500.0,57500.0,57500.0,57500.0,57500.0,57500.0,57500.0,57500.0,57500.0,57500.0,57500.0,57500.0,57500.0,57500.0,57500.0,57500.0,57500.0,57500.0,97000.0,97000.0,97000.0,97000.0,97000.0,97000.0,97000.0,97000.0,97000.0,97000.0,97000.0,97000.0,97000.0,97000.0,97000.0,97000.0,97000.0,97000.0,97000.0,97000.0,129000.0,129000.0,129000.0,129000.0,129000.0,129000.0,129000.0,129000.0,129000.0,129000.0,129000.0,129000.0,129000.0,129000.0,129000.0,129000.0,129000.0,129000.0,129000.0,129000.0,129000.0,129000.0,129000.0,129000.0,129000.0,129000.0,129000.0,155500.0,155500.0,155500.0,155500.0,155500.0,155500.0,155500.0,155500.0,155500.0,155500.0,155500.0,155500.0,155500.0,155500.0,155500.0,155500.0,155500.0,155500.0,155500.0,155500.0,155500.0,155500.0,155500.0,155500.0,155500.0,155500.0,155500.0,155500.0,155500.0,69000.0,69000.0,69000.0,69000.0,69000.0,69000.0,69000.0,69000.0,69000.0,69000.0,69000.0,69000.0,69000.0,69000.0,69000.0,69000.0,69000.0,69000.0,69000.0,69000.0,69000.0,69000.0,69000.0,69000.0,69000.0,69000.0,69000.0,105500.0,105500.0,105500.0,105500.0,105500.0,105500.0,105500.0,105500.0,105500.0,105500.0,105500.0,105500.0,105500.0,105500.0,105500.0,105500.0,105500.0,105500.0,105500.0,105500.0,105500.0,105500.0,105500.0,105500.0,105500.0,105500.0,204000.0,204000.0,204000.0,204000.0,204000.0,204000.0,204000.0,204000.0,204000.0,204000.0,204000.0,204000.0,204000.0,204000.0,204000.0,204000.0,204000.0,204000.0,204000.0,204000.0,204000.0,204000.0,204000.0,204000.0,204000.0,204000.0,145500.0,145500.0,145500.0,145500.0,145500.0,145500.0,145500.0,145500.0,145500.0,145500.0,145500.0,145500.0,145500.0,145500.0,145500.0,145500.0,145500.0,145500.0,145500.0,145500.0,145500.0,145500.0,145500.0,145500.0,145500.0,145500.0,145500.0,145500.0,116500.0,116500.0,116500.0,116500.0,116500.0,116500.0,116500.0,116500.0,116500.0,116500.0,116500.0,116500.0,116500.0,116500.0,116500.0,116500.0,94000.0,94000.0,94000.0,94000.0,94000.0,94000.0,94000.0,94000.0,94000.0,94000.0,94000.0,94000.0,94000.0,94000.0,94000.0,94000.0,94000.0,94000.0,94000.0,94000.0,94000.0,94000.0,94000.0,94000.0,94000.0,94000.0,94000.0,94000.0,89500.0,89500.0,89500.0,89500.0,89500.0,89500.0,89500.0,89500.0,89500.0,89500.0,89500.0,89500.0,89500.0,89500.0,89500.0,89500.0,89500.0,89500.0,89500.0,89500.0,89500.0,89500.0,89500.0,89500.0,89500.0,89500.0,89500.0,107500.0,107500.0,107500.0,107500.0,107500.0,107500.0,107500.0,107500.0,107500.0,107500.0,107500.0,107500.0,107500.0,107500.0,107500.0,107500.0,107500.0,107500.0,107500.0,107500.0,107500.0,107500.0,107500.0,107500.0,107500.0,107500.0,107500.0,107500.0,107500.0,107500.0,84500.0,84500.0,84500.0,84500.0,84500.0,84500.0,84500.0,84500.0,84500.0,84500.0,84500.0,84500.0,84500.0,84500.0,84500.0,84500.0,84500.0,84500.0,84500.0,84500.0,84500.0,84500.0,84500.0,84500.0,84500.0,104000.0,104000.0,104000.0,104000.0,104000.0,104000.0,104000.0,104000.0,104000.0,104000.0,104000.0,104000.0,104000.0,104000.0,104000.0,104000.0,104000.0,104000.0,104000.0,104000.0,104000.0,104000.0,104000.0,104000.0,104000.0,104000.0,104000.0,104000.0,149000.0,149000.0,149000.0,149000.0,149000.0,149000.0,149000.0,149000.0,149000.0,149000.0,149000.0,149000.0,149000.0,149000.0,149000.0,149000.0,149000.0,149000.0,149000.0,149000.0,149000.0,149000.0,149000.0,149000.0,149000.0,149000.0,149000.0,149000.0,105000.0,105000.0,105000.0,105000.0,105000.0,105000.0,105000.0,105000.0,105000.0,105000.0,105000.0,105000.0,128500.0,128500.0,128500.0,128500.0,128500.0,128500.0,128500.0,128500.0,128500.0,128500.0,128500.0,128500.0,128500.0,128500.0,128500.0,128500.0,128500.0,128500.0,128500.0,128500.0,128500.0,128500.0,128500.0,128500.0,128500.0,178000.0,178000.0,178000.0,178000.0,178000.0,178000.0,178000.0,178000.0,178000.0,178000.0,178000.0,178000.0,178000.0,178000.0,178000.0,178000.0,178000.0,178000.0,178000.0,178000.0,178000.0,178000.0,178000.0,178000.0,178000.0,178000.0,178000.0,178000.0,178000.0,153500.0,153500.0,153500.0,153500.0,153500.0,153500.0,153500.0,153500.0,153500.0,153500.0,153500.0,153500.0,153500.0,153500.0,153500.0,153500.0,153500.0,153500.0,153500.0,153500.0,153500.0,153500.0,153500.0,153500.0,153500.0,153500.0,153500.0,111000.0,111000.0,111000.0,111000.0,111000.0,111000.0,111000.0,111000.0,111000.0,111000.0,111000.0,111000.0,111000.0,111000.0,111000.0,111000.0,111000.0,111000.0,111000.0,111000.0,111000.0,111000.0,111000.0,111000.0,111000.0,111000.0,111000.0,111000.0,111000.0,78500.0,78500.0,78500.0,78500.0,78500.0,78500.0,78500.0,78500.0,78500.0,78500.0,78500.0,78500.0,78500.0,78500.0,78500.0,78500.0,78500.0,78500.0,78500.0,78500.0,78500.0,78500.0,78500.0,78500.0,78500.0,78500.0,78500.0,78500.0,78500.0,78500.0,117500.0,117500.0,117500.0,117500.0,117500.0,117500.0,117500.0,117500.0,117500.0,117500.0,117500.0,117500.0,117500.0,117500.0,117500.0,117500.0,117500.0,117500.0,117500.0,117500.0,117500.0,117500.0,117500.0,117500.0,117500.0,117500.0,140500.0,140500.0,140500.0,140500.0,140500.0,140500.0,140500.0,140500.0,140500.0,140500.0,125500.0,125500.0,125500.0,125500.0,125500.0,125500.0,125500.0,125500.0,125500.0,125500.0,125500.0,125500.0,125500.0,125500.0,125500.0,125500.0,125500.0,125500.0,125500.0,125500.0,125500.0,125500.0,125500.0,125500.0,125500.0,125500.0,125500.0,125500.0,87500.0,87500.0,87500.0,87500.0,87500.0,87500.0,87500.0,87500.0,87500.0,87500.0,87500.0,87500.0,87500.0,87500.0,87500.0,87500.0,87500.0,87500.0,87500.0,87500.0,87500.0,87500.0,87500.0,87500.0,87500.0,87500.0,87500.0,138000.0,138000.0,138000.0,138000.0,138000.0,138000.0,138000.0,138000.0,138000.0,138000.0,138000.0,138000.0,138000.0,138000.0,138000.0,138000.0,138000.0,138000.0,138000.0,138000.0,138000.0,138000.0,138000.0,138000.0,138000.0,138000.0,138000.0,138000.0,68500.0,68500.0,68500.0,68500.0,68500.0,68500.0,68500.0,68500.0,68500.0,68500.0,68500.0,68500.0,68500.0,68500.0,68500.0,68500.0,68500.0,68500.0,68500.0,68500.0,68500.0,68500.0,68500.0,68500.0,68500.0,68500.0,68500.0,68500.0,68500.0,96500.0,96500.0,96500.0,96500.0,96500.0,96500.0,96500.0,96500.0,96500.0,96500.0,96500.0,96500.0,96500.0,96500.0,96500.0,96500.0,96500.0,96500.0,96500.0,96500.0,96500.0,96500.0,96500.0,96500.0,96500.0,96500.0,96500.0,96500.0,106000.0,106000.0,106000.0,106000.0,106000.0,106000.0,106000.0,106000.0,106000.0,106000.0,106000.0,106000.0,106000.0,106000.0,106000.0,106000.0,106000.0,106000.0,106000.0,106000.0,106000.0,106000.0,106000.0,106000.0,106000.0,106000.0,106000.0,106000.0,106000.0,106000.0,106000.0,106000.0,106000.0,106000.0,38500.0,38500.0,38500.0,38500.0,38500.0,38500.0,38500.0,38500.0,38500.0,38500.0,38500.0,38500.0,38500.0,38500.0,38500.0,38500.0,38500.0,38500.0,38500.0,38500.0,38500.0,38500.0,38500.0,38500.0,38500.0,92500.0,92500.0,92500.0,92500.0,92500.0,92500.0,92500.0,92500.0,92500.0,92500.0,92500.0,92500.0,92500.0,92500.0,92500.0,92500.0,92500.0,92500.0,92500.0,92500.0,92500.0,92500.0,92500.0,92500.0,92500.0,92500.0,92500.0,58000.0,58000.0,58000.0,58000.0,58000.0,58000.0,58000.0,58000.0,58000.0,58000.0,58000.0,58000.0,58000.0,58000.0,58000.0,58000.0,58000.0,58000.0,58000.0,58000.0,58000.0,58000.0,58000.0,58000.0,58000.0,58000.0,58000.0,58000.0,58000.0,60500.0,60500.0,60500.0,60500.0,60500.0,60500.0,60500.0,60500.0,60500.0,60500.0,60500.0,60500.0,60500.0,60500.0,60500.0,60500.0,60500.0,60500.0,60500.0,60500.0,60500.0,60500.0,60500.0,60500.0,60500.0,60500.0,60500.0,60500.0,60500.0,60500.0,56000.0,56000.0,56000.0,56000.0,56000.0,56000.0,56000.0,92500.0,92500.0,92500.0,92500.0,92500.0,92500.0,92500.0,92500.0,92500.0,92500.0,92500.0,92500.0,92500.0,92500.0,92500.0,92500.0,92500.0,92500.0,92500.0,92500.0,92500.0,92500.0,92500.0,92500.0,92500.0,92500.0,84500.0,84500.0,84500.0,84500.0,84500.0,84500.0,84500.0,84500.0,84500.0,84500.0,84500.0,84500.0,84500.0,84500.0,84500.0,84500.0,84500.0,84500.0,84500.0,84500.0,84500.0,84500.0,84500.0,84500.0,84500.0,84500.0,84500.0,45000.0,45000.0,45000.0,45000.0,45000.0,45000.0,45000.0,45000.0,45000.0,45000.0,45000.0,45000.0,45000.0,45000.0,45000.0,45000.0,45000.0,45000.0,45000.0,45000.0,45000.0,45000.0,45000.0,45000.0,45000.0,45000.0,45000.0,45000.0,45000.0,130000.0,130000.0,130000.0,130000.0,130000.0,130000.0,130000.0,130000.0,130000.0,130000.0,130000.0,130000.0,130000.0,130000.0,130000.0,130000.0,130000.0,130000.0,130000.0,130000.0,130000.0,130000.0,130000.0,130000.0,130000.0,130000.0,130000.0,130000.0,61000.0,61000.0,61000.0,61000.0,61000.0,61000.0,61000.0,61000.0,61000.0,61000.0,61000.0,61000.0,61000.0,61000.0,61000.0,61000.0,61000.0,61000.0,61000.0,61000.0,61000.0,61000.0,61000.0,61000.0,61000.0,61000.0,61000.0,61000.0,72500.0,72500.0,72500.0,72500.0,72500.0,72500.0,72500.0,72500.0,72500.0,72500.0,72500.0,72500.0,72500.0,72500.0,72500.0,72500.0,72500.0,72500.0,72500.0,72500.0,72500.0,72500.0,72500.0,72500.0,72500.0,72500.0,72500.0,72500.0,72500.0,102000.0,102000.0,102000.0,102000.0,102000.0,102000.0,102000.0,102000.0,102000.0,102000.0,102000.0,102000.0,102000.0,102000.0,102000.0,102000.0,102000.0],\"x0\":\" \",\"xaxis\":\"x\",\"y0\":\" \",\"yaxis\":\"y\",\"type\":\"box\"}],                        {\"template\":{\"data\":{\"histogram2dcontour\":[{\"type\":\"histogram2dcontour\",\"colorbar\":{\"outlinewidth\":0,\"ticks\":\"\"},\"colorscale\":[[0.0,\"#0d0887\"],[0.1111111111111111,\"#46039f\"],[0.2222222222222222,\"#7201a8\"],[0.3333333333333333,\"#9c179e\"],[0.4444444444444444,\"#bd3786\"],[0.5555555555555556,\"#d8576b\"],[0.6666666666666666,\"#ed7953\"],[0.7777777777777778,\"#fb9f3a\"],[0.8888888888888888,\"#fdca26\"],[1.0,\"#f0f921\"]]}],\"choropleth\":[{\"type\":\"choropleth\",\"colorbar\":{\"outlinewidth\":0,\"ticks\":\"\"}}],\"histogram2d\":[{\"type\":\"histogram2d\",\"colorbar\":{\"outlinewidth\":0,\"ticks\":\"\"},\"colorscale\":[[0.0,\"#0d0887\"],[0.1111111111111111,\"#46039f\"],[0.2222222222222222,\"#7201a8\"],[0.3333333333333333,\"#9c179e\"],[0.4444444444444444,\"#bd3786\"],[0.5555555555555556,\"#d8576b\"],[0.6666666666666666,\"#ed7953\"],[0.7777777777777778,\"#fb9f3a\"],[0.8888888888888888,\"#fdca26\"],[1.0,\"#f0f921\"]]}],\"heatmap\":[{\"type\":\"heatmap\",\"colorbar\":{\"outlinewidth\":0,\"ticks\":\"\"},\"colorscale\":[[0.0,\"#0d0887\"],[0.1111111111111111,\"#46039f\"],[0.2222222222222222,\"#7201a8\"],[0.3333333333333333,\"#9c179e\"],[0.4444444444444444,\"#bd3786\"],[0.5555555555555556,\"#d8576b\"],[0.6666666666666666,\"#ed7953\"],[0.7777777777777778,\"#fb9f3a\"],[0.8888888888888888,\"#fdca26\"],[1.0,\"#f0f921\"]]}],\"heatmapgl\":[{\"type\":\"heatmapgl\",\"colorbar\":{\"outlinewidth\":0,\"ticks\":\"\"},\"colorscale\":[[0.0,\"#0d0887\"],[0.1111111111111111,\"#46039f\"],[0.2222222222222222,\"#7201a8\"],[0.3333333333333333,\"#9c179e\"],[0.4444444444444444,\"#bd3786\"],[0.5555555555555556,\"#d8576b\"],[0.6666666666666666,\"#ed7953\"],[0.7777777777777778,\"#fb9f3a\"],[0.8888888888888888,\"#fdca26\"],[1.0,\"#f0f921\"]]}],\"contourcarpet\":[{\"type\":\"contourcarpet\",\"colorbar\":{\"outlinewidth\":0,\"ticks\":\"\"}}],\"contour\":[{\"type\":\"contour\",\"colorbar\":{\"outlinewidth\":0,\"ticks\":\"\"},\"colorscale\":[[0.0,\"#0d0887\"],[0.1111111111111111,\"#46039f\"],[0.2222222222222222,\"#7201a8\"],[0.3333333333333333,\"#9c179e\"],[0.4444444444444444,\"#bd3786\"],[0.5555555555555556,\"#d8576b\"],[0.6666666666666666,\"#ed7953\"],[0.7777777777777778,\"#fb9f3a\"],[0.8888888888888888,\"#fdca26\"],[1.0,\"#f0f921\"]]}],\"surface\":[{\"type\":\"surface\",\"colorbar\":{\"outlinewidth\":0,\"ticks\":\"\"},\"colorscale\":[[0.0,\"#0d0887\"],[0.1111111111111111,\"#46039f\"],[0.2222222222222222,\"#7201a8\"],[0.3333333333333333,\"#9c179e\"],[0.4444444444444444,\"#bd3786\"],[0.5555555555555556,\"#d8576b\"],[0.6666666666666666,\"#ed7953\"],[0.7777777777777778,\"#fb9f3a\"],[0.8888888888888888,\"#fdca26\"],[1.0,\"#f0f921\"]]}],\"mesh3d\":[{\"type\":\"mesh3d\",\"colorbar\":{\"outlinewidth\":0,\"ticks\":\"\"}}],\"scatter\":[{\"marker\":{\"line\":{\"color\":\"#283442\"}},\"type\":\"scatter\"}],\"parcoords\":[{\"type\":\"parcoords\",\"line\":{\"colorbar\":{\"outlinewidth\":0,\"ticks\":\"\"}}}],\"scatterpolargl\":[{\"type\":\"scatterpolargl\",\"marker\":{\"colorbar\":{\"outlinewidth\":0,\"ticks\":\"\"}}}],\"bar\":[{\"error_x\":{\"color\":\"#f2f5fa\"},\"error_y\":{\"color\":\"#f2f5fa\"},\"marker\":{\"line\":{\"color\":\"rgb(17,17,17)\",\"width\":0.5},\"pattern\":{\"fillmode\":\"overlay\",\"size\":10,\"solidity\":0.2}},\"type\":\"bar\"}],\"scattergeo\":[{\"type\":\"scattergeo\",\"marker\":{\"colorbar\":{\"outlinewidth\":0,\"ticks\":\"\"}}}],\"scatterpolar\":[{\"type\":\"scatterpolar\",\"marker\":{\"colorbar\":{\"outlinewidth\":0,\"ticks\":\"\"}}}],\"histogram\":[{\"marker\":{\"pattern\":{\"fillmode\":\"overlay\",\"size\":10,\"solidity\":0.2}},\"type\":\"histogram\"}],\"scattergl\":[{\"marker\":{\"line\":{\"color\":\"#283442\"}},\"type\":\"scattergl\"}],\"scatter3d\":[{\"type\":\"scatter3d\",\"line\":{\"colorbar\":{\"outlinewidth\":0,\"ticks\":\"\"}},\"marker\":{\"colorbar\":{\"outlinewidth\":0,\"ticks\":\"\"}}}],\"scattermapbox\":[{\"type\":\"scattermapbox\",\"marker\":{\"colorbar\":{\"outlinewidth\":0,\"ticks\":\"\"}}}],\"scatterternary\":[{\"type\":\"scatterternary\",\"marker\":{\"colorbar\":{\"outlinewidth\":0,\"ticks\":\"\"}}}],\"scattercarpet\":[{\"type\":\"scattercarpet\",\"marker\":{\"colorbar\":{\"outlinewidth\":0,\"ticks\":\"\"}}}],\"carpet\":[{\"aaxis\":{\"endlinecolor\":\"#A2B1C6\",\"gridcolor\":\"#506784\",\"linecolor\":\"#506784\",\"minorgridcolor\":\"#506784\",\"startlinecolor\":\"#A2B1C6\"},\"baxis\":{\"endlinecolor\":\"#A2B1C6\",\"gridcolor\":\"#506784\",\"linecolor\":\"#506784\",\"minorgridcolor\":\"#506784\",\"startlinecolor\":\"#A2B1C6\"},\"type\":\"carpet\"}],\"table\":[{\"cells\":{\"fill\":{\"color\":\"#506784\"},\"line\":{\"color\":\"rgb(17,17,17)\"}},\"header\":{\"fill\":{\"color\":\"#2a3f5f\"},\"line\":{\"color\":\"rgb(17,17,17)\"}},\"type\":\"table\"}],\"barpolar\":[{\"marker\":{\"line\":{\"color\":\"rgb(17,17,17)\",\"width\":0.5},\"pattern\":{\"fillmode\":\"overlay\",\"size\":10,\"solidity\":0.2}},\"type\":\"barpolar\"}],\"pie\":[{\"automargin\":true,\"type\":\"pie\"}]},\"layout\":{\"autotypenumbers\":\"strict\",\"colorway\":[\"#636efa\",\"#EF553B\",\"#00cc96\",\"#ab63fa\",\"#FFA15A\",\"#19d3f3\",\"#FF6692\",\"#B6E880\",\"#FF97FF\",\"#FECB52\"],\"font\":{\"color\":\"#f2f5fa\"},\"hovermode\":\"closest\",\"hoverlabel\":{\"align\":\"left\"},\"paper_bgcolor\":\"rgb(17,17,17)\",\"plot_bgcolor\":\"rgb(17,17,17)\",\"polar\":{\"bgcolor\":\"rgb(17,17,17)\",\"angularaxis\":{\"gridcolor\":\"#506784\",\"linecolor\":\"#506784\",\"ticks\":\"\"},\"radialaxis\":{\"gridcolor\":\"#506784\",\"linecolor\":\"#506784\",\"ticks\":\"\"}},\"ternary\":{\"bgcolor\":\"rgb(17,17,17)\",\"aaxis\":{\"gridcolor\":\"#506784\",\"linecolor\":\"#506784\",\"ticks\":\"\"},\"baxis\":{\"gridcolor\":\"#506784\",\"linecolor\":\"#506784\",\"ticks\":\"\"},\"caxis\":{\"gridcolor\":\"#506784\",\"linecolor\":\"#506784\",\"ticks\":\"\"}},\"coloraxis\":{\"colorbar\":{\"outlinewidth\":0,\"ticks\":\"\"}},\"colorscale\":{\"sequential\":[[0.0,\"#0d0887\"],[0.1111111111111111,\"#46039f\"],[0.2222222222222222,\"#7201a8\"],[0.3333333333333333,\"#9c179e\"],[0.4444444444444444,\"#bd3786\"],[0.5555555555555556,\"#d8576b\"],[0.6666666666666666,\"#ed7953\"],[0.7777777777777778,\"#fb9f3a\"],[0.8888888888888888,\"#fdca26\"],[1.0,\"#f0f921\"]],\"sequentialminus\":[[0.0,\"#0d0887\"],[0.1111111111111111,\"#46039f\"],[0.2222222222222222,\"#7201a8\"],[0.3333333333333333,\"#9c179e\"],[0.4444444444444444,\"#bd3786\"],[0.5555555555555556,\"#d8576b\"],[0.6666666666666666,\"#ed7953\"],[0.7777777777777778,\"#fb9f3a\"],[0.8888888888888888,\"#fdca26\"],[1.0,\"#f0f921\"]],\"diverging\":[[0,\"#8e0152\"],[0.1,\"#c51b7d\"],[0.2,\"#de77ae\"],[0.3,\"#f1b6da\"],[0.4,\"#fde0ef\"],[0.5,\"#f7f7f7\"],[0.6,\"#e6f5d0\"],[0.7,\"#b8e186\"],[0.8,\"#7fbc41\"],[0.9,\"#4d9221\"],[1,\"#276419\"]]},\"xaxis\":{\"gridcolor\":\"#283442\",\"linecolor\":\"#506784\",\"ticks\":\"\",\"title\":{\"standoff\":15},\"zerolinecolor\":\"#283442\",\"automargin\":true,\"zerolinewidth\":2},\"yaxis\":{\"gridcolor\":\"#283442\",\"linecolor\":\"#506784\",\"ticks\":\"\",\"title\":{\"standoff\":15},\"zerolinecolor\":\"#283442\",\"automargin\":true,\"zerolinewidth\":2},\"scene\":{\"xaxis\":{\"backgroundcolor\":\"rgb(17,17,17)\",\"gridcolor\":\"#506784\",\"linecolor\":\"#506784\",\"showbackground\":true,\"ticks\":\"\",\"zerolinecolor\":\"#C8D4E3\",\"gridwidth\":2},\"yaxis\":{\"backgroundcolor\":\"rgb(17,17,17)\",\"gridcolor\":\"#506784\",\"linecolor\":\"#506784\",\"showbackground\":true,\"ticks\":\"\",\"zerolinecolor\":\"#C8D4E3\",\"gridwidth\":2},\"zaxis\":{\"backgroundcolor\":\"rgb(17,17,17)\",\"gridcolor\":\"#506784\",\"linecolor\":\"#506784\",\"showbackground\":true,\"ticks\":\"\",\"zerolinecolor\":\"#C8D4E3\",\"gridwidth\":2}},\"shapedefaults\":{\"line\":{\"color\":\"#f2f5fa\"}},\"annotationdefaults\":{\"arrowcolor\":\"#f2f5fa\",\"arrowhead\":0,\"arrowwidth\":1},\"geo\":{\"bgcolor\":\"rgb(17,17,17)\",\"landcolor\":\"rgb(17,17,17)\",\"subunitcolor\":\"#506784\",\"showland\":true,\"showlakes\":true,\"lakecolor\":\"rgb(17,17,17)\"},\"title\":{\"x\":0.05},\"updatemenudefaults\":{\"bgcolor\":\"#506784\",\"borderwidth\":0},\"sliderdefaults\":{\"bgcolor\":\"#C8D4E3\",\"borderwidth\":1,\"bordercolor\":\"rgb(17,17,17)\",\"tickwidth\":0},\"mapbox\":{\"style\":\"dark\"}}},\"xaxis\":{\"anchor\":\"y\",\"domain\":[0.0,1.0],\"title\":{\"text\":\"Salary Estimate mean\"}},\"yaxis\":{\"anchor\":\"x\",\"domain\":[0.0,1.0]},\"legend\":{\"tracegroupgap\":0},\"title\":{\"text\":\"Boxplot of Salary Estimate's mean\"},\"boxmode\":\"group\"},                        {\"responsive\": true}                    ).then(function(){\n                            \nvar gd = document.getElementById('39c22795-ff02-4ebb-8832-e7b6eb673132');\nvar x = new MutationObserver(function (mutations, observer) {{\n        var display = window.getComputedStyle(gd).display;\n        if (!display || display === 'none') {{\n            console.log([gd, 'removed!']);\n            Plotly.purge(gd);\n            observer.disconnect();\n        }}\n}});\n\n// Listen for the removal of the full notebook cells\nvar notebookContainer = gd.closest('#notebook-container');\nif (notebookContainer) {{\n    x.observe(notebookContainer, {childList: true});\n}}\n\n// Listen for the clearing of the current output cell\nvar outputEl = gd.closest('.output');\nif (outputEl) {{\n    x.observe(outputEl, {childList: true});\n}}\n\n                        })                };                });            </script>        </div>"
     },
     "metadata": {},
     "output_type": "display_data"
    }
   ],
   "source": [
    "px.box(df, x='Salary Estimate mean', title='Boxplot of Salary Estimate\\'s mean')\n"
   ]
  },
  {
   "cell_type": "code",
   "execution_count": 213,
   "metadata": {
    "pycharm": {
     "name": "#%%\n"
    }
   },
   "outputs": [
    {
     "data": {
      "application/vnd.plotly.v1+json": {
       "data": [
        {
         "alignmentgroup": "True",
         "hovertemplate": "Founded=%{x}<br>Count=%{y}<extra></extra>",
         "legendgroup": "",
         "marker": {
          "color": "#636efa",
          "pattern": {
           "shape": ""
          }
         },
         "name": "",
         "offsetgroup": "",
         "orientation": "v",
         "showlegend": false,
         "textposition": "auto",
         "x": [
          2014,
          2013,
          2012,
          2011,
          2010,
          2009,
          2008,
          2007,
          2006,
          2005,
          2004,
          2003,
          2002,
          2001,
          2000,
          1999,
          1998,
          1997,
          1996,
          1995,
          1994,
          1993,
          1992,
          1991,
          1990,
          1989,
          1988,
          1987,
          1986,
          1985,
          1984,
          1983,
          1982,
          1981,
          1980,
          1979,
          1978,
          1977,
          1976,
          1975,
          1974,
          1973,
          1972,
          1971,
          1970,
          1969,
          1968,
          1967,
          1966,
          1965,
          1963,
          1962,
          1961,
          1960,
          1958,
          1957,
          1956,
          1955,
          1954,
          1952,
          1951,
          1950,
          1949,
          1948,
          1947,
          1946,
          1945,
          1944,
          1943,
          1942,
          1940,
          1939,
          1938,
          1937,
          1936,
          1935,
          1933,
          1932,
          1931,
          1930,
          1929,
          1927,
          1926,
          1925,
          1924,
          1923,
          1922,
          1921,
          1920,
          1919,
          1918,
          1917,
          1916,
          1915,
          1914,
          1913,
          1912,
          1911,
          1908,
          1907,
          1906,
          1905,
          1903
         ],
         "xaxis": "x",
         "y": [
          55,
          70,
          55,
          55,
          47,
          56,
          40,
          62,
          64,
          40,
          63,
          58,
          110,
          94,
          99,
          89,
          62,
          52,
          53,
          45,
          65,
          24,
          16,
          19,
          44,
          38,
          16,
          21,
          10,
          28,
          38,
          22,
          18,
          19,
          7,
          14,
          26,
          17,
          32,
          9,
          10,
          18,
          14,
          5,
          8,
          24,
          18,
          23,
          31,
          6,
          12,
          7,
          25,
          15,
          6,
          2,
          7,
          3,
          3,
          20,
          12,
          7,
          5,
          13,
          12,
          4,
          10,
          6,
          3,
          6,
          4,
          7,
          4,
          3,
          3,
          22,
          2,
          2,
          16,
          2,
          3,
          5,
          3,
          5,
          1,
          17,
          8,
          1,
          1,
          5,
          2,
          1,
          1,
          2,
          12,
          2,
          1,
          6,
          4,
          1,
          4,
          8,
          2
         ],
         "yaxis": "y",
         "type": "bar"
        }
       ],
       "layout": {
        "template": {
         "data": {
          "histogram2dcontour": [
           {
            "type": "histogram2dcontour",
            "colorbar": {
             "outlinewidth": 0,
             "ticks": ""
            },
            "colorscale": [
             [
              0.0,
              "#0d0887"
             ],
             [
              0.1111111111111111,
              "#46039f"
             ],
             [
              0.2222222222222222,
              "#7201a8"
             ],
             [
              0.3333333333333333,
              "#9c179e"
             ],
             [
              0.4444444444444444,
              "#bd3786"
             ],
             [
              0.5555555555555556,
              "#d8576b"
             ],
             [
              0.6666666666666666,
              "#ed7953"
             ],
             [
              0.7777777777777778,
              "#fb9f3a"
             ],
             [
              0.8888888888888888,
              "#fdca26"
             ],
             [
              1.0,
              "#f0f921"
             ]
            ]
           }
          ],
          "choropleth": [
           {
            "type": "choropleth",
            "colorbar": {
             "outlinewidth": 0,
             "ticks": ""
            }
           }
          ],
          "histogram2d": [
           {
            "type": "histogram2d",
            "colorbar": {
             "outlinewidth": 0,
             "ticks": ""
            },
            "colorscale": [
             [
              0.0,
              "#0d0887"
             ],
             [
              0.1111111111111111,
              "#46039f"
             ],
             [
              0.2222222222222222,
              "#7201a8"
             ],
             [
              0.3333333333333333,
              "#9c179e"
             ],
             [
              0.4444444444444444,
              "#bd3786"
             ],
             [
              0.5555555555555556,
              "#d8576b"
             ],
             [
              0.6666666666666666,
              "#ed7953"
             ],
             [
              0.7777777777777778,
              "#fb9f3a"
             ],
             [
              0.8888888888888888,
              "#fdca26"
             ],
             [
              1.0,
              "#f0f921"
             ]
            ]
           }
          ],
          "heatmap": [
           {
            "type": "heatmap",
            "colorbar": {
             "outlinewidth": 0,
             "ticks": ""
            },
            "colorscale": [
             [
              0.0,
              "#0d0887"
             ],
             [
              0.1111111111111111,
              "#46039f"
             ],
             [
              0.2222222222222222,
              "#7201a8"
             ],
             [
              0.3333333333333333,
              "#9c179e"
             ],
             [
              0.4444444444444444,
              "#bd3786"
             ],
             [
              0.5555555555555556,
              "#d8576b"
             ],
             [
              0.6666666666666666,
              "#ed7953"
             ],
             [
              0.7777777777777778,
              "#fb9f3a"
             ],
             [
              0.8888888888888888,
              "#fdca26"
             ],
             [
              1.0,
              "#f0f921"
             ]
            ]
           }
          ],
          "heatmapgl": [
           {
            "type": "heatmapgl",
            "colorbar": {
             "outlinewidth": 0,
             "ticks": ""
            },
            "colorscale": [
             [
              0.0,
              "#0d0887"
             ],
             [
              0.1111111111111111,
              "#46039f"
             ],
             [
              0.2222222222222222,
              "#7201a8"
             ],
             [
              0.3333333333333333,
              "#9c179e"
             ],
             [
              0.4444444444444444,
              "#bd3786"
             ],
             [
              0.5555555555555556,
              "#d8576b"
             ],
             [
              0.6666666666666666,
              "#ed7953"
             ],
             [
              0.7777777777777778,
              "#fb9f3a"
             ],
             [
              0.8888888888888888,
              "#fdca26"
             ],
             [
              1.0,
              "#f0f921"
             ]
            ]
           }
          ],
          "contourcarpet": [
           {
            "type": "contourcarpet",
            "colorbar": {
             "outlinewidth": 0,
             "ticks": ""
            }
           }
          ],
          "contour": [
           {
            "type": "contour",
            "colorbar": {
             "outlinewidth": 0,
             "ticks": ""
            },
            "colorscale": [
             [
              0.0,
              "#0d0887"
             ],
             [
              0.1111111111111111,
              "#46039f"
             ],
             [
              0.2222222222222222,
              "#7201a8"
             ],
             [
              0.3333333333333333,
              "#9c179e"
             ],
             [
              0.4444444444444444,
              "#bd3786"
             ],
             [
              0.5555555555555556,
              "#d8576b"
             ],
             [
              0.6666666666666666,
              "#ed7953"
             ],
             [
              0.7777777777777778,
              "#fb9f3a"
             ],
             [
              0.8888888888888888,
              "#fdca26"
             ],
             [
              1.0,
              "#f0f921"
             ]
            ]
           }
          ],
          "surface": [
           {
            "type": "surface",
            "colorbar": {
             "outlinewidth": 0,
             "ticks": ""
            },
            "colorscale": [
             [
              0.0,
              "#0d0887"
             ],
             [
              0.1111111111111111,
              "#46039f"
             ],
             [
              0.2222222222222222,
              "#7201a8"
             ],
             [
              0.3333333333333333,
              "#9c179e"
             ],
             [
              0.4444444444444444,
              "#bd3786"
             ],
             [
              0.5555555555555556,
              "#d8576b"
             ],
             [
              0.6666666666666666,
              "#ed7953"
             ],
             [
              0.7777777777777778,
              "#fb9f3a"
             ],
             [
              0.8888888888888888,
              "#fdca26"
             ],
             [
              1.0,
              "#f0f921"
             ]
            ]
           }
          ],
          "mesh3d": [
           {
            "type": "mesh3d",
            "colorbar": {
             "outlinewidth": 0,
             "ticks": ""
            }
           }
          ],
          "scatter": [
           {
            "marker": {
             "line": {
              "color": "#283442"
             }
            },
            "type": "scatter"
           }
          ],
          "parcoords": [
           {
            "type": "parcoords",
            "line": {
             "colorbar": {
              "outlinewidth": 0,
              "ticks": ""
             }
            }
           }
          ],
          "scatterpolargl": [
           {
            "type": "scatterpolargl",
            "marker": {
             "colorbar": {
              "outlinewidth": 0,
              "ticks": ""
             }
            }
           }
          ],
          "bar": [
           {
            "error_x": {
             "color": "#f2f5fa"
            },
            "error_y": {
             "color": "#f2f5fa"
            },
            "marker": {
             "line": {
              "color": "rgb(17,17,17)",
              "width": 0.5
             },
             "pattern": {
              "fillmode": "overlay",
              "size": 10,
              "solidity": 0.2
             }
            },
            "type": "bar"
           }
          ],
          "scattergeo": [
           {
            "type": "scattergeo",
            "marker": {
             "colorbar": {
              "outlinewidth": 0,
              "ticks": ""
             }
            }
           }
          ],
          "scatterpolar": [
           {
            "type": "scatterpolar",
            "marker": {
             "colorbar": {
              "outlinewidth": 0,
              "ticks": ""
             }
            }
           }
          ],
          "histogram": [
           {
            "marker": {
             "pattern": {
              "fillmode": "overlay",
              "size": 10,
              "solidity": 0.2
             }
            },
            "type": "histogram"
           }
          ],
          "scattergl": [
           {
            "marker": {
             "line": {
              "color": "#283442"
             }
            },
            "type": "scattergl"
           }
          ],
          "scatter3d": [
           {
            "type": "scatter3d",
            "line": {
             "colorbar": {
              "outlinewidth": 0,
              "ticks": ""
             }
            },
            "marker": {
             "colorbar": {
              "outlinewidth": 0,
              "ticks": ""
             }
            }
           }
          ],
          "scattermapbox": [
           {
            "type": "scattermapbox",
            "marker": {
             "colorbar": {
              "outlinewidth": 0,
              "ticks": ""
             }
            }
           }
          ],
          "scatterternary": [
           {
            "type": "scatterternary",
            "marker": {
             "colorbar": {
              "outlinewidth": 0,
              "ticks": ""
             }
            }
           }
          ],
          "scattercarpet": [
           {
            "type": "scattercarpet",
            "marker": {
             "colorbar": {
              "outlinewidth": 0,
              "ticks": ""
             }
            }
           }
          ],
          "carpet": [
           {
            "aaxis": {
             "endlinecolor": "#A2B1C6",
             "gridcolor": "#506784",
             "linecolor": "#506784",
             "minorgridcolor": "#506784",
             "startlinecolor": "#A2B1C6"
            },
            "baxis": {
             "endlinecolor": "#A2B1C6",
             "gridcolor": "#506784",
             "linecolor": "#506784",
             "minorgridcolor": "#506784",
             "startlinecolor": "#A2B1C6"
            },
            "type": "carpet"
           }
          ],
          "table": [
           {
            "cells": {
             "fill": {
              "color": "#506784"
             },
             "line": {
              "color": "rgb(17,17,17)"
             }
            },
            "header": {
             "fill": {
              "color": "#2a3f5f"
             },
             "line": {
              "color": "rgb(17,17,17)"
             }
            },
            "type": "table"
           }
          ],
          "barpolar": [
           {
            "marker": {
             "line": {
              "color": "rgb(17,17,17)",
              "width": 0.5
             },
             "pattern": {
              "fillmode": "overlay",
              "size": 10,
              "solidity": 0.2
             }
            },
            "type": "barpolar"
           }
          ],
          "pie": [
           {
            "automargin": true,
            "type": "pie"
           }
          ]
         },
         "layout": {
          "autotypenumbers": "strict",
          "colorway": [
           "#636efa",
           "#EF553B",
           "#00cc96",
           "#ab63fa",
           "#FFA15A",
           "#19d3f3",
           "#FF6692",
           "#B6E880",
           "#FF97FF",
           "#FECB52"
          ],
          "font": {
           "color": "#f2f5fa"
          },
          "hovermode": "closest",
          "hoverlabel": {
           "align": "left"
          },
          "paper_bgcolor": "rgb(17,17,17)",
          "plot_bgcolor": "rgb(17,17,17)",
          "polar": {
           "bgcolor": "rgb(17,17,17)",
           "angularaxis": {
            "gridcolor": "#506784",
            "linecolor": "#506784",
            "ticks": ""
           },
           "radialaxis": {
            "gridcolor": "#506784",
            "linecolor": "#506784",
            "ticks": ""
           }
          },
          "ternary": {
           "bgcolor": "rgb(17,17,17)",
           "aaxis": {
            "gridcolor": "#506784",
            "linecolor": "#506784",
            "ticks": ""
           },
           "baxis": {
            "gridcolor": "#506784",
            "linecolor": "#506784",
            "ticks": ""
           },
           "caxis": {
            "gridcolor": "#506784",
            "linecolor": "#506784",
            "ticks": ""
           }
          },
          "coloraxis": {
           "colorbar": {
            "outlinewidth": 0,
            "ticks": ""
           }
          },
          "colorscale": {
           "sequential": [
            [
             0.0,
             "#0d0887"
            ],
            [
             0.1111111111111111,
             "#46039f"
            ],
            [
             0.2222222222222222,
             "#7201a8"
            ],
            [
             0.3333333333333333,
             "#9c179e"
            ],
            [
             0.4444444444444444,
             "#bd3786"
            ],
            [
             0.5555555555555556,
             "#d8576b"
            ],
            [
             0.6666666666666666,
             "#ed7953"
            ],
            [
             0.7777777777777778,
             "#fb9f3a"
            ],
            [
             0.8888888888888888,
             "#fdca26"
            ],
            [
             1.0,
             "#f0f921"
            ]
           ],
           "sequentialminus": [
            [
             0.0,
             "#0d0887"
            ],
            [
             0.1111111111111111,
             "#46039f"
            ],
            [
             0.2222222222222222,
             "#7201a8"
            ],
            [
             0.3333333333333333,
             "#9c179e"
            ],
            [
             0.4444444444444444,
             "#bd3786"
            ],
            [
             0.5555555555555556,
             "#d8576b"
            ],
            [
             0.6666666666666666,
             "#ed7953"
            ],
            [
             0.7777777777777778,
             "#fb9f3a"
            ],
            [
             0.8888888888888888,
             "#fdca26"
            ],
            [
             1.0,
             "#f0f921"
            ]
           ],
           "diverging": [
            [
             0,
             "#8e0152"
            ],
            [
             0.1,
             "#c51b7d"
            ],
            [
             0.2,
             "#de77ae"
            ],
            [
             0.3,
             "#f1b6da"
            ],
            [
             0.4,
             "#fde0ef"
            ],
            [
             0.5,
             "#f7f7f7"
            ],
            [
             0.6,
             "#e6f5d0"
            ],
            [
             0.7,
             "#b8e186"
            ],
            [
             0.8,
             "#7fbc41"
            ],
            [
             0.9,
             "#4d9221"
            ],
            [
             1,
             "#276419"
            ]
           ]
          },
          "xaxis": {
           "gridcolor": "#283442",
           "linecolor": "#506784",
           "ticks": "",
           "title": {
            "standoff": 15
           },
           "zerolinecolor": "#283442",
           "automargin": true,
           "zerolinewidth": 2
          },
          "yaxis": {
           "gridcolor": "#283442",
           "linecolor": "#506784",
           "ticks": "",
           "title": {
            "standoff": 15
           },
           "zerolinecolor": "#283442",
           "automargin": true,
           "zerolinewidth": 2
          },
          "scene": {
           "xaxis": {
            "backgroundcolor": "rgb(17,17,17)",
            "gridcolor": "#506784",
            "linecolor": "#506784",
            "showbackground": true,
            "ticks": "",
            "zerolinecolor": "#C8D4E3",
            "gridwidth": 2
           },
           "yaxis": {
            "backgroundcolor": "rgb(17,17,17)",
            "gridcolor": "#506784",
            "linecolor": "#506784",
            "showbackground": true,
            "ticks": "",
            "zerolinecolor": "#C8D4E3",
            "gridwidth": 2
           },
           "zaxis": {
            "backgroundcolor": "rgb(17,17,17)",
            "gridcolor": "#506784",
            "linecolor": "#506784",
            "showbackground": true,
            "ticks": "",
            "zerolinecolor": "#C8D4E3",
            "gridwidth": 2
           }
          },
          "shapedefaults": {
           "line": {
            "color": "#f2f5fa"
           }
          },
          "annotationdefaults": {
           "arrowcolor": "#f2f5fa",
           "arrowhead": 0,
           "arrowwidth": 1
          },
          "geo": {
           "bgcolor": "rgb(17,17,17)",
           "landcolor": "rgb(17,17,17)",
           "subunitcolor": "#506784",
           "showland": true,
           "showlakes": true,
           "lakecolor": "rgb(17,17,17)"
          },
          "title": {
           "x": 0.05
          },
          "updatemenudefaults": {
           "bgcolor": "#506784",
           "borderwidth": 0
          },
          "sliderdefaults": {
           "bgcolor": "#C8D4E3",
           "borderwidth": 1,
           "bordercolor": "rgb(17,17,17)",
           "tickwidth": 0
          },
          "mapbox": {
           "style": "dark"
          }
         }
        },
        "xaxis": {
         "anchor": "y",
         "domain": [
          0.0,
          1.0
         ],
         "title": {
          "text": "Founded"
         }
        },
        "yaxis": {
         "anchor": "x",
         "domain": [
          0.0,
          1.0
         ],
         "title": {
          "text": "Count"
         }
        },
        "legend": {
         "tracegroupgap": 0
        },
        "margin": {
         "t": 60
        },
        "barmode": "relative"
       },
       "config": {
        "plotlyServerURL": "https://plot.ly"
       }
      },
      "text/html": "<div>                            <div id=\"edb3c614-ae2f-443b-b469-36531f63f3b3\" class=\"plotly-graph-div\" style=\"height:525px; width:100%;\"></div>            <script type=\"text/javascript\">                require([\"plotly\"], function(Plotly) {                    window.PLOTLYENV=window.PLOTLYENV || {};                                    if (document.getElementById(\"edb3c614-ae2f-443b-b469-36531f63f3b3\")) {                    Plotly.newPlot(                        \"edb3c614-ae2f-443b-b469-36531f63f3b3\",                        [{\"alignmentgroup\":\"True\",\"hovertemplate\":\"Founded=%{x}<br>Count=%{y}<extra></extra>\",\"legendgroup\":\"\",\"marker\":{\"color\":\"#636efa\",\"pattern\":{\"shape\":\"\"}},\"name\":\"\",\"offsetgroup\":\"\",\"orientation\":\"v\",\"showlegend\":false,\"textposition\":\"auto\",\"x\":[2014,2013,2012,2011,2010,2009,2008,2007,2006,2005,2004,2003,2002,2001,2000,1999,1998,1997,1996,1995,1994,1993,1992,1991,1990,1989,1988,1987,1986,1985,1984,1983,1982,1981,1980,1979,1978,1977,1976,1975,1974,1973,1972,1971,1970,1969,1968,1967,1966,1965,1963,1962,1961,1960,1958,1957,1956,1955,1954,1952,1951,1950,1949,1948,1947,1946,1945,1944,1943,1942,1940,1939,1938,1937,1936,1935,1933,1932,1931,1930,1929,1927,1926,1925,1924,1923,1922,1921,1920,1919,1918,1917,1916,1915,1914,1913,1912,1911,1908,1907,1906,1905,1903],\"xaxis\":\"x\",\"y\":[55,70,55,55,47,56,40,62,64,40,63,58,110,94,99,89,62,52,53,45,65,24,16,19,44,38,16,21,10,28,38,22,18,19,7,14,26,17,32,9,10,18,14,5,8,24,18,23,31,6,12,7,25,15,6,2,7,3,3,20,12,7,5,13,12,4,10,6,3,6,4,7,4,3,3,22,2,2,16,2,3,5,3,5,1,17,8,1,1,5,2,1,1,2,12,2,1,6,4,1,4,8,2],\"yaxis\":\"y\",\"type\":\"bar\"}],                        {\"template\":{\"data\":{\"histogram2dcontour\":[{\"type\":\"histogram2dcontour\",\"colorbar\":{\"outlinewidth\":0,\"ticks\":\"\"},\"colorscale\":[[0.0,\"#0d0887\"],[0.1111111111111111,\"#46039f\"],[0.2222222222222222,\"#7201a8\"],[0.3333333333333333,\"#9c179e\"],[0.4444444444444444,\"#bd3786\"],[0.5555555555555556,\"#d8576b\"],[0.6666666666666666,\"#ed7953\"],[0.7777777777777778,\"#fb9f3a\"],[0.8888888888888888,\"#fdca26\"],[1.0,\"#f0f921\"]]}],\"choropleth\":[{\"type\":\"choropleth\",\"colorbar\":{\"outlinewidth\":0,\"ticks\":\"\"}}],\"histogram2d\":[{\"type\":\"histogram2d\",\"colorbar\":{\"outlinewidth\":0,\"ticks\":\"\"},\"colorscale\":[[0.0,\"#0d0887\"],[0.1111111111111111,\"#46039f\"],[0.2222222222222222,\"#7201a8\"],[0.3333333333333333,\"#9c179e\"],[0.4444444444444444,\"#bd3786\"],[0.5555555555555556,\"#d8576b\"],[0.6666666666666666,\"#ed7953\"],[0.7777777777777778,\"#fb9f3a\"],[0.8888888888888888,\"#fdca26\"],[1.0,\"#f0f921\"]]}],\"heatmap\":[{\"type\":\"heatmap\",\"colorbar\":{\"outlinewidth\":0,\"ticks\":\"\"},\"colorscale\":[[0.0,\"#0d0887\"],[0.1111111111111111,\"#46039f\"],[0.2222222222222222,\"#7201a8\"],[0.3333333333333333,\"#9c179e\"],[0.4444444444444444,\"#bd3786\"],[0.5555555555555556,\"#d8576b\"],[0.6666666666666666,\"#ed7953\"],[0.7777777777777778,\"#fb9f3a\"],[0.8888888888888888,\"#fdca26\"],[1.0,\"#f0f921\"]]}],\"heatmapgl\":[{\"type\":\"heatmapgl\",\"colorbar\":{\"outlinewidth\":0,\"ticks\":\"\"},\"colorscale\":[[0.0,\"#0d0887\"],[0.1111111111111111,\"#46039f\"],[0.2222222222222222,\"#7201a8\"],[0.3333333333333333,\"#9c179e\"],[0.4444444444444444,\"#bd3786\"],[0.5555555555555556,\"#d8576b\"],[0.6666666666666666,\"#ed7953\"],[0.7777777777777778,\"#fb9f3a\"],[0.8888888888888888,\"#fdca26\"],[1.0,\"#f0f921\"]]}],\"contourcarpet\":[{\"type\":\"contourcarpet\",\"colorbar\":{\"outlinewidth\":0,\"ticks\":\"\"}}],\"contour\":[{\"type\":\"contour\",\"colorbar\":{\"outlinewidth\":0,\"ticks\":\"\"},\"colorscale\":[[0.0,\"#0d0887\"],[0.1111111111111111,\"#46039f\"],[0.2222222222222222,\"#7201a8\"],[0.3333333333333333,\"#9c179e\"],[0.4444444444444444,\"#bd3786\"],[0.5555555555555556,\"#d8576b\"],[0.6666666666666666,\"#ed7953\"],[0.7777777777777778,\"#fb9f3a\"],[0.8888888888888888,\"#fdca26\"],[1.0,\"#f0f921\"]]}],\"surface\":[{\"type\":\"surface\",\"colorbar\":{\"outlinewidth\":0,\"ticks\":\"\"},\"colorscale\":[[0.0,\"#0d0887\"],[0.1111111111111111,\"#46039f\"],[0.2222222222222222,\"#7201a8\"],[0.3333333333333333,\"#9c179e\"],[0.4444444444444444,\"#bd3786\"],[0.5555555555555556,\"#d8576b\"],[0.6666666666666666,\"#ed7953\"],[0.7777777777777778,\"#fb9f3a\"],[0.8888888888888888,\"#fdca26\"],[1.0,\"#f0f921\"]]}],\"mesh3d\":[{\"type\":\"mesh3d\",\"colorbar\":{\"outlinewidth\":0,\"ticks\":\"\"}}],\"scatter\":[{\"marker\":{\"line\":{\"color\":\"#283442\"}},\"type\":\"scatter\"}],\"parcoords\":[{\"type\":\"parcoords\",\"line\":{\"colorbar\":{\"outlinewidth\":0,\"ticks\":\"\"}}}],\"scatterpolargl\":[{\"type\":\"scatterpolargl\",\"marker\":{\"colorbar\":{\"outlinewidth\":0,\"ticks\":\"\"}}}],\"bar\":[{\"error_x\":{\"color\":\"#f2f5fa\"},\"error_y\":{\"color\":\"#f2f5fa\"},\"marker\":{\"line\":{\"color\":\"rgb(17,17,17)\",\"width\":0.5},\"pattern\":{\"fillmode\":\"overlay\",\"size\":10,\"solidity\":0.2}},\"type\":\"bar\"}],\"scattergeo\":[{\"type\":\"scattergeo\",\"marker\":{\"colorbar\":{\"outlinewidth\":0,\"ticks\":\"\"}}}],\"scatterpolar\":[{\"type\":\"scatterpolar\",\"marker\":{\"colorbar\":{\"outlinewidth\":0,\"ticks\":\"\"}}}],\"histogram\":[{\"marker\":{\"pattern\":{\"fillmode\":\"overlay\",\"size\":10,\"solidity\":0.2}},\"type\":\"histogram\"}],\"scattergl\":[{\"marker\":{\"line\":{\"color\":\"#283442\"}},\"type\":\"scattergl\"}],\"scatter3d\":[{\"type\":\"scatter3d\",\"line\":{\"colorbar\":{\"outlinewidth\":0,\"ticks\":\"\"}},\"marker\":{\"colorbar\":{\"outlinewidth\":0,\"ticks\":\"\"}}}],\"scattermapbox\":[{\"type\":\"scattermapbox\",\"marker\":{\"colorbar\":{\"outlinewidth\":0,\"ticks\":\"\"}}}],\"scatterternary\":[{\"type\":\"scatterternary\",\"marker\":{\"colorbar\":{\"outlinewidth\":0,\"ticks\":\"\"}}}],\"scattercarpet\":[{\"type\":\"scattercarpet\",\"marker\":{\"colorbar\":{\"outlinewidth\":0,\"ticks\":\"\"}}}],\"carpet\":[{\"aaxis\":{\"endlinecolor\":\"#A2B1C6\",\"gridcolor\":\"#506784\",\"linecolor\":\"#506784\",\"minorgridcolor\":\"#506784\",\"startlinecolor\":\"#A2B1C6\"},\"baxis\":{\"endlinecolor\":\"#A2B1C6\",\"gridcolor\":\"#506784\",\"linecolor\":\"#506784\",\"minorgridcolor\":\"#506784\",\"startlinecolor\":\"#A2B1C6\"},\"type\":\"carpet\"}],\"table\":[{\"cells\":{\"fill\":{\"color\":\"#506784\"},\"line\":{\"color\":\"rgb(17,17,17)\"}},\"header\":{\"fill\":{\"color\":\"#2a3f5f\"},\"line\":{\"color\":\"rgb(17,17,17)\"}},\"type\":\"table\"}],\"barpolar\":[{\"marker\":{\"line\":{\"color\":\"rgb(17,17,17)\",\"width\":0.5},\"pattern\":{\"fillmode\":\"overlay\",\"size\":10,\"solidity\":0.2}},\"type\":\"barpolar\"}],\"pie\":[{\"automargin\":true,\"type\":\"pie\"}]},\"layout\":{\"autotypenumbers\":\"strict\",\"colorway\":[\"#636efa\",\"#EF553B\",\"#00cc96\",\"#ab63fa\",\"#FFA15A\",\"#19d3f3\",\"#FF6692\",\"#B6E880\",\"#FF97FF\",\"#FECB52\"],\"font\":{\"color\":\"#f2f5fa\"},\"hovermode\":\"closest\",\"hoverlabel\":{\"align\":\"left\"},\"paper_bgcolor\":\"rgb(17,17,17)\",\"plot_bgcolor\":\"rgb(17,17,17)\",\"polar\":{\"bgcolor\":\"rgb(17,17,17)\",\"angularaxis\":{\"gridcolor\":\"#506784\",\"linecolor\":\"#506784\",\"ticks\":\"\"},\"radialaxis\":{\"gridcolor\":\"#506784\",\"linecolor\":\"#506784\",\"ticks\":\"\"}},\"ternary\":{\"bgcolor\":\"rgb(17,17,17)\",\"aaxis\":{\"gridcolor\":\"#506784\",\"linecolor\":\"#506784\",\"ticks\":\"\"},\"baxis\":{\"gridcolor\":\"#506784\",\"linecolor\":\"#506784\",\"ticks\":\"\"},\"caxis\":{\"gridcolor\":\"#506784\",\"linecolor\":\"#506784\",\"ticks\":\"\"}},\"coloraxis\":{\"colorbar\":{\"outlinewidth\":0,\"ticks\":\"\"}},\"colorscale\":{\"sequential\":[[0.0,\"#0d0887\"],[0.1111111111111111,\"#46039f\"],[0.2222222222222222,\"#7201a8\"],[0.3333333333333333,\"#9c179e\"],[0.4444444444444444,\"#bd3786\"],[0.5555555555555556,\"#d8576b\"],[0.6666666666666666,\"#ed7953\"],[0.7777777777777778,\"#fb9f3a\"],[0.8888888888888888,\"#fdca26\"],[1.0,\"#f0f921\"]],\"sequentialminus\":[[0.0,\"#0d0887\"],[0.1111111111111111,\"#46039f\"],[0.2222222222222222,\"#7201a8\"],[0.3333333333333333,\"#9c179e\"],[0.4444444444444444,\"#bd3786\"],[0.5555555555555556,\"#d8576b\"],[0.6666666666666666,\"#ed7953\"],[0.7777777777777778,\"#fb9f3a\"],[0.8888888888888888,\"#fdca26\"],[1.0,\"#f0f921\"]],\"diverging\":[[0,\"#8e0152\"],[0.1,\"#c51b7d\"],[0.2,\"#de77ae\"],[0.3,\"#f1b6da\"],[0.4,\"#fde0ef\"],[0.5,\"#f7f7f7\"],[0.6,\"#e6f5d0\"],[0.7,\"#b8e186\"],[0.8,\"#7fbc41\"],[0.9,\"#4d9221\"],[1,\"#276419\"]]},\"xaxis\":{\"gridcolor\":\"#283442\",\"linecolor\":\"#506784\",\"ticks\":\"\",\"title\":{\"standoff\":15},\"zerolinecolor\":\"#283442\",\"automargin\":true,\"zerolinewidth\":2},\"yaxis\":{\"gridcolor\":\"#283442\",\"linecolor\":\"#506784\",\"ticks\":\"\",\"title\":{\"standoff\":15},\"zerolinecolor\":\"#283442\",\"automargin\":true,\"zerolinewidth\":2},\"scene\":{\"xaxis\":{\"backgroundcolor\":\"rgb(17,17,17)\",\"gridcolor\":\"#506784\",\"linecolor\":\"#506784\",\"showbackground\":true,\"ticks\":\"\",\"zerolinecolor\":\"#C8D4E3\",\"gridwidth\":2},\"yaxis\":{\"backgroundcolor\":\"rgb(17,17,17)\",\"gridcolor\":\"#506784\",\"linecolor\":\"#506784\",\"showbackground\":true,\"ticks\":\"\",\"zerolinecolor\":\"#C8D4E3\",\"gridwidth\":2},\"zaxis\":{\"backgroundcolor\":\"rgb(17,17,17)\",\"gridcolor\":\"#506784\",\"linecolor\":\"#506784\",\"showbackground\":true,\"ticks\":\"\",\"zerolinecolor\":\"#C8D4E3\",\"gridwidth\":2}},\"shapedefaults\":{\"line\":{\"color\":\"#f2f5fa\"}},\"annotationdefaults\":{\"arrowcolor\":\"#f2f5fa\",\"arrowhead\":0,\"arrowwidth\":1},\"geo\":{\"bgcolor\":\"rgb(17,17,17)\",\"landcolor\":\"rgb(17,17,17)\",\"subunitcolor\":\"#506784\",\"showland\":true,\"showlakes\":true,\"lakecolor\":\"rgb(17,17,17)\"},\"title\":{\"x\":0.05},\"updatemenudefaults\":{\"bgcolor\":\"#506784\",\"borderwidth\":0},\"sliderdefaults\":{\"bgcolor\":\"#C8D4E3\",\"borderwidth\":1,\"bordercolor\":\"rgb(17,17,17)\",\"tickwidth\":0},\"mapbox\":{\"style\":\"dark\"}}},\"xaxis\":{\"anchor\":\"y\",\"domain\":[0.0,1.0],\"title\":{\"text\":\"Founded\"}},\"yaxis\":{\"anchor\":\"x\",\"domain\":[0.0,1.0],\"title\":{\"text\":\"Count\"}},\"legend\":{\"tracegroupgap\":0},\"margin\":{\"t\":60},\"barmode\":\"relative\"},                        {\"responsive\": true}                    ).then(function(){\n                            \nvar gd = document.getElementById('edb3c614-ae2f-443b-b469-36531f63f3b3');\nvar x = new MutationObserver(function (mutations, observer) {{\n        var display = window.getComputedStyle(gd).display;\n        if (!display || display === 'none') {{\n            console.log([gd, 'removed!']);\n            Plotly.purge(gd);\n            observer.disconnect();\n        }}\n}});\n\n// Listen for the removal of the full notebook cells\nvar notebookContainer = gd.closest('#notebook-container');\nif (notebookContainer) {{\n    x.observe(notebookContainer, {childList: true});\n}}\n\n// Listen for the clearing of the current output cell\nvar outputEl = gd.closest('.output');\nif (outputEl) {{\n    x.observe(outputEl, {childList: true});\n}}\n\n                        })                };                });            </script>        </div>"
     },
     "metadata": {},
     "output_type": "display_data"
    }
   ],
   "source": [
    "Founded = df.groupby(['Founded']).size().reset_index(name = 'Count').sort_values('Founded', ascending=False)\n",
    "px.bar(Founded, x='Founded', y='Count')\n"
   ]
  },
  {
   "cell_type": "code",
   "execution_count": 219,
   "outputs": [],
   "source": [
    "map_df = df.groupby(['State']).mean().reset_index()"
   ],
   "metadata": {
    "collapsed": false,
    "pycharm": {
     "name": "#%%\n"
    }
   }
  },
  {
   "cell_type": "code",
   "execution_count": 220,
   "outputs": [
    {
     "data": {
      "text/plain": "  State    Rating      Founded  Salary Estimate mean   latitude   longitude\n0    AZ  3.904294  1988.147239          99141.104294  34.048928 -111.093731\n1    CA  3.813333  1992.601887         127345.283019  36.778261 -119.417932\n2    DE  3.713889  1993.666667         101041.666667  38.910832  -75.527670\n3    FL  3.808475  1982.584746          62279.661017  27.664827  -81.515754\n4    IL  3.813004  1992.241758         101884.615385  40.633125  -89.398528\n5    NJ  3.881159  1984.782609          97043.478261  40.058324  -74.405661\n6    NY  3.913542  1994.618750         100012.500000  43.299428  -74.217933\n7    PA  3.759705  1993.088608          97465.189873  41.203322  -77.194525\n8    TX  3.802960  1983.162042          89651.498335  31.968599  -99.901813",
      "text/html": "<div>\n<style scoped>\n    .dataframe tbody tr th:only-of-type {\n        vertical-align: middle;\n    }\n\n    .dataframe tbody tr th {\n        vertical-align: top;\n    }\n\n    .dataframe thead th {\n        text-align: right;\n    }\n</style>\n<table border=\"1\" class=\"dataframe\">\n  <thead>\n    <tr style=\"text-align: right;\">\n      <th></th>\n      <th>State</th>\n      <th>Rating</th>\n      <th>Founded</th>\n      <th>Salary Estimate mean</th>\n      <th>latitude</th>\n      <th>longitude</th>\n    </tr>\n  </thead>\n  <tbody>\n    <tr>\n      <th>0</th>\n      <td>AZ</td>\n      <td>3.904294</td>\n      <td>1988.147239</td>\n      <td>99141.104294</td>\n      <td>34.048928</td>\n      <td>-111.093731</td>\n    </tr>\n    <tr>\n      <th>1</th>\n      <td>CA</td>\n      <td>3.813333</td>\n      <td>1992.601887</td>\n      <td>127345.283019</td>\n      <td>36.778261</td>\n      <td>-119.417932</td>\n    </tr>\n    <tr>\n      <th>2</th>\n      <td>DE</td>\n      <td>3.713889</td>\n      <td>1993.666667</td>\n      <td>101041.666667</td>\n      <td>38.910832</td>\n      <td>-75.527670</td>\n    </tr>\n    <tr>\n      <th>3</th>\n      <td>FL</td>\n      <td>3.808475</td>\n      <td>1982.584746</td>\n      <td>62279.661017</td>\n      <td>27.664827</td>\n      <td>-81.515754</td>\n    </tr>\n    <tr>\n      <th>4</th>\n      <td>IL</td>\n      <td>3.813004</td>\n      <td>1992.241758</td>\n      <td>101884.615385</td>\n      <td>40.633125</td>\n      <td>-89.398528</td>\n    </tr>\n    <tr>\n      <th>5</th>\n      <td>NJ</td>\n      <td>3.881159</td>\n      <td>1984.782609</td>\n      <td>97043.478261</td>\n      <td>40.058324</td>\n      <td>-74.405661</td>\n    </tr>\n    <tr>\n      <th>6</th>\n      <td>NY</td>\n      <td>3.913542</td>\n      <td>1994.618750</td>\n      <td>100012.500000</td>\n      <td>43.299428</td>\n      <td>-74.217933</td>\n    </tr>\n    <tr>\n      <th>7</th>\n      <td>PA</td>\n      <td>3.759705</td>\n      <td>1993.088608</td>\n      <td>97465.189873</td>\n      <td>41.203322</td>\n      <td>-77.194525</td>\n    </tr>\n    <tr>\n      <th>8</th>\n      <td>TX</td>\n      <td>3.802960</td>\n      <td>1983.162042</td>\n      <td>89651.498335</td>\n      <td>31.968599</td>\n      <td>-99.901813</td>\n    </tr>\n  </tbody>\n</table>\n</div>"
     },
     "execution_count": 220,
     "metadata": {},
     "output_type": "execute_result"
    }
   ],
   "source": [
    "map_df"
   ],
   "metadata": {
    "collapsed": false,
    "pycharm": {
     "name": "#%%\n"
    }
   }
  },
  {
   "cell_type": "code",
   "execution_count": 221,
   "outputs": [
    {
     "data": {
      "application/vnd.plotly.v1+json": {
       "data": [
        {
         "colorbar": {
          "title": {
           "text": "Salary Estimate"
          }
         },
         "colorscale": [
          [
           0.0,
           "rgb(255,245,240)"
          ],
          [
           0.125,
           "rgb(254,224,210)"
          ],
          [
           0.25,
           "rgb(252,187,161)"
          ],
          [
           0.375,
           "rgb(252,146,114)"
          ],
          [
           0.5,
           "rgb(251,106,74)"
          ],
          [
           0.625,
           "rgb(239,59,44)"
          ],
          [
           0.75,
           "rgb(203,24,29)"
          ],
          [
           0.875,
           "rgb(165,15,21)"
          ],
          [
           1.0,
           "rgb(103,0,13)"
          ]
         ],
         "locationmode": "USA-states",
         "locations": [
          "AZ",
          "CA",
          "DE",
          "FL",
          "IL",
          "NJ",
          "NY",
          "PA",
          "TX"
         ],
         "z": [
          99141.10429447853,
          127345.28301886792,
          101041.66666666667,
          62279.661016949154,
          101884.61538461539,
          97043.47826086957,
          100012.5,
          97465.18987341772,
          89651.49833518313
         ],
         "type": "choropleth"
        }
       ],
       "layout": {
        "template": {
         "data": {
          "histogram2dcontour": [
           {
            "type": "histogram2dcontour",
            "colorbar": {
             "outlinewidth": 0,
             "ticks": ""
            },
            "colorscale": [
             [
              0.0,
              "#0d0887"
             ],
             [
              0.1111111111111111,
              "#46039f"
             ],
             [
              0.2222222222222222,
              "#7201a8"
             ],
             [
              0.3333333333333333,
              "#9c179e"
             ],
             [
              0.4444444444444444,
              "#bd3786"
             ],
             [
              0.5555555555555556,
              "#d8576b"
             ],
             [
              0.6666666666666666,
              "#ed7953"
             ],
             [
              0.7777777777777778,
              "#fb9f3a"
             ],
             [
              0.8888888888888888,
              "#fdca26"
             ],
             [
              1.0,
              "#f0f921"
             ]
            ]
           }
          ],
          "choropleth": [
           {
            "type": "choropleth",
            "colorbar": {
             "outlinewidth": 0,
             "ticks": ""
            }
           }
          ],
          "histogram2d": [
           {
            "type": "histogram2d",
            "colorbar": {
             "outlinewidth": 0,
             "ticks": ""
            },
            "colorscale": [
             [
              0.0,
              "#0d0887"
             ],
             [
              0.1111111111111111,
              "#46039f"
             ],
             [
              0.2222222222222222,
              "#7201a8"
             ],
             [
              0.3333333333333333,
              "#9c179e"
             ],
             [
              0.4444444444444444,
              "#bd3786"
             ],
             [
              0.5555555555555556,
              "#d8576b"
             ],
             [
              0.6666666666666666,
              "#ed7953"
             ],
             [
              0.7777777777777778,
              "#fb9f3a"
             ],
             [
              0.8888888888888888,
              "#fdca26"
             ],
             [
              1.0,
              "#f0f921"
             ]
            ]
           }
          ],
          "heatmap": [
           {
            "type": "heatmap",
            "colorbar": {
             "outlinewidth": 0,
             "ticks": ""
            },
            "colorscale": [
             [
              0.0,
              "#0d0887"
             ],
             [
              0.1111111111111111,
              "#46039f"
             ],
             [
              0.2222222222222222,
              "#7201a8"
             ],
             [
              0.3333333333333333,
              "#9c179e"
             ],
             [
              0.4444444444444444,
              "#bd3786"
             ],
             [
              0.5555555555555556,
              "#d8576b"
             ],
             [
              0.6666666666666666,
              "#ed7953"
             ],
             [
              0.7777777777777778,
              "#fb9f3a"
             ],
             [
              0.8888888888888888,
              "#fdca26"
             ],
             [
              1.0,
              "#f0f921"
             ]
            ]
           }
          ],
          "heatmapgl": [
           {
            "type": "heatmapgl",
            "colorbar": {
             "outlinewidth": 0,
             "ticks": ""
            },
            "colorscale": [
             [
              0.0,
              "#0d0887"
             ],
             [
              0.1111111111111111,
              "#46039f"
             ],
             [
              0.2222222222222222,
              "#7201a8"
             ],
             [
              0.3333333333333333,
              "#9c179e"
             ],
             [
              0.4444444444444444,
              "#bd3786"
             ],
             [
              0.5555555555555556,
              "#d8576b"
             ],
             [
              0.6666666666666666,
              "#ed7953"
             ],
             [
              0.7777777777777778,
              "#fb9f3a"
             ],
             [
              0.8888888888888888,
              "#fdca26"
             ],
             [
              1.0,
              "#f0f921"
             ]
            ]
           }
          ],
          "contourcarpet": [
           {
            "type": "contourcarpet",
            "colorbar": {
             "outlinewidth": 0,
             "ticks": ""
            }
           }
          ],
          "contour": [
           {
            "type": "contour",
            "colorbar": {
             "outlinewidth": 0,
             "ticks": ""
            },
            "colorscale": [
             [
              0.0,
              "#0d0887"
             ],
             [
              0.1111111111111111,
              "#46039f"
             ],
             [
              0.2222222222222222,
              "#7201a8"
             ],
             [
              0.3333333333333333,
              "#9c179e"
             ],
             [
              0.4444444444444444,
              "#bd3786"
             ],
             [
              0.5555555555555556,
              "#d8576b"
             ],
             [
              0.6666666666666666,
              "#ed7953"
             ],
             [
              0.7777777777777778,
              "#fb9f3a"
             ],
             [
              0.8888888888888888,
              "#fdca26"
             ],
             [
              1.0,
              "#f0f921"
             ]
            ]
           }
          ],
          "surface": [
           {
            "type": "surface",
            "colorbar": {
             "outlinewidth": 0,
             "ticks": ""
            },
            "colorscale": [
             [
              0.0,
              "#0d0887"
             ],
             [
              0.1111111111111111,
              "#46039f"
             ],
             [
              0.2222222222222222,
              "#7201a8"
             ],
             [
              0.3333333333333333,
              "#9c179e"
             ],
             [
              0.4444444444444444,
              "#bd3786"
             ],
             [
              0.5555555555555556,
              "#d8576b"
             ],
             [
              0.6666666666666666,
              "#ed7953"
             ],
             [
              0.7777777777777778,
              "#fb9f3a"
             ],
             [
              0.8888888888888888,
              "#fdca26"
             ],
             [
              1.0,
              "#f0f921"
             ]
            ]
           }
          ],
          "mesh3d": [
           {
            "type": "mesh3d",
            "colorbar": {
             "outlinewidth": 0,
             "ticks": ""
            }
           }
          ],
          "scatter": [
           {
            "marker": {
             "line": {
              "color": "#283442"
             }
            },
            "type": "scatter"
           }
          ],
          "parcoords": [
           {
            "type": "parcoords",
            "line": {
             "colorbar": {
              "outlinewidth": 0,
              "ticks": ""
             }
            }
           }
          ],
          "scatterpolargl": [
           {
            "type": "scatterpolargl",
            "marker": {
             "colorbar": {
              "outlinewidth": 0,
              "ticks": ""
             }
            }
           }
          ],
          "bar": [
           {
            "error_x": {
             "color": "#f2f5fa"
            },
            "error_y": {
             "color": "#f2f5fa"
            },
            "marker": {
             "line": {
              "color": "rgb(17,17,17)",
              "width": 0.5
             },
             "pattern": {
              "fillmode": "overlay",
              "size": 10,
              "solidity": 0.2
             }
            },
            "type": "bar"
           }
          ],
          "scattergeo": [
           {
            "type": "scattergeo",
            "marker": {
             "colorbar": {
              "outlinewidth": 0,
              "ticks": ""
             }
            }
           }
          ],
          "scatterpolar": [
           {
            "type": "scatterpolar",
            "marker": {
             "colorbar": {
              "outlinewidth": 0,
              "ticks": ""
             }
            }
           }
          ],
          "histogram": [
           {
            "marker": {
             "pattern": {
              "fillmode": "overlay",
              "size": 10,
              "solidity": 0.2
             }
            },
            "type": "histogram"
           }
          ],
          "scattergl": [
           {
            "marker": {
             "line": {
              "color": "#283442"
             }
            },
            "type": "scattergl"
           }
          ],
          "scatter3d": [
           {
            "type": "scatter3d",
            "line": {
             "colorbar": {
              "outlinewidth": 0,
              "ticks": ""
             }
            },
            "marker": {
             "colorbar": {
              "outlinewidth": 0,
              "ticks": ""
             }
            }
           }
          ],
          "scattermapbox": [
           {
            "type": "scattermapbox",
            "marker": {
             "colorbar": {
              "outlinewidth": 0,
              "ticks": ""
             }
            }
           }
          ],
          "scatterternary": [
           {
            "type": "scatterternary",
            "marker": {
             "colorbar": {
              "outlinewidth": 0,
              "ticks": ""
             }
            }
           }
          ],
          "scattercarpet": [
           {
            "type": "scattercarpet",
            "marker": {
             "colorbar": {
              "outlinewidth": 0,
              "ticks": ""
             }
            }
           }
          ],
          "carpet": [
           {
            "aaxis": {
             "endlinecolor": "#A2B1C6",
             "gridcolor": "#506784",
             "linecolor": "#506784",
             "minorgridcolor": "#506784",
             "startlinecolor": "#A2B1C6"
            },
            "baxis": {
             "endlinecolor": "#A2B1C6",
             "gridcolor": "#506784",
             "linecolor": "#506784",
             "minorgridcolor": "#506784",
             "startlinecolor": "#A2B1C6"
            },
            "type": "carpet"
           }
          ],
          "table": [
           {
            "cells": {
             "fill": {
              "color": "#506784"
             },
             "line": {
              "color": "rgb(17,17,17)"
             }
            },
            "header": {
             "fill": {
              "color": "#2a3f5f"
             },
             "line": {
              "color": "rgb(17,17,17)"
             }
            },
            "type": "table"
           }
          ],
          "barpolar": [
           {
            "marker": {
             "line": {
              "color": "rgb(17,17,17)",
              "width": 0.5
             },
             "pattern": {
              "fillmode": "overlay",
              "size": 10,
              "solidity": 0.2
             }
            },
            "type": "barpolar"
           }
          ],
          "pie": [
           {
            "automargin": true,
            "type": "pie"
           }
          ]
         },
         "layout": {
          "autotypenumbers": "strict",
          "colorway": [
           "#636efa",
           "#EF553B",
           "#00cc96",
           "#ab63fa",
           "#FFA15A",
           "#19d3f3",
           "#FF6692",
           "#B6E880",
           "#FF97FF",
           "#FECB52"
          ],
          "font": {
           "color": "#f2f5fa"
          },
          "hovermode": "closest",
          "hoverlabel": {
           "align": "left"
          },
          "paper_bgcolor": "rgb(17,17,17)",
          "plot_bgcolor": "rgb(17,17,17)",
          "polar": {
           "bgcolor": "rgb(17,17,17)",
           "angularaxis": {
            "gridcolor": "#506784",
            "linecolor": "#506784",
            "ticks": ""
           },
           "radialaxis": {
            "gridcolor": "#506784",
            "linecolor": "#506784",
            "ticks": ""
           }
          },
          "ternary": {
           "bgcolor": "rgb(17,17,17)",
           "aaxis": {
            "gridcolor": "#506784",
            "linecolor": "#506784",
            "ticks": ""
           },
           "baxis": {
            "gridcolor": "#506784",
            "linecolor": "#506784",
            "ticks": ""
           },
           "caxis": {
            "gridcolor": "#506784",
            "linecolor": "#506784",
            "ticks": ""
           }
          },
          "coloraxis": {
           "colorbar": {
            "outlinewidth": 0,
            "ticks": ""
           }
          },
          "colorscale": {
           "sequential": [
            [
             0.0,
             "#0d0887"
            ],
            [
             0.1111111111111111,
             "#46039f"
            ],
            [
             0.2222222222222222,
             "#7201a8"
            ],
            [
             0.3333333333333333,
             "#9c179e"
            ],
            [
             0.4444444444444444,
             "#bd3786"
            ],
            [
             0.5555555555555556,
             "#d8576b"
            ],
            [
             0.6666666666666666,
             "#ed7953"
            ],
            [
             0.7777777777777778,
             "#fb9f3a"
            ],
            [
             0.8888888888888888,
             "#fdca26"
            ],
            [
             1.0,
             "#f0f921"
            ]
           ],
           "sequentialminus": [
            [
             0.0,
             "#0d0887"
            ],
            [
             0.1111111111111111,
             "#46039f"
            ],
            [
             0.2222222222222222,
             "#7201a8"
            ],
            [
             0.3333333333333333,
             "#9c179e"
            ],
            [
             0.4444444444444444,
             "#bd3786"
            ],
            [
             0.5555555555555556,
             "#d8576b"
            ],
            [
             0.6666666666666666,
             "#ed7953"
            ],
            [
             0.7777777777777778,
             "#fb9f3a"
            ],
            [
             0.8888888888888888,
             "#fdca26"
            ],
            [
             1.0,
             "#f0f921"
            ]
           ],
           "diverging": [
            [
             0,
             "#8e0152"
            ],
            [
             0.1,
             "#c51b7d"
            ],
            [
             0.2,
             "#de77ae"
            ],
            [
             0.3,
             "#f1b6da"
            ],
            [
             0.4,
             "#fde0ef"
            ],
            [
             0.5,
             "#f7f7f7"
            ],
            [
             0.6,
             "#e6f5d0"
            ],
            [
             0.7,
             "#b8e186"
            ],
            [
             0.8,
             "#7fbc41"
            ],
            [
             0.9,
             "#4d9221"
            ],
            [
             1,
             "#276419"
            ]
           ]
          },
          "xaxis": {
           "gridcolor": "#283442",
           "linecolor": "#506784",
           "ticks": "",
           "title": {
            "standoff": 15
           },
           "zerolinecolor": "#283442",
           "automargin": true,
           "zerolinewidth": 2
          },
          "yaxis": {
           "gridcolor": "#283442",
           "linecolor": "#506784",
           "ticks": "",
           "title": {
            "standoff": 15
           },
           "zerolinecolor": "#283442",
           "automargin": true,
           "zerolinewidth": 2
          },
          "scene": {
           "xaxis": {
            "backgroundcolor": "rgb(17,17,17)",
            "gridcolor": "#506784",
            "linecolor": "#506784",
            "showbackground": true,
            "ticks": "",
            "zerolinecolor": "#C8D4E3",
            "gridwidth": 2
           },
           "yaxis": {
            "backgroundcolor": "rgb(17,17,17)",
            "gridcolor": "#506784",
            "linecolor": "#506784",
            "showbackground": true,
            "ticks": "",
            "zerolinecolor": "#C8D4E3",
            "gridwidth": 2
           },
           "zaxis": {
            "backgroundcolor": "rgb(17,17,17)",
            "gridcolor": "#506784",
            "linecolor": "#506784",
            "showbackground": true,
            "ticks": "",
            "zerolinecolor": "#C8D4E3",
            "gridwidth": 2
           }
          },
          "shapedefaults": {
           "line": {
            "color": "#f2f5fa"
           }
          },
          "annotationdefaults": {
           "arrowcolor": "#f2f5fa",
           "arrowhead": 0,
           "arrowwidth": 1
          },
          "geo": {
           "bgcolor": "rgb(17,17,17)",
           "landcolor": "rgb(17,17,17)",
           "subunitcolor": "#506784",
           "showland": true,
           "showlakes": true,
           "lakecolor": "rgb(17,17,17)"
          },
          "title": {
           "x": 0.05
          },
          "updatemenudefaults": {
           "bgcolor": "#506784",
           "borderwidth": 0
          },
          "sliderdefaults": {
           "bgcolor": "#C8D4E3",
           "borderwidth": 1,
           "bordercolor": "rgb(17,17,17)",
           "tickwidth": 0
          },
          "mapbox": {
           "style": "dark"
          }
         }
        },
        "title": {
         "text": "Salary estimate mean by State"
        },
        "geo": {
         "scope": "usa"
        }
       },
       "config": {
        "plotlyServerURL": "https://plot.ly"
       }
      },
      "text/html": "<div>                            <div id=\"2430260b-503a-45be-888d-f2ae56bd47d0\" class=\"plotly-graph-div\" style=\"height:525px; width:100%;\"></div>            <script type=\"text/javascript\">                require([\"plotly\"], function(Plotly) {                    window.PLOTLYENV=window.PLOTLYENV || {};                                    if (document.getElementById(\"2430260b-503a-45be-888d-f2ae56bd47d0\")) {                    Plotly.newPlot(                        \"2430260b-503a-45be-888d-f2ae56bd47d0\",                        [{\"colorbar\":{\"title\":{\"text\":\"Salary Estimate\"}},\"colorscale\":[[0.0,\"rgb(255,245,240)\"],[0.125,\"rgb(254,224,210)\"],[0.25,\"rgb(252,187,161)\"],[0.375,\"rgb(252,146,114)\"],[0.5,\"rgb(251,106,74)\"],[0.625,\"rgb(239,59,44)\"],[0.75,\"rgb(203,24,29)\"],[0.875,\"rgb(165,15,21)\"],[1.0,\"rgb(103,0,13)\"]],\"locationmode\":\"USA-states\",\"locations\":[\"AZ\",\"CA\",\"DE\",\"FL\",\"IL\",\"NJ\",\"NY\",\"PA\",\"TX\"],\"z\":[99141.10429447853,127345.28301886792,101041.66666666667,62279.661016949154,101884.61538461539,97043.47826086957,100012.5,97465.18987341772,89651.49833518313],\"type\":\"choropleth\"}],                        {\"template\":{\"data\":{\"histogram2dcontour\":[{\"type\":\"histogram2dcontour\",\"colorbar\":{\"outlinewidth\":0,\"ticks\":\"\"},\"colorscale\":[[0.0,\"#0d0887\"],[0.1111111111111111,\"#46039f\"],[0.2222222222222222,\"#7201a8\"],[0.3333333333333333,\"#9c179e\"],[0.4444444444444444,\"#bd3786\"],[0.5555555555555556,\"#d8576b\"],[0.6666666666666666,\"#ed7953\"],[0.7777777777777778,\"#fb9f3a\"],[0.8888888888888888,\"#fdca26\"],[1.0,\"#f0f921\"]]}],\"choropleth\":[{\"type\":\"choropleth\",\"colorbar\":{\"outlinewidth\":0,\"ticks\":\"\"}}],\"histogram2d\":[{\"type\":\"histogram2d\",\"colorbar\":{\"outlinewidth\":0,\"ticks\":\"\"},\"colorscale\":[[0.0,\"#0d0887\"],[0.1111111111111111,\"#46039f\"],[0.2222222222222222,\"#7201a8\"],[0.3333333333333333,\"#9c179e\"],[0.4444444444444444,\"#bd3786\"],[0.5555555555555556,\"#d8576b\"],[0.6666666666666666,\"#ed7953\"],[0.7777777777777778,\"#fb9f3a\"],[0.8888888888888888,\"#fdca26\"],[1.0,\"#f0f921\"]]}],\"heatmap\":[{\"type\":\"heatmap\",\"colorbar\":{\"outlinewidth\":0,\"ticks\":\"\"},\"colorscale\":[[0.0,\"#0d0887\"],[0.1111111111111111,\"#46039f\"],[0.2222222222222222,\"#7201a8\"],[0.3333333333333333,\"#9c179e\"],[0.4444444444444444,\"#bd3786\"],[0.5555555555555556,\"#d8576b\"],[0.6666666666666666,\"#ed7953\"],[0.7777777777777778,\"#fb9f3a\"],[0.8888888888888888,\"#fdca26\"],[1.0,\"#f0f921\"]]}],\"heatmapgl\":[{\"type\":\"heatmapgl\",\"colorbar\":{\"outlinewidth\":0,\"ticks\":\"\"},\"colorscale\":[[0.0,\"#0d0887\"],[0.1111111111111111,\"#46039f\"],[0.2222222222222222,\"#7201a8\"],[0.3333333333333333,\"#9c179e\"],[0.4444444444444444,\"#bd3786\"],[0.5555555555555556,\"#d8576b\"],[0.6666666666666666,\"#ed7953\"],[0.7777777777777778,\"#fb9f3a\"],[0.8888888888888888,\"#fdca26\"],[1.0,\"#f0f921\"]]}],\"contourcarpet\":[{\"type\":\"contourcarpet\",\"colorbar\":{\"outlinewidth\":0,\"ticks\":\"\"}}],\"contour\":[{\"type\":\"contour\",\"colorbar\":{\"outlinewidth\":0,\"ticks\":\"\"},\"colorscale\":[[0.0,\"#0d0887\"],[0.1111111111111111,\"#46039f\"],[0.2222222222222222,\"#7201a8\"],[0.3333333333333333,\"#9c179e\"],[0.4444444444444444,\"#bd3786\"],[0.5555555555555556,\"#d8576b\"],[0.6666666666666666,\"#ed7953\"],[0.7777777777777778,\"#fb9f3a\"],[0.8888888888888888,\"#fdca26\"],[1.0,\"#f0f921\"]]}],\"surface\":[{\"type\":\"surface\",\"colorbar\":{\"outlinewidth\":0,\"ticks\":\"\"},\"colorscale\":[[0.0,\"#0d0887\"],[0.1111111111111111,\"#46039f\"],[0.2222222222222222,\"#7201a8\"],[0.3333333333333333,\"#9c179e\"],[0.4444444444444444,\"#bd3786\"],[0.5555555555555556,\"#d8576b\"],[0.6666666666666666,\"#ed7953\"],[0.7777777777777778,\"#fb9f3a\"],[0.8888888888888888,\"#fdca26\"],[1.0,\"#f0f921\"]]}],\"mesh3d\":[{\"type\":\"mesh3d\",\"colorbar\":{\"outlinewidth\":0,\"ticks\":\"\"}}],\"scatter\":[{\"marker\":{\"line\":{\"color\":\"#283442\"}},\"type\":\"scatter\"}],\"parcoords\":[{\"type\":\"parcoords\",\"line\":{\"colorbar\":{\"outlinewidth\":0,\"ticks\":\"\"}}}],\"scatterpolargl\":[{\"type\":\"scatterpolargl\",\"marker\":{\"colorbar\":{\"outlinewidth\":0,\"ticks\":\"\"}}}],\"bar\":[{\"error_x\":{\"color\":\"#f2f5fa\"},\"error_y\":{\"color\":\"#f2f5fa\"},\"marker\":{\"line\":{\"color\":\"rgb(17,17,17)\",\"width\":0.5},\"pattern\":{\"fillmode\":\"overlay\",\"size\":10,\"solidity\":0.2}},\"type\":\"bar\"}],\"scattergeo\":[{\"type\":\"scattergeo\",\"marker\":{\"colorbar\":{\"outlinewidth\":0,\"ticks\":\"\"}}}],\"scatterpolar\":[{\"type\":\"scatterpolar\",\"marker\":{\"colorbar\":{\"outlinewidth\":0,\"ticks\":\"\"}}}],\"histogram\":[{\"marker\":{\"pattern\":{\"fillmode\":\"overlay\",\"size\":10,\"solidity\":0.2}},\"type\":\"histogram\"}],\"scattergl\":[{\"marker\":{\"line\":{\"color\":\"#283442\"}},\"type\":\"scattergl\"}],\"scatter3d\":[{\"type\":\"scatter3d\",\"line\":{\"colorbar\":{\"outlinewidth\":0,\"ticks\":\"\"}},\"marker\":{\"colorbar\":{\"outlinewidth\":0,\"ticks\":\"\"}}}],\"scattermapbox\":[{\"type\":\"scattermapbox\",\"marker\":{\"colorbar\":{\"outlinewidth\":0,\"ticks\":\"\"}}}],\"scatterternary\":[{\"type\":\"scatterternary\",\"marker\":{\"colorbar\":{\"outlinewidth\":0,\"ticks\":\"\"}}}],\"scattercarpet\":[{\"type\":\"scattercarpet\",\"marker\":{\"colorbar\":{\"outlinewidth\":0,\"ticks\":\"\"}}}],\"carpet\":[{\"aaxis\":{\"endlinecolor\":\"#A2B1C6\",\"gridcolor\":\"#506784\",\"linecolor\":\"#506784\",\"minorgridcolor\":\"#506784\",\"startlinecolor\":\"#A2B1C6\"},\"baxis\":{\"endlinecolor\":\"#A2B1C6\",\"gridcolor\":\"#506784\",\"linecolor\":\"#506784\",\"minorgridcolor\":\"#506784\",\"startlinecolor\":\"#A2B1C6\"},\"type\":\"carpet\"}],\"table\":[{\"cells\":{\"fill\":{\"color\":\"#506784\"},\"line\":{\"color\":\"rgb(17,17,17)\"}},\"header\":{\"fill\":{\"color\":\"#2a3f5f\"},\"line\":{\"color\":\"rgb(17,17,17)\"}},\"type\":\"table\"}],\"barpolar\":[{\"marker\":{\"line\":{\"color\":\"rgb(17,17,17)\",\"width\":0.5},\"pattern\":{\"fillmode\":\"overlay\",\"size\":10,\"solidity\":0.2}},\"type\":\"barpolar\"}],\"pie\":[{\"automargin\":true,\"type\":\"pie\"}]},\"layout\":{\"autotypenumbers\":\"strict\",\"colorway\":[\"#636efa\",\"#EF553B\",\"#00cc96\",\"#ab63fa\",\"#FFA15A\",\"#19d3f3\",\"#FF6692\",\"#B6E880\",\"#FF97FF\",\"#FECB52\"],\"font\":{\"color\":\"#f2f5fa\"},\"hovermode\":\"closest\",\"hoverlabel\":{\"align\":\"left\"},\"paper_bgcolor\":\"rgb(17,17,17)\",\"plot_bgcolor\":\"rgb(17,17,17)\",\"polar\":{\"bgcolor\":\"rgb(17,17,17)\",\"angularaxis\":{\"gridcolor\":\"#506784\",\"linecolor\":\"#506784\",\"ticks\":\"\"},\"radialaxis\":{\"gridcolor\":\"#506784\",\"linecolor\":\"#506784\",\"ticks\":\"\"}},\"ternary\":{\"bgcolor\":\"rgb(17,17,17)\",\"aaxis\":{\"gridcolor\":\"#506784\",\"linecolor\":\"#506784\",\"ticks\":\"\"},\"baxis\":{\"gridcolor\":\"#506784\",\"linecolor\":\"#506784\",\"ticks\":\"\"},\"caxis\":{\"gridcolor\":\"#506784\",\"linecolor\":\"#506784\",\"ticks\":\"\"}},\"coloraxis\":{\"colorbar\":{\"outlinewidth\":0,\"ticks\":\"\"}},\"colorscale\":{\"sequential\":[[0.0,\"#0d0887\"],[0.1111111111111111,\"#46039f\"],[0.2222222222222222,\"#7201a8\"],[0.3333333333333333,\"#9c179e\"],[0.4444444444444444,\"#bd3786\"],[0.5555555555555556,\"#d8576b\"],[0.6666666666666666,\"#ed7953\"],[0.7777777777777778,\"#fb9f3a\"],[0.8888888888888888,\"#fdca26\"],[1.0,\"#f0f921\"]],\"sequentialminus\":[[0.0,\"#0d0887\"],[0.1111111111111111,\"#46039f\"],[0.2222222222222222,\"#7201a8\"],[0.3333333333333333,\"#9c179e\"],[0.4444444444444444,\"#bd3786\"],[0.5555555555555556,\"#d8576b\"],[0.6666666666666666,\"#ed7953\"],[0.7777777777777778,\"#fb9f3a\"],[0.8888888888888888,\"#fdca26\"],[1.0,\"#f0f921\"]],\"diverging\":[[0,\"#8e0152\"],[0.1,\"#c51b7d\"],[0.2,\"#de77ae\"],[0.3,\"#f1b6da\"],[0.4,\"#fde0ef\"],[0.5,\"#f7f7f7\"],[0.6,\"#e6f5d0\"],[0.7,\"#b8e186\"],[0.8,\"#7fbc41\"],[0.9,\"#4d9221\"],[1,\"#276419\"]]},\"xaxis\":{\"gridcolor\":\"#283442\",\"linecolor\":\"#506784\",\"ticks\":\"\",\"title\":{\"standoff\":15},\"zerolinecolor\":\"#283442\",\"automargin\":true,\"zerolinewidth\":2},\"yaxis\":{\"gridcolor\":\"#283442\",\"linecolor\":\"#506784\",\"ticks\":\"\",\"title\":{\"standoff\":15},\"zerolinecolor\":\"#283442\",\"automargin\":true,\"zerolinewidth\":2},\"scene\":{\"xaxis\":{\"backgroundcolor\":\"rgb(17,17,17)\",\"gridcolor\":\"#506784\",\"linecolor\":\"#506784\",\"showbackground\":true,\"ticks\":\"\",\"zerolinecolor\":\"#C8D4E3\",\"gridwidth\":2},\"yaxis\":{\"backgroundcolor\":\"rgb(17,17,17)\",\"gridcolor\":\"#506784\",\"linecolor\":\"#506784\",\"showbackground\":true,\"ticks\":\"\",\"zerolinecolor\":\"#C8D4E3\",\"gridwidth\":2},\"zaxis\":{\"backgroundcolor\":\"rgb(17,17,17)\",\"gridcolor\":\"#506784\",\"linecolor\":\"#506784\",\"showbackground\":true,\"ticks\":\"\",\"zerolinecolor\":\"#C8D4E3\",\"gridwidth\":2}},\"shapedefaults\":{\"line\":{\"color\":\"#f2f5fa\"}},\"annotationdefaults\":{\"arrowcolor\":\"#f2f5fa\",\"arrowhead\":0,\"arrowwidth\":1},\"geo\":{\"bgcolor\":\"rgb(17,17,17)\",\"landcolor\":\"rgb(17,17,17)\",\"subunitcolor\":\"#506784\",\"showland\":true,\"showlakes\":true,\"lakecolor\":\"rgb(17,17,17)\"},\"title\":{\"x\":0.05},\"updatemenudefaults\":{\"bgcolor\":\"#506784\",\"borderwidth\":0},\"sliderdefaults\":{\"bgcolor\":\"#C8D4E3\",\"borderwidth\":1,\"bordercolor\":\"rgb(17,17,17)\",\"tickwidth\":0},\"mapbox\":{\"style\":\"dark\"}}},\"title\":{\"text\":\"Salary estimate mean by State\"},\"geo\":{\"scope\":\"usa\"}},                        {\"responsive\": true}                    ).then(function(){\n                            \nvar gd = document.getElementById('2430260b-503a-45be-888d-f2ae56bd47d0');\nvar x = new MutationObserver(function (mutations, observer) {{\n        var display = window.getComputedStyle(gd).display;\n        if (!display || display === 'none') {{\n            console.log([gd, 'removed!']);\n            Plotly.purge(gd);\n            observer.disconnect();\n        }}\n}});\n\n// Listen for the removal of the full notebook cells\nvar notebookContainer = gd.closest('#notebook-container');\nif (notebookContainer) {{\n    x.observe(notebookContainer, {childList: true});\n}}\n\n// Listen for the clearing of the current output cell\nvar outputEl = gd.closest('.output');\nif (outputEl) {{\n    x.observe(outputEl, {childList: true});\n}}\n\n                        })                };                });            </script>        </div>"
     },
     "metadata": {},
     "output_type": "display_data"
    }
   ],
   "source": [
    "import plotly.graph_objects as go\n",
    "\n",
    "fig = go.Figure(data=go.Choropleth(\n",
    "    locations=(map_df['State']), # Spatial coordinates\n",
    "    z = map_df['Salary Estimate mean'].astype(float), # Data to be color-coded\n",
    "    locationmode = 'USA-states', # set of locations match entries in `locations`\n",
    "    colorscale = 'Reds',\n",
    "\n",
    "    colorbar_title = \"Salary Estimate\",\n",
    "))\n",
    "\n",
    "fig.update_layout(\n",
    "    title_text = 'Salary estimate mean by State',\n",
    "    geo_scope='usa', # limite map scope to USA\n",
    ")\n",
    "\n",
    "fig.show()"
   ],
   "metadata": {
    "collapsed": false,
    "pycharm": {
     "name": "#%%\n"
    }
   }
  },
  {
   "cell_type": "code",
   "execution_count": 226,
   "outputs": [],
   "source": [
    "State = df.groupby(['State']).size().reset_index(name = 'Count').sort_values('Count', ascending=False)"
   ],
   "metadata": {
    "collapsed": false,
    "pycharm": {
     "name": "#%%\n"
    }
   }
  },
  {
   "cell_type": "code",
   "execution_count": 227,
   "outputs": [
    {
     "data": {
      "text/plain": "  State  Count\n8    TX    901\n1    CA    530\n4    IL    182\n0    AZ    163\n6    NY    160\n7    PA    158\n3    FL    118\n5    NJ     23\n2    DE     12",
      "text/html": "<div>\n<style scoped>\n    .dataframe tbody tr th:only-of-type {\n        vertical-align: middle;\n    }\n\n    .dataframe tbody tr th {\n        vertical-align: top;\n    }\n\n    .dataframe thead th {\n        text-align: right;\n    }\n</style>\n<table border=\"1\" class=\"dataframe\">\n  <thead>\n    <tr style=\"text-align: right;\">\n      <th></th>\n      <th>State</th>\n      <th>Count</th>\n    </tr>\n  </thead>\n  <tbody>\n    <tr>\n      <th>8</th>\n      <td>TX</td>\n      <td>901</td>\n    </tr>\n    <tr>\n      <th>1</th>\n      <td>CA</td>\n      <td>530</td>\n    </tr>\n    <tr>\n      <th>4</th>\n      <td>IL</td>\n      <td>182</td>\n    </tr>\n    <tr>\n      <th>0</th>\n      <td>AZ</td>\n      <td>163</td>\n    </tr>\n    <tr>\n      <th>6</th>\n      <td>NY</td>\n      <td>160</td>\n    </tr>\n    <tr>\n      <th>7</th>\n      <td>PA</td>\n      <td>158</td>\n    </tr>\n    <tr>\n      <th>3</th>\n      <td>FL</td>\n      <td>118</td>\n    </tr>\n    <tr>\n      <th>5</th>\n      <td>NJ</td>\n      <td>23</td>\n    </tr>\n    <tr>\n      <th>2</th>\n      <td>DE</td>\n      <td>12</td>\n    </tr>\n  </tbody>\n</table>\n</div>"
     },
     "execution_count": 227,
     "metadata": {},
     "output_type": "execute_result"
    }
   ],
   "source": [
    "State"
   ],
   "metadata": {
    "collapsed": false,
    "pycharm": {
     "name": "#%%\n"
    }
   }
  },
  {
   "cell_type": "code",
   "execution_count": 228,
   "outputs": [
    {
     "data": {
      "application/vnd.plotly.v1+json": {
       "data": [
        {
         "colorbar": {
          "title": {
           "text": "Salary Estimate"
          }
         },
         "colorscale": [
          [
           0.0,
           "rgb(255,245,240)"
          ],
          [
           0.125,
           "rgb(254,224,210)"
          ],
          [
           0.25,
           "rgb(252,187,161)"
          ],
          [
           0.375,
           "rgb(252,146,114)"
          ],
          [
           0.5,
           "rgb(251,106,74)"
          ],
          [
           0.625,
           "rgb(239,59,44)"
          ],
          [
           0.75,
           "rgb(203,24,29)"
          ],
          [
           0.875,
           "rgb(165,15,21)"
          ],
          [
           1.0,
           "rgb(103,0,13)"
          ]
         ],
         "locationmode": "USA-states",
         "locations": [
          "TX",
          "CA",
          "IL",
          "AZ",
          "NY",
          "PA",
          "FL",
          "NJ",
          "DE"
         ],
         "z": [
          901.0,
          530.0,
          182.0,
          163.0,
          160.0,
          158.0,
          118.0,
          23.0,
          12.0
         ],
         "type": "choropleth"
        }
       ],
       "layout": {
        "template": {
         "data": {
          "histogram2dcontour": [
           {
            "type": "histogram2dcontour",
            "colorbar": {
             "outlinewidth": 0,
             "ticks": ""
            },
            "colorscale": [
             [
              0.0,
              "#0d0887"
             ],
             [
              0.1111111111111111,
              "#46039f"
             ],
             [
              0.2222222222222222,
              "#7201a8"
             ],
             [
              0.3333333333333333,
              "#9c179e"
             ],
             [
              0.4444444444444444,
              "#bd3786"
             ],
             [
              0.5555555555555556,
              "#d8576b"
             ],
             [
              0.6666666666666666,
              "#ed7953"
             ],
             [
              0.7777777777777778,
              "#fb9f3a"
             ],
             [
              0.8888888888888888,
              "#fdca26"
             ],
             [
              1.0,
              "#f0f921"
             ]
            ]
           }
          ],
          "choropleth": [
           {
            "type": "choropleth",
            "colorbar": {
             "outlinewidth": 0,
             "ticks": ""
            }
           }
          ],
          "histogram2d": [
           {
            "type": "histogram2d",
            "colorbar": {
             "outlinewidth": 0,
             "ticks": ""
            },
            "colorscale": [
             [
              0.0,
              "#0d0887"
             ],
             [
              0.1111111111111111,
              "#46039f"
             ],
             [
              0.2222222222222222,
              "#7201a8"
             ],
             [
              0.3333333333333333,
              "#9c179e"
             ],
             [
              0.4444444444444444,
              "#bd3786"
             ],
             [
              0.5555555555555556,
              "#d8576b"
             ],
             [
              0.6666666666666666,
              "#ed7953"
             ],
             [
              0.7777777777777778,
              "#fb9f3a"
             ],
             [
              0.8888888888888888,
              "#fdca26"
             ],
             [
              1.0,
              "#f0f921"
             ]
            ]
           }
          ],
          "heatmap": [
           {
            "type": "heatmap",
            "colorbar": {
             "outlinewidth": 0,
             "ticks": ""
            },
            "colorscale": [
             [
              0.0,
              "#0d0887"
             ],
             [
              0.1111111111111111,
              "#46039f"
             ],
             [
              0.2222222222222222,
              "#7201a8"
             ],
             [
              0.3333333333333333,
              "#9c179e"
             ],
             [
              0.4444444444444444,
              "#bd3786"
             ],
             [
              0.5555555555555556,
              "#d8576b"
             ],
             [
              0.6666666666666666,
              "#ed7953"
             ],
             [
              0.7777777777777778,
              "#fb9f3a"
             ],
             [
              0.8888888888888888,
              "#fdca26"
             ],
             [
              1.0,
              "#f0f921"
             ]
            ]
           }
          ],
          "heatmapgl": [
           {
            "type": "heatmapgl",
            "colorbar": {
             "outlinewidth": 0,
             "ticks": ""
            },
            "colorscale": [
             [
              0.0,
              "#0d0887"
             ],
             [
              0.1111111111111111,
              "#46039f"
             ],
             [
              0.2222222222222222,
              "#7201a8"
             ],
             [
              0.3333333333333333,
              "#9c179e"
             ],
             [
              0.4444444444444444,
              "#bd3786"
             ],
             [
              0.5555555555555556,
              "#d8576b"
             ],
             [
              0.6666666666666666,
              "#ed7953"
             ],
             [
              0.7777777777777778,
              "#fb9f3a"
             ],
             [
              0.8888888888888888,
              "#fdca26"
             ],
             [
              1.0,
              "#f0f921"
             ]
            ]
           }
          ],
          "contourcarpet": [
           {
            "type": "contourcarpet",
            "colorbar": {
             "outlinewidth": 0,
             "ticks": ""
            }
           }
          ],
          "contour": [
           {
            "type": "contour",
            "colorbar": {
             "outlinewidth": 0,
             "ticks": ""
            },
            "colorscale": [
             [
              0.0,
              "#0d0887"
             ],
             [
              0.1111111111111111,
              "#46039f"
             ],
             [
              0.2222222222222222,
              "#7201a8"
             ],
             [
              0.3333333333333333,
              "#9c179e"
             ],
             [
              0.4444444444444444,
              "#bd3786"
             ],
             [
              0.5555555555555556,
              "#d8576b"
             ],
             [
              0.6666666666666666,
              "#ed7953"
             ],
             [
              0.7777777777777778,
              "#fb9f3a"
             ],
             [
              0.8888888888888888,
              "#fdca26"
             ],
             [
              1.0,
              "#f0f921"
             ]
            ]
           }
          ],
          "surface": [
           {
            "type": "surface",
            "colorbar": {
             "outlinewidth": 0,
             "ticks": ""
            },
            "colorscale": [
             [
              0.0,
              "#0d0887"
             ],
             [
              0.1111111111111111,
              "#46039f"
             ],
             [
              0.2222222222222222,
              "#7201a8"
             ],
             [
              0.3333333333333333,
              "#9c179e"
             ],
             [
              0.4444444444444444,
              "#bd3786"
             ],
             [
              0.5555555555555556,
              "#d8576b"
             ],
             [
              0.6666666666666666,
              "#ed7953"
             ],
             [
              0.7777777777777778,
              "#fb9f3a"
             ],
             [
              0.8888888888888888,
              "#fdca26"
             ],
             [
              1.0,
              "#f0f921"
             ]
            ]
           }
          ],
          "mesh3d": [
           {
            "type": "mesh3d",
            "colorbar": {
             "outlinewidth": 0,
             "ticks": ""
            }
           }
          ],
          "scatter": [
           {
            "marker": {
             "line": {
              "color": "#283442"
             }
            },
            "type": "scatter"
           }
          ],
          "parcoords": [
           {
            "type": "parcoords",
            "line": {
             "colorbar": {
              "outlinewidth": 0,
              "ticks": ""
             }
            }
           }
          ],
          "scatterpolargl": [
           {
            "type": "scatterpolargl",
            "marker": {
             "colorbar": {
              "outlinewidth": 0,
              "ticks": ""
             }
            }
           }
          ],
          "bar": [
           {
            "error_x": {
             "color": "#f2f5fa"
            },
            "error_y": {
             "color": "#f2f5fa"
            },
            "marker": {
             "line": {
              "color": "rgb(17,17,17)",
              "width": 0.5
             },
             "pattern": {
              "fillmode": "overlay",
              "size": 10,
              "solidity": 0.2
             }
            },
            "type": "bar"
           }
          ],
          "scattergeo": [
           {
            "type": "scattergeo",
            "marker": {
             "colorbar": {
              "outlinewidth": 0,
              "ticks": ""
             }
            }
           }
          ],
          "scatterpolar": [
           {
            "type": "scatterpolar",
            "marker": {
             "colorbar": {
              "outlinewidth": 0,
              "ticks": ""
             }
            }
           }
          ],
          "histogram": [
           {
            "marker": {
             "pattern": {
              "fillmode": "overlay",
              "size": 10,
              "solidity": 0.2
             }
            },
            "type": "histogram"
           }
          ],
          "scattergl": [
           {
            "marker": {
             "line": {
              "color": "#283442"
             }
            },
            "type": "scattergl"
           }
          ],
          "scatter3d": [
           {
            "type": "scatter3d",
            "line": {
             "colorbar": {
              "outlinewidth": 0,
              "ticks": ""
             }
            },
            "marker": {
             "colorbar": {
              "outlinewidth": 0,
              "ticks": ""
             }
            }
           }
          ],
          "scattermapbox": [
           {
            "type": "scattermapbox",
            "marker": {
             "colorbar": {
              "outlinewidth": 0,
              "ticks": ""
             }
            }
           }
          ],
          "scatterternary": [
           {
            "type": "scatterternary",
            "marker": {
             "colorbar": {
              "outlinewidth": 0,
              "ticks": ""
             }
            }
           }
          ],
          "scattercarpet": [
           {
            "type": "scattercarpet",
            "marker": {
             "colorbar": {
              "outlinewidth": 0,
              "ticks": ""
             }
            }
           }
          ],
          "carpet": [
           {
            "aaxis": {
             "endlinecolor": "#A2B1C6",
             "gridcolor": "#506784",
             "linecolor": "#506784",
             "minorgridcolor": "#506784",
             "startlinecolor": "#A2B1C6"
            },
            "baxis": {
             "endlinecolor": "#A2B1C6",
             "gridcolor": "#506784",
             "linecolor": "#506784",
             "minorgridcolor": "#506784",
             "startlinecolor": "#A2B1C6"
            },
            "type": "carpet"
           }
          ],
          "table": [
           {
            "cells": {
             "fill": {
              "color": "#506784"
             },
             "line": {
              "color": "rgb(17,17,17)"
             }
            },
            "header": {
             "fill": {
              "color": "#2a3f5f"
             },
             "line": {
              "color": "rgb(17,17,17)"
             }
            },
            "type": "table"
           }
          ],
          "barpolar": [
           {
            "marker": {
             "line": {
              "color": "rgb(17,17,17)",
              "width": 0.5
             },
             "pattern": {
              "fillmode": "overlay",
              "size": 10,
              "solidity": 0.2
             }
            },
            "type": "barpolar"
           }
          ],
          "pie": [
           {
            "automargin": true,
            "type": "pie"
           }
          ]
         },
         "layout": {
          "autotypenumbers": "strict",
          "colorway": [
           "#636efa",
           "#EF553B",
           "#00cc96",
           "#ab63fa",
           "#FFA15A",
           "#19d3f3",
           "#FF6692",
           "#B6E880",
           "#FF97FF",
           "#FECB52"
          ],
          "font": {
           "color": "#f2f5fa"
          },
          "hovermode": "closest",
          "hoverlabel": {
           "align": "left"
          },
          "paper_bgcolor": "rgb(17,17,17)",
          "plot_bgcolor": "rgb(17,17,17)",
          "polar": {
           "bgcolor": "rgb(17,17,17)",
           "angularaxis": {
            "gridcolor": "#506784",
            "linecolor": "#506784",
            "ticks": ""
           },
           "radialaxis": {
            "gridcolor": "#506784",
            "linecolor": "#506784",
            "ticks": ""
           }
          },
          "ternary": {
           "bgcolor": "rgb(17,17,17)",
           "aaxis": {
            "gridcolor": "#506784",
            "linecolor": "#506784",
            "ticks": ""
           },
           "baxis": {
            "gridcolor": "#506784",
            "linecolor": "#506784",
            "ticks": ""
           },
           "caxis": {
            "gridcolor": "#506784",
            "linecolor": "#506784",
            "ticks": ""
           }
          },
          "coloraxis": {
           "colorbar": {
            "outlinewidth": 0,
            "ticks": ""
           }
          },
          "colorscale": {
           "sequential": [
            [
             0.0,
             "#0d0887"
            ],
            [
             0.1111111111111111,
             "#46039f"
            ],
            [
             0.2222222222222222,
             "#7201a8"
            ],
            [
             0.3333333333333333,
             "#9c179e"
            ],
            [
             0.4444444444444444,
             "#bd3786"
            ],
            [
             0.5555555555555556,
             "#d8576b"
            ],
            [
             0.6666666666666666,
             "#ed7953"
            ],
            [
             0.7777777777777778,
             "#fb9f3a"
            ],
            [
             0.8888888888888888,
             "#fdca26"
            ],
            [
             1.0,
             "#f0f921"
            ]
           ],
           "sequentialminus": [
            [
             0.0,
             "#0d0887"
            ],
            [
             0.1111111111111111,
             "#46039f"
            ],
            [
             0.2222222222222222,
             "#7201a8"
            ],
            [
             0.3333333333333333,
             "#9c179e"
            ],
            [
             0.4444444444444444,
             "#bd3786"
            ],
            [
             0.5555555555555556,
             "#d8576b"
            ],
            [
             0.6666666666666666,
             "#ed7953"
            ],
            [
             0.7777777777777778,
             "#fb9f3a"
            ],
            [
             0.8888888888888888,
             "#fdca26"
            ],
            [
             1.0,
             "#f0f921"
            ]
           ],
           "diverging": [
            [
             0,
             "#8e0152"
            ],
            [
             0.1,
             "#c51b7d"
            ],
            [
             0.2,
             "#de77ae"
            ],
            [
             0.3,
             "#f1b6da"
            ],
            [
             0.4,
             "#fde0ef"
            ],
            [
             0.5,
             "#f7f7f7"
            ],
            [
             0.6,
             "#e6f5d0"
            ],
            [
             0.7,
             "#b8e186"
            ],
            [
             0.8,
             "#7fbc41"
            ],
            [
             0.9,
             "#4d9221"
            ],
            [
             1,
             "#276419"
            ]
           ]
          },
          "xaxis": {
           "gridcolor": "#283442",
           "linecolor": "#506784",
           "ticks": "",
           "title": {
            "standoff": 15
           },
           "zerolinecolor": "#283442",
           "automargin": true,
           "zerolinewidth": 2
          },
          "yaxis": {
           "gridcolor": "#283442",
           "linecolor": "#506784",
           "ticks": "",
           "title": {
            "standoff": 15
           },
           "zerolinecolor": "#283442",
           "automargin": true,
           "zerolinewidth": 2
          },
          "scene": {
           "xaxis": {
            "backgroundcolor": "rgb(17,17,17)",
            "gridcolor": "#506784",
            "linecolor": "#506784",
            "showbackground": true,
            "ticks": "",
            "zerolinecolor": "#C8D4E3",
            "gridwidth": 2
           },
           "yaxis": {
            "backgroundcolor": "rgb(17,17,17)",
            "gridcolor": "#506784",
            "linecolor": "#506784",
            "showbackground": true,
            "ticks": "",
            "zerolinecolor": "#C8D4E3",
            "gridwidth": 2
           },
           "zaxis": {
            "backgroundcolor": "rgb(17,17,17)",
            "gridcolor": "#506784",
            "linecolor": "#506784",
            "showbackground": true,
            "ticks": "",
            "zerolinecolor": "#C8D4E3",
            "gridwidth": 2
           }
          },
          "shapedefaults": {
           "line": {
            "color": "#f2f5fa"
           }
          },
          "annotationdefaults": {
           "arrowcolor": "#f2f5fa",
           "arrowhead": 0,
           "arrowwidth": 1
          },
          "geo": {
           "bgcolor": "rgb(17,17,17)",
           "landcolor": "rgb(17,17,17)",
           "subunitcolor": "#506784",
           "showland": true,
           "showlakes": true,
           "lakecolor": "rgb(17,17,17)"
          },
          "title": {
           "x": 0.05
          },
          "updatemenudefaults": {
           "bgcolor": "#506784",
           "borderwidth": 0
          },
          "sliderdefaults": {
           "bgcolor": "#C8D4E3",
           "borderwidth": 1,
           "bordercolor": "rgb(17,17,17)",
           "tickwidth": 0
          },
          "mapbox": {
           "style": "dark"
          }
         }
        },
        "title": {
         "text": "Salary estimate mean by State"
        },
        "geo": {
         "scope": "usa"
        }
       },
       "config": {
        "plotlyServerURL": "https://plot.ly"
       }
      },
      "text/html": "<div>                            <div id=\"ea642efc-d55c-45a9-b4fe-21ac8794eecc\" class=\"plotly-graph-div\" style=\"height:525px; width:100%;\"></div>            <script type=\"text/javascript\">                require([\"plotly\"], function(Plotly) {                    window.PLOTLYENV=window.PLOTLYENV || {};                                    if (document.getElementById(\"ea642efc-d55c-45a9-b4fe-21ac8794eecc\")) {                    Plotly.newPlot(                        \"ea642efc-d55c-45a9-b4fe-21ac8794eecc\",                        [{\"colorbar\":{\"title\":{\"text\":\"Salary Estimate\"}},\"colorscale\":[[0.0,\"rgb(255,245,240)\"],[0.125,\"rgb(254,224,210)\"],[0.25,\"rgb(252,187,161)\"],[0.375,\"rgb(252,146,114)\"],[0.5,\"rgb(251,106,74)\"],[0.625,\"rgb(239,59,44)\"],[0.75,\"rgb(203,24,29)\"],[0.875,\"rgb(165,15,21)\"],[1.0,\"rgb(103,0,13)\"]],\"locationmode\":\"USA-states\",\"locations\":[\"TX\",\"CA\",\"IL\",\"AZ\",\"NY\",\"PA\",\"FL\",\"NJ\",\"DE\"],\"z\":[901.0,530.0,182.0,163.0,160.0,158.0,118.0,23.0,12.0],\"type\":\"choropleth\"}],                        {\"template\":{\"data\":{\"histogram2dcontour\":[{\"type\":\"histogram2dcontour\",\"colorbar\":{\"outlinewidth\":0,\"ticks\":\"\"},\"colorscale\":[[0.0,\"#0d0887\"],[0.1111111111111111,\"#46039f\"],[0.2222222222222222,\"#7201a8\"],[0.3333333333333333,\"#9c179e\"],[0.4444444444444444,\"#bd3786\"],[0.5555555555555556,\"#d8576b\"],[0.6666666666666666,\"#ed7953\"],[0.7777777777777778,\"#fb9f3a\"],[0.8888888888888888,\"#fdca26\"],[1.0,\"#f0f921\"]]}],\"choropleth\":[{\"type\":\"choropleth\",\"colorbar\":{\"outlinewidth\":0,\"ticks\":\"\"}}],\"histogram2d\":[{\"type\":\"histogram2d\",\"colorbar\":{\"outlinewidth\":0,\"ticks\":\"\"},\"colorscale\":[[0.0,\"#0d0887\"],[0.1111111111111111,\"#46039f\"],[0.2222222222222222,\"#7201a8\"],[0.3333333333333333,\"#9c179e\"],[0.4444444444444444,\"#bd3786\"],[0.5555555555555556,\"#d8576b\"],[0.6666666666666666,\"#ed7953\"],[0.7777777777777778,\"#fb9f3a\"],[0.8888888888888888,\"#fdca26\"],[1.0,\"#f0f921\"]]}],\"heatmap\":[{\"type\":\"heatmap\",\"colorbar\":{\"outlinewidth\":0,\"ticks\":\"\"},\"colorscale\":[[0.0,\"#0d0887\"],[0.1111111111111111,\"#46039f\"],[0.2222222222222222,\"#7201a8\"],[0.3333333333333333,\"#9c179e\"],[0.4444444444444444,\"#bd3786\"],[0.5555555555555556,\"#d8576b\"],[0.6666666666666666,\"#ed7953\"],[0.7777777777777778,\"#fb9f3a\"],[0.8888888888888888,\"#fdca26\"],[1.0,\"#f0f921\"]]}],\"heatmapgl\":[{\"type\":\"heatmapgl\",\"colorbar\":{\"outlinewidth\":0,\"ticks\":\"\"},\"colorscale\":[[0.0,\"#0d0887\"],[0.1111111111111111,\"#46039f\"],[0.2222222222222222,\"#7201a8\"],[0.3333333333333333,\"#9c179e\"],[0.4444444444444444,\"#bd3786\"],[0.5555555555555556,\"#d8576b\"],[0.6666666666666666,\"#ed7953\"],[0.7777777777777778,\"#fb9f3a\"],[0.8888888888888888,\"#fdca26\"],[1.0,\"#f0f921\"]]}],\"contourcarpet\":[{\"type\":\"contourcarpet\",\"colorbar\":{\"outlinewidth\":0,\"ticks\":\"\"}}],\"contour\":[{\"type\":\"contour\",\"colorbar\":{\"outlinewidth\":0,\"ticks\":\"\"},\"colorscale\":[[0.0,\"#0d0887\"],[0.1111111111111111,\"#46039f\"],[0.2222222222222222,\"#7201a8\"],[0.3333333333333333,\"#9c179e\"],[0.4444444444444444,\"#bd3786\"],[0.5555555555555556,\"#d8576b\"],[0.6666666666666666,\"#ed7953\"],[0.7777777777777778,\"#fb9f3a\"],[0.8888888888888888,\"#fdca26\"],[1.0,\"#f0f921\"]]}],\"surface\":[{\"type\":\"surface\",\"colorbar\":{\"outlinewidth\":0,\"ticks\":\"\"},\"colorscale\":[[0.0,\"#0d0887\"],[0.1111111111111111,\"#46039f\"],[0.2222222222222222,\"#7201a8\"],[0.3333333333333333,\"#9c179e\"],[0.4444444444444444,\"#bd3786\"],[0.5555555555555556,\"#d8576b\"],[0.6666666666666666,\"#ed7953\"],[0.7777777777777778,\"#fb9f3a\"],[0.8888888888888888,\"#fdca26\"],[1.0,\"#f0f921\"]]}],\"mesh3d\":[{\"type\":\"mesh3d\",\"colorbar\":{\"outlinewidth\":0,\"ticks\":\"\"}}],\"scatter\":[{\"marker\":{\"line\":{\"color\":\"#283442\"}},\"type\":\"scatter\"}],\"parcoords\":[{\"type\":\"parcoords\",\"line\":{\"colorbar\":{\"outlinewidth\":0,\"ticks\":\"\"}}}],\"scatterpolargl\":[{\"type\":\"scatterpolargl\",\"marker\":{\"colorbar\":{\"outlinewidth\":0,\"ticks\":\"\"}}}],\"bar\":[{\"error_x\":{\"color\":\"#f2f5fa\"},\"error_y\":{\"color\":\"#f2f5fa\"},\"marker\":{\"line\":{\"color\":\"rgb(17,17,17)\",\"width\":0.5},\"pattern\":{\"fillmode\":\"overlay\",\"size\":10,\"solidity\":0.2}},\"type\":\"bar\"}],\"scattergeo\":[{\"type\":\"scattergeo\",\"marker\":{\"colorbar\":{\"outlinewidth\":0,\"ticks\":\"\"}}}],\"scatterpolar\":[{\"type\":\"scatterpolar\",\"marker\":{\"colorbar\":{\"outlinewidth\":0,\"ticks\":\"\"}}}],\"histogram\":[{\"marker\":{\"pattern\":{\"fillmode\":\"overlay\",\"size\":10,\"solidity\":0.2}},\"type\":\"histogram\"}],\"scattergl\":[{\"marker\":{\"line\":{\"color\":\"#283442\"}},\"type\":\"scattergl\"}],\"scatter3d\":[{\"type\":\"scatter3d\",\"line\":{\"colorbar\":{\"outlinewidth\":0,\"ticks\":\"\"}},\"marker\":{\"colorbar\":{\"outlinewidth\":0,\"ticks\":\"\"}}}],\"scattermapbox\":[{\"type\":\"scattermapbox\",\"marker\":{\"colorbar\":{\"outlinewidth\":0,\"ticks\":\"\"}}}],\"scatterternary\":[{\"type\":\"scatterternary\",\"marker\":{\"colorbar\":{\"outlinewidth\":0,\"ticks\":\"\"}}}],\"scattercarpet\":[{\"type\":\"scattercarpet\",\"marker\":{\"colorbar\":{\"outlinewidth\":0,\"ticks\":\"\"}}}],\"carpet\":[{\"aaxis\":{\"endlinecolor\":\"#A2B1C6\",\"gridcolor\":\"#506784\",\"linecolor\":\"#506784\",\"minorgridcolor\":\"#506784\",\"startlinecolor\":\"#A2B1C6\"},\"baxis\":{\"endlinecolor\":\"#A2B1C6\",\"gridcolor\":\"#506784\",\"linecolor\":\"#506784\",\"minorgridcolor\":\"#506784\",\"startlinecolor\":\"#A2B1C6\"},\"type\":\"carpet\"}],\"table\":[{\"cells\":{\"fill\":{\"color\":\"#506784\"},\"line\":{\"color\":\"rgb(17,17,17)\"}},\"header\":{\"fill\":{\"color\":\"#2a3f5f\"},\"line\":{\"color\":\"rgb(17,17,17)\"}},\"type\":\"table\"}],\"barpolar\":[{\"marker\":{\"line\":{\"color\":\"rgb(17,17,17)\",\"width\":0.5},\"pattern\":{\"fillmode\":\"overlay\",\"size\":10,\"solidity\":0.2}},\"type\":\"barpolar\"}],\"pie\":[{\"automargin\":true,\"type\":\"pie\"}]},\"layout\":{\"autotypenumbers\":\"strict\",\"colorway\":[\"#636efa\",\"#EF553B\",\"#00cc96\",\"#ab63fa\",\"#FFA15A\",\"#19d3f3\",\"#FF6692\",\"#B6E880\",\"#FF97FF\",\"#FECB52\"],\"font\":{\"color\":\"#f2f5fa\"},\"hovermode\":\"closest\",\"hoverlabel\":{\"align\":\"left\"},\"paper_bgcolor\":\"rgb(17,17,17)\",\"plot_bgcolor\":\"rgb(17,17,17)\",\"polar\":{\"bgcolor\":\"rgb(17,17,17)\",\"angularaxis\":{\"gridcolor\":\"#506784\",\"linecolor\":\"#506784\",\"ticks\":\"\"},\"radialaxis\":{\"gridcolor\":\"#506784\",\"linecolor\":\"#506784\",\"ticks\":\"\"}},\"ternary\":{\"bgcolor\":\"rgb(17,17,17)\",\"aaxis\":{\"gridcolor\":\"#506784\",\"linecolor\":\"#506784\",\"ticks\":\"\"},\"baxis\":{\"gridcolor\":\"#506784\",\"linecolor\":\"#506784\",\"ticks\":\"\"},\"caxis\":{\"gridcolor\":\"#506784\",\"linecolor\":\"#506784\",\"ticks\":\"\"}},\"coloraxis\":{\"colorbar\":{\"outlinewidth\":0,\"ticks\":\"\"}},\"colorscale\":{\"sequential\":[[0.0,\"#0d0887\"],[0.1111111111111111,\"#46039f\"],[0.2222222222222222,\"#7201a8\"],[0.3333333333333333,\"#9c179e\"],[0.4444444444444444,\"#bd3786\"],[0.5555555555555556,\"#d8576b\"],[0.6666666666666666,\"#ed7953\"],[0.7777777777777778,\"#fb9f3a\"],[0.8888888888888888,\"#fdca26\"],[1.0,\"#f0f921\"]],\"sequentialminus\":[[0.0,\"#0d0887\"],[0.1111111111111111,\"#46039f\"],[0.2222222222222222,\"#7201a8\"],[0.3333333333333333,\"#9c179e\"],[0.4444444444444444,\"#bd3786\"],[0.5555555555555556,\"#d8576b\"],[0.6666666666666666,\"#ed7953\"],[0.7777777777777778,\"#fb9f3a\"],[0.8888888888888888,\"#fdca26\"],[1.0,\"#f0f921\"]],\"diverging\":[[0,\"#8e0152\"],[0.1,\"#c51b7d\"],[0.2,\"#de77ae\"],[0.3,\"#f1b6da\"],[0.4,\"#fde0ef\"],[0.5,\"#f7f7f7\"],[0.6,\"#e6f5d0\"],[0.7,\"#b8e186\"],[0.8,\"#7fbc41\"],[0.9,\"#4d9221\"],[1,\"#276419\"]]},\"xaxis\":{\"gridcolor\":\"#283442\",\"linecolor\":\"#506784\",\"ticks\":\"\",\"title\":{\"standoff\":15},\"zerolinecolor\":\"#283442\",\"automargin\":true,\"zerolinewidth\":2},\"yaxis\":{\"gridcolor\":\"#283442\",\"linecolor\":\"#506784\",\"ticks\":\"\",\"title\":{\"standoff\":15},\"zerolinecolor\":\"#283442\",\"automargin\":true,\"zerolinewidth\":2},\"scene\":{\"xaxis\":{\"backgroundcolor\":\"rgb(17,17,17)\",\"gridcolor\":\"#506784\",\"linecolor\":\"#506784\",\"showbackground\":true,\"ticks\":\"\",\"zerolinecolor\":\"#C8D4E3\",\"gridwidth\":2},\"yaxis\":{\"backgroundcolor\":\"rgb(17,17,17)\",\"gridcolor\":\"#506784\",\"linecolor\":\"#506784\",\"showbackground\":true,\"ticks\":\"\",\"zerolinecolor\":\"#C8D4E3\",\"gridwidth\":2},\"zaxis\":{\"backgroundcolor\":\"rgb(17,17,17)\",\"gridcolor\":\"#506784\",\"linecolor\":\"#506784\",\"showbackground\":true,\"ticks\":\"\",\"zerolinecolor\":\"#C8D4E3\",\"gridwidth\":2}},\"shapedefaults\":{\"line\":{\"color\":\"#f2f5fa\"}},\"annotationdefaults\":{\"arrowcolor\":\"#f2f5fa\",\"arrowhead\":0,\"arrowwidth\":1},\"geo\":{\"bgcolor\":\"rgb(17,17,17)\",\"landcolor\":\"rgb(17,17,17)\",\"subunitcolor\":\"#506784\",\"showland\":true,\"showlakes\":true,\"lakecolor\":\"rgb(17,17,17)\"},\"title\":{\"x\":0.05},\"updatemenudefaults\":{\"bgcolor\":\"#506784\",\"borderwidth\":0},\"sliderdefaults\":{\"bgcolor\":\"#C8D4E3\",\"borderwidth\":1,\"bordercolor\":\"rgb(17,17,17)\",\"tickwidth\":0},\"mapbox\":{\"style\":\"dark\"}}},\"title\":{\"text\":\"Salary estimate mean by State\"},\"geo\":{\"scope\":\"usa\"}},                        {\"responsive\": true}                    ).then(function(){\n                            \nvar gd = document.getElementById('ea642efc-d55c-45a9-b4fe-21ac8794eecc');\nvar x = new MutationObserver(function (mutations, observer) {{\n        var display = window.getComputedStyle(gd).display;\n        if (!display || display === 'none') {{\n            console.log([gd, 'removed!']);\n            Plotly.purge(gd);\n            observer.disconnect();\n        }}\n}});\n\n// Listen for the removal of the full notebook cells\nvar notebookContainer = gd.closest('#notebook-container');\nif (notebookContainer) {{\n    x.observe(notebookContainer, {childList: true});\n}}\n\n// Listen for the clearing of the current output cell\nvar outputEl = gd.closest('.output');\nif (outputEl) {{\n    x.observe(outputEl, {childList: true});\n}}\n\n                        })                };                });            </script>        </div>"
     },
     "metadata": {},
     "output_type": "display_data"
    }
   ],
   "source": [
    "import plotly.graph_objects as go\n",
    "\n",
    "fig = go.Figure(data=go.Choropleth(\n",
    "    locations=(State['State']), # Spatial coordinates\n",
    "    z = State['Count'].astype(float), # Data to be color-coded\n",
    "    locationmode = 'USA-states', # set of locations match entries in `locations`\n",
    "    colorscale = 'Reds',\n",
    "\n",
    "    colorbar_title = \"Salary Estimate\",\n",
    "))\n",
    "\n",
    "fig.update_layout(\n",
    "    title_text = 'Salary estimate mean by State',\n",
    "    geo_scope='usa', # limite map scope to USA\n",
    ")\n",
    "\n",
    "fig.show()"
   ],
   "metadata": {
    "collapsed": false,
    "pycharm": {
     "name": "#%%\n"
    }
   }
  },
  {
   "cell_type": "code",
   "execution_count": null,
   "outputs": [],
   "source": [],
   "metadata": {
    "collapsed": false,
    "pycharm": {
     "name": "#%%\n"
    }
   }
  }
 ],
 "metadata": {
  "kernelspec": {
   "display_name": "Python 3.10.4 64-bit",
   "language": "python",
   "name": "python3"
  },
  "language_info": {
   "codemirror_mode": {
    "name": "ipython",
    "version": 3
   },
   "file_extension": ".py",
   "mimetype": "text/x-python",
   "name": "python",
   "nbconvert_exporter": "python",
   "pygments_lexer": "ipython3",
   "version": "3.10.4"
  },
  "orig_nbformat": 4,
  "vscode": {
   "interpreter": {
    "hash": "8c3d4d9970fc5c09c50d9318a9c7fbf4d0159e4b28833276f5678ee22bded273"
   }
  }
 },
 "nbformat": 4,
 "nbformat_minor": 2
}