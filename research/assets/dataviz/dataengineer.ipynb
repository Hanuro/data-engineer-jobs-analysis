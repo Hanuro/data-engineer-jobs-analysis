{
 "cells": [
  {
   "cell_type": "code",
   "execution_count": 2,
   "metadata": {},
   "outputs": [],
   "source": [
    "import pandas as pd\n",
    "import numpy as np\n",
    "import plotly_express as px\n",
    "import seaborn as sns\n",
    "import matplotlib.pyplot as plt"
   ]
  },
  {
   "cell_type": "code",
   "execution_count": 3,
   "metadata": {},
   "outputs": [
    {
     "data": {
      "text/html": [
       "<div>\n",
       "<style scoped>\n",
       "    .dataframe tbody tr th:only-of-type {\n",
       "        vertical-align: middle;\n",
       "    }\n",
       "\n",
       "    .dataframe tbody tr th {\n",
       "        vertical-align: top;\n",
       "    }\n",
       "\n",
       "    .dataframe thead th {\n",
       "        text-align: right;\n",
       "    }\n",
       "</style>\n",
       "<table border=\"1\" class=\"dataframe\">\n",
       "  <thead>\n",
       "    <tr style=\"text-align: right;\">\n",
       "      <th></th>\n",
       "      <th>Job Title</th>\n",
       "      <th>Salary Estimate</th>\n",
       "      <th>Job Description</th>\n",
       "      <th>Rating</th>\n",
       "      <th>Company Name</th>\n",
       "      <th>Location</th>\n",
       "      <th>Headquarters</th>\n",
       "      <th>Size</th>\n",
       "      <th>Founded</th>\n",
       "      <th>Type of ownership</th>\n",
       "      <th>Industry</th>\n",
       "      <th>Sector</th>\n",
       "      <th>Revenue</th>\n",
       "      <th>Competitors</th>\n",
       "      <th>Easy Apply</th>\n",
       "    </tr>\n",
       "  </thead>\n",
       "  <tbody>\n",
       "    <tr>\n",
       "      <th>0</th>\n",
       "      <td>Data Engineer</td>\n",
       "      <td>$80K-$150K (Glassdoor est.)</td>\n",
       "      <td>Company Description\\r\\nSagence is a management...</td>\n",
       "      <td>4.5</td>\n",
       "      <td>Sagence\\r\\n4.5</td>\n",
       "      <td>New York, NY</td>\n",
       "      <td>Chicago, IL</td>\n",
       "      <td>1 to 50 employees</td>\n",
       "      <td>2009</td>\n",
       "      <td>Company - Private</td>\n",
       "      <td>Consulting</td>\n",
       "      <td>Business Services</td>\n",
       "      <td>$10 to $25 million (USD)</td>\n",
       "      <td>WCI Consulting, PwC</td>\n",
       "      <td>-1</td>\n",
       "    </tr>\n",
       "    <tr>\n",
       "      <th>1</th>\n",
       "      <td>Senior Data Engineer (Healthcare Domain experi...</td>\n",
       "      <td>$80K-$150K (Glassdoor est.)</td>\n",
       "      <td>Key Responsibilities\\r\\n\\r\\n- Architect, build...</td>\n",
       "      <td>3.4</td>\n",
       "      <td>Enterprise Integration\\r\\n3.4</td>\n",
       "      <td>New York, NY</td>\n",
       "      <td>Jacksonville, FL</td>\n",
       "      <td>51 to 200 employees</td>\n",
       "      <td>1998</td>\n",
       "      <td>Company - Private</td>\n",
       "      <td>IT Services</td>\n",
       "      <td>Information Technology</td>\n",
       "      <td>$25 to $50 million (USD)</td>\n",
       "      <td>-1</td>\n",
       "      <td>-1</td>\n",
       "    </tr>\n",
       "    <tr>\n",
       "      <th>2</th>\n",
       "      <td>Data Engineers</td>\n",
       "      <td>$80K-$150K (Glassdoor est.)</td>\n",
       "      <td>Overview\\r\\n\\r\\nJob description\\r\\n\\r\\nPositio...</td>\n",
       "      <td>5.0</td>\n",
       "      <td>Maestro Technologies\\r\\n5.0</td>\n",
       "      <td>New York, NY</td>\n",
       "      <td>Trenton, NJ</td>\n",
       "      <td>51 to 200 employees</td>\n",
       "      <td>2003</td>\n",
       "      <td>Company - Private</td>\n",
       "      <td>IT Services</td>\n",
       "      <td>Information Technology</td>\n",
       "      <td>$5 to $10 million (USD)</td>\n",
       "      <td>-1</td>\n",
       "      <td>-1</td>\n",
       "    </tr>\n",
       "    <tr>\n",
       "      <th>3</th>\n",
       "      <td>Client Trade Support Engineer</td>\n",
       "      <td>$80K-$150K (Glassdoor est.)</td>\n",
       "      <td>About the Position\\r\\n\\r\\n\\r\\nThis position wi...</td>\n",
       "      <td>4.8</td>\n",
       "      <td>Jane Street\\r\\n4.8</td>\n",
       "      <td>New York, NY</td>\n",
       "      <td>New York, NY</td>\n",
       "      <td>501 to 1000 employees</td>\n",
       "      <td>2000</td>\n",
       "      <td>Company - Private</td>\n",
       "      <td>Investment Banking &amp; Asset Management</td>\n",
       "      <td>Finance</td>\n",
       "      <td>Unknown / Non-Applicable</td>\n",
       "      <td>-1</td>\n",
       "      <td>-1</td>\n",
       "    </tr>\n",
       "    <tr>\n",
       "      <th>4</th>\n",
       "      <td>Data Engineer</td>\n",
       "      <td>$80K-$150K (Glassdoor est.)</td>\n",
       "      <td>Data Engineer\\r\\n\\r\\nJob Details\\r\\nLevel\\r\\nE...</td>\n",
       "      <td>3.7</td>\n",
       "      <td>GNY Insurance Companies\\r\\n3.7</td>\n",
       "      <td>New York, NY</td>\n",
       "      <td>New York, NY</td>\n",
       "      <td>201 to 500 employees</td>\n",
       "      <td>1914</td>\n",
       "      <td>Company - Private</td>\n",
       "      <td>Insurance Carriers</td>\n",
       "      <td>Insurance</td>\n",
       "      <td>$100 to $500 million (USD)</td>\n",
       "      <td>Travelers, Chubb, Crum &amp; Forster</td>\n",
       "      <td>True</td>\n",
       "    </tr>\n",
       "  </tbody>\n",
       "</table>\n",
       "</div>"
      ],
      "text/plain": [
       "                                           Job Title  \\\n",
       "0                                      Data Engineer   \n",
       "1  Senior Data Engineer (Healthcare Domain experi...   \n",
       "2                                     Data Engineers   \n",
       "3                      Client Trade Support Engineer   \n",
       "4                                      Data Engineer   \n",
       "\n",
       "               Salary Estimate  \\\n",
       "0  $80K-$150K (Glassdoor est.)   \n",
       "1  $80K-$150K (Glassdoor est.)   \n",
       "2  $80K-$150K (Glassdoor est.)   \n",
       "3  $80K-$150K (Glassdoor est.)   \n",
       "4  $80K-$150K (Glassdoor est.)   \n",
       "\n",
       "                                     Job Description  Rating  \\\n",
       "0  Company Description\\r\\nSagence is a management...     4.5   \n",
       "1  Key Responsibilities\\r\\n\\r\\n- Architect, build...     3.4   \n",
       "2  Overview\\r\\n\\r\\nJob description\\r\\n\\r\\nPositio...     5.0   \n",
       "3  About the Position\\r\\n\\r\\n\\r\\nThis position wi...     4.8   \n",
       "4  Data Engineer\\r\\n\\r\\nJob Details\\r\\nLevel\\r\\nE...     3.7   \n",
       "\n",
       "                     Company Name      Location      Headquarters  \\\n",
       "0                  Sagence\\r\\n4.5  New York, NY       Chicago, IL   \n",
       "1   Enterprise Integration\\r\\n3.4  New York, NY  Jacksonville, FL   \n",
       "2     Maestro Technologies\\r\\n5.0  New York, NY       Trenton, NJ   \n",
       "3              Jane Street\\r\\n4.8  New York, NY      New York, NY   \n",
       "4  GNY Insurance Companies\\r\\n3.7  New York, NY      New York, NY   \n",
       "\n",
       "                    Size  Founded  Type of ownership  \\\n",
       "0      1 to 50 employees     2009  Company - Private   \n",
       "1    51 to 200 employees     1998  Company - Private   \n",
       "2    51 to 200 employees     2003  Company - Private   \n",
       "3  501 to 1000 employees     2000  Company - Private   \n",
       "4   201 to 500 employees     1914  Company - Private   \n",
       "\n",
       "                                Industry                  Sector  \\\n",
       "0                             Consulting       Business Services   \n",
       "1                            IT Services  Information Technology   \n",
       "2                            IT Services  Information Technology   \n",
       "3  Investment Banking & Asset Management                 Finance   \n",
       "4                     Insurance Carriers               Insurance   \n",
       "\n",
       "                      Revenue                       Competitors Easy Apply  \n",
       "0    $10 to $25 million (USD)               WCI Consulting, PwC         -1  \n",
       "1    $25 to $50 million (USD)                                -1         -1  \n",
       "2     $5 to $10 million (USD)                                -1         -1  \n",
       "3    Unknown / Non-Applicable                                -1         -1  \n",
       "4  $100 to $500 million (USD)  Travelers, Chubb, Crum & Forster       True  "
      ]
     },
     "execution_count": 3,
     "metadata": {},
     "output_type": "execute_result"
    }
   ],
   "source": [
    "df = pd.read_csv(\"DataEngineer.csv\")\n",
    "df.head()"
   ]
  },
  {
   "cell_type": "code",
   "execution_count": 4,
   "metadata": {},
   "outputs": [
    {
     "data": {
      "text/plain": [
       "(2528, 15)"
      ]
     },
     "execution_count": 4,
     "metadata": {},
     "output_type": "execute_result"
    }
   ],
   "source": [
    "df.shape"
   ]
  },
  {
   "cell_type": "code",
   "execution_count": 5,
   "metadata": {},
   "outputs": [
    {
     "data": {
      "text/plain": [
       "Index(['Job Title', 'Salary Estimate', 'Job Description', 'Rating',\n",
       "       'Company Name', 'Location', 'Headquarters', 'Size', 'Founded',\n",
       "       'Type of ownership', 'Industry', 'Sector', 'Revenue', 'Competitors',\n",
       "       'Easy Apply'],\n",
       "      dtype='object')"
      ]
     },
     "execution_count": 5,
     "metadata": {},
     "output_type": "execute_result"
    }
   ],
   "source": [
    "df.columns"
   ]
  },
  {
   "cell_type": "code",
   "execution_count": 6,
   "metadata": {},
   "outputs": [
    {
     "name": "stdout",
     "output_type": "stream",
     "text": [
      "Rating        3.379549\n",
      "Founded    1534.771756\n",
      "dtype: float64\n"
     ]
    },
    {
     "name": "stderr",
     "output_type": "stream",
     "text": [
      "C:\\Users\\Lenovo\\AppData\\Local\\Temp\\ipykernel_16412\\4224734047.py:1: FutureWarning: Dropping of nuisance columns in DataFrame reductions (with 'numeric_only=None') is deprecated; in a future version this will raise TypeError.  Select only valid columns before calling the reduction.\n",
      "  x = df.mean()\n"
     ]
    }
   ],
   "source": [
    "x = df.mean()\n",
    "print(x)"
   ]
  },
  {
   "cell_type": "code",
   "execution_count": 7,
   "metadata": {},
   "outputs": [],
   "source": [
    "df.replace('-1', np.nan, inplace=True)\n",
    "df.replace(-1, np.nan, inplace=True)\n"
   ]
  },
  {
   "cell_type": "code",
   "execution_count": 8,
   "metadata": {},
   "outputs": [
    {
     "data": {
      "text/plain": [
       "Job Title            0.000000\n",
       "Salary Estimate      0.000000\n",
       "Job Description      0.000000\n",
       "Rating               0.092563\n",
       "Company Name         0.000000\n",
       "Location             0.000000\n",
       "Headquarters         0.049051\n",
       "Size                 0.047073\n",
       "Founded              0.225870\n",
       "Type of ownership    0.047073\n",
       "Industry             0.149525\n",
       "Sector               0.148339\n",
       "Revenue              0.047073\n",
       "Competitors          0.691851\n",
       "Easy Apply           0.942247\n",
       "dtype: float64"
      ]
     },
     "execution_count": 8,
     "metadata": {},
     "output_type": "execute_result"
    }
   ],
   "source": [
    "df.isnull().mean()"
   ]
  },
  {
   "cell_type": "code",
   "execution_count": 9,
   "metadata": {},
   "outputs": [
    {
     "data": {
      "text/html": [
       "<div>\n",
       "<style scoped>\n",
       "    .dataframe tbody tr th:only-of-type {\n",
       "        vertical-align: middle;\n",
       "    }\n",
       "\n",
       "    .dataframe tbody tr th {\n",
       "        vertical-align: top;\n",
       "    }\n",
       "\n",
       "    .dataframe thead th {\n",
       "        text-align: right;\n",
       "    }\n",
       "</style>\n",
       "<table border=\"1\" class=\"dataframe\">\n",
       "  <thead>\n",
       "    <tr style=\"text-align: right;\">\n",
       "      <th></th>\n",
       "      <th>Job Title</th>\n",
       "      <th>Salary Estimate</th>\n",
       "      <th>Rating</th>\n",
       "      <th>Location</th>\n",
       "      <th>Headquarters</th>\n",
       "      <th>Size</th>\n",
       "      <th>Founded</th>\n",
       "      <th>Type of ownership</th>\n",
       "      <th>Industry</th>\n",
       "      <th>Sector</th>\n",
       "      <th>Revenue</th>\n",
       "    </tr>\n",
       "  </thead>\n",
       "  <tbody>\n",
       "    <tr>\n",
       "      <th>0</th>\n",
       "      <td>Data Engineer</td>\n",
       "      <td>$80K-$150K (Glassdoor est.)</td>\n",
       "      <td>4.5</td>\n",
       "      <td>New York, NY</td>\n",
       "      <td>Chicago, IL</td>\n",
       "      <td>1 to 50 employees</td>\n",
       "      <td>2009.0</td>\n",
       "      <td>Company - Private</td>\n",
       "      <td>Consulting</td>\n",
       "      <td>Business Services</td>\n",
       "      <td>$10 to $25 million (USD)</td>\n",
       "    </tr>\n",
       "    <tr>\n",
       "      <th>1</th>\n",
       "      <td>Senior Data Engineer (Healthcare Domain experi...</td>\n",
       "      <td>$80K-$150K (Glassdoor est.)</td>\n",
       "      <td>3.4</td>\n",
       "      <td>New York, NY</td>\n",
       "      <td>Jacksonville, FL</td>\n",
       "      <td>51 to 200 employees</td>\n",
       "      <td>1998.0</td>\n",
       "      <td>Company - Private</td>\n",
       "      <td>IT Services</td>\n",
       "      <td>Information Technology</td>\n",
       "      <td>$25 to $50 million (USD)</td>\n",
       "    </tr>\n",
       "    <tr>\n",
       "      <th>2</th>\n",
       "      <td>Data Engineers</td>\n",
       "      <td>$80K-$150K (Glassdoor est.)</td>\n",
       "      <td>5.0</td>\n",
       "      <td>New York, NY</td>\n",
       "      <td>Trenton, NJ</td>\n",
       "      <td>51 to 200 employees</td>\n",
       "      <td>2003.0</td>\n",
       "      <td>Company - Private</td>\n",
       "      <td>IT Services</td>\n",
       "      <td>Information Technology</td>\n",
       "      <td>$5 to $10 million (USD)</td>\n",
       "    </tr>\n",
       "    <tr>\n",
       "      <th>3</th>\n",
       "      <td>Client Trade Support Engineer</td>\n",
       "      <td>$80K-$150K (Glassdoor est.)</td>\n",
       "      <td>4.8</td>\n",
       "      <td>New York, NY</td>\n",
       "      <td>New York, NY</td>\n",
       "      <td>501 to 1000 employees</td>\n",
       "      <td>2000.0</td>\n",
       "      <td>Company - Private</td>\n",
       "      <td>Investment Banking &amp; Asset Management</td>\n",
       "      <td>Finance</td>\n",
       "      <td>Unknown / Non-Applicable</td>\n",
       "    </tr>\n",
       "    <tr>\n",
       "      <th>4</th>\n",
       "      <td>Data Engineer</td>\n",
       "      <td>$80K-$150K (Glassdoor est.)</td>\n",
       "      <td>3.7</td>\n",
       "      <td>New York, NY</td>\n",
       "      <td>New York, NY</td>\n",
       "      <td>201 to 500 employees</td>\n",
       "      <td>1914.0</td>\n",
       "      <td>Company - Private</td>\n",
       "      <td>Insurance Carriers</td>\n",
       "      <td>Insurance</td>\n",
       "      <td>$100 to $500 million (USD)</td>\n",
       "    </tr>\n",
       "    <tr>\n",
       "      <th>...</th>\n",
       "      <td>...</td>\n",
       "      <td>...</td>\n",
       "      <td>...</td>\n",
       "      <td>...</td>\n",
       "      <td>...</td>\n",
       "      <td>...</td>\n",
       "      <td>...</td>\n",
       "      <td>...</td>\n",
       "      <td>...</td>\n",
       "      <td>...</td>\n",
       "      <td>...</td>\n",
       "    </tr>\n",
       "    <tr>\n",
       "      <th>2523</th>\n",
       "      <td>Cloud Engineer</td>\n",
       "      <td>$76K-$128K (Glassdoor est.)</td>\n",
       "      <td>4.5</td>\n",
       "      <td>Westlake, TX</td>\n",
       "      <td>Herndon, VA</td>\n",
       "      <td>1 to 50 employees</td>\n",
       "      <td>NaN</td>\n",
       "      <td>Company - Private</td>\n",
       "      <td>Computer Hardware &amp; Software</td>\n",
       "      <td>Information Technology</td>\n",
       "      <td>$1 to $5 million (USD)</td>\n",
       "    </tr>\n",
       "    <tr>\n",
       "      <th>2524</th>\n",
       "      <td>Electrical Engineer</td>\n",
       "      <td>$76K-$128K (Glassdoor est.)</td>\n",
       "      <td>2.9</td>\n",
       "      <td>Fort Worth, TX</td>\n",
       "      <td>Santa Clara, CA</td>\n",
       "      <td>51 to 200 employees</td>\n",
       "      <td>1993.0</td>\n",
       "      <td>Company - Private</td>\n",
       "      <td>Staffing &amp; Outsourcing</td>\n",
       "      <td>Business Services</td>\n",
       "      <td>$5 to $10 million (USD)</td>\n",
       "    </tr>\n",
       "    <tr>\n",
       "      <th>2525</th>\n",
       "      <td>Sr. Big Data Engineer</td>\n",
       "      <td>$76K-$128K (Glassdoor est.)</td>\n",
       "      <td>3.7</td>\n",
       "      <td>Irving, TX</td>\n",
       "      <td>Cincinnati, OH</td>\n",
       "      <td>501 to 1000 employees</td>\n",
       "      <td>NaN</td>\n",
       "      <td>Company - Private</td>\n",
       "      <td>IT Services</td>\n",
       "      <td>Information Technology</td>\n",
       "      <td>$100 to $500 million (USD)</td>\n",
       "    </tr>\n",
       "    <tr>\n",
       "      <th>2526</th>\n",
       "      <td>Senior Big Data / ETL Engineer</td>\n",
       "      <td>$76K-$128K (Glassdoor est.)</td>\n",
       "      <td>3.5</td>\n",
       "      <td>Westlake, TX</td>\n",
       "      <td>Dettenheim, Germany</td>\n",
       "      <td>Unknown</td>\n",
       "      <td>NaN</td>\n",
       "      <td>Company - Public</td>\n",
       "      <td>NaN</td>\n",
       "      <td>NaN</td>\n",
       "      <td>Unknown / Non-Applicable</td>\n",
       "    </tr>\n",
       "    <tr>\n",
       "      <th>2527</th>\n",
       "      <td>Cloud Engineer</td>\n",
       "      <td>$76K-$128K (Glassdoor est.)</td>\n",
       "      <td>3.6</td>\n",
       "      <td>Westlake, TX</td>\n",
       "      <td>Raleigh, NC</td>\n",
       "      <td>501 to 1000 employees</td>\n",
       "      <td>2000.0</td>\n",
       "      <td>Company - Private</td>\n",
       "      <td>Staffing &amp; Outsourcing</td>\n",
       "      <td>Business Services</td>\n",
       "      <td>$25 to $50 million (USD)</td>\n",
       "    </tr>\n",
       "  </tbody>\n",
       "</table>\n",
       "<p>2528 rows × 11 columns</p>\n",
       "</div>"
      ],
      "text/plain": [
       "                                              Job Title  \\\n",
       "0                                         Data Engineer   \n",
       "1     Senior Data Engineer (Healthcare Domain experi...   \n",
       "2                                        Data Engineers   \n",
       "3                         Client Trade Support Engineer   \n",
       "4                                         Data Engineer   \n",
       "...                                                 ...   \n",
       "2523                                     Cloud Engineer   \n",
       "2524                                Electrical Engineer   \n",
       "2525                              Sr. Big Data Engineer   \n",
       "2526                     Senior Big Data / ETL Engineer   \n",
       "2527                                     Cloud Engineer   \n",
       "\n",
       "                  Salary Estimate  Rating        Location  \\\n",
       "0     $80K-$150K (Glassdoor est.)     4.5    New York, NY   \n",
       "1     $80K-$150K (Glassdoor est.)     3.4    New York, NY   \n",
       "2     $80K-$150K (Glassdoor est.)     5.0    New York, NY   \n",
       "3     $80K-$150K (Glassdoor est.)     4.8    New York, NY   \n",
       "4     $80K-$150K (Glassdoor est.)     3.7    New York, NY   \n",
       "...                           ...     ...             ...   \n",
       "2523  $76K-$128K (Glassdoor est.)     4.5    Westlake, TX   \n",
       "2524  $76K-$128K (Glassdoor est.)     2.9  Fort Worth, TX   \n",
       "2525  $76K-$128K (Glassdoor est.)     3.7      Irving, TX   \n",
       "2526  $76K-$128K (Glassdoor est.)     3.5    Westlake, TX   \n",
       "2527  $76K-$128K (Glassdoor est.)     3.6    Westlake, TX   \n",
       "\n",
       "             Headquarters                   Size  Founded  Type of ownership  \\\n",
       "0             Chicago, IL      1 to 50 employees   2009.0  Company - Private   \n",
       "1        Jacksonville, FL    51 to 200 employees   1998.0  Company - Private   \n",
       "2             Trenton, NJ    51 to 200 employees   2003.0  Company - Private   \n",
       "3            New York, NY  501 to 1000 employees   2000.0  Company - Private   \n",
       "4            New York, NY   201 to 500 employees   1914.0  Company - Private   \n",
       "...                   ...                    ...      ...                ...   \n",
       "2523          Herndon, VA      1 to 50 employees      NaN  Company - Private   \n",
       "2524      Santa Clara, CA    51 to 200 employees   1993.0  Company - Private   \n",
       "2525       Cincinnati, OH  501 to 1000 employees      NaN  Company - Private   \n",
       "2526  Dettenheim, Germany                Unknown      NaN   Company - Public   \n",
       "2527          Raleigh, NC  501 to 1000 employees   2000.0  Company - Private   \n",
       "\n",
       "                                   Industry                  Sector  \\\n",
       "0                                Consulting       Business Services   \n",
       "1                               IT Services  Information Technology   \n",
       "2                               IT Services  Information Technology   \n",
       "3     Investment Banking & Asset Management                 Finance   \n",
       "4                        Insurance Carriers               Insurance   \n",
       "...                                     ...                     ...   \n",
       "2523           Computer Hardware & Software  Information Technology   \n",
       "2524                 Staffing & Outsourcing       Business Services   \n",
       "2525                            IT Services  Information Technology   \n",
       "2526                                    NaN                     NaN   \n",
       "2527                 Staffing & Outsourcing       Business Services   \n",
       "\n",
       "                         Revenue  \n",
       "0       $10 to $25 million (USD)  \n",
       "1       $25 to $50 million (USD)  \n",
       "2        $5 to $10 million (USD)  \n",
       "3       Unknown / Non-Applicable  \n",
       "4     $100 to $500 million (USD)  \n",
       "...                          ...  \n",
       "2523      $1 to $5 million (USD)  \n",
       "2524     $5 to $10 million (USD)  \n",
       "2525  $100 to $500 million (USD)  \n",
       "2526    Unknown / Non-Applicable  \n",
       "2527    $25 to $50 million (USD)  \n",
       "\n",
       "[2528 rows x 11 columns]"
      ]
     },
     "execution_count": 9,
     "metadata": {},
     "output_type": "execute_result"
    }
   ],
   "source": [
    "df.drop(columns=['Job Description', 'Company Name', 'Competitors', 'Easy Apply', 'Competitors'])\n"
   ]
  },
  {
   "cell_type": "code",
   "execution_count": null,
   "metadata": {},
   "outputs": [],
   "source": [
    "df['Type of ownership'].replace(regex='Company -', value='', inplace=True)\n",
    "df.replace(regex='\\\\r', value='', inplace=True)\n",
    "df.replace(regex='\\\\n', value=' ', inplace=True)\n",
    "df"
   ]
  },
  {
   "cell_type": "code",
   "execution_count": 17,
   "metadata": {},
   "outputs": [
    {
     "data": {
      "application/vnd.plotly.v1+json": {
       "config": {
        "plotlyServerURL": "https://plot.ly"
       },
       "data": [
        {
         "alignmentgroup": "True",
         "hovertemplate": "Salary Estimate mean=%{x}<extra></extra>",
         "legendgroup": "",
         "marker": {
          "color": "#636efa"
         },
         "name": "",
         "notched": false,
         "offsetgroup": "",
         "orientation": "h",
         "showlegend": false,
         "type": "box",
         "x": [
          115000,
          115000,
          115000,
          115000,
          115000,
          115000,
          115000,
          115000,
          115000,
          115000,
          115000,
          115000,
          115000,
          115000,
          115000,
          115000,
          115000,
          115000,
          115000,
          115000,
          115000,
          115000,
          115000,
          115000,
          115000,
          115000,
          115000,
          115000,
          115000,
          115000,
          83500,
          83500,
          83500,
          83500,
          83500,
          83500,
          83500,
          83500,
          83500,
          83500,
          83500,
          83500,
          83500,
          83500,
          83500,
          83500,
          83500,
          83500,
          83500,
          83500,
          83500,
          83500,
          83500,
          83500,
          83500,
          83500,
          83500,
          83500,
          83500,
          83500,
          83500,
          83500,
          119500,
          119500,
          119500,
          119500,
          119500,
          119500,
          119500,
          119500,
          119500,
          119500,
          119500,
          119500,
          119500,
          119500,
          119500,
          119500,
          119500,
          119500,
          119500,
          119500,
          119500,
          119500,
          119500,
          119500,
          119500,
          119500,
          119500,
          119500,
          119500,
          119500,
          119500,
          119500,
          98500,
          98500,
          98500,
          98500,
          98500,
          98500,
          98500,
          98500,
          98500,
          98500,
          98500,
          98500,
          98500,
          98500,
          98500,
          98500,
          98500,
          98500,
          98500,
          98500,
          98500,
          98500,
          98500,
          98500,
          98500,
          98500,
          98500,
          98500,
          98500,
          98500,
          98500,
          98500,
          66000,
          66000,
          66000,
          66000,
          66000,
          66000,
          66000,
          66000,
          66000,
          66000,
          66000,
          66000,
          66000,
          66000,
          66000,
          66000,
          66000,
          66000,
          66000,
          66000,
          66000,
          66000,
          66000,
          66000,
          66000,
          66000,
          66000,
          66000,
          66000,
          66000,
          66000,
          66000,
          113000,
          113000,
          113000,
          113000,
          113000,
          113000,
          113000,
          113000,
          113000,
          113000,
          113000,
          113000,
          113000,
          113000,
          113000,
          113000,
          113000,
          113000,
          113000,
          113000,
          113000,
          113000,
          113000,
          113000,
          113000,
          113000,
          113000,
          113000,
          113000,
          113000,
          113000,
          113000,
          104500,
          104500,
          104500,
          104500,
          104500,
          104500,
          104500,
          104500,
          104500,
          104500,
          112000,
          112000,
          112000,
          112000,
          112000,
          112000,
          112000,
          112000,
          112000,
          112000,
          112000,
          112000,
          112000,
          112000,
          112000,
          112000,
          112000,
          112000,
          112000,
          112000,
          112000,
          112000,
          112000,
          112000,
          112000,
          112000,
          112000,
          112000,
          112000,
          112000,
          131000,
          131000,
          131000,
          131000,
          131000,
          131000,
          131000,
          131000,
          131000,
          131000,
          131000,
          131000,
          131000,
          131000,
          131000,
          131000,
          131000,
          131000,
          131000,
          131000,
          131000,
          131000,
          131000,
          131000,
          131000,
          131000,
          131000,
          131000,
          131000,
          131000,
          131000,
          131000,
          112500,
          112500,
          112500,
          112500,
          112500,
          112500,
          112500,
          112500,
          112500,
          112500,
          112500,
          112500,
          112500,
          112500,
          112500,
          112500,
          112500,
          112500,
          112500,
          112500,
          112500,
          112500,
          112500,
          112500,
          112500,
          112500,
          112500,
          112500,
          112500,
          112500,
          112500,
          112500,
          99500,
          99500,
          99500,
          99500,
          99500,
          99500,
          99500,
          99500,
          99500,
          99500,
          99500,
          99500,
          99500,
          99500,
          99500,
          99500,
          99500,
          99500,
          99500,
          99500,
          99500,
          99500,
          99500,
          99500,
          99500,
          99500,
          99500,
          99500,
          99500,
          99500,
          99500,
          99500,
          158000,
          158000,
          158000,
          158000,
          158000,
          158000,
          158000,
          158000,
          158000,
          158000,
          158000,
          158000,
          158000,
          158000,
          158000,
          158000,
          158000,
          158000,
          158000,
          158000,
          158000,
          158000,
          158000,
          158000,
          158000,
          158000,
          158000,
          158000,
          158000,
          158000,
          158000,
          158000,
          129000,
          129000,
          129000,
          129000,
          129000,
          129000,
          129000,
          129000,
          129000,
          129000,
          129000,
          129000,
          129000,
          129000,
          129000,
          129000,
          129000,
          129000,
          129000,
          129000,
          129000,
          129000,
          129000,
          129000,
          129000,
          129000,
          129000,
          129000,
          129000,
          129000,
          129000,
          129000,
          73500,
          73500,
          73500,
          73500,
          73500,
          73500,
          73500,
          73500,
          73500,
          73500,
          82000,
          82000,
          82000,
          82000,
          82000,
          82000,
          82000,
          82000,
          82000,
          82000,
          82000,
          82000,
          82000,
          82000,
          82000,
          82000,
          82000,
          82000,
          82000,
          82000,
          82000,
          82000,
          82000,
          82000,
          82000,
          82000,
          82000,
          82000,
          82000,
          82000,
          121500,
          121500,
          121500,
          121500,
          121500,
          121500,
          121500,
          121500,
          121500,
          121500,
          121500,
          121500,
          121500,
          121500,
          121500,
          121500,
          121500,
          121500,
          121500,
          121500,
          121500,
          121500,
          121500,
          121500,
          121500,
          121500,
          121500,
          121500,
          121500,
          121500,
          121500,
          121500,
          171500,
          171500,
          171500,
          171500,
          171500,
          171500,
          171500,
          171500,
          171500,
          171500,
          171500,
          171500,
          171500,
          171500,
          171500,
          171500,
          171500,
          171500,
          171500,
          171500,
          171500,
          171500,
          171500,
          171500,
          171500,
          171500,
          171500,
          171500,
          171500,
          171500,
          171500,
          171500,
          97000,
          97000,
          97000,
          97000,
          97000,
          97000,
          97000,
          97000,
          97000,
          97000,
          97000,
          97000,
          97000,
          97000,
          97000,
          97000,
          97000,
          97000,
          97000,
          97000,
          97000,
          97000,
          97000,
          97000,
          97000,
          97000,
          97000,
          97000,
          97000,
          97000,
          97000,
          97000,
          69500,
          69500,
          69500,
          69500,
          69500,
          69500,
          69500,
          69500,
          69500,
          69500,
          69500,
          69500,
          69500,
          69500,
          69500,
          69500,
          69500,
          69500,
          69500,
          69500,
          69500,
          69500,
          69500,
          69500,
          69500,
          69500,
          69500,
          69500,
          69500,
          69500,
          69500,
          69500,
          76500,
          76500,
          76500,
          76500,
          76500,
          76500,
          76500,
          76500,
          76500,
          76500,
          76500,
          76500,
          76500,
          76500,
          76500,
          76500,
          76500,
          76500,
          76500,
          76500,
          76500,
          76500,
          76500,
          76500,
          76500,
          76500,
          76500,
          76500,
          76500,
          76500,
          76500,
          76500,
          90500,
          90500,
          90500,
          90500,
          90500,
          90500,
          90500,
          90500,
          90500,
          90500,
          100500,
          100500,
          100500,
          100500,
          100500,
          100500,
          100500,
          100500,
          100500,
          100500,
          100500,
          100500,
          100500,
          100500,
          100500,
          100500,
          100500,
          100500,
          100500,
          100500,
          100500,
          100500,
          100500,
          100500,
          100500,
          100500,
          100500,
          100500,
          100500,
          100500,
          63500,
          63500,
          63500,
          63500,
          63500,
          63500,
          63500,
          63500,
          63500,
          63500,
          63500,
          63500,
          63500,
          63500,
          63500,
          63500,
          63500,
          63500,
          63500,
          63500,
          63500,
          63500,
          63500,
          63500,
          63500,
          63500,
          63500,
          63500,
          63500,
          63500,
          63500,
          77000,
          77000,
          77000,
          77000,
          77000,
          77000,
          77000,
          77000,
          77000,
          77000,
          77000,
          77000,
          77000,
          77000,
          77000,
          77000,
          77000,
          77000,
          77000,
          77000,
          77000,
          77000,
          77000,
          77000,
          77000,
          77000,
          77000,
          77000,
          77000,
          77000,
          80500,
          80500,
          80500,
          80500,
          80500,
          80500,
          80500,
          80500,
          80500,
          80500,
          80500,
          80500,
          80500,
          80500,
          80500,
          80500,
          80500,
          80500,
          80500,
          80500,
          80500,
          80500,
          80500,
          80500,
          80500,
          80500,
          80500,
          80500,
          80500,
          80500,
          86000,
          86000,
          86000,
          86000,
          86000,
          86000,
          86000,
          86000,
          86000,
          86000,
          86000,
          86000,
          86000,
          86000,
          86000,
          86000,
          86000,
          86000,
          86000,
          86000,
          86000,
          86000,
          86000,
          86000,
          86000,
          86000,
          86000,
          86000,
          86000,
          86000,
          83500,
          83500,
          83500,
          83500,
          83500,
          83500,
          83500,
          83500,
          83500,
          83500,
          83500,
          83500,
          83500,
          83500,
          83500,
          83500,
          83500,
          83500,
          83500,
          83500,
          83500,
          83500,
          83500,
          83500,
          83500,
          83500,
          83500,
          83500,
          83500,
          83500,
          98500,
          98500,
          98500,
          98500,
          98500,
          98500,
          98500,
          98500,
          98500,
          98500,
          98500,
          98500,
          98500,
          98500,
          98500,
          98500,
          98500,
          98500,
          98500,
          95500,
          95500,
          95500,
          95500,
          95500,
          95500,
          95500,
          95500,
          95500,
          95500,
          95500,
          95500,
          95500,
          95500,
          95500,
          95500,
          95500,
          95500,
          95500,
          95500,
          95500,
          95500,
          95500,
          95500,
          95500,
          95500,
          95500,
          95500,
          95500,
          95500,
          91500,
          91500,
          91500,
          91500,
          91500,
          91500,
          91500,
          91500,
          91500,
          91500,
          91500,
          91500,
          91500,
          91500,
          91500,
          91500,
          91500,
          91500,
          91500,
          91500,
          91500,
          91500,
          91500,
          91500,
          91500,
          91500,
          91500,
          91500,
          91500,
          91500,
          91500,
          91500,
          111000,
          111000,
          111000,
          111000,
          111000,
          111000,
          111000,
          111000,
          111000,
          111000,
          111000,
          111000,
          111000,
          111000,
          111000,
          111000,
          111000,
          111000,
          111000,
          111000,
          111000,
          111000,
          111000,
          111000,
          111000,
          111000,
          111000,
          111000,
          111000,
          111000,
          111000,
          111000,
          95500,
          95500,
          95500,
          95500,
          95500,
          95500,
          95500,
          95500,
          95500,
          95500,
          95500,
          95500,
          95500,
          95500,
          95500,
          95500,
          95500,
          95500,
          95500,
          95500,
          95500,
          95500,
          95500,
          95500,
          95500,
          95500,
          95500,
          95500,
          95500,
          95500,
          95500,
          95500,
          99500,
          99500,
          99500,
          99500,
          99500,
          99500,
          99500,
          99500,
          99500,
          99500,
          99500,
          99500,
          99500,
          99500,
          99500,
          99500,
          99500,
          99500,
          99500,
          76000,
          76000,
          76000,
          76000,
          76000,
          76000,
          76000,
          109500,
          109500,
          109500,
          109500,
          109500,
          109500,
          109500,
          109500,
          109500,
          109500,
          109500,
          94000,
          94000,
          94000,
          94000,
          94000,
          94000,
          94000,
          94000,
          94000,
          152500,
          152500,
          152500,
          152500,
          152500,
          152500,
          152500,
          152500,
          104000,
          104000,
          104000,
          104000,
          104000,
          104000,
          104000,
          104000,
          74500,
          74500,
          74500,
          74500,
          74500,
          74500,
          74500,
          77000,
          77000,
          77000,
          77000,
          77000,
          83000,
          83000,
          83000,
          83000,
          83000,
          83000,
          83000,
          83000,
          83000,
          83000,
          83000,
          83000,
          83000,
          83000,
          83000,
          83000,
          83000,
          83000,
          83000,
          83000,
          83000,
          83000,
          83000,
          83000,
          83000,
          83000,
          83000,
          83000,
          83000,
          83000,
          130000,
          130000,
          130000,
          130000,
          130000,
          130000,
          130000,
          130000,
          130000,
          130000,
          130000,
          130000,
          130000,
          130000,
          130000,
          130000,
          130000,
          130000,
          130000,
          130000,
          130000,
          130000,
          130000,
          130000,
          130000,
          130000,
          130000,
          130000,
          130000,
          130000,
          130000,
          130000,
          82500,
          82500,
          82500,
          82500,
          82500,
          82500,
          82500,
          82500,
          82500,
          82500,
          82500,
          82500,
          82500,
          82500,
          82500,
          82500,
          82500,
          82500,
          82500,
          82500,
          82500,
          82500,
          82500,
          82500,
          82500,
          82500,
          82500,
          82500,
          82500,
          82500,
          82500,
          82500,
          79000,
          79000,
          79000,
          79000,
          79000,
          79000,
          79000,
          79000,
          79000,
          79000,
          79000,
          79000,
          79000,
          79000,
          79000,
          79000,
          79000,
          79000,
          79000,
          79000,
          79000,
          79000,
          79000,
          79000,
          79000,
          79000,
          79000,
          79000,
          79000,
          79000,
          79000,
          79000,
          80000,
          80000,
          80000,
          80000,
          80000,
          80000,
          80000,
          80000,
          80000,
          80000,
          80000,
          80000,
          80000,
          80000,
          80000,
          80000,
          80000,
          80000,
          80000,
          80000,
          80000,
          80000,
          80000,
          80000,
          80000,
          80000,
          80000,
          80000,
          80000,
          80000,
          100500,
          100500,
          100500,
          100500,
          100500,
          100500,
          100500,
          100500,
          100500,
          100500,
          100500,
          100500,
          100500,
          100500,
          100500,
          100500,
          100500,
          100500,
          100500,
          100500,
          100500,
          100500,
          100500,
          100500,
          100500,
          100500,
          100500,
          100500,
          100500,
          100500,
          217500,
          217500,
          217500,
          217500,
          217500,
          217500,
          217500,
          217500,
          217500,
          217500,
          217500,
          217500,
          217500,
          217500,
          83500,
          83500,
          83500,
          83500,
          83500,
          83500,
          83500,
          83500,
          83500,
          83500,
          83500,
          83500,
          83500,
          83500,
          83500,
          83500,
          83500,
          83500,
          83500,
          83500,
          83500,
          83500,
          83500,
          83500,
          83500,
          83500,
          83500,
          83500,
          83500,
          83500,
          105000,
          105000,
          105000,
          105000,
          105000,
          105000,
          105000,
          105000,
          105000,
          105000,
          105000,
          105000,
          105000,
          105000,
          105000,
          105000,
          105000,
          105000,
          105000,
          105000,
          105000,
          105000,
          105000,
          105000,
          105000,
          105000,
          105000,
          105000,
          105000,
          105000,
          62000,
          62000,
          62000,
          62000,
          62000,
          62000,
          62000,
          62000,
          62000,
          62000,
          62000,
          62000,
          62000,
          62000,
          62000,
          62000,
          62000,
          62000,
          62000,
          62000,
          62000,
          62000,
          62000,
          62000,
          62000,
          62000,
          62000,
          62000,
          62000,
          62000,
          40500,
          40500,
          40500,
          40500,
          40500,
          40500,
          40500,
          40500,
          40500,
          40500,
          40500,
          40500,
          40500,
          40500,
          40500,
          40500,
          40500,
          40500,
          40500,
          40500,
          40500,
          40500,
          40500,
          40500,
          40500,
          40500,
          40500,
          40500,
          40500,
          40500,
          87000,
          87000,
          87000,
          87000,
          87000,
          87000,
          87000,
          87000,
          87000,
          87000,
          87000,
          87000,
          87000,
          87000,
          87000,
          87000,
          87000,
          87000,
          87000,
          87000,
          87000,
          87000,
          87000,
          87000,
          87000,
          87000,
          87000,
          87000,
          87000,
          87000,
          57500,
          57500,
          57500,
          57500,
          57500,
          57500,
          57500,
          57500,
          57500,
          57500,
          57500,
          57500,
          57500,
          57500,
          57500,
          57500,
          57500,
          57500,
          57500,
          57500,
          57500,
          57500,
          57500,
          57500,
          57500,
          57500,
          57500,
          57500,
          57500,
          57500,
          97000,
          97000,
          97000,
          97000,
          97000,
          97000,
          97000,
          97000,
          97000,
          97000,
          97000,
          97000,
          97000,
          97000,
          97000,
          97000,
          97000,
          97000,
          97000,
          97000,
          129000,
          129000,
          129000,
          129000,
          129000,
          129000,
          129000,
          129000,
          129000,
          129000,
          129000,
          129000,
          129000,
          129000,
          129000,
          129000,
          129000,
          129000,
          129000,
          129000,
          129000,
          129000,
          129000,
          129000,
          129000,
          129000,
          129000,
          129000,
          129000,
          129000,
          155500,
          155500,
          155500,
          155500,
          155500,
          155500,
          155500,
          155500,
          155500,
          155500,
          155500,
          155500,
          155500,
          155500,
          155500,
          155500,
          155500,
          155500,
          155500,
          155500,
          155500,
          155500,
          155500,
          155500,
          155500,
          155500,
          155500,
          155500,
          155500,
          155500,
          155500,
          69000,
          69000,
          69000,
          69000,
          69000,
          69000,
          69000,
          69000,
          69000,
          69000,
          69000,
          69000,
          69000,
          69000,
          69000,
          69000,
          69000,
          69000,
          69000,
          69000,
          69000,
          69000,
          69000,
          69000,
          69000,
          69000,
          69000,
          69000,
          69000,
          69000,
          105500,
          105500,
          105500,
          105500,
          105500,
          105500,
          105500,
          105500,
          105500,
          105500,
          105500,
          105500,
          105500,
          105500,
          105500,
          105500,
          105500,
          105500,
          105500,
          105500,
          105500,
          105500,
          105500,
          105500,
          105500,
          105500,
          105500,
          105500,
          105500,
          105500,
          204000,
          204000,
          204000,
          204000,
          204000,
          204000,
          204000,
          204000,
          204000,
          204000,
          204000,
          204000,
          204000,
          204000,
          204000,
          204000,
          204000,
          204000,
          204000,
          204000,
          204000,
          204000,
          204000,
          204000,
          204000,
          204000,
          204000,
          204000,
          204000,
          204000,
          145500,
          145500,
          145500,
          145500,
          145500,
          145500,
          145500,
          145500,
          145500,
          145500,
          145500,
          145500,
          145500,
          145500,
          145500,
          145500,
          145500,
          145500,
          145500,
          145500,
          145500,
          145500,
          145500,
          145500,
          145500,
          145500,
          145500,
          145500,
          145500,
          145500,
          116500,
          116500,
          116500,
          116500,
          116500,
          116500,
          116500,
          116500,
          116500,
          116500,
          116500,
          116500,
          116500,
          116500,
          116500,
          116500,
          116500,
          116500,
          116500,
          94000,
          94000,
          94000,
          94000,
          94000,
          94000,
          94000,
          94000,
          94000,
          94000,
          94000,
          94000,
          94000,
          94000,
          94000,
          94000,
          94000,
          94000,
          94000,
          94000,
          94000,
          94000,
          94000,
          94000,
          94000,
          94000,
          94000,
          94000,
          94000,
          94000,
          89500,
          89500,
          89500,
          89500,
          89500,
          89500,
          89500,
          89500,
          89500,
          89500,
          89500,
          89500,
          89500,
          89500,
          89500,
          89500,
          89500,
          89500,
          89500,
          89500,
          89500,
          89500,
          89500,
          89500,
          89500,
          89500,
          89500,
          89500,
          89500,
          89500,
          89500,
          89500,
          107500,
          107500,
          107500,
          107500,
          107500,
          107500,
          107500,
          107500,
          107500,
          107500,
          107500,
          107500,
          107500,
          107500,
          107500,
          107500,
          107500,
          107500,
          107500,
          107500,
          107500,
          107500,
          107500,
          107500,
          107500,
          107500,
          107500,
          107500,
          107500,
          107500,
          107500,
          107500,
          84500,
          84500,
          84500,
          84500,
          84500,
          84500,
          84500,
          84500,
          84500,
          84500,
          84500,
          84500,
          84500,
          84500,
          84500,
          84500,
          84500,
          84500,
          84500,
          84500,
          84500,
          84500,
          84500,
          84500,
          84500,
          84500,
          84500,
          84500,
          84500,
          84500,
          84500,
          104000,
          104000,
          104000,
          104000,
          104000,
          104000,
          104000,
          104000,
          104000,
          104000,
          104000,
          104000,
          104000,
          104000,
          104000,
          104000,
          104000,
          104000,
          104000,
          104000,
          104000,
          104000,
          104000,
          104000,
          104000,
          104000,
          104000,
          104000,
          104000,
          104000,
          104000,
          149000,
          149000,
          149000,
          149000,
          149000,
          149000,
          149000,
          149000,
          149000,
          149000,
          149000,
          149000,
          149000,
          149000,
          149000,
          149000,
          149000,
          149000,
          149000,
          149000,
          149000,
          149000,
          149000,
          149000,
          149000,
          149000,
          149000,
          149000,
          149000,
          149000,
          105000,
          105000,
          105000,
          105000,
          105000,
          105000,
          105000,
          105000,
          105000,
          105000,
          105000,
          105000,
          105000,
          105000,
          128500,
          128500,
          128500,
          128500,
          128500,
          128500,
          128500,
          128500,
          128500,
          128500,
          128500,
          128500,
          128500,
          128500,
          128500,
          128500,
          128500,
          128500,
          128500,
          128500,
          128500,
          128500,
          128500,
          128500,
          128500,
          128500,
          128500,
          128500,
          128500,
          128500,
          178000,
          178000,
          178000,
          178000,
          178000,
          178000,
          178000,
          178000,
          178000,
          178000,
          178000,
          178000,
          178000,
          178000,
          178000,
          178000,
          178000,
          178000,
          178000,
          178000,
          178000,
          178000,
          178000,
          178000,
          178000,
          178000,
          178000,
          178000,
          178000,
          178000,
          178000,
          178000,
          153500,
          153500,
          153500,
          153500,
          153500,
          153500,
          153500,
          153500,
          153500,
          153500,
          153500,
          153500,
          153500,
          153500,
          153500,
          153500,
          153500,
          153500,
          153500,
          153500,
          153500,
          153500,
          153500,
          153500,
          153500,
          153500,
          153500,
          153500,
          153500,
          153500,
          153500,
          153500,
          111000,
          111000,
          111000,
          111000,
          111000,
          111000,
          111000,
          111000,
          111000,
          111000,
          111000,
          111000,
          111000,
          111000,
          111000,
          111000,
          111000,
          111000,
          111000,
          111000,
          111000,
          111000,
          111000,
          111000,
          111000,
          111000,
          111000,
          111000,
          111000,
          111000,
          111000,
          111000,
          78500,
          78500,
          78500,
          78500,
          78500,
          78500,
          78500,
          78500,
          78500,
          78500,
          78500,
          78500,
          78500,
          78500,
          78500,
          78500,
          78500,
          78500,
          78500,
          78500,
          78500,
          78500,
          78500,
          78500,
          78500,
          78500,
          78500,
          78500,
          78500,
          78500,
          78500,
          78500,
          117500,
          117500,
          117500,
          117500,
          117500,
          117500,
          117500,
          117500,
          117500,
          117500,
          117500,
          117500,
          117500,
          117500,
          117500,
          117500,
          117500,
          117500,
          117500,
          117500,
          117500,
          117500,
          117500,
          117500,
          117500,
          117500,
          117500,
          117500,
          117500,
          117500,
          117500,
          117500,
          140500,
          140500,
          140500,
          140500,
          140500,
          140500,
          140500,
          140500,
          140500,
          140500,
          125500,
          125500,
          125500,
          125500,
          125500,
          125500,
          125500,
          125500,
          125500,
          125500,
          125500,
          125500,
          125500,
          125500,
          125500,
          125500,
          125500,
          125500,
          125500,
          125500,
          125500,
          125500,
          125500,
          125500,
          125500,
          125500,
          125500,
          125500,
          125500,
          125500,
          87500,
          87500,
          87500,
          87500,
          87500,
          87500,
          87500,
          87500,
          87500,
          87500,
          87500,
          87500,
          87500,
          87500,
          87500,
          87500,
          87500,
          87500,
          87500,
          87500,
          87500,
          87500,
          87500,
          87500,
          87500,
          87500,
          87500,
          87500,
          87500,
          87500,
          87500,
          87500,
          138000,
          138000,
          138000,
          138000,
          138000,
          138000,
          138000,
          138000,
          138000,
          138000,
          138000,
          138000,
          138000,
          138000,
          138000,
          138000,
          138000,
          138000,
          138000,
          138000,
          138000,
          138000,
          138000,
          138000,
          138000,
          138000,
          138000,
          138000,
          138000,
          138000,
          138000,
          138000,
          68500,
          68500,
          68500,
          68500,
          68500,
          68500,
          68500,
          68500,
          68500,
          68500,
          68500,
          68500,
          68500,
          68500,
          68500,
          68500,
          68500,
          68500,
          68500,
          68500,
          68500,
          68500,
          68500,
          68500,
          68500,
          68500,
          68500,
          68500,
          68500,
          68500,
          68500,
          68500,
          96500,
          96500,
          96500,
          96500,
          96500,
          96500,
          96500,
          96500,
          96500,
          96500,
          96500,
          96500,
          96500,
          96500,
          96500,
          96500,
          96500,
          96500,
          96500,
          96500,
          96500,
          96500,
          96500,
          96500,
          96500,
          96500,
          96500,
          96500,
          96500,
          96500,
          96500,
          96500,
          106000,
          106000,
          106000,
          106000,
          106000,
          106000,
          106000,
          106000,
          106000,
          106000,
          106000,
          106000,
          106000,
          106000,
          106000,
          106000,
          106000,
          106000,
          106000,
          106000,
          106000,
          106000,
          106000,
          106000,
          106000,
          106000,
          106000,
          106000,
          106000,
          106000,
          106000,
          106000,
          106000,
          106000,
          106000,
          106000,
          106000,
          106000,
          106000,
          106000,
          106000,
          106000,
          38500,
          38500,
          38500,
          38500,
          38500,
          38500,
          38500,
          38500,
          38500,
          38500,
          38500,
          38500,
          38500,
          38500,
          38500,
          38500,
          38500,
          38500,
          38500,
          38500,
          38500,
          38500,
          38500,
          38500,
          38500,
          38500,
          38500,
          38500,
          38500,
          38500,
          92500,
          92500,
          92500,
          92500,
          92500,
          92500,
          92500,
          92500,
          92500,
          92500,
          92500,
          92500,
          92500,
          92500,
          92500,
          92500,
          92500,
          92500,
          92500,
          92500,
          92500,
          92500,
          92500,
          92500,
          92500,
          92500,
          92500,
          92500,
          92500,
          92500,
          58000,
          58000,
          58000,
          58000,
          58000,
          58000,
          58000,
          58000,
          58000,
          58000,
          58000,
          58000,
          58000,
          58000,
          58000,
          58000,
          58000,
          58000,
          58000,
          58000,
          58000,
          58000,
          58000,
          58000,
          58000,
          58000,
          58000,
          58000,
          58000,
          58000,
          60500,
          60500,
          60500,
          60500,
          60500,
          60500,
          60500,
          60500,
          60500,
          60500,
          60500,
          60500,
          60500,
          60500,
          60500,
          60500,
          60500,
          60500,
          60500,
          60500,
          60500,
          60500,
          60500,
          60500,
          60500,
          60500,
          60500,
          60500,
          60500,
          60500,
          56000,
          56000,
          56000,
          56000,
          56000,
          56000,
          56000,
          56000,
          92500,
          92500,
          92500,
          92500,
          92500,
          92500,
          92500,
          92500,
          92500,
          92500,
          92500,
          92500,
          92500,
          92500,
          92500,
          92500,
          92500,
          92500,
          92500,
          92500,
          92500,
          92500,
          92500,
          92500,
          92500,
          92500,
          92500,
          92500,
          92500,
          92500,
          84500,
          84500,
          84500,
          84500,
          84500,
          84500,
          84500,
          84500,
          84500,
          84500,
          84500,
          84500,
          84500,
          84500,
          84500,
          84500,
          84500,
          84500,
          84500,
          84500,
          84500,
          84500,
          84500,
          84500,
          84500,
          84500,
          84500,
          84500,
          84500,
          84500,
          84500,
          45000,
          45000,
          45000,
          45000,
          45000,
          45000,
          45000,
          45000,
          45000,
          45000,
          45000,
          45000,
          45000,
          45000,
          45000,
          45000,
          45000,
          45000,
          45000,
          45000,
          45000,
          45000,
          45000,
          45000,
          45000,
          45000,
          45000,
          45000,
          45000,
          45000,
          45000,
          130000,
          130000,
          130000,
          130000,
          130000,
          130000,
          130000,
          130000,
          130000,
          130000,
          130000,
          130000,
          130000,
          130000,
          130000,
          130000,
          130000,
          130000,
          130000,
          130000,
          130000,
          130000,
          130000,
          130000,
          130000,
          130000,
          130000,
          130000,
          130000,
          130000,
          61000,
          61000,
          61000,
          61000,
          61000,
          61000,
          61000,
          61000,
          61000,
          61000,
          61000,
          61000,
          61000,
          61000,
          61000,
          61000,
          61000,
          61000,
          61000,
          61000,
          61000,
          61000,
          61000,
          61000,
          61000,
          61000,
          61000,
          61000,
          61000,
          61000,
          72500,
          72500,
          72500,
          72500,
          72500,
          72500,
          72500,
          72500,
          72500,
          72500,
          72500,
          72500,
          72500,
          72500,
          72500,
          72500,
          72500,
          72500,
          72500,
          72500,
          72500,
          72500,
          72500,
          72500,
          72500,
          72500,
          72500,
          72500,
          72500,
          72500,
          102000,
          102000,
          102000,
          102000,
          102000,
          102000,
          102000,
          102000,
          102000,
          102000,
          102000,
          102000,
          102000,
          102000,
          102000,
          102000,
          102000,
          102000
         ],
         "x0": " ",
         "xaxis": "x",
         "y0": " ",
         "yaxis": "y"
        }
       ],
       "layout": {
        "boxmode": "group",
        "legend": {
         "tracegroupgap": 0
        },
        "template": {
         "data": {
          "bar": [
           {
            "error_x": {
             "color": "#2a3f5f"
            },
            "error_y": {
             "color": "#2a3f5f"
            },
            "marker": {
             "line": {
              "color": "#E5ECF6",
              "width": 0.5
             },
             "pattern": {
              "fillmode": "overlay",
              "size": 10,
              "solidity": 0.2
             }
            },
            "type": "bar"
           }
          ],
          "barpolar": [
           {
            "marker": {
             "line": {
              "color": "#E5ECF6",
              "width": 0.5
             },
             "pattern": {
              "fillmode": "overlay",
              "size": 10,
              "solidity": 0.2
             }
            },
            "type": "barpolar"
           }
          ],
          "carpet": [
           {
            "aaxis": {
             "endlinecolor": "#2a3f5f",
             "gridcolor": "white",
             "linecolor": "white",
             "minorgridcolor": "white",
             "startlinecolor": "#2a3f5f"
            },
            "baxis": {
             "endlinecolor": "#2a3f5f",
             "gridcolor": "white",
             "linecolor": "white",
             "minorgridcolor": "white",
             "startlinecolor": "#2a3f5f"
            },
            "type": "carpet"
           }
          ],
          "choropleth": [
           {
            "colorbar": {
             "outlinewidth": 0,
             "ticks": ""
            },
            "type": "choropleth"
           }
          ],
          "contour": [
           {
            "colorbar": {
             "outlinewidth": 0,
             "ticks": ""
            },
            "colorscale": [
             [
              0,
              "#0d0887"
             ],
             [
              0.1111111111111111,
              "#46039f"
             ],
             [
              0.2222222222222222,
              "#7201a8"
             ],
             [
              0.3333333333333333,
              "#9c179e"
             ],
             [
              0.4444444444444444,
              "#bd3786"
             ],
             [
              0.5555555555555556,
              "#d8576b"
             ],
             [
              0.6666666666666666,
              "#ed7953"
             ],
             [
              0.7777777777777778,
              "#fb9f3a"
             ],
             [
              0.8888888888888888,
              "#fdca26"
             ],
             [
              1,
              "#f0f921"
             ]
            ],
            "type": "contour"
           }
          ],
          "contourcarpet": [
           {
            "colorbar": {
             "outlinewidth": 0,
             "ticks": ""
            },
            "type": "contourcarpet"
           }
          ],
          "heatmap": [
           {
            "colorbar": {
             "outlinewidth": 0,
             "ticks": ""
            },
            "colorscale": [
             [
              0,
              "#0d0887"
             ],
             [
              0.1111111111111111,
              "#46039f"
             ],
             [
              0.2222222222222222,
              "#7201a8"
             ],
             [
              0.3333333333333333,
              "#9c179e"
             ],
             [
              0.4444444444444444,
              "#bd3786"
             ],
             [
              0.5555555555555556,
              "#d8576b"
             ],
             [
              0.6666666666666666,
              "#ed7953"
             ],
             [
              0.7777777777777778,
              "#fb9f3a"
             ],
             [
              0.8888888888888888,
              "#fdca26"
             ],
             [
              1,
              "#f0f921"
             ]
            ],
            "type": "heatmap"
           }
          ],
          "heatmapgl": [
           {
            "colorbar": {
             "outlinewidth": 0,
             "ticks": ""
            },
            "colorscale": [
             [
              0,
              "#0d0887"
             ],
             [
              0.1111111111111111,
              "#46039f"
             ],
             [
              0.2222222222222222,
              "#7201a8"
             ],
             [
              0.3333333333333333,
              "#9c179e"
             ],
             [
              0.4444444444444444,
              "#bd3786"
             ],
             [
              0.5555555555555556,
              "#d8576b"
             ],
             [
              0.6666666666666666,
              "#ed7953"
             ],
             [
              0.7777777777777778,
              "#fb9f3a"
             ],
             [
              0.8888888888888888,
              "#fdca26"
             ],
             [
              1,
              "#f0f921"
             ]
            ],
            "type": "heatmapgl"
           }
          ],
          "histogram": [
           {
            "marker": {
             "pattern": {
              "fillmode": "overlay",
              "size": 10,
              "solidity": 0.2
             }
            },
            "type": "histogram"
           }
          ],
          "histogram2d": [
           {
            "colorbar": {
             "outlinewidth": 0,
             "ticks": ""
            },
            "colorscale": [
             [
              0,
              "#0d0887"
             ],
             [
              0.1111111111111111,
              "#46039f"
             ],
             [
              0.2222222222222222,
              "#7201a8"
             ],
             [
              0.3333333333333333,
              "#9c179e"
             ],
             [
              0.4444444444444444,
              "#bd3786"
             ],
             [
              0.5555555555555556,
              "#d8576b"
             ],
             [
              0.6666666666666666,
              "#ed7953"
             ],
             [
              0.7777777777777778,
              "#fb9f3a"
             ],
             [
              0.8888888888888888,
              "#fdca26"
             ],
             [
              1,
              "#f0f921"
             ]
            ],
            "type": "histogram2d"
           }
          ],
          "histogram2dcontour": [
           {
            "colorbar": {
             "outlinewidth": 0,
             "ticks": ""
            },
            "colorscale": [
             [
              0,
              "#0d0887"
             ],
             [
              0.1111111111111111,
              "#46039f"
             ],
             [
              0.2222222222222222,
              "#7201a8"
             ],
             [
              0.3333333333333333,
              "#9c179e"
             ],
             [
              0.4444444444444444,
              "#bd3786"
             ],
             [
              0.5555555555555556,
              "#d8576b"
             ],
             [
              0.6666666666666666,
              "#ed7953"
             ],
             [
              0.7777777777777778,
              "#fb9f3a"
             ],
             [
              0.8888888888888888,
              "#fdca26"
             ],
             [
              1,
              "#f0f921"
             ]
            ],
            "type": "histogram2dcontour"
           }
          ],
          "mesh3d": [
           {
            "colorbar": {
             "outlinewidth": 0,
             "ticks": ""
            },
            "type": "mesh3d"
           }
          ],
          "parcoords": [
           {
            "line": {
             "colorbar": {
              "outlinewidth": 0,
              "ticks": ""
             }
            },
            "type": "parcoords"
           }
          ],
          "pie": [
           {
            "automargin": true,
            "type": "pie"
           }
          ],
          "scatter": [
           {
            "fillpattern": {
             "fillmode": "overlay",
             "size": 10,
             "solidity": 0.2
            },
            "type": "scatter"
           }
          ],
          "scatter3d": [
           {
            "line": {
             "colorbar": {
              "outlinewidth": 0,
              "ticks": ""
             }
            },
            "marker": {
             "colorbar": {
              "outlinewidth": 0,
              "ticks": ""
             }
            },
            "type": "scatter3d"
           }
          ],
          "scattercarpet": [
           {
            "marker": {
             "colorbar": {
              "outlinewidth": 0,
              "ticks": ""
             }
            },
            "type": "scattercarpet"
           }
          ],
          "scattergeo": [
           {
            "marker": {
             "colorbar": {
              "outlinewidth": 0,
              "ticks": ""
             }
            },
            "type": "scattergeo"
           }
          ],
          "scattergl": [
           {
            "marker": {
             "colorbar": {
              "outlinewidth": 0,
              "ticks": ""
             }
            },
            "type": "scattergl"
           }
          ],
          "scattermapbox": [
           {
            "marker": {
             "colorbar": {
              "outlinewidth": 0,
              "ticks": ""
             }
            },
            "type": "scattermapbox"
           }
          ],
          "scatterpolar": [
           {
            "marker": {
             "colorbar": {
              "outlinewidth": 0,
              "ticks": ""
             }
            },
            "type": "scatterpolar"
           }
          ],
          "scatterpolargl": [
           {
            "marker": {
             "colorbar": {
              "outlinewidth": 0,
              "ticks": ""
             }
            },
            "type": "scatterpolargl"
           }
          ],
          "scatterternary": [
           {
            "marker": {
             "colorbar": {
              "outlinewidth": 0,
              "ticks": ""
             }
            },
            "type": "scatterternary"
           }
          ],
          "surface": [
           {
            "colorbar": {
             "outlinewidth": 0,
             "ticks": ""
            },
            "colorscale": [
             [
              0,
              "#0d0887"
             ],
             [
              0.1111111111111111,
              "#46039f"
             ],
             [
              0.2222222222222222,
              "#7201a8"
             ],
             [
              0.3333333333333333,
              "#9c179e"
             ],
             [
              0.4444444444444444,
              "#bd3786"
             ],
             [
              0.5555555555555556,
              "#d8576b"
             ],
             [
              0.6666666666666666,
              "#ed7953"
             ],
             [
              0.7777777777777778,
              "#fb9f3a"
             ],
             [
              0.8888888888888888,
              "#fdca26"
             ],
             [
              1,
              "#f0f921"
             ]
            ],
            "type": "surface"
           }
          ],
          "table": [
           {
            "cells": {
             "fill": {
              "color": "#EBF0F8"
             },
             "line": {
              "color": "white"
             }
            },
            "header": {
             "fill": {
              "color": "#C8D4E3"
             },
             "line": {
              "color": "white"
             }
            },
            "type": "table"
           }
          ]
         },
         "layout": {
          "annotationdefaults": {
           "arrowcolor": "#2a3f5f",
           "arrowhead": 0,
           "arrowwidth": 1
          },
          "autotypenumbers": "strict",
          "coloraxis": {
           "colorbar": {
            "outlinewidth": 0,
            "ticks": ""
           }
          },
          "colorscale": {
           "diverging": [
            [
             0,
             "#8e0152"
            ],
            [
             0.1,
             "#c51b7d"
            ],
            [
             0.2,
             "#de77ae"
            ],
            [
             0.3,
             "#f1b6da"
            ],
            [
             0.4,
             "#fde0ef"
            ],
            [
             0.5,
             "#f7f7f7"
            ],
            [
             0.6,
             "#e6f5d0"
            ],
            [
             0.7,
             "#b8e186"
            ],
            [
             0.8,
             "#7fbc41"
            ],
            [
             0.9,
             "#4d9221"
            ],
            [
             1,
             "#276419"
            ]
           ],
           "sequential": [
            [
             0,
             "#0d0887"
            ],
            [
             0.1111111111111111,
             "#46039f"
            ],
            [
             0.2222222222222222,
             "#7201a8"
            ],
            [
             0.3333333333333333,
             "#9c179e"
            ],
            [
             0.4444444444444444,
             "#bd3786"
            ],
            [
             0.5555555555555556,
             "#d8576b"
            ],
            [
             0.6666666666666666,
             "#ed7953"
            ],
            [
             0.7777777777777778,
             "#fb9f3a"
            ],
            [
             0.8888888888888888,
             "#fdca26"
            ],
            [
             1,
             "#f0f921"
            ]
           ],
           "sequentialminus": [
            [
             0,
             "#0d0887"
            ],
            [
             0.1111111111111111,
             "#46039f"
            ],
            [
             0.2222222222222222,
             "#7201a8"
            ],
            [
             0.3333333333333333,
             "#9c179e"
            ],
            [
             0.4444444444444444,
             "#bd3786"
            ],
            [
             0.5555555555555556,
             "#d8576b"
            ],
            [
             0.6666666666666666,
             "#ed7953"
            ],
            [
             0.7777777777777778,
             "#fb9f3a"
            ],
            [
             0.8888888888888888,
             "#fdca26"
            ],
            [
             1,
             "#f0f921"
            ]
           ]
          },
          "colorway": [
           "#636efa",
           "#EF553B",
           "#00cc96",
           "#ab63fa",
           "#FFA15A",
           "#19d3f3",
           "#FF6692",
           "#B6E880",
           "#FF97FF",
           "#FECB52"
          ],
          "font": {
           "color": "#2a3f5f"
          },
          "geo": {
           "bgcolor": "white",
           "lakecolor": "white",
           "landcolor": "#E5ECF6",
           "showlakes": true,
           "showland": true,
           "subunitcolor": "white"
          },
          "hoverlabel": {
           "align": "left"
          },
          "hovermode": "closest",
          "mapbox": {
           "style": "light"
          },
          "paper_bgcolor": "white",
          "plot_bgcolor": "#E5ECF6",
          "polar": {
           "angularaxis": {
            "gridcolor": "white",
            "linecolor": "white",
            "ticks": ""
           },
           "bgcolor": "#E5ECF6",
           "radialaxis": {
            "gridcolor": "white",
            "linecolor": "white",
            "ticks": ""
           }
          },
          "scene": {
           "xaxis": {
            "backgroundcolor": "#E5ECF6",
            "gridcolor": "white",
            "gridwidth": 2,
            "linecolor": "white",
            "showbackground": true,
            "ticks": "",
            "zerolinecolor": "white"
           },
           "yaxis": {
            "backgroundcolor": "#E5ECF6",
            "gridcolor": "white",
            "gridwidth": 2,
            "linecolor": "white",
            "showbackground": true,
            "ticks": "",
            "zerolinecolor": "white"
           },
           "zaxis": {
            "backgroundcolor": "#E5ECF6",
            "gridcolor": "white",
            "gridwidth": 2,
            "linecolor": "white",
            "showbackground": true,
            "ticks": "",
            "zerolinecolor": "white"
           }
          },
          "shapedefaults": {
           "line": {
            "color": "#2a3f5f"
           }
          },
          "ternary": {
           "aaxis": {
            "gridcolor": "white",
            "linecolor": "white",
            "ticks": ""
           },
           "baxis": {
            "gridcolor": "white",
            "linecolor": "white",
            "ticks": ""
           },
           "bgcolor": "#E5ECF6",
           "caxis": {
            "gridcolor": "white",
            "linecolor": "white",
            "ticks": ""
           }
          },
          "title": {
           "x": 0.05
          },
          "xaxis": {
           "automargin": true,
           "gridcolor": "white",
           "linecolor": "white",
           "ticks": "",
           "title": {
            "standoff": 15
           },
           "zerolinecolor": "white",
           "zerolinewidth": 2
          },
          "yaxis": {
           "automargin": true,
           "gridcolor": "white",
           "linecolor": "white",
           "ticks": "",
           "title": {
            "standoff": 15
           },
           "zerolinecolor": "white",
           "zerolinewidth": 2
          }
         }
        },
        "title": {
         "text": "Boxplot of Salary Estimate's mean"
        },
        "xaxis": {
         "anchor": "y",
         "domain": [
          0,
          1
         ],
         "title": {
          "text": "Salary Estimate mean"
         }
        },
        "yaxis": {
         "anchor": "x",
         "domain": [
          0,
          1
         ]
        }
       }
      }
     },
     "metadata": {},
     "output_type": "display_data"
    }
   ],
   "source": [
    "df['Salary Estimate mean'] = df['Salary Estimate']\n",
    "df['Salary Estimate mean'].replace(regex='\\(Glassdoor est.\\)', value='', inplace=True)\n",
    "df['Salary Estimate mean'].replace(regex='\\(Employer est.\\)', value='', inplace=True)\n",
    "df['Salary Estimate mean'].replace(regex='K', value='000', inplace=True)\n",
    "df['Salary Estimate mean'].replace(regex='\\$', value='', inplace=True)\n",
    "df['Salary Estimate mean'] = df['Salary Estimate mean'].str.split('-', expand=True).astype(int).mean(axis=1)\n",
    "px.box(df, x='Salary Estimate mean', title='Boxplot of Salary Estimate\\'s mean')\n"
   ]
  },
  {
   "cell_type": "code",
   "execution_count": null,
   "metadata": {},
   "outputs": [
    {
     "data": {
      "application/vnd.plotly.v1+json": {
       "config": {
        "plotlyServerURL": "https://plot.ly"
       },
       "data": [
        {
         "alignmentgroup": "True",
         "hovertemplate": "Industry=%{x}<br>Count=%{y}<extra></extra>",
         "legendgroup": "",
         "marker": {
          "color": "#636efa",
          "pattern": {
           "shape": ""
          }
         },
         "name": "",
         "offsetgroup": "",
         "orientation": "v",
         "showlegend": false,
         "textposition": "auto",
         "type": "bar",
         "x": [
          "IT Services",
          "Computer Hardware & Software",
          "Staffing & Outsourcing",
          "Internet",
          "Enterprise Software & Network Solutions",
          "Consulting",
          "Aerospace & Defense",
          "Investment Banking & Asset Management",
          "Insurance Carriers",
          "Advertising & Marketing",
          "Banks & Credit Unions",
          "Health Care Services & Hospitals",
          "Electrical & Electronic Manufacturing",
          "Biotech & Pharmaceuticals",
          "Accounting",
          "Architectural & Engineering Services",
          "Telecommunications Services",
          "Transportation Equipment Manufacturing",
          "Insurance Agencies & Brokerages",
          "Research & Development",
          "Federal Agencies",
          "Real Estate",
          "Energy",
          "Video Games",
          "Colleges & Universities",
          "TV Broadcast & Cable Networks",
          "Health, Beauty, & Fitness",
          "Financial Analytics & Research",
          "Financial Transaction Processing",
          "Lending",
          "Oil & Gas Services",
          "Industrial Manufacturing",
          "Logistics & Supply Chain",
          "K-12 Education",
          "Food & Beverage Manufacturing",
          "Transportation Management",
          "Grocery Stores & Supermarkets",
          "Wholesale",
          "Department, Clothing, & Shoe Stores",
          "Publishing",
          "Utilities",
          "Construction",
          "Radio",
          "Other Retail Stores",
          "Motion Picture Production & Distribution",
          "Cable, Internet & Telephone Providers",
          "Chemical Manufacturing",
          "Consumer Products Manufacturing",
          "Automotive Parts & Accessories Stores",
          "Brokerage Services",
          "Stock Exchanges",
          "Casual Restaurants",
          "Education Training Services",
          "Oil & Gas Exploration & Production",
          "News Outlet",
          "Telecommunications Manufacturing",
          "Health Care Products Manufacturing",
          "State & Regional Agencies",
          "Express Delivery Services",
          "Airlines",
          "Beauty & Personal Accessories Stores",
          "Gambling",
          "Building & Personnel Services",
          "Food & Beverage Stores",
          "Municipal Governments",
          "Sports & Recreation",
          "Hotels, Motels, & Resorts",
          "Membership Organizations",
          "Grantmaking Foundations",
          "Legal",
          "Rail",
          "Fast-Food & Quick-Service Restaurants",
          "Convenience Stores & Truck Stops",
          "Photography",
          "Food Production",
          "Pet & Pet Supplies Stores",
          "Gas Stations",
          "Truck Rental & Leasing",
          "Trucking",
          "Home Furniture & Housewares Stores",
          "Vehicle Dealers",
          "Miscellaneous Manufacturing",
          "Music Production & Distribution"
         ],
         "xaxis": "x",
         "y": [
          355,
          244,
          202,
          145,
          143,
          99,
          94,
          76,
          61,
          59,
          56,
          51,
          36,
          35,
          26,
          24,
          23,
          22,
          21,
          20,
          20,
          16,
          15,
          15,
          14,
          13,
          13,
          12,
          12,
          11,
          11,
          10,
          10,
          10,
          9,
          9,
          9,
          8,
          8,
          7,
          7,
          7,
          7,
          6,
          6,
          6,
          6,
          6,
          5,
          5,
          5,
          5,
          4,
          4,
          3,
          3,
          3,
          2,
          2,
          2,
          2,
          2,
          2,
          2,
          2,
          2,
          2,
          2,
          2,
          1,
          1,
          1,
          1,
          1,
          1,
          1,
          1,
          1,
          1,
          1,
          1,
          1,
          1
         ],
         "yaxis": "y"
        }
       ],
       "layout": {
        "barmode": "relative",
        "legend": {
         "tracegroupgap": 0
        },
        "margin": {
         "t": 60
        },
        "template": {
         "data": {
          "bar": [
           {
            "error_x": {
             "color": "#2a3f5f"
            },
            "error_y": {
             "color": "#2a3f5f"
            },
            "marker": {
             "line": {
              "color": "#E5ECF6",
              "width": 0.5
             },
             "pattern": {
              "fillmode": "overlay",
              "size": 10,
              "solidity": 0.2
             }
            },
            "type": "bar"
           }
          ],
          "barpolar": [
           {
            "marker": {
             "line": {
              "color": "#E5ECF6",
              "width": 0.5
             },
             "pattern": {
              "fillmode": "overlay",
              "size": 10,
              "solidity": 0.2
             }
            },
            "type": "barpolar"
           }
          ],
          "carpet": [
           {
            "aaxis": {
             "endlinecolor": "#2a3f5f",
             "gridcolor": "white",
             "linecolor": "white",
             "minorgridcolor": "white",
             "startlinecolor": "#2a3f5f"
            },
            "baxis": {
             "endlinecolor": "#2a3f5f",
             "gridcolor": "white",
             "linecolor": "white",
             "minorgridcolor": "white",
             "startlinecolor": "#2a3f5f"
            },
            "type": "carpet"
           }
          ],
          "choropleth": [
           {
            "colorbar": {
             "outlinewidth": 0,
             "ticks": ""
            },
            "type": "choropleth"
           }
          ],
          "contour": [
           {
            "colorbar": {
             "outlinewidth": 0,
             "ticks": ""
            },
            "colorscale": [
             [
              0,
              "#0d0887"
             ],
             [
              0.1111111111111111,
              "#46039f"
             ],
             [
              0.2222222222222222,
              "#7201a8"
             ],
             [
              0.3333333333333333,
              "#9c179e"
             ],
             [
              0.4444444444444444,
              "#bd3786"
             ],
             [
              0.5555555555555556,
              "#d8576b"
             ],
             [
              0.6666666666666666,
              "#ed7953"
             ],
             [
              0.7777777777777778,
              "#fb9f3a"
             ],
             [
              0.8888888888888888,
              "#fdca26"
             ],
             [
              1,
              "#f0f921"
             ]
            ],
            "type": "contour"
           }
          ],
          "contourcarpet": [
           {
            "colorbar": {
             "outlinewidth": 0,
             "ticks": ""
            },
            "type": "contourcarpet"
           }
          ],
          "heatmap": [
           {
            "colorbar": {
             "outlinewidth": 0,
             "ticks": ""
            },
            "colorscale": [
             [
              0,
              "#0d0887"
             ],
             [
              0.1111111111111111,
              "#46039f"
             ],
             [
              0.2222222222222222,
              "#7201a8"
             ],
             [
              0.3333333333333333,
              "#9c179e"
             ],
             [
              0.4444444444444444,
              "#bd3786"
             ],
             [
              0.5555555555555556,
              "#d8576b"
             ],
             [
              0.6666666666666666,
              "#ed7953"
             ],
             [
              0.7777777777777778,
              "#fb9f3a"
             ],
             [
              0.8888888888888888,
              "#fdca26"
             ],
             [
              1,
              "#f0f921"
             ]
            ],
            "type": "heatmap"
           }
          ],
          "heatmapgl": [
           {
            "colorbar": {
             "outlinewidth": 0,
             "ticks": ""
            },
            "colorscale": [
             [
              0,
              "#0d0887"
             ],
             [
              0.1111111111111111,
              "#46039f"
             ],
             [
              0.2222222222222222,
              "#7201a8"
             ],
             [
              0.3333333333333333,
              "#9c179e"
             ],
             [
              0.4444444444444444,
              "#bd3786"
             ],
             [
              0.5555555555555556,
              "#d8576b"
             ],
             [
              0.6666666666666666,
              "#ed7953"
             ],
             [
              0.7777777777777778,
              "#fb9f3a"
             ],
             [
              0.8888888888888888,
              "#fdca26"
             ],
             [
              1,
              "#f0f921"
             ]
            ],
            "type": "heatmapgl"
           }
          ],
          "histogram": [
           {
            "marker": {
             "pattern": {
              "fillmode": "overlay",
              "size": 10,
              "solidity": 0.2
             }
            },
            "type": "histogram"
           }
          ],
          "histogram2d": [
           {
            "colorbar": {
             "outlinewidth": 0,
             "ticks": ""
            },
            "colorscale": [
             [
              0,
              "#0d0887"
             ],
             [
              0.1111111111111111,
              "#46039f"
             ],
             [
              0.2222222222222222,
              "#7201a8"
             ],
             [
              0.3333333333333333,
              "#9c179e"
             ],
             [
              0.4444444444444444,
              "#bd3786"
             ],
             [
              0.5555555555555556,
              "#d8576b"
             ],
             [
              0.6666666666666666,
              "#ed7953"
             ],
             [
              0.7777777777777778,
              "#fb9f3a"
             ],
             [
              0.8888888888888888,
              "#fdca26"
             ],
             [
              1,
              "#f0f921"
             ]
            ],
            "type": "histogram2d"
           }
          ],
          "histogram2dcontour": [
           {
            "colorbar": {
             "outlinewidth": 0,
             "ticks": ""
            },
            "colorscale": [
             [
              0,
              "#0d0887"
             ],
             [
              0.1111111111111111,
              "#46039f"
             ],
             [
              0.2222222222222222,
              "#7201a8"
             ],
             [
              0.3333333333333333,
              "#9c179e"
             ],
             [
              0.4444444444444444,
              "#bd3786"
             ],
             [
              0.5555555555555556,
              "#d8576b"
             ],
             [
              0.6666666666666666,
              "#ed7953"
             ],
             [
              0.7777777777777778,
              "#fb9f3a"
             ],
             [
              0.8888888888888888,
              "#fdca26"
             ],
             [
              1,
              "#f0f921"
             ]
            ],
            "type": "histogram2dcontour"
           }
          ],
          "mesh3d": [
           {
            "colorbar": {
             "outlinewidth": 0,
             "ticks": ""
            },
            "type": "mesh3d"
           }
          ],
          "parcoords": [
           {
            "line": {
             "colorbar": {
              "outlinewidth": 0,
              "ticks": ""
             }
            },
            "type": "parcoords"
           }
          ],
          "pie": [
           {
            "automargin": true,
            "type": "pie"
           }
          ],
          "scatter": [
           {
            "fillpattern": {
             "fillmode": "overlay",
             "size": 10,
             "solidity": 0.2
            },
            "type": "scatter"
           }
          ],
          "scatter3d": [
           {
            "line": {
             "colorbar": {
              "outlinewidth": 0,
              "ticks": ""
             }
            },
            "marker": {
             "colorbar": {
              "outlinewidth": 0,
              "ticks": ""
             }
            },
            "type": "scatter3d"
           }
          ],
          "scattercarpet": [
           {
            "marker": {
             "colorbar": {
              "outlinewidth": 0,
              "ticks": ""
             }
            },
            "type": "scattercarpet"
           }
          ],
          "scattergeo": [
           {
            "marker": {
             "colorbar": {
              "outlinewidth": 0,
              "ticks": ""
             }
            },
            "type": "scattergeo"
           }
          ],
          "scattergl": [
           {
            "marker": {
             "colorbar": {
              "outlinewidth": 0,
              "ticks": ""
             }
            },
            "type": "scattergl"
           }
          ],
          "scattermapbox": [
           {
            "marker": {
             "colorbar": {
              "outlinewidth": 0,
              "ticks": ""
             }
            },
            "type": "scattermapbox"
           }
          ],
          "scatterpolar": [
           {
            "marker": {
             "colorbar": {
              "outlinewidth": 0,
              "ticks": ""
             }
            },
            "type": "scatterpolar"
           }
          ],
          "scatterpolargl": [
           {
            "marker": {
             "colorbar": {
              "outlinewidth": 0,
              "ticks": ""
             }
            },
            "type": "scatterpolargl"
           }
          ],
          "scatterternary": [
           {
            "marker": {
             "colorbar": {
              "outlinewidth": 0,
              "ticks": ""
             }
            },
            "type": "scatterternary"
           }
          ],
          "surface": [
           {
            "colorbar": {
             "outlinewidth": 0,
             "ticks": ""
            },
            "colorscale": [
             [
              0,
              "#0d0887"
             ],
             [
              0.1111111111111111,
              "#46039f"
             ],
             [
              0.2222222222222222,
              "#7201a8"
             ],
             [
              0.3333333333333333,
              "#9c179e"
             ],
             [
              0.4444444444444444,
              "#bd3786"
             ],
             [
              0.5555555555555556,
              "#d8576b"
             ],
             [
              0.6666666666666666,
              "#ed7953"
             ],
             [
              0.7777777777777778,
              "#fb9f3a"
             ],
             [
              0.8888888888888888,
              "#fdca26"
             ],
             [
              1,
              "#f0f921"
             ]
            ],
            "type": "surface"
           }
          ],
          "table": [
           {
            "cells": {
             "fill": {
              "color": "#EBF0F8"
             },
             "line": {
              "color": "white"
             }
            },
            "header": {
             "fill": {
              "color": "#C8D4E3"
             },
             "line": {
              "color": "white"
             }
            },
            "type": "table"
           }
          ]
         },
         "layout": {
          "annotationdefaults": {
           "arrowcolor": "#2a3f5f",
           "arrowhead": 0,
           "arrowwidth": 1
          },
          "autotypenumbers": "strict",
          "coloraxis": {
           "colorbar": {
            "outlinewidth": 0,
            "ticks": ""
           }
          },
          "colorscale": {
           "diverging": [
            [
             0,
             "#8e0152"
            ],
            [
             0.1,
             "#c51b7d"
            ],
            [
             0.2,
             "#de77ae"
            ],
            [
             0.3,
             "#f1b6da"
            ],
            [
             0.4,
             "#fde0ef"
            ],
            [
             0.5,
             "#f7f7f7"
            ],
            [
             0.6,
             "#e6f5d0"
            ],
            [
             0.7,
             "#b8e186"
            ],
            [
             0.8,
             "#7fbc41"
            ],
            [
             0.9,
             "#4d9221"
            ],
            [
             1,
             "#276419"
            ]
           ],
           "sequential": [
            [
             0,
             "#0d0887"
            ],
            [
             0.1111111111111111,
             "#46039f"
            ],
            [
             0.2222222222222222,
             "#7201a8"
            ],
            [
             0.3333333333333333,
             "#9c179e"
            ],
            [
             0.4444444444444444,
             "#bd3786"
            ],
            [
             0.5555555555555556,
             "#d8576b"
            ],
            [
             0.6666666666666666,
             "#ed7953"
            ],
            [
             0.7777777777777778,
             "#fb9f3a"
            ],
            [
             0.8888888888888888,
             "#fdca26"
            ],
            [
             1,
             "#f0f921"
            ]
           ],
           "sequentialminus": [
            [
             0,
             "#0d0887"
            ],
            [
             0.1111111111111111,
             "#46039f"
            ],
            [
             0.2222222222222222,
             "#7201a8"
            ],
            [
             0.3333333333333333,
             "#9c179e"
            ],
            [
             0.4444444444444444,
             "#bd3786"
            ],
            [
             0.5555555555555556,
             "#d8576b"
            ],
            [
             0.6666666666666666,
             "#ed7953"
            ],
            [
             0.7777777777777778,
             "#fb9f3a"
            ],
            [
             0.8888888888888888,
             "#fdca26"
            ],
            [
             1,
             "#f0f921"
            ]
           ]
          },
          "colorway": [
           "#636efa",
           "#EF553B",
           "#00cc96",
           "#ab63fa",
           "#FFA15A",
           "#19d3f3",
           "#FF6692",
           "#B6E880",
           "#FF97FF",
           "#FECB52"
          ],
          "font": {
           "color": "#2a3f5f"
          },
          "geo": {
           "bgcolor": "white",
           "lakecolor": "white",
           "landcolor": "#E5ECF6",
           "showlakes": true,
           "showland": true,
           "subunitcolor": "white"
          },
          "hoverlabel": {
           "align": "left"
          },
          "hovermode": "closest",
          "mapbox": {
           "style": "light"
          },
          "paper_bgcolor": "white",
          "plot_bgcolor": "#E5ECF6",
          "polar": {
           "angularaxis": {
            "gridcolor": "white",
            "linecolor": "white",
            "ticks": ""
           },
           "bgcolor": "#E5ECF6",
           "radialaxis": {
            "gridcolor": "white",
            "linecolor": "white",
            "ticks": ""
           }
          },
          "scene": {
           "xaxis": {
            "backgroundcolor": "#E5ECF6",
            "gridcolor": "white",
            "gridwidth": 2,
            "linecolor": "white",
            "showbackground": true,
            "ticks": "",
            "zerolinecolor": "white"
           },
           "yaxis": {
            "backgroundcolor": "#E5ECF6",
            "gridcolor": "white",
            "gridwidth": 2,
            "linecolor": "white",
            "showbackground": true,
            "ticks": "",
            "zerolinecolor": "white"
           },
           "zaxis": {
            "backgroundcolor": "#E5ECF6",
            "gridcolor": "white",
            "gridwidth": 2,
            "linecolor": "white",
            "showbackground": true,
            "ticks": "",
            "zerolinecolor": "white"
           }
          },
          "shapedefaults": {
           "line": {
            "color": "#2a3f5f"
           }
          },
          "ternary": {
           "aaxis": {
            "gridcolor": "white",
            "linecolor": "white",
            "ticks": ""
           },
           "baxis": {
            "gridcolor": "white",
            "linecolor": "white",
            "ticks": ""
           },
           "bgcolor": "#E5ECF6",
           "caxis": {
            "gridcolor": "white",
            "linecolor": "white",
            "ticks": ""
           }
          },
          "title": {
           "x": 0.05
          },
          "xaxis": {
           "automargin": true,
           "gridcolor": "white",
           "linecolor": "white",
           "ticks": "",
           "title": {
            "standoff": 15
           },
           "zerolinecolor": "white",
           "zerolinewidth": 2
          },
          "yaxis": {
           "automargin": true,
           "gridcolor": "white",
           "linecolor": "white",
           "ticks": "",
           "title": {
            "standoff": 15
           },
           "zerolinecolor": "white",
           "zerolinewidth": 2
          }
         }
        },
        "xaxis": {
         "anchor": "y",
         "domain": [
          0,
          1
         ],
         "title": {
          "text": "Industry"
         }
        },
        "yaxis": {
         "anchor": "x",
         "domain": [
          0,
          1
         ],
         "title": {
          "text": "Count"
         }
        }
       }
      }
     },
     "metadata": {},
     "output_type": "display_data"
    }
   ],
   "source": [
    "industry = df.groupby(['Industry']).size().reset_index(name = 'Count').sort_values('Count', ascending=False)\n",
    "\n",
    "px.bar(industry, x='Industry', y='Count')\n"
   ]
  },
  {
   "cell_type": "code",
   "execution_count": null,
   "metadata": {},
   "outputs": [],
   "source": []
  }
 ],
 "metadata": {
  "kernelspec": {
   "display_name": "Python 3.10.4 64-bit",
   "language": "python",
   "name": "python3"
  },
  "language_info": {
   "codemirror_mode": {
    "name": "ipython",
    "version": 3
   },
   "file_extension": ".py",
   "mimetype": "text/x-python",
   "name": "python",
   "nbconvert_exporter": "python",
   "pygments_lexer": "ipython3",
   "version": "3.10.4"
  },
  "orig_nbformat": 4,
  "vscode": {
   "interpreter": {
    "hash": "8c3d4d9970fc5c09c50d9318a9c7fbf4d0159e4b28833276f5678ee22bded273"
   }
  }
 },
 "nbformat": 4,
 "nbformat_minor": 2
}
