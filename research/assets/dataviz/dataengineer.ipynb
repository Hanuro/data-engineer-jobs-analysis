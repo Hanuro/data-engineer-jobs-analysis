{
 "cells": [
  {
   "cell_type": "markdown",
   "metadata": {},
   "source": [
    "# Imports"
   ]
  },
  {
   "cell_type": "code",
   "execution_count": null,
   "metadata": {},
   "outputs": [],
   "source": [
    "import pandas as pd\n",
    "import numpy as np\n",
    "import plotly.express as px\n",
    "import seaborn as sns\n",
    "import matplotlib.pyplot as plt\n",
    "import missingno\n",
    "from sklearn.impute import KNNImputer"
   ]
  },
  {
   "cell_type": "markdown",
   "metadata": {},
   "source": [
    "# Pre-processing"
   ]
  },
  {
   "cell_type": "code",
   "execution_count": null,
   "metadata": {},
   "outputs": [],
   "source": [
    "df = pd.read_csv(\"DataEngineer.csv\")\n",
    "df.head()"
   ]
  },
  {
   "cell_type": "code",
   "execution_count": null,
   "metadata": {},
   "outputs": [],
   "source": [
    "df.columns"
   ]
  },
  {
   "cell_type": "code",
   "execution_count": null,
   "metadata": {},
   "outputs": [],
   "source": [
    "df.replace('-1', np.nan, inplace=True)\n",
    "df.replace(-1, np.nan, inplace=True)\n",
    "df.replace('Unknown', np.nan, inplace=True)"
   ]
  },
  {
   "cell_type": "code",
   "execution_count": null,
   "metadata": {},
   "outputs": [],
   "source": [
    "df.isnull().mean()"
   ]
  },
  {
   "cell_type": "code",
   "execution_count": null,
   "metadata": {},
   "outputs": [],
   "source": [
    "df['Type of ownership'].replace(regex='Company -', value='', inplace=True)\n",
    "df.replace(regex='\\\\r', value='', inplace=True)\n",
    "df.replace(regex='\\\\n', value=' ', inplace=True)\n",
    "df"
   ]
  },
  {
   "cell_type": "code",
   "execution_count": null,
   "metadata": {},
   "outputs": [],
   "source": [
    "list_str_obj_cols = df.columns[df.dtypes == \"object\"].tolist()\n",
    "for str_obj_col in list_str_obj_cols:\n",
    "    df[str_obj_col] = df[str_obj_col].astype(\"category\")"
   ]
  },
  {
   "cell_type": "code",
   "execution_count": null,
   "metadata": {},
   "outputs": [],
   "source": [
    "df.dtypes"
   ]
  },
  {
   "cell_type": "code",
   "execution_count": null,
   "metadata": {},
   "outputs": [],
   "source": [
    "df.duplicated(keep=False).sum()\n"
   ]
  },
  {
   "cell_type": "code",
   "execution_count": null,
   "metadata": {},
   "outputs": [],
   "source": [
    "missingno.bar(df.iloc[:, :], color=\"green\", figsize=(10, 5), fontsize=12)\n",
    "plt.title('Non nan values')\n"
   ]
  },
  {
   "cell_type": "code",
   "execution_count": null,
   "metadata": {},
   "outputs": [],
   "source": [
    "missingno.matrix(df.iloc[:, :], figsize=(\n",
    "    10, 5), fontsize=12, sparkline=False)\n",
    "\n",
    "plt.title('Nan matrix')"
   ]
  },
  {
   "cell_type": "code",
   "execution_count": null,
   "metadata": {},
   "outputs": [],
   "source": [
    "df['Salary Estimate mean'] = df['Salary Estimate']\n",
    "df['Salary Estimate mean'].replace(regex='\\(Glassdoor est.\\)', value='', inplace=True)\n",
    "df['Salary Estimate mean'].replace(regex='\\(Employer est.\\)', value='', inplace=True)\n",
    "df['Salary Estimate mean'].replace(regex='K', value='000', inplace=True)\n",
    "df['Salary Estimate mean'].replace(regex='\\$', value='', inplace=True)\n",
    "df['Salary Estimate mean'] = df['Salary Estimate mean'].str.split('-', expand=True).astype(int).mean(axis=1)\n",
    "px.box(df, x='Salary Estimate mean', title='Boxplot of Salary Estimate\\'s mean')\n"
   ]
  },
  {
   "cell_type": "code",
   "execution_count": null,
   "metadata": {},
   "outputs": [],
   "source": [
    "df.drop(columns=['Job Description', 'Company Name', 'Competitors', 'Easy Apply', 'Competitors'],inplace=True)"
   ]
  },
  {
   "cell_type": "code",
   "execution_count": null,
   "metadata": {},
   "outputs": [],
   "source": [
    "missingno.bar(df.iloc[:, :], color=\"green\", figsize=(10, 5), fontsize=12)\n",
    "plt.title('Nan values')\n"
   ]
  },
  {
   "cell_type": "code",
   "execution_count": null,
   "metadata": {},
   "outputs": [],
   "source": [
    "missingno.matrix(df.iloc[:, :], figsize=(\n",
    "    10, 5), fontsize=12, sparkline=False)\n",
    "\n",
    "plt.title('Nan matrix')"
   ]
  },
  {
   "cell_type": "code",
   "execution_count": null,
   "metadata": {},
   "outputs": [],
   "source": [
    "knn_imp = KNNImputer(n_neighbors=3)\n",
    "# fit and transform the imputer on the dataset\n",
    "df_knn = pd.DataFrame(knn_imp.fit_transform(df), columns=['Rating', 'Founded', 'Salary Estimate'])\n"
   ]
  },
  {
   "cell_type": "code",
   "execution_count": null,
   "metadata": {},
   "outputs": [],
   "source": [
    "df_knn.isnull().sum()"
   ]
  },
  {
   "cell_type": "code",
   "execution_count": null,
   "metadata": {},
   "outputs": [],
   "source": [
    "df['Rating'].plot.kde(color='r')\n",
    "df_knn[\"Rating\"].plot.kde(color='y')\n"
   ]
  },
  {
   "cell_type": "code",
   "execution_count": null,
   "metadata": {},
   "outputs": [],
   "source": [
    "df['Size'].plot.kde(color='r')\n",
    "df_knn[\"Size\"].plot.kde(color='y')\n"
   ]
  },
  {
   "cell_type": "code",
   "execution_count": null,
   "metadata": {},
   "outputs": [],
   "source": [
    "df['Player_Score_3'].plot.kde(color='r')\n",
    "df_knn[\"Player_Score_3\"].plot.kde(color='y')\n"
   ]
  },
  {
   "cell_type": "code",
   "execution_count": null,
   "metadata": {},
   "outputs": [],
   "source": [
    "df['Player_Score_3'].plot.kde(color='r')\n",
    "df_knn[\"Player_Score_3\"].plot.kde(color='y')\n"
   ]
  },
  {
   "cell_type": "markdown",
   "metadata": {},
   "source": [
    "# Visualizations"
   ]
  },
  {
   "cell_type": "code",
   "execution_count": null,
   "metadata": {},
   "outputs": [],
   "source": [
    "industry = df.groupby(['Industry']).size().reset_index(name = 'Count').sort_values('Count', ascending=False)\n",
    "\n",
    "px.bar(industry, x='Industry', y='Count')\n"
   ]
  },
  {
   "cell_type": "code",
   "execution_count": null,
   "metadata": {},
   "outputs": [],
   "source": []
  }
 ],
 "metadata": {
  "kernelspec": {
   "display_name": "Python 3.11.0 64-bit",
   "language": "python",
   "name": "python3"
  },
  "language_info": {
   "codemirror_mode": {
    "name": "ipython",
    "version": 3
   },
   "file_extension": ".py",
   "mimetype": "text/x-python",
   "name": "python",
   "nbconvert_exporter": "python",
   "pygments_lexer": "ipython3",
   "version": "3.11.0"
  },
  "orig_nbformat": 4,
  "vscode": {
   "interpreter": {
    "hash": "1eaddc2cb33274cb8d07c95d963fb7284d371bd13f214bdf9300628d93ff1773"
   }
  }
 },
 "nbformat": 4,
 "nbformat_minor": 2
}
